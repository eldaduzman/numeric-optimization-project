{
 "cells": [
  {
   "cell_type": "code",
   "execution_count": null,
   "id": "047386c6",
   "metadata": {},
   "outputs": [],
   "source": []
  },
  {
   "cell_type": "code",
   "execution_count": 7,
   "id": "2504bdf8",
   "metadata": {},
   "outputs": [
    {
     "name": "stdout",
     "output_type": "stream",
     "text": [
      "\n",
      "===== SUMMARY =====\n",
      "       final_$   cum_%\n",
      "CVaR   7760.80  676.08\n",
      "MVar   7168.31  616.83\n",
      "MSFT   3596.35  259.64\n",
      "MRK    1553.57   55.36\n",
      "GOOGL  2380.73  138.07\n",
      "CVX    1129.64   12.96\n",
      "\n",
      "===== LAST CVaR WEIGHTS (|w| ≥ 0.0000) =====\n",
      "company\n",
      "CVX      0.016653\n",
      "GOOGL    0.165433\n",
      "JNJ      0.201692\n",
      "MRK      0.190432\n",
      "PFE      0.072406\n",
      "XOM      0.353385\n",
      "\n",
      "===== LAST MVar WEIGHTS (|w| ≥ 0.0000) =====\n",
      "company\n",
      "COP      0.017186\n",
      "GOOGL    0.198778\n",
      "JNJ      0.166940\n",
      "MRK      0.155129\n",
      "PFE      0.143891\n",
      "XOM      0.318076\n"
     ]
    },
    {
     "data": {
      "application/vnd.plotly.v1+json": {
       "config": {
        "plotlyServerURL": "https://plot.ly"
       },
       "data": [
        {
         "mode": "lines",
         "name": "CVaR",
         "type": "scatter",
         "x": [
          "2015-02-28T23:59:59.999999999",
          "2015-03-31T23:59:59.999999999",
          "2015-04-30T23:59:59.999999999",
          "2015-05-31T23:59:59.999999999",
          "2015-06-30T23:59:59.999999999",
          "2015-07-31T23:59:59.999999999",
          "2015-08-31T23:59:59.999999999",
          "2015-09-30T23:59:59.999999999",
          "2015-10-31T23:59:59.999999999",
          "2015-11-30T23:59:59.999999999",
          "2015-12-31T23:59:59.999999999",
          "2016-01-31T23:59:59.999999999",
          "2016-02-29T23:59:59.999999999",
          "2016-03-31T23:59:59.999999999",
          "2016-04-30T23:59:59.999999999",
          "2016-05-31T23:59:59.999999999",
          "2016-06-30T23:59:59.999999999",
          "2016-07-31T23:59:59.999999999",
          "2016-08-31T23:59:59.999999999",
          "2016-09-30T23:59:59.999999999",
          "2016-10-31T23:59:59.999999999",
          "2016-11-30T23:59:59.999999999",
          "2016-12-31T23:59:59.999999999",
          "2017-01-31T23:59:59.999999999",
          "2017-02-28T23:59:59.999999999",
          "2017-03-31T23:59:59.999999999",
          "2017-04-30T23:59:59.999999999",
          "2017-05-31T23:59:59.999999999",
          "2017-06-30T23:59:59.999999999",
          "2017-07-31T23:59:59.999999999",
          "2017-08-31T23:59:59.999999999",
          "2017-09-30T23:59:59.999999999",
          "2017-10-31T23:59:59.999999999",
          "2017-11-30T23:59:59.999999999",
          "2017-12-31T23:59:59.999999999",
          "2018-01-31T23:59:59.999999999",
          "2018-02-28T23:59:59.999999999",
          "2018-03-31T23:59:59.999999999",
          "2018-04-30T23:59:59.999999999",
          "2018-05-31T23:59:59.999999999",
          "2018-06-30T23:59:59.999999999",
          "2018-07-31T23:59:59.999999999",
          "2018-08-31T23:59:59.999999999",
          "2018-09-30T23:59:59.999999999",
          "2018-10-31T23:59:59.999999999",
          "2018-11-30T23:59:59.999999999",
          "2018-12-31T23:59:59.999999999",
          "2019-01-31T23:59:59.999999999",
          "2019-02-28T23:59:59.999999999",
          "2019-03-31T23:59:59.999999999",
          "2019-04-30T23:59:59.999999999",
          "2019-05-31T23:59:59.999999999",
          "2019-06-30T23:59:59.999999999",
          "2019-07-31T23:59:59.999999999",
          "2019-08-31T23:59:59.999999999",
          "2019-09-30T23:59:59.999999999",
          "2019-10-31T23:59:59.999999999",
          "2019-11-30T23:59:59.999999999",
          "2019-12-31T23:59:59.999999999"
         ],
         "y": {
          "bdata": "MLsBvaeLj0BEV+XJGVWPQG1WBVxufY9ApUj8AqjRj0D4/j1SETCPQMpOPyw8545AosXuk1lljEAo+7ILhA+KQKALywwiRopABzsrxb5/ikAzqlSidb2KQHPAVG612IpA7xcolGozi0AI6NhQJbCMQHWADPUaeY5AM0gvEDdskEAnaZJLXqCSQLN09KupFJZALb4TPAOXmUAb7XEAfJSdQOq9yR160KBAKtezpvYHo0BfNVywt/+lQJ+/SXRV6KVAcILXNqbEpkDxPHOt1YinQL5LX3hlVahAnzs+JphBqUD++/spXgyqQGyxF+KC/KpA8aoM6hKzq0DEnXcpA/asQF5yZTHiWK5AWbsqgcDFr0AqNgzhz8qwQMYWm/oEpbBAoX2tHji0r0Bw6OXwZDatQBuQekfUmatA8BsRr5upqkDMvEcYZuKrQGUznXJX/q5AyOYsfrk4sEDD1fvKKWmxQFVsMKBUFbJAqcd8UAxBs0Bg/MuE8V2yQODxNgcdAbJAL94aio6ds0APbaz80FO2QHTptwwVXLhASboG3b6nt0ARAM0q6FC4QKAOzIhDo7lA36txe4zjuUDuJyEoMH66QPmBrNQzY7tAP6d3ucvsvECdSEd0zVC+QA==",
          "dtype": "f8"
         }
        },
        {
         "mode": "lines",
         "name": "MVar",
         "type": "scatter",
         "x": [
          "2015-02-28T23:59:59.999999999",
          "2015-03-31T23:59:59.999999999",
          "2015-04-30T23:59:59.999999999",
          "2015-05-31T23:59:59.999999999",
          "2015-06-30T23:59:59.999999999",
          "2015-07-31T23:59:59.999999999",
          "2015-08-31T23:59:59.999999999",
          "2015-09-30T23:59:59.999999999",
          "2015-10-31T23:59:59.999999999",
          "2015-11-30T23:59:59.999999999",
          "2015-12-31T23:59:59.999999999",
          "2016-01-31T23:59:59.999999999",
          "2016-02-29T23:59:59.999999999",
          "2016-03-31T23:59:59.999999999",
          "2016-04-30T23:59:59.999999999",
          "2016-05-31T23:59:59.999999999",
          "2016-06-30T23:59:59.999999999",
          "2016-07-31T23:59:59.999999999",
          "2016-08-31T23:59:59.999999999",
          "2016-09-30T23:59:59.999999999",
          "2016-10-31T23:59:59.999999999",
          "2016-11-30T23:59:59.999999999",
          "2016-12-31T23:59:59.999999999",
          "2017-01-31T23:59:59.999999999",
          "2017-02-28T23:59:59.999999999",
          "2017-03-31T23:59:59.999999999",
          "2017-04-30T23:59:59.999999999",
          "2017-05-31T23:59:59.999999999",
          "2017-06-30T23:59:59.999999999",
          "2017-07-31T23:59:59.999999999",
          "2017-08-31T23:59:59.999999999",
          "2017-09-30T23:59:59.999999999",
          "2017-10-31T23:59:59.999999999",
          "2017-11-30T23:59:59.999999999",
          "2017-12-31T23:59:59.999999999",
          "2018-01-31T23:59:59.999999999",
          "2018-02-28T23:59:59.999999999",
          "2018-03-31T23:59:59.999999999",
          "2018-04-30T23:59:59.999999999",
          "2018-05-31T23:59:59.999999999",
          "2018-06-30T23:59:59.999999999",
          "2018-07-31T23:59:59.999999999",
          "2018-08-31T23:59:59.999999999",
          "2018-09-30T23:59:59.999999999",
          "2018-10-31T23:59:59.999999999",
          "2018-11-30T23:59:59.999999999",
          "2018-12-31T23:59:59.999999999",
          "2019-01-31T23:59:59.999999999",
          "2019-02-28T23:59:59.999999999",
          "2019-03-31T23:59:59.999999999",
          "2019-04-30T23:59:59.999999999",
          "2019-05-31T23:59:59.999999999",
          "2019-06-30T23:59:59.999999999",
          "2019-07-31T23:59:59.999999999",
          "2019-08-31T23:59:59.999999999",
          "2019-09-30T23:59:59.999999999",
          "2019-10-31T23:59:59.999999999",
          "2019-11-30T23:59:59.999999999",
          "2019-12-31T23:59:59.999999999"
         ],
         "y": {
          "bdata": "eOcNAuPZkEB6Hj0dRj+RQPYxuFg3R5FA2QaHOBxfkUAxFuCYGPOQQGYfjrfbxZBAg1/oFxS9jkBPNTtVRh6MQFhYm/7cQoxAMwLIH707jECRC5EG8x2MQPqzKXVlPYxAWOYcbJhMjEDV2SJTnmuNQMNpoA516o5A7/RTTg+1kEDkV8yPoNaSQEuj+Xy5OpZANMwZl+V0mUBt4FO1xJOdQKIlzlraqKBAo32XPqqeokBVFvO8LiOlQOOqf4VVDKVASlbXSouYpUBoa+k4r9+lQPsU10aWeaZAih/XmiV2p0D91GXgmvunQBYpf9lAwqhAPEaBgN6eqUCRXPDUXQ2rQO6OKDg3vKxAXroQ4UibrkD/3bFeV2WwQMH+1oCgQrBA8XD32swzr0A5+kqU5cysQKipOV/mNKtAvXjHa+GKqkAG1YHEWPerQH5Vd+3+Ka9AdFkM2s5esECtjfECucCxQBHVTO6GcrJA0cd+ybWDs0A3e2rNAZqyQD/dU6WTQ7JA020/mp7Ts0AGuuHFPnW2QELkoSXQP7hAx0ugjmF5t0BCgHY/D/K3QPX+3RJx97hAC3mHnufFuED3wo48tPy4QH6lmy9GnrlAf71NFH/ZukDpKZYRUAC8QA==",
          "dtype": "f8"
         }
        },
        {
         "mode": "lines",
         "name": "MSFT",
         "type": "scatter",
         "x": [
          "2015-02-28T23:59:59.999999999",
          "2015-03-31T23:59:59.999999999",
          "2015-04-30T23:59:59.999999999",
          "2015-05-31T23:59:59.999999999",
          "2015-06-30T23:59:59.999999999",
          "2015-07-31T23:59:59.999999999",
          "2015-08-31T23:59:59.999999999",
          "2015-09-30T23:59:59.999999999",
          "2015-10-31T23:59:59.999999999",
          "2015-11-30T23:59:59.999999999",
          "2015-12-31T23:59:59.999999999",
          "2016-01-31T23:59:59.999999999",
          "2016-02-29T23:59:59.999999999",
          "2016-03-31T23:59:59.999999999",
          "2016-04-30T23:59:59.999999999",
          "2016-05-31T23:59:59.999999999",
          "2016-06-30T23:59:59.999999999",
          "2016-07-31T23:59:59.999999999",
          "2016-08-31T23:59:59.999999999",
          "2016-09-30T23:59:59.999999999",
          "2016-10-31T23:59:59.999999999",
          "2016-11-30T23:59:59.999999999",
          "2016-12-31T23:59:59.999999999",
          "2017-01-31T23:59:59.999999999",
          "2017-02-28T23:59:59.999999999",
          "2017-03-31T23:59:59.999999999",
          "2017-04-30T23:59:59.999999999",
          "2017-05-31T23:59:59.999999999",
          "2017-06-30T23:59:59.999999999",
          "2017-07-31T23:59:59.999999999",
          "2017-08-31T23:59:59.999999999",
          "2017-09-30T23:59:59.999999999",
          "2017-10-31T23:59:59.999999999",
          "2017-11-30T23:59:59.999999999",
          "2017-12-31T23:59:59.999999999",
          "2018-01-31T23:59:59.999999999",
          "2018-02-28T23:59:59.999999999",
          "2018-03-31T23:59:59.999999999",
          "2018-04-30T23:59:59.999999999",
          "2018-05-31T23:59:59.999999999",
          "2018-06-30T23:59:59.999999999",
          "2018-07-31T23:59:59.999999999",
          "2018-08-31T23:59:59.999999999",
          "2018-09-30T23:59:59.999999999",
          "2018-10-31T23:59:59.999999999",
          "2018-11-30T23:59:59.999999999",
          "2018-12-31T23:59:59.999999999",
          "2019-01-31T23:59:59.999999999",
          "2019-02-28T23:59:59.999999999",
          "2019-03-31T23:59:59.999999999",
          "2019-04-30T23:59:59.999999999",
          "2019-05-31T23:59:59.999999999",
          "2019-06-30T23:59:59.999999999",
          "2019-07-31T23:59:59.999999999",
          "2019-08-31T23:59:59.999999999",
          "2019-09-30T23:59:59.999999999",
          "2019-10-31T23:59:59.999999999",
          "2019-11-30T23:59:59.999999999",
          "2019-12-31T23:59:59.999999999"
         ],
         "y": {
          "bdata": "AAAAAABAj0DaSS8WBPqMQIV9WrLxVJFAZuoxiZKykEDqzApnu3aPQFtNcyn6o5BAMbgNdcsDj0Da5LDqzIqPQKHT9wvTwZJACwI9i89dk0ArN2+v48STQGCYDkZQoZNAJBTH7kYhkkDKYdWZFa6TQMzUYxIlxZFA+7Rk46nikkDJkFAcuzuSQAHRhH1aMpRAmA5GUIF5lEAC2AykRoaUQCe9WBDoWZVA38rN2+t4lUAlgM1AaiSWQMi/y55gCZdAKI7djULMlkBuQ93ywHeXQGe7tgbtZJhA6cWCQM/imEC4qPafzI+YQBT98e+y55lA2AykRoakmkAEehaf+4qaQH4rN2+vo51ANZeiP/79nUDmt3Lz9nqeQHxTKsto7aBA8LInWNq0oEAHiCbs00KgQD/IWk1zqaBAHLsbhRicoUA8ukoAm5GhQD5cVPtP5qJAhEdXCWADpECtcLZra2CkQIAyv5WbB6NA0YR9WrLBo0Dl5u11nBiiQHuCpU0Om6JASZSUL7H1o0C0+NxXPwOlQMYdwqOrRKdAsBlIjQwJpkC+jhOR692nQGiMO4RHR6hAuKj2n8yPqEDqlge+KcWoQNTIkFAci6lA2RMsbXL4qkB6sSDQsxisQA==",
          "dtype": "f8"
         }
        },
        {
         "mode": "lines",
         "name": "MRK",
         "type": "scatter",
         "x": [
          "2015-02-28T23:59:59.999999999",
          "2015-03-31T23:59:59.999999999",
          "2015-04-30T23:59:59.999999999",
          "2015-05-31T23:59:59.999999999",
          "2015-06-30T23:59:59.999999999",
          "2015-07-31T23:59:59.999999999",
          "2015-08-31T23:59:59.999999999",
          "2015-09-30T23:59:59.999999999",
          "2015-10-31T23:59:59.999999999",
          "2015-11-30T23:59:59.999999999",
          "2015-12-31T23:59:59.999999999",
          "2016-01-31T23:59:59.999999999",
          "2016-02-29T23:59:59.999999999",
          "2016-03-31T23:59:59.999999999",
          "2016-04-30T23:59:59.999999999",
          "2016-05-31T23:59:59.999999999",
          "2016-06-30T23:59:59.999999999",
          "2016-07-31T23:59:59.999999999",
          "2016-08-31T23:59:59.999999999",
          "2016-09-30T23:59:59.999999999",
          "2016-10-31T23:59:59.999999999",
          "2016-11-30T23:59:59.999999999",
          "2016-12-31T23:59:59.999999999",
          "2017-01-31T23:59:59.999999999",
          "2017-02-28T23:59:59.999999999",
          "2017-03-31T23:59:59.999999999",
          "2017-04-30T23:59:59.999999999",
          "2017-05-31T23:59:59.999999999",
          "2017-06-30T23:59:59.999999999",
          "2017-07-31T23:59:59.999999999",
          "2017-08-31T23:59:59.999999999",
          "2017-09-30T23:59:59.999999999",
          "2017-10-31T23:59:59.999999999",
          "2017-11-30T23:59:59.999999999",
          "2017-12-31T23:59:59.999999999",
          "2018-01-31T23:59:59.999999999",
          "2018-02-28T23:59:59.999999999",
          "2018-03-31T23:59:59.999999999",
          "2018-04-30T23:59:59.999999999",
          "2018-05-31T23:59:59.999999999",
          "2018-06-30T23:59:59.999999999",
          "2018-07-31T23:59:59.999999999",
          "2018-08-31T23:59:59.999999999",
          "2018-09-30T23:59:59.999999999",
          "2018-10-31T23:59:59.999999999",
          "2018-11-30T23:59:59.999999999",
          "2018-12-31T23:59:59.999999999",
          "2019-01-31T23:59:59.999999999",
          "2019-02-28T23:59:59.999999999",
          "2019-03-31T23:59:59.999999999",
          "2019-04-30T23:59:59.999999999",
          "2019-05-31T23:59:59.999999999",
          "2019-06-30T23:59:59.999999999",
          "2019-07-31T23:59:59.999999999",
          "2019-08-31T23:59:59.999999999",
          "2019-09-30T23:59:59.999999999",
          "2019-10-31T23:59:59.999999999",
          "2019-11-30T23:59:59.999999999",
          "2019-12-31T23:59:59.999999999"
         ],
         "y": {
          "bdata": "AAAAAABAj0AZPm2/P6+OQB1piq0Ey49AErbpFIRAkECnpT5jSmOOQOJ3U75TeY9A6j0bkV6/jED3TSLm1VyKQBbre1+5LY1AJk50FLdMjECavs7+6jKMQDT4Ys8dDYtAiCcHfg7OikAtcN8kYj6MQHBkX5AWRo1APS97FwAJjkB2SIZ4csCOQCv0VtTDT49A6I6G8zfCkEBc/+Dda6iQQFp54zBdWI9A7vfnCUxVkEAcsICzbWyPQGtDt/7Bi5BA4E35TuWUkUAArtEe0PWQQJKm2EqwopBAriNNsZVgkUAf74daExuRQCcR82q+DJFA9fowhk8LkUCIrEGsxhaRQCt5kQJ8aI1AhPJ0M9mAjUA9L3sXAAmOQGbljcN0oY9Az0ak14fxjECKW9ZJ7RONQBywgLNtbI9AhiZE/7fGj0BM7hYKnjOQQOBN+U7llJFAZYgnB35OkkB3PhEcAu+SQJdMuwq9pZNAY/i0/f4slUDm3/FVEWWUQEauTOSh3ZNAtwg3GEiylUBayxESjTKWQHpe9i4AApVANHMooWUklUDBnLUcIWGWQK0OoHleJpZAY3N6z0YUl0Do/9ZoD3iWQCk7TdosIZdAF2ZBMQFFl0B29leXQkaYQA==",
          "dtype": "f8"
         }
        },
        {
         "mode": "lines",
         "name": "GOOGL",
         "type": "scatter",
         "x": [
          "2015-02-28T23:59:59.999999999",
          "2015-03-31T23:59:59.999999999",
          "2015-04-30T23:59:59.999999999",
          "2015-05-31T23:59:59.999999999",
          "2015-06-30T23:59:59.999999999",
          "2015-07-31T23:59:59.999999999",
          "2015-08-31T23:59:59.999999999",
          "2015-09-30T23:59:59.999999999",
          "2015-10-31T23:59:59.999999999",
          "2015-11-30T23:59:59.999999999",
          "2015-12-31T23:59:59.999999999",
          "2016-01-31T23:59:59.999999999",
          "2016-02-29T23:59:59.999999999",
          "2016-03-31T23:59:59.999999999",
          "2016-04-30T23:59:59.999999999",
          "2016-05-31T23:59:59.999999999",
          "2016-06-30T23:59:59.999999999",
          "2016-07-31T23:59:59.999999999",
          "2016-08-31T23:59:59.999999999",
          "2016-09-30T23:59:59.999999999",
          "2016-10-31T23:59:59.999999999",
          "2016-11-30T23:59:59.999999999",
          "2016-12-31T23:59:59.999999999",
          "2017-01-31T23:59:59.999999999",
          "2017-02-28T23:59:59.999999999",
          "2017-03-31T23:59:59.999999999",
          "2017-04-30T23:59:59.999999999",
          "2017-05-31T23:59:59.999999999",
          "2017-06-30T23:59:59.999999999",
          "2017-07-31T23:59:59.999999999",
          "2017-08-31T23:59:59.999999999",
          "2017-09-30T23:59:59.999999999",
          "2017-10-31T23:59:59.999999999",
          "2017-11-30T23:59:59.999999999",
          "2017-12-31T23:59:59.999999999",
          "2018-01-31T23:59:59.999999999",
          "2018-02-28T23:59:59.999999999",
          "2018-03-31T23:59:59.999999999",
          "2018-04-30T23:59:59.999999999",
          "2018-05-31T23:59:59.999999999",
          "2018-06-30T23:59:59.999999999",
          "2018-07-31T23:59:59.999999999",
          "2018-08-31T23:59:59.999999999",
          "2018-09-30T23:59:59.999999999",
          "2018-10-31T23:59:59.999999999",
          "2018-11-30T23:59:59.999999999",
          "2018-12-31T23:59:59.999999999",
          "2019-01-31T23:59:59.999999999",
          "2019-02-28T23:59:59.999999999",
          "2019-03-31T23:59:59.999999999",
          "2019-04-30T23:59:59.999999999",
          "2019-05-31T23:59:59.999999999",
          "2019-06-30T23:59:59.999999999",
          "2019-07-31T23:59:59.999999999",
          "2019-08-31T23:59:59.999999999",
          "2019-09-30T23:59:59.999999999",
          "2019-10-31T23:59:59.999999999",
          "2019-11-30T23:59:59.999999999",
          "2019-12-31T23:59:59.999999999"
         ],
         "y": {
          "bdata": "AAAAAABAj0ABWO0QPs6OQGjR/6nEe45Am+OX12tLjkDPS2uJov6NQHzFfntvQ5JAMFhDTML9kUBKYmgp7bqRQMXRqyDNepRAqm+ZMmQvlUDdKOsIdpuVQMTNRwdwJZVAE0Skry7rk0Bdq8k40DCVQC1OyYxZqJNAqxxpgdrLlEB6aNQKfYqTQMPIiqe7+pVAKesIdlvvlUDceWktUVSWQCg94OCNfZZAKpjYxNGLlUBD83vG1wGWQI5drCJ/x5ZAWkgJItJ3l0AmjKx4uouXQPAYBsHDrZlAU9vOS2tpm0Bw7btbUNGZQLxZnkSmQZpACMfZc1OHmkAhd1+zkQubQFF+JNt4sJxAhDkoPjnHnEC3R1xSg0GdQD872XGhaqBAzkcHcEWpnkAEZBldVc6cQOyzkx0XSpxAzp1C9NSMnkAAqsR7cFyfQH53CyqaCqFACyY2cfQaoUClsIfxysKgQOinZ9H/SZ5AZ89NHRbRnkBRfHJOygWdQBqzkBJERJ9A56FRK/RJn0BMFU4eb1egQKUGw3VapqBA6E96wMG7nkCcjw7gihKeQD44zp6b6qBA8iDO832IoED+9zfNRfWgQMrj7RLweqFA4z04zp4bokBV4eTxdpmiQA==",
          "dtype": "f8"
         }
        },
        {
         "mode": "lines",
         "name": "CVX",
         "type": "scatter",
         "x": [
          "2015-02-28T23:59:59.999999999",
          "2015-03-31T23:59:59.999999999",
          "2015-04-30T23:59:59.999999999",
          "2015-05-31T23:59:59.999999999",
          "2015-06-30T23:59:59.999999999",
          "2015-07-31T23:59:59.999999999",
          "2015-08-31T23:59:59.999999999",
          "2015-09-30T23:59:59.999999999",
          "2015-10-31T23:59:59.999999999",
          "2015-11-30T23:59:59.999999999",
          "2015-12-31T23:59:59.999999999",
          "2016-01-31T23:59:59.999999999",
          "2016-02-29T23:59:59.999999999",
          "2016-03-31T23:59:59.999999999",
          "2016-04-30T23:59:59.999999999",
          "2016-05-31T23:59:59.999999999",
          "2016-06-30T23:59:59.999999999",
          "2016-07-31T23:59:59.999999999",
          "2016-08-31T23:59:59.999999999",
          "2016-09-30T23:59:59.999999999",
          "2016-10-31T23:59:59.999999999",
          "2016-11-30T23:59:59.999999999",
          "2016-12-31T23:59:59.999999999",
          "2017-01-31T23:59:59.999999999",
          "2017-02-28T23:59:59.999999999",
          "2017-03-31T23:59:59.999999999",
          "2017-04-30T23:59:59.999999999",
          "2017-05-31T23:59:59.999999999",
          "2017-06-30T23:59:59.999999999",
          "2017-07-31T23:59:59.999999999",
          "2017-08-31T23:59:59.999999999",
          "2017-09-30T23:59:59.999999999",
          "2017-10-31T23:59:59.999999999",
          "2017-11-30T23:59:59.999999999",
          "2017-12-31T23:59:59.999999999",
          "2018-01-31T23:59:59.999999999",
          "2018-02-28T23:59:59.999999999",
          "2018-03-31T23:59:59.999999999",
          "2018-04-30T23:59:59.999999999",
          "2018-05-31T23:59:59.999999999",
          "2018-06-30T23:59:59.999999999",
          "2018-07-31T23:59:59.999999999",
          "2018-08-31T23:59:59.999999999",
          "2018-09-30T23:59:59.999999999",
          "2018-10-31T23:59:59.999999999",
          "2018-11-30T23:59:59.999999999",
          "2018-12-31T23:59:59.999999999",
          "2019-01-31T23:59:59.999999999",
          "2019-02-28T23:59:59.999999999",
          "2019-03-31T23:59:59.999999999",
          "2019-04-30T23:59:59.999999999",
          "2019-05-31T23:59:59.999999999",
          "2019-06-30T23:59:59.999999999",
          "2019-07-31T23:59:59.999999999",
          "2019-08-31T23:59:59.999999999",
          "2019-09-30T23:59:59.999999999",
          "2019-10-31T23:59:59.999999999",
          "2019-11-30T23:59:59.999999999",
          "2019-12-31T23:59:59.999999999"
         ],
         "y": {
          "bdata": "//////8/j0D4dVkUhMCOQPXVob46RJBA+pu11AgsjkCsbj2AWEKMQLqyrqwr64lA2pf2pX25h0AGay+2QhuHQKeETuoln4pA4CYB3CTAikCm63sfKFqKQFHZeH9wVIlAfBPfxDdxiECM2JARG/KLQGNWdMyK7o1AtRdboQ2WjUDZeH9wRLWOQKFQKBQKBY5AxR9fo452jUDZ8toFCSaOQLfPpKFEr45AfSYNJfpWkEDjQBTHMj2RQIEojmUaT5BAIshRBDl6kEDA8h1YvnOPQEiqtvN/QY9Aw5LVrQdQjkDH16ijxY+OQHp6DPo5/I9ASUOJvn2Gj0B57YIEszWRQJinCvNU+ZBAgTTXOpFtkUBTTnDKCVaSQHX3SpkJXJJACSN5tnlkkEAFZEor97OQQML5AuMJU5JAiQHQ26o0kkAX7Y5NiISSQPVDtH6IfpJAQuSi3bFZkUBCakdI7eiRQKAlaAlaWpBAp98ySrFrkUDTLMfvOt6PQNQI7G/WypBALYSdhbCDkUCeYdUzrAqSQJF/LfKvlZFALbumZdeskECGVc+w6jmSQKC3VUkMCJJAB5bvwPI9kUA/OKKy8V6RQNxPQKa0ApFAXEYpdtMnkUA/e/Rnj6aRQA==",
          "dtype": "f8"
         }
        }
       ],
       "layout": {
        "legend": {
         "title": {
          "text": "Series"
         }
        },
        "template": {
         "data": {
          "bar": [
           {
            "error_x": {
             "color": "#2a3f5f"
            },
            "error_y": {
             "color": "#2a3f5f"
            },
            "marker": {
             "line": {
              "color": "white",
              "width": 0.5
             },
             "pattern": {
              "fillmode": "overlay",
              "size": 10,
              "solidity": 0.2
             }
            },
            "type": "bar"
           }
          ],
          "barpolar": [
           {
            "marker": {
             "line": {
              "color": "white",
              "width": 0.5
             },
             "pattern": {
              "fillmode": "overlay",
              "size": 10,
              "solidity": 0.2
             }
            },
            "type": "barpolar"
           }
          ],
          "carpet": [
           {
            "aaxis": {
             "endlinecolor": "#2a3f5f",
             "gridcolor": "#C8D4E3",
             "linecolor": "#C8D4E3",
             "minorgridcolor": "#C8D4E3",
             "startlinecolor": "#2a3f5f"
            },
            "baxis": {
             "endlinecolor": "#2a3f5f",
             "gridcolor": "#C8D4E3",
             "linecolor": "#C8D4E3",
             "minorgridcolor": "#C8D4E3",
             "startlinecolor": "#2a3f5f"
            },
            "type": "carpet"
           }
          ],
          "choropleth": [
           {
            "colorbar": {
             "outlinewidth": 0,
             "ticks": ""
            },
            "type": "choropleth"
           }
          ],
          "contour": [
           {
            "colorbar": {
             "outlinewidth": 0,
             "ticks": ""
            },
            "colorscale": [
             [
              0,
              "#0d0887"
             ],
             [
              0.1111111111111111,
              "#46039f"
             ],
             [
              0.2222222222222222,
              "#7201a8"
             ],
             [
              0.3333333333333333,
              "#9c179e"
             ],
             [
              0.4444444444444444,
              "#bd3786"
             ],
             [
              0.5555555555555556,
              "#d8576b"
             ],
             [
              0.6666666666666666,
              "#ed7953"
             ],
             [
              0.7777777777777778,
              "#fb9f3a"
             ],
             [
              0.8888888888888888,
              "#fdca26"
             ],
             [
              1,
              "#f0f921"
             ]
            ],
            "type": "contour"
           }
          ],
          "contourcarpet": [
           {
            "colorbar": {
             "outlinewidth": 0,
             "ticks": ""
            },
            "type": "contourcarpet"
           }
          ],
          "heatmap": [
           {
            "colorbar": {
             "outlinewidth": 0,
             "ticks": ""
            },
            "colorscale": [
             [
              0,
              "#0d0887"
             ],
             [
              0.1111111111111111,
              "#46039f"
             ],
             [
              0.2222222222222222,
              "#7201a8"
             ],
             [
              0.3333333333333333,
              "#9c179e"
             ],
             [
              0.4444444444444444,
              "#bd3786"
             ],
             [
              0.5555555555555556,
              "#d8576b"
             ],
             [
              0.6666666666666666,
              "#ed7953"
             ],
             [
              0.7777777777777778,
              "#fb9f3a"
             ],
             [
              0.8888888888888888,
              "#fdca26"
             ],
             [
              1,
              "#f0f921"
             ]
            ],
            "type": "heatmap"
           }
          ],
          "histogram": [
           {
            "marker": {
             "pattern": {
              "fillmode": "overlay",
              "size": 10,
              "solidity": 0.2
             }
            },
            "type": "histogram"
           }
          ],
          "histogram2d": [
           {
            "colorbar": {
             "outlinewidth": 0,
             "ticks": ""
            },
            "colorscale": [
             [
              0,
              "#0d0887"
             ],
             [
              0.1111111111111111,
              "#46039f"
             ],
             [
              0.2222222222222222,
              "#7201a8"
             ],
             [
              0.3333333333333333,
              "#9c179e"
             ],
             [
              0.4444444444444444,
              "#bd3786"
             ],
             [
              0.5555555555555556,
              "#d8576b"
             ],
             [
              0.6666666666666666,
              "#ed7953"
             ],
             [
              0.7777777777777778,
              "#fb9f3a"
             ],
             [
              0.8888888888888888,
              "#fdca26"
             ],
             [
              1,
              "#f0f921"
             ]
            ],
            "type": "histogram2d"
           }
          ],
          "histogram2dcontour": [
           {
            "colorbar": {
             "outlinewidth": 0,
             "ticks": ""
            },
            "colorscale": [
             [
              0,
              "#0d0887"
             ],
             [
              0.1111111111111111,
              "#46039f"
             ],
             [
              0.2222222222222222,
              "#7201a8"
             ],
             [
              0.3333333333333333,
              "#9c179e"
             ],
             [
              0.4444444444444444,
              "#bd3786"
             ],
             [
              0.5555555555555556,
              "#d8576b"
             ],
             [
              0.6666666666666666,
              "#ed7953"
             ],
             [
              0.7777777777777778,
              "#fb9f3a"
             ],
             [
              0.8888888888888888,
              "#fdca26"
             ],
             [
              1,
              "#f0f921"
             ]
            ],
            "type": "histogram2dcontour"
           }
          ],
          "mesh3d": [
           {
            "colorbar": {
             "outlinewidth": 0,
             "ticks": ""
            },
            "type": "mesh3d"
           }
          ],
          "parcoords": [
           {
            "line": {
             "colorbar": {
              "outlinewidth": 0,
              "ticks": ""
             }
            },
            "type": "parcoords"
           }
          ],
          "pie": [
           {
            "automargin": true,
            "type": "pie"
           }
          ],
          "scatter": [
           {
            "fillpattern": {
             "fillmode": "overlay",
             "size": 10,
             "solidity": 0.2
            },
            "type": "scatter"
           }
          ],
          "scatter3d": [
           {
            "line": {
             "colorbar": {
              "outlinewidth": 0,
              "ticks": ""
             }
            },
            "marker": {
             "colorbar": {
              "outlinewidth": 0,
              "ticks": ""
             }
            },
            "type": "scatter3d"
           }
          ],
          "scattercarpet": [
           {
            "marker": {
             "colorbar": {
              "outlinewidth": 0,
              "ticks": ""
             }
            },
            "type": "scattercarpet"
           }
          ],
          "scattergeo": [
           {
            "marker": {
             "colorbar": {
              "outlinewidth": 0,
              "ticks": ""
             }
            },
            "type": "scattergeo"
           }
          ],
          "scattergl": [
           {
            "marker": {
             "colorbar": {
              "outlinewidth": 0,
              "ticks": ""
             }
            },
            "type": "scattergl"
           }
          ],
          "scattermap": [
           {
            "marker": {
             "colorbar": {
              "outlinewidth": 0,
              "ticks": ""
             }
            },
            "type": "scattermap"
           }
          ],
          "scattermapbox": [
           {
            "marker": {
             "colorbar": {
              "outlinewidth": 0,
              "ticks": ""
             }
            },
            "type": "scattermapbox"
           }
          ],
          "scatterpolar": [
           {
            "marker": {
             "colorbar": {
              "outlinewidth": 0,
              "ticks": ""
             }
            },
            "type": "scatterpolar"
           }
          ],
          "scatterpolargl": [
           {
            "marker": {
             "colorbar": {
              "outlinewidth": 0,
              "ticks": ""
             }
            },
            "type": "scatterpolargl"
           }
          ],
          "scatterternary": [
           {
            "marker": {
             "colorbar": {
              "outlinewidth": 0,
              "ticks": ""
             }
            },
            "type": "scatterternary"
           }
          ],
          "surface": [
           {
            "colorbar": {
             "outlinewidth": 0,
             "ticks": ""
            },
            "colorscale": [
             [
              0,
              "#0d0887"
             ],
             [
              0.1111111111111111,
              "#46039f"
             ],
             [
              0.2222222222222222,
              "#7201a8"
             ],
             [
              0.3333333333333333,
              "#9c179e"
             ],
             [
              0.4444444444444444,
              "#bd3786"
             ],
             [
              0.5555555555555556,
              "#d8576b"
             ],
             [
              0.6666666666666666,
              "#ed7953"
             ],
             [
              0.7777777777777778,
              "#fb9f3a"
             ],
             [
              0.8888888888888888,
              "#fdca26"
             ],
             [
              1,
              "#f0f921"
             ]
            ],
            "type": "surface"
           }
          ],
          "table": [
           {
            "cells": {
             "fill": {
              "color": "#EBF0F8"
             },
             "line": {
              "color": "white"
             }
            },
            "header": {
             "fill": {
              "color": "#C8D4E3"
             },
             "line": {
              "color": "white"
             }
            },
            "type": "table"
           }
          ]
         },
         "layout": {
          "annotationdefaults": {
           "arrowcolor": "#2a3f5f",
           "arrowhead": 0,
           "arrowwidth": 1
          },
          "autotypenumbers": "strict",
          "coloraxis": {
           "colorbar": {
            "outlinewidth": 0,
            "ticks": ""
           }
          },
          "colorscale": {
           "diverging": [
            [
             0,
             "#8e0152"
            ],
            [
             0.1,
             "#c51b7d"
            ],
            [
             0.2,
             "#de77ae"
            ],
            [
             0.3,
             "#f1b6da"
            ],
            [
             0.4,
             "#fde0ef"
            ],
            [
             0.5,
             "#f7f7f7"
            ],
            [
             0.6,
             "#e6f5d0"
            ],
            [
             0.7,
             "#b8e186"
            ],
            [
             0.8,
             "#7fbc41"
            ],
            [
             0.9,
             "#4d9221"
            ],
            [
             1,
             "#276419"
            ]
           ],
           "sequential": [
            [
             0,
             "#0d0887"
            ],
            [
             0.1111111111111111,
             "#46039f"
            ],
            [
             0.2222222222222222,
             "#7201a8"
            ],
            [
             0.3333333333333333,
             "#9c179e"
            ],
            [
             0.4444444444444444,
             "#bd3786"
            ],
            [
             0.5555555555555556,
             "#d8576b"
            ],
            [
             0.6666666666666666,
             "#ed7953"
            ],
            [
             0.7777777777777778,
             "#fb9f3a"
            ],
            [
             0.8888888888888888,
             "#fdca26"
            ],
            [
             1,
             "#f0f921"
            ]
           ],
           "sequentialminus": [
            [
             0,
             "#0d0887"
            ],
            [
             0.1111111111111111,
             "#46039f"
            ],
            [
             0.2222222222222222,
             "#7201a8"
            ],
            [
             0.3333333333333333,
             "#9c179e"
            ],
            [
             0.4444444444444444,
             "#bd3786"
            ],
            [
             0.5555555555555556,
             "#d8576b"
            ],
            [
             0.6666666666666666,
             "#ed7953"
            ],
            [
             0.7777777777777778,
             "#fb9f3a"
            ],
            [
             0.8888888888888888,
             "#fdca26"
            ],
            [
             1,
             "#f0f921"
            ]
           ]
          },
          "colorway": [
           "#636efa",
           "#EF553B",
           "#00cc96",
           "#ab63fa",
           "#FFA15A",
           "#19d3f3",
           "#FF6692",
           "#B6E880",
           "#FF97FF",
           "#FECB52"
          ],
          "font": {
           "color": "#2a3f5f"
          },
          "geo": {
           "bgcolor": "white",
           "lakecolor": "white",
           "landcolor": "white",
           "showlakes": true,
           "showland": true,
           "subunitcolor": "#C8D4E3"
          },
          "hoverlabel": {
           "align": "left"
          },
          "hovermode": "closest",
          "mapbox": {
           "style": "light"
          },
          "paper_bgcolor": "white",
          "plot_bgcolor": "white",
          "polar": {
           "angularaxis": {
            "gridcolor": "#EBF0F8",
            "linecolor": "#EBF0F8",
            "ticks": ""
           },
           "bgcolor": "white",
           "radialaxis": {
            "gridcolor": "#EBF0F8",
            "linecolor": "#EBF0F8",
            "ticks": ""
           }
          },
          "scene": {
           "xaxis": {
            "backgroundcolor": "white",
            "gridcolor": "#DFE8F3",
            "gridwidth": 2,
            "linecolor": "#EBF0F8",
            "showbackground": true,
            "ticks": "",
            "zerolinecolor": "#EBF0F8"
           },
           "yaxis": {
            "backgroundcolor": "white",
            "gridcolor": "#DFE8F3",
            "gridwidth": 2,
            "linecolor": "#EBF0F8",
            "showbackground": true,
            "ticks": "",
            "zerolinecolor": "#EBF0F8"
           },
           "zaxis": {
            "backgroundcolor": "white",
            "gridcolor": "#DFE8F3",
            "gridwidth": 2,
            "linecolor": "#EBF0F8",
            "showbackground": true,
            "ticks": "",
            "zerolinecolor": "#EBF0F8"
           }
          },
          "shapedefaults": {
           "line": {
            "color": "#2a3f5f"
           }
          },
          "ternary": {
           "aaxis": {
            "gridcolor": "#DFE8F3",
            "linecolor": "#A2B1C6",
            "ticks": ""
           },
           "baxis": {
            "gridcolor": "#DFE8F3",
            "linecolor": "#A2B1C6",
            "ticks": ""
           },
           "bgcolor": "white",
           "caxis": {
            "gridcolor": "#DFE8F3",
            "linecolor": "#A2B1C6",
            "ticks": ""
           }
          },
          "title": {
           "x": 0.05
          },
          "xaxis": {
           "automargin": true,
           "gridcolor": "#EBF0F8",
           "linecolor": "#EBF0F8",
           "ticks": "",
           "title": {
            "standoff": 15
           },
           "zerolinecolor": "#EBF0F8",
           "zerolinewidth": 2
          },
          "yaxis": {
           "automargin": true,
           "gridcolor": "#EBF0F8",
           "linecolor": "#EBF0F8",
           "ticks": "",
           "title": {
            "standoff": 15
           },
           "zerolinecolor": "#EBF0F8",
           "zerolinewidth": 2
          }
         }
        },
        "title": {
         "text": "Equity curve — re‑balance = M"
        },
        "xaxis": {
         "title": {
          "text": "Date"
         }
        },
        "yaxis": {
         "title": {
          "text": "Portfolio value ($)"
         }
        }
       }
      }
     },
     "metadata": {},
     "output_type": "display_data"
    },
    {
     "data": {
      "application/vnd.plotly.v1+json": {
       "config": {
        "plotlyServerURL": "https://plot.ly"
       },
       "data": [
        {
         "mode": "lines",
         "name": "CVaR",
         "type": "scatter",
         "x": [
          "2015-03-31T23:59:59.999999999",
          "2015-04-30T23:59:59.999999999",
          "2015-05-31T23:59:59.999999999",
          "2015-06-30T23:59:59.999999999",
          "2015-07-31T23:59:59.999999999",
          "2015-08-31T23:59:59.999999999",
          "2015-09-30T23:59:59.999999999",
          "2015-10-31T23:59:59.999999999",
          "2015-11-30T23:59:59.999999999",
          "2015-12-31T23:59:59.999999999",
          "2016-01-31T23:59:59.999999999",
          "2016-02-29T23:59:59.999999999",
          "2016-03-31T23:59:59.999999999",
          "2016-04-30T23:59:59.999999999",
          "2016-05-31T23:59:59.999999999",
          "2016-06-30T23:59:59.999999999",
          "2016-07-31T23:59:59.999999999",
          "2016-08-31T23:59:59.999999999",
          "2016-09-30T23:59:59.999999999",
          "2016-10-31T23:59:59.999999999",
          "2016-11-30T23:59:59.999999999",
          "2016-12-31T23:59:59.999999999",
          "2017-01-31T23:59:59.999999999",
          "2017-02-28T23:59:59.999999999",
          "2017-03-31T23:59:59.999999999",
          "2017-04-30T23:59:59.999999999",
          "2017-05-31T23:59:59.999999999",
          "2017-06-30T23:59:59.999999999",
          "2017-07-31T23:59:59.999999999",
          "2017-08-31T23:59:59.999999999",
          "2017-09-30T23:59:59.999999999",
          "2017-10-31T23:59:59.999999999",
          "2017-11-30T23:59:59.999999999",
          "2017-12-31T23:59:59.999999999",
          "2018-01-31T23:59:59.999999999",
          "2018-02-28T23:59:59.999999999",
          "2018-03-31T23:59:59.999999999",
          "2018-04-30T23:59:59.999999999",
          "2018-05-31T23:59:59.999999999",
          "2018-06-30T23:59:59.999999999",
          "2018-07-31T23:59:59.999999999",
          "2018-08-31T23:59:59.999999999",
          "2018-09-30T23:59:59.999999999",
          "2018-10-31T23:59:59.999999999",
          "2018-11-30T23:59:59.999999999",
          "2018-12-31T23:59:59.999999999",
          "2019-01-31T23:59:59.999999999",
          "2019-02-28T23:59:59.999999999",
          "2019-03-31T23:59:59.999999999",
          "2019-04-30T23:59:59.999999999",
          "2019-05-31T23:59:59.999999999",
          "2019-06-30T23:59:59.999999999",
          "2019-07-31T23:59:59.999999999",
          "2019-08-31T23:59:59.999999999",
          "2019-09-30T23:59:59.999999999",
          "2019-10-31T23:59:59.999999999",
          "2019-11-30T23:59:59.999999999",
          "2019-12-31T23:59:59.999999999"
         ],
         "y": {
          "bdata": "AAAAAAAAAAAAAAAAAAAAAAAAAAAAAAAAAAAAAAAAAAAAAAAAAAAAAAAAAAAAAAAAAAAAAAAAAAAAAAAAAAAAAAAAAAAAAAAAAAAAAAAAAAAAAAAAAAAAAEBn36S0DbW/QGffpLQNtb9AZ9+ktA21v0Bn36S0DbW/QGffpLQNtb9AZ9+ktA21v0Bn36S0DbW/AAAAAAAAAAAAAAAAAAAAAAAAAAAAAAAAAAAAAAAAAAAAFu/z1wFxvwAW7/PXAXG/ABbv89cBcb8AFu/z1wFxvwAW7/PXAXG/ABbv89cBcb8AFu/z1wFxvwAW7/PXAXG/ABbv89cBcb8AFu/z1wFxvwAW7/PXAXG/ABbv89cBcb/Aw3/ROQGCvzC2OcqmYai/qKo2+T0etL+oqjb5PR60v6iqNvk9HrS/qKo2+T0etL+oqjb5PR60v6iqNvk9HrS/qKo2+T0etL+oqjb5PR60v6iqNvk9HrS/qKo2+T0etL+oqjb5PR60v6iqNvk9HrS/EPs6ku0+rL9AKdokHJenv0Ap2iQcl6e/QCnaJByXp79AKdokHJenv0Ap2iQcl6e/QCnaJByXp79AKdokHJenv0Ap2iQcl6e/wMuOxb+cnb8=",
          "dtype": "f8"
         }
        },
        {
         "mode": "lines",
         "name": "MVar",
         "type": "scatter",
         "x": [
          "2015-03-31T23:59:59.999999999",
          "2015-04-30T23:59:59.999999999",
          "2015-05-31T23:59:59.999999999",
          "2015-06-30T23:59:59.999999999",
          "2015-07-31T23:59:59.999999999",
          "2015-08-31T23:59:59.999999999",
          "2015-09-30T23:59:59.999999999",
          "2015-10-31T23:59:59.999999999",
          "2015-11-30T23:59:59.999999999",
          "2015-12-31T23:59:59.999999999",
          "2016-01-31T23:59:59.999999999",
          "2016-02-29T23:59:59.999999999",
          "2016-03-31T23:59:59.999999999",
          "2016-04-30T23:59:59.999999999",
          "2016-05-31T23:59:59.999999999",
          "2016-06-30T23:59:59.999999999",
          "2016-07-31T23:59:59.999999999",
          "2016-08-31T23:59:59.999999999",
          "2016-09-30T23:59:59.999999999",
          "2016-10-31T23:59:59.999999999",
          "2016-11-30T23:59:59.999999999",
          "2016-12-31T23:59:59.999999999",
          "2017-01-31T23:59:59.999999999",
          "2017-02-28T23:59:59.999999999",
          "2017-03-31T23:59:59.999999999",
          "2017-04-30T23:59:59.999999999",
          "2017-05-31T23:59:59.999999999",
          "2017-06-30T23:59:59.999999999",
          "2017-07-31T23:59:59.999999999",
          "2017-08-31T23:59:59.999999999",
          "2017-09-30T23:59:59.999999999",
          "2017-10-31T23:59:59.999999999",
          "2017-11-30T23:59:59.999999999",
          "2017-12-31T23:59:59.999999999",
          "2018-01-31T23:59:59.999999999",
          "2018-02-28T23:59:59.999999999",
          "2018-03-31T23:59:59.999999999",
          "2018-04-30T23:59:59.999999999",
          "2018-05-31T23:59:59.999999999",
          "2018-06-30T23:59:59.999999999",
          "2018-07-31T23:59:59.999999999",
          "2018-08-31T23:59:59.999999999",
          "2018-09-30T23:59:59.999999999",
          "2018-10-31T23:59:59.999999999",
          "2018-11-30T23:59:59.999999999",
          "2018-12-31T23:59:59.999999999",
          "2019-01-31T23:59:59.999999999",
          "2019-02-28T23:59:59.999999999",
          "2019-03-31T23:59:59.999999999",
          "2019-04-30T23:59:59.999999999",
          "2019-05-31T23:59:59.999999999",
          "2019-06-30T23:59:59.999999999",
          "2019-07-31T23:59:59.999999999",
          "2019-08-31T23:59:59.999999999",
          "2019-09-30T23:59:59.999999999",
          "2019-10-31T23:59:59.999999999",
          "2019-11-30T23:59:59.999999999",
          "2019-12-31T23:59:59.999999999"
         ],
         "y": {
          "bdata": "AAAAAAAAAAAAAAAAAAAAAAAAAAAAAAAAAAAAAAAAAAAAAAAAAAAAAAAAAAAAAAAAAAAAAAAAAAAAAAAAAAAAAAAAAAAAAAAAAAAAAAAAAAAAAAAAAAAAANAi5Ixrn7W/0CLkjGuftb/QIuSMa5+1v9Ai5Ixrn7W/SDJ1o6bStb9IMnWjptK1v0gydaOm0rW/ANEbsMDhcL8A0RuwwOFwvwDRG7DA4XC/AAAAAAAAAACAIOT+kUtxv4Ag5P6RS3G/gCDk/pFLcb+AIOT+kUtxv4Ag5P6RS3G/gCDk/pFLcb+AIOT+kUtxv4Ag5P6RS3G/gCDk/pFLcb+AIOT+kUtxv4Ag5P6RS3G/gCDk/pFLcb8AuG18JvCAv0Df9sXWwKS/aGK+d/u0s79oYr53+7Szv2hivnf7tLO/aGK+d/u0s79oYr53+7Szv2hivnf7tLO/aGK+d/u0s79oYr53+7Szv2hivnf7tLO/aGK+d/u0s79oYr53+7Szv2hivnf7tLO/wEMS3S5VrL8wewx+pfOnvzB7DH6l86e/MHsMfqXzp78wewx+pfOnvzB7DH6l86e/MHsMfqXzp78wewx+pfOnvzB7DH6l86e/UAfyWLNdoL8=",
          "dtype": "f8"
         }
        },
        {
         "mode": "lines",
         "name": "MSFT",
         "type": "scatter",
         "x": [
          "2015-03-31T23:59:59.999999999",
          "2015-04-30T23:59:59.999999999",
          "2015-05-31T23:59:59.999999999",
          "2015-06-30T23:59:59.999999999",
          "2015-07-31T23:59:59.999999999",
          "2015-08-31T23:59:59.999999999",
          "2015-09-30T23:59:59.999999999",
          "2015-10-31T23:59:59.999999999",
          "2015-11-30T23:59:59.999999999",
          "2015-12-31T23:59:59.999999999",
          "2016-01-31T23:59:59.999999999",
          "2016-02-29T23:59:59.999999999",
          "2016-03-31T23:59:59.999999999",
          "2016-04-30T23:59:59.999999999",
          "2016-05-31T23:59:59.999999999",
          "2016-06-30T23:59:59.999999999",
          "2016-07-31T23:59:59.999999999",
          "2016-08-31T23:59:59.999999999",
          "2016-09-30T23:59:59.999999999",
          "2016-10-31T23:59:59.999999999",
          "2016-11-30T23:59:59.999999999",
          "2016-12-31T23:59:59.999999999",
          "2017-01-31T23:59:59.999999999",
          "2017-02-28T23:59:59.999999999",
          "2017-03-31T23:59:59.999999999",
          "2017-04-30T23:59:59.999999999",
          "2017-05-31T23:59:59.999999999",
          "2017-06-30T23:59:59.999999999",
          "2017-07-31T23:59:59.999999999",
          "2017-08-31T23:59:59.999999999",
          "2017-09-30T23:59:59.999999999",
          "2017-10-31T23:59:59.999999999",
          "2017-11-30T23:59:59.999999999",
          "2017-12-31T23:59:59.999999999",
          "2018-01-31T23:59:59.999999999",
          "2018-02-28T23:59:59.999999999",
          "2018-03-31T23:59:59.999999999",
          "2018-04-30T23:59:59.999999999",
          "2018-05-31T23:59:59.999999999",
          "2018-06-30T23:59:59.999999999",
          "2018-07-31T23:59:59.999999999",
          "2018-08-31T23:59:59.999999999",
          "2018-09-30T23:59:59.999999999",
          "2018-10-31T23:59:59.999999999",
          "2018-11-30T23:59:59.999999999",
          "2018-12-31T23:59:59.999999999",
          "2019-01-31T23:59:59.999999999",
          "2019-02-28T23:59:59.999999999",
          "2019-03-31T23:59:59.999999999",
          "2019-04-30T23:59:59.999999999",
          "2019-05-31T23:59:59.999999999",
          "2019-06-30T23:59:59.999999999",
          "2019-07-31T23:59:59.999999999",
          "2019-08-31T23:59:59.999999999",
          "2019-09-30T23:59:59.999999999",
          "2019-10-31T23:59:59.999999999",
          "2019-11-30T23:59:59.999999999",
          "2019-12-31T23:59:59.999999999"
         ],
         "y": {
          "bdata": "AAAAAAAAAAAAAAAAAAAAAAAAAAAAAAAAAAAAAAAAAAAAAAAAAAAAAAAAAAAAAAAAAAAAAAAAAAAAAAAAAAAAAAAAAAAAAAAAAAAAAAAAAAAAAAAAAAAAABhn/EvzF7O/EHuIm0mQs79AvbNZPDS2v3D/3hcv2Li/cP/eFy/YuL9w/94XL9i4v3D/3hcv2Li/cP/eFy/YuL9w/94XL9i4v3D/3hcv2Li/cP/eFy/YuL9w/94XL9i4v3D/3hcv2Li/cP/eFy/YuL/QxseOsa2hv9DGx46xraG/QN3eyFuvir9A3d7IW6+Kv0Dd3shbr4q/QN3eyFuvir9A3d7IW6+Kv0Dd3shbr4q/QN3eyFuvir9A3d7IW6+KvwBdFiqeuoq/YKNiAwRNm79go2IDBE2bv2CjYgMETZu/YKNiAwRNm79go2IDBE2bv2CjYgMETZu/YKNiAwRNm78oCmL0AuywvygKYvQC7LC/oLVm7x6Etb+gtWbvHoS1v6C1Zu8ehLW/oLVm7x6Etb+gtWbvHoS1v6C1Zu8ehLW/oLVm7x6Etb+gtWbvHoS1v6C1Zu8ehLW/oLVm7x6Etb+gtWbvHoS1v6C1Zu8ehLW/0KA9bgIhq78=",
          "dtype": "f8"
         }
        },
        {
         "mode": "lines",
         "name": "MRK",
         "type": "scatter",
         "x": [
          "2015-03-31T23:59:59.999999999",
          "2015-04-30T23:59:59.999999999",
          "2015-05-31T23:59:59.999999999",
          "2015-06-30T23:59:59.999999999",
          "2015-07-31T23:59:59.999999999",
          "2015-08-31T23:59:59.999999999",
          "2015-09-30T23:59:59.999999999",
          "2015-10-31T23:59:59.999999999",
          "2015-11-30T23:59:59.999999999",
          "2015-12-31T23:59:59.999999999",
          "2016-01-31T23:59:59.999999999",
          "2016-02-29T23:59:59.999999999",
          "2016-03-31T23:59:59.999999999",
          "2016-04-30T23:59:59.999999999",
          "2016-05-31T23:59:59.999999999",
          "2016-06-30T23:59:59.999999999",
          "2016-07-31T23:59:59.999999999",
          "2016-08-31T23:59:59.999999999",
          "2016-09-30T23:59:59.999999999",
          "2016-10-31T23:59:59.999999999",
          "2016-11-30T23:59:59.999999999",
          "2016-12-31T23:59:59.999999999",
          "2017-01-31T23:59:59.999999999",
          "2017-02-28T23:59:59.999999999",
          "2017-03-31T23:59:59.999999999",
          "2017-04-30T23:59:59.999999999",
          "2017-05-31T23:59:59.999999999",
          "2017-06-30T23:59:59.999999999",
          "2017-07-31T23:59:59.999999999",
          "2017-08-31T23:59:59.999999999",
          "2017-09-30T23:59:59.999999999",
          "2017-10-31T23:59:59.999999999",
          "2017-11-30T23:59:59.999999999",
          "2017-12-31T23:59:59.999999999",
          "2018-01-31T23:59:59.999999999",
          "2018-02-28T23:59:59.999999999",
          "2018-03-31T23:59:59.999999999",
          "2018-04-30T23:59:59.999999999",
          "2018-05-31T23:59:59.999999999",
          "2018-06-30T23:59:59.999999999",
          "2018-07-31T23:59:59.999999999",
          "2018-08-31T23:59:59.999999999",
          "2018-09-30T23:59:59.999999999",
          "2018-10-31T23:59:59.999999999",
          "2018-11-30T23:59:59.999999999",
          "2018-12-31T23:59:59.999999999",
          "2019-01-31T23:59:59.999999999",
          "2019-02-28T23:59:59.999999999",
          "2019-03-31T23:59:59.999999999",
          "2019-04-30T23:59:59.999999999",
          "2019-05-31T23:59:59.999999999",
          "2019-06-30T23:59:59.999999999",
          "2019-07-31T23:59:59.999999999",
          "2019-08-31T23:59:59.999999999",
          "2019-09-30T23:59:59.999999999",
          "2019-10-31T23:59:59.999999999",
          "2019-11-30T23:59:59.999999999",
          "2019-12-31T23:59:59.999999999"
         ],
         "y": {
          "bdata": "AAAAAAAAAAAAAAAAAAAAAAAAAAAAAAAAAAAAAAAAAAAAAAAAAAAAAAAAAAAAAAAAAAAAAAAAAAAAAAAAAAAAAAAAAAAAAAAAAAAAAAAAAAAAAAAAAAAAAGTrWSnutLW/ZOtZKe60tb9k61kp7rS1v2TrWSnutLW/ZOtZKe60tb9k61kp7rS1v0i4cCXfPLW/kFg6FHrWpL+gM29Z30iuv6Azb1nfSK6/oDNvWd9Irr+gM29Z30iuv6Azb1nfSK6/oDNvWd9Irr+gM29Z30iuv6Azb1nfSK6/oDNvWd9Irr+g0c801uGov6DRzzTW4ai/oNHPNNbhqL8sC7Nvuru2vywLs2+6u7a/RO+mKwfdwb9E76YrB93Bv4zsVKzbvLy/RO+mKwfdwb9E76YrB93Bv0TvpisH3cG/RO+mKwfdwb9E76YrB93Bv0TvpisH3cG/RO+mKwfdwb+Q+lsBqb+1v5D6WwGpv7W/kPpbAam/tb+Q+lsBqb+1vwCDG9/74aK/AIMb3/vhor9QPZJzqnCrv1A9knOqcKu/UD2Sc6pwq79QPZJzqnCrv1A9knOqcKu/UD2Sc6pwq79QPZJzqnCrv1A9knOqcKu/UD2Sc6pwq78=",
          "dtype": "f8"
         }
        },
        {
         "mode": "lines",
         "name": "GOOGL",
         "type": "scatter",
         "x": [
          "2015-03-31T23:59:59.999999999",
          "2015-04-30T23:59:59.999999999",
          "2015-05-31T23:59:59.999999999",
          "2015-06-30T23:59:59.999999999",
          "2015-07-31T23:59:59.999999999",
          "2015-08-31T23:59:59.999999999",
          "2015-09-30T23:59:59.999999999",
          "2015-10-31T23:59:59.999999999",
          "2015-11-30T23:59:59.999999999",
          "2015-12-31T23:59:59.999999999",
          "2016-01-31T23:59:59.999999999",
          "2016-02-29T23:59:59.999999999",
          "2016-03-31T23:59:59.999999999",
          "2016-04-30T23:59:59.999999999",
          "2016-05-31T23:59:59.999999999",
          "2016-06-30T23:59:59.999999999",
          "2016-07-31T23:59:59.999999999",
          "2016-08-31T23:59:59.999999999",
          "2016-09-30T23:59:59.999999999",
          "2016-10-31T23:59:59.999999999",
          "2016-11-30T23:59:59.999999999",
          "2016-12-31T23:59:59.999999999",
          "2017-01-31T23:59:59.999999999",
          "2017-02-28T23:59:59.999999999",
          "2017-03-31T23:59:59.999999999",
          "2017-04-30T23:59:59.999999999",
          "2017-05-31T23:59:59.999999999",
          "2017-06-30T23:59:59.999999999",
          "2017-07-31T23:59:59.999999999",
          "2017-08-31T23:59:59.999999999",
          "2017-09-30T23:59:59.999999999",
          "2017-10-31T23:59:59.999999999",
          "2017-11-30T23:59:59.999999999",
          "2017-12-31T23:59:59.999999999",
          "2018-01-31T23:59:59.999999999",
          "2018-02-28T23:59:59.999999999",
          "2018-03-31T23:59:59.999999999",
          "2018-04-30T23:59:59.999999999",
          "2018-05-31T23:59:59.999999999",
          "2018-06-30T23:59:59.999999999",
          "2018-07-31T23:59:59.999999999",
          "2018-08-31T23:59:59.999999999",
          "2018-09-30T23:59:59.999999999",
          "2018-10-31T23:59:59.999999999",
          "2018-11-30T23:59:59.999999999",
          "2018-12-31T23:59:59.999999999",
          "2019-01-31T23:59:59.999999999",
          "2019-02-28T23:59:59.999999999",
          "2019-03-31T23:59:59.999999999",
          "2019-04-30T23:59:59.999999999",
          "2019-05-31T23:59:59.999999999",
          "2019-06-30T23:59:59.999999999",
          "2019-07-31T23:59:59.999999999",
          "2019-08-31T23:59:59.999999999",
          "2019-09-30T23:59:59.999999999",
          "2019-10-31T23:59:59.999999999",
          "2019-11-30T23:59:59.999999999",
          "2019-12-31T23:59:59.999999999"
         ],
         "y": {
          "bdata": "AAAAAAAAAAAAAAAAAAAAAAAAAAAAAAAAAAAAAAAAAAAAAAAAAAAAAAAAAAAAAAAAAAAAAAAAAAAAAAAAAAAAAAAAAAAAAAAAAAAAAAAAAAAAAAAAAAAAAGD4wOvAUqS/YPjA68BSpL9swlD+2LCwv2zCUP7YsLC/yI9a4Z38sL/Ij1rhnfywv8iPWuGd/LC/UChBg0SFsr9QKEGDRIWyv8iPWuGd/LC/yI9a4Z38sL9QKEGDRIWyv1AoQYNEhbK/UChBg0SFsr+A7ud+7ueuv4Du537u566/MIXRf6DGrb8whdF/oMatvzCF0X+gxq2/MIXRf6DGrb8whdF/oMatvzCF0X+gxq2/MIXRf6DGrb8whdF/oMatvxDvEO8Q77C/EO8Q7xDvsL8Q7xDvEO+wvxDvEO8Q77C/EO8Q7xDvsL8Q7xDvEO+wvxDvEO8Q77C/EO8Q7xDvsL+AiDXmH7C4v4CINeYfsLi/yDujapjPtL/IO6NqmM+0v4CINeYfsLi/gIg15h+wuL+AiDXmH7C4v4CINeYfsLi/gIg15h+wuL+AiDXmH7C4vxRiy3tNNba/gIg15h+wuL+oO2ERe7qzv6g7YRF7urO/qDthEXu6s78=",
          "dtype": "f8"
         }
        },
        {
         "mode": "lines",
         "name": "CVX",
         "type": "scatter",
         "x": [
          "2015-03-31T23:59:59.999999999",
          "2015-04-30T23:59:59.999999999",
          "2015-05-31T23:59:59.999999999",
          "2015-06-30T23:59:59.999999999",
          "2015-07-31T23:59:59.999999999",
          "2015-08-31T23:59:59.999999999",
          "2015-09-30T23:59:59.999999999",
          "2015-10-31T23:59:59.999999999",
          "2015-11-30T23:59:59.999999999",
          "2015-12-31T23:59:59.999999999",
          "2016-01-31T23:59:59.999999999",
          "2016-02-29T23:59:59.999999999",
          "2016-03-31T23:59:59.999999999",
          "2016-04-30T23:59:59.999999999",
          "2016-05-31T23:59:59.999999999",
          "2016-06-30T23:59:59.999999999",
          "2016-07-31T23:59:59.999999999",
          "2016-08-31T23:59:59.999999999",
          "2016-09-30T23:59:59.999999999",
          "2016-10-31T23:59:59.999999999",
          "2016-11-30T23:59:59.999999999",
          "2016-12-31T23:59:59.999999999",
          "2017-01-31T23:59:59.999999999",
          "2017-02-28T23:59:59.999999999",
          "2017-03-31T23:59:59.999999999",
          "2017-04-30T23:59:59.999999999",
          "2017-05-31T23:59:59.999999999",
          "2017-06-30T23:59:59.999999999",
          "2017-07-31T23:59:59.999999999",
          "2017-08-31T23:59:59.999999999",
          "2017-09-30T23:59:59.999999999",
          "2017-10-31T23:59:59.999999999",
          "2017-11-30T23:59:59.999999999",
          "2017-12-31T23:59:59.999999999",
          "2018-01-31T23:59:59.999999999",
          "2018-02-28T23:59:59.999999999",
          "2018-03-31T23:59:59.999999999",
          "2018-04-30T23:59:59.999999999",
          "2018-05-31T23:59:59.999999999",
          "2018-06-30T23:59:59.999999999",
          "2018-07-31T23:59:59.999999999",
          "2018-08-31T23:59:59.999999999",
          "2018-09-30T23:59:59.999999999",
          "2018-10-31T23:59:59.999999999",
          "2018-11-30T23:59:59.999999999",
          "2018-12-31T23:59:59.999999999",
          "2019-01-31T23:59:59.999999999",
          "2019-02-28T23:59:59.999999999",
          "2019-03-31T23:59:59.999999999",
          "2019-04-30T23:59:59.999999999",
          "2019-05-31T23:59:59.999999999",
          "2019-06-30T23:59:59.999999999",
          "2019-07-31T23:59:59.999999999",
          "2019-08-31T23:59:59.999999999",
          "2019-09-30T23:59:59.999999999",
          "2019-10-31T23:59:59.999999999",
          "2019-11-30T23:59:59.999999999",
          "2019-12-31T23:59:59.999999999"
         ],
         "y": {
          "bdata": "AAAAAAAAAAAAAAAAAAAAAAAAAAAAAAAAAAAAAAAAAAAAAAAAAAAAAAAAAAAAAAAAAAAAAAAAAAAAAAAAAAAAAAAAAAAAAAAAAAAAAAAAAAAAAAAAAAAAAKwsp/HWb7W/rCyn8dZvtb+sLKfx1m+1v6wsp/HWb7W/rCyn8dZvtb/gH8ueN5qvvxjsJMbr5qK/GOwkxuvmor8Y7CTG6+aivxjsJMbr5qK/EClf3PDco79wsqzWbZ+rv3CyrNZtn6u/cLKs1m2fq78g7wj4J3ypvyDvCPgnfKm/IO8I+Cd8qb9wsqzWbZ+rv3CyrNZtn6u/cLKs1m2fq78g7wj4J3ypvyDvCPgnfKm/IO8I+Cd8qb/QK2UZ4linvxB0Ww6Hbbu/EHRbDodtu78QdFsOh227vxB0Ww6Hbbu/EHRbDodtu78QdFsOh227vxB0Ww6Hbbu/EHRbDodtu78QdFsOh227vxB0Ww6Hbbu/lAQU6lbXuL+UBBTqVte4vxiVzMUmQba/GJXMxSZBtr8kFeE95wy2vyQV4T3nDLa/JBXhPecMtr8kFeE95wy2vyQV4T3nDLa/JBXhPecMtr8wlfW1p9i1vzCV9bWn2LW/YLmnEZZ7qr8=",
          "dtype": "f8"
         }
        }
       ],
       "layout": {
        "legend": {
         "title": {
          "text": "Series"
         }
        },
        "template": {
         "data": {
          "bar": [
           {
            "error_x": {
             "color": "#2a3f5f"
            },
            "error_y": {
             "color": "#2a3f5f"
            },
            "marker": {
             "line": {
              "color": "white",
              "width": 0.5
             },
             "pattern": {
              "fillmode": "overlay",
              "size": 10,
              "solidity": 0.2
             }
            },
            "type": "bar"
           }
          ],
          "barpolar": [
           {
            "marker": {
             "line": {
              "color": "white",
              "width": 0.5
             },
             "pattern": {
              "fillmode": "overlay",
              "size": 10,
              "solidity": 0.2
             }
            },
            "type": "barpolar"
           }
          ],
          "carpet": [
           {
            "aaxis": {
             "endlinecolor": "#2a3f5f",
             "gridcolor": "#C8D4E3",
             "linecolor": "#C8D4E3",
             "minorgridcolor": "#C8D4E3",
             "startlinecolor": "#2a3f5f"
            },
            "baxis": {
             "endlinecolor": "#2a3f5f",
             "gridcolor": "#C8D4E3",
             "linecolor": "#C8D4E3",
             "minorgridcolor": "#C8D4E3",
             "startlinecolor": "#2a3f5f"
            },
            "type": "carpet"
           }
          ],
          "choropleth": [
           {
            "colorbar": {
             "outlinewidth": 0,
             "ticks": ""
            },
            "type": "choropleth"
           }
          ],
          "contour": [
           {
            "colorbar": {
             "outlinewidth": 0,
             "ticks": ""
            },
            "colorscale": [
             [
              0,
              "#0d0887"
             ],
             [
              0.1111111111111111,
              "#46039f"
             ],
             [
              0.2222222222222222,
              "#7201a8"
             ],
             [
              0.3333333333333333,
              "#9c179e"
             ],
             [
              0.4444444444444444,
              "#bd3786"
             ],
             [
              0.5555555555555556,
              "#d8576b"
             ],
             [
              0.6666666666666666,
              "#ed7953"
             ],
             [
              0.7777777777777778,
              "#fb9f3a"
             ],
             [
              0.8888888888888888,
              "#fdca26"
             ],
             [
              1,
              "#f0f921"
             ]
            ],
            "type": "contour"
           }
          ],
          "contourcarpet": [
           {
            "colorbar": {
             "outlinewidth": 0,
             "ticks": ""
            },
            "type": "contourcarpet"
           }
          ],
          "heatmap": [
           {
            "colorbar": {
             "outlinewidth": 0,
             "ticks": ""
            },
            "colorscale": [
             [
              0,
              "#0d0887"
             ],
             [
              0.1111111111111111,
              "#46039f"
             ],
             [
              0.2222222222222222,
              "#7201a8"
             ],
             [
              0.3333333333333333,
              "#9c179e"
             ],
             [
              0.4444444444444444,
              "#bd3786"
             ],
             [
              0.5555555555555556,
              "#d8576b"
             ],
             [
              0.6666666666666666,
              "#ed7953"
             ],
             [
              0.7777777777777778,
              "#fb9f3a"
             ],
             [
              0.8888888888888888,
              "#fdca26"
             ],
             [
              1,
              "#f0f921"
             ]
            ],
            "type": "heatmap"
           }
          ],
          "histogram": [
           {
            "marker": {
             "pattern": {
              "fillmode": "overlay",
              "size": 10,
              "solidity": 0.2
             }
            },
            "type": "histogram"
           }
          ],
          "histogram2d": [
           {
            "colorbar": {
             "outlinewidth": 0,
             "ticks": ""
            },
            "colorscale": [
             [
              0,
              "#0d0887"
             ],
             [
              0.1111111111111111,
              "#46039f"
             ],
             [
              0.2222222222222222,
              "#7201a8"
             ],
             [
              0.3333333333333333,
              "#9c179e"
             ],
             [
              0.4444444444444444,
              "#bd3786"
             ],
             [
              0.5555555555555556,
              "#d8576b"
             ],
             [
              0.6666666666666666,
              "#ed7953"
             ],
             [
              0.7777777777777778,
              "#fb9f3a"
             ],
             [
              0.8888888888888888,
              "#fdca26"
             ],
             [
              1,
              "#f0f921"
             ]
            ],
            "type": "histogram2d"
           }
          ],
          "histogram2dcontour": [
           {
            "colorbar": {
             "outlinewidth": 0,
             "ticks": ""
            },
            "colorscale": [
             [
              0,
              "#0d0887"
             ],
             [
              0.1111111111111111,
              "#46039f"
             ],
             [
              0.2222222222222222,
              "#7201a8"
             ],
             [
              0.3333333333333333,
              "#9c179e"
             ],
             [
              0.4444444444444444,
              "#bd3786"
             ],
             [
              0.5555555555555556,
              "#d8576b"
             ],
             [
              0.6666666666666666,
              "#ed7953"
             ],
             [
              0.7777777777777778,
              "#fb9f3a"
             ],
             [
              0.8888888888888888,
              "#fdca26"
             ],
             [
              1,
              "#f0f921"
             ]
            ],
            "type": "histogram2dcontour"
           }
          ],
          "mesh3d": [
           {
            "colorbar": {
             "outlinewidth": 0,
             "ticks": ""
            },
            "type": "mesh3d"
           }
          ],
          "parcoords": [
           {
            "line": {
             "colorbar": {
              "outlinewidth": 0,
              "ticks": ""
             }
            },
            "type": "parcoords"
           }
          ],
          "pie": [
           {
            "automargin": true,
            "type": "pie"
           }
          ],
          "scatter": [
           {
            "fillpattern": {
             "fillmode": "overlay",
             "size": 10,
             "solidity": 0.2
            },
            "type": "scatter"
           }
          ],
          "scatter3d": [
           {
            "line": {
             "colorbar": {
              "outlinewidth": 0,
              "ticks": ""
             }
            },
            "marker": {
             "colorbar": {
              "outlinewidth": 0,
              "ticks": ""
             }
            },
            "type": "scatter3d"
           }
          ],
          "scattercarpet": [
           {
            "marker": {
             "colorbar": {
              "outlinewidth": 0,
              "ticks": ""
             }
            },
            "type": "scattercarpet"
           }
          ],
          "scattergeo": [
           {
            "marker": {
             "colorbar": {
              "outlinewidth": 0,
              "ticks": ""
             }
            },
            "type": "scattergeo"
           }
          ],
          "scattergl": [
           {
            "marker": {
             "colorbar": {
              "outlinewidth": 0,
              "ticks": ""
             }
            },
            "type": "scattergl"
           }
          ],
          "scattermap": [
           {
            "marker": {
             "colorbar": {
              "outlinewidth": 0,
              "ticks": ""
             }
            },
            "type": "scattermap"
           }
          ],
          "scattermapbox": [
           {
            "marker": {
             "colorbar": {
              "outlinewidth": 0,
              "ticks": ""
             }
            },
            "type": "scattermapbox"
           }
          ],
          "scatterpolar": [
           {
            "marker": {
             "colorbar": {
              "outlinewidth": 0,
              "ticks": ""
             }
            },
            "type": "scatterpolar"
           }
          ],
          "scatterpolargl": [
           {
            "marker": {
             "colorbar": {
              "outlinewidth": 0,
              "ticks": ""
             }
            },
            "type": "scatterpolargl"
           }
          ],
          "scatterternary": [
           {
            "marker": {
             "colorbar": {
              "outlinewidth": 0,
              "ticks": ""
             }
            },
            "type": "scatterternary"
           }
          ],
          "surface": [
           {
            "colorbar": {
             "outlinewidth": 0,
             "ticks": ""
            },
            "colorscale": [
             [
              0,
              "#0d0887"
             ],
             [
              0.1111111111111111,
              "#46039f"
             ],
             [
              0.2222222222222222,
              "#7201a8"
             ],
             [
              0.3333333333333333,
              "#9c179e"
             ],
             [
              0.4444444444444444,
              "#bd3786"
             ],
             [
              0.5555555555555556,
              "#d8576b"
             ],
             [
              0.6666666666666666,
              "#ed7953"
             ],
             [
              0.7777777777777778,
              "#fb9f3a"
             ],
             [
              0.8888888888888888,
              "#fdca26"
             ],
             [
              1,
              "#f0f921"
             ]
            ],
            "type": "surface"
           }
          ],
          "table": [
           {
            "cells": {
             "fill": {
              "color": "#EBF0F8"
             },
             "line": {
              "color": "white"
             }
            },
            "header": {
             "fill": {
              "color": "#C8D4E3"
             },
             "line": {
              "color": "white"
             }
            },
            "type": "table"
           }
          ]
         },
         "layout": {
          "annotationdefaults": {
           "arrowcolor": "#2a3f5f",
           "arrowhead": 0,
           "arrowwidth": 1
          },
          "autotypenumbers": "strict",
          "coloraxis": {
           "colorbar": {
            "outlinewidth": 0,
            "ticks": ""
           }
          },
          "colorscale": {
           "diverging": [
            [
             0,
             "#8e0152"
            ],
            [
             0.1,
             "#c51b7d"
            ],
            [
             0.2,
             "#de77ae"
            ],
            [
             0.3,
             "#f1b6da"
            ],
            [
             0.4,
             "#fde0ef"
            ],
            [
             0.5,
             "#f7f7f7"
            ],
            [
             0.6,
             "#e6f5d0"
            ],
            [
             0.7,
             "#b8e186"
            ],
            [
             0.8,
             "#7fbc41"
            ],
            [
             0.9,
             "#4d9221"
            ],
            [
             1,
             "#276419"
            ]
           ],
           "sequential": [
            [
             0,
             "#0d0887"
            ],
            [
             0.1111111111111111,
             "#46039f"
            ],
            [
             0.2222222222222222,
             "#7201a8"
            ],
            [
             0.3333333333333333,
             "#9c179e"
            ],
            [
             0.4444444444444444,
             "#bd3786"
            ],
            [
             0.5555555555555556,
             "#d8576b"
            ],
            [
             0.6666666666666666,
             "#ed7953"
            ],
            [
             0.7777777777777778,
             "#fb9f3a"
            ],
            [
             0.8888888888888888,
             "#fdca26"
            ],
            [
             1,
             "#f0f921"
            ]
           ],
           "sequentialminus": [
            [
             0,
             "#0d0887"
            ],
            [
             0.1111111111111111,
             "#46039f"
            ],
            [
             0.2222222222222222,
             "#7201a8"
            ],
            [
             0.3333333333333333,
             "#9c179e"
            ],
            [
             0.4444444444444444,
             "#bd3786"
            ],
            [
             0.5555555555555556,
             "#d8576b"
            ],
            [
             0.6666666666666666,
             "#ed7953"
            ],
            [
             0.7777777777777778,
             "#fb9f3a"
            ],
            [
             0.8888888888888888,
             "#fdca26"
            ],
            [
             1,
             "#f0f921"
            ]
           ]
          },
          "colorway": [
           "#636efa",
           "#EF553B",
           "#00cc96",
           "#ab63fa",
           "#FFA15A",
           "#19d3f3",
           "#FF6692",
           "#B6E880",
           "#FF97FF",
           "#FECB52"
          ],
          "font": {
           "color": "#2a3f5f"
          },
          "geo": {
           "bgcolor": "white",
           "lakecolor": "white",
           "landcolor": "white",
           "showlakes": true,
           "showland": true,
           "subunitcolor": "#C8D4E3"
          },
          "hoverlabel": {
           "align": "left"
          },
          "hovermode": "closest",
          "mapbox": {
           "style": "light"
          },
          "paper_bgcolor": "white",
          "plot_bgcolor": "white",
          "polar": {
           "angularaxis": {
            "gridcolor": "#EBF0F8",
            "linecolor": "#EBF0F8",
            "ticks": ""
           },
           "bgcolor": "white",
           "radialaxis": {
            "gridcolor": "#EBF0F8",
            "linecolor": "#EBF0F8",
            "ticks": ""
           }
          },
          "scene": {
           "xaxis": {
            "backgroundcolor": "white",
            "gridcolor": "#DFE8F3",
            "gridwidth": 2,
            "linecolor": "#EBF0F8",
            "showbackground": true,
            "ticks": "",
            "zerolinecolor": "#EBF0F8"
           },
           "yaxis": {
            "backgroundcolor": "white",
            "gridcolor": "#DFE8F3",
            "gridwidth": 2,
            "linecolor": "#EBF0F8",
            "showbackground": true,
            "ticks": "",
            "zerolinecolor": "#EBF0F8"
           },
           "zaxis": {
            "backgroundcolor": "white",
            "gridcolor": "#DFE8F3",
            "gridwidth": 2,
            "linecolor": "#EBF0F8",
            "showbackground": true,
            "ticks": "",
            "zerolinecolor": "#EBF0F8"
           }
          },
          "shapedefaults": {
           "line": {
            "color": "#2a3f5f"
           }
          },
          "ternary": {
           "aaxis": {
            "gridcolor": "#DFE8F3",
            "linecolor": "#A2B1C6",
            "ticks": ""
           },
           "baxis": {
            "gridcolor": "#DFE8F3",
            "linecolor": "#A2B1C6",
            "ticks": ""
           },
           "bgcolor": "white",
           "caxis": {
            "gridcolor": "#DFE8F3",
            "linecolor": "#A2B1C6",
            "ticks": ""
           }
          },
          "title": {
           "x": 0.05
          },
          "xaxis": {
           "automargin": true,
           "gridcolor": "#EBF0F8",
           "linecolor": "#EBF0F8",
           "ticks": "",
           "title": {
            "standoff": 15
           },
           "zerolinecolor": "#EBF0F8",
           "zerolinewidth": 2
          },
          "yaxis": {
           "automargin": true,
           "gridcolor": "#EBF0F8",
           "linecolor": "#EBF0F8",
           "ticks": "",
           "title": {
            "standoff": 15
           },
           "zerolinecolor": "#EBF0F8",
           "zerolinewidth": 2
          }
         }
        },
        "title": {
         "text": "Rolling 80% CVaR (window=12)"
        },
        "xaxis": {
         "title": {
          "text": "Date"
         }
        },
        "yaxis": {
         "title": {
          "text": "CVaR (mean loss)"
         }
        }
       }
      }
     },
     "metadata": {},
     "output_type": "display_data"
    },
    {
     "data": {
      "application/vnd.plotly.v1+json": {
       "config": {
        "plotlyServerURL": "https://plot.ly"
       },
       "data": [
        {
         "mode": "lines",
         "name": "CVaR",
         "type": "scatter",
         "x": [
          "2015-03-31T23:59:59.999999999",
          "2015-04-30T23:59:59.999999999",
          "2015-05-31T23:59:59.999999999",
          "2015-06-30T23:59:59.999999999",
          "2015-07-31T23:59:59.999999999",
          "2015-08-31T23:59:59.999999999",
          "2015-09-30T23:59:59.999999999",
          "2015-10-31T23:59:59.999999999",
          "2015-11-30T23:59:59.999999999",
          "2015-12-31T23:59:59.999999999",
          "2016-01-31T23:59:59.999999999",
          "2016-02-29T23:59:59.999999999",
          "2016-03-31T23:59:59.999999999",
          "2016-04-30T23:59:59.999999999",
          "2016-05-31T23:59:59.999999999",
          "2016-06-30T23:59:59.999999999",
          "2016-07-31T23:59:59.999999999",
          "2016-08-31T23:59:59.999999999",
          "2016-09-30T23:59:59.999999999",
          "2016-10-31T23:59:59.999999999",
          "2016-11-30T23:59:59.999999999",
          "2016-12-31T23:59:59.999999999",
          "2017-01-31T23:59:59.999999999",
          "2017-02-28T23:59:59.999999999",
          "2017-03-31T23:59:59.999999999",
          "2017-04-30T23:59:59.999999999",
          "2017-05-31T23:59:59.999999999",
          "2017-06-30T23:59:59.999999999",
          "2017-07-31T23:59:59.999999999",
          "2017-08-31T23:59:59.999999999",
          "2017-09-30T23:59:59.999999999",
          "2017-10-31T23:59:59.999999999",
          "2017-11-30T23:59:59.999999999",
          "2017-12-31T23:59:59.999999999",
          "2018-01-31T23:59:59.999999999",
          "2018-02-28T23:59:59.999999999",
          "2018-03-31T23:59:59.999999999",
          "2018-04-30T23:59:59.999999999",
          "2018-05-31T23:59:59.999999999",
          "2018-06-30T23:59:59.999999999",
          "2018-07-31T23:59:59.999999999",
          "2018-08-31T23:59:59.999999999",
          "2018-09-30T23:59:59.999999999",
          "2018-10-31T23:59:59.999999999",
          "2018-11-30T23:59:59.999999999",
          "2018-12-31T23:59:59.999999999",
          "2019-01-31T23:59:59.999999999",
          "2019-02-28T23:59:59.999999999",
          "2019-03-31T23:59:59.999999999",
          "2019-04-30T23:59:59.999999999",
          "2019-05-31T23:59:59.999999999",
          "2019-06-30T23:59:59.999999999",
          "2019-07-31T23:59:59.999999999",
          "2019-08-31T23:59:59.999999999",
          "2019-09-30T23:59:59.999999999",
          "2019-10-31T23:59:59.999999999",
          "2019-11-30T23:59:59.999999999",
          "2019-12-31T23:59:59.999999999"
         ],
         "y": {
          "bdata": "AAAAAAAAAAAAAAAAAAAAAAAAAAAAAAAAAAAAAAAAAAAAAAAAAAAAAAAAAAAAAAAAAAAAAAAAAAAAAAAAAAAAAAAAAAAAAAAAAAAAAAAAAAAAAAAAAAAAAN6LgRjOcaE/MOAtTycIpD8oZqBSk3WmP1SIRe0RXKk/1lNYTXFurz+LAIFGzdmzP86NIzSFkLM/s0TMDpGVsT8CQwpXhFexP7VxdYXti7A/Vo+jcko2rz87gJQGityvP47lTQwuQq4/k0rw+yFGrz8esz1cqzuwP/2Pa6DA3LA/zToYFFRTsT87owePAuuvP8VxDulq9K0/sQcK7kx3qj/Nwdxiv0enP3jrXbLfU6M/wLi3l+8kjz9dfRN1v7qQP0bREN8DpZ0/GcAsM7qZpT9XFdfvLwOoPy2t5qAJe6g/OzuZYMbuqD/s9pNRKi2tP+utl03+jK0/JgCygViCrj/WNHzaKlGuP9fKiga52q4/+7De48R8rz9A1NFSea2vP+l0ygAYMbA/25hvC/5GsD8B84sbkKWtP6srZ7a8T60/3ZQfXCl/rT9yNUnr68OrP3sqHzRcN6w/l84htLzRqz8jxyqMRdKrP2bP5D9DpKs/w80Fi0ZMqD8=",
          "dtype": "f8"
         }
        },
        {
         "mode": "lines",
         "name": "MVar",
         "type": "scatter",
         "x": [
          "2015-03-31T23:59:59.999999999",
          "2015-04-30T23:59:59.999999999",
          "2015-05-31T23:59:59.999999999",
          "2015-06-30T23:59:59.999999999",
          "2015-07-31T23:59:59.999999999",
          "2015-08-31T23:59:59.999999999",
          "2015-09-30T23:59:59.999999999",
          "2015-10-31T23:59:59.999999999",
          "2015-11-30T23:59:59.999999999",
          "2015-12-31T23:59:59.999999999",
          "2016-01-31T23:59:59.999999999",
          "2016-02-29T23:59:59.999999999",
          "2016-03-31T23:59:59.999999999",
          "2016-04-30T23:59:59.999999999",
          "2016-05-31T23:59:59.999999999",
          "2016-06-30T23:59:59.999999999",
          "2016-07-31T23:59:59.999999999",
          "2016-08-31T23:59:59.999999999",
          "2016-09-30T23:59:59.999999999",
          "2016-10-31T23:59:59.999999999",
          "2016-11-30T23:59:59.999999999",
          "2016-12-31T23:59:59.999999999",
          "2017-01-31T23:59:59.999999999",
          "2017-02-28T23:59:59.999999999",
          "2017-03-31T23:59:59.999999999",
          "2017-04-30T23:59:59.999999999",
          "2017-05-31T23:59:59.999999999",
          "2017-06-30T23:59:59.999999999",
          "2017-07-31T23:59:59.999999999",
          "2017-08-31T23:59:59.999999999",
          "2017-09-30T23:59:59.999999999",
          "2017-10-31T23:59:59.999999999",
          "2017-11-30T23:59:59.999999999",
          "2017-12-31T23:59:59.999999999",
          "2018-01-31T23:59:59.999999999",
          "2018-02-28T23:59:59.999999999",
          "2018-03-31T23:59:59.999999999",
          "2018-04-30T23:59:59.999999999",
          "2018-05-31T23:59:59.999999999",
          "2018-06-30T23:59:59.999999999",
          "2018-07-31T23:59:59.999999999",
          "2018-08-31T23:59:59.999999999",
          "2018-09-30T23:59:59.999999999",
          "2018-10-31T23:59:59.999999999",
          "2018-11-30T23:59:59.999999999",
          "2018-12-31T23:59:59.999999999",
          "2019-01-31T23:59:59.999999999",
          "2019-02-28T23:59:59.999999999",
          "2019-03-31T23:59:59.999999999",
          "2019-04-30T23:59:59.999999999",
          "2019-05-31T23:59:59.999999999",
          "2019-06-30T23:59:59.999999999",
          "2019-07-31T23:59:59.999999999",
          "2019-08-31T23:59:59.999999999",
          "2019-09-30T23:59:59.999999999",
          "2019-10-31T23:59:59.999999999",
          "2019-11-30T23:59:59.999999999",
          "2019-12-31T23:59:59.999999999"
         ],
         "y": {
          "bdata": "AAAAAAAAAAAAAAAAAAAAAAAAAAAAAAAAAAAAAAAAAAAAAAAAAAAAAAAAAAAAAAAAAAAAAAAAAAAAAAAAAAAAAAAAAAAAAAAAAAAAAAAAAAAAAAAAAAAAAAOGCQhlz6E/D9m97CjAoj9qloCQM+ukP21VuVouu6g/16pAsOHnrj+YFl6Th7uzPzjhR+SVX7M/iRQgcD4Asj8sEKVcgsmxP++by0vX27A/pGVx5ywFrz88CPFTxaevPzbohoJ9G64/vA7vjh6Wrz/PfmXNo0iwP82mWrUBsrA/U25NA6UnsT/2ptGv+ySvP9HLvsbtC60/zxhV3WsdqD9zfrdCgRmlP/Jz0h7CI6I//IkhSX5olz8fmUKPrB2YPzV2i1ChqKA/+KTma64cpz/1piH+QeapP4kgz8SHMKo/7XccEaflqj/1xHrxx66uP+PW8GGU8K4/nM1MJ0nzrz/xsFHDnHuvP2cULlZiRK8/wOJhySC1rz+bcrsjtuSvP/0xT+1sN7A/FrzxakH9rz8ZS+O19HysP8oXKcID+6w/SNG+hypOrT9/ZTp/Pj2rP1jAEcjsHaw/hRxyTbBAqz/zOCGJiTirP/u4ilTkAqs/jTXXRWAvqD8=",
          "dtype": "f8"
         }
        },
        {
         "mode": "lines",
         "name": "MSFT",
         "type": "scatter",
         "x": [
          "2015-03-31T23:59:59.999999999",
          "2015-04-30T23:59:59.999999999",
          "2015-05-31T23:59:59.999999999",
          "2015-06-30T23:59:59.999999999",
          "2015-07-31T23:59:59.999999999",
          "2015-08-31T23:59:59.999999999",
          "2015-09-30T23:59:59.999999999",
          "2015-10-31T23:59:59.999999999",
          "2015-11-30T23:59:59.999999999",
          "2015-12-31T23:59:59.999999999",
          "2016-01-31T23:59:59.999999999",
          "2016-02-29T23:59:59.999999999",
          "2016-03-31T23:59:59.999999999",
          "2016-04-30T23:59:59.999999999",
          "2016-05-31T23:59:59.999999999",
          "2016-06-30T23:59:59.999999999",
          "2016-07-31T23:59:59.999999999",
          "2016-08-31T23:59:59.999999999",
          "2016-09-30T23:59:59.999999999",
          "2016-10-31T23:59:59.999999999",
          "2016-11-30T23:59:59.999999999",
          "2016-12-31T23:59:59.999999999",
          "2017-01-31T23:59:59.999999999",
          "2017-02-28T23:59:59.999999999",
          "2017-03-31T23:59:59.999999999",
          "2017-04-30T23:59:59.999999999",
          "2017-05-31T23:59:59.999999999",
          "2017-06-30T23:59:59.999999999",
          "2017-07-31T23:59:59.999999999",
          "2017-08-31T23:59:59.999999999",
          "2017-09-30T23:59:59.999999999",
          "2017-10-31T23:59:59.999999999",
          "2017-11-30T23:59:59.999999999",
          "2017-12-31T23:59:59.999999999",
          "2018-01-31T23:59:59.999999999",
          "2018-02-28T23:59:59.999999999",
          "2018-03-31T23:59:59.999999999",
          "2018-04-30T23:59:59.999999999",
          "2018-05-31T23:59:59.999999999",
          "2018-06-30T23:59:59.999999999",
          "2018-07-31T23:59:59.999999999",
          "2018-08-31T23:59:59.999999999",
          "2018-09-30T23:59:59.999999999",
          "2018-10-31T23:59:59.999999999",
          "2018-11-30T23:59:59.999999999",
          "2018-12-31T23:59:59.999999999",
          "2019-01-31T23:59:59.999999999",
          "2019-02-28T23:59:59.999999999",
          "2019-03-31T23:59:59.999999999",
          "2019-04-30T23:59:59.999999999",
          "2019-05-31T23:59:59.999999999",
          "2019-06-30T23:59:59.999999999",
          "2019-07-31T23:59:59.999999999",
          "2019-08-31T23:59:59.999999999",
          "2019-09-30T23:59:59.999999999",
          "2019-10-31T23:59:59.999999999",
          "2019-11-30T23:59:59.999999999",
          "2019-12-31T23:59:59.999999999"
         ],
         "y": {
          "bdata": "AAAAAAAAAAAAAAAAAAAAAAAAAAAAAAAAAAAAAAAAAAAAAAAAAAAAAAAAAAAAAAAAAAAAAAAAAAAAAAAAAAAAAAAAAAAAAAAAAAAAAAAAAAAAAAAAAAAAAEbq0kVRBLg/mA59FZdctz/R5qVoLMy0P9OmSvzs6LQ/il2r4TiBtD+Wd1CNz261P+pJiYm4Q7Q/+4otqhVVtD/OevyUaiqvP7E4/RE2Aq8/uqz3slohrz95C8Pf+UGvP4KSJ39uAKw/b0GzMecQqj+SjEkHfb2iPyNzq4fK26E/m6pW3cBooD+UbanHkTSWPzysC/7EKZY/3dve8dfClj8JBm0rjf+hPwLODTC81aE/QjcYbi3soT+c5sFp3LulPyI/F2Cx3aU/fhQOQtqYpz/MCIRBwYinP6BorHbG5Kc/S3QswdB6pz9f826IgC2oP/+epzbNdag/GGTP4inUpz9gtESO/J+oP9sNxVoarKg/2uc0H2BxrT8wCwuJkVqpPyKPuKxgtao/owbEBS0/qj91QxYc3ROtP5InfaZCGK8/b140Kl8SsD8b5vx8GDWvPxAcCqxTrq4/yxRzbDC4rj/DHjNok5KrPzDjTBjg4Ks/CicPgWdKpT8=",
          "dtype": "f8"
         }
        },
        {
         "mode": "lines",
         "name": "MRK",
         "type": "scatter",
         "x": [
          "2015-03-31T23:59:59.999999999",
          "2015-04-30T23:59:59.999999999",
          "2015-05-31T23:59:59.999999999",
          "2015-06-30T23:59:59.999999999",
          "2015-07-31T23:59:59.999999999",
          "2015-08-31T23:59:59.999999999",
          "2015-09-30T23:59:59.999999999",
          "2015-10-31T23:59:59.999999999",
          "2015-11-30T23:59:59.999999999",
          "2015-12-31T23:59:59.999999999",
          "2016-01-31T23:59:59.999999999",
          "2016-02-29T23:59:59.999999999",
          "2016-03-31T23:59:59.999999999",
          "2016-04-30T23:59:59.999999999",
          "2016-05-31T23:59:59.999999999",
          "2016-06-30T23:59:59.999999999",
          "2016-07-31T23:59:59.999999999",
          "2016-08-31T23:59:59.999999999",
          "2016-09-30T23:59:59.999999999",
          "2016-10-31T23:59:59.999999999",
          "2016-11-30T23:59:59.999999999",
          "2016-12-31T23:59:59.999999999",
          "2017-01-31T23:59:59.999999999",
          "2017-02-28T23:59:59.999999999",
          "2017-03-31T23:59:59.999999999",
          "2017-04-30T23:59:59.999999999",
          "2017-05-31T23:59:59.999999999",
          "2017-06-30T23:59:59.999999999",
          "2017-07-31T23:59:59.999999999",
          "2017-08-31T23:59:59.999999999",
          "2017-09-30T23:59:59.999999999",
          "2017-10-31T23:59:59.999999999",
          "2017-11-30T23:59:59.999999999",
          "2017-12-31T23:59:59.999999999",
          "2018-01-31T23:59:59.999999999",
          "2018-02-28T23:59:59.999999999",
          "2018-03-31T23:59:59.999999999",
          "2018-04-30T23:59:59.999999999",
          "2018-05-31T23:59:59.999999999",
          "2018-06-30T23:59:59.999999999",
          "2018-07-31T23:59:59.999999999",
          "2018-08-31T23:59:59.999999999",
          "2018-09-30T23:59:59.999999999",
          "2018-10-31T23:59:59.999999999",
          "2018-11-30T23:59:59.999999999",
          "2018-12-31T23:59:59.999999999",
          "2019-01-31T23:59:59.999999999",
          "2019-02-28T23:59:59.999999999",
          "2019-03-31T23:59:59.999999999",
          "2019-04-30T23:59:59.999999999",
          "2019-05-31T23:59:59.999999999",
          "2019-06-30T23:59:59.999999999",
          "2019-07-31T23:59:59.999999999",
          "2019-08-31T23:59:59.999999999",
          "2019-09-30T23:59:59.999999999",
          "2019-10-31T23:59:59.999999999",
          "2019-11-30T23:59:59.999999999",
          "2019-12-31T23:59:59.999999999"
         ],
         "y": {
          "bdata": "AAAAAAAAAAAAAAAAAAAAAAAAAAAAAAAAAAAAAAAAAAAAAAAAAAAAAAAAAAAAAAAAAAAAAAAAAAAAAAAAAAAAAAAAAAAAAAAAAAAAAAAAAAAAAAAAAAAAAFrqm2D2tKw//4OeS2A4rj+DByuWSTuuPzGo1hDPUK4/vr82OtHtrD9/Z5vs3I+sP3YBr6gob6o/czFRrOO6pT/0T89OyMajP04AMPZjdKM/Vmanf8bDpD9d4UxSGvCjPws1eJ6/dKQ/AS3pNliKpT8mrrw/ytulP7SvtJWtUaY/T6qr/F2gpj9RdtuxxKimP0fkld4aTqQ/jT9hST9DpD/xajcCrxisPxRfu/6TJqs/t+rZcCPkqj/tS22Th+SqP52zA3VTO6s/vcObZLQmqz+mj5wpGEyuP6FaId1+b60/zeyiYneerT/m4FG7AS2wPy8AZux+ZLA/EpgZ53J/sD/Zmvpv8IKmP+UCLzHQcac/hVgd8kODqT/DMAa8Uj+qPyMTgGNIBaY/v8LwFm6TpT9XkVcGyAmoPyeij3/yHag/AJiMdpuWqD/+p0JOFlinP+LvWQUUXKc/meR0VPw1qD+c8JrUIQ+oP4EyOP9GzqU/R5Tpt3wDpT8=",
          "dtype": "f8"
         }
        },
        {
         "mode": "lines",
         "name": "GOOGL",
         "type": "scatter",
         "x": [
          "2015-03-31T23:59:59.999999999",
          "2015-04-30T23:59:59.999999999",
          "2015-05-31T23:59:59.999999999",
          "2015-06-30T23:59:59.999999999",
          "2015-07-31T23:59:59.999999999",
          "2015-08-31T23:59:59.999999999",
          "2015-09-30T23:59:59.999999999",
          "2015-10-31T23:59:59.999999999",
          "2015-11-30T23:59:59.999999999",
          "2015-12-31T23:59:59.999999999",
          "2016-01-31T23:59:59.999999999",
          "2016-02-29T23:59:59.999999999",
          "2016-03-31T23:59:59.999999999",
          "2016-04-30T23:59:59.999999999",
          "2016-05-31T23:59:59.999999999",
          "2016-06-30T23:59:59.999999999",
          "2016-07-31T23:59:59.999999999",
          "2016-08-31T23:59:59.999999999",
          "2016-09-30T23:59:59.999999999",
          "2016-10-31T23:59:59.999999999",
          "2016-11-30T23:59:59.999999999",
          "2016-12-31T23:59:59.999999999",
          "2017-01-31T23:59:59.999999999",
          "2017-02-28T23:59:59.999999999",
          "2017-03-31T23:59:59.999999999",
          "2017-04-30T23:59:59.999999999",
          "2017-05-31T23:59:59.999999999",
          "2017-06-30T23:59:59.999999999",
          "2017-07-31T23:59:59.999999999",
          "2017-08-31T23:59:59.999999999",
          "2017-09-30T23:59:59.999999999",
          "2017-10-31T23:59:59.999999999",
          "2017-11-30T23:59:59.999999999",
          "2017-12-31T23:59:59.999999999",
          "2018-01-31T23:59:59.999999999",
          "2018-02-28T23:59:59.999999999",
          "2018-03-31T23:59:59.999999999",
          "2018-04-30T23:59:59.999999999",
          "2018-05-31T23:59:59.999999999",
          "2018-06-30T23:59:59.999999999",
          "2018-07-31T23:59:59.999999999",
          "2018-08-31T23:59:59.999999999",
          "2018-09-30T23:59:59.999999999",
          "2018-10-31T23:59:59.999999999",
          "2018-11-30T23:59:59.999999999",
          "2018-12-31T23:59:59.999999999",
          "2019-01-31T23:59:59.999999999",
          "2019-02-28T23:59:59.999999999",
          "2019-03-31T23:59:59.999999999",
          "2019-04-30T23:59:59.999999999",
          "2019-05-31T23:59:59.999999999",
          "2019-06-30T23:59:59.999999999",
          "2019-07-31T23:59:59.999999999",
          "2019-08-31T23:59:59.999999999",
          "2019-09-30T23:59:59.999999999",
          "2019-10-31T23:59:59.999999999",
          "2019-11-30T23:59:59.999999999",
          "2019-12-31T23:59:59.999999999"
         ],
         "y": {
          "bdata": "AAAAAAAAAAAAAAAAAAAAAAAAAAAAAAAAAAAAAAAAAAAAAAAAAAAAAAAAAAAAAAAAAAAAAAAAAAAAAAAAAAAAAAAAAAAAAAAAAAAAAAAAAAAAAAAAAAAAAAKg3dDKnbQ/4el33bWUtD/uQWic48W1PzAekN4TwLU/t0tM2jyatj82ajo6QpSyP3efjV/Bd7I/IvmzdapFsj9XHgh/LIutPwk0OTYpJq4/Se1ASWgrrj+6scviwDuuP/cf6qSiaaw/l127uM9Tqz8W5hfAOzOqP+t/uIi0iKo/BdAgcQdeqj/2+PgTHtmkPyP8zdhbraQ/A2vAJTiupD+ARpPPQpWlP2JOGAFpWKM/PolfRkRhoz8yZNveqi+oP6uL2LEYNaw/bB3F8uzGrj/ingqeLNisP7DeStaafa0/7zNhySdeqz/PmM9qKzatPyD6qStlTK0/BHnvcTL8rT9Fcpi4c8+wP6aVcO+U07A/0Ks7H1R8sT/68M2G0MCvP9vdCW6CCq4/QCgmj6u1rD8OJOEflU6sP3lcH96+O60/HVxrX4EirT+qZ3MTQCWwPxQm6Wz+PLA/HOjM1RZFsD8ug4jSknisPw2mHNfXqaw/61viCK4iqj8=",
          "dtype": "f8"
         }
        },
        {
         "mode": "lines",
         "name": "CVX",
         "type": "scatter",
         "x": [
          "2015-03-31T23:59:59.999999999",
          "2015-04-30T23:59:59.999999999",
          "2015-05-31T23:59:59.999999999",
          "2015-06-30T23:59:59.999999999",
          "2015-07-31T23:59:59.999999999",
          "2015-08-31T23:59:59.999999999",
          "2015-09-30T23:59:59.999999999",
          "2015-10-31T23:59:59.999999999",
          "2015-11-30T23:59:59.999999999",
          "2015-12-31T23:59:59.999999999",
          "2016-01-31T23:59:59.999999999",
          "2016-02-29T23:59:59.999999999",
          "2016-03-31T23:59:59.999999999",
          "2016-04-30T23:59:59.999999999",
          "2016-05-31T23:59:59.999999999",
          "2016-06-30T23:59:59.999999999",
          "2016-07-31T23:59:59.999999999",
          "2016-08-31T23:59:59.999999999",
          "2016-09-30T23:59:59.999999999",
          "2016-10-31T23:59:59.999999999",
          "2016-11-30T23:59:59.999999999",
          "2016-12-31T23:59:59.999999999",
          "2017-01-31T23:59:59.999999999",
          "2017-02-28T23:59:59.999999999",
          "2017-03-31T23:59:59.999999999",
          "2017-04-30T23:59:59.999999999",
          "2017-05-31T23:59:59.999999999",
          "2017-06-30T23:59:59.999999999",
          "2017-07-31T23:59:59.999999999",
          "2017-08-31T23:59:59.999999999",
          "2017-09-30T23:59:59.999999999",
          "2017-10-31T23:59:59.999999999",
          "2017-11-30T23:59:59.999999999",
          "2017-12-31T23:59:59.999999999",
          "2018-01-31T23:59:59.999999999",
          "2018-02-28T23:59:59.999999999",
          "2018-03-31T23:59:59.999999999",
          "2018-04-30T23:59:59.999999999",
          "2018-05-31T23:59:59.999999999",
          "2018-06-30T23:59:59.999999999",
          "2018-07-31T23:59:59.999999999",
          "2018-08-31T23:59:59.999999999",
          "2018-09-30T23:59:59.999999999",
          "2018-10-31T23:59:59.999999999",
          "2018-11-30T23:59:59.999999999",
          "2018-12-31T23:59:59.999999999",
          "2019-01-31T23:59:59.999999999",
          "2019-02-28T23:59:59.999999999",
          "2019-03-31T23:59:59.999999999",
          "2019-04-30T23:59:59.999999999",
          "2019-05-31T23:59:59.999999999",
          "2019-06-30T23:59:59.999999999",
          "2019-07-31T23:59:59.999999999",
          "2019-08-31T23:59:59.999999999",
          "2019-09-30T23:59:59.999999999",
          "2019-10-31T23:59:59.999999999",
          "2019-11-30T23:59:59.999999999",
          "2019-12-31T23:59:59.999999999"
         ],
         "y": {
          "bdata": "AAAAAAAAAAAAAAAAAAAAAAAAAAAAAAAAAAAAAAAAAAAAAAAAAAAAAAAAAAAAAAAAAAAAAAAAAAAAAAAAAAAAAAAAAAAAAAAAAAAAAAAAAAAAAAAAAAAAABm07rTDNbE/B9wCtMj0tD/4NG5tYja1P1JCMZLEgLQ/c6uN6DT2sz81LSt7AsKyPwPxhVZ+P7E/+PVEpkXXsD90Jw97rqWqP4VpxUYSq6s/MaV4YJucqz8BPTeAKYKsP4Khq+KSEqs/V3CkxgFzpT+7IIfDGDCjPzgW2X84vqM/sc+nqNrzoj9h6D9VabejP1p+YqY2mqM/J4i0jCFJpz8SZ2pLVJCnP2mDlGyqCqY/7F6XwwDkpT9EOAIVI7OjPw8+6pEaSao/rLm5hmZIqT/Jxu/5nHusP3HhncRpzKs/TY9MRrHDqz8UxrRPEXirPzCZx9lgca0/2vmPH5ypqj8ar8X2Tt2tP/LoJtXBPq8/GigWxuNEsD96yPPTou6wP8JJETSjLq4/fE77i7dUrj/c40OnaPuqP1stefV296s/Y2FLVdp7rz+EMoHB0IavP+96ZbmQyq4/ZTt5Wghprj+5Q6vV116rP0vwBZVdmak/8zpDQ9zTpT8=",
          "dtype": "f8"
         }
        }
       ],
       "layout": {
        "legend": {
         "title": {
          "text": "Series"
         }
        },
        "template": {
         "data": {
          "bar": [
           {
            "error_x": {
             "color": "#2a3f5f"
            },
            "error_y": {
             "color": "#2a3f5f"
            },
            "marker": {
             "line": {
              "color": "white",
              "width": 0.5
             },
             "pattern": {
              "fillmode": "overlay",
              "size": 10,
              "solidity": 0.2
             }
            },
            "type": "bar"
           }
          ],
          "barpolar": [
           {
            "marker": {
             "line": {
              "color": "white",
              "width": 0.5
             },
             "pattern": {
              "fillmode": "overlay",
              "size": 10,
              "solidity": 0.2
             }
            },
            "type": "barpolar"
           }
          ],
          "carpet": [
           {
            "aaxis": {
             "endlinecolor": "#2a3f5f",
             "gridcolor": "#C8D4E3",
             "linecolor": "#C8D4E3",
             "minorgridcolor": "#C8D4E3",
             "startlinecolor": "#2a3f5f"
            },
            "baxis": {
             "endlinecolor": "#2a3f5f",
             "gridcolor": "#C8D4E3",
             "linecolor": "#C8D4E3",
             "minorgridcolor": "#C8D4E3",
             "startlinecolor": "#2a3f5f"
            },
            "type": "carpet"
           }
          ],
          "choropleth": [
           {
            "colorbar": {
             "outlinewidth": 0,
             "ticks": ""
            },
            "type": "choropleth"
           }
          ],
          "contour": [
           {
            "colorbar": {
             "outlinewidth": 0,
             "ticks": ""
            },
            "colorscale": [
             [
              0,
              "#0d0887"
             ],
             [
              0.1111111111111111,
              "#46039f"
             ],
             [
              0.2222222222222222,
              "#7201a8"
             ],
             [
              0.3333333333333333,
              "#9c179e"
             ],
             [
              0.4444444444444444,
              "#bd3786"
             ],
             [
              0.5555555555555556,
              "#d8576b"
             ],
             [
              0.6666666666666666,
              "#ed7953"
             ],
             [
              0.7777777777777778,
              "#fb9f3a"
             ],
             [
              0.8888888888888888,
              "#fdca26"
             ],
             [
              1,
              "#f0f921"
             ]
            ],
            "type": "contour"
           }
          ],
          "contourcarpet": [
           {
            "colorbar": {
             "outlinewidth": 0,
             "ticks": ""
            },
            "type": "contourcarpet"
           }
          ],
          "heatmap": [
           {
            "colorbar": {
             "outlinewidth": 0,
             "ticks": ""
            },
            "colorscale": [
             [
              0,
              "#0d0887"
             ],
             [
              0.1111111111111111,
              "#46039f"
             ],
             [
              0.2222222222222222,
              "#7201a8"
             ],
             [
              0.3333333333333333,
              "#9c179e"
             ],
             [
              0.4444444444444444,
              "#bd3786"
             ],
             [
              0.5555555555555556,
              "#d8576b"
             ],
             [
              0.6666666666666666,
              "#ed7953"
             ],
             [
              0.7777777777777778,
              "#fb9f3a"
             ],
             [
              0.8888888888888888,
              "#fdca26"
             ],
             [
              1,
              "#f0f921"
             ]
            ],
            "type": "heatmap"
           }
          ],
          "histogram": [
           {
            "marker": {
             "pattern": {
              "fillmode": "overlay",
              "size": 10,
              "solidity": 0.2
             }
            },
            "type": "histogram"
           }
          ],
          "histogram2d": [
           {
            "colorbar": {
             "outlinewidth": 0,
             "ticks": ""
            },
            "colorscale": [
             [
              0,
              "#0d0887"
             ],
             [
              0.1111111111111111,
              "#46039f"
             ],
             [
              0.2222222222222222,
              "#7201a8"
             ],
             [
              0.3333333333333333,
              "#9c179e"
             ],
             [
              0.4444444444444444,
              "#bd3786"
             ],
             [
              0.5555555555555556,
              "#d8576b"
             ],
             [
              0.6666666666666666,
              "#ed7953"
             ],
             [
              0.7777777777777778,
              "#fb9f3a"
             ],
             [
              0.8888888888888888,
              "#fdca26"
             ],
             [
              1,
              "#f0f921"
             ]
            ],
            "type": "histogram2d"
           }
          ],
          "histogram2dcontour": [
           {
            "colorbar": {
             "outlinewidth": 0,
             "ticks": ""
            },
            "colorscale": [
             [
              0,
              "#0d0887"
             ],
             [
              0.1111111111111111,
              "#46039f"
             ],
             [
              0.2222222222222222,
              "#7201a8"
             ],
             [
              0.3333333333333333,
              "#9c179e"
             ],
             [
              0.4444444444444444,
              "#bd3786"
             ],
             [
              0.5555555555555556,
              "#d8576b"
             ],
             [
              0.6666666666666666,
              "#ed7953"
             ],
             [
              0.7777777777777778,
              "#fb9f3a"
             ],
             [
              0.8888888888888888,
              "#fdca26"
             ],
             [
              1,
              "#f0f921"
             ]
            ],
            "type": "histogram2dcontour"
           }
          ],
          "mesh3d": [
           {
            "colorbar": {
             "outlinewidth": 0,
             "ticks": ""
            },
            "type": "mesh3d"
           }
          ],
          "parcoords": [
           {
            "line": {
             "colorbar": {
              "outlinewidth": 0,
              "ticks": ""
             }
            },
            "type": "parcoords"
           }
          ],
          "pie": [
           {
            "automargin": true,
            "type": "pie"
           }
          ],
          "scatter": [
           {
            "fillpattern": {
             "fillmode": "overlay",
             "size": 10,
             "solidity": 0.2
            },
            "type": "scatter"
           }
          ],
          "scatter3d": [
           {
            "line": {
             "colorbar": {
              "outlinewidth": 0,
              "ticks": ""
             }
            },
            "marker": {
             "colorbar": {
              "outlinewidth": 0,
              "ticks": ""
             }
            },
            "type": "scatter3d"
           }
          ],
          "scattercarpet": [
           {
            "marker": {
             "colorbar": {
              "outlinewidth": 0,
              "ticks": ""
             }
            },
            "type": "scattercarpet"
           }
          ],
          "scattergeo": [
           {
            "marker": {
             "colorbar": {
              "outlinewidth": 0,
              "ticks": ""
             }
            },
            "type": "scattergeo"
           }
          ],
          "scattergl": [
           {
            "marker": {
             "colorbar": {
              "outlinewidth": 0,
              "ticks": ""
             }
            },
            "type": "scattergl"
           }
          ],
          "scattermap": [
           {
            "marker": {
             "colorbar": {
              "outlinewidth": 0,
              "ticks": ""
             }
            },
            "type": "scattermap"
           }
          ],
          "scattermapbox": [
           {
            "marker": {
             "colorbar": {
              "outlinewidth": 0,
              "ticks": ""
             }
            },
            "type": "scattermapbox"
           }
          ],
          "scatterpolar": [
           {
            "marker": {
             "colorbar": {
              "outlinewidth": 0,
              "ticks": ""
             }
            },
            "type": "scatterpolar"
           }
          ],
          "scatterpolargl": [
           {
            "marker": {
             "colorbar": {
              "outlinewidth": 0,
              "ticks": ""
             }
            },
            "type": "scatterpolargl"
           }
          ],
          "scatterternary": [
           {
            "marker": {
             "colorbar": {
              "outlinewidth": 0,
              "ticks": ""
             }
            },
            "type": "scatterternary"
           }
          ],
          "surface": [
           {
            "colorbar": {
             "outlinewidth": 0,
             "ticks": ""
            },
            "colorscale": [
             [
              0,
              "#0d0887"
             ],
             [
              0.1111111111111111,
              "#46039f"
             ],
             [
              0.2222222222222222,
              "#7201a8"
             ],
             [
              0.3333333333333333,
              "#9c179e"
             ],
             [
              0.4444444444444444,
              "#bd3786"
             ],
             [
              0.5555555555555556,
              "#d8576b"
             ],
             [
              0.6666666666666666,
              "#ed7953"
             ],
             [
              0.7777777777777778,
              "#fb9f3a"
             ],
             [
              0.8888888888888888,
              "#fdca26"
             ],
             [
              1,
              "#f0f921"
             ]
            ],
            "type": "surface"
           }
          ],
          "table": [
           {
            "cells": {
             "fill": {
              "color": "#EBF0F8"
             },
             "line": {
              "color": "white"
             }
            },
            "header": {
             "fill": {
              "color": "#C8D4E3"
             },
             "line": {
              "color": "white"
             }
            },
            "type": "table"
           }
          ]
         },
         "layout": {
          "annotationdefaults": {
           "arrowcolor": "#2a3f5f",
           "arrowhead": 0,
           "arrowwidth": 1
          },
          "autotypenumbers": "strict",
          "coloraxis": {
           "colorbar": {
            "outlinewidth": 0,
            "ticks": ""
           }
          },
          "colorscale": {
           "diverging": [
            [
             0,
             "#8e0152"
            ],
            [
             0.1,
             "#c51b7d"
            ],
            [
             0.2,
             "#de77ae"
            ],
            [
             0.3,
             "#f1b6da"
            ],
            [
             0.4,
             "#fde0ef"
            ],
            [
             0.5,
             "#f7f7f7"
            ],
            [
             0.6,
             "#e6f5d0"
            ],
            [
             0.7,
             "#b8e186"
            ],
            [
             0.8,
             "#7fbc41"
            ],
            [
             0.9,
             "#4d9221"
            ],
            [
             1,
             "#276419"
            ]
           ],
           "sequential": [
            [
             0,
             "#0d0887"
            ],
            [
             0.1111111111111111,
             "#46039f"
            ],
            [
             0.2222222222222222,
             "#7201a8"
            ],
            [
             0.3333333333333333,
             "#9c179e"
            ],
            [
             0.4444444444444444,
             "#bd3786"
            ],
            [
             0.5555555555555556,
             "#d8576b"
            ],
            [
             0.6666666666666666,
             "#ed7953"
            ],
            [
             0.7777777777777778,
             "#fb9f3a"
            ],
            [
             0.8888888888888888,
             "#fdca26"
            ],
            [
             1,
             "#f0f921"
            ]
           ],
           "sequentialminus": [
            [
             0,
             "#0d0887"
            ],
            [
             0.1111111111111111,
             "#46039f"
            ],
            [
             0.2222222222222222,
             "#7201a8"
            ],
            [
             0.3333333333333333,
             "#9c179e"
            ],
            [
             0.4444444444444444,
             "#bd3786"
            ],
            [
             0.5555555555555556,
             "#d8576b"
            ],
            [
             0.6666666666666666,
             "#ed7953"
            ],
            [
             0.7777777777777778,
             "#fb9f3a"
            ],
            [
             0.8888888888888888,
             "#fdca26"
            ],
            [
             1,
             "#f0f921"
            ]
           ]
          },
          "colorway": [
           "#636efa",
           "#EF553B",
           "#00cc96",
           "#ab63fa",
           "#FFA15A",
           "#19d3f3",
           "#FF6692",
           "#B6E880",
           "#FF97FF",
           "#FECB52"
          ],
          "font": {
           "color": "#2a3f5f"
          },
          "geo": {
           "bgcolor": "white",
           "lakecolor": "white",
           "landcolor": "white",
           "showlakes": true,
           "showland": true,
           "subunitcolor": "#C8D4E3"
          },
          "hoverlabel": {
           "align": "left"
          },
          "hovermode": "closest",
          "mapbox": {
           "style": "light"
          },
          "paper_bgcolor": "white",
          "plot_bgcolor": "white",
          "polar": {
           "angularaxis": {
            "gridcolor": "#EBF0F8",
            "linecolor": "#EBF0F8",
            "ticks": ""
           },
           "bgcolor": "white",
           "radialaxis": {
            "gridcolor": "#EBF0F8",
            "linecolor": "#EBF0F8",
            "ticks": ""
           }
          },
          "scene": {
           "xaxis": {
            "backgroundcolor": "white",
            "gridcolor": "#DFE8F3",
            "gridwidth": 2,
            "linecolor": "#EBF0F8",
            "showbackground": true,
            "ticks": "",
            "zerolinecolor": "#EBF0F8"
           },
           "yaxis": {
            "backgroundcolor": "white",
            "gridcolor": "#DFE8F3",
            "gridwidth": 2,
            "linecolor": "#EBF0F8",
            "showbackground": true,
            "ticks": "",
            "zerolinecolor": "#EBF0F8"
           },
           "zaxis": {
            "backgroundcolor": "white",
            "gridcolor": "#DFE8F3",
            "gridwidth": 2,
            "linecolor": "#EBF0F8",
            "showbackground": true,
            "ticks": "",
            "zerolinecolor": "#EBF0F8"
           }
          },
          "shapedefaults": {
           "line": {
            "color": "#2a3f5f"
           }
          },
          "ternary": {
           "aaxis": {
            "gridcolor": "#DFE8F3",
            "linecolor": "#A2B1C6",
            "ticks": ""
           },
           "baxis": {
            "gridcolor": "#DFE8F3",
            "linecolor": "#A2B1C6",
            "ticks": ""
           },
           "bgcolor": "white",
           "caxis": {
            "gridcolor": "#DFE8F3",
            "linecolor": "#A2B1C6",
            "ticks": ""
           }
          },
          "title": {
           "x": 0.05
          },
          "xaxis": {
           "automargin": true,
           "gridcolor": "#EBF0F8",
           "linecolor": "#EBF0F8",
           "ticks": "",
           "title": {
            "standoff": 15
           },
           "zerolinecolor": "#EBF0F8",
           "zerolinewidth": 2
          },
          "yaxis": {
           "automargin": true,
           "gridcolor": "#EBF0F8",
           "linecolor": "#EBF0F8",
           "ticks": "",
           "title": {
            "standoff": 15
           },
           "zerolinecolor": "#EBF0F8",
           "zerolinewidth": 2
          }
         }
        },
        "title": {
         "text": "Rolling volatility σ (window=12)"
        },
        "xaxis": {
         "title": {
          "text": "Date"
         }
        },
        "yaxis": {
         "title": {
          "text": "Std‑dev of returns"
         }
        }
       }
      }
     },
     "metadata": {},
     "output_type": "display_data"
    },
    {
     "data": {
      "application/vnd.plotly.v1+json": {
       "config": {
        "plotlyServerURL": "https://plot.ly"
       },
       "data": [
        {
         "mode": "lines",
         "name": "CVaR",
         "type": "scatter",
         "x": [
          "2015-03-31T23:59:59.999999999",
          "2015-04-30T23:59:59.999999999",
          "2015-05-31T23:59:59.999999999",
          "2015-06-30T23:59:59.999999999",
          "2015-07-31T23:59:59.999999999",
          "2015-08-31T23:59:59.999999999",
          "2015-09-30T23:59:59.999999999",
          "2015-10-31T23:59:59.999999999",
          "2015-11-30T23:59:59.999999999",
          "2015-12-31T23:59:59.999999999",
          "2016-01-31T23:59:59.999999999",
          "2016-02-29T23:59:59.999999999",
          "2016-03-31T23:59:59.999999999",
          "2016-04-30T23:59:59.999999999",
          "2016-05-31T23:59:59.999999999",
          "2016-06-30T23:59:59.999999999",
          "2016-07-31T23:59:59.999999999",
          "2016-08-31T23:59:59.999999999",
          "2016-09-30T23:59:59.999999999",
          "2016-10-31T23:59:59.999999999",
          "2016-11-30T23:59:59.999999999",
          "2016-12-31T23:59:59.999999999",
          "2017-01-31T23:59:59.999999999",
          "2017-02-28T23:59:59.999999999",
          "2017-03-31T23:59:59.999999999",
          "2017-04-30T23:59:59.999999999",
          "2017-05-31T23:59:59.999999999",
          "2017-06-30T23:59:59.999999999",
          "2017-07-31T23:59:59.999999999",
          "2017-08-31T23:59:59.999999999",
          "2017-09-30T23:59:59.999999999",
          "2017-10-31T23:59:59.999999999",
          "2017-11-30T23:59:59.999999999",
          "2017-12-31T23:59:59.999999999",
          "2018-01-31T23:59:59.999999999",
          "2018-02-28T23:59:59.999999999",
          "2018-03-31T23:59:59.999999999",
          "2018-04-30T23:59:59.999999999",
          "2018-05-31T23:59:59.999999999",
          "2018-06-30T23:59:59.999999999",
          "2018-07-31T23:59:59.999999999",
          "2018-08-31T23:59:59.999999999",
          "2018-09-30T23:59:59.999999999",
          "2018-10-31T23:59:59.999999999",
          "2018-11-30T23:59:59.999999999",
          "2018-12-31T23:59:59.999999999",
          "2019-01-31T23:59:59.999999999",
          "2019-02-28T23:59:59.999999999",
          "2019-03-31T23:59:59.999999999",
          "2019-04-30T23:59:59.999999999",
          "2019-05-31T23:59:59.999999999",
          "2019-06-30T23:59:59.999999999",
          "2019-07-31T23:59:59.999999999",
          "2019-08-31T23:59:59.999999999",
          "2019-09-30T23:59:59.999999999",
          "2019-10-31T23:59:59.999999999",
          "2019-11-30T23:59:59.999999999",
          "2019-12-31T23:59:59.999999999"
         ],
         "y": {
          "bdata": "AAAAAAAAAAAAAAAAAAAAAAAAAAAAAAAAAAAAAAAAAAAAAAAAAAAAAAAAAAAAAAAAAAAAAAAAAAAAAAAAAAAAAAAAAAAAAAAAAAAAAAAAAAAAAAAAAAAAANvRA0G1Ada/TdzEqpuUxb8bJtMM3FylvyazwX1PkrM/DBJnGTRU0T+gjv11EBrbPwoSHPUpIOY/ckOYl4ru8D8DwYkKi7PzP1VeQsvuMPc/MT/I+vfM+z8AyNHYTA/7P9yE103wFP0/H+M0OcOt+z+MJJv3ZRH6P0dY8spuSfg/5jLlf5yc9T+xFDwvHkT0P206mKcek/I/0aKq9wkt8j+S/sTzmQ3yPwBHlE9Wv/I/1cf69rHuAkCmrLMi8G4BQJrJBaIXWe8/s7P3vxnV3D/83jIcb5rPP5Gobm1N6b0/og9jek3awT/m82Jp6WLNP8dP0BggY9A/2oV0gZtb0j8m3V9oYaTRP4E4tp2C6NI/ckWod1Mswz+CgrnFfyvBPy5xdnJ19dM/Q2OQt3IF4z/0G8nrmJ7rPx86SZEJLOw/HYeCl7oq6z+lM6XvBg3qPyEZoyhk2Oc/GnhQ2pG75T/JCTEXGH7lPySBJ80NNeU/Yebesopq7T8=",
          "dtype": "f8"
         }
        },
        {
         "mode": "lines",
         "name": "MVar",
         "type": "scatter",
         "x": [
          "2015-03-31T23:59:59.999999999",
          "2015-04-30T23:59:59.999999999",
          "2015-05-31T23:59:59.999999999",
          "2015-06-30T23:59:59.999999999",
          "2015-07-31T23:59:59.999999999",
          "2015-08-31T23:59:59.999999999",
          "2015-09-30T23:59:59.999999999",
          "2015-10-31T23:59:59.999999999",
          "2015-11-30T23:59:59.999999999",
          "2015-12-31T23:59:59.999999999",
          "2016-01-31T23:59:59.999999999",
          "2016-02-29T23:59:59.999999999",
          "2016-03-31T23:59:59.999999999",
          "2016-04-30T23:59:59.999999999",
          "2016-05-31T23:59:59.999999999",
          "2016-06-30T23:59:59.999999999",
          "2016-07-31T23:59:59.999999999",
          "2016-08-31T23:59:59.999999999",
          "2016-09-30T23:59:59.999999999",
          "2016-10-31T23:59:59.999999999",
          "2016-11-30T23:59:59.999999999",
          "2016-12-31T23:59:59.999999999",
          "2017-01-31T23:59:59.999999999",
          "2017-02-28T23:59:59.999999999",
          "2017-03-31T23:59:59.999999999",
          "2017-04-30T23:59:59.999999999",
          "2017-05-31T23:59:59.999999999",
          "2017-06-30T23:59:59.999999999",
          "2017-07-31T23:59:59.999999999",
          "2017-08-31T23:59:59.999999999",
          "2017-09-30T23:59:59.999999999",
          "2017-10-31T23:59:59.999999999",
          "2017-11-30T23:59:59.999999999",
          "2017-12-31T23:59:59.999999999",
          "2018-01-31T23:59:59.999999999",
          "2018-02-28T23:59:59.999999999",
          "2018-03-31T23:59:59.999999999",
          "2018-04-30T23:59:59.999999999",
          "2018-05-31T23:59:59.999999999",
          "2018-06-30T23:59:59.999999999",
          "2018-07-31T23:59:59.999999999",
          "2018-08-31T23:59:59.999999999",
          "2018-09-30T23:59:59.999999999",
          "2018-10-31T23:59:59.999999999",
          "2018-11-30T23:59:59.999999999",
          "2018-12-31T23:59:59.999999999",
          "2019-01-31T23:59:59.999999999",
          "2019-02-28T23:59:59.999999999",
          "2019-03-31T23:59:59.999999999",
          "2019-04-30T23:59:59.999999999",
          "2019-05-31T23:59:59.999999999",
          "2019-06-30T23:59:59.999999999",
          "2019-07-31T23:59:59.999999999",
          "2019-08-31T23:59:59.999999999",
          "2019-09-30T23:59:59.999999999",
          "2019-10-31T23:59:59.999999999",
          "2019-11-30T23:59:59.999999999",
          "2019-12-31T23:59:59.999999999"
         ],
         "y": {
          "bdata": "AAAAAAAAAAAAAAAAAAAAAAAAAAAAAAAAAAAAAAAAAAAAAAAAAAAAAAAAAAAAAAAAAAAAAAAAAAAAAAAAAAAAAAAAAAAAAAAAAAAAAAAAAAAAAAAAAAAAAGPIypnIhtm/tAUhgCvm1b9z4AlGL3XKv+JYd/e05aa/Hrx5vnNAxj+CirNan+PVP8eWRZdANuM/ufXjK1QM7j/6Y/Uf8YjxP+CntFUb5/Q/qlxW4mPJ+T9BgQ78gRX5PzjOlTqC6vo/RX6fmtoT+T8btYFqLNX3Pz4POvJ+ffY/gyMEvLjK8z863zPsJJHyP1k4fd5eUPE/9bdb97Xa8T8cANuIT1PyP4ZC5henVvM/mgY8QuI/+j+H7K6GAED5P9cJtwgqGe8/8MKrBHkb4T+3rCib1szVP3LQjmaJ38w/VCpK4ho/0T+HrgDeZWrWPw67GUZdn9c/CMcbDDpR2T8lwjdPxbDXP2V18YroN9c/AbFF7OhvyT98uIKu4JjHP1sBaNH4N9Y/FKm80qo25D9w9tYeLiztPwAChvQtUuw/kLGmBJdx6j/Ckm/O79roP9p+hS0PP+U/OD+b/UAf4j9Pa7ltpnLhP576bEO5FuE/qlRR0Ocl6D8=",
          "dtype": "f8"
         }
        },
        {
         "mode": "lines",
         "name": "MSFT",
         "type": "scatter",
         "x": [
          "2015-03-31T23:59:59.999999999",
          "2015-04-30T23:59:59.999999999",
          "2015-05-31T23:59:59.999999999",
          "2015-06-30T23:59:59.999999999",
          "2015-07-31T23:59:59.999999999",
          "2015-08-31T23:59:59.999999999",
          "2015-09-30T23:59:59.999999999",
          "2015-10-31T23:59:59.999999999",
          "2015-11-30T23:59:59.999999999",
          "2015-12-31T23:59:59.999999999",
          "2016-01-31T23:59:59.999999999",
          "2016-02-29T23:59:59.999999999",
          "2016-03-31T23:59:59.999999999",
          "2016-04-30T23:59:59.999999999",
          "2016-05-31T23:59:59.999999999",
          "2016-06-30T23:59:59.999999999",
          "2016-07-31T23:59:59.999999999",
          "2016-08-31T23:59:59.999999999",
          "2016-09-30T23:59:59.999999999",
          "2016-10-31T23:59:59.999999999",
          "2016-11-30T23:59:59.999999999",
          "2016-12-31T23:59:59.999999999",
          "2017-01-31T23:59:59.999999999",
          "2017-02-28T23:59:59.999999999",
          "2017-03-31T23:59:59.999999999",
          "2017-04-30T23:59:59.999999999",
          "2017-05-31T23:59:59.999999999",
          "2017-06-30T23:59:59.999999999",
          "2017-07-31T23:59:59.999999999",
          "2017-08-31T23:59:59.999999999",
          "2017-09-30T23:59:59.999999999",
          "2017-10-31T23:59:59.999999999",
          "2017-11-30T23:59:59.999999999",
          "2017-12-31T23:59:59.999999999",
          "2018-01-31T23:59:59.999999999",
          "2018-02-28T23:59:59.999999999",
          "2018-03-31T23:59:59.999999999",
          "2018-04-30T23:59:59.999999999",
          "2018-05-31T23:59:59.999999999",
          "2018-06-30T23:59:59.999999999",
          "2018-07-31T23:59:59.999999999",
          "2018-08-31T23:59:59.999999999",
          "2018-09-30T23:59:59.999999999",
          "2018-10-31T23:59:59.999999999",
          "2018-11-30T23:59:59.999999999",
          "2018-12-31T23:59:59.999999999",
          "2019-01-31T23:59:59.999999999",
          "2019-02-28T23:59:59.999999999",
          "2019-03-31T23:59:59.999999999",
          "2019-04-30T23:59:59.999999999",
          "2019-05-31T23:59:59.999999999",
          "2019-06-30T23:59:59.999999999",
          "2019-07-31T23:59:59.999999999",
          "2019-08-31T23:59:59.999999999",
          "2019-09-30T23:59:59.999999999",
          "2019-10-31T23:59:59.999999999",
          "2019-11-30T23:59:59.999999999",
          "2019-12-31T23:59:59.999999999"
         ],
         "y": {
          "bdata": "AAAAAAAAAAAAAAAAAAAAAAAAAAAAAAAAAAAAAAAAAAAAAAAAAAAAAAAAAAAAAAAAAAAAAAAAAAAAAAAAAAAAAAAAAAAAAAAAAAAAAAAAAAAAAAAAAAAAAOcCEzFVKcY/Q3R6gMaj1D9KeJQ3gm6vP9GQ00mKysQ/Im5TlyhOyD8AcpNF/5zNP5UOujDkLNU/tY4jj2Mg1D+VSVj7zWbKP68LjRw30MU/43flk8iNxz+zEqLpT77PP9+9LQK0KNg/eWiTNCoT1D8AWlwdcejnPzk1FWO51OU/eMHElUmM6T8IsngiHj7vP4B7Oc2ujvA/JHVJatGA7z+brN9B17bpP0vrABgubeo/AwM36RYp6T+aZucTZirpP+LEAXt/2Og/lQklOLzH4z8ELyU3FPniPz3l9IpJyeQ/uZNYk2rG5T+T+9QF8FXmP9YwRFH1xuc/fGAn7o+p6T/HSB/2GGbdP41GU3peIOA/JUl9UPW40T/BMoluOmHHPy47dg0139M/nTEYD9B73D+tQVrQ8LzgP6PzUc3cp9U/ldAbwDY13D9+fax9N+/XP2gVQKvJI9Q/D9lj6S5B0z+isU1BERffP8+5RK9rPeA/1F8TYf9U7T8=",
          "dtype": "f8"
         }
        },
        {
         "mode": "lines",
         "name": "MRK",
         "type": "scatter",
         "x": [
          "2015-03-31T23:59:59.999999999",
          "2015-04-30T23:59:59.999999999",
          "2015-05-31T23:59:59.999999999",
          "2015-06-30T23:59:59.999999999",
          "2015-07-31T23:59:59.999999999",
          "2015-08-31T23:59:59.999999999",
          "2015-09-30T23:59:59.999999999",
          "2015-10-31T23:59:59.999999999",
          "2015-11-30T23:59:59.999999999",
          "2015-12-31T23:59:59.999999999",
          "2016-01-31T23:59:59.999999999",
          "2016-02-29T23:59:59.999999999",
          "2016-03-31T23:59:59.999999999",
          "2016-04-30T23:59:59.999999999",
          "2016-05-31T23:59:59.999999999",
          "2016-06-30T23:59:59.999999999",
          "2016-07-31T23:59:59.999999999",
          "2016-08-31T23:59:59.999999999",
          "2016-09-30T23:59:59.999999999",
          "2016-10-31T23:59:59.999999999",
          "2016-11-30T23:59:59.999999999",
          "2016-12-31T23:59:59.999999999",
          "2017-01-31T23:59:59.999999999",
          "2017-02-28T23:59:59.999999999",
          "2017-03-31T23:59:59.999999999",
          "2017-04-30T23:59:59.999999999",
          "2017-05-31T23:59:59.999999999",
          "2017-06-30T23:59:59.999999999",
          "2017-07-31T23:59:59.999999999",
          "2017-08-31T23:59:59.999999999",
          "2017-09-30T23:59:59.999999999",
          "2017-10-31T23:59:59.999999999",
          "2017-11-30T23:59:59.999999999",
          "2017-12-31T23:59:59.999999999",
          "2018-01-31T23:59:59.999999999",
          "2018-02-28T23:59:59.999999999",
          "2018-03-31T23:59:59.999999999",
          "2018-04-30T23:59:59.999999999",
          "2018-05-31T23:59:59.999999999",
          "2018-06-30T23:59:59.999999999",
          "2018-07-31T23:59:59.999999999",
          "2018-08-31T23:59:59.999999999",
          "2018-09-30T23:59:59.999999999",
          "2018-10-31T23:59:59.999999999",
          "2018-11-30T23:59:59.999999999",
          "2018-12-31T23:59:59.999999999",
          "2019-01-31T23:59:59.999999999",
          "2019-02-28T23:59:59.999999999",
          "2019-03-31T23:59:59.999999999",
          "2019-04-30T23:59:59.999999999",
          "2019-05-31T23:59:59.999999999",
          "2019-06-30T23:59:59.999999999",
          "2019-07-31T23:59:59.999999999",
          "2019-08-31T23:59:59.999999999",
          "2019-09-30T23:59:59.999999999",
          "2019-10-31T23:59:59.999999999",
          "2019-11-30T23:59:59.999999999",
          "2019-12-31T23:59:59.999999999"
         ],
         "y": {
          "bdata": "AAAAAAAAAAAAAAAAAAAAAAAAAAAAAAAAAAAAAAAAAAAAAAAAAAAAAAAAAAAAAAAAAAAAAAAAAAAAAAAAAAAAAAAAAAAAAAAAAAAAAAAAAAAAAAAAAAAAAD8VOo/fucm/RK4sM3jvtr8bk4ZsK822vzirMmy3bLW/uVT7MbhGpj94xIyTFE2SP+Nu/50RdtE/MikMvSHp3j8LPd4ClRjGP7NySOIFYNU/O4OuIaP7zj8eBGtjsPrcP2/2EwGF6OI/5I1aqLSg2D+k6324R1LRP/sfNrPGPNM/hdQS6wtszD8N/KNJTjTHPyjKqAG2b6s/TgdL4Zpnsj8EOQIcaPyxvxTjwII+IsG/E8T5pialp7/MDTKxWZ6nv7sfD3YUttG/ihKBNQN8y7/eles4QY2qvwmpJQG6C7q/WQ/kpwCxqb9sWXZ/DhqyP5t7gYy1tb8/yMwRceT8xD8Ysdi7/XDiPycFCUaRDOY/et2Qv8RS4T8e0gjhnnPZP24DQwlJJuo/kBxVbS/b6z8FOpZ/dmDhP9/1JEb1C+E/NNxGAq3f4j9y7k/unpjcP4nyGDNOqdw/7FnMMPzO1D/R3KRudv/TP3qdS1lvKco/4ABL+Xb61z8=",
          "dtype": "f8"
         }
        },
        {
         "mode": "lines",
         "name": "GOOGL",
         "type": "scatter",
         "x": [
          "2015-03-31T23:59:59.999999999",
          "2015-04-30T23:59:59.999999999",
          "2015-05-31T23:59:59.999999999",
          "2015-06-30T23:59:59.999999999",
          "2015-07-31T23:59:59.999999999",
          "2015-08-31T23:59:59.999999999",
          "2015-09-30T23:59:59.999999999",
          "2015-10-31T23:59:59.999999999",
          "2015-11-30T23:59:59.999999999",
          "2015-12-31T23:59:59.999999999",
          "2016-01-31T23:59:59.999999999",
          "2016-02-29T23:59:59.999999999",
          "2016-03-31T23:59:59.999999999",
          "2016-04-30T23:59:59.999999999",
          "2016-05-31T23:59:59.999999999",
          "2016-06-30T23:59:59.999999999",
          "2016-07-31T23:59:59.999999999",
          "2016-08-31T23:59:59.999999999",
          "2016-09-30T23:59:59.999999999",
          "2016-10-31T23:59:59.999999999",
          "2016-11-30T23:59:59.999999999",
          "2016-12-31T23:59:59.999999999",
          "2017-01-31T23:59:59.999999999",
          "2017-02-28T23:59:59.999999999",
          "2017-03-31T23:59:59.999999999",
          "2017-04-30T23:59:59.999999999",
          "2017-05-31T23:59:59.999999999",
          "2017-06-30T23:59:59.999999999",
          "2017-07-31T23:59:59.999999999",
          "2017-08-31T23:59:59.999999999",
          "2017-09-30T23:59:59.999999999",
          "2017-10-31T23:59:59.999999999",
          "2017-11-30T23:59:59.999999999",
          "2017-12-31T23:59:59.999999999",
          "2018-01-31T23:59:59.999999999",
          "2018-02-28T23:59:59.999999999",
          "2018-03-31T23:59:59.999999999",
          "2018-04-30T23:59:59.999999999",
          "2018-05-31T23:59:59.999999999",
          "2018-06-30T23:59:59.999999999",
          "2018-07-31T23:59:59.999999999",
          "2018-08-31T23:59:59.999999999",
          "2018-09-30T23:59:59.999999999",
          "2018-10-31T23:59:59.999999999",
          "2018-11-30T23:59:59.999999999",
          "2018-12-31T23:59:59.999999999",
          "2019-01-31T23:59:59.999999999",
          "2019-02-28T23:59:59.999999999",
          "2019-03-31T23:59:59.999999999",
          "2019-04-30T23:59:59.999999999",
          "2019-05-31T23:59:59.999999999",
          "2019-06-30T23:59:59.999999999",
          "2019-07-31T23:59:59.999999999",
          "2019-08-31T23:59:59.999999999",
          "2019-09-30T23:59:59.999999999",
          "2019-10-31T23:59:59.999999999",
          "2019-11-30T23:59:59.999999999",
          "2019-12-31T23:59:59.999999999"
         ],
         "y": {
          "bdata": "AAAAAAAAAAAAAAAAAAAAAAAAAAAAAAAAAAAAAAAAAAAAAAAAAAAAAAAAAAAAAAAAAAAAAAAAAAAAAAAAAAAAAAAAAAAAAAAAAAAAAAAAAAAAAAAAAAAAAOmib002Y9I/9+f6CViZ1z+z97PdEm3SP077ZZlreNY/x2HMmy+T0j9plrHVBofPP3dPAnChz9A/BfSIuDVr0z9fbSTQFbXEPwh7uq41yak/w93S8FbVqj+avsr8xeLAP2jRXtoTeNE/IB2gvME5yD8N9+zwjJ3dP4IyTP8VOt4/Ih/U24al3j8Y7O6UOKTYP3bWes4re9o/HxgjVYqs2j8ZzXkHLivgPwDY1haEOOU/U+WHEEjY5D9/AC2L2J/lPw6ST++twNs/TzrOMOjF0z/w6oAuGqbFPysWZx21ecc/qVXbgHIZ1T/NVxZqpEraP4RbBbbNmNk/DtyPy2Vn1T+pn6Eg2Ua5P2GoCibN5r0/fKIRHvGflT+gqn4xLASjv/d5d02qhKw/WgXdAFByyz8UFMYa3XfRP2/9IXUCA6I/yFOSohb1ob9/q3w8fVyTP0akksCIRZC/7aEEhJCmpj8xmTVebuDOP1Z2FoSCGNE/65vYOCWr2z8=",
          "dtype": "f8"
         }
        },
        {
         "mode": "lines",
         "name": "CVX",
         "type": "scatter",
         "x": [
          "2015-03-31T23:59:59.999999999",
          "2015-04-30T23:59:59.999999999",
          "2015-05-31T23:59:59.999999999",
          "2015-06-30T23:59:59.999999999",
          "2015-07-31T23:59:59.999999999",
          "2015-08-31T23:59:59.999999999",
          "2015-09-30T23:59:59.999999999",
          "2015-10-31T23:59:59.999999999",
          "2015-11-30T23:59:59.999999999",
          "2015-12-31T23:59:59.999999999",
          "2016-01-31T23:59:59.999999999",
          "2016-02-29T23:59:59.999999999",
          "2016-03-31T23:59:59.999999999",
          "2016-04-30T23:59:59.999999999",
          "2016-05-31T23:59:59.999999999",
          "2016-06-30T23:59:59.999999999",
          "2016-07-31T23:59:59.999999999",
          "2016-08-31T23:59:59.999999999",
          "2016-09-30T23:59:59.999999999",
          "2016-10-31T23:59:59.999999999",
          "2016-11-30T23:59:59.999999999",
          "2016-12-31T23:59:59.999999999",
          "2017-01-31T23:59:59.999999999",
          "2017-02-28T23:59:59.999999999",
          "2017-03-31T23:59:59.999999999",
          "2017-04-30T23:59:59.999999999",
          "2017-05-31T23:59:59.999999999",
          "2017-06-30T23:59:59.999999999",
          "2017-07-31T23:59:59.999999999",
          "2017-08-31T23:59:59.999999999",
          "2017-09-30T23:59:59.999999999",
          "2017-10-31T23:59:59.999999999",
          "2017-11-30T23:59:59.999999999",
          "2017-12-31T23:59:59.999999999",
          "2018-01-31T23:59:59.999999999",
          "2018-02-28T23:59:59.999999999",
          "2018-03-31T23:59:59.999999999",
          "2018-04-30T23:59:59.999999999",
          "2018-05-31T23:59:59.999999999",
          "2018-06-30T23:59:59.999999999",
          "2018-07-31T23:59:59.999999999",
          "2018-08-31T23:59:59.999999999",
          "2018-09-30T23:59:59.999999999",
          "2018-10-31T23:59:59.999999999",
          "2018-11-30T23:59:59.999999999",
          "2018-12-31T23:59:59.999999999",
          "2019-01-31T23:59:59.999999999",
          "2019-02-28T23:59:59.999999999",
          "2019-03-31T23:59:59.999999999",
          "2019-04-30T23:59:59.999999999",
          "2019-05-31T23:59:59.999999999",
          "2019-06-30T23:59:59.999999999",
          "2019-07-31T23:59:59.999999999",
          "2019-08-31T23:59:59.999999999",
          "2019-09-30T23:59:59.999999999",
          "2019-10-31T23:59:59.999999999",
          "2019-11-30T23:59:59.999999999",
          "2019-12-31T23:59:59.999999999"
         ],
         "y": {
          "bdata": "AAAAAAAAAAAAAAAAAAAAAAAAAAAAAAAAAAAAAAAAAAAAAAAAAAAAAAAAAAAAAAAAAAAAAAAAAAAAAAAAAAAAAAAAAAAAAAAAAAAAAAAAAAAAAAAAAAAAAHX0m5thZdG/ReUneXpGr7/krY4x5B+ov6PA01QfNI4/fFhYFf+Yvz8x30L1P5vJP/KkrHZEKNM/uzdPvmOe1z89ciUpIRbQP8ofglRjbtU/87zTJw1k3D9omWMe0AvaPxfoIb15AOA/gei0HERX0D9IaOpcBw+9P+3AqdJO77E/Z/L7ZKn/eD+7wm+kEt3DP2Co5DB6I8U/ewqQWlnv0D+PBmAbZSzKPyIpVUEegMI/Em5il4HlwT/gs5q9UpnRP3dlctnckI8/IsiIr1T8vz+z0pKcpQDRP+UIicHiv9M/mm+Ex7im1D+Rmwgo5R3QPzSMRR1SRMU/XTBnGxiStj9iIMItdoeav3F2lYonipw/Dzy4kqWkw78POmzNSMm0vyFZO14qA78/35zXYK9wwT+C19Y/0q2kv43qQSf1pbu/M4xyJdJAfD/b9lGmNwR4v5BLScTzfZM/YnXwgw61j7+aN+7KsgK2P9cZluMxCma/MrpvavcqzD8=",
          "dtype": "f8"
         }
        }
       ],
       "layout": {
        "legend": {
         "title": {
          "text": "Series"
         }
        },
        "template": {
         "data": {
          "bar": [
           {
            "error_x": {
             "color": "#2a3f5f"
            },
            "error_y": {
             "color": "#2a3f5f"
            },
            "marker": {
             "line": {
              "color": "white",
              "width": 0.5
             },
             "pattern": {
              "fillmode": "overlay",
              "size": 10,
              "solidity": 0.2
             }
            },
            "type": "bar"
           }
          ],
          "barpolar": [
           {
            "marker": {
             "line": {
              "color": "white",
              "width": 0.5
             },
             "pattern": {
              "fillmode": "overlay",
              "size": 10,
              "solidity": 0.2
             }
            },
            "type": "barpolar"
           }
          ],
          "carpet": [
           {
            "aaxis": {
             "endlinecolor": "#2a3f5f",
             "gridcolor": "#C8D4E3",
             "linecolor": "#C8D4E3",
             "minorgridcolor": "#C8D4E3",
             "startlinecolor": "#2a3f5f"
            },
            "baxis": {
             "endlinecolor": "#2a3f5f",
             "gridcolor": "#C8D4E3",
             "linecolor": "#C8D4E3",
             "minorgridcolor": "#C8D4E3",
             "startlinecolor": "#2a3f5f"
            },
            "type": "carpet"
           }
          ],
          "choropleth": [
           {
            "colorbar": {
             "outlinewidth": 0,
             "ticks": ""
            },
            "type": "choropleth"
           }
          ],
          "contour": [
           {
            "colorbar": {
             "outlinewidth": 0,
             "ticks": ""
            },
            "colorscale": [
             [
              0,
              "#0d0887"
             ],
             [
              0.1111111111111111,
              "#46039f"
             ],
             [
              0.2222222222222222,
              "#7201a8"
             ],
             [
              0.3333333333333333,
              "#9c179e"
             ],
             [
              0.4444444444444444,
              "#bd3786"
             ],
             [
              0.5555555555555556,
              "#d8576b"
             ],
             [
              0.6666666666666666,
              "#ed7953"
             ],
             [
              0.7777777777777778,
              "#fb9f3a"
             ],
             [
              0.8888888888888888,
              "#fdca26"
             ],
             [
              1,
              "#f0f921"
             ]
            ],
            "type": "contour"
           }
          ],
          "contourcarpet": [
           {
            "colorbar": {
             "outlinewidth": 0,
             "ticks": ""
            },
            "type": "contourcarpet"
           }
          ],
          "heatmap": [
           {
            "colorbar": {
             "outlinewidth": 0,
             "ticks": ""
            },
            "colorscale": [
             [
              0,
              "#0d0887"
             ],
             [
              0.1111111111111111,
              "#46039f"
             ],
             [
              0.2222222222222222,
              "#7201a8"
             ],
             [
              0.3333333333333333,
              "#9c179e"
             ],
             [
              0.4444444444444444,
              "#bd3786"
             ],
             [
              0.5555555555555556,
              "#d8576b"
             ],
             [
              0.6666666666666666,
              "#ed7953"
             ],
             [
              0.7777777777777778,
              "#fb9f3a"
             ],
             [
              0.8888888888888888,
              "#fdca26"
             ],
             [
              1,
              "#f0f921"
             ]
            ],
            "type": "heatmap"
           }
          ],
          "histogram": [
           {
            "marker": {
             "pattern": {
              "fillmode": "overlay",
              "size": 10,
              "solidity": 0.2
             }
            },
            "type": "histogram"
           }
          ],
          "histogram2d": [
           {
            "colorbar": {
             "outlinewidth": 0,
             "ticks": ""
            },
            "colorscale": [
             [
              0,
              "#0d0887"
             ],
             [
              0.1111111111111111,
              "#46039f"
             ],
             [
              0.2222222222222222,
              "#7201a8"
             ],
             [
              0.3333333333333333,
              "#9c179e"
             ],
             [
              0.4444444444444444,
              "#bd3786"
             ],
             [
              0.5555555555555556,
              "#d8576b"
             ],
             [
              0.6666666666666666,
              "#ed7953"
             ],
             [
              0.7777777777777778,
              "#fb9f3a"
             ],
             [
              0.8888888888888888,
              "#fdca26"
             ],
             [
              1,
              "#f0f921"
             ]
            ],
            "type": "histogram2d"
           }
          ],
          "histogram2dcontour": [
           {
            "colorbar": {
             "outlinewidth": 0,
             "ticks": ""
            },
            "colorscale": [
             [
              0,
              "#0d0887"
             ],
             [
              0.1111111111111111,
              "#46039f"
             ],
             [
              0.2222222222222222,
              "#7201a8"
             ],
             [
              0.3333333333333333,
              "#9c179e"
             ],
             [
              0.4444444444444444,
              "#bd3786"
             ],
             [
              0.5555555555555556,
              "#d8576b"
             ],
             [
              0.6666666666666666,
              "#ed7953"
             ],
             [
              0.7777777777777778,
              "#fb9f3a"
             ],
             [
              0.8888888888888888,
              "#fdca26"
             ],
             [
              1,
              "#f0f921"
             ]
            ],
            "type": "histogram2dcontour"
           }
          ],
          "mesh3d": [
           {
            "colorbar": {
             "outlinewidth": 0,
             "ticks": ""
            },
            "type": "mesh3d"
           }
          ],
          "parcoords": [
           {
            "line": {
             "colorbar": {
              "outlinewidth": 0,
              "ticks": ""
             }
            },
            "type": "parcoords"
           }
          ],
          "pie": [
           {
            "automargin": true,
            "type": "pie"
           }
          ],
          "scatter": [
           {
            "fillpattern": {
             "fillmode": "overlay",
             "size": 10,
             "solidity": 0.2
            },
            "type": "scatter"
           }
          ],
          "scatter3d": [
           {
            "line": {
             "colorbar": {
              "outlinewidth": 0,
              "ticks": ""
             }
            },
            "marker": {
             "colorbar": {
              "outlinewidth": 0,
              "ticks": ""
             }
            },
            "type": "scatter3d"
           }
          ],
          "scattercarpet": [
           {
            "marker": {
             "colorbar": {
              "outlinewidth": 0,
              "ticks": ""
             }
            },
            "type": "scattercarpet"
           }
          ],
          "scattergeo": [
           {
            "marker": {
             "colorbar": {
              "outlinewidth": 0,
              "ticks": ""
             }
            },
            "type": "scattergeo"
           }
          ],
          "scattergl": [
           {
            "marker": {
             "colorbar": {
              "outlinewidth": 0,
              "ticks": ""
             }
            },
            "type": "scattergl"
           }
          ],
          "scattermap": [
           {
            "marker": {
             "colorbar": {
              "outlinewidth": 0,
              "ticks": ""
             }
            },
            "type": "scattermap"
           }
          ],
          "scattermapbox": [
           {
            "marker": {
             "colorbar": {
              "outlinewidth": 0,
              "ticks": ""
             }
            },
            "type": "scattermapbox"
           }
          ],
          "scatterpolar": [
           {
            "marker": {
             "colorbar": {
              "outlinewidth": 0,
              "ticks": ""
             }
            },
            "type": "scatterpolar"
           }
          ],
          "scatterpolargl": [
           {
            "marker": {
             "colorbar": {
              "outlinewidth": 0,
              "ticks": ""
             }
            },
            "type": "scatterpolargl"
           }
          ],
          "scatterternary": [
           {
            "marker": {
             "colorbar": {
              "outlinewidth": 0,
              "ticks": ""
             }
            },
            "type": "scatterternary"
           }
          ],
          "surface": [
           {
            "colorbar": {
             "outlinewidth": 0,
             "ticks": ""
            },
            "colorscale": [
             [
              0,
              "#0d0887"
             ],
             [
              0.1111111111111111,
              "#46039f"
             ],
             [
              0.2222222222222222,
              "#7201a8"
             ],
             [
              0.3333333333333333,
              "#9c179e"
             ],
             [
              0.4444444444444444,
              "#bd3786"
             ],
             [
              0.5555555555555556,
              "#d8576b"
             ],
             [
              0.6666666666666666,
              "#ed7953"
             ],
             [
              0.7777777777777778,
              "#fb9f3a"
             ],
             [
              0.8888888888888888,
              "#fdca26"
             ],
             [
              1,
              "#f0f921"
             ]
            ],
            "type": "surface"
           }
          ],
          "table": [
           {
            "cells": {
             "fill": {
              "color": "#EBF0F8"
             },
             "line": {
              "color": "white"
             }
            },
            "header": {
             "fill": {
              "color": "#C8D4E3"
             },
             "line": {
              "color": "white"
             }
            },
            "type": "table"
           }
          ]
         },
         "layout": {
          "annotationdefaults": {
           "arrowcolor": "#2a3f5f",
           "arrowhead": 0,
           "arrowwidth": 1
          },
          "autotypenumbers": "strict",
          "coloraxis": {
           "colorbar": {
            "outlinewidth": 0,
            "ticks": ""
           }
          },
          "colorscale": {
           "diverging": [
            [
             0,
             "#8e0152"
            ],
            [
             0.1,
             "#c51b7d"
            ],
            [
             0.2,
             "#de77ae"
            ],
            [
             0.3,
             "#f1b6da"
            ],
            [
             0.4,
             "#fde0ef"
            ],
            [
             0.5,
             "#f7f7f7"
            ],
            [
             0.6,
             "#e6f5d0"
            ],
            [
             0.7,
             "#b8e186"
            ],
            [
             0.8,
             "#7fbc41"
            ],
            [
             0.9,
             "#4d9221"
            ],
            [
             1,
             "#276419"
            ]
           ],
           "sequential": [
            [
             0,
             "#0d0887"
            ],
            [
             0.1111111111111111,
             "#46039f"
            ],
            [
             0.2222222222222222,
             "#7201a8"
            ],
            [
             0.3333333333333333,
             "#9c179e"
            ],
            [
             0.4444444444444444,
             "#bd3786"
            ],
            [
             0.5555555555555556,
             "#d8576b"
            ],
            [
             0.6666666666666666,
             "#ed7953"
            ],
            [
             0.7777777777777778,
             "#fb9f3a"
            ],
            [
             0.8888888888888888,
             "#fdca26"
            ],
            [
             1,
             "#f0f921"
            ]
           ],
           "sequentialminus": [
            [
             0,
             "#0d0887"
            ],
            [
             0.1111111111111111,
             "#46039f"
            ],
            [
             0.2222222222222222,
             "#7201a8"
            ],
            [
             0.3333333333333333,
             "#9c179e"
            ],
            [
             0.4444444444444444,
             "#bd3786"
            ],
            [
             0.5555555555555556,
             "#d8576b"
            ],
            [
             0.6666666666666666,
             "#ed7953"
            ],
            [
             0.7777777777777778,
             "#fb9f3a"
            ],
            [
             0.8888888888888888,
             "#fdca26"
            ],
            [
             1,
             "#f0f921"
            ]
           ]
          },
          "colorway": [
           "#636efa",
           "#EF553B",
           "#00cc96",
           "#ab63fa",
           "#FFA15A",
           "#19d3f3",
           "#FF6692",
           "#B6E880",
           "#FF97FF",
           "#FECB52"
          ],
          "font": {
           "color": "#2a3f5f"
          },
          "geo": {
           "bgcolor": "white",
           "lakecolor": "white",
           "landcolor": "white",
           "showlakes": true,
           "showland": true,
           "subunitcolor": "#C8D4E3"
          },
          "hoverlabel": {
           "align": "left"
          },
          "hovermode": "closest",
          "mapbox": {
           "style": "light"
          },
          "paper_bgcolor": "white",
          "plot_bgcolor": "white",
          "polar": {
           "angularaxis": {
            "gridcolor": "#EBF0F8",
            "linecolor": "#EBF0F8",
            "ticks": ""
           },
           "bgcolor": "white",
           "radialaxis": {
            "gridcolor": "#EBF0F8",
            "linecolor": "#EBF0F8",
            "ticks": ""
           }
          },
          "scene": {
           "xaxis": {
            "backgroundcolor": "white",
            "gridcolor": "#DFE8F3",
            "gridwidth": 2,
            "linecolor": "#EBF0F8",
            "showbackground": true,
            "ticks": "",
            "zerolinecolor": "#EBF0F8"
           },
           "yaxis": {
            "backgroundcolor": "white",
            "gridcolor": "#DFE8F3",
            "gridwidth": 2,
            "linecolor": "#EBF0F8",
            "showbackground": true,
            "ticks": "",
            "zerolinecolor": "#EBF0F8"
           },
           "zaxis": {
            "backgroundcolor": "white",
            "gridcolor": "#DFE8F3",
            "gridwidth": 2,
            "linecolor": "#EBF0F8",
            "showbackground": true,
            "ticks": "",
            "zerolinecolor": "#EBF0F8"
           }
          },
          "shapedefaults": {
           "line": {
            "color": "#2a3f5f"
           }
          },
          "ternary": {
           "aaxis": {
            "gridcolor": "#DFE8F3",
            "linecolor": "#A2B1C6",
            "ticks": ""
           },
           "baxis": {
            "gridcolor": "#DFE8F3",
            "linecolor": "#A2B1C6",
            "ticks": ""
           },
           "bgcolor": "white",
           "caxis": {
            "gridcolor": "#DFE8F3",
            "linecolor": "#A2B1C6",
            "ticks": ""
           }
          },
          "title": {
           "x": 0.05
          },
          "xaxis": {
           "automargin": true,
           "gridcolor": "#EBF0F8",
           "linecolor": "#EBF0F8",
           "ticks": "",
           "title": {
            "standoff": 15
           },
           "zerolinecolor": "#EBF0F8",
           "zerolinewidth": 2
          },
          "yaxis": {
           "automargin": true,
           "gridcolor": "#EBF0F8",
           "linecolor": "#EBF0F8",
           "ticks": "",
           "title": {
            "standoff": 15
           },
           "zerolinecolor": "#EBF0F8",
           "zerolinewidth": 2
          }
         }
        },
        "title": {
         "text": "Rolling Sharpe ratio (window=12)"
        },
        "xaxis": {
         "title": {
          "text": "Date"
         }
        },
        "yaxis": {
         "title": {
          "text": "Sharpe ≈ μ/σ"
         }
        }
       }
      }
     },
     "metadata": {},
     "output_type": "display_data"
    },
    {
     "data": {
      "application/vnd.plotly.v1+json": {
       "config": {
        "plotlyServerURL": "https://plot.ly"
       },
       "data": [
        {
         "mode": "lines",
         "name": "CVaR",
         "type": "scatter",
         "x": [
          "2015-02-28T23:59:59.999999999",
          "2015-03-31T23:59:59.999999999",
          "2015-04-30T23:59:59.999999999",
          "2015-05-31T23:59:59.999999999",
          "2015-06-30T23:59:59.999999999",
          "2015-07-31T23:59:59.999999999",
          "2015-08-31T23:59:59.999999999",
          "2015-09-30T23:59:59.999999999",
          "2015-10-31T23:59:59.999999999",
          "2015-11-30T23:59:59.999999999",
          "2015-12-31T23:59:59.999999999",
          "2016-01-31T23:59:59.999999999",
          "2016-02-29T23:59:59.999999999",
          "2016-03-31T23:59:59.999999999",
          "2016-04-30T23:59:59.999999999",
          "2016-05-31T23:59:59.999999999",
          "2016-06-30T23:59:59.999999999",
          "2016-07-31T23:59:59.999999999",
          "2016-08-31T23:59:59.999999999",
          "2016-09-30T23:59:59.999999999",
          "2016-10-31T23:59:59.999999999",
          "2016-11-30T23:59:59.999999999",
          "2016-12-31T23:59:59.999999999",
          "2017-01-31T23:59:59.999999999",
          "2017-02-28T23:59:59.999999999",
          "2017-03-31T23:59:59.999999999",
          "2017-04-30T23:59:59.999999999",
          "2017-05-31T23:59:59.999999999",
          "2017-06-30T23:59:59.999999999",
          "2017-07-31T23:59:59.999999999",
          "2017-08-31T23:59:59.999999999",
          "2017-09-30T23:59:59.999999999",
          "2017-10-31T23:59:59.999999999",
          "2017-11-30T23:59:59.999999999",
          "2017-12-31T23:59:59.999999999",
          "2018-01-31T23:59:59.999999999",
          "2018-02-28T23:59:59.999999999",
          "2018-03-31T23:59:59.999999999",
          "2018-04-30T23:59:59.999999999",
          "2018-05-31T23:59:59.999999999",
          "2018-06-30T23:59:59.999999999",
          "2018-07-31T23:59:59.999999999",
          "2018-08-31T23:59:59.999999999",
          "2018-09-30T23:59:59.999999999",
          "2018-10-31T23:59:59.999999999",
          "2018-11-30T23:59:59.999999999",
          "2018-12-31T23:59:59.999999999",
          "2019-01-31T23:59:59.999999999",
          "2019-02-28T23:59:59.999999999",
          "2019-03-31T23:59:59.999999999",
          "2019-04-30T23:59:59.999999999",
          "2019-05-31T23:59:59.999999999",
          "2019-06-30T23:59:59.999999999",
          "2019-07-31T23:59:59.999999999",
          "2019-08-31T23:59:59.999999999",
          "2019-09-30T23:59:59.999999999",
          "2019-10-31T23:59:59.999999999",
          "2019-11-30T23:59:59.999999999",
          "2019-12-31T23:59:59.999999999"
         ],
         "y": {
          "bdata": "AAAAAAAAAADC4+TXk6t7v4squuet21y/AAAAAAAAAAAQWntQQVCUv3Txq5koeJ2/KRL7DVaKu7/NgCoXHCrHvxtpu+BlTsa/lipYWqNmxb+J8MFaYG7Ev2DYT2rCAMS/ko9tXt2Twr8GPTukkDC5v1In2C0uqKW/AAAAAAAAAAAAAAAAAAAAAAAAAAAAAAAAAAAAAAAAAAAAAAAAAAAAAAAAAAAAAAAAAAAAAAAAAAAAAAAAAAAAAOsV7/PXAXG/AAAAAAAAAAAAAAAAAAAAAAAAAAAAAAAAAAAAAAAAAAAAAAAAAAAAAAAAAAAAAAAAAAAAAAAAAAAAAAAAAAAAAAAAAAAAAAAAAAAAAAAAAAAAAAAAAAAAAKTDf9E5AYK/DovnyhWrrL9pEhBDtKnAv2KQz4Mbzsa/iWwKmahhyr9Lk8MnhrnFv3MaLu3qv7O/UPmqaz9mob8AAAAAAAAAAAAAAAAAAAAAAAAAAAAAAABFKdokHJenv6nBX7vPnbC/AAAAAAAAAAAAAAAAAAAAAAAAAAAAAAAAx8uOxb+cnb8atrOcXlxdvwAAAAAAAAAAAAAAAAAAAAAAAAAAAAAAAAAAAAAAAAAAAAAAAAAAAAAAAAAAAAAAAA==",
          "dtype": "f8"
         }
        },
        {
         "mode": "lines",
         "name": "MVar",
         "type": "scatter",
         "x": [
          "2015-02-28T23:59:59.999999999",
          "2015-03-31T23:59:59.999999999",
          "2015-04-30T23:59:59.999999999",
          "2015-05-31T23:59:59.999999999",
          "2015-06-30T23:59:59.999999999",
          "2015-07-31T23:59:59.999999999",
          "2015-08-31T23:59:59.999999999",
          "2015-09-30T23:59:59.999999999",
          "2015-10-31T23:59:59.999999999",
          "2015-11-30T23:59:59.999999999",
          "2015-12-31T23:59:59.999999999",
          "2016-01-31T23:59:59.999999999",
          "2016-02-29T23:59:59.999999999",
          "2016-03-31T23:59:59.999999999",
          "2016-04-30T23:59:59.999999999",
          "2016-05-31T23:59:59.999999999",
          "2016-06-30T23:59:59.999999999",
          "2016-07-31T23:59:59.999999999",
          "2016-08-31T23:59:59.999999999",
          "2016-09-30T23:59:59.999999999",
          "2016-10-31T23:59:59.999999999",
          "2016-11-30T23:59:59.999999999",
          "2016-12-31T23:59:59.999999999",
          "2017-01-31T23:59:59.999999999",
          "2017-02-28T23:59:59.999999999",
          "2017-03-31T23:59:59.999999999",
          "2017-04-30T23:59:59.999999999",
          "2017-05-31T23:59:59.999999999",
          "2017-06-30T23:59:59.999999999",
          "2017-07-31T23:59:59.999999999",
          "2017-08-31T23:59:59.999999999",
          "2017-09-30T23:59:59.999999999",
          "2017-10-31T23:59:59.999999999",
          "2017-11-30T23:59:59.999999999",
          "2017-12-31T23:59:59.999999999",
          "2018-01-31T23:59:59.999999999",
          "2018-02-28T23:59:59.999999999",
          "2018-03-31T23:59:59.999999999",
          "2018-04-30T23:59:59.999999999",
          "2018-05-31T23:59:59.999999999",
          "2018-06-30T23:59:59.999999999",
          "2018-07-31T23:59:59.999999999",
          "2018-08-31T23:59:59.999999999",
          "2018-09-30T23:59:59.999999999",
          "2018-10-31T23:59:59.999999999",
          "2018-11-30T23:59:59.999999999",
          "2018-12-31T23:59:59.999999999",
          "2019-01-31T23:59:59.999999999",
          "2019-02-28T23:59:59.999999999",
          "2019-03-31T23:59:59.999999999",
          "2019-04-30T23:59:59.999999999",
          "2019-05-31T23:59:59.999999999",
          "2019-06-30T23:59:59.999999999",
          "2019-07-31T23:59:59.999999999",
          "2019-08-31T23:59:59.999999999",
          "2019-09-30T23:59:59.999999999",
          "2019-10-31T23:59:59.999999999",
          "2019-11-30T23:59:59.999999999",
          "2019-12-31T23:59:59.999999999"
         ],
         "y": {
          "bdata": "AAAAAAAAAAAAAAAAAAAAAAAAAAAAAAAAAAAAAAAAAACRFy91Hd+Yv9EHHw3gpKG/Hy+N2aKBvb93WFbKL2jIv6ogMjpj4ce/Bfp8tqL7x78Xm9O1YmnIv7UUL2OH9ce/Q/pkVYi9x78i/MfDFZzDv0NQQKREM7y/qQE0T/yTo78AAAAAAAAAAAAAAAAAAAAAAAAAAAAAAAAAAAAAAAAAAAAAAAAAAAAAAAAAAAAAAAAAAAAAAAAAAKUg5P6RS3G/AAAAAAAAAAAAAAAAAAAAAAAAAAAAAAAAAAAAAAAAAAAAAAAAAAAAAAAAAAAAAAAAAAAAAAAAAAAAAAAAAAAAAAAAAAAAAAAAAAAAAAAAAAAAAAAAAAAAAAq4bXwm8IC/wmaEuu/QqL91yRHL7Ci/v25XhxAMzcW/AzzgX7RkyL/x+qPpCdbCv91NgfgEaqm/H28t4YuAWb8AAAAAAAAAAAAAAAAAAAAAAAAAAAAAAAAzewx+pfOnvxhzY76nZ7C/AAAAAAAAAAAAAAAAAAAAAAAAAAAAAAAAWAfyWLNdoL8ytVArw6aJvwAAAAAAAAAAxe0/of++f78AAAAAAAAAAAAAAAAAAAAAAAAAAAAAAAAAAAAAAAAAAA==",
          "dtype": "f8"
         }
        },
        {
         "mode": "lines",
         "name": "MSFT",
         "type": "scatter",
         "x": [
          "2015-02-28T23:59:59.999999999",
          "2015-03-31T23:59:59.999999999",
          "2015-04-30T23:59:59.999999999",
          "2015-05-31T23:59:59.999999999",
          "2015-06-30T23:59:59.999999999",
          "2015-07-31T23:59:59.999999999",
          "2015-08-31T23:59:59.999999999",
          "2015-09-30T23:59:59.999999999",
          "2015-10-31T23:59:59.999999999",
          "2015-11-30T23:59:59.999999999",
          "2015-12-31T23:59:59.999999999",
          "2016-01-31T23:59:59.999999999",
          "2016-02-29T23:59:59.999999999",
          "2016-03-31T23:59:59.999999999",
          "2016-04-30T23:59:59.999999999",
          "2016-05-31T23:59:59.999999999",
          "2016-06-30T23:59:59.999999999",
          "2016-07-31T23:59:59.999999999",
          "2016-08-31T23:59:59.999999999",
          "2016-09-30T23:59:59.999999999",
          "2016-10-31T23:59:59.999999999",
          "2016-11-30T23:59:59.999999999",
          "2016-12-31T23:59:59.999999999",
          "2017-01-31T23:59:59.999999999",
          "2017-02-28T23:59:59.999999999",
          "2017-03-31T23:59:59.999999999",
          "2017-04-30T23:59:59.999999999",
          "2017-05-31T23:59:59.999999999",
          "2017-06-30T23:59:59.999999999",
          "2017-07-31T23:59:59.999999999",
          "2017-08-31T23:59:59.999999999",
          "2017-09-30T23:59:59.999999999",
          "2017-10-31T23:59:59.999999999",
          "2017-11-30T23:59:59.999999999",
          "2017-12-31T23:59:59.999999999",
          "2018-01-31T23:59:59.999999999",
          "2018-02-28T23:59:59.999999999",
          "2018-03-31T23:59:59.999999999",
          "2018-04-30T23:59:59.999999999",
          "2018-05-31T23:59:59.999999999",
          "2018-06-30T23:59:59.999999999",
          "2018-07-31T23:59:59.999999999",
          "2018-08-31T23:59:59.999999999",
          "2018-09-30T23:59:59.999999999",
          "2018-10-31T23:59:59.999999999",
          "2018-11-30T23:59:59.999999999",
          "2018-12-31T23:59:59.999999999",
          "2019-01-31T23:59:59.999999999",
          "2019-02-28T23:59:59.999999999",
          "2019-03-31T23:59:59.999999999",
          "2019-04-30T23:59:59.999999999",
          "2019-05-31T23:59:59.999999999",
          "2019-06-30T23:59:59.999999999",
          "2019-07-31T23:59:59.999999999",
          "2019-08-31T23:59:59.999999999",
          "2019-09-30T23:59:59.999999999",
          "2019-10-31T23:59:59.999999999",
          "2019-11-30T23:59:59.999999999",
          "2019-12-31T23:59:59.999999999"
         ],
         "y": {
          "bdata": "AAAAAAAAAAAjU3D8nJ+yvwAAAAAAAAAA1Gsor6G8or8jymsor6G3v7uG8hrKa6S/K6+hvIbyur/dUF5DeQ23vwAAAAAAAAAAAAAAAAAAAAAAAAAAAAAAABbMwTIHy3y/mVNxTsU5tb+tJkGdBHVyvyyetXjW4rm/JW7BuAXjpr8rPs34NOOzvwAAAAAAAAAAAAAAAAAAAAAAAAAAAAAAAAAAAAAAAAAAAAAAAAAAAAAAAAAAAAAAAAAAAAAAAAAAs/Fr2nQ5hb8AAAAAAAAAAAAAAAAAAAAAAAAAAAAAAAAw3d7IW6+KvwAAAAAAAAAAAAAAAAAAAABg+uqNc61uvwAAAAAAAAAAAAAAAAAAAAAAAAAAAAAAAAAAAAAAAAAAH10WKp66ir9ZaYL4jSekv2YlpMQWD5C/AAAAAAAAAADEEC3rDhBjvwAAAAAAAAAAAAAAAAAAAAAAAAAAAAAAACoKYvQC7LC/DebM9mYon7+vmExqn6a8v5Cu8v7KP7a/x89UX3HzlL8AAAAAAAAAAAAAAAAAAAAAzKA9bgIhq78AAAAAAAAAAAAAAAAAAAAAAAAAAAAAAAAAAAAAAAAAAAAAAAAAAAAAAAAAAAAAAAAAAAAAAAAAAA==",
          "dtype": "f8"
         }
        },
        {
         "mode": "lines",
         "name": "MRK",
         "type": "scatter",
         "x": [
          "2015-02-28T23:59:59.999999999",
          "2015-03-31T23:59:59.999999999",
          "2015-04-30T23:59:59.999999999",
          "2015-05-31T23:59:59.999999999",
          "2015-06-30T23:59:59.999999999",
          "2015-07-31T23:59:59.999999999",
          "2015-08-31T23:59:59.999999999",
          "2015-09-30T23:59:59.999999999",
          "2015-10-31T23:59:59.999999999",
          "2015-11-30T23:59:59.999999999",
          "2015-12-31T23:59:59.999999999",
          "2016-01-31T23:59:59.999999999",
          "2016-02-29T23:59:59.999999999",
          "2016-03-31T23:59:59.999999999",
          "2016-04-30T23:59:59.999999999",
          "2016-05-31T23:59:59.999999999",
          "2016-06-30T23:59:59.999999999",
          "2016-07-31T23:59:59.999999999",
          "2016-08-31T23:59:59.999999999",
          "2016-09-30T23:59:59.999999999",
          "2016-10-31T23:59:59.999999999",
          "2016-11-30T23:59:59.999999999",
          "2016-12-31T23:59:59.999999999",
          "2017-01-31T23:59:59.999999999",
          "2017-02-28T23:59:59.999999999",
          "2017-03-31T23:59:59.999999999",
          "2017-04-30T23:59:59.999999999",
          "2017-05-31T23:59:59.999999999",
          "2017-06-30T23:59:59.999999999",
          "2017-07-31T23:59:59.999999999",
          "2017-08-31T23:59:59.999999999",
          "2017-09-30T23:59:59.999999999",
          "2017-10-31T23:59:59.999999999",
          "2017-11-30T23:59:59.999999999",
          "2017-12-31T23:59:59.999999999",
          "2018-01-31T23:59:59.999999999",
          "2018-02-28T23:59:59.999999999",
          "2018-03-31T23:59:59.999999999",
          "2018-04-30T23:59:59.999999999",
          "2018-05-31T23:59:59.999999999",
          "2018-06-30T23:59:59.999999999",
          "2018-07-31T23:59:59.999999999",
          "2018-08-31T23:59:59.999999999",
          "2018-09-30T23:59:59.999999999",
          "2018-10-31T23:59:59.999999999",
          "2018-11-30T23:59:59.999999999",
          "2018-12-31T23:59:59.999999999",
          "2019-01-31T23:59:59.999999999",
          "2019-02-28T23:59:59.999999999",
          "2019-03-31T23:59:59.999999999",
          "2019-04-30T23:59:59.999999999",
          "2019-05-31T23:59:59.999999999",
          "2019-06-30T23:59:59.999999999",
          "2019-07-31T23:59:59.999999999",
          "2019-08-31T23:59:59.999999999",
          "2019-09-30T23:59:59.999999999",
          "2019-10-31T23:59:59.999999999",
          "2019-11-30T23:59:59.999999999",
          "2019-12-31T23:59:59.999999999"
         ],
         "y": {
          "bdata": "AAAAAAAAAADDJfxFM4eSvwAAAAAAAAAAAAAAAAAAAABqIYO3uaqwvzN3CGDZOaC/KZxzhwCWvb9E99RXRC/Iv6p9qbLaMLq/3nakoYGOwL8LEMZWGPTAv49gb9cTecW//9YWy2dxxr/5y2HN8cbAv1Fcv+r2cLm/pVFuq9hxs79Insv9Dpqrv1dSNiiIyKK/AAAAAAAAAAC0QWr5HaF4v4dayWkyl7C/hAwpwGb/mb+nw6sl5fuvv4QMKcBm/4m/AAAAAAAAAACkACkCsxiivwSnR5Jjjau/2xW31HXNh7/SHLL+H7ebv0FNA3fY+Z6/aDjYT1FNn7+B3jCJirGcvxgLcGsU88S/JdENBWSaxL9RnJ19xqrCv7f7mc7bt7m/fI9AUBekxr+aLgEL4ibGv8C7crnqObu/If/lDZOouL+TIUEy9xe0vwAAAAAAAAAAAAAAAAAAAAAAAAAAAAAAAAAAAAAAAAAAAAAAAAAAAAAFgxvf++Giv7Q2cDyerK+/AAAAAAAAAAAAAAAAAAAAAFI9knOqcKu/4qKes0pXqL8AAAAAAAAAAPRPARVQAYW/AAAAAAAAAAAkOE1FKBObvwAAAAAAAAAAAAAAAAAAAAAAAAAAAAAAAA==",
          "dtype": "f8"
         }
        },
        {
         "mode": "lines",
         "name": "GOOGL",
         "type": "scatter",
         "x": [
          "2015-02-28T23:59:59.999999999",
          "2015-03-31T23:59:59.999999999",
          "2015-04-30T23:59:59.999999999",
          "2015-05-31T23:59:59.999999999",
          "2015-06-30T23:59:59.999999999",
          "2015-07-31T23:59:59.999999999",
          "2015-08-31T23:59:59.999999999",
          "2015-09-30T23:59:59.999999999",
          "2015-10-31T23:59:59.999999999",
          "2015-11-30T23:59:59.999999999",
          "2015-12-31T23:59:59.999999999",
          "2016-01-31T23:59:59.999999999",
          "2016-02-29T23:59:59.999999999",
          "2016-03-31T23:59:59.999999999",
          "2016-04-30T23:59:59.999999999",
          "2016-05-31T23:59:59.999999999",
          "2016-06-30T23:59:59.999999999",
          "2016-07-31T23:59:59.999999999",
          "2016-08-31T23:59:59.999999999",
          "2016-09-30T23:59:59.999999999",
          "2016-10-31T23:59:59.999999999",
          "2016-11-30T23:59:59.999999999",
          "2016-12-31T23:59:59.999999999",
          "2017-01-31T23:59:59.999999999",
          "2017-02-28T23:59:59.999999999",
          "2017-03-31T23:59:59.999999999",
          "2017-04-30T23:59:59.999999999",
          "2017-05-31T23:59:59.999999999",
          "2017-06-30T23:59:59.999999999",
          "2017-07-31T23:59:59.999999999",
          "2017-08-31T23:59:59.999999999",
          "2017-09-30T23:59:59.999999999",
          "2017-10-31T23:59:59.999999999",
          "2017-11-30T23:59:59.999999999",
          "2017-12-31T23:59:59.999999999",
          "2018-01-31T23:59:59.999999999",
          "2018-02-28T23:59:59.999999999",
          "2018-03-31T23:59:59.999999999",
          "2018-04-30T23:59:59.999999999",
          "2018-05-31T23:59:59.999999999",
          "2018-06-30T23:59:59.999999999",
          "2018-07-31T23:59:59.999999999",
          "2018-08-31T23:59:59.999999999",
          "2018-09-30T23:59:59.999999999",
          "2018-10-31T23:59:59.999999999",
          "2018-11-30T23:59:59.999999999",
          "2018-12-31T23:59:59.999999999",
          "2019-01-31T23:59:59.999999999",
          "2019-02-28T23:59:59.999999999",
          "2019-03-31T23:59:59.999999999",
          "2019-04-30T23:59:59.999999999",
          "2019-05-31T23:59:59.999999999",
          "2019-06-30T23:59:59.999999999",
          "2019-07-31T23:59:59.999999999",
          "2019-08-31T23:59:59.999999999",
          "2019-09-30T23:59:59.999999999",
          "2019-10-31T23:59:59.999999999",
          "2019-11-30T23:59:59.999999999",
          "2019-12-31T23:59:59.999999999"
         ],
         "y": {
          "bdata": "AAAAAAAAAABSGAQPNx+NvzGI83wfHpm/CmckMFtOn79q5JriPpGkvwAAAAAAAAAA2rMNXkuFjr93hvjj1uWdvwAAAAAAAAAAAAAAAAAAAAAAAAAAAAAAAGFvgslN2ZW/VOHQVZQBtL+ZqACzML6Tv2593w5nGbe/xDZgbWk3o7/yp6QlMnu4vwAAAAAAAAAAXWk2++GPYL8AAAAAAAAAAAAAAAAAAAAAXoUifiV/pb+OpnTboQCWvwAAAAAAAAAAAAAAAAAAAAAAAAAAAAAAAAAAAAAAAAAAAAAAAAAAAAA1hdF/oMatv6H8v51plKW/+poMC/1+oL//ItYgwWOLvwAAAAAAAAAAAAAAAAAAAAAAAAAAAAAAAAAAAAAAAAAAE+8Q7xDvsL8YtI6HKma/v4CruGiitsG/WPl1BM/Msb8HkPU2LfSmvwAAAAAAAAAAAAAAAAAAAABcJaINyJ2Uv1KagHZTWL2/FRCi63Vlub8/JhiVM2nDv4189JqQB7a/DDZUigDdtb8H3RXuYNymvy8praZKRJu/aRj7KRIFur+hSZsYUPe+v39zJdWInIa/+lx8sPYfob+hMF3ipp+BvwAAAAAAAAAAAAAAAAAAAAAAAAAAAAAAAA==",
          "dtype": "f8"
         }
        },
        {
         "mode": "lines",
         "name": "CVX",
         "type": "scatter",
         "x": [
          "2015-02-28T23:59:59.999999999",
          "2015-03-31T23:59:59.999999999",
          "2015-04-30T23:59:59.999999999",
          "2015-05-31T23:59:59.999999999",
          "2015-06-30T23:59:59.999999999",
          "2015-07-31T23:59:59.999999999",
          "2015-08-31T23:59:59.999999999",
          "2015-09-30T23:59:59.999999999",
          "2015-10-31T23:59:59.999999999",
          "2015-11-30T23:59:59.999999999",
          "2015-12-31T23:59:59.999999999",
          "2016-01-31T23:59:59.999999999",
          "2016-02-29T23:59:59.999999999",
          "2016-03-31T23:59:59.999999999",
          "2016-04-30T23:59:59.999999999",
          "2016-05-31T23:59:59.999999999",
          "2016-06-30T23:59:59.999999999",
          "2016-07-31T23:59:59.999999999",
          "2016-08-31T23:59:59.999999999",
          "2016-09-30T23:59:59.999999999",
          "2016-10-31T23:59:59.999999999",
          "2016-11-30T23:59:59.999999999",
          "2016-12-31T23:59:59.999999999",
          "2017-01-31T23:59:59.999999999",
          "2017-02-28T23:59:59.999999999",
          "2017-03-31T23:59:59.999999999",
          "2017-04-30T23:59:59.999999999",
          "2017-05-31T23:59:59.999999999",
          "2017-06-30T23:59:59.999999999",
          "2017-07-31T23:59:59.999999999",
          "2017-08-31T23:59:59.999999999",
          "2017-09-30T23:59:59.999999999",
          "2017-10-31T23:59:59.999999999",
          "2017-11-30T23:59:59.999999999",
          "2017-12-31T23:59:59.999999999",
          "2018-01-31T23:59:59.999999999",
          "2018-02-28T23:59:59.999999999",
          "2018-03-31T23:59:59.999999999",
          "2018-04-30T23:59:59.999999999",
          "2018-05-31T23:59:59.999999999",
          "2018-06-30T23:59:59.999999999",
          "2018-07-31T23:59:59.999999999",
          "2018-08-31T23:59:59.999999999",
          "2018-09-30T23:59:59.999999999",
          "2018-10-31T23:59:59.999999999",
          "2018-11-30T23:59:59.999999999",
          "2018-12-31T23:59:59.999999999",
          "2019-01-31T23:59:59.999999999",
          "2019-02-28T23:59:59.999999999",
          "2019-03-31T23:59:59.999999999",
          "2019-04-30T23:59:59.999999999",
          "2019-05-31T23:59:59.999999999",
          "2019-06-30T23:59:59.999999999",
          "2019-07-31T23:59:59.999999999",
          "2019-08-31T23:59:59.999999999",
          "2019-09-30T23:59:59.999999999",
          "2019-10-31T23:59:59.999999999",
          "2019-11-30T23:59:59.999999999",
          "2019-12-31T23:59:59.999999999"
         ],
         "y": {
          "bdata": "AAAAAAAAAAD4g+DXZVGQvwAAAAAAAAAAP1rLVSuUsr+UQhwLv9DAv6ShrnQtBsq/dSBA4QpU0b/rgV5eUYvSvxgJqyIQQse/6vnD9T3Axr8qnV/GgVHIvzE+KzY5V8y/MJUc1DfVz78wEPGDcgzCv641tCsMeLS/e1jRM1wwt7+UidjXlrisv4hPM9cEx7O/FAG5QzMouL80MWV9YMOyv403DCcBF62/AAAAAAAAAAAAAAAAAAAAAGmyrNZtn6u/pFkEzMaepr/WpO/XzHe2v+7UtRzc7Le/MFFu+MXtvr964nIbfRS9v1tI1Q1qgrK/cbGlS5nstb9fR8oOHNdbv9Q5u/CKfo+/AAAAAAAAAAAAAAAAAAAAAAAAAAAAAAAAEnRbDodtu785qe72Ixm3v/Zy1fuTXl+/grm47bgngb8AAAAAAAAAAL6l9Fr8u1S/q+jKKVAjsL/zSrkLX86gv8EaSL1U7b2/6eEOqwBVrr9Gt1fc6tvBv7Zuos5B2re/aE2wH4G9q79WlHhfp1KavxZeKXfhy6m/f4u9hfF4ub+SK7QqIR6Qv61E9UXL45q/h5Zd5uWisb/jIBltfLWvv9hVZlbn1bS/8i6bsLrUsr+y3SrJW/mnvw==",
          "dtype": "f8"
         }
        }
       ],
       "layout": {
        "legend": {
         "title": {
          "text": "Series"
         }
        },
        "template": {
         "data": {
          "bar": [
           {
            "error_x": {
             "color": "#2a3f5f"
            },
            "error_y": {
             "color": "#2a3f5f"
            },
            "marker": {
             "line": {
              "color": "white",
              "width": 0.5
             },
             "pattern": {
              "fillmode": "overlay",
              "size": 10,
              "solidity": 0.2
             }
            },
            "type": "bar"
           }
          ],
          "barpolar": [
           {
            "marker": {
             "line": {
              "color": "white",
              "width": 0.5
             },
             "pattern": {
              "fillmode": "overlay",
              "size": 10,
              "solidity": 0.2
             }
            },
            "type": "barpolar"
           }
          ],
          "carpet": [
           {
            "aaxis": {
             "endlinecolor": "#2a3f5f",
             "gridcolor": "#C8D4E3",
             "linecolor": "#C8D4E3",
             "minorgridcolor": "#C8D4E3",
             "startlinecolor": "#2a3f5f"
            },
            "baxis": {
             "endlinecolor": "#2a3f5f",
             "gridcolor": "#C8D4E3",
             "linecolor": "#C8D4E3",
             "minorgridcolor": "#C8D4E3",
             "startlinecolor": "#2a3f5f"
            },
            "type": "carpet"
           }
          ],
          "choropleth": [
           {
            "colorbar": {
             "outlinewidth": 0,
             "ticks": ""
            },
            "type": "choropleth"
           }
          ],
          "contour": [
           {
            "colorbar": {
             "outlinewidth": 0,
             "ticks": ""
            },
            "colorscale": [
             [
              0,
              "#0d0887"
             ],
             [
              0.1111111111111111,
              "#46039f"
             ],
             [
              0.2222222222222222,
              "#7201a8"
             ],
             [
              0.3333333333333333,
              "#9c179e"
             ],
             [
              0.4444444444444444,
              "#bd3786"
             ],
             [
              0.5555555555555556,
              "#d8576b"
             ],
             [
              0.6666666666666666,
              "#ed7953"
             ],
             [
              0.7777777777777778,
              "#fb9f3a"
             ],
             [
              0.8888888888888888,
              "#fdca26"
             ],
             [
              1,
              "#f0f921"
             ]
            ],
            "type": "contour"
           }
          ],
          "contourcarpet": [
           {
            "colorbar": {
             "outlinewidth": 0,
             "ticks": ""
            },
            "type": "contourcarpet"
           }
          ],
          "heatmap": [
           {
            "colorbar": {
             "outlinewidth": 0,
             "ticks": ""
            },
            "colorscale": [
             [
              0,
              "#0d0887"
             ],
             [
              0.1111111111111111,
              "#46039f"
             ],
             [
              0.2222222222222222,
              "#7201a8"
             ],
             [
              0.3333333333333333,
              "#9c179e"
             ],
             [
              0.4444444444444444,
              "#bd3786"
             ],
             [
              0.5555555555555556,
              "#d8576b"
             ],
             [
              0.6666666666666666,
              "#ed7953"
             ],
             [
              0.7777777777777778,
              "#fb9f3a"
             ],
             [
              0.8888888888888888,
              "#fdca26"
             ],
             [
              1,
              "#f0f921"
             ]
            ],
            "type": "heatmap"
           }
          ],
          "histogram": [
           {
            "marker": {
             "pattern": {
              "fillmode": "overlay",
              "size": 10,
              "solidity": 0.2
             }
            },
            "type": "histogram"
           }
          ],
          "histogram2d": [
           {
            "colorbar": {
             "outlinewidth": 0,
             "ticks": ""
            },
            "colorscale": [
             [
              0,
              "#0d0887"
             ],
             [
              0.1111111111111111,
              "#46039f"
             ],
             [
              0.2222222222222222,
              "#7201a8"
             ],
             [
              0.3333333333333333,
              "#9c179e"
             ],
             [
              0.4444444444444444,
              "#bd3786"
             ],
             [
              0.5555555555555556,
              "#d8576b"
             ],
             [
              0.6666666666666666,
              "#ed7953"
             ],
             [
              0.7777777777777778,
              "#fb9f3a"
             ],
             [
              0.8888888888888888,
              "#fdca26"
             ],
             [
              1,
              "#f0f921"
             ]
            ],
            "type": "histogram2d"
           }
          ],
          "histogram2dcontour": [
           {
            "colorbar": {
             "outlinewidth": 0,
             "ticks": ""
            },
            "colorscale": [
             [
              0,
              "#0d0887"
             ],
             [
              0.1111111111111111,
              "#46039f"
             ],
             [
              0.2222222222222222,
              "#7201a8"
             ],
             [
              0.3333333333333333,
              "#9c179e"
             ],
             [
              0.4444444444444444,
              "#bd3786"
             ],
             [
              0.5555555555555556,
              "#d8576b"
             ],
             [
              0.6666666666666666,
              "#ed7953"
             ],
             [
              0.7777777777777778,
              "#fb9f3a"
             ],
             [
              0.8888888888888888,
              "#fdca26"
             ],
             [
              1,
              "#f0f921"
             ]
            ],
            "type": "histogram2dcontour"
           }
          ],
          "mesh3d": [
           {
            "colorbar": {
             "outlinewidth": 0,
             "ticks": ""
            },
            "type": "mesh3d"
           }
          ],
          "parcoords": [
           {
            "line": {
             "colorbar": {
              "outlinewidth": 0,
              "ticks": ""
             }
            },
            "type": "parcoords"
           }
          ],
          "pie": [
           {
            "automargin": true,
            "type": "pie"
           }
          ],
          "scatter": [
           {
            "fillpattern": {
             "fillmode": "overlay",
             "size": 10,
             "solidity": 0.2
            },
            "type": "scatter"
           }
          ],
          "scatter3d": [
           {
            "line": {
             "colorbar": {
              "outlinewidth": 0,
              "ticks": ""
             }
            },
            "marker": {
             "colorbar": {
              "outlinewidth": 0,
              "ticks": ""
             }
            },
            "type": "scatter3d"
           }
          ],
          "scattercarpet": [
           {
            "marker": {
             "colorbar": {
              "outlinewidth": 0,
              "ticks": ""
             }
            },
            "type": "scattercarpet"
           }
          ],
          "scattergeo": [
           {
            "marker": {
             "colorbar": {
              "outlinewidth": 0,
              "ticks": ""
             }
            },
            "type": "scattergeo"
           }
          ],
          "scattergl": [
           {
            "marker": {
             "colorbar": {
              "outlinewidth": 0,
              "ticks": ""
             }
            },
            "type": "scattergl"
           }
          ],
          "scattermap": [
           {
            "marker": {
             "colorbar": {
              "outlinewidth": 0,
              "ticks": ""
             }
            },
            "type": "scattermap"
           }
          ],
          "scattermapbox": [
           {
            "marker": {
             "colorbar": {
              "outlinewidth": 0,
              "ticks": ""
             }
            },
            "type": "scattermapbox"
           }
          ],
          "scatterpolar": [
           {
            "marker": {
             "colorbar": {
              "outlinewidth": 0,
              "ticks": ""
             }
            },
            "type": "scatterpolar"
           }
          ],
          "scatterpolargl": [
           {
            "marker": {
             "colorbar": {
              "outlinewidth": 0,
              "ticks": ""
             }
            },
            "type": "scatterpolargl"
           }
          ],
          "scatterternary": [
           {
            "marker": {
             "colorbar": {
              "outlinewidth": 0,
              "ticks": ""
             }
            },
            "type": "scatterternary"
           }
          ],
          "surface": [
           {
            "colorbar": {
             "outlinewidth": 0,
             "ticks": ""
            },
            "colorscale": [
             [
              0,
              "#0d0887"
             ],
             [
              0.1111111111111111,
              "#46039f"
             ],
             [
              0.2222222222222222,
              "#7201a8"
             ],
             [
              0.3333333333333333,
              "#9c179e"
             ],
             [
              0.4444444444444444,
              "#bd3786"
             ],
             [
              0.5555555555555556,
              "#d8576b"
             ],
             [
              0.6666666666666666,
              "#ed7953"
             ],
             [
              0.7777777777777778,
              "#fb9f3a"
             ],
             [
              0.8888888888888888,
              "#fdca26"
             ],
             [
              1,
              "#f0f921"
             ]
            ],
            "type": "surface"
           }
          ],
          "table": [
           {
            "cells": {
             "fill": {
              "color": "#EBF0F8"
             },
             "line": {
              "color": "white"
             }
            },
            "header": {
             "fill": {
              "color": "#C8D4E3"
             },
             "line": {
              "color": "white"
             }
            },
            "type": "table"
           }
          ]
         },
         "layout": {
          "annotationdefaults": {
           "arrowcolor": "#2a3f5f",
           "arrowhead": 0,
           "arrowwidth": 1
          },
          "autotypenumbers": "strict",
          "coloraxis": {
           "colorbar": {
            "outlinewidth": 0,
            "ticks": ""
           }
          },
          "colorscale": {
           "diverging": [
            [
             0,
             "#8e0152"
            ],
            [
             0.1,
             "#c51b7d"
            ],
            [
             0.2,
             "#de77ae"
            ],
            [
             0.3,
             "#f1b6da"
            ],
            [
             0.4,
             "#fde0ef"
            ],
            [
             0.5,
             "#f7f7f7"
            ],
            [
             0.6,
             "#e6f5d0"
            ],
            [
             0.7,
             "#b8e186"
            ],
            [
             0.8,
             "#7fbc41"
            ],
            [
             0.9,
             "#4d9221"
            ],
            [
             1,
             "#276419"
            ]
           ],
           "sequential": [
            [
             0,
             "#0d0887"
            ],
            [
             0.1111111111111111,
             "#46039f"
            ],
            [
             0.2222222222222222,
             "#7201a8"
            ],
            [
             0.3333333333333333,
             "#9c179e"
            ],
            [
             0.4444444444444444,
             "#bd3786"
            ],
            [
             0.5555555555555556,
             "#d8576b"
            ],
            [
             0.6666666666666666,
             "#ed7953"
            ],
            [
             0.7777777777777778,
             "#fb9f3a"
            ],
            [
             0.8888888888888888,
             "#fdca26"
            ],
            [
             1,
             "#f0f921"
            ]
           ],
           "sequentialminus": [
            [
             0,
             "#0d0887"
            ],
            [
             0.1111111111111111,
             "#46039f"
            ],
            [
             0.2222222222222222,
             "#7201a8"
            ],
            [
             0.3333333333333333,
             "#9c179e"
            ],
            [
             0.4444444444444444,
             "#bd3786"
            ],
            [
             0.5555555555555556,
             "#d8576b"
            ],
            [
             0.6666666666666666,
             "#ed7953"
            ],
            [
             0.7777777777777778,
             "#fb9f3a"
            ],
            [
             0.8888888888888888,
             "#fdca26"
            ],
            [
             1,
             "#f0f921"
            ]
           ]
          },
          "colorway": [
           "#636efa",
           "#EF553B",
           "#00cc96",
           "#ab63fa",
           "#FFA15A",
           "#19d3f3",
           "#FF6692",
           "#B6E880",
           "#FF97FF",
           "#FECB52"
          ],
          "font": {
           "color": "#2a3f5f"
          },
          "geo": {
           "bgcolor": "white",
           "lakecolor": "white",
           "landcolor": "white",
           "showlakes": true,
           "showland": true,
           "subunitcolor": "#C8D4E3"
          },
          "hoverlabel": {
           "align": "left"
          },
          "hovermode": "closest",
          "mapbox": {
           "style": "light"
          },
          "paper_bgcolor": "white",
          "plot_bgcolor": "white",
          "polar": {
           "angularaxis": {
            "gridcolor": "#EBF0F8",
            "linecolor": "#EBF0F8",
            "ticks": ""
           },
           "bgcolor": "white",
           "radialaxis": {
            "gridcolor": "#EBF0F8",
            "linecolor": "#EBF0F8",
            "ticks": ""
           }
          },
          "scene": {
           "xaxis": {
            "backgroundcolor": "white",
            "gridcolor": "#DFE8F3",
            "gridwidth": 2,
            "linecolor": "#EBF0F8",
            "showbackground": true,
            "ticks": "",
            "zerolinecolor": "#EBF0F8"
           },
           "yaxis": {
            "backgroundcolor": "white",
            "gridcolor": "#DFE8F3",
            "gridwidth": 2,
            "linecolor": "#EBF0F8",
            "showbackground": true,
            "ticks": "",
            "zerolinecolor": "#EBF0F8"
           },
           "zaxis": {
            "backgroundcolor": "white",
            "gridcolor": "#DFE8F3",
            "gridwidth": 2,
            "linecolor": "#EBF0F8",
            "showbackground": true,
            "ticks": "",
            "zerolinecolor": "#EBF0F8"
           }
          },
          "shapedefaults": {
           "line": {
            "color": "#2a3f5f"
           }
          },
          "ternary": {
           "aaxis": {
            "gridcolor": "#DFE8F3",
            "linecolor": "#A2B1C6",
            "ticks": ""
           },
           "baxis": {
            "gridcolor": "#DFE8F3",
            "linecolor": "#A2B1C6",
            "ticks": ""
           },
           "bgcolor": "white",
           "caxis": {
            "gridcolor": "#DFE8F3",
            "linecolor": "#A2B1C6",
            "ticks": ""
           }
          },
          "title": {
           "x": 0.05
          },
          "xaxis": {
           "automargin": true,
           "gridcolor": "#EBF0F8",
           "linecolor": "#EBF0F8",
           "ticks": "",
           "title": {
            "standoff": 15
           },
           "zerolinecolor": "#EBF0F8",
           "zerolinewidth": 2
          },
          "yaxis": {
           "automargin": true,
           "gridcolor": "#EBF0F8",
           "linecolor": "#EBF0F8",
           "ticks": "",
           "title": {
            "standoff": 15
           },
           "zerolinecolor": "#EBF0F8",
           "zerolinewidth": 2
          }
         }
        },
        "title": {
         "text": "Drawdown curves"
        },
        "xaxis": {
         "title": {
          "text": "Date"
         }
        },
        "yaxis": {
         "title": {
          "text": "Drawdown (%)"
         }
        }
       }
      }
     },
     "metadata": {},
     "output_type": "display_data"
    },
    {
     "data": {
      "application/vnd.plotly.v1+json": {
       "config": {
        "plotlyServerURL": "https://plot.ly"
       },
       "data": [
        {
         "boxmean": "sd",
         "name": "CVaR",
         "orientation": "h",
         "type": "box",
         "x": {
          "bdata": "AOTk15Ore78AJB8uRph0PwCrSF24ZYU/AFp7UEFQlL9ARzjTrq6Cv3hHtm9SxbS/QGffpLQNtb+Aq61UJsSAPwBqu+S/ioE/AGpdwqWhgj8Av/zb/E1wP4BqHsysB4s/IHAs/3L+qz/guerEa9uvP2B/jEIN7rM/wIA4nA4twT9wSINJ1LzHP7AKeyeoV8Q/OD4FPGD1wz+4eDoMD4XBP4CXs1AD4MA/WKHhFfr1wz8AFu/z1wFxv0D9XnL6HKQ/YOfXR7o7oT9AohtLTGKhPyCwG1LQaaM/QOu8oasOoD/A13ciNXCiPwDJflpaD5s/ALWctThRpz/gLJ+vwIGoP8Bvx/DXC6g/IFB0nxozrT/Aw3/ROQGCvzC2OcqmYai/qKo2+T0etL8Q+zqS7T6svyCFHGYhaKG/oKM0HoN2pz8QIfEuXou8PyDNiaiK8qc/sAi8iHvEsj+AZL+W7sajP2DtwiMCk7A/QCnaJByXp7/AfqMxfDeUv2B6/ttx6LY/aDIFD16ywT8AAIkzOk23P8DLjsW/nJ2/QCR0obyanD9AjHVodtSrP4BdrFE5D4Q/AK6PjY7klz9AEb6F6UmhP0C9Q0oXvqw/QFAbYamdqD8=",
          "dtype": "f8"
         }
        },
        {
         "boxmean": "sd",
         "name": "MVar",
         "orientation": "h",
         "type": "box",
         "x": {
          "bdata": "AMAlPAoRmD8AtHrH03hdPwD3NchdIHY/oBcvdR3fmL+AgXR1CFqFv1gTU3YwbLW/SDJ1o6bStb8Ax9bq3dF0PwDozaZRIlC/ANEbsMDhcL8ApXIpG+VxPwD2pj4NOWE/oAk6aO5IpD+gNIJTgQaqPyA48EbAsLQ/cJ9mtcZTwD+AqcgCaArHP1jhwp03lcI/CL4DHhC4xD94K81znzHAP7BfjX4cH74/OBMCNq1OwT+AIOT+kUtxv0DCBENCpZo/ANcCj3Jaij/AiJDyzSScP2B/fsuLeaY/wByG0OfAlj+gNXVe3ZCgP8BcLms60qE/IOckHQ+crD9gL6hhaNqvPxBVeMj9q7A/IGv2gOxGsj8AuG18JvCAv0Df9sXWwKS/aGK+d/u0s7/AQxLdLlWsv4BEjncq/5i/IDDncnx2qz9A4l2J1kW9P4Cz5x0n56k/MC1tsYeetT+AXTLN9gekP6Bc6i4Ynq0/MHsMfqXzp78gacgR6JWSv0DSmTpE57U/oDD6meb8wD8wDudLPmu0P1AH8lizXaC/QHq/3EqQlD8APZg71dSlPwDuP6H/vn+/AO+U1keygT8A/N9jUt2ZP+DC2Zfzm6g/oEFLrej1pT8=",
          "dtype": "f8"
         }
        },
        {
         "boxmean": "sd",
         "name": "MSFT",
         "orientation": "h",
         "type": "box",
         "x": {
          "bdata": "IFNw/Jyfsr8AhlhRGh/JP9BrKK+hvKK/sC/UhiKcrb+AjYjzaJKtPwASJGmfbrG/QGlpaWlpkT9YIstUJzzIPwAgHxjZoaA/QNt9sEdKlT8AzMEyB8t8vxB7iJtJkLO/0D6H1ATjtT9w/94XL9i4v5Al338/EbA/0MbHjrGtob+A3RlX75C7P4DCQfT4Low/ADST7Kn1Yz8ASp/0SZ+kPwBLNCPdPXc/gHDR02fynz9gYEXSWK6kP8Dxa9p0OYW/QKxoHOMWnj+g+GogazakP8C5NCE8pJQ/QN3eyFuvir9A//4mvgCsP0DQspcSKJ0/APrqjXOtbr/AjrZAbd29P4Cdu+gFYIg/QF2EAM+qkD8Q8VFrY1e8PwBdFiqeuoq/YKNiAwRNm7+Av16CaD6ZP0Dhyw0xIK0/ABEt6w4QY7/QEongi2SzP0B5Kj55Kq4/wIDXEL2Ykj8oCmL0Auywv+DbaLHGjqM/oLVm7x6Etb/AdzARbtWcP0CZWQtzobI/wCGrVYkCqz+w4Wnxz3q7P9CgPW4CIau/4N+s/jNHtT8AxfMfZqiRPwB+yxBm5Yc/ALAigpBhgT/AMupfKfefP4BhqfLqmqw/AISiCyhgpT8=",
          "dtype": "f8"
         }
        },
        {
         "boxmean": "sd",
         "name": "MRK",
         "orientation": "h",
         "type": "box",
         "x": {
          "bdata": "wCX8RTOHkr/gXAP48n6iP4AZuLRZ5pY/aCGDt7mqsL9gTf6sl0yiP4AeQy39LLa/SLhwJd88tb8gQtNqV1i7P2D3s3SC2J6/AG72gporbb+QWDoUetakv8CYSkwlpoK/wLfZ3mZ7qz9AKiP/bKyiP8B4sdMMopo/wFoKK1JumD+AfzMTVKSSP+BKZVOyCLI/gEFq+R2heL+gM29Z30iuv8ApkDG8lKU/oG8wEM16o7+AToOlvy6rP+A9zYs8BrA/oAApArMYor/gP0shxJqTv2AgcFOJ1KY/IAAAAAAAkL8Af7IFiM9qvwAQV7jahDW/AJQb8KmGZT9E76YrB93BvwDgMFHmgmo/gBKGVI51kj8Ah+p50TKrP5D6WwGpv7W/APIZCqoDcz9Qd04Uyqa0PwA/jFGU/IY/gHn96a00lD9AN/jzG861P8CA2tfQHKU/oBgB81CJoT8A6kIyXE2jP/D+lnz46bM/AIMb3/vhor+gktSdDpCavwAspYU/l7c/wEjhTeallz9QPZJzqnCrvwAhWVtqMno/4Kcnbk72rT8AUAEVUAGFv2DkjPVKe6U/IDhNRSgTm7/Ajp9vPBuePwAqiAMCyXg/IOp1o2Qcpj8=",
          "dtype": "f8"
         }
        },
        {
         "boxmean": "sd",
         "name": "GOOGL",
         "orientation": "h",
         "type": "box",
         "x": {
          "bdata": "QBgEDzcfjb9AkpBa/2qFv4D0b6ZHYHm/ANpiZfhGhL848axoJODLP8CzDV5LhY6/QJ/gqsK3jb+QPWD2gNnDPwAbzRrSoqE/wAhAkaJnlD9gb4LJTdmVvxC5wPLauK2/ALYF2BdZsD9QKEGDRIWyv4AXefJ4qK0/gO7nfu7nrr8ga+BGB/K/PwBpNvvhj2C/QBOdDSZpkj8ABr6uWox9P2CFIn4lf6W/QGa+TSrplT+ghEHpb/ahP8AbDgZT9p4/AAhsiSQlaz9g7fprvDC3PzCUtI3vRrE/MIXRf6DGrb/A2ymti2eRP4AF4aPCOoU/ADqVFJDwkz+gnwfjOiCvPwBiiniAYGk/gAIlj1v/kD/Qgq+nIk2/PxDvEO8Q77C/8AW4SM76rr/AldJLAF2SvxCoMNg3dbQ/gE6FTLsumz/QVJ8Frje2PwDkp/fmtG4/YCWiDcidlL+AiDXmH7C4v4A23fj31pE/4Ny5c+fOrb/ALlb5R8uzPwCgOVH+SEc/oF7e42rQpj+Aq1rJRVGTP6g7YRF7urO/ADFBywMGlr/w5nJbgwHAP0Djvc47M5e/QLXH3HJRmj8AYkvRQIefP8CC7iRuYqI/AEdCY3zMmz8=",
          "dtype": "f8"
         }
        },
        {
         "boxmean": "sd",
         "name": "CVX",
         "orientation": "h",
         "type": "box",
         "x": {
          "bdata": "AITg12VRkL+AGuCNI6etP0Bay1UrlLK/wPbS6to6sL8AzrKy7jO1v1iLmzC/q7W/QLk0VIitmr/4rVVn/XjDPwB7Mn671HM/gBthWg6Ajr8QKV/c8NyjvyCv6q/m8KG/QKG19NlYwj/wRB4GlzGyP4AeZqKbpoe/YCGjo1pqoz8AoG76i/SWv8Ctm/Uz/JK/QPyn7MvSlz9Ah6tUITWSP4BB1T6fpLA/YGyUA+UtrD9wsqzWbZ+rv4BpXza9JoU/0CtlGeJYp7+Aohw/OY95v0BBt/P/5p6/gK+PPJTSgD+g1KaxuNmnP8CIrNeHco2/QFiN4X+Atz9AyXdx3A+Mv4CbtNA4ZJs/gNB5Bomtqj8APBmij/BUPxB0Ww6Hbbu/wMTb6Y5lkz9A9qOKqNm4P4AO2F/MhHq/wDXq5haMkT8ApvRa/LtUvwDxMOYCq6+/AGCcirOCoD8YlczFJkG2v7AGq0EQt7A/MJX1tafYtb+APw2zOZSrP0CMnDUnBKY/ALyPGfHTnj8g9aohyu+Zv2C5pxGWe6q/8CLecfjPtz9ADUQzh+OFv0DOXJeXaqa/AOoBFn2efj8gsclgYz2VvwCQ1hMidYE/gKlvy6SMnT8=",
          "dtype": "f8"
         }
        }
       ],
       "layout": {
        "template": {
         "data": {
          "bar": [
           {
            "error_x": {
             "color": "#2a3f5f"
            },
            "error_y": {
             "color": "#2a3f5f"
            },
            "marker": {
             "line": {
              "color": "white",
              "width": 0.5
             },
             "pattern": {
              "fillmode": "overlay",
              "size": 10,
              "solidity": 0.2
             }
            },
            "type": "bar"
           }
          ],
          "barpolar": [
           {
            "marker": {
             "line": {
              "color": "white",
              "width": 0.5
             },
             "pattern": {
              "fillmode": "overlay",
              "size": 10,
              "solidity": 0.2
             }
            },
            "type": "barpolar"
           }
          ],
          "carpet": [
           {
            "aaxis": {
             "endlinecolor": "#2a3f5f",
             "gridcolor": "#C8D4E3",
             "linecolor": "#C8D4E3",
             "minorgridcolor": "#C8D4E3",
             "startlinecolor": "#2a3f5f"
            },
            "baxis": {
             "endlinecolor": "#2a3f5f",
             "gridcolor": "#C8D4E3",
             "linecolor": "#C8D4E3",
             "minorgridcolor": "#C8D4E3",
             "startlinecolor": "#2a3f5f"
            },
            "type": "carpet"
           }
          ],
          "choropleth": [
           {
            "colorbar": {
             "outlinewidth": 0,
             "ticks": ""
            },
            "type": "choropleth"
           }
          ],
          "contour": [
           {
            "colorbar": {
             "outlinewidth": 0,
             "ticks": ""
            },
            "colorscale": [
             [
              0,
              "#0d0887"
             ],
             [
              0.1111111111111111,
              "#46039f"
             ],
             [
              0.2222222222222222,
              "#7201a8"
             ],
             [
              0.3333333333333333,
              "#9c179e"
             ],
             [
              0.4444444444444444,
              "#bd3786"
             ],
             [
              0.5555555555555556,
              "#d8576b"
             ],
             [
              0.6666666666666666,
              "#ed7953"
             ],
             [
              0.7777777777777778,
              "#fb9f3a"
             ],
             [
              0.8888888888888888,
              "#fdca26"
             ],
             [
              1,
              "#f0f921"
             ]
            ],
            "type": "contour"
           }
          ],
          "contourcarpet": [
           {
            "colorbar": {
             "outlinewidth": 0,
             "ticks": ""
            },
            "type": "contourcarpet"
           }
          ],
          "heatmap": [
           {
            "colorbar": {
             "outlinewidth": 0,
             "ticks": ""
            },
            "colorscale": [
             [
              0,
              "#0d0887"
             ],
             [
              0.1111111111111111,
              "#46039f"
             ],
             [
              0.2222222222222222,
              "#7201a8"
             ],
             [
              0.3333333333333333,
              "#9c179e"
             ],
             [
              0.4444444444444444,
              "#bd3786"
             ],
             [
              0.5555555555555556,
              "#d8576b"
             ],
             [
              0.6666666666666666,
              "#ed7953"
             ],
             [
              0.7777777777777778,
              "#fb9f3a"
             ],
             [
              0.8888888888888888,
              "#fdca26"
             ],
             [
              1,
              "#f0f921"
             ]
            ],
            "type": "heatmap"
           }
          ],
          "histogram": [
           {
            "marker": {
             "pattern": {
              "fillmode": "overlay",
              "size": 10,
              "solidity": 0.2
             }
            },
            "type": "histogram"
           }
          ],
          "histogram2d": [
           {
            "colorbar": {
             "outlinewidth": 0,
             "ticks": ""
            },
            "colorscale": [
             [
              0,
              "#0d0887"
             ],
             [
              0.1111111111111111,
              "#46039f"
             ],
             [
              0.2222222222222222,
              "#7201a8"
             ],
             [
              0.3333333333333333,
              "#9c179e"
             ],
             [
              0.4444444444444444,
              "#bd3786"
             ],
             [
              0.5555555555555556,
              "#d8576b"
             ],
             [
              0.6666666666666666,
              "#ed7953"
             ],
             [
              0.7777777777777778,
              "#fb9f3a"
             ],
             [
              0.8888888888888888,
              "#fdca26"
             ],
             [
              1,
              "#f0f921"
             ]
            ],
            "type": "histogram2d"
           }
          ],
          "histogram2dcontour": [
           {
            "colorbar": {
             "outlinewidth": 0,
             "ticks": ""
            },
            "colorscale": [
             [
              0,
              "#0d0887"
             ],
             [
              0.1111111111111111,
              "#46039f"
             ],
             [
              0.2222222222222222,
              "#7201a8"
             ],
             [
              0.3333333333333333,
              "#9c179e"
             ],
             [
              0.4444444444444444,
              "#bd3786"
             ],
             [
              0.5555555555555556,
              "#d8576b"
             ],
             [
              0.6666666666666666,
              "#ed7953"
             ],
             [
              0.7777777777777778,
              "#fb9f3a"
             ],
             [
              0.8888888888888888,
              "#fdca26"
             ],
             [
              1,
              "#f0f921"
             ]
            ],
            "type": "histogram2dcontour"
           }
          ],
          "mesh3d": [
           {
            "colorbar": {
             "outlinewidth": 0,
             "ticks": ""
            },
            "type": "mesh3d"
           }
          ],
          "parcoords": [
           {
            "line": {
             "colorbar": {
              "outlinewidth": 0,
              "ticks": ""
             }
            },
            "type": "parcoords"
           }
          ],
          "pie": [
           {
            "automargin": true,
            "type": "pie"
           }
          ],
          "scatter": [
           {
            "fillpattern": {
             "fillmode": "overlay",
             "size": 10,
             "solidity": 0.2
            },
            "type": "scatter"
           }
          ],
          "scatter3d": [
           {
            "line": {
             "colorbar": {
              "outlinewidth": 0,
              "ticks": ""
             }
            },
            "marker": {
             "colorbar": {
              "outlinewidth": 0,
              "ticks": ""
             }
            },
            "type": "scatter3d"
           }
          ],
          "scattercarpet": [
           {
            "marker": {
             "colorbar": {
              "outlinewidth": 0,
              "ticks": ""
             }
            },
            "type": "scattercarpet"
           }
          ],
          "scattergeo": [
           {
            "marker": {
             "colorbar": {
              "outlinewidth": 0,
              "ticks": ""
             }
            },
            "type": "scattergeo"
           }
          ],
          "scattergl": [
           {
            "marker": {
             "colorbar": {
              "outlinewidth": 0,
              "ticks": ""
             }
            },
            "type": "scattergl"
           }
          ],
          "scattermap": [
           {
            "marker": {
             "colorbar": {
              "outlinewidth": 0,
              "ticks": ""
             }
            },
            "type": "scattermap"
           }
          ],
          "scattermapbox": [
           {
            "marker": {
             "colorbar": {
              "outlinewidth": 0,
              "ticks": ""
             }
            },
            "type": "scattermapbox"
           }
          ],
          "scatterpolar": [
           {
            "marker": {
             "colorbar": {
              "outlinewidth": 0,
              "ticks": ""
             }
            },
            "type": "scatterpolar"
           }
          ],
          "scatterpolargl": [
           {
            "marker": {
             "colorbar": {
              "outlinewidth": 0,
              "ticks": ""
             }
            },
            "type": "scatterpolargl"
           }
          ],
          "scatterternary": [
           {
            "marker": {
             "colorbar": {
              "outlinewidth": 0,
              "ticks": ""
             }
            },
            "type": "scatterternary"
           }
          ],
          "surface": [
           {
            "colorbar": {
             "outlinewidth": 0,
             "ticks": ""
            },
            "colorscale": [
             [
              0,
              "#0d0887"
             ],
             [
              0.1111111111111111,
              "#46039f"
             ],
             [
              0.2222222222222222,
              "#7201a8"
             ],
             [
              0.3333333333333333,
              "#9c179e"
             ],
             [
              0.4444444444444444,
              "#bd3786"
             ],
             [
              0.5555555555555556,
              "#d8576b"
             ],
             [
              0.6666666666666666,
              "#ed7953"
             ],
             [
              0.7777777777777778,
              "#fb9f3a"
             ],
             [
              0.8888888888888888,
              "#fdca26"
             ],
             [
              1,
              "#f0f921"
             ]
            ],
            "type": "surface"
           }
          ],
          "table": [
           {
            "cells": {
             "fill": {
              "color": "#EBF0F8"
             },
             "line": {
              "color": "white"
             }
            },
            "header": {
             "fill": {
              "color": "#C8D4E3"
             },
             "line": {
              "color": "white"
             }
            },
            "type": "table"
           }
          ]
         },
         "layout": {
          "annotationdefaults": {
           "arrowcolor": "#2a3f5f",
           "arrowhead": 0,
           "arrowwidth": 1
          },
          "autotypenumbers": "strict",
          "coloraxis": {
           "colorbar": {
            "outlinewidth": 0,
            "ticks": ""
           }
          },
          "colorscale": {
           "diverging": [
            [
             0,
             "#8e0152"
            ],
            [
             0.1,
             "#c51b7d"
            ],
            [
             0.2,
             "#de77ae"
            ],
            [
             0.3,
             "#f1b6da"
            ],
            [
             0.4,
             "#fde0ef"
            ],
            [
             0.5,
             "#f7f7f7"
            ],
            [
             0.6,
             "#e6f5d0"
            ],
            [
             0.7,
             "#b8e186"
            ],
            [
             0.8,
             "#7fbc41"
            ],
            [
             0.9,
             "#4d9221"
            ],
            [
             1,
             "#276419"
            ]
           ],
           "sequential": [
            [
             0,
             "#0d0887"
            ],
            [
             0.1111111111111111,
             "#46039f"
            ],
            [
             0.2222222222222222,
             "#7201a8"
            ],
            [
             0.3333333333333333,
             "#9c179e"
            ],
            [
             0.4444444444444444,
             "#bd3786"
            ],
            [
             0.5555555555555556,
             "#d8576b"
            ],
            [
             0.6666666666666666,
             "#ed7953"
            ],
            [
             0.7777777777777778,
             "#fb9f3a"
            ],
            [
             0.8888888888888888,
             "#fdca26"
            ],
            [
             1,
             "#f0f921"
            ]
           ],
           "sequentialminus": [
            [
             0,
             "#0d0887"
            ],
            [
             0.1111111111111111,
             "#46039f"
            ],
            [
             0.2222222222222222,
             "#7201a8"
            ],
            [
             0.3333333333333333,
             "#9c179e"
            ],
            [
             0.4444444444444444,
             "#bd3786"
            ],
            [
             0.5555555555555556,
             "#d8576b"
            ],
            [
             0.6666666666666666,
             "#ed7953"
            ],
            [
             0.7777777777777778,
             "#fb9f3a"
            ],
            [
             0.8888888888888888,
             "#fdca26"
            ],
            [
             1,
             "#f0f921"
            ]
           ]
          },
          "colorway": [
           "#636efa",
           "#EF553B",
           "#00cc96",
           "#ab63fa",
           "#FFA15A",
           "#19d3f3",
           "#FF6692",
           "#B6E880",
           "#FF97FF",
           "#FECB52"
          ],
          "font": {
           "color": "#2a3f5f"
          },
          "geo": {
           "bgcolor": "white",
           "lakecolor": "white",
           "landcolor": "white",
           "showlakes": true,
           "showland": true,
           "subunitcolor": "#C8D4E3"
          },
          "hoverlabel": {
           "align": "left"
          },
          "hovermode": "closest",
          "mapbox": {
           "style": "light"
          },
          "paper_bgcolor": "white",
          "plot_bgcolor": "white",
          "polar": {
           "angularaxis": {
            "gridcolor": "#EBF0F8",
            "linecolor": "#EBF0F8",
            "ticks": ""
           },
           "bgcolor": "white",
           "radialaxis": {
            "gridcolor": "#EBF0F8",
            "linecolor": "#EBF0F8",
            "ticks": ""
           }
          },
          "scene": {
           "xaxis": {
            "backgroundcolor": "white",
            "gridcolor": "#DFE8F3",
            "gridwidth": 2,
            "linecolor": "#EBF0F8",
            "showbackground": true,
            "ticks": "",
            "zerolinecolor": "#EBF0F8"
           },
           "yaxis": {
            "backgroundcolor": "white",
            "gridcolor": "#DFE8F3",
            "gridwidth": 2,
            "linecolor": "#EBF0F8",
            "showbackground": true,
            "ticks": "",
            "zerolinecolor": "#EBF0F8"
           },
           "zaxis": {
            "backgroundcolor": "white",
            "gridcolor": "#DFE8F3",
            "gridwidth": 2,
            "linecolor": "#EBF0F8",
            "showbackground": true,
            "ticks": "",
            "zerolinecolor": "#EBF0F8"
           }
          },
          "shapedefaults": {
           "line": {
            "color": "#2a3f5f"
           }
          },
          "ternary": {
           "aaxis": {
            "gridcolor": "#DFE8F3",
            "linecolor": "#A2B1C6",
            "ticks": ""
           },
           "baxis": {
            "gridcolor": "#DFE8F3",
            "linecolor": "#A2B1C6",
            "ticks": ""
           },
           "bgcolor": "white",
           "caxis": {
            "gridcolor": "#DFE8F3",
            "linecolor": "#A2B1C6",
            "ticks": ""
           }
          },
          "title": {
           "x": 0.05
          },
          "xaxis": {
           "automargin": true,
           "gridcolor": "#EBF0F8",
           "linecolor": "#EBF0F8",
           "ticks": "",
           "title": {
            "standoff": 15
           },
           "zerolinecolor": "#EBF0F8",
           "zerolinewidth": 2
          },
          "yaxis": {
           "automargin": true,
           "gridcolor": "#EBF0F8",
           "linecolor": "#EBF0F8",
           "ticks": "",
           "title": {
            "standoff": 15
           },
           "zerolinecolor": "#EBF0F8",
           "zerolinewidth": 2
          }
         }
        },
        "title": {
         "text": "Distribution of period returns"
        },
        "xaxis": {
         "title": {
          "text": "Return"
         }
        }
       }
      }
     },
     "metadata": {},
     "output_type": "display_data"
    }
   ],
   "source": [
    "#!/usr/bin/env python3\n",
    "\"\"\"\n",
    "Walk-forward CVaR **and** Mean-Variance (MV) optimisers — Plotly edition\n",
    "========================================================================\n",
    "\n",
    "* Runs two separate strategies:\n",
    "      1. **CVaR**  (Rockafellar & Uryasev, β = BETA)\n",
    "      2. **Mean–Variance** (classic Markowitz)\n",
    "* Re‑balances on calendar `FREQ` (monthly by default).\n",
    "* Benchmarks against an arbitrary list of single‑stock buy‑and‑hold baselines.\n",
    "* Produces interactive Plotly charts for **all** series.\n",
    "\n",
    "Requires that `optimize_mean_variance()` lives next to `optimise_cvar()`\n",
    "and has the same signature.\n",
    "\n",
    "Save as (or paste into) your notebook / script and run.\n",
    "\"\"\"\n",
    "from pathlib import Path\n",
    "from typing import Tuple, Dict, Callable\n",
    "\n",
    "import numpy as np\n",
    "import pandas as pd\n",
    "import plotly.graph_objects as go\n",
    "import plotly.io as pio\n",
    "\n",
    "from main import load_prices, log_returns, optimise_cvar, optimize_mean_variance\n",
    "\n",
    "# ───────── CONFIG ───────────────────────────────────────────────────────── #\n",
    "DATA_PATH = Path(\"stocks_clean_aligned_v2.csv\")\n",
    "BETA = 0.8\n",
    "TARGET_RETURN = None\n",
    "SHORT_CAP = 0\n",
    "FREQ = \"M\"  # monthly\n",
    "INITIAL_CASH = 1000.0\n",
    "SHOW_ABS_GT = 1e-10\n",
    "BASELINES = [\"MSFT\", \"MRK\", \"GOOGL\", \"CVX\"]\n",
    "# ─────────────────────────────────────────────────────────────────────────── #\n",
    "\n",
    "# (Optional) choose your preferred renderer — uncomment as needed\n",
    "# pio.renderers.default = \"notebook_connected\"\n",
    "\n",
    "# ═════════════════════ WALK‑FORWARD CORE ══════════════════════════════════ #\n",
    "def walk_forward(\n",
    "    prices: pd.DataFrame,\n",
    "    optimiser: Callable[..., dict],\n",
    "    init_cash: float = 100.0,\n",
    "    freq: str = \"M\",\n",
    "    label: str = \"strategy\",\n",
    ") -> Tuple[pd.Series, pd.DataFrame]:\n",
    "    \"\"\"Generic walk‑forward wrapper for any single‑period optimiser.\"\"\"\n",
    "    periods = pd.period_range(prices.index.min(), prices.index.max(), freq=freq)\n",
    "\n",
    "    eq_curve, w_log = [], []\n",
    "    equity = init_cash\n",
    "\n",
    "    for i in range(len(periods) - 1):\n",
    "        # optimise with all info ≤ period end\n",
    "        R = log_returns(prices.loc[: periods[i].end_time])\n",
    "        if R.empty:\n",
    "            continue\n",
    "\n",
    "        res = optimiser(R)\n",
    "        w = res[\"weights\"]\n",
    "\n",
    "        # hold during next period\n",
    "        hold_px = prices.loc[periods[i].end_time : periods[i + 1].end_time]\n",
    "        if len(hold_px) < 2:\n",
    "            continue\n",
    "        ret = np.dot((hold_px.iloc[-1] / hold_px.iloc[0] - 1), w.fillna(0.0))\n",
    "        equity *= 1 + ret\n",
    "\n",
    "        eq_curve.append((periods[i + 1].end_time, equity))\n",
    "        w_log.append((periods[i + 1].end_time, w))\n",
    "\n",
    "    equity_ser = pd.Series(\n",
    "        [v for _, v in eq_curve],\n",
    "        index=pd.DatetimeIndex([d for d, _ in eq_curve], name=\"date\"),\n",
    "        name=label,\n",
    "    )\n",
    "    weights_df = (\n",
    "        pd.concat([w.rename(d) for d, w in w_log], axis=1)\n",
    "        .T.sort_index()\n",
    "        .rename_axis(\"date\")\n",
    "    )\n",
    "    return equity_ser, weights_df\n",
    "\n",
    "# ═════════════════════ KPI HELPERS ════════════════════════════════════════ #\n",
    "\n",
    "def pct_ret(series: pd.Series) -> pd.Series:\n",
    "    return series.pct_change().dropna()\n",
    "\n",
    "\n",
    "def rolling_cvar(ret: pd.Series, beta: float, window: int) -> pd.Series:\n",
    "    def cvar(x):\n",
    "        losses = x[x < 0]\n",
    "        if losses.empty:\n",
    "            return 0.0\n",
    "        var = np.quantile(losses, 1 - beta)\n",
    "        return losses[losses <= var].mean()\n",
    "\n",
    "    return ret.rolling(window).apply(cvar, raw=False)\n",
    "\n",
    "\n",
    "def drawdown_curve(equity: pd.Series) -> pd.Series:\n",
    "    cummax = equity.cummax()\n",
    "    return (equity - cummax) / cummax\n",
    "\n",
    "# ═════════════════════ PLOTTING HELPERS ═══════════════════════════════════ #\n",
    "\n",
    "def line_chart(series_dict: Dict[str, pd.Series], title: str, y_title: str):\n",
    "    fig = go.Figure()\n",
    "    for name, s in series_dict.items():\n",
    "        s.fillna(0, inplace=True)\n",
    "        fig.add_trace(go.Scatter(x=s.index, y=s.values, mode=\"lines\", name=name))\n",
    "    fig.update_layout(\n",
    "        title=title,\n",
    "        xaxis_title=\"Date\",\n",
    "        yaxis_title=y_title,\n",
    "        legend_title=\"Series\",\n",
    "        template=\"plotly_white\",\n",
    "    )\n",
    "    fig.show()\n",
    "\n",
    "\n",
    "def boxplot(returns: Dict[str, pd.Series], title: str):\n",
    "    fig = go.Figure()\n",
    "    for name, r in returns.items():\n",
    "        fig.add_trace(\n",
    "            go.Box(\n",
    "                x=r.values,\n",
    "                name=name,\n",
    "                boxmean=\"sd\",\n",
    "                orientation=\"h\",\n",
    "            )\n",
    "        )\n",
    "    fig.update_layout(title=title, template=\"plotly_white\", xaxis_title=\"Return\")\n",
    "    fig.show()\n",
    "\n",
    "# ═════════════════════ MAIN SCRIPT ════════════════════════════════════════ #\n",
    "\n",
    "def _run_cli() -> None:\n",
    "    prices = load_prices(DATA_PATH)\n",
    "\n",
    "    # ── strategy runs ──────────────────────────────────────────────────── #\n",
    "    equity_cvar, w_cvar = walk_forward(\n",
    "        prices,\n",
    "        lambda R: optimise_cvar(R, BETA, TARGET_RETURN, SHORT_CAP),\n",
    "        INITIAL_CASH,\n",
    "        FREQ,\n",
    "        label=\"CVaR\",\n",
    "    )\n",
    "\n",
    "    equity_mv, w_mv = walk_forward(\n",
    "        prices,\n",
    "        lambda R: optimize_mean_variance(R, TARGET_RETURN, SHORT_CAP),\n",
    "        INITIAL_CASH,\n",
    "        FREQ,\n",
    "        label=\"MVar\",\n",
    "    )\n",
    "\n",
    "    # ── baselines ──────────────────────────────────────────────────────── #\n",
    "    baselines: Dict[str, pd.Series] = {}\n",
    "    for tkr in BASELINES:\n",
    "        if tkr not in prices.columns:\n",
    "            raise KeyError(f\"Ticker '{tkr}' not found.\")\n",
    "        px = prices[tkr].sort_index().reindex(equity_cvar.index, method=\"ffill\")\n",
    "        baselines[tkr] = INITIAL_CASH * px / px.iloc[0]\n",
    "        baselines[tkr].name = tkr\n",
    "\n",
    "    # ── summary table ──────────────────────────────────────────────────── #\n",
    "    rows = [\"CVaR\", \"MVar\"] + list(baselines.keys())\n",
    "    finals = [equity_cvar.iloc[-1], equity_mv.iloc[-1]] + [s.iloc[-1] for s in baselines.values()]\n",
    "    cumret = [(v / INITIAL_CASH - 1) * 100 for v in finals]\n",
    "    summary = pd.DataFrame({\"final_$\": finals, \"cum_%\": cumret}, index=rows).round(2)\n",
    "\n",
    "    print(\"\\n===== SUMMARY =====\")\n",
    "    print(summary.to_string())\n",
    "\n",
    "    # print last weights for both strategies\n",
    "    print(\"\\n===== LAST CVaR WEIGHTS (|w| ≥ {:.4f}) =====\".format(SHOW_ABS_GT))\n",
    "    print(w_cvar.iloc[-1][w_cvar.iloc[-1].abs() >= SHOW_ABS_GT].round(6).to_string())\n",
    "\n",
    "    print(\"\\n===== LAST MVar WEIGHTS (|w| ≥ {:.4f}) =====\".format(SHOW_ABS_GT))\n",
    "    print(w_mv.iloc[-1][w_mv.iloc[-1].abs() >= SHOW_ABS_GT].round(6).to_string())\n",
    "\n",
    "    # ── equity curves ──────────────────────────────────────────────────── #\n",
    "    series_equity = {\"CVaR\": equity_cvar, \"MVar\": equity_mv} | baselines\n",
    "    line_chart(series_equity, f\"Equity curve — re‑balance = {FREQ}\", \"Portfolio value ($)\")\n",
    "\n",
    "    # ── KPI charts (rolling CVaR, σ, Sharpe, drawdowns, boxplot) ───────── #\n",
    "    returns = {k: pct_ret(v) for k, v in series_equity.items()}\n",
    "    window = 12  # approx. 30 periods ≈ one trading month\n",
    "\n",
    "    # 1. Rolling CVaR\n",
    "    rolling_cvar_series = {k: rolling_cvar(r, BETA, window) for k, r in returns.items()}\n",
    "    line_chart(rolling_cvar_series, f\"Rolling {int(BETA*100)}% CVaR (window={window})\", \"CVaR (mean loss)\")\n",
    "\n",
    "    # 2. Rolling volatility σ\n",
    "    rolling_vol = {k: r.rolling(window).std() for k, r in returns.items()}\n",
    "    line_chart(rolling_vol, f\"Rolling volatility σ (window={window})\", \"Std‑dev of returns\")\n",
    "\n",
    "    # 3. Rolling Sharpe\n",
    "    rolling_sharpe = {\n",
    "        k: r.rolling(window).mean() / r.rolling(window).std()\n",
    "        for k, r in returns.items()\n",
    "    }\n",
    "    line_chart(rolling_sharpe, f\"Rolling Sharpe ratio (window={window})\", \"Sharpe ≈ μ/σ\")\n",
    "\n",
    "    # 4. Drawdowns\n",
    "    drawdowns = {k: drawdown_curve(eq) for k, eq in series_equity.items()}\n",
    "    line_chart(drawdowns, \"Drawdown curves\", \"Drawdown (%)\")\n",
    "\n",
    "    # 5. Box‑plot of period returns\n",
    "    boxplot(returns, \"Distribution of period returns\")\n",
    "\n",
    "\n",
    "if __name__ == \"__main__\":\n",
    "    _run_cli()\n"
   ]
  },
  {
   "cell_type": "code",
   "execution_count": null,
   "id": "ed7045b0",
   "metadata": {},
   "outputs": [],
   "source": []
  }
 ],
 "metadata": {
  "kernelspec": {
   "display_name": "venv",
   "language": "python",
   "name": "python3"
  },
  "language_info": {
   "codemirror_mode": {
    "name": "ipython",
    "version": 3
   },
   "file_extension": ".py",
   "mimetype": "text/x-python",
   "name": "python",
   "nbconvert_exporter": "python",
   "pygments_lexer": "ipython3",
   "version": "3.11.4"
  }
 },
 "nbformat": 4,
 "nbformat_minor": 5
}
