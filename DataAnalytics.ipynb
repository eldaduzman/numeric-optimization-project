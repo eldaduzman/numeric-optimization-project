{
 "cells": [
  {
   "cell_type": "code",
   "execution_count": 1,
   "id": "047386c6",
   "metadata": {},
   "outputs": [],
   "source": [
    "from pathlib import Path\n",
    "from typing import Tuple, Dict, Callable\n",
    "\n",
    "import numpy as np\n",
    "import pandas as pd\n",
    "import plotly.graph_objects as go\n",
    "\n",
    "import plotly.express as pexp\n",
    "from main import load_prices, log_returns, optimise_cvar, optimize_mean_variance, simulate_top_n"
   ]
  },
  {
   "cell_type": "code",
   "execution_count": 2,
   "id": "350714dd",
   "metadata": {},
   "outputs": [],
   "source": [
    "DATA_PATH = Path(\"stocks_clean_aligned_v2.csv\")\n",
    "# BETA = 0.8\n",
    "TARGET_RETURN = 1e-5\n",
    "SHORT_CAP = 0\n",
    "FREQ = \"M\"  # monthly\n",
    "INITIAL_CASH = 1000.0\n",
    "SHOW_ABS_GT = 1e-10\n",
    "BASELINES = [\"MSFT\", \"MRK\", \"GOOGL\", \"CVX\"]\n",
    "window = 2"
   ]
  },
  {
   "cell_type": "code",
   "execution_count": 3,
   "id": "2504bdf8",
   "metadata": {},
   "outputs": [],
   "source": [
    "\n",
    "def walk_forward(\n",
    "    prices: pd.DataFrame,\n",
    "    optimiser: Callable[..., dict],\n",
    "    init_cash: float = 100.0,\n",
    "    freq: str = \"M\",\n",
    "    label: str = \"strategy\",\n",
    ") -> Tuple[pd.Series, pd.DataFrame]:\n",
    "    \"\"\"Generic walk‑forward wrapper for any single‑period optimiser.\"\"\"\n",
    "    periods = pd.period_range(prices.index.min(), prices.index.max(), freq=freq)\n",
    "\n",
    "    eq_curve, w_log = [], []\n",
    "    equity = init_cash\n",
    "\n",
    "    for i in range(len(periods) - 1):\n",
    "        # optimise with all info ≤ period end\n",
    "        R = log_returns(prices.loc[: periods[i].end_time])\n",
    "        if R.empty:\n",
    "            continue\n",
    "\n",
    "        res = optimiser(R)\n",
    "        w = res[\"weights\"]\n",
    "\n",
    "        # hold during next period\n",
    "        hold_px = prices.loc[periods[i].end_time : periods[i + 1].end_time]\n",
    "        if len(hold_px) < 2:\n",
    "            continue\n",
    "        ret = np.dot((hold_px.iloc[-1] / hold_px.iloc[0] - 1), w.fillna(0.0))\n",
    "        equity *= 1 + ret\n",
    "\n",
    "        eq_curve.append((periods[i + 1].end_time, equity))\n",
    "        w_log.append((periods[i + 1].end_time, w))\n",
    "\n",
    "    equity_ser = pd.Series(\n",
    "        [v for _, v in eq_curve],\n",
    "        index=pd.DatetimeIndex([d for d, _ in eq_curve], name=\"date\"),\n",
    "        name=label,\n",
    "    )\n",
    "    weights_df = (\n",
    "        pd.concat([w.rename(d) for d, w in w_log], axis=1)\n",
    "        .T.sort_index()\n",
    "        .rename_axis(\"date\")\n",
    "    )\n",
    "    return equity_ser, weights_df\n",
    "\n",
    "\n",
    "def pct_ret(series: pd.Series) -> pd.Series:\n",
    "    return series.pct_change().dropna()\n",
    "\n",
    "\n",
    "def rolling_cvar(ret: pd.Series, beta: float, window: int) -> pd.Series:\n",
    "    def cvar(x):\n",
    "        losses = x[x < 0]\n",
    "        if losses.empty:\n",
    "            return 0.0\n",
    "        var = np.quantile(losses, 1 - beta)\n",
    "        return losses[losses <= var].mean()\n",
    "\n",
    "    return ret.rolling(window).apply(cvar, raw=False)\n",
    "\n",
    "\n",
    "def drawdown_curve(equity: pd.Series) -> pd.Series:\n",
    "    cummax = equity.cummax()\n",
    "    return (equity - cummax) / cummax\n",
    "\n",
    "\n",
    "\n",
    "def line_chart(series_dict: Dict[str, pd.Series], title: str, y_title: str):\n",
    "    fig = go.Figure()\n",
    "    for name, s in series_dict.items():\n",
    "        s.fillna(0, inplace=True)\n",
    "        fig.add_trace(go.Scatter(x=s.index, y=s.values, mode=\"lines\", name=name))\n",
    "    fig.update_layout(\n",
    "        title=title,\n",
    "        xaxis_title=\"Date\",\n",
    "        yaxis_title=y_title,\n",
    "        legend_title=\"Series\",\n",
    "        template=\"plotly_white\",\n",
    "    )\n",
    "    fig.show()\n",
    "\n",
    "\n",
    "def boxplot(returns: Dict[str, pd.Series], title: str):\n",
    "    fig = go.Figure()\n",
    "    for name, r in returns.items():\n",
    "        fig.add_trace(\n",
    "            go.Box(\n",
    "                x=r.values,\n",
    "                name=name,\n",
    "                boxmean=\"sd\",\n",
    "                orientation=\"h\",\n",
    "            )\n",
    "        )\n",
    "    fig.update_layout(title=title, template=\"plotly_white\", xaxis_title=\"Return\")\n",
    "    fig.show()\n",
    "\n",
    "\n"
   ]
  },
  {
   "cell_type": "code",
   "execution_count": 4,
   "id": "f32cbd90",
   "metadata": {},
   "outputs": [],
   "source": [
    "prices = load_prices(DATA_PATH)\n"
   ]
  },
  {
   "cell_type": "code",
   "execution_count": null,
   "id": "0ecf3729",
   "metadata": {},
   "outputs": [],
   "source": []
  },
  {
   "cell_type": "code",
   "execution_count": 5,
   "id": "fb5b94e9",
   "metadata": {},
   "outputs": [],
   "source": [
    "equity_cvar_90, w_cvar_50 = walk_forward(\n",
    "    prices,\n",
    "    lambda R: optimise_cvar(R, 0.9, TARGET_RETURN, SHORT_CAP),\n",
    "    INITIAL_CASH,\n",
    "    FREQ,\n",
    "    label=\"CVaR\",\n",
    ")\n",
    "\n"
   ]
  },
  {
   "cell_type": "code",
   "execution_count": 6,
   "id": "b3213af4",
   "metadata": {},
   "outputs": [],
   "source": [
    "equity_cvar_95, w_cvar_95 = walk_forward(\n",
    "    prices,\n",
    "    lambda R: optimise_cvar(R, 0.95, TARGET_RETURN, SHORT_CAP),\n",
    "    INITIAL_CASH,\n",
    "    FREQ,\n",
    "    label=\"CVaR\",\n",
    ")"
   ]
  },
  {
   "cell_type": "code",
   "execution_count": 7,
   "id": "4d4d03fb",
   "metadata": {},
   "outputs": [],
   "source": [
    "equity_cvar_80, w_cvar_80 = walk_forward(\n",
    "    prices,\n",
    "    lambda R: optimise_cvar(R, 0.8, TARGET_RETURN, SHORT_CAP),\n",
    "    INITIAL_CASH,\n",
    "    FREQ,\n",
    "    label=\"CVaR\",\n",
    ")"
   ]
  },
  {
   "cell_type": "code",
   "execution_count": 8,
   "id": "19f12b29",
   "metadata": {},
   "outputs": [],
   "source": [
    "\n",
    "\n",
    "equity_mv, w_mv = walk_forward(\n",
    "    prices,\n",
    "    lambda R: optimize_mean_variance(R, TARGET_RETURN, SHORT_CAP),\n",
    "    INITIAL_CASH,\n",
    "    FREQ,\n",
    "    label=\"MVar\",\n",
    ")"
   ]
  },
  {
   "cell_type": "code",
   "execution_count": 9,
   "id": "f59cd93a",
   "metadata": {},
   "outputs": [
    {
     "name": "stderr",
     "output_type": "stream",
     "text": [
      "C:\\Users\\uzman\\AppData\\Local\\Temp\\ipykernel_43020\\3533111393.py:1: FutureWarning: 'M' is deprecated and will be removed in a future version, please use 'ME' instead.\n",
      "  top3_eq = simulate_top_n(prices.resample(FREQ).last(), 3, INITIAL_CASH)\n"
     ]
    }
   ],
   "source": [
    "top3_eq = simulate_top_n(prices.resample(FREQ).last(), 3, INITIAL_CASH)"
   ]
  },
  {
   "cell_type": "code",
   "execution_count": 10,
   "id": "94ec14b2",
   "metadata": {},
   "outputs": [],
   "source": [
    "baselines: Dict[str, pd.Series] = {}\n",
    "for tkr in BASELINES:\n",
    "    if tkr not in prices.columns:\n",
    "        raise KeyError(f\"Ticker '{tkr}' not found.\")\n",
    "    px = prices[tkr].sort_index().reindex(equity_cvar_80.index, method=\"ffill\")\n",
    "    baselines[tkr] = INITIAL_CASH * px / px.iloc[0]\n",
    "    baselines[tkr].name = tkr"
   ]
  },
  {
   "cell_type": "code",
   "execution_count": 11,
   "id": "05db80d6",
   "metadata": {},
   "outputs": [],
   "source": [
    "rows = [\"CVaR_80\", \"CVaR_95\", \"CVaR_90\", \"MVar\", \"TOP3\"] + list(baselines.keys())\n",
    "finals = [\n",
    "    equity_cvar_80.iloc[-1],\n",
    "    equity_cvar_95.iloc[-1],\n",
    "    equity_cvar_90.iloc[-1],\n",
    "    equity_mv.iloc[-1],\n",
    "    top3_eq.iloc[-1],\n",
    "] + [s.iloc[-1] for s in baselines.values()]\n",
    "cumret = [(v / INITIAL_CASH - 1) * 100 for v in finals]\n",
    "summary = (\n",
    "    pd.DataFrame({\"final_$\": finals, \"cum_%\": cumret}, index=rows)\n",
    "    .round(2)\n",
    "    .sort_values(by=\"cum_%\")\n",
    "    .reset_index()\n",
    ")"
   ]
  },
  {
   "cell_type": "code",
   "execution_count": 12,
   "id": "dcb49646",
   "metadata": {},
   "outputs": [
    {
     "data": {
      "text/html": [
       "<div>\n",
       "<style scoped>\n",
       "    .dataframe tbody tr th:only-of-type {\n",
       "        vertical-align: middle;\n",
       "    }\n",
       "\n",
       "    .dataframe tbody tr th {\n",
       "        vertical-align: top;\n",
       "    }\n",
       "\n",
       "    .dataframe thead th {\n",
       "        text-align: right;\n",
       "    }\n",
       "</style>\n",
       "<table border=\"1\" class=\"dataframe\">\n",
       "  <thead>\n",
       "    <tr style=\"text-align: right;\">\n",
       "      <th></th>\n",
       "      <th>index</th>\n",
       "      <th>final_$</th>\n",
       "      <th>cum_%</th>\n",
       "    </tr>\n",
       "  </thead>\n",
       "  <tbody>\n",
       "    <tr>\n",
       "      <th>0</th>\n",
       "      <td>CVX</td>\n",
       "      <td>1129.64</td>\n",
       "      <td>12.96</td>\n",
       "    </tr>\n",
       "    <tr>\n",
       "      <th>1</th>\n",
       "      <td>MRK</td>\n",
       "      <td>1553.57</td>\n",
       "      <td>55.36</td>\n",
       "    </tr>\n",
       "    <tr>\n",
       "      <th>2</th>\n",
       "      <td>TOP3</td>\n",
       "      <td>1802.77</td>\n",
       "      <td>80.28</td>\n",
       "    </tr>\n",
       "    <tr>\n",
       "      <th>3</th>\n",
       "      <td>GOOGL</td>\n",
       "      <td>2380.73</td>\n",
       "      <td>138.07</td>\n",
       "    </tr>\n",
       "    <tr>\n",
       "      <th>4</th>\n",
       "      <td>MSFT</td>\n",
       "      <td>3596.35</td>\n",
       "      <td>259.64</td>\n",
       "    </tr>\n",
       "    <tr>\n",
       "      <th>5</th>\n",
       "      <td>CVaR_95</td>\n",
       "      <td>7536.64</td>\n",
       "      <td>653.66</td>\n",
       "    </tr>\n",
       "    <tr>\n",
       "      <th>6</th>\n",
       "      <td>CVaR_90</td>\n",
       "      <td>7571.41</td>\n",
       "      <td>657.14</td>\n",
       "    </tr>\n",
       "    <tr>\n",
       "      <th>7</th>\n",
       "      <td>MVar</td>\n",
       "      <td>7818.84</td>\n",
       "      <td>681.88</td>\n",
       "    </tr>\n",
       "    <tr>\n",
       "      <th>8</th>\n",
       "      <td>CVaR_80</td>\n",
       "      <td>9069.32</td>\n",
       "      <td>806.93</td>\n",
       "    </tr>\n",
       "  </tbody>\n",
       "</table>\n",
       "</div>"
      ],
      "text/plain": [
       "     index  final_$   cum_%\n",
       "0      CVX  1129.64   12.96\n",
       "1      MRK  1553.57   55.36\n",
       "2     TOP3  1802.77   80.28\n",
       "3    GOOGL  2380.73  138.07\n",
       "4     MSFT  3596.35  259.64\n",
       "5  CVaR_95  7536.64  653.66\n",
       "6  CVaR_90  7571.41  657.14\n",
       "7     MVar  7818.84  681.88\n",
       "8  CVaR_80  9069.32  806.93"
      ]
     },
     "execution_count": 12,
     "metadata": {},
     "output_type": "execute_result"
    }
   ],
   "source": [
    "summary"
   ]
  },
  {
   "cell_type": "code",
   "execution_count": 13,
   "id": "48eab200",
   "metadata": {},
   "outputs": [
    {
     "data": {
      "application/vnd.plotly.v1+json": {
       "config": {
        "plotlyServerURL": "https://plot.ly"
       },
       "data": [
        {
         "hovertemplate": "index=%{x}<br>cum_%=%{y}<extra></extra>",
         "legendgroup": "",
         "marker": {
          "color": "#636efa",
          "pattern": {
           "shape": ""
          }
         },
         "name": "",
         "orientation": "v",
         "showlegend": false,
         "textposition": "auto",
         "type": "bar",
         "x": [
          "CVX",
          "MRK",
          "TOP3",
          "GOOGL",
          "MSFT",
          "CVaR_95",
          "CVaR_90",
          "MVar",
          "CVaR_80"
         ],
         "xaxis": "x",
         "y": {
          "bdata": "7FG4HoXrKUCuR+F6FK5LQFK4HoXrEVRACtejcD1CYUAK16NwPTpwQOF6FK5HbYRAhetRuB6JhEDXo3A9Ck+FQD0K16NwN4lA",
          "dtype": "f8"
         },
         "yaxis": "y"
        }
       ],
       "layout": {
        "barmode": "relative",
        "legend": {
         "tracegroupgap": 0
        },
        "margin": {
         "t": 60
        },
        "template": {
         "data": {
          "bar": [
           {
            "error_x": {
             "color": "#2a3f5f"
            },
            "error_y": {
             "color": "#2a3f5f"
            },
            "marker": {
             "line": {
              "color": "#E5ECF6",
              "width": 0.5
             },
             "pattern": {
              "fillmode": "overlay",
              "size": 10,
              "solidity": 0.2
             }
            },
            "type": "bar"
           }
          ],
          "barpolar": [
           {
            "marker": {
             "line": {
              "color": "#E5ECF6",
              "width": 0.5
             },
             "pattern": {
              "fillmode": "overlay",
              "size": 10,
              "solidity": 0.2
             }
            },
            "type": "barpolar"
           }
          ],
          "carpet": [
           {
            "aaxis": {
             "endlinecolor": "#2a3f5f",
             "gridcolor": "white",
             "linecolor": "white",
             "minorgridcolor": "white",
             "startlinecolor": "#2a3f5f"
            },
            "baxis": {
             "endlinecolor": "#2a3f5f",
             "gridcolor": "white",
             "linecolor": "white",
             "minorgridcolor": "white",
             "startlinecolor": "#2a3f5f"
            },
            "type": "carpet"
           }
          ],
          "choropleth": [
           {
            "colorbar": {
             "outlinewidth": 0,
             "ticks": ""
            },
            "type": "choropleth"
           }
          ],
          "contour": [
           {
            "colorbar": {
             "outlinewidth": 0,
             "ticks": ""
            },
            "colorscale": [
             [
              0,
              "#0d0887"
             ],
             [
              0.1111111111111111,
              "#46039f"
             ],
             [
              0.2222222222222222,
              "#7201a8"
             ],
             [
              0.3333333333333333,
              "#9c179e"
             ],
             [
              0.4444444444444444,
              "#bd3786"
             ],
             [
              0.5555555555555556,
              "#d8576b"
             ],
             [
              0.6666666666666666,
              "#ed7953"
             ],
             [
              0.7777777777777778,
              "#fb9f3a"
             ],
             [
              0.8888888888888888,
              "#fdca26"
             ],
             [
              1,
              "#f0f921"
             ]
            ],
            "type": "contour"
           }
          ],
          "contourcarpet": [
           {
            "colorbar": {
             "outlinewidth": 0,
             "ticks": ""
            },
            "type": "contourcarpet"
           }
          ],
          "heatmap": [
           {
            "colorbar": {
             "outlinewidth": 0,
             "ticks": ""
            },
            "colorscale": [
             [
              0,
              "#0d0887"
             ],
             [
              0.1111111111111111,
              "#46039f"
             ],
             [
              0.2222222222222222,
              "#7201a8"
             ],
             [
              0.3333333333333333,
              "#9c179e"
             ],
             [
              0.4444444444444444,
              "#bd3786"
             ],
             [
              0.5555555555555556,
              "#d8576b"
             ],
             [
              0.6666666666666666,
              "#ed7953"
             ],
             [
              0.7777777777777778,
              "#fb9f3a"
             ],
             [
              0.8888888888888888,
              "#fdca26"
             ],
             [
              1,
              "#f0f921"
             ]
            ],
            "type": "heatmap"
           }
          ],
          "histogram": [
           {
            "marker": {
             "pattern": {
              "fillmode": "overlay",
              "size": 10,
              "solidity": 0.2
             }
            },
            "type": "histogram"
           }
          ],
          "histogram2d": [
           {
            "colorbar": {
             "outlinewidth": 0,
             "ticks": ""
            },
            "colorscale": [
             [
              0,
              "#0d0887"
             ],
             [
              0.1111111111111111,
              "#46039f"
             ],
             [
              0.2222222222222222,
              "#7201a8"
             ],
             [
              0.3333333333333333,
              "#9c179e"
             ],
             [
              0.4444444444444444,
              "#bd3786"
             ],
             [
              0.5555555555555556,
              "#d8576b"
             ],
             [
              0.6666666666666666,
              "#ed7953"
             ],
             [
              0.7777777777777778,
              "#fb9f3a"
             ],
             [
              0.8888888888888888,
              "#fdca26"
             ],
             [
              1,
              "#f0f921"
             ]
            ],
            "type": "histogram2d"
           }
          ],
          "histogram2dcontour": [
           {
            "colorbar": {
             "outlinewidth": 0,
             "ticks": ""
            },
            "colorscale": [
             [
              0,
              "#0d0887"
             ],
             [
              0.1111111111111111,
              "#46039f"
             ],
             [
              0.2222222222222222,
              "#7201a8"
             ],
             [
              0.3333333333333333,
              "#9c179e"
             ],
             [
              0.4444444444444444,
              "#bd3786"
             ],
             [
              0.5555555555555556,
              "#d8576b"
             ],
             [
              0.6666666666666666,
              "#ed7953"
             ],
             [
              0.7777777777777778,
              "#fb9f3a"
             ],
             [
              0.8888888888888888,
              "#fdca26"
             ],
             [
              1,
              "#f0f921"
             ]
            ],
            "type": "histogram2dcontour"
           }
          ],
          "mesh3d": [
           {
            "colorbar": {
             "outlinewidth": 0,
             "ticks": ""
            },
            "type": "mesh3d"
           }
          ],
          "parcoords": [
           {
            "line": {
             "colorbar": {
              "outlinewidth": 0,
              "ticks": ""
             }
            },
            "type": "parcoords"
           }
          ],
          "pie": [
           {
            "automargin": true,
            "type": "pie"
           }
          ],
          "scatter": [
           {
            "fillpattern": {
             "fillmode": "overlay",
             "size": 10,
             "solidity": 0.2
            },
            "type": "scatter"
           }
          ],
          "scatter3d": [
           {
            "line": {
             "colorbar": {
              "outlinewidth": 0,
              "ticks": ""
             }
            },
            "marker": {
             "colorbar": {
              "outlinewidth": 0,
              "ticks": ""
             }
            },
            "type": "scatter3d"
           }
          ],
          "scattercarpet": [
           {
            "marker": {
             "colorbar": {
              "outlinewidth": 0,
              "ticks": ""
             }
            },
            "type": "scattercarpet"
           }
          ],
          "scattergeo": [
           {
            "marker": {
             "colorbar": {
              "outlinewidth": 0,
              "ticks": ""
             }
            },
            "type": "scattergeo"
           }
          ],
          "scattergl": [
           {
            "marker": {
             "colorbar": {
              "outlinewidth": 0,
              "ticks": ""
             }
            },
            "type": "scattergl"
           }
          ],
          "scattermap": [
           {
            "marker": {
             "colorbar": {
              "outlinewidth": 0,
              "ticks": ""
             }
            },
            "type": "scattermap"
           }
          ],
          "scattermapbox": [
           {
            "marker": {
             "colorbar": {
              "outlinewidth": 0,
              "ticks": ""
             }
            },
            "type": "scattermapbox"
           }
          ],
          "scatterpolar": [
           {
            "marker": {
             "colorbar": {
              "outlinewidth": 0,
              "ticks": ""
             }
            },
            "type": "scatterpolar"
           }
          ],
          "scatterpolargl": [
           {
            "marker": {
             "colorbar": {
              "outlinewidth": 0,
              "ticks": ""
             }
            },
            "type": "scatterpolargl"
           }
          ],
          "scatterternary": [
           {
            "marker": {
             "colorbar": {
              "outlinewidth": 0,
              "ticks": ""
             }
            },
            "type": "scatterternary"
           }
          ],
          "surface": [
           {
            "colorbar": {
             "outlinewidth": 0,
             "ticks": ""
            },
            "colorscale": [
             [
              0,
              "#0d0887"
             ],
             [
              0.1111111111111111,
              "#46039f"
             ],
             [
              0.2222222222222222,
              "#7201a8"
             ],
             [
              0.3333333333333333,
              "#9c179e"
             ],
             [
              0.4444444444444444,
              "#bd3786"
             ],
             [
              0.5555555555555556,
              "#d8576b"
             ],
             [
              0.6666666666666666,
              "#ed7953"
             ],
             [
              0.7777777777777778,
              "#fb9f3a"
             ],
             [
              0.8888888888888888,
              "#fdca26"
             ],
             [
              1,
              "#f0f921"
             ]
            ],
            "type": "surface"
           }
          ],
          "table": [
           {
            "cells": {
             "fill": {
              "color": "#EBF0F8"
             },
             "line": {
              "color": "white"
             }
            },
            "header": {
             "fill": {
              "color": "#C8D4E3"
             },
             "line": {
              "color": "white"
             }
            },
            "type": "table"
           }
          ]
         },
         "layout": {
          "annotationdefaults": {
           "arrowcolor": "#2a3f5f",
           "arrowhead": 0,
           "arrowwidth": 1
          },
          "autotypenumbers": "strict",
          "coloraxis": {
           "colorbar": {
            "outlinewidth": 0,
            "ticks": ""
           }
          },
          "colorscale": {
           "diverging": [
            [
             0,
             "#8e0152"
            ],
            [
             0.1,
             "#c51b7d"
            ],
            [
             0.2,
             "#de77ae"
            ],
            [
             0.3,
             "#f1b6da"
            ],
            [
             0.4,
             "#fde0ef"
            ],
            [
             0.5,
             "#f7f7f7"
            ],
            [
             0.6,
             "#e6f5d0"
            ],
            [
             0.7,
             "#b8e186"
            ],
            [
             0.8,
             "#7fbc41"
            ],
            [
             0.9,
             "#4d9221"
            ],
            [
             1,
             "#276419"
            ]
           ],
           "sequential": [
            [
             0,
             "#0d0887"
            ],
            [
             0.1111111111111111,
             "#46039f"
            ],
            [
             0.2222222222222222,
             "#7201a8"
            ],
            [
             0.3333333333333333,
             "#9c179e"
            ],
            [
             0.4444444444444444,
             "#bd3786"
            ],
            [
             0.5555555555555556,
             "#d8576b"
            ],
            [
             0.6666666666666666,
             "#ed7953"
            ],
            [
             0.7777777777777778,
             "#fb9f3a"
            ],
            [
             0.8888888888888888,
             "#fdca26"
            ],
            [
             1,
             "#f0f921"
            ]
           ],
           "sequentialminus": [
            [
             0,
             "#0d0887"
            ],
            [
             0.1111111111111111,
             "#46039f"
            ],
            [
             0.2222222222222222,
             "#7201a8"
            ],
            [
             0.3333333333333333,
             "#9c179e"
            ],
            [
             0.4444444444444444,
             "#bd3786"
            ],
            [
             0.5555555555555556,
             "#d8576b"
            ],
            [
             0.6666666666666666,
             "#ed7953"
            ],
            [
             0.7777777777777778,
             "#fb9f3a"
            ],
            [
             0.8888888888888888,
             "#fdca26"
            ],
            [
             1,
             "#f0f921"
            ]
           ]
          },
          "colorway": [
           "#636efa",
           "#EF553B",
           "#00cc96",
           "#ab63fa",
           "#FFA15A",
           "#19d3f3",
           "#FF6692",
           "#B6E880",
           "#FF97FF",
           "#FECB52"
          ],
          "font": {
           "color": "#2a3f5f"
          },
          "geo": {
           "bgcolor": "white",
           "lakecolor": "white",
           "landcolor": "#E5ECF6",
           "showlakes": true,
           "showland": true,
           "subunitcolor": "white"
          },
          "hoverlabel": {
           "align": "left"
          },
          "hovermode": "closest",
          "mapbox": {
           "style": "light"
          },
          "paper_bgcolor": "white",
          "plot_bgcolor": "#E5ECF6",
          "polar": {
           "angularaxis": {
            "gridcolor": "white",
            "linecolor": "white",
            "ticks": ""
           },
           "bgcolor": "#E5ECF6",
           "radialaxis": {
            "gridcolor": "white",
            "linecolor": "white",
            "ticks": ""
           }
          },
          "scene": {
           "xaxis": {
            "backgroundcolor": "#E5ECF6",
            "gridcolor": "white",
            "gridwidth": 2,
            "linecolor": "white",
            "showbackground": true,
            "ticks": "",
            "zerolinecolor": "white"
           },
           "yaxis": {
            "backgroundcolor": "#E5ECF6",
            "gridcolor": "white",
            "gridwidth": 2,
            "linecolor": "white",
            "showbackground": true,
            "ticks": "",
            "zerolinecolor": "white"
           },
           "zaxis": {
            "backgroundcolor": "#E5ECF6",
            "gridcolor": "white",
            "gridwidth": 2,
            "linecolor": "white",
            "showbackground": true,
            "ticks": "",
            "zerolinecolor": "white"
           }
          },
          "shapedefaults": {
           "line": {
            "color": "#2a3f5f"
           }
          },
          "ternary": {
           "aaxis": {
            "gridcolor": "white",
            "linecolor": "white",
            "ticks": ""
           },
           "baxis": {
            "gridcolor": "white",
            "linecolor": "white",
            "ticks": ""
           },
           "bgcolor": "#E5ECF6",
           "caxis": {
            "gridcolor": "white",
            "linecolor": "white",
            "ticks": ""
           }
          },
          "title": {
           "x": 0.05
          },
          "xaxis": {
           "automargin": true,
           "gridcolor": "white",
           "linecolor": "white",
           "ticks": "",
           "title": {
            "standoff": 15
           },
           "zerolinecolor": "white",
           "zerolinewidth": 2
          },
          "yaxis": {
           "automargin": true,
           "gridcolor": "white",
           "linecolor": "white",
           "ticks": "",
           "title": {
            "standoff": 15
           },
           "zerolinecolor": "white",
           "zerolinewidth": 2
          }
         }
        },
        "xaxis": {
         "anchor": "y",
         "domain": [
          0,
          1
         ],
         "title": {
          "text": "index"
         }
        },
        "yaxis": {
         "anchor": "x",
         "domain": [
          0,
          1
         ],
         "title": {
          "text": "cum_%"
         }
        }
       }
      }
     },
     "metadata": {},
     "output_type": "display_data"
    }
   ],
   "source": [
    "pexp.bar(summary.sort_values(by=\"cum_%\"), x=\"index\", y=\"cum_%\")"
   ]
  },
  {
   "cell_type": "code",
   "execution_count": 14,
   "id": "dd7022c9",
   "metadata": {},
   "outputs": [
    {
     "name": "stdout",
     "output_type": "stream",
     "text": [
      "\n",
      "===== LAST CVaR WEIGHTS (|w| ≥ 0.0000) =====\n",
      "company\n",
      "CVX      0.016653\n",
      "GOOGL    0.165433\n",
      "JNJ      0.201692\n",
      "MRK      0.190432\n",
      "PFE      0.072406\n",
      "XOM      0.353385\n",
      "\n",
      "===== LAST MVar WEIGHTS (|w| ≥ 0.0000) =====\n",
      "company\n",
      "COP      0.017186\n",
      "GOOGL    0.198778\n",
      "JNJ      0.166940\n",
      "MRK      0.155129\n",
      "PFE      0.143891\n",
      "XOM      0.318076\n"
     ]
    },
    {
     "data": {
      "application/vnd.plotly.v1+json": {
       "config": {
        "plotlyServerURL": "https://plot.ly"
       },
       "data": [
        {
         "mode": "lines",
         "name": "CVaR_95",
         "type": "scatter",
         "x": [
          "2015-02-28T23:59:59.999999999",
          "2015-03-31T23:59:59.999999999",
          "2015-04-30T23:59:59.999999999",
          "2015-05-31T23:59:59.999999999",
          "2015-06-30T23:59:59.999999999",
          "2015-07-31T23:59:59.999999999",
          "2015-08-31T23:59:59.999999999",
          "2015-09-30T23:59:59.999999999",
          "2015-10-31T23:59:59.999999999",
          "2015-11-30T23:59:59.999999999",
          "2015-12-31T23:59:59.999999999",
          "2016-01-31T23:59:59.999999999",
          "2016-02-29T23:59:59.999999999",
          "2016-03-31T23:59:59.999999999",
          "2016-04-30T23:59:59.999999999",
          "2016-05-31T23:59:59.999999999",
          "2016-06-30T23:59:59.999999999",
          "2016-07-31T23:59:59.999999999",
          "2016-08-31T23:59:59.999999999",
          "2016-09-30T23:59:59.999999999",
          "2016-10-31T23:59:59.999999999",
          "2016-11-30T23:59:59.999999999",
          "2016-12-31T23:59:59.999999999",
          "2017-01-31T23:59:59.999999999",
          "2017-02-28T23:59:59.999999999",
          "2017-03-31T23:59:59.999999999",
          "2017-04-30T23:59:59.999999999",
          "2017-05-31T23:59:59.999999999",
          "2017-06-30T23:59:59.999999999",
          "2017-07-31T23:59:59.999999999",
          "2017-08-31T23:59:59.999999999",
          "2017-09-30T23:59:59.999999999",
          "2017-10-31T23:59:59.999999999",
          "2017-11-30T23:59:59.999999999",
          "2017-12-31T23:59:59.999999999",
          "2018-01-31T23:59:59.999999999",
          "2018-02-28T23:59:59.999999999",
          "2018-03-31T23:59:59.999999999",
          "2018-04-30T23:59:59.999999999",
          "2018-05-31T23:59:59.999999999",
          "2018-06-30T23:59:59.999999999",
          "2018-07-31T23:59:59.999999999",
          "2018-08-31T23:59:59.999999999",
          "2018-09-30T23:59:59.999999999",
          "2018-10-31T23:59:59.999999999",
          "2018-11-30T23:59:59.999999999",
          "2018-12-31T23:59:59.999999999",
          "2019-01-31T23:59:59.999999999",
          "2019-02-28T23:59:59.999999999",
          "2019-03-31T23:59:59.999999999",
          "2019-04-30T23:59:59.999999999",
          "2019-05-31T23:59:59.999999999",
          "2019-06-30T23:59:59.999999999",
          "2019-07-31T23:59:59.999999999",
          "2019-08-31T23:59:59.999999999",
          "2019-09-30T23:59:59.999999999",
          "2019-10-31T23:59:59.999999999",
          "2019-11-30T23:59:59.999999999",
          "2019-12-31T23:59:59.999999999"
         ],
         "y": {
          "bdata": "kLbJIM/Lj0CikLXl02WPQIazkxKV2o5AeZza1RUKjkDEydPSyx6NQC1EV/LLmI1AGzWWgcy5i0AzvfQe4y2KQPkPZUk+So1ARUUYFGRmjkDv7C9hWDuPQNeuM0cjUY9A7pYCF7u2j0CFLW1bm5mQQPa874YGTpFAjRcIjYyPkkDAMiXn8amUQAWO/s2EO5hAOfG2I8PFm0CzNq1+se+fQKCidXBv1aFA1Y8ZwfIrpECy0Z4rAxGnQETcKi/b56ZAogkciQhlp0D5v+BqUmSnQN/GBiIg2KdAlA4FyZ/qqEAE0c+KUmWpQIOrhWJTG6pA8suwBffEqkB5OwQrjRasQFLaFORypK1AT+hXFwwRr0DzHlJMVWuwQIeH6SkcQbBAHz+at2MYr0D47kYLMp6sQO64oaJb/6pApuOuVBmJqkCzWabFrDSsQLeNYHVFoa9AyxREQ9mrsECPl73WeCKyQIEXAPKH1bJAMV9SqC7ms0BsKR+5+wizQHJdHjxgrLJAmRNDWSZQtED0BprYbhS3QChi6ER/+rhAIyABZeMUuECmXwdbP3O4QP275DPBsrlAZnX18m+wuUBq7MCTRR26QAiek1b81LpA1ig1tkQ8vEBUvQe6o3C9QA==",
          "dtype": "f8"
         }
        },
        {
         "mode": "lines",
         "name": "CVaR_90",
         "type": "scatter",
         "x": [
          "2015-02-28T23:59:59.999999999",
          "2015-03-31T23:59:59.999999999",
          "2015-04-30T23:59:59.999999999",
          "2015-05-31T23:59:59.999999999",
          "2015-06-30T23:59:59.999999999",
          "2015-07-31T23:59:59.999999999",
          "2015-08-31T23:59:59.999999999",
          "2015-09-30T23:59:59.999999999",
          "2015-10-31T23:59:59.999999999",
          "2015-11-30T23:59:59.999999999",
          "2015-12-31T23:59:59.999999999",
          "2016-01-31T23:59:59.999999999",
          "2016-02-29T23:59:59.999999999",
          "2016-03-31T23:59:59.999999999",
          "2016-04-30T23:59:59.999999999",
          "2016-05-31T23:59:59.999999999",
          "2016-06-30T23:59:59.999999999",
          "2016-07-31T23:59:59.999999999",
          "2016-08-31T23:59:59.999999999",
          "2016-09-30T23:59:59.999999999",
          "2016-10-31T23:59:59.999999999",
          "2016-11-30T23:59:59.999999999",
          "2016-12-31T23:59:59.999999999",
          "2017-01-31T23:59:59.999999999",
          "2017-02-28T23:59:59.999999999",
          "2017-03-31T23:59:59.999999999",
          "2017-04-30T23:59:59.999999999",
          "2017-05-31T23:59:59.999999999",
          "2017-06-30T23:59:59.999999999",
          "2017-07-31T23:59:59.999999999",
          "2017-08-31T23:59:59.999999999",
          "2017-09-30T23:59:59.999999999",
          "2017-10-31T23:59:59.999999999",
          "2017-11-30T23:59:59.999999999",
          "2017-12-31T23:59:59.999999999",
          "2018-01-31T23:59:59.999999999",
          "2018-02-28T23:59:59.999999999",
          "2018-03-31T23:59:59.999999999",
          "2018-04-30T23:59:59.999999999",
          "2018-05-31T23:59:59.999999999",
          "2018-06-30T23:59:59.999999999",
          "2018-07-31T23:59:59.999999999",
          "2018-08-31T23:59:59.999999999",
          "2018-09-30T23:59:59.999999999",
          "2018-10-31T23:59:59.999999999",
          "2018-11-30T23:59:59.999999999",
          "2018-12-31T23:59:59.999999999",
          "2019-01-31T23:59:59.999999999",
          "2019-02-28T23:59:59.999999999",
          "2019-03-31T23:59:59.999999999",
          "2019-04-30T23:59:59.999999999",
          "2019-05-31T23:59:59.999999999",
          "2019-06-30T23:59:59.999999999",
          "2019-07-31T23:59:59.999999999",
          "2019-08-31T23:59:59.999999999",
          "2019-09-30T23:59:59.999999999",
          "2019-10-31T23:59:59.999999999",
          "2019-11-30T23:59:59.999999999",
          "2019-12-31T23:59:59.999999999"
         ],
         "y": {
          "bdata": "InO9IM/Lj0DinqOKlKWPQEr/SdwG/o9A4/g1UZvrj0ADjCcaqfiOQMyEoAVBqY5AgS5JZHRUjECaRArk6b6KQNQ22rvM3o1AIZyfTb0ljkA3fYluKI2OQPUfQMmOn45AWkBQwO7fjkBx/6+v4FWQQE2NEMcsSZFAd8GvrJh5kkBmlNMUStOUQNCkxYsjP5hAaak6Dka5m0BxtOrK7AGgQHexN9QMNqJANr9Y/hCNpEC5Zwaa1pinQDKZixoFg6dAV6jrSdZCqEAJhAN/9EyoQKqoNYEJ1KhA6ugcXTUXqkDlFazBYKmqQEVqhSWgX6tABeKi0kQKrECNYu6K5yutQOT7kAXJSK5AsG9OM1ZDr0CTf27aUVGwQGhglIgxKLBAgagCv9TMrkB/5FzNLlysQDqrlK7Uy6pAXAQMKGsnqkB7BEnbd6mrQIPb9ao/265A7EVBptsOsEBitR72jTexQBieL4JOtbFAyhf2UyqWskCTI3VzJ52xQJItf7YFPrFANUCVkcTiskDsLqWY/KK1QH3GiabHqLdA+fSFdsritkBDuH3KvGm3QEritNFizrhAhSgsuhIauUALmx5+T7a5QIVn+PY3qbpAqB21ifVBvECpeWtyaZO9QA==",
          "dtype": "f8"
         }
        },
        {
         "mode": "lines",
         "name": "CVaR_80",
         "type": "scatter",
         "x": [
          "2015-02-28T23:59:59.999999999",
          "2015-03-31T23:59:59.999999999",
          "2015-04-30T23:59:59.999999999",
          "2015-05-31T23:59:59.999999999",
          "2015-06-30T23:59:59.999999999",
          "2015-07-31T23:59:59.999999999",
          "2015-08-31T23:59:59.999999999",
          "2015-09-30T23:59:59.999999999",
          "2015-10-31T23:59:59.999999999",
          "2015-11-30T23:59:59.999999999",
          "2015-12-31T23:59:59.999999999",
          "2016-01-31T23:59:59.999999999",
          "2016-02-29T23:59:59.999999999",
          "2016-03-31T23:59:59.999999999",
          "2016-04-30T23:59:59.999999999",
          "2016-05-31T23:59:59.999999999",
          "2016-06-30T23:59:59.999999999",
          "2016-07-31T23:59:59.999999999",
          "2016-08-31T23:59:59.999999999",
          "2016-09-30T23:59:59.999999999",
          "2016-10-31T23:59:59.999999999",
          "2016-11-30T23:59:59.999999999",
          "2016-12-31T23:59:59.999999999",
          "2017-01-31T23:59:59.999999999",
          "2017-02-28T23:59:59.999999999",
          "2017-03-31T23:59:59.999999999",
          "2017-04-30T23:59:59.999999999",
          "2017-05-31T23:59:59.999999999",
          "2017-06-30T23:59:59.999999999",
          "2017-07-31T23:59:59.999999999",
          "2017-08-31T23:59:59.999999999",
          "2017-09-30T23:59:59.999999999",
          "2017-10-31T23:59:59.999999999",
          "2017-11-30T23:59:59.999999999",
          "2017-12-31T23:59:59.999999999",
          "2018-01-31T23:59:59.999999999",
          "2018-02-28T23:59:59.999999999",
          "2018-03-31T23:59:59.999999999",
          "2018-04-30T23:59:59.999999999",
          "2018-05-31T23:59:59.999999999",
          "2018-06-30T23:59:59.999999999",
          "2018-07-31T23:59:59.999999999",
          "2018-08-31T23:59:59.999999999",
          "2018-09-30T23:59:59.999999999",
          "2018-10-31T23:59:59.999999999",
          "2018-11-30T23:59:59.999999999",
          "2018-12-31T23:59:59.999999999",
          "2019-01-31T23:59:59.999999999",
          "2019-02-28T23:59:59.999999999",
          "2019-03-31T23:59:59.999999999",
          "2019-04-30T23:59:59.999999999",
          "2019-05-31T23:59:59.999999999",
          "2019-06-30T23:59:59.999999999",
          "2019-07-31T23:59:59.999999999",
          "2019-08-31T23:59:59.999999999",
          "2019-09-30T23:59:59.999999999",
          "2019-10-31T23:59:59.999999999",
          "2019-11-30T23:59:59.999999999",
          "2019-12-31T23:59:59.999999999"
         ],
         "y": {
          "bdata": "UjHrvKeLj0CYsszJGVWPQCKW7FtufY9AdlvjAqjRj0BdLiZSETCPQGNzb35/uY5AssF3UnBJjEBihcxudmWLQD+q0zE5nI5AqGd2EFjfjkAiMRRlPiePQP8Oux+8Ro9Aq3RZNX7Jj0DBzz07NcOQQPLn1vo1zpFAGXO9nhIxk0AoIiiJWMSVQCq8ie28zZlASiIZL47nnUDat/Z9oEihQAXinU09pqNASlriZGg9pkA6iGnhQrWpQJo3ClTvmalAiBNLnmWbqkArAHIUqYCrQACwHmu2b6xAAVnzKryDrUCMSkKLsnCuQIEm7aFUia9AQ35FVFYvsEBHEiL9B+ywQLQ6UzNiu7FAh7HdzpOQskDw+e2Lnp+zQOwjbGV0c7NAGGAAO1WGskAba1xYphGxQNQ41zCWILBAWDzKEHMor0B9GKBE/UqwQNqvK64PHLJA8zFujeb0skBEFa5pq1i0QAQtmYvdIbVAd2jBAx6AtkC33xuluHa1QLy0DE89CrVAeysBNznstkBycQooihe6QFZjx5SGd7xAA8LGesiku0DNQuVVd2q8QCESrEjf9b1AiB2O+v5AvkA3p6ZjtfW+QFzhXAirAMBAsfWjXKXmwEDbugZuqbbBQA==",
          "dtype": "f8"
         }
        },
        {
         "mode": "lines",
         "name": "MVar",
         "type": "scatter",
         "x": [
          "2015-02-28T23:59:59.999999999",
          "2015-03-31T23:59:59.999999999",
          "2015-04-30T23:59:59.999999999",
          "2015-05-31T23:59:59.999999999",
          "2015-06-30T23:59:59.999999999",
          "2015-07-31T23:59:59.999999999",
          "2015-08-31T23:59:59.999999999",
          "2015-09-30T23:59:59.999999999",
          "2015-10-31T23:59:59.999999999",
          "2015-11-30T23:59:59.999999999",
          "2015-12-31T23:59:59.999999999",
          "2016-01-31T23:59:59.999999999",
          "2016-02-29T23:59:59.999999999",
          "2016-03-31T23:59:59.999999999",
          "2016-04-30T23:59:59.999999999",
          "2016-05-31T23:59:59.999999999",
          "2016-06-30T23:59:59.999999999",
          "2016-07-31T23:59:59.999999999",
          "2016-08-31T23:59:59.999999999",
          "2016-09-30T23:59:59.999999999",
          "2016-10-31T23:59:59.999999999",
          "2016-11-30T23:59:59.999999999",
          "2016-12-31T23:59:59.999999999",
          "2017-01-31T23:59:59.999999999",
          "2017-02-28T23:59:59.999999999",
          "2017-03-31T23:59:59.999999999",
          "2017-04-30T23:59:59.999999999",
          "2017-05-31T23:59:59.999999999",
          "2017-06-30T23:59:59.999999999",
          "2017-07-31T23:59:59.999999999",
          "2017-08-31T23:59:59.999999999",
          "2017-09-30T23:59:59.999999999",
          "2017-10-31T23:59:59.999999999",
          "2017-11-30T23:59:59.999999999",
          "2017-12-31T23:59:59.999999999",
          "2018-01-31T23:59:59.999999999",
          "2018-02-28T23:59:59.999999999",
          "2018-03-31T23:59:59.999999999",
          "2018-04-30T23:59:59.999999999",
          "2018-05-31T23:59:59.999999999",
          "2018-06-30T23:59:59.999999999",
          "2018-07-31T23:59:59.999999999",
          "2018-08-31T23:59:59.999999999",
          "2018-09-30T23:59:59.999999999",
          "2018-10-31T23:59:59.999999999",
          "2018-11-30T23:59:59.999999999",
          "2018-12-31T23:59:59.999999999",
          "2019-01-31T23:59:59.999999999",
          "2019-02-28T23:59:59.999999999",
          "2019-03-31T23:59:59.999999999",
          "2019-04-30T23:59:59.999999999",
          "2019-05-31T23:59:59.999999999",
          "2019-06-30T23:59:59.999999999",
          "2019-07-31T23:59:59.999999999",
          "2019-08-31T23:59:59.999999999",
          "2019-09-30T23:59:59.999999999",
          "2019-10-31T23:59:59.999999999",
          "2019-11-30T23:59:59.999999999",
          "2019-12-31T23:59:59.999999999"
         ],
         "y": {
          "bdata": "ypC/8YFzj0D0AWZ8XhiQQJALKurHH5BAWlceOxQ2kEA3hOEGj6KPQPY44684bo9ANr9ZluXMjEB8VsFRk5KLQB8LoRxfwI5AYL1rh564jkAdhdDqzLKOQOsYMvZP0Y5A0ht2vvLxjkDydCVgjwuQQGAQPdhZ3JBAqPTVBDU5kkC3WiMISYyUQPAVvM8pP5hA7rSkwE/Em0BIFDj0dCGgQMrFq3nkK6JAf0Nhlj5PpECsKyqsQA6nQMKiQ6JU9aZA2RyWzEOOp0DLH7p63NunQHw+QAm7g6hACkHb5TWXqUCaCXmzxyiqQKL4rLh0AatAq+5/xhfyq0AAVcip2YGtQAFCPqXMV69AvIzKEyyxsECJffkKQeKxQCdkO69jvLFAIChotFkEsUAf5W+L/mmvQLpi96b4rK1AGNYSxYXzrEDVcEV8EIGuQHFrBtoA/7BAwMz4vSDbsUBf2LEiKV2zQIc8otkZH7RAZk29XBNJtUCXChjuKUq0QLMFp83j67NAdTdMpzygtUC75o+p/n64QIcBRZktc7pAtcTV/LyauUAnMI1PXh66QC7riaF4O7tA5iuCUnAFu0C4udkMNkG7QKio9aJx8btAQQjh2UVJvUAXvFoW2Iq+QA==",
          "dtype": "f8"
         }
        },
        {
         "mode": "lines",
         "name": "TOP3",
         "type": "scatter",
         "x": [
          "2015-01-31T00:00:00.000000000",
          "2015-02-28T00:00:00.000000000",
          "2015-03-31T00:00:00.000000000",
          "2015-04-30T00:00:00.000000000",
          "2015-05-31T00:00:00.000000000",
          "2015-06-30T00:00:00.000000000",
          "2015-07-31T00:00:00.000000000",
          "2015-08-31T00:00:00.000000000",
          "2015-09-30T00:00:00.000000000",
          "2015-10-31T00:00:00.000000000",
          "2015-11-30T00:00:00.000000000",
          "2015-12-31T00:00:00.000000000",
          "2016-01-31T00:00:00.000000000",
          "2016-02-29T00:00:00.000000000",
          "2016-03-31T00:00:00.000000000",
          "2016-04-30T00:00:00.000000000",
          "2016-05-31T00:00:00.000000000",
          "2016-06-30T00:00:00.000000000",
          "2016-07-31T00:00:00.000000000",
          "2016-08-31T00:00:00.000000000",
          "2016-09-30T00:00:00.000000000",
          "2016-10-31T00:00:00.000000000",
          "2016-11-30T00:00:00.000000000",
          "2016-12-31T00:00:00.000000000",
          "2017-01-31T00:00:00.000000000",
          "2017-02-28T00:00:00.000000000",
          "2017-03-31T00:00:00.000000000",
          "2017-04-30T00:00:00.000000000",
          "2017-05-31T00:00:00.000000000",
          "2017-06-30T00:00:00.000000000",
          "2017-07-31T00:00:00.000000000",
          "2017-08-31T00:00:00.000000000",
          "2017-09-30T00:00:00.000000000",
          "2017-10-31T00:00:00.000000000",
          "2017-11-30T00:00:00.000000000",
          "2017-12-31T00:00:00.000000000",
          "2018-01-31T00:00:00.000000000",
          "2018-02-28T00:00:00.000000000",
          "2018-03-31T00:00:00.000000000",
          "2018-04-30T00:00:00.000000000",
          "2018-05-31T00:00:00.000000000",
          "2018-06-30T00:00:00.000000000",
          "2018-07-31T00:00:00.000000000",
          "2018-08-31T00:00:00.000000000",
          "2018-09-30T00:00:00.000000000",
          "2018-10-31T00:00:00.000000000",
          "2018-11-30T00:00:00.000000000",
          "2018-12-31T00:00:00.000000000",
          "2019-01-31T00:00:00.000000000",
          "2019-02-28T00:00:00.000000000",
          "2019-03-31T00:00:00.000000000",
          "2019-04-30T00:00:00.000000000",
          "2019-05-31T00:00:00.000000000",
          "2019-06-30T00:00:00.000000000",
          "2019-07-31T00:00:00.000000000",
          "2019-08-31T00:00:00.000000000",
          "2019-09-30T00:00:00.000000000",
          "2019-10-31T00:00:00.000000000",
          "2019-11-30T00:00:00.000000000",
          "2019-12-31T00:00:00.000000000"
         ],
         "y": {
          "bdata": "AAAAAABAj0AAAAAAAECPQF5vwsgKT45A5tDDjHqJjkCQJmjfVMqMQBrbQFSYeItA1iC/tdVIjUDCAMIPTm+LQC1OQbL1+IpAe0uUZ9VtjkBIxlFiMiiPQCcXYQ5qKo5A2sI+jH8MjkAiKXs8NKeNQARCDL0rno9AsU+j4sNtkEAwPQJFOj2QQF6YGuxZzo9ABu37PcFej0CqM9+Neq6PQKsMwhEYK5BAVIUAk1ZJkECLZFi8OXGQQB1yktXdHJFA2Xm1mVr7kECmvvKsywGSQARoE973bZJAMVB+hT5ukkAMl3Nr8luTQFTspgrDg5JA6+yGdSa+kkDUgZnaBHmTQF+6v80JZpNAcMWqoWaPk0ADcezo9L2TQIMaIi5J+pNA0b4bjcXQlEBZR/TBLbyTQIar1puLB5NAnqIKRkDSlEDcWW9D9Q2VQMvTt7iMKJVA1OoF6imhlkAqi/yZDxWXQEbnTT8HbJdA1K3MMub+lUB5ndvMf3eXQE96aTtBE5ZA40QAFdRPlkByE9ysE+uWQMLziUg2q5dAQHVj/RgcmUA8I+Q8GvSWQMZdTJQDcphAKsq9nAwfmUCKKOxEbdyYQKYfFX4yx5hA96Ke2D8UmUC+m343CTOaQN70usYUK5xA",
          "dtype": "f8"
         }
        },
        {
         "mode": "lines",
         "name": "MSFT",
         "type": "scatter",
         "x": [
          "2015-02-28T23:59:59.999999999",
          "2015-03-31T23:59:59.999999999",
          "2015-04-30T23:59:59.999999999",
          "2015-05-31T23:59:59.999999999",
          "2015-06-30T23:59:59.999999999",
          "2015-07-31T23:59:59.999999999",
          "2015-08-31T23:59:59.999999999",
          "2015-09-30T23:59:59.999999999",
          "2015-10-31T23:59:59.999999999",
          "2015-11-30T23:59:59.999999999",
          "2015-12-31T23:59:59.999999999",
          "2016-01-31T23:59:59.999999999",
          "2016-02-29T23:59:59.999999999",
          "2016-03-31T23:59:59.999999999",
          "2016-04-30T23:59:59.999999999",
          "2016-05-31T23:59:59.999999999",
          "2016-06-30T23:59:59.999999999",
          "2016-07-31T23:59:59.999999999",
          "2016-08-31T23:59:59.999999999",
          "2016-09-30T23:59:59.999999999",
          "2016-10-31T23:59:59.999999999",
          "2016-11-30T23:59:59.999999999",
          "2016-12-31T23:59:59.999999999",
          "2017-01-31T23:59:59.999999999",
          "2017-02-28T23:59:59.999999999",
          "2017-03-31T23:59:59.999999999",
          "2017-04-30T23:59:59.999999999",
          "2017-05-31T23:59:59.999999999",
          "2017-06-30T23:59:59.999999999",
          "2017-07-31T23:59:59.999999999",
          "2017-08-31T23:59:59.999999999",
          "2017-09-30T23:59:59.999999999",
          "2017-10-31T23:59:59.999999999",
          "2017-11-30T23:59:59.999999999",
          "2017-12-31T23:59:59.999999999",
          "2018-01-31T23:59:59.999999999",
          "2018-02-28T23:59:59.999999999",
          "2018-03-31T23:59:59.999999999",
          "2018-04-30T23:59:59.999999999",
          "2018-05-31T23:59:59.999999999",
          "2018-06-30T23:59:59.999999999",
          "2018-07-31T23:59:59.999999999",
          "2018-08-31T23:59:59.999999999",
          "2018-09-30T23:59:59.999999999",
          "2018-10-31T23:59:59.999999999",
          "2018-11-30T23:59:59.999999999",
          "2018-12-31T23:59:59.999999999",
          "2019-01-31T23:59:59.999999999",
          "2019-02-28T23:59:59.999999999",
          "2019-03-31T23:59:59.999999999",
          "2019-04-30T23:59:59.999999999",
          "2019-05-31T23:59:59.999999999",
          "2019-06-30T23:59:59.999999999",
          "2019-07-31T23:59:59.999999999",
          "2019-08-31T23:59:59.999999999",
          "2019-09-30T23:59:59.999999999",
          "2019-10-31T23:59:59.999999999",
          "2019-11-30T23:59:59.999999999",
          "2019-12-31T23:59:59.999999999"
         ],
         "y": {
          "bdata": "AAAAAABAj0DaSS8WBPqMQIV9WrLxVJFAZuoxiZKykEDqzApnu3aPQFtNcyn6o5BAMbgNdcsDj0Da5LDqzIqPQKHT9wvTwZJACwI9i89dk0ArN2+v48STQGCYDkZQoZNAJBTH7kYhkkDKYdWZFa6TQMzUYxIlxZFA+7Rk46nikkDJkFAcuzuSQAHRhH1aMpRAmA5GUIF5lEAC2AykRoaUQCe9WBDoWZVA38rN2+t4lUAlgM1AaiSWQMi/y55gCZdAKI7djULMlkBuQ93ywHeXQGe7tgbtZJhA6cWCQM/imEC4qPafzI+YQBT98e+y55lA2AykRoakmkAEehaf+4qaQH4rN2+vo51ANZeiP/79nUDmt3Lz9nqeQHxTKsto7aBA8LInWNq0oEAHiCbs00KgQD/IWk1zqaBAHLsbhRicoUA8ukoAm5GhQD5cVPtP5qJAhEdXCWADpECtcLZra2CkQIAyv5WbB6NA0YR9WrLBo0Dl5u11nBiiQHuCpU0Om6JASZSUL7H1o0C0+NxXPwOlQMYdwqOrRKdAsBlIjQwJpkC+jhOR692nQGiMO4RHR6hAuKj2n8yPqEDqlge+KcWoQNTIkFAci6lA2RMsbXL4qkB6sSDQsxisQA==",
          "dtype": "f8"
         }
        },
        {
         "mode": "lines",
         "name": "MRK",
         "type": "scatter",
         "x": [
          "2015-02-28T23:59:59.999999999",
          "2015-03-31T23:59:59.999999999",
          "2015-04-30T23:59:59.999999999",
          "2015-05-31T23:59:59.999999999",
          "2015-06-30T23:59:59.999999999",
          "2015-07-31T23:59:59.999999999",
          "2015-08-31T23:59:59.999999999",
          "2015-09-30T23:59:59.999999999",
          "2015-10-31T23:59:59.999999999",
          "2015-11-30T23:59:59.999999999",
          "2015-12-31T23:59:59.999999999",
          "2016-01-31T23:59:59.999999999",
          "2016-02-29T23:59:59.999999999",
          "2016-03-31T23:59:59.999999999",
          "2016-04-30T23:59:59.999999999",
          "2016-05-31T23:59:59.999999999",
          "2016-06-30T23:59:59.999999999",
          "2016-07-31T23:59:59.999999999",
          "2016-08-31T23:59:59.999999999",
          "2016-09-30T23:59:59.999999999",
          "2016-10-31T23:59:59.999999999",
          "2016-11-30T23:59:59.999999999",
          "2016-12-31T23:59:59.999999999",
          "2017-01-31T23:59:59.999999999",
          "2017-02-28T23:59:59.999999999",
          "2017-03-31T23:59:59.999999999",
          "2017-04-30T23:59:59.999999999",
          "2017-05-31T23:59:59.999999999",
          "2017-06-30T23:59:59.999999999",
          "2017-07-31T23:59:59.999999999",
          "2017-08-31T23:59:59.999999999",
          "2017-09-30T23:59:59.999999999",
          "2017-10-31T23:59:59.999999999",
          "2017-11-30T23:59:59.999999999",
          "2017-12-31T23:59:59.999999999",
          "2018-01-31T23:59:59.999999999",
          "2018-02-28T23:59:59.999999999",
          "2018-03-31T23:59:59.999999999",
          "2018-04-30T23:59:59.999999999",
          "2018-05-31T23:59:59.999999999",
          "2018-06-30T23:59:59.999999999",
          "2018-07-31T23:59:59.999999999",
          "2018-08-31T23:59:59.999999999",
          "2018-09-30T23:59:59.999999999",
          "2018-10-31T23:59:59.999999999",
          "2018-11-30T23:59:59.999999999",
          "2018-12-31T23:59:59.999999999",
          "2019-01-31T23:59:59.999999999",
          "2019-02-28T23:59:59.999999999",
          "2019-03-31T23:59:59.999999999",
          "2019-04-30T23:59:59.999999999",
          "2019-05-31T23:59:59.999999999",
          "2019-06-30T23:59:59.999999999",
          "2019-07-31T23:59:59.999999999",
          "2019-08-31T23:59:59.999999999",
          "2019-09-30T23:59:59.999999999",
          "2019-10-31T23:59:59.999999999",
          "2019-11-30T23:59:59.999999999",
          "2019-12-31T23:59:59.999999999"
         ],
         "y": {
          "bdata": "AAAAAABAj0AZPm2/P6+OQB1piq0Ey49AErbpFIRAkECnpT5jSmOOQOJ3U75TeY9A6j0bkV6/jED3TSLm1VyKQBbre1+5LY1AJk50FLdMjECavs7+6jKMQDT4Ys8dDYtAiCcHfg7OikAtcN8kYj6MQHBkX5AWRo1APS97FwAJjkB2SIZ4csCOQCv0VtTDT49A6I6G8zfCkEBc/+Dda6iQQFp54zBdWI9A7vfnCUxVkEAcsICzbWyPQGtDt/7Bi5BA4E35TuWUkUAArtEe0PWQQJKm2EqwopBAriNNsZVgkUAf74daExuRQCcR82q+DJFA9fowhk8LkUCIrEGsxhaRQCt5kQJ8aI1AhPJ0M9mAjUA9L3sXAAmOQGbljcN0oY9Az0ak14fxjECKW9ZJ7RONQBywgLNtbI9AhiZE/7fGj0BM7hYKnjOQQOBN+U7llJFAZYgnB35OkkB3PhEcAu+SQJdMuwq9pZNAY/i0/f4slUDm3/FVEWWUQEauTOSh3ZNAtwg3GEiylUBayxESjTKWQHpe9i4AApVANHMooWUklUDBnLUcIWGWQK0OoHleJpZAY3N6z0YUl0Do/9ZoD3iWQCk7TdosIZdAF2ZBMQFFl0B29leXQkaYQA==",
          "dtype": "f8"
         }
        },
        {
         "mode": "lines",
         "name": "GOOGL",
         "type": "scatter",
         "x": [
          "2015-02-28T23:59:59.999999999",
          "2015-03-31T23:59:59.999999999",
          "2015-04-30T23:59:59.999999999",
          "2015-05-31T23:59:59.999999999",
          "2015-06-30T23:59:59.999999999",
          "2015-07-31T23:59:59.999999999",
          "2015-08-31T23:59:59.999999999",
          "2015-09-30T23:59:59.999999999",
          "2015-10-31T23:59:59.999999999",
          "2015-11-30T23:59:59.999999999",
          "2015-12-31T23:59:59.999999999",
          "2016-01-31T23:59:59.999999999",
          "2016-02-29T23:59:59.999999999",
          "2016-03-31T23:59:59.999999999",
          "2016-04-30T23:59:59.999999999",
          "2016-05-31T23:59:59.999999999",
          "2016-06-30T23:59:59.999999999",
          "2016-07-31T23:59:59.999999999",
          "2016-08-31T23:59:59.999999999",
          "2016-09-30T23:59:59.999999999",
          "2016-10-31T23:59:59.999999999",
          "2016-11-30T23:59:59.999999999",
          "2016-12-31T23:59:59.999999999",
          "2017-01-31T23:59:59.999999999",
          "2017-02-28T23:59:59.999999999",
          "2017-03-31T23:59:59.999999999",
          "2017-04-30T23:59:59.999999999",
          "2017-05-31T23:59:59.999999999",
          "2017-06-30T23:59:59.999999999",
          "2017-07-31T23:59:59.999999999",
          "2017-08-31T23:59:59.999999999",
          "2017-09-30T23:59:59.999999999",
          "2017-10-31T23:59:59.999999999",
          "2017-11-30T23:59:59.999999999",
          "2017-12-31T23:59:59.999999999",
          "2018-01-31T23:59:59.999999999",
          "2018-02-28T23:59:59.999999999",
          "2018-03-31T23:59:59.999999999",
          "2018-04-30T23:59:59.999999999",
          "2018-05-31T23:59:59.999999999",
          "2018-06-30T23:59:59.999999999",
          "2018-07-31T23:59:59.999999999",
          "2018-08-31T23:59:59.999999999",
          "2018-09-30T23:59:59.999999999",
          "2018-10-31T23:59:59.999999999",
          "2018-11-30T23:59:59.999999999",
          "2018-12-31T23:59:59.999999999",
          "2019-01-31T23:59:59.999999999",
          "2019-02-28T23:59:59.999999999",
          "2019-03-31T23:59:59.999999999",
          "2019-04-30T23:59:59.999999999",
          "2019-05-31T23:59:59.999999999",
          "2019-06-30T23:59:59.999999999",
          "2019-07-31T23:59:59.999999999",
          "2019-08-31T23:59:59.999999999",
          "2019-09-30T23:59:59.999999999",
          "2019-10-31T23:59:59.999999999",
          "2019-11-30T23:59:59.999999999",
          "2019-12-31T23:59:59.999999999"
         ],
         "y": {
          "bdata": "AAAAAABAj0ABWO0QPs6OQGjR/6nEe45Am+OX12tLjkDPS2uJov6NQHzFfntvQ5JAMFhDTML9kUBKYmgp7bqRQMXRqyDNepRAqm+ZMmQvlUDdKOsIdpuVQMTNRwdwJZVAE0Skry7rk0Bdq8k40DCVQC1OyYxZqJNAqxxpgdrLlEB6aNQKfYqTQMPIiqe7+pVAKesIdlvvlUDceWktUVSWQCg94OCNfZZAKpjYxNGLlUBD83vG1wGWQI5drCJ/x5ZAWkgJItJ3l0AmjKx4uouXQPAYBsHDrZlAU9vOS2tpm0Bw7btbUNGZQLxZnkSmQZpACMfZc1OHmkAhd1+zkQubQFF+JNt4sJxAhDkoPjnHnEC3R1xSg0GdQD872XGhaqBAzkcHcEWpnkAEZBldVc6cQOyzkx0XSpxAzp1C9NSMnkAAqsR7cFyfQH53CyqaCqFACyY2cfQaoUClsIfxysKgQOinZ9H/SZ5AZ89NHRbRnkBRfHJOygWdQBqzkBJERJ9A56FRK/RJn0BMFU4eb1egQKUGw3VapqBA6E96wMG7nkCcjw7gihKeQD44zp6b6qBA8iDO832IoED+9zfNRfWgQMrj7RLweqFA4z04zp4bokBV4eTxdpmiQA==",
          "dtype": "f8"
         }
        },
        {
         "mode": "lines",
         "name": "CVX",
         "type": "scatter",
         "x": [
          "2015-02-28T23:59:59.999999999",
          "2015-03-31T23:59:59.999999999",
          "2015-04-30T23:59:59.999999999",
          "2015-05-31T23:59:59.999999999",
          "2015-06-30T23:59:59.999999999",
          "2015-07-31T23:59:59.999999999",
          "2015-08-31T23:59:59.999999999",
          "2015-09-30T23:59:59.999999999",
          "2015-10-31T23:59:59.999999999",
          "2015-11-30T23:59:59.999999999",
          "2015-12-31T23:59:59.999999999",
          "2016-01-31T23:59:59.999999999",
          "2016-02-29T23:59:59.999999999",
          "2016-03-31T23:59:59.999999999",
          "2016-04-30T23:59:59.999999999",
          "2016-05-31T23:59:59.999999999",
          "2016-06-30T23:59:59.999999999",
          "2016-07-31T23:59:59.999999999",
          "2016-08-31T23:59:59.999999999",
          "2016-09-30T23:59:59.999999999",
          "2016-10-31T23:59:59.999999999",
          "2016-11-30T23:59:59.999999999",
          "2016-12-31T23:59:59.999999999",
          "2017-01-31T23:59:59.999999999",
          "2017-02-28T23:59:59.999999999",
          "2017-03-31T23:59:59.999999999",
          "2017-04-30T23:59:59.999999999",
          "2017-05-31T23:59:59.999999999",
          "2017-06-30T23:59:59.999999999",
          "2017-07-31T23:59:59.999999999",
          "2017-08-31T23:59:59.999999999",
          "2017-09-30T23:59:59.999999999",
          "2017-10-31T23:59:59.999999999",
          "2017-11-30T23:59:59.999999999",
          "2017-12-31T23:59:59.999999999",
          "2018-01-31T23:59:59.999999999",
          "2018-02-28T23:59:59.999999999",
          "2018-03-31T23:59:59.999999999",
          "2018-04-30T23:59:59.999999999",
          "2018-05-31T23:59:59.999999999",
          "2018-06-30T23:59:59.999999999",
          "2018-07-31T23:59:59.999999999",
          "2018-08-31T23:59:59.999999999",
          "2018-09-30T23:59:59.999999999",
          "2018-10-31T23:59:59.999999999",
          "2018-11-30T23:59:59.999999999",
          "2018-12-31T23:59:59.999999999",
          "2019-01-31T23:59:59.999999999",
          "2019-02-28T23:59:59.999999999",
          "2019-03-31T23:59:59.999999999",
          "2019-04-30T23:59:59.999999999",
          "2019-05-31T23:59:59.999999999",
          "2019-06-30T23:59:59.999999999",
          "2019-07-31T23:59:59.999999999",
          "2019-08-31T23:59:59.999999999",
          "2019-09-30T23:59:59.999999999",
          "2019-10-31T23:59:59.999999999",
          "2019-11-30T23:59:59.999999999",
          "2019-12-31T23:59:59.999999999"
         ],
         "y": {
          "bdata": "//////8/j0D4dVkUhMCOQPXVob46RJBA+pu11AgsjkCsbj2AWEKMQLqyrqwr64lA2pf2pX25h0AGay+2QhuHQKeETuoln4pA4CYB3CTAikCm63sfKFqKQFHZeH9wVIlAfBPfxDdxiECM2JARG/KLQGNWdMyK7o1AtRdboQ2WjUDZeH9wRLWOQKFQKBQKBY5AxR9fo452jUDZ8toFCSaOQLfPpKFEr45AfSYNJfpWkEDjQBTHMj2RQIEojmUaT5BAIshRBDl6kEDA8h1YvnOPQEiqtvN/QY9Aw5LVrQdQjkDH16ijxY+OQHp6DPo5/I9ASUOJvn2Gj0B57YIEszWRQJinCvNU+ZBAgTTXOpFtkUBTTnDKCVaSQHX3SpkJXJJACSN5tnlkkEAFZEor97OQQML5AuMJU5JAiQHQ26o0kkAX7Y5NiISSQPVDtH6IfpJAQuSi3bFZkUBCakdI7eiRQKAlaAlaWpBAp98ySrFrkUDTLMfvOt6PQNQI7G/WypBALYSdhbCDkUCeYdUzrAqSQJF/LfKvlZFALbumZdeskECGVc+w6jmSQKC3VUkMCJJAB5bvwPI9kUA/OKKy8V6RQNxPQKa0ApFAXEYpdtMnkUA/e/Rnj6aRQA==",
          "dtype": "f8"
         }
        }
       ],
       "layout": {
        "legend": {
         "title": {
          "text": "Series"
         }
        },
        "template": {
         "data": {
          "bar": [
           {
            "error_x": {
             "color": "#2a3f5f"
            },
            "error_y": {
             "color": "#2a3f5f"
            },
            "marker": {
             "line": {
              "color": "white",
              "width": 0.5
             },
             "pattern": {
              "fillmode": "overlay",
              "size": 10,
              "solidity": 0.2
             }
            },
            "type": "bar"
           }
          ],
          "barpolar": [
           {
            "marker": {
             "line": {
              "color": "white",
              "width": 0.5
             },
             "pattern": {
              "fillmode": "overlay",
              "size": 10,
              "solidity": 0.2
             }
            },
            "type": "barpolar"
           }
          ],
          "carpet": [
           {
            "aaxis": {
             "endlinecolor": "#2a3f5f",
             "gridcolor": "#C8D4E3",
             "linecolor": "#C8D4E3",
             "minorgridcolor": "#C8D4E3",
             "startlinecolor": "#2a3f5f"
            },
            "baxis": {
             "endlinecolor": "#2a3f5f",
             "gridcolor": "#C8D4E3",
             "linecolor": "#C8D4E3",
             "minorgridcolor": "#C8D4E3",
             "startlinecolor": "#2a3f5f"
            },
            "type": "carpet"
           }
          ],
          "choropleth": [
           {
            "colorbar": {
             "outlinewidth": 0,
             "ticks": ""
            },
            "type": "choropleth"
           }
          ],
          "contour": [
           {
            "colorbar": {
             "outlinewidth": 0,
             "ticks": ""
            },
            "colorscale": [
             [
              0,
              "#0d0887"
             ],
             [
              0.1111111111111111,
              "#46039f"
             ],
             [
              0.2222222222222222,
              "#7201a8"
             ],
             [
              0.3333333333333333,
              "#9c179e"
             ],
             [
              0.4444444444444444,
              "#bd3786"
             ],
             [
              0.5555555555555556,
              "#d8576b"
             ],
             [
              0.6666666666666666,
              "#ed7953"
             ],
             [
              0.7777777777777778,
              "#fb9f3a"
             ],
             [
              0.8888888888888888,
              "#fdca26"
             ],
             [
              1,
              "#f0f921"
             ]
            ],
            "type": "contour"
           }
          ],
          "contourcarpet": [
           {
            "colorbar": {
             "outlinewidth": 0,
             "ticks": ""
            },
            "type": "contourcarpet"
           }
          ],
          "heatmap": [
           {
            "colorbar": {
             "outlinewidth": 0,
             "ticks": ""
            },
            "colorscale": [
             [
              0,
              "#0d0887"
             ],
             [
              0.1111111111111111,
              "#46039f"
             ],
             [
              0.2222222222222222,
              "#7201a8"
             ],
             [
              0.3333333333333333,
              "#9c179e"
             ],
             [
              0.4444444444444444,
              "#bd3786"
             ],
             [
              0.5555555555555556,
              "#d8576b"
             ],
             [
              0.6666666666666666,
              "#ed7953"
             ],
             [
              0.7777777777777778,
              "#fb9f3a"
             ],
             [
              0.8888888888888888,
              "#fdca26"
             ],
             [
              1,
              "#f0f921"
             ]
            ],
            "type": "heatmap"
           }
          ],
          "histogram": [
           {
            "marker": {
             "pattern": {
              "fillmode": "overlay",
              "size": 10,
              "solidity": 0.2
             }
            },
            "type": "histogram"
           }
          ],
          "histogram2d": [
           {
            "colorbar": {
             "outlinewidth": 0,
             "ticks": ""
            },
            "colorscale": [
             [
              0,
              "#0d0887"
             ],
             [
              0.1111111111111111,
              "#46039f"
             ],
             [
              0.2222222222222222,
              "#7201a8"
             ],
             [
              0.3333333333333333,
              "#9c179e"
             ],
             [
              0.4444444444444444,
              "#bd3786"
             ],
             [
              0.5555555555555556,
              "#d8576b"
             ],
             [
              0.6666666666666666,
              "#ed7953"
             ],
             [
              0.7777777777777778,
              "#fb9f3a"
             ],
             [
              0.8888888888888888,
              "#fdca26"
             ],
             [
              1,
              "#f0f921"
             ]
            ],
            "type": "histogram2d"
           }
          ],
          "histogram2dcontour": [
           {
            "colorbar": {
             "outlinewidth": 0,
             "ticks": ""
            },
            "colorscale": [
             [
              0,
              "#0d0887"
             ],
             [
              0.1111111111111111,
              "#46039f"
             ],
             [
              0.2222222222222222,
              "#7201a8"
             ],
             [
              0.3333333333333333,
              "#9c179e"
             ],
             [
              0.4444444444444444,
              "#bd3786"
             ],
             [
              0.5555555555555556,
              "#d8576b"
             ],
             [
              0.6666666666666666,
              "#ed7953"
             ],
             [
              0.7777777777777778,
              "#fb9f3a"
             ],
             [
              0.8888888888888888,
              "#fdca26"
             ],
             [
              1,
              "#f0f921"
             ]
            ],
            "type": "histogram2dcontour"
           }
          ],
          "mesh3d": [
           {
            "colorbar": {
             "outlinewidth": 0,
             "ticks": ""
            },
            "type": "mesh3d"
           }
          ],
          "parcoords": [
           {
            "line": {
             "colorbar": {
              "outlinewidth": 0,
              "ticks": ""
             }
            },
            "type": "parcoords"
           }
          ],
          "pie": [
           {
            "automargin": true,
            "type": "pie"
           }
          ],
          "scatter": [
           {
            "fillpattern": {
             "fillmode": "overlay",
             "size": 10,
             "solidity": 0.2
            },
            "type": "scatter"
           }
          ],
          "scatter3d": [
           {
            "line": {
             "colorbar": {
              "outlinewidth": 0,
              "ticks": ""
             }
            },
            "marker": {
             "colorbar": {
              "outlinewidth": 0,
              "ticks": ""
             }
            },
            "type": "scatter3d"
           }
          ],
          "scattercarpet": [
           {
            "marker": {
             "colorbar": {
              "outlinewidth": 0,
              "ticks": ""
             }
            },
            "type": "scattercarpet"
           }
          ],
          "scattergeo": [
           {
            "marker": {
             "colorbar": {
              "outlinewidth": 0,
              "ticks": ""
             }
            },
            "type": "scattergeo"
           }
          ],
          "scattergl": [
           {
            "marker": {
             "colorbar": {
              "outlinewidth": 0,
              "ticks": ""
             }
            },
            "type": "scattergl"
           }
          ],
          "scattermap": [
           {
            "marker": {
             "colorbar": {
              "outlinewidth": 0,
              "ticks": ""
             }
            },
            "type": "scattermap"
           }
          ],
          "scattermapbox": [
           {
            "marker": {
             "colorbar": {
              "outlinewidth": 0,
              "ticks": ""
             }
            },
            "type": "scattermapbox"
           }
          ],
          "scatterpolar": [
           {
            "marker": {
             "colorbar": {
              "outlinewidth": 0,
              "ticks": ""
             }
            },
            "type": "scatterpolar"
           }
          ],
          "scatterpolargl": [
           {
            "marker": {
             "colorbar": {
              "outlinewidth": 0,
              "ticks": ""
             }
            },
            "type": "scatterpolargl"
           }
          ],
          "scatterternary": [
           {
            "marker": {
             "colorbar": {
              "outlinewidth": 0,
              "ticks": ""
             }
            },
            "type": "scatterternary"
           }
          ],
          "surface": [
           {
            "colorbar": {
             "outlinewidth": 0,
             "ticks": ""
            },
            "colorscale": [
             [
              0,
              "#0d0887"
             ],
             [
              0.1111111111111111,
              "#46039f"
             ],
             [
              0.2222222222222222,
              "#7201a8"
             ],
             [
              0.3333333333333333,
              "#9c179e"
             ],
             [
              0.4444444444444444,
              "#bd3786"
             ],
             [
              0.5555555555555556,
              "#d8576b"
             ],
             [
              0.6666666666666666,
              "#ed7953"
             ],
             [
              0.7777777777777778,
              "#fb9f3a"
             ],
             [
              0.8888888888888888,
              "#fdca26"
             ],
             [
              1,
              "#f0f921"
             ]
            ],
            "type": "surface"
           }
          ],
          "table": [
           {
            "cells": {
             "fill": {
              "color": "#EBF0F8"
             },
             "line": {
              "color": "white"
             }
            },
            "header": {
             "fill": {
              "color": "#C8D4E3"
             },
             "line": {
              "color": "white"
             }
            },
            "type": "table"
           }
          ]
         },
         "layout": {
          "annotationdefaults": {
           "arrowcolor": "#2a3f5f",
           "arrowhead": 0,
           "arrowwidth": 1
          },
          "autotypenumbers": "strict",
          "coloraxis": {
           "colorbar": {
            "outlinewidth": 0,
            "ticks": ""
           }
          },
          "colorscale": {
           "diverging": [
            [
             0,
             "#8e0152"
            ],
            [
             0.1,
             "#c51b7d"
            ],
            [
             0.2,
             "#de77ae"
            ],
            [
             0.3,
             "#f1b6da"
            ],
            [
             0.4,
             "#fde0ef"
            ],
            [
             0.5,
             "#f7f7f7"
            ],
            [
             0.6,
             "#e6f5d0"
            ],
            [
             0.7,
             "#b8e186"
            ],
            [
             0.8,
             "#7fbc41"
            ],
            [
             0.9,
             "#4d9221"
            ],
            [
             1,
             "#276419"
            ]
           ],
           "sequential": [
            [
             0,
             "#0d0887"
            ],
            [
             0.1111111111111111,
             "#46039f"
            ],
            [
             0.2222222222222222,
             "#7201a8"
            ],
            [
             0.3333333333333333,
             "#9c179e"
            ],
            [
             0.4444444444444444,
             "#bd3786"
            ],
            [
             0.5555555555555556,
             "#d8576b"
            ],
            [
             0.6666666666666666,
             "#ed7953"
            ],
            [
             0.7777777777777778,
             "#fb9f3a"
            ],
            [
             0.8888888888888888,
             "#fdca26"
            ],
            [
             1,
             "#f0f921"
            ]
           ],
           "sequentialminus": [
            [
             0,
             "#0d0887"
            ],
            [
             0.1111111111111111,
             "#46039f"
            ],
            [
             0.2222222222222222,
             "#7201a8"
            ],
            [
             0.3333333333333333,
             "#9c179e"
            ],
            [
             0.4444444444444444,
             "#bd3786"
            ],
            [
             0.5555555555555556,
             "#d8576b"
            ],
            [
             0.6666666666666666,
             "#ed7953"
            ],
            [
             0.7777777777777778,
             "#fb9f3a"
            ],
            [
             0.8888888888888888,
             "#fdca26"
            ],
            [
             1,
             "#f0f921"
            ]
           ]
          },
          "colorway": [
           "#636efa",
           "#EF553B",
           "#00cc96",
           "#ab63fa",
           "#FFA15A",
           "#19d3f3",
           "#FF6692",
           "#B6E880",
           "#FF97FF",
           "#FECB52"
          ],
          "font": {
           "color": "#2a3f5f"
          },
          "geo": {
           "bgcolor": "white",
           "lakecolor": "white",
           "landcolor": "white",
           "showlakes": true,
           "showland": true,
           "subunitcolor": "#C8D4E3"
          },
          "hoverlabel": {
           "align": "left"
          },
          "hovermode": "closest",
          "mapbox": {
           "style": "light"
          },
          "paper_bgcolor": "white",
          "plot_bgcolor": "white",
          "polar": {
           "angularaxis": {
            "gridcolor": "#EBF0F8",
            "linecolor": "#EBF0F8",
            "ticks": ""
           },
           "bgcolor": "white",
           "radialaxis": {
            "gridcolor": "#EBF0F8",
            "linecolor": "#EBF0F8",
            "ticks": ""
           }
          },
          "scene": {
           "xaxis": {
            "backgroundcolor": "white",
            "gridcolor": "#DFE8F3",
            "gridwidth": 2,
            "linecolor": "#EBF0F8",
            "showbackground": true,
            "ticks": "",
            "zerolinecolor": "#EBF0F8"
           },
           "yaxis": {
            "backgroundcolor": "white",
            "gridcolor": "#DFE8F3",
            "gridwidth": 2,
            "linecolor": "#EBF0F8",
            "showbackground": true,
            "ticks": "",
            "zerolinecolor": "#EBF0F8"
           },
           "zaxis": {
            "backgroundcolor": "white",
            "gridcolor": "#DFE8F3",
            "gridwidth": 2,
            "linecolor": "#EBF0F8",
            "showbackground": true,
            "ticks": "",
            "zerolinecolor": "#EBF0F8"
           }
          },
          "shapedefaults": {
           "line": {
            "color": "#2a3f5f"
           }
          },
          "ternary": {
           "aaxis": {
            "gridcolor": "#DFE8F3",
            "linecolor": "#A2B1C6",
            "ticks": ""
           },
           "baxis": {
            "gridcolor": "#DFE8F3",
            "linecolor": "#A2B1C6",
            "ticks": ""
           },
           "bgcolor": "white",
           "caxis": {
            "gridcolor": "#DFE8F3",
            "linecolor": "#A2B1C6",
            "ticks": ""
           }
          },
          "title": {
           "x": 0.05
          },
          "xaxis": {
           "automargin": true,
           "gridcolor": "#EBF0F8",
           "linecolor": "#EBF0F8",
           "ticks": "",
           "title": {
            "standoff": 15
           },
           "zerolinecolor": "#EBF0F8",
           "zerolinewidth": 2
          },
          "yaxis": {
           "automargin": true,
           "gridcolor": "#EBF0F8",
           "linecolor": "#EBF0F8",
           "ticks": "",
           "title": {
            "standoff": 15
           },
           "zerolinecolor": "#EBF0F8",
           "zerolinewidth": 2
          }
         }
        },
        "title": {
         "text": "Equity curve — re‑balance = M"
        },
        "xaxis": {
         "title": {
          "text": "Date"
         }
        },
        "yaxis": {
         "title": {
          "text": "Portfolio value ($)"
         }
        }
       }
      }
     },
     "metadata": {},
     "output_type": "display_data"
    },
    {
     "data": {
      "application/vnd.plotly.v1+json": {
       "config": {
        "plotlyServerURL": "https://plot.ly"
       },
       "data": [
        {
         "mode": "lines",
         "name": "CVaR_95",
         "type": "scatter",
         "x": [
          "2015-03-31T23:59:59.999999999",
          "2015-04-30T23:59:59.999999999",
          "2015-05-31T23:59:59.999999999",
          "2015-06-30T23:59:59.999999999",
          "2015-07-31T23:59:59.999999999",
          "2015-08-31T23:59:59.999999999",
          "2015-09-30T23:59:59.999999999",
          "2015-10-31T23:59:59.999999999",
          "2015-11-30T23:59:59.999999999",
          "2015-12-31T23:59:59.999999999",
          "2016-01-31T23:59:59.999999999",
          "2016-02-29T23:59:59.999999999",
          "2016-03-31T23:59:59.999999999",
          "2016-04-30T23:59:59.999999999",
          "2016-05-31T23:59:59.999999999",
          "2016-06-30T23:59:59.999999999",
          "2016-07-31T23:59:59.999999999",
          "2016-08-31T23:59:59.999999999",
          "2016-09-30T23:59:59.999999999",
          "2016-10-31T23:59:59.999999999",
          "2016-11-30T23:59:59.999999999",
          "2016-12-31T23:59:59.999999999",
          "2017-01-31T23:59:59.999999999",
          "2017-02-28T23:59:59.999999999",
          "2017-03-31T23:59:59.999999999",
          "2017-04-30T23:59:59.999999999",
          "2017-05-31T23:59:59.999999999",
          "2017-06-30T23:59:59.999999999",
          "2017-07-31T23:59:59.999999999",
          "2017-08-31T23:59:59.999999999",
          "2017-09-30T23:59:59.999999999",
          "2017-10-31T23:59:59.999999999",
          "2017-11-30T23:59:59.999999999",
          "2017-12-31T23:59:59.999999999",
          "2018-01-31T23:59:59.999999999",
          "2018-02-28T23:59:59.999999999",
          "2018-03-31T23:59:59.999999999",
          "2018-04-30T23:59:59.999999999",
          "2018-05-31T23:59:59.999999999",
          "2018-06-30T23:59:59.999999999",
          "2018-07-31T23:59:59.999999999",
          "2018-08-31T23:59:59.999999999",
          "2018-09-30T23:59:59.999999999",
          "2018-10-31T23:59:59.999999999",
          "2018-11-30T23:59:59.999999999",
          "2018-12-31T23:59:59.999999999",
          "2019-01-31T23:59:59.999999999",
          "2019-02-28T23:59:59.999999999",
          "2019-03-31T23:59:59.999999999",
          "2019-04-30T23:59:59.999999999",
          "2019-05-31T23:59:59.999999999",
          "2019-06-30T23:59:59.999999999",
          "2019-07-31T23:59:59.999999999",
          "2019-08-31T23:59:59.999999999",
          "2019-09-30T23:59:59.999999999",
          "2019-10-31T23:59:59.999999999",
          "2019-11-30T23:59:59.999999999",
          "2019-12-31T23:59:59.999999999"
         ],
         "y": {
          "bdata": "AAAAAAAAAACVKcK9nsZrP5x4U8U5R3o/Tn1cxrdTaD8Dw54QggChPzcOPr4I0Kw//C33PxaMdT/TtUBaXpu/P5oD+CHJTK0/XYyT5biAfj847Oj6+9aRP5F35cXAznw/NB4+ox3CmD+biVX004ppPyoPEV2xz5U/OWairht+nT/zxdvhbIClP97Qm29lRZM/Mir2Ocg9Zj9KSEA2XfaXP3NhgbGDqIQ/YSBohfz4gT8dfvz9Pj27PxVtzNTvgJQ/GSD1RAwWjz+f35n0QC2MPxOKnF8Vj5I/70C9ww+ikj8LlcIqYF55P3JtfCXIQ14/ckni0klKkT+5OnN8KZhxP75TkAbwHHU/47K8fikKej+qIlQSUUmoPz7HDb0rNZg/fxBT84M0mj+uhEpSrq+QPw2dn/dJnJw/ccHT/oL7rD9uu96HBCqlP7mPW6tpWag/jmrcwFxamD/OXiJet9ChPwrChK9ICYo/wXI2DrsYsj/PMuYfJa6RP30nXSz2VbM/QaJjgBuFoT/2vt2VGIejP5/DS+REZLU/VkC8uIiKoj+gbZeT2eCZP0WYnUOnm6I/QtrBvdF5iD/RvJA6Bql/P6ez2B6Y+ZE/NK0nDgbuez8=",
          "dtype": "f8"
         }
        },
        {
         "mode": "lines",
         "name": "CVaR_90",
         "type": "scatter",
         "x": [
          "2015-03-31T23:59:59.999999999",
          "2015-04-30T23:59:59.999999999",
          "2015-05-31T23:59:59.999999999",
          "2015-06-30T23:59:59.999999999",
          "2015-07-31T23:59:59.999999999",
          "2015-08-31T23:59:59.999999999",
          "2015-09-30T23:59:59.999999999",
          "2015-10-31T23:59:59.999999999",
          "2015-11-30T23:59:59.999999999",
          "2015-12-31T23:59:59.999999999",
          "2016-01-31T23:59:59.999999999",
          "2016-02-29T23:59:59.999999999",
          "2016-03-31T23:59:59.999999999",
          "2016-04-30T23:59:59.999999999",
          "2016-05-31T23:59:59.999999999",
          "2016-06-30T23:59:59.999999999",
          "2016-07-31T23:59:59.999999999",
          "2016-08-31T23:59:59.999999999",
          "2016-09-30T23:59:59.999999999",
          "2016-10-31T23:59:59.999999999",
          "2016-11-30T23:59:59.999999999",
          "2016-12-31T23:59:59.999999999",
          "2017-01-31T23:59:59.999999999",
          "2017-02-28T23:59:59.999999999",
          "2017-03-31T23:59:59.999999999",
          "2017-04-30T23:59:59.999999999",
          "2017-05-31T23:59:59.999999999",
          "2017-06-30T23:59:59.999999999",
          "2017-07-31T23:59:59.999999999",
          "2017-08-31T23:59:59.999999999",
          "2017-09-30T23:59:59.999999999",
          "2017-10-31T23:59:59.999999999",
          "2017-11-30T23:59:59.999999999",
          "2017-12-31T23:59:59.999999999",
          "2018-01-31T23:59:59.999999999",
          "2018-02-28T23:59:59.999999999",
          "2018-03-31T23:59:59.999999999",
          "2018-04-30T23:59:59.999999999",
          "2018-05-31T23:59:59.999999999",
          "2018-06-30T23:59:59.999999999",
          "2018-07-31T23:59:59.999999999",
          "2018-08-31T23:59:59.999999999",
          "2018-09-30T23:59:59.999999999",
          "2018-10-31T23:59:59.999999999",
          "2018-11-30T23:59:59.999999999",
          "2018-12-31T23:59:59.999999999",
          "2019-01-31T23:59:59.999999999",
          "2019-02-28T23:59:59.999999999",
          "2019-03-31T23:59:59.999999999",
          "2019-04-30T23:59:59.999999999",
          "2019-05-31T23:59:59.999999999",
          "2019-06-30T23:59:59.999999999",
          "2019-07-31T23:59:59.999999999",
          "2019-08-31T23:59:59.999999999",
          "2019-09-30T23:59:59.999999999",
          "2019-10-31T23:59:59.999999999",
          "2019-11-30T23:59:59.999999999",
          "2019-12-31T23:59:59.999999999"
         ],
         "y": {
          "bdata": "AAAAAAAAAABmEh+YcJyGP/pbbREbEYM/PEltQBDmkz8hrTV+Co2MPwTibVeg5qc/LjO0ICIhjT8YSTxZCEW/P5WCFeLXd7M/aU9nmB3iZz9yPX5kP/9/P2trjHEq+HA/1kGOr9cWoj8hw2MH8Zm9PnKdVG7qvX4/TUfTe/4mpT8EhCWktNaaP6CyovawPI4/l2n84Ct8gD8KazBKks2IPyE6MWKwkXo/DoJKJ6aRjD+KmC4W03u7P/lpzLvDsJk/VBnKykrllT/KrdLKCxaNP2CFiwDJF5U/FXzZuzv4lD8GLHUCf+drP9GktWPTOls/xRhLE9oqhz+hyG5VjYFZPzpBq0Z+4nA/V1sFBePDgD+cdMS7sXSjP19JEy0+y5o/ElIbdqBwlz8nrBoSMG+RPz9RuzjtkpY/h8RKb0SNrT9MQBJSJe+kP7GcJ4yPB6s/HXhpWWezlj/TxtTDzJmfP3vZSDtjg44/Fqqe4sJzsj+begvsBJ6WP0cg7gToErU/dc+Cf1Q5oj+/cpoPveOiPwjQ2SLb1rY/Gume32sspD9lXGVfSGiaP2zxHyxFOqE/h6AFZ/7ygT9UpPrqgTuCP36SJpdVpJA/hWoiY9Urgz8=",
          "dtype": "f8"
         }
        },
        {
         "mode": "lines",
         "name": "CVaR_80",
         "type": "scatter",
         "x": [
          "2015-03-31T23:59:59.999999999",
          "2015-04-30T23:59:59.999999999",
          "2015-05-31T23:59:59.999999999",
          "2015-06-30T23:59:59.999999999",
          "2015-07-31T23:59:59.999999999",
          "2015-08-31T23:59:59.999999999",
          "2015-09-30T23:59:59.999999999",
          "2015-10-31T23:59:59.999999999",
          "2015-11-30T23:59:59.999999999",
          "2015-12-31T23:59:59.999999999",
          "2016-01-31T23:59:59.999999999",
          "2016-02-29T23:59:59.999999999",
          "2016-03-31T23:59:59.999999999",
          "2016-04-30T23:59:59.999999999",
          "2016-05-31T23:59:59.999999999",
          "2016-06-30T23:59:59.999999999",
          "2016-07-31T23:59:59.999999999",
          "2016-08-31T23:59:59.999999999",
          "2016-09-30T23:59:59.999999999",
          "2016-10-31T23:59:59.999999999",
          "2016-11-30T23:59:59.999999999",
          "2016-12-31T23:59:59.999999999",
          "2017-01-31T23:59:59.999999999",
          "2017-02-28T23:59:59.999999999",
          "2017-03-31T23:59:59.999999999",
          "2017-04-30T23:59:59.999999999",
          "2017-05-31T23:59:59.999999999",
          "2017-06-30T23:59:59.999999999",
          "2017-07-31T23:59:59.999999999",
          "2017-08-31T23:59:59.999999999",
          "2017-09-30T23:59:59.999999999",
          "2017-10-31T23:59:59.999999999",
          "2017-11-30T23:59:59.999999999",
          "2017-12-31T23:59:59.999999999",
          "2018-01-31T23:59:59.999999999",
          "2018-02-28T23:59:59.999999999",
          "2018-03-31T23:59:59.999999999",
          "2018-04-30T23:59:59.999999999",
          "2018-05-31T23:59:59.999999999",
          "2018-06-30T23:59:59.999999999",
          "2018-07-31T23:59:59.999999999",
          "2018-08-31T23:59:59.999999999",
          "2018-09-30T23:59:59.999999999",
          "2018-10-31T23:59:59.999999999",
          "2018-11-30T23:59:59.999999999",
          "2018-12-31T23:59:59.999999999",
          "2019-01-31T23:59:59.999999999",
          "2019-02-28T23:59:59.999999999",
          "2019-03-31T23:59:59.999999999",
          "2019-04-30T23:59:59.999999999",
          "2019-05-31T23:59:59.999999999",
          "2019-06-30T23:59:59.999999999",
          "2019-07-31T23:59:59.999999999",
          "2019-08-31T23:59:59.999999999",
          "2019-09-30T23:59:59.999999999",
          "2019-10-31T23:59:59.999999999",
          "2019-11-30T23:59:59.999999999",
          "2019-12-31T23:59:59.999999999"
         ],
         "y": {
          "bdata": "AAAAAAAAAACBHFcIdBCBPyS4IPI1ZW8/1iWMXc3tlT9R5GJateJsP2Vs1+AbWac/KX9TXK5ToT+w6jz1Pu+6P15AvB5nr7M/I4pCQL2mOD+QENBEKtNtP4F91DWA7oE/MYF+uLXDmz909ZEZeNp1P70TcauMooY/Hs4wWV1lpD/EYbT5HI+iP9T4mRLINJM/hsumB7BfYT/Tra+SV5eLPx7aPCQfLW0/kZfb/bV0kT9jj8BdA/u8P+Znfrxpc58/Iki7+4RKcD8RPhI8+0UrP4jsS0mm9WY/Zlb0awz8cj/lebETIPBqP6h/wGEDxHs/NEyOZ8Cuiz9qJZrkwOpaP8lT+qH110Q/gdvbPt0mfT+2u80cgNSnP3DuCLprHZw/P4dmYQ5slj+zz7oIAvWQPzfJ4wlQqI4/ofbAnzTmrD+7AtXs7sanP9rZFTI7b6c/ati50Ds3kz/o/DrLDx2ZP3/omAz56JI/0p4WZGgPtD9NDKF1+BCTP5IoEZ6xxbM/ocq9nDyooT8KuzNrtRmhP5OqQAkntrU/uuGhkC2VpD8vwEX+jSGTP/QjfcX3IaA/pi4STPeagz/Sio1CgTh+P/iviBy6MpA/YN+AGRFYdz8=",
          "dtype": "f8"
         }
        },
        {
         "mode": "lines",
         "name": "MVar",
         "type": "scatter",
         "x": [
          "2015-03-31T23:59:59.999999999",
          "2015-04-30T23:59:59.999999999",
          "2015-05-31T23:59:59.999999999",
          "2015-06-30T23:59:59.999999999",
          "2015-07-31T23:59:59.999999999",
          "2015-08-31T23:59:59.999999999",
          "2015-09-30T23:59:59.999999999",
          "2015-10-31T23:59:59.999999999",
          "2015-11-30T23:59:59.999999999",
          "2015-12-31T23:59:59.999999999",
          "2016-01-31T23:59:59.999999999",
          "2016-02-29T23:59:59.999999999",
          "2016-03-31T23:59:59.999999999",
          "2016-04-30T23:59:59.999999999",
          "2016-05-31T23:59:59.999999999",
          "2016-06-30T23:59:59.999999999",
          "2016-07-31T23:59:59.999999999",
          "2016-08-31T23:59:59.999999999",
          "2016-09-30T23:59:59.999999999",
          "2016-10-31T23:59:59.999999999",
          "2016-11-30T23:59:59.999999999",
          "2016-12-31T23:59:59.999999999",
          "2017-01-31T23:59:59.999999999",
          "2017-02-28T23:59:59.999999999",
          "2017-03-31T23:59:59.999999999",
          "2017-04-30T23:59:59.999999999",
          "2017-05-31T23:59:59.999999999",
          "2017-06-30T23:59:59.999999999",
          "2017-07-31T23:59:59.999999999",
          "2017-08-31T23:59:59.999999999",
          "2017-09-30T23:59:59.999999999",
          "2017-10-31T23:59:59.999999999",
          "2017-11-30T23:59:59.999999999",
          "2017-12-31T23:59:59.999999999",
          "2018-01-31T23:59:59.999999999",
          "2018-02-28T23:59:59.999999999",
          "2018-03-31T23:59:59.999999999",
          "2018-04-30T23:59:59.999999999",
          "2018-05-31T23:59:59.999999999",
          "2018-06-30T23:59:59.999999999",
          "2018-07-31T23:59:59.999999999",
          "2018-08-31T23:59:59.999999999",
          "2018-09-30T23:59:59.999999999",
          "2018-10-31T23:59:59.999999999",
          "2018-11-30T23:59:59.999999999",
          "2018-12-31T23:59:59.999999999",
          "2019-01-31T23:59:59.999999999",
          "2019-02-28T23:59:59.999999999",
          "2019-03-31T23:59:59.999999999",
          "2019-04-30T23:59:59.999999999",
          "2019-05-31T23:59:59.999999999",
          "2019-06-30T23:59:59.999999999",
          "2019-07-31T23:59:59.999999999",
          "2019-08-31T23:59:59.999999999",
          "2019-09-30T23:59:59.999999999",
          "2019-10-31T23:59:59.999999999",
          "2019-11-30T23:59:59.999999999",
          "2019-12-31T23:59:59.999999999"
         ],
         "y": {
          "bdata": "AAAAAAAAAABtvp3HJm6PP+XT9dof32Q/TeZ05o5/lT9xYndIntCJPyUKd7ba9Ks/DNrLIDO5nT+62LkfV5a8P5ED1+ddDLU/UfnGnAmyJj/gWHVQlMZqP5y//nZxjyc/a0sw9Q/Nlz/OTUyWsASEP3XXf+1Et5U/Ks2EhnTroD/PSs4bBf2iP/xnmkKKN5k/qlomWdoqiD9+GRt1IJmZPz0dJL94o3k/gw7YNMBqiT+fcoiDmD25P/yvIbQM5pU/vsBIC0IMgz9x0aBmrCqFPztQQYNaxIc/S1VsTNNjjz+t+sgBolp9P8e69RegZ1w/r+auI6ODjj9Os2ldKVlyP/ioshMH3WA/dPUAqSspcj8wg08jh9esP3YlLqJtXJc/9YFfOOBjmj8z1H08oVePP0H00ACoZJY/W8p3T8BBrD8+gzA9lfqlP8yN/Ur0FKc/OkziECaEmD8trU5C/WigPxFIQjhUHYs/4Es8I4rwsj/4VWsPHLuUPyD0iO4FxrI/CNb4NK0SoT85qL5KHCyjP2IsD4eAObQ/A78lLcbXoj/7p3bvYlWQP3GbJNA7PqI/t1WIVLi8hz8sTdAskhCIPzbUKM5+g5A/vyOHQi33bT8=",
          "dtype": "f8"
         }
        },
        {
         "mode": "lines",
         "name": "TOP3",
         "type": "scatter",
         "x": [
          "2015-02-28T00:00:00.000000000",
          "2015-03-31T00:00:00.000000000",
          "2015-04-30T00:00:00.000000000",
          "2015-05-31T00:00:00.000000000",
          "2015-06-30T00:00:00.000000000",
          "2015-07-31T00:00:00.000000000",
          "2015-08-31T00:00:00.000000000",
          "2015-09-30T00:00:00.000000000",
          "2015-10-31T00:00:00.000000000",
          "2015-11-30T00:00:00.000000000",
          "2015-12-31T00:00:00.000000000",
          "2016-01-31T00:00:00.000000000",
          "2016-02-29T00:00:00.000000000",
          "2016-03-31T00:00:00.000000000",
          "2016-04-30T00:00:00.000000000",
          "2016-05-31T00:00:00.000000000",
          "2016-06-30T00:00:00.000000000",
          "2016-07-31T00:00:00.000000000",
          "2016-08-31T00:00:00.000000000",
          "2016-09-30T00:00:00.000000000",
          "2016-10-31T00:00:00.000000000",
          "2016-11-30T00:00:00.000000000",
          "2016-12-31T00:00:00.000000000",
          "2017-01-31T00:00:00.000000000",
          "2017-02-28T00:00:00.000000000",
          "2017-03-31T00:00:00.000000000",
          "2017-04-30T00:00:00.000000000",
          "2017-05-31T00:00:00.000000000",
          "2017-06-30T00:00:00.000000000",
          "2017-07-31T00:00:00.000000000",
          "2017-08-31T00:00:00.000000000",
          "2017-09-30T00:00:00.000000000",
          "2017-10-31T00:00:00.000000000",
          "2017-11-30T00:00:00.000000000",
          "2017-12-31T00:00:00.000000000",
          "2018-01-31T00:00:00.000000000",
          "2018-02-28T00:00:00.000000000",
          "2018-03-31T00:00:00.000000000",
          "2018-04-30T00:00:00.000000000",
          "2018-05-31T00:00:00.000000000",
          "2018-06-30T00:00:00.000000000",
          "2018-07-31T00:00:00.000000000",
          "2018-08-31T00:00:00.000000000",
          "2018-09-30T00:00:00.000000000",
          "2018-10-31T00:00:00.000000000",
          "2018-11-30T00:00:00.000000000",
          "2018-12-31T00:00:00.000000000",
          "2019-01-31T00:00:00.000000000",
          "2019-02-28T00:00:00.000000000",
          "2019-03-31T00:00:00.000000000",
          "2019-04-30T00:00:00.000000000",
          "2019-05-31T00:00:00.000000000",
          "2019-06-30T00:00:00.000000000",
          "2019-07-31T00:00:00.000000000",
          "2019-08-31T00:00:00.000000000",
          "2019-09-30T00:00:00.000000000",
          "2019-10-31T00:00:00.000000000",
          "2019-11-30T00:00:00.000000000",
          "2019-12-31T00:00:00.000000000"
         ],
         "y": {
          "bdata": "AAAAAAAAAAAFSiPAG8+VP5uYRhkpQ5s/wlVjA0hvpz9+nUbo4HiAP2XORoiaPrQ/yLSnFSpitz+cLlcqb8SgP29iM+J5P7o/7Y8aW/Xdsj8ZOB2zNy6kPw0PRYy5O5Q/VAiGeBTrej8vAetVNcGsP38vFjq+lZM/VttHa4Zfoj9z46cYuoZ6P2yOxvWCQXQ/o8rHlbMckT84WlpKOSN/P0twuQwOXYM/jk8V+WQuWj+7KCBbTJmWPz40HApRiKE/s5PZrgegqD8W8e8eW7iaP3Ng3aje8pA/O9Y9Ttg3oj/hJMh/FgSxPzelZ2qkQKQ/Ht8fD7ZHkz80XqEt9fSeP4VedONik4E/HTYbxpdvRj9tFmPkqJReP5eUoXAzuZU/1CYunNP8sD8Uv8rR/mOHPxaMw9xThLc/Lgs9eMQIrj/fBzHPbSdyPytDo8bxYqc/iSKqqQPuoT/DA/+j+KFuP2AHRtXvX6s/4vOaakQhtz85DfMBWNe2P2Kt+y10Wak/9xAgoL/Whz/T6TDTUiBwP05tWhisXpQ/LMXDzqSQuj9Y/UMSSU+7P7QmKWMxCps/D+WeyJ6Fmz+FK2ZB21d0P+SGsRDua4Y/vE9YSmCMlz+TOtIDYBKWPw==",
          "dtype": "f8"
         }
        },
        {
         "mode": "lines",
         "name": "MSFT",
         "type": "scatter",
         "x": [
          "2015-03-31T23:59:59.999999999",
          "2015-04-30T23:59:59.999999999",
          "2015-05-31T23:59:59.999999999",
          "2015-06-30T23:59:59.999999999",
          "2015-07-31T23:59:59.999999999",
          "2015-08-31T23:59:59.999999999",
          "2015-09-30T23:59:59.999999999",
          "2015-10-31T23:59:59.999999999",
          "2015-11-30T23:59:59.999999999",
          "2015-12-31T23:59:59.999999999",
          "2016-01-31T23:59:59.999999999",
          "2016-02-29T23:59:59.999999999",
          "2016-03-31T23:59:59.999999999",
          "2016-04-30T23:59:59.999999999",
          "2016-05-31T23:59:59.999999999",
          "2016-06-30T23:59:59.999999999",
          "2016-07-31T23:59:59.999999999",
          "2016-08-31T23:59:59.999999999",
          "2016-09-30T23:59:59.999999999",
          "2016-10-31T23:59:59.999999999",
          "2016-11-30T23:59:59.999999999",
          "2016-12-31T23:59:59.999999999",
          "2017-01-31T23:59:59.999999999",
          "2017-02-28T23:59:59.999999999",
          "2017-03-31T23:59:59.999999999",
          "2017-04-30T23:59:59.999999999",
          "2017-05-31T23:59:59.999999999",
          "2017-06-30T23:59:59.999999999",
          "2017-07-31T23:59:59.999999999",
          "2017-08-31T23:59:59.999999999",
          "2017-09-30T23:59:59.999999999",
          "2017-10-31T23:59:59.999999999",
          "2017-11-30T23:59:59.999999999",
          "2017-12-31T23:59:59.999999999",
          "2018-01-31T23:59:59.999999999",
          "2018-02-28T23:59:59.999999999",
          "2018-03-31T23:59:59.999999999",
          "2018-04-30T23:59:59.999999999",
          "2018-05-31T23:59:59.999999999",
          "2018-06-30T23:59:59.999999999",
          "2018-07-31T23:59:59.999999999",
          "2018-08-31T23:59:59.999999999",
          "2018-09-30T23:59:59.999999999",
          "2018-10-31T23:59:59.999999999",
          "2018-11-30T23:59:59.999999999",
          "2018-12-31T23:59:59.999999999",
          "2019-01-31T23:59:59.999999999",
          "2019-02-28T23:59:59.999999999",
          "2019-03-31T23:59:59.999999999",
          "2019-04-30T23:59:59.999999999",
          "2019-05-31T23:59:59.999999999",
          "2019-06-30T23:59:59.999999999",
          "2019-07-31T23:59:59.999999999",
          "2019-08-31T23:59:59.999999999",
          "2019-09-30T23:59:59.999999999",
          "2019-10-31T23:59:59.999999999",
          "2019-11-30T23:59:59.999999999",
          "2019-12-31T23:59:59.999999999"
         ],
         "y": {
          "bdata": "AAAAAAAAAACWO6kMFVnIP674mrloE8U/mAFxq+/Ajj/q9HHIhuy0P0SERkoYyLY/kqSh2gjPrj/9hzodCDK/P57f8SGfZLw/cPtWJCfvgD8hayC69CSUP0I/Z3BGH6k/08BSo1NPvT+ElhGEoYXAP8o45rTV7bw/QRohdJScsT+8jZayFL65P6XtoXtJALE/uR2binxmgD9209k+aGabPwOnjKM+Dpk/7A6FcjV7kj8b3B4uU6F6PzFFRlctYKI/Tl2F28fHnD9YVPNI4Dt9P5QZaMxt+os/o6WqrsQHmD+O1AMOsYSoP8TdXKU8/JI/O3RBygxUlz+WMSXoq8u1Pyxz/XiW9rI/9Mb/iUNXaT+udRveDxixP82JfFkkZ7Y/FlFp0X+1gz9jcqPpy5OiP8Y8z9wIV5c//7yHaf5vpT8+SCxXmUSsP2dIYfVCYYg/YU/1W+CCnT9zSeaRkIGuP4H/z39b4bI/mZELBv4gtj/0dpvDsU+0P61QjVlKJ6A/vVxqTNH+jD8dDJNLacOjP12iAI3LBb0/ENixly+juD81vkFfTtmnP8M0VoxPJnA/iqin9lhtYj9bu9vgNXWQP4TmovDM2ZE/GO2IWr5yhD8=",
          "dtype": "f8"
         }
        },
        {
         "mode": "lines",
         "name": "MRK",
         "type": "scatter",
         "x": [
          "2015-03-31T23:59:59.999999999",
          "2015-04-30T23:59:59.999999999",
          "2015-05-31T23:59:59.999999999",
          "2015-06-30T23:59:59.999999999",
          "2015-07-31T23:59:59.999999999",
          "2015-08-31T23:59:59.999999999",
          "2015-09-30T23:59:59.999999999",
          "2015-10-31T23:59:59.999999999",
          "2015-11-30T23:59:59.999999999",
          "2015-12-31T23:59:59.999999999",
          "2016-01-31T23:59:59.999999999",
          "2016-02-29T23:59:59.999999999",
          "2016-03-31T23:59:59.999999999",
          "2016-04-30T23:59:59.999999999",
          "2016-05-31T23:59:59.999999999",
          "2016-06-30T23:59:59.999999999",
          "2016-07-31T23:59:59.999999999",
          "2016-08-31T23:59:59.999999999",
          "2016-09-30T23:59:59.999999999",
          "2016-10-31T23:59:59.999999999",
          "2016-11-30T23:59:59.999999999",
          "2016-12-31T23:59:59.999999999",
          "2017-01-31T23:59:59.999999999",
          "2017-02-28T23:59:59.999999999",
          "2017-03-31T23:59:59.999999999",
          "2017-04-30T23:59:59.999999999",
          "2017-05-31T23:59:59.999999999",
          "2017-06-30T23:59:59.999999999",
          "2017-07-31T23:59:59.999999999",
          "2017-08-31T23:59:59.999999999",
          "2017-09-30T23:59:59.999999999",
          "2017-10-31T23:59:59.999999999",
          "2017-11-30T23:59:59.999999999",
          "2017-12-31T23:59:59.999999999",
          "2018-01-31T23:59:59.999999999",
          "2018-02-28T23:59:59.999999999",
          "2018-03-31T23:59:59.999999999",
          "2018-04-30T23:59:59.999999999",
          "2018-05-31T23:59:59.999999999",
          "2018-06-30T23:59:59.999999999",
          "2018-07-31T23:59:59.999999999",
          "2018-08-31T23:59:59.999999999",
          "2018-09-30T23:59:59.999999999",
          "2018-10-31T23:59:59.999999999",
          "2018-11-30T23:59:59.999999999",
          "2018-12-31T23:59:59.999999999",
          "2019-01-31T23:59:59.999999999",
          "2019-02-28T23:59:59.999999999",
          "2019-03-31T23:59:59.999999999",
          "2019-04-30T23:59:59.999999999",
          "2019-05-31T23:59:59.999999999",
          "2019-06-30T23:59:59.999999999",
          "2019-07-31T23:59:59.999999999",
          "2019-08-31T23:59:59.999999999",
          "2019-09-30T23:59:59.999999999",
          "2019-10-31T23:59:59.999999999",
          "2019-11-30T23:59:59.999999999",
          "2019-12-31T23:59:59.999999999"
         ],
         "y": {
          "bdata": "AAAAAAAAAACGwRjTFqGjP9ElrM7X7YM/bHvrAbeqrz+l8SO4SEGyP0rjNq99JrY/qGqkAzw5ZT+hIC0IOC3BP0RWYmXoybg/j9/pV6A7kz84xKJXCuSaP5+1ipQs4JY/M6Gj8Ly6pj/+U1IVCeqIP2UkBmDQTX4/L9VW+93pWD98dPE6tV9wPzDTANe46aI/RADNNkuuqz83J5NPzzyjP8WRy9pXVrI//ai3S8cIrT+YZ4q7Y3+wP+LzIKDhhns/+WkvM6C6sT8AYcokpXWHPwx9w/UcE6c/wV0ktN3MpT8rgdltTuOBP5iab71UDmE/KrbE2YsfYT9143QCAr25P30TZX012bk/q3T6/S1rhT8d0CR5cGmZP66Aj4So/rg//hV0ew04sD9RmAmJZ4arPz3AdIpkJKk//LpCoH6keD9PyV7oebGnP2jZ93YG0Z8/X4JMBNk6dD8OqY8VS/pjP9TDwpUZB50/W1udieHBtD8Ttlogra9/P4pjVCR8YLU/yYa27WgAqT+NWNzJkMOrPyW60TP1t6U/rAQQ6PTeoj9axyQqT+aoP4RkVLsr56I/MbVUFB/DqD/08BEgdDekP6idvXow6JA/akIU7lrjmj8=",
          "dtype": "f8"
         }
        },
        {
         "mode": "lines",
         "name": "GOOGL",
         "type": "scatter",
         "x": [
          "2015-03-31T23:59:59.999999999",
          "2015-04-30T23:59:59.999999999",
          "2015-05-31T23:59:59.999999999",
          "2015-06-30T23:59:59.999999999",
          "2015-07-31T23:59:59.999999999",
          "2015-08-31T23:59:59.999999999",
          "2015-09-30T23:59:59.999999999",
          "2015-10-31T23:59:59.999999999",
          "2015-11-30T23:59:59.999999999",
          "2015-12-31T23:59:59.999999999",
          "2016-01-31T23:59:59.999999999",
          "2016-02-29T23:59:59.999999999",
          "2016-03-31T23:59:59.999999999",
          "2016-04-30T23:59:59.999999999",
          "2016-05-31T23:59:59.999999999",
          "2016-06-30T23:59:59.999999999",
          "2016-07-31T23:59:59.999999999",
          "2016-08-31T23:59:59.999999999",
          "2016-09-30T23:59:59.999999999",
          "2016-10-31T23:59:59.999999999",
          "2016-11-30T23:59:59.999999999",
          "2016-12-31T23:59:59.999999999",
          "2017-01-31T23:59:59.999999999",
          "2017-02-28T23:59:59.999999999",
          "2017-03-31T23:59:59.999999999",
          "2017-04-30T23:59:59.999999999",
          "2017-05-31T23:59:59.999999999",
          "2017-06-30T23:59:59.999999999",
          "2017-07-31T23:59:59.999999999",
          "2017-08-31T23:59:59.999999999",
          "2017-09-30T23:59:59.999999999",
          "2017-10-31T23:59:59.999999999",
          "2017-11-30T23:59:59.999999999",
          "2017-12-31T23:59:59.999999999",
          "2018-01-31T23:59:59.999999999",
          "2018-02-28T23:59:59.999999999",
          "2018-03-31T23:59:59.999999999",
          "2018-04-30T23:59:59.999999999",
          "2018-05-31T23:59:59.999999999",
          "2018-06-30T23:59:59.999999999",
          "2018-07-31T23:59:59.999999999",
          "2018-08-31T23:59:59.999999999",
          "2018-09-30T23:59:59.999999999",
          "2018-10-31T23:59:59.999999999",
          "2018-11-30T23:59:59.999999999",
          "2018-12-31T23:59:59.999999999",
          "2019-01-31T23:59:59.999999999",
          "2019-02-28T23:59:59.999999999",
          "2019-03-31T23:59:59.999999999",
          "2019-04-30T23:59:59.999999999",
          "2019-05-31T23:59:59.999999999",
          "2019-06-30T23:59:59.999999999",
          "2019-07-31T23:59:59.999999999",
          "2019-08-31T23:59:59.999999999",
          "2019-09-30T23:59:59.999999999",
          "2019-10-31T23:59:59.999999999",
          "2019-11-30T23:59:59.999999999",
          "2019-12-31T23:59:59.999999999"
         ],
         "y": {
          "bdata": "AAAAAAAAAACpL1cURsplP5KFD7UhsWg/ClGDcSd3ZT8ZGPDZbJvEP8S11Q9RD8U/2iOFArQqMj/6QhDXxLK+PyJEt/IZ1rU/LD/1gYEGhT/gPSUYu+CdPyWeuLR7lZo/sRzGvnERtj/nhyDm46e4P6ujQ0ftlLc/h7gSd6JptT+8+DHKA8LAP/rCg6xt9LY/ZQwOROn2jD8CReDF/S1/Py1m+Lbpz6E/CrEFmnPypj+UpCVsydGDP+3PW+5QE2w/RSg+0Ih+kz8Al0xzs5ivPwMa8HmsuZA/vNQBVH6+tj/V3a7SSDWrP41RwDlGNHM/4jzO4Phfej9QSoDYTuudP/PXKS5I46Q/nWI2olGNgz/f1M157CCzPy07qp6/DcE/0eyEIkNWcD+AtV9KvtOeP1zPDMdMtrE/ni3WAkNSoz8JXqmKT8+lP63aUhMwEK4/c2hNaMRKkT/jqo1FB6CrP0cj1SpWnLQ/xq+jAohiqz/rlFV3Com4P+5DfoBbvKs/i7vqieC/nz96hvgLw5qSP96g2yhwXbE/TDT7fB4dpD/vMoehbYe6P8xV5zytvLo/zNl/TuKBoT95wdFBI3ltPyiOvulGpW0/7h2B1CBfeT8=",
          "dtype": "f8"
         }
        },
        {
         "mode": "lines",
         "name": "CVX",
         "type": "scatter",
         "x": [
          "2015-03-31T23:59:59.999999999",
          "2015-04-30T23:59:59.999999999",
          "2015-05-31T23:59:59.999999999",
          "2015-06-30T23:59:59.999999999",
          "2015-07-31T23:59:59.999999999",
          "2015-08-31T23:59:59.999999999",
          "2015-09-30T23:59:59.999999999",
          "2015-10-31T23:59:59.999999999",
          "2015-11-30T23:59:59.999999999",
          "2015-12-31T23:59:59.999999999",
          "2016-01-31T23:59:59.999999999",
          "2016-02-29T23:59:59.999999999",
          "2016-03-31T23:59:59.999999999",
          "2016-04-30T23:59:59.999999999",
          "2016-05-31T23:59:59.999999999",
          "2016-06-30T23:59:59.999999999",
          "2016-07-31T23:59:59.999999999",
          "2016-08-31T23:59:59.999999999",
          "2016-09-30T23:59:59.999999999",
          "2016-10-31T23:59:59.999999999",
          "2016-11-30T23:59:59.999999999",
          "2016-12-31T23:59:59.999999999",
          "2017-01-31T23:59:59.999999999",
          "2017-02-28T23:59:59.999999999",
          "2017-03-31T23:59:59.999999999",
          "2017-04-30T23:59:59.999999999",
          "2017-05-31T23:59:59.999999999",
          "2017-06-30T23:59:59.999999999",
          "2017-07-31T23:59:59.999999999",
          "2017-08-31T23:59:59.999999999",
          "2017-09-30T23:59:59.999999999",
          "2017-10-31T23:59:59.999999999",
          "2017-11-30T23:59:59.999999999",
          "2017-12-31T23:59:59.999999999",
          "2018-01-31T23:59:59.999999999",
          "2018-02-28T23:59:59.999999999",
          "2018-03-31T23:59:59.999999999",
          "2018-04-30T23:59:59.999999999",
          "2018-05-31T23:59:59.999999999",
          "2018-06-30T23:59:59.999999999",
          "2018-07-31T23:59:59.999999999",
          "2018-08-31T23:59:59.999999999",
          "2018-09-30T23:59:59.999999999",
          "2018-10-31T23:59:59.999999999",
          "2018-11-30T23:59:59.999999999",
          "2018-12-31T23:59:59.999999999",
          "2019-01-31T23:59:59.999999999",
          "2019-02-28T23:59:59.999999999",
          "2019-03-31T23:59:59.999999999",
          "2019-04-30T23:59:59.999999999",
          "2019-05-31T23:59:59.999999999",
          "2019-06-30T23:59:59.999999999",
          "2019-07-31T23:59:59.999999999",
          "2019-08-31T23:59:59.999999999",
          "2019-09-30T23:59:59.999999999",
          "2019-10-31T23:59:59.999999999",
          "2019-11-30T23:59:59.999999999",
          "2019-12-31T23:59:59.999999999"
         ],
         "y": {
          "bdata": "AAAAAAAAAAAEHnDPrbyqP/q6hRD+nrc/PFtLwheTej+BF4XQnCGMP0QgsIYuLlU/L1yoLBg3pT/+iQs8kiDAPxTnAXB6qbo/LintfAaUjD/ZBrisoE6RPzaoiVDLvmU/vobP5RclwD9Z+QsB4CmqPwbq8/Mj6a0/kwEPeOLooT95IYd9PtilP4b1mBJPdWY/iEkn0i5Fnj89iWVPq8RvP0UfWpp4GaE/vCC3VXzjfD/Vu2rmn7qzPzFCDoN0Rac/Ddw2jH4/pD+YEYhb5n+cP5F/MW87VZE/v1ET+YbMmz/Qlsc/MMibP+Qp05gIEqY/Gh4hOqA4sz8I68T4RhmzP0O4WqRESp0//jiTHQhckj8fTzgGwmaiP7B4nTYyoLM/SmOGxcPStj939CdRJ0msP5wKlahlvrI/zF9C/nwYkT/Kxy4c8KWKPxi5Fk4776U/G57jPKAIsT/b5G3o25K1P1hnqc4/jrs/tVE081tEuz8A2UFfxTK5P7mZ6t7Ed38/Hdcpr46sgj+vRY8uvhGkPyM1MBa+HJM/gDpkoHIzuj/kNLvlycWyP+6B2M9y9pc/z3lD5KCOoj86YdzmeW6UPyhGtifkMJU/GRiJD95xjT8=",
          "dtype": "f8"
         }
        }
       ],
       "layout": {
        "legend": {
         "title": {
          "text": "Series"
         }
        },
        "template": {
         "data": {
          "bar": [
           {
            "error_x": {
             "color": "#2a3f5f"
            },
            "error_y": {
             "color": "#2a3f5f"
            },
            "marker": {
             "line": {
              "color": "white",
              "width": 0.5
             },
             "pattern": {
              "fillmode": "overlay",
              "size": 10,
              "solidity": 0.2
             }
            },
            "type": "bar"
           }
          ],
          "barpolar": [
           {
            "marker": {
             "line": {
              "color": "white",
              "width": 0.5
             },
             "pattern": {
              "fillmode": "overlay",
              "size": 10,
              "solidity": 0.2
             }
            },
            "type": "barpolar"
           }
          ],
          "carpet": [
           {
            "aaxis": {
             "endlinecolor": "#2a3f5f",
             "gridcolor": "#C8D4E3",
             "linecolor": "#C8D4E3",
             "minorgridcolor": "#C8D4E3",
             "startlinecolor": "#2a3f5f"
            },
            "baxis": {
             "endlinecolor": "#2a3f5f",
             "gridcolor": "#C8D4E3",
             "linecolor": "#C8D4E3",
             "minorgridcolor": "#C8D4E3",
             "startlinecolor": "#2a3f5f"
            },
            "type": "carpet"
           }
          ],
          "choropleth": [
           {
            "colorbar": {
             "outlinewidth": 0,
             "ticks": ""
            },
            "type": "choropleth"
           }
          ],
          "contour": [
           {
            "colorbar": {
             "outlinewidth": 0,
             "ticks": ""
            },
            "colorscale": [
             [
              0,
              "#0d0887"
             ],
             [
              0.1111111111111111,
              "#46039f"
             ],
             [
              0.2222222222222222,
              "#7201a8"
             ],
             [
              0.3333333333333333,
              "#9c179e"
             ],
             [
              0.4444444444444444,
              "#bd3786"
             ],
             [
              0.5555555555555556,
              "#d8576b"
             ],
             [
              0.6666666666666666,
              "#ed7953"
             ],
             [
              0.7777777777777778,
              "#fb9f3a"
             ],
             [
              0.8888888888888888,
              "#fdca26"
             ],
             [
              1,
              "#f0f921"
             ]
            ],
            "type": "contour"
           }
          ],
          "contourcarpet": [
           {
            "colorbar": {
             "outlinewidth": 0,
             "ticks": ""
            },
            "type": "contourcarpet"
           }
          ],
          "heatmap": [
           {
            "colorbar": {
             "outlinewidth": 0,
             "ticks": ""
            },
            "colorscale": [
             [
              0,
              "#0d0887"
             ],
             [
              0.1111111111111111,
              "#46039f"
             ],
             [
              0.2222222222222222,
              "#7201a8"
             ],
             [
              0.3333333333333333,
              "#9c179e"
             ],
             [
              0.4444444444444444,
              "#bd3786"
             ],
             [
              0.5555555555555556,
              "#d8576b"
             ],
             [
              0.6666666666666666,
              "#ed7953"
             ],
             [
              0.7777777777777778,
              "#fb9f3a"
             ],
             [
              0.8888888888888888,
              "#fdca26"
             ],
             [
              1,
              "#f0f921"
             ]
            ],
            "type": "heatmap"
           }
          ],
          "histogram": [
           {
            "marker": {
             "pattern": {
              "fillmode": "overlay",
              "size": 10,
              "solidity": 0.2
             }
            },
            "type": "histogram"
           }
          ],
          "histogram2d": [
           {
            "colorbar": {
             "outlinewidth": 0,
             "ticks": ""
            },
            "colorscale": [
             [
              0,
              "#0d0887"
             ],
             [
              0.1111111111111111,
              "#46039f"
             ],
             [
              0.2222222222222222,
              "#7201a8"
             ],
             [
              0.3333333333333333,
              "#9c179e"
             ],
             [
              0.4444444444444444,
              "#bd3786"
             ],
             [
              0.5555555555555556,
              "#d8576b"
             ],
             [
              0.6666666666666666,
              "#ed7953"
             ],
             [
              0.7777777777777778,
              "#fb9f3a"
             ],
             [
              0.8888888888888888,
              "#fdca26"
             ],
             [
              1,
              "#f0f921"
             ]
            ],
            "type": "histogram2d"
           }
          ],
          "histogram2dcontour": [
           {
            "colorbar": {
             "outlinewidth": 0,
             "ticks": ""
            },
            "colorscale": [
             [
              0,
              "#0d0887"
             ],
             [
              0.1111111111111111,
              "#46039f"
             ],
             [
              0.2222222222222222,
              "#7201a8"
             ],
             [
              0.3333333333333333,
              "#9c179e"
             ],
             [
              0.4444444444444444,
              "#bd3786"
             ],
             [
              0.5555555555555556,
              "#d8576b"
             ],
             [
              0.6666666666666666,
              "#ed7953"
             ],
             [
              0.7777777777777778,
              "#fb9f3a"
             ],
             [
              0.8888888888888888,
              "#fdca26"
             ],
             [
              1,
              "#f0f921"
             ]
            ],
            "type": "histogram2dcontour"
           }
          ],
          "mesh3d": [
           {
            "colorbar": {
             "outlinewidth": 0,
             "ticks": ""
            },
            "type": "mesh3d"
           }
          ],
          "parcoords": [
           {
            "line": {
             "colorbar": {
              "outlinewidth": 0,
              "ticks": ""
             }
            },
            "type": "parcoords"
           }
          ],
          "pie": [
           {
            "automargin": true,
            "type": "pie"
           }
          ],
          "scatter": [
           {
            "fillpattern": {
             "fillmode": "overlay",
             "size": 10,
             "solidity": 0.2
            },
            "type": "scatter"
           }
          ],
          "scatter3d": [
           {
            "line": {
             "colorbar": {
              "outlinewidth": 0,
              "ticks": ""
             }
            },
            "marker": {
             "colorbar": {
              "outlinewidth": 0,
              "ticks": ""
             }
            },
            "type": "scatter3d"
           }
          ],
          "scattercarpet": [
           {
            "marker": {
             "colorbar": {
              "outlinewidth": 0,
              "ticks": ""
             }
            },
            "type": "scattercarpet"
           }
          ],
          "scattergeo": [
           {
            "marker": {
             "colorbar": {
              "outlinewidth": 0,
              "ticks": ""
             }
            },
            "type": "scattergeo"
           }
          ],
          "scattergl": [
           {
            "marker": {
             "colorbar": {
              "outlinewidth": 0,
              "ticks": ""
             }
            },
            "type": "scattergl"
           }
          ],
          "scattermap": [
           {
            "marker": {
             "colorbar": {
              "outlinewidth": 0,
              "ticks": ""
             }
            },
            "type": "scattermap"
           }
          ],
          "scattermapbox": [
           {
            "marker": {
             "colorbar": {
              "outlinewidth": 0,
              "ticks": ""
             }
            },
            "type": "scattermapbox"
           }
          ],
          "scatterpolar": [
           {
            "marker": {
             "colorbar": {
              "outlinewidth": 0,
              "ticks": ""
             }
            },
            "type": "scatterpolar"
           }
          ],
          "scatterpolargl": [
           {
            "marker": {
             "colorbar": {
              "outlinewidth": 0,
              "ticks": ""
             }
            },
            "type": "scatterpolargl"
           }
          ],
          "scatterternary": [
           {
            "marker": {
             "colorbar": {
              "outlinewidth": 0,
              "ticks": ""
             }
            },
            "type": "scatterternary"
           }
          ],
          "surface": [
           {
            "colorbar": {
             "outlinewidth": 0,
             "ticks": ""
            },
            "colorscale": [
             [
              0,
              "#0d0887"
             ],
             [
              0.1111111111111111,
              "#46039f"
             ],
             [
              0.2222222222222222,
              "#7201a8"
             ],
             [
              0.3333333333333333,
              "#9c179e"
             ],
             [
              0.4444444444444444,
              "#bd3786"
             ],
             [
              0.5555555555555556,
              "#d8576b"
             ],
             [
              0.6666666666666666,
              "#ed7953"
             ],
             [
              0.7777777777777778,
              "#fb9f3a"
             ],
             [
              0.8888888888888888,
              "#fdca26"
             ],
             [
              1,
              "#f0f921"
             ]
            ],
            "type": "surface"
           }
          ],
          "table": [
           {
            "cells": {
             "fill": {
              "color": "#EBF0F8"
             },
             "line": {
              "color": "white"
             }
            },
            "header": {
             "fill": {
              "color": "#C8D4E3"
             },
             "line": {
              "color": "white"
             }
            },
            "type": "table"
           }
          ]
         },
         "layout": {
          "annotationdefaults": {
           "arrowcolor": "#2a3f5f",
           "arrowhead": 0,
           "arrowwidth": 1
          },
          "autotypenumbers": "strict",
          "coloraxis": {
           "colorbar": {
            "outlinewidth": 0,
            "ticks": ""
           }
          },
          "colorscale": {
           "diverging": [
            [
             0,
             "#8e0152"
            ],
            [
             0.1,
             "#c51b7d"
            ],
            [
             0.2,
             "#de77ae"
            ],
            [
             0.3,
             "#f1b6da"
            ],
            [
             0.4,
             "#fde0ef"
            ],
            [
             0.5,
             "#f7f7f7"
            ],
            [
             0.6,
             "#e6f5d0"
            ],
            [
             0.7,
             "#b8e186"
            ],
            [
             0.8,
             "#7fbc41"
            ],
            [
             0.9,
             "#4d9221"
            ],
            [
             1,
             "#276419"
            ]
           ],
           "sequential": [
            [
             0,
             "#0d0887"
            ],
            [
             0.1111111111111111,
             "#46039f"
            ],
            [
             0.2222222222222222,
             "#7201a8"
            ],
            [
             0.3333333333333333,
             "#9c179e"
            ],
            [
             0.4444444444444444,
             "#bd3786"
            ],
            [
             0.5555555555555556,
             "#d8576b"
            ],
            [
             0.6666666666666666,
             "#ed7953"
            ],
            [
             0.7777777777777778,
             "#fb9f3a"
            ],
            [
             0.8888888888888888,
             "#fdca26"
            ],
            [
             1,
             "#f0f921"
            ]
           ],
           "sequentialminus": [
            [
             0,
             "#0d0887"
            ],
            [
             0.1111111111111111,
             "#46039f"
            ],
            [
             0.2222222222222222,
             "#7201a8"
            ],
            [
             0.3333333333333333,
             "#9c179e"
            ],
            [
             0.4444444444444444,
             "#bd3786"
            ],
            [
             0.5555555555555556,
             "#d8576b"
            ],
            [
             0.6666666666666666,
             "#ed7953"
            ],
            [
             0.7777777777777778,
             "#fb9f3a"
            ],
            [
             0.8888888888888888,
             "#fdca26"
            ],
            [
             1,
             "#f0f921"
            ]
           ]
          },
          "colorway": [
           "#636efa",
           "#EF553B",
           "#00cc96",
           "#ab63fa",
           "#FFA15A",
           "#19d3f3",
           "#FF6692",
           "#B6E880",
           "#FF97FF",
           "#FECB52"
          ],
          "font": {
           "color": "#2a3f5f"
          },
          "geo": {
           "bgcolor": "white",
           "lakecolor": "white",
           "landcolor": "white",
           "showlakes": true,
           "showland": true,
           "subunitcolor": "#C8D4E3"
          },
          "hoverlabel": {
           "align": "left"
          },
          "hovermode": "closest",
          "mapbox": {
           "style": "light"
          },
          "paper_bgcolor": "white",
          "plot_bgcolor": "white",
          "polar": {
           "angularaxis": {
            "gridcolor": "#EBF0F8",
            "linecolor": "#EBF0F8",
            "ticks": ""
           },
           "bgcolor": "white",
           "radialaxis": {
            "gridcolor": "#EBF0F8",
            "linecolor": "#EBF0F8",
            "ticks": ""
           }
          },
          "scene": {
           "xaxis": {
            "backgroundcolor": "white",
            "gridcolor": "#DFE8F3",
            "gridwidth": 2,
            "linecolor": "#EBF0F8",
            "showbackground": true,
            "ticks": "",
            "zerolinecolor": "#EBF0F8"
           },
           "yaxis": {
            "backgroundcolor": "white",
            "gridcolor": "#DFE8F3",
            "gridwidth": 2,
            "linecolor": "#EBF0F8",
            "showbackground": true,
            "ticks": "",
            "zerolinecolor": "#EBF0F8"
           },
           "zaxis": {
            "backgroundcolor": "white",
            "gridcolor": "#DFE8F3",
            "gridwidth": 2,
            "linecolor": "#EBF0F8",
            "showbackground": true,
            "ticks": "",
            "zerolinecolor": "#EBF0F8"
           }
          },
          "shapedefaults": {
           "line": {
            "color": "#2a3f5f"
           }
          },
          "ternary": {
           "aaxis": {
            "gridcolor": "#DFE8F3",
            "linecolor": "#A2B1C6",
            "ticks": ""
           },
           "baxis": {
            "gridcolor": "#DFE8F3",
            "linecolor": "#A2B1C6",
            "ticks": ""
           },
           "bgcolor": "white",
           "caxis": {
            "gridcolor": "#DFE8F3",
            "linecolor": "#A2B1C6",
            "ticks": ""
           }
          },
          "title": {
           "x": 0.05
          },
          "xaxis": {
           "automargin": true,
           "gridcolor": "#EBF0F8",
           "linecolor": "#EBF0F8",
           "ticks": "",
           "title": {
            "standoff": 15
           },
           "zerolinecolor": "#EBF0F8",
           "zerolinewidth": 2
          },
          "yaxis": {
           "automargin": true,
           "gridcolor": "#EBF0F8",
           "linecolor": "#EBF0F8",
           "ticks": "",
           "title": {
            "standoff": 15
           },
           "zerolinecolor": "#EBF0F8",
           "zerolinewidth": 2
          }
         }
        },
        "title": {
         "text": "Rolling volatility σ (window=2)"
        },
        "xaxis": {
         "title": {
          "text": "Date"
         }
        },
        "yaxis": {
         "title": {
          "text": "Std‑dev of returns"
         }
        }
       }
      }
     },
     "metadata": {},
     "output_type": "display_data"
    },
    {
     "data": {
      "application/vnd.plotly.v1+json": {
       "config": {
        "plotlyServerURL": "https://plot.ly"
       },
       "data": [
        {
         "mode": "lines",
         "name": "CVaR_95",
         "type": "scatter",
         "x": [
          "2015-03-31T23:59:59.999999999",
          "2015-04-30T23:59:59.999999999",
          "2015-05-31T23:59:59.999999999",
          "2015-06-30T23:59:59.999999999",
          "2015-07-31T23:59:59.999999999",
          "2015-08-31T23:59:59.999999999",
          "2015-09-30T23:59:59.999999999",
          "2015-10-31T23:59:59.999999999",
          "2015-11-30T23:59:59.999999999",
          "2015-12-31T23:59:59.999999999",
          "2016-01-31T23:59:59.999999999",
          "2016-02-29T23:59:59.999999999",
          "2016-03-31T23:59:59.999999999",
          "2016-04-30T23:59:59.999999999",
          "2016-05-31T23:59:59.999999999",
          "2016-06-30T23:59:59.999999999",
          "2016-07-31T23:59:59.999999999",
          "2016-08-31T23:59:59.999999999",
          "2016-09-30T23:59:59.999999999",
          "2016-10-31T23:59:59.999999999",
          "2016-11-30T23:59:59.999999999",
          "2016-12-31T23:59:59.999999999",
          "2017-01-31T23:59:59.999999999",
          "2017-02-28T23:59:59.999999999",
          "2017-03-31T23:59:59.999999999",
          "2017-04-30T23:59:59.999999999",
          "2017-05-31T23:59:59.999999999",
          "2017-06-30T23:59:59.999999999",
          "2017-07-31T23:59:59.999999999",
          "2017-08-31T23:59:59.999999999",
          "2017-09-30T23:59:59.999999999",
          "2017-10-31T23:59:59.999999999",
          "2017-11-30T23:59:59.999999999",
          "2017-12-31T23:59:59.999999999",
          "2018-01-31T23:59:59.999999999",
          "2018-02-28T23:59:59.999999999",
          "2018-03-31T23:59:59.999999999",
          "2018-04-30T23:59:59.999999999",
          "2018-05-31T23:59:59.999999999",
          "2018-06-30T23:59:59.999999999",
          "2018-07-31T23:59:59.999999999",
          "2018-08-31T23:59:59.999999999",
          "2018-09-30T23:59:59.999999999",
          "2018-10-31T23:59:59.999999999",
          "2018-11-30T23:59:59.999999999",
          "2018-12-31T23:59:59.999999999",
          "2019-01-31T23:59:59.999999999",
          "2019-02-28T23:59:59.999999999",
          "2019-03-31T23:59:59.999999999",
          "2019-04-30T23:59:59.999999999",
          "2019-05-31T23:59:59.999999999",
          "2019-06-30T23:59:59.999999999",
          "2019-07-31T23:59:59.999999999",
          "2019-08-31T23:59:59.999999999",
          "2019-09-30T23:59:59.999999999",
          "2019-10-31T23:59:59.999999999",
          "2019-11-30T23:59:59.999999999",
          "2019-12-31T23:59:59.999999999"
         ],
         "y": {
          "bdata": "AAAAAAAAAACTMN554psRwOGKbjpLQgvAgBGgoDExI8CgJmiydW3Lv5XFf5iRpNq/8T66OPWeJsAHDnTqLVfQP4Zd7NGr6PU/bTRi+LiGEUDIgUdyRqLrP7n4sA2zg/E/QTqBpxKz8z9F/6oJpKUsQPV54tE6mgVA/uaZSgfRCUBy5RAD8j0LQDyGsThu8CBAyg+WbMJBS0CvF+nxiMwWQEUbpvAvlChArGQfAJxKL0AFF/c7BYjkP4eMpks++tY/O4gA2YJg5j8aKdhL5FnmPzwj3vC8Yvw/UusKs006/D/5h1rx1oAOQONcxhhl5SxAQaDMR9SuAUBU7JQuuFkoQCk1+Ph7DiRA5WtAEYyHIEBfLS7KmbPfPyLyUW/EHPK/SKrTa5g/A8DFIraDXLoQwF5agxHCHPW/snYtO7ro2T+ZEhXSpdYBQAuw3cWyh/0/byK3V9XeB0CYWZe6mQz9P053Fo2J7Q1AdnZFWuDEtz9UwemXtOz8v3q7bOLZJt0/MhOGR7svCkDzo42ulekGQOMtXzXWwNE/EpFb4Vo00r8HDdkoDwH1P/3XTzA4UeY/h2iXjimv5T98AgGG+MgGQOOCik5PLgJAZ/Kjd73aG0A=",
          "dtype": "f8"
         }
        },
        {
         "mode": "lines",
         "name": "CVaR_90",
         "type": "scatter",
         "x": [
          "2015-03-31T23:59:59.999999999",
          "2015-04-30T23:59:59.999999999",
          "2015-05-31T23:59:59.999999999",
          "2015-06-30T23:59:59.999999999",
          "2015-07-31T23:59:59.999999999",
          "2015-08-31T23:59:59.999999999",
          "2015-09-30T23:59:59.999999999",
          "2015-10-31T23:59:59.999999999",
          "2015-11-30T23:59:59.999999999",
          "2015-12-31T23:59:59.999999999",
          "2016-01-31T23:59:59.999999999",
          "2016-02-29T23:59:59.999999999",
          "2016-03-31T23:59:59.999999999",
          "2016-04-30T23:59:59.999999999",
          "2016-05-31T23:59:59.999999999",
          "2016-06-30T23:59:59.999999999",
          "2016-07-31T23:59:59.999999999",
          "2016-08-31T23:59:59.999999999",
          "2016-09-30T23:59:59.999999999",
          "2016-10-31T23:59:59.999999999",
          "2016-11-30T23:59:59.999999999",
          "2016-12-31T23:59:59.999999999",
          "2017-01-31T23:59:59.999999999",
          "2017-02-28T23:59:59.999999999",
          "2017-03-31T23:59:59.999999999",
          "2017-04-30T23:59:59.999999999",
          "2017-05-31T23:59:59.999999999",
          "2017-06-30T23:59:59.999999999",
          "2017-07-31T23:59:59.999999999",
          "2017-08-31T23:59:59.999999999",
          "2017-09-30T23:59:59.999999999",
          "2017-10-31T23:59:59.999999999",
          "2017-11-30T23:59:59.999999999",
          "2017-12-31T23:59:59.999999999",
          "2018-01-31T23:59:59.999999999",
          "2018-02-28T23:59:59.999999999",
          "2018-03-31T23:59:59.999999999",
          "2018-04-30T23:59:59.999999999",
          "2018-05-31T23:59:59.999999999",
          "2018-06-30T23:59:59.999999999",
          "2018-07-31T23:59:59.999999999",
          "2018-08-31T23:59:59.999999999",
          "2018-09-30T23:59:59.999999999",
          "2018-10-31T23:59:59.999999999",
          "2018-11-30T23:59:59.999999999",
          "2018-12-31T23:59:59.999999999",
          "2019-01-31T23:59:59.999999999",
          "2019-02-28T23:59:59.999999999",
          "2019-03-31T23:59:59.999999999",
          "2019-04-30T23:59:59.999999999",
          "2019-05-31T23:59:59.999999999",
          "2019-06-30T23:59:59.999999999",
          "2019-07-31T23:59:59.999999999",
          "2019-08-31T23:59:59.999999999",
          "2019-09-30T23:59:59.999999999",
          "2019-10-31T23:59:59.999999999",
          "2019-11-30T23:59:59.999999999",
          "2019-12-31T23:59:59.999999999"
         ],
         "y": {
          "bdata": "AAAAAAAAAADno7tbrQfSP9j3X3A3y90/6gGd9MFU6r+ax07N3872v6Ldk9Ylfu2/kOH1AtaNEsD7hNYumunPPzzA/Z72h+o/E2WajfocD0Dfkz3O2CHwP0CNsXA8ZvQ/ri5pyZsQ7j+crW05sBngQIfHq7fl6iBAF9URo2j6AkDm8JKMdD4WQNMx+Xgb1yRAw/rnC9qFMkDTv7XH0iUoQF8i1JPqgzRAwYhoPPjVI0D1BP68BI3lP0kbihdFBeI/wcCHC8AQ6T9vo/2zS0zqPxwEl8wfLvw/I1dcYYxp/D8lGcSo8IYcQENfQbzPty5A7ZHEJcLgBkDwKoSZGTY5QJGGUr4DGCFA033xi62eEkAxHU2qZazcP6wY+751VfG/ET3ovbkHBsA0SrOQS5EPwLfaqWqFtfy/6mRhbdWt0j8WpLviPPAAQMe0nNWfr/c/tz+LLm9jBEDZ3gyHLBv6P4CGg3X9+QRAJ9WKLP1nk78dfdE1xpj6v/xh8iA72tw/AVJ+N7kUC0CQ+p7yYu0JQPwcHvgeztU/a6yKKhJev79oY9vBsJr5PwLDk1Ys+/A/ZUH11jqJAECy0kInRoELQN3Nj6KM0gdAWP5+A/rCFkA=",
          "dtype": "f8"
         }
        },
        {
         "mode": "lines",
         "name": "CVaR_80",
         "type": "scatter",
         "x": [
          "2015-03-31T23:59:59.999999999",
          "2015-04-30T23:59:59.999999999",
          "2015-05-31T23:59:59.999999999",
          "2015-06-30T23:59:59.999999999",
          "2015-07-31T23:59:59.999999999",
          "2015-08-31T23:59:59.999999999",
          "2015-09-30T23:59:59.999999999",
          "2015-10-31T23:59:59.999999999",
          "2015-11-30T23:59:59.999999999",
          "2015-12-31T23:59:59.999999999",
          "2016-01-31T23:59:59.999999999",
          "2016-02-29T23:59:59.999999999",
          "2016-03-31T23:59:59.999999999",
          "2016-04-30T23:59:59.999999999",
          "2016-05-31T23:59:59.999999999",
          "2016-06-30T23:59:59.999999999",
          "2016-07-31T23:59:59.999999999",
          "2016-08-31T23:59:59.999999999",
          "2016-09-30T23:59:59.999999999",
          "2016-10-31T23:59:59.999999999",
          "2016-11-30T23:59:59.999999999",
          "2016-12-31T23:59:59.999999999",
          "2017-01-31T23:59:59.999999999",
          "2017-02-28T23:59:59.999999999",
          "2017-03-31T23:59:59.999999999",
          "2017-04-30T23:59:59.999999999",
          "2017-05-31T23:59:59.999999999",
          "2017-06-30T23:59:59.999999999",
          "2017-07-31T23:59:59.999999999",
          "2017-08-31T23:59:59.999999999",
          "2017-09-30T23:59:59.999999999",
          "2017-10-31T23:59:59.999999999",
          "2017-11-30T23:59:59.999999999",
          "2017-12-31T23:59:59.999999999",
          "2018-01-31T23:59:59.999999999",
          "2018-02-28T23:59:59.999999999",
          "2018-03-31T23:59:59.999999999",
          "2018-04-30T23:59:59.999999999",
          "2018-05-31T23:59:59.999999999",
          "2018-06-30T23:59:59.999999999",
          "2018-07-31T23:59:59.999999999",
          "2018-08-31T23:59:59.999999999",
          "2018-09-30T23:59:59.999999999",
          "2018-10-31T23:59:59.999999999",
          "2018-11-30T23:59:59.999999999",
          "2018-12-31T23:59:59.999999999",
          "2019-01-31T23:59:59.999999999",
          "2019-02-28T23:59:59.999999999",
          "2019-03-31T23:59:59.999999999",
          "2019-04-30T23:59:59.999999999",
          "2019-05-31T23:59:59.999999999",
          "2019-06-30T23:59:59.999999999",
          "2019-07-31T23:59:59.999999999",
          "2019-08-31T23:59:59.999999999",
          "2019-09-30T23:59:59.999999999",
          "2019-10-31T23:59:59.999999999",
          "2019-11-30T23:59:59.999999999",
          "2019-12-31T23:59:59.999999999"
         ],
         "y": {
          "bdata": "AAAAAAAAAABVYulrV4m6vwADUrMPJwBAyspjH6IPzL8L37J73awTwEJdgU45hvC/gRyieb0y+r/Lq+ZnxRraP32/fxUiMeo/mqU9dnt6N0Bgcf5zsKr8P2N5jI+Ch/I/Ux0bCGTz9D/SYCVu9+glQKi5fcroWBlAXAOxs45KBUC5Eh0416IRQMJahldbXCJAvkxjQp+OUkABNKPkxLslQBndw4ef3EJAUbKJKL7hIECAiIffJnTlPxI7du4mTeI/eK8F2u9WIkC7hVX87k5kQJkko0KppClApcEZ0/DkHUBnrbjMKH0kQBE92b/4axJALi3MhQZMBUCaxa45d208QCKOuaidolJAKYrOtls5HUD0iLQ5QZXgPwnO5w7Zb/C/p1c8gxUOB8D1GrG8eycQwC2D1bRs0wfA7g64SuzSuj8kr1tRMRr7P9Rk9Uv2qfs/RcjJE8CYCUCc5dWvyEECQFOz5uz0YwZAEGun6Jt+vj8mjAyYdUf8v29tnuQn5dw/dEYJfTRqCkDUOR7yg3ULQC2YLda2btc/s7MRJR0Sib/p50i3SZ4BQLEoGXCOSfA/7ZOjHTCv+z8BbYyW1PQOQEdWJrPsuwZA/OMUmzNJIkA=",
          "dtype": "f8"
         }
        },
        {
         "mode": "lines",
         "name": "MVar",
         "type": "scatter",
         "x": [
          "2015-03-31T23:59:59.999999999",
          "2015-04-30T23:59:59.999999999",
          "2015-05-31T23:59:59.999999999",
          "2015-06-30T23:59:59.999999999",
          "2015-07-31T23:59:59.999999999",
          "2015-08-31T23:59:59.999999999",
          "2015-09-30T23:59:59.999999999",
          "2015-10-31T23:59:59.999999999",
          "2015-11-30T23:59:59.999999999",
          "2015-12-31T23:59:59.999999999",
          "2016-01-31T23:59:59.999999999",
          "2016-02-29T23:59:59.999999999",
          "2016-03-31T23:59:59.999999999",
          "2016-04-30T23:59:59.999999999",
          "2016-05-31T23:59:59.999999999",
          "2016-06-30T23:59:59.999999999",
          "2016-07-31T23:59:59.999999999",
          "2016-08-31T23:59:59.999999999",
          "2016-09-30T23:59:59.999999999",
          "2016-10-31T23:59:59.999999999",
          "2016-11-30T23:59:59.999999999",
          "2016-12-31T23:59:59.999999999",
          "2017-01-31T23:59:59.999999999",
          "2017-02-28T23:59:59.999999999",
          "2017-03-31T23:59:59.999999999",
          "2017-04-30T23:59:59.999999999",
          "2017-05-31T23:59:59.999999999",
          "2017-06-30T23:59:59.999999999",
          "2017-07-31T23:59:59.999999999",
          "2017-08-31T23:59:59.999999999",
          "2017-09-30T23:59:59.999999999",
          "2017-10-31T23:59:59.999999999",
          "2017-11-30T23:59:59.999999999",
          "2017-12-31T23:59:59.999999999",
          "2018-01-31T23:59:59.999999999",
          "2018-02-28T23:59:59.999999999",
          "2018-03-31T23:59:59.999999999",
          "2018-04-30T23:59:59.999999999",
          "2018-05-31T23:59:59.999999999",
          "2018-06-30T23:59:59.999999999",
          "2018-07-31T23:59:59.999999999",
          "2018-08-31T23:59:59.999999999",
          "2018-09-30T23:59:59.999999999",
          "2018-10-31T23:59:59.999999999",
          "2018-11-30T23:59:59.999999999",
          "2018-12-31T23:59:59.999999999",
          "2019-01-31T23:59:59.999999999",
          "2019-02-28T23:59:59.999999999",
          "2019-03-31T23:59:59.999999999",
          "2019-04-30T23:59:59.999999999",
          "2019-05-31T23:59:59.999999999",
          "2019-06-30T23:59:59.999999999",
          "2019-07-31T23:59:59.999999999",
          "2019-08-31T23:59:59.999999999",
          "2019-09-30T23:59:59.999999999",
          "2019-10-31T23:59:59.999999999",
          "2019-11-30T23:59:59.999999999",
          "2019-12-31T23:59:59.999999999"
         ],
         "y": {
          "bdata": "AAAAAAAAAADAVLk70WDqP0txXsg2nPY/g769hY7J3L+YeZwmU4Tzv5pm8loxauq/2041vBNoAcBixuSvTNLUP/JAE+eAPuY/+7xxS5DrE8DWl7CTg8TeP/QDgrd2TjZA7HyPKZhS7D+jOOOSDPkRQGJsH08B1QhAtWWES/o4CUAtkrv0C5YQQHW72UPtaBpAayNOkw8FKkBAhF/pehIXQAZQWx43gTNAqFNLBS9gJEAF+uYkykHlP+r5h/AjT+A/R4akl5+5AEDtATrX+jv/P+N0DdZxmghAnm/q2jVBAUDcfvyiHXYOQIB7CzqnXjNALr5mqYZYCECeqqU5vFwqQNykMuXt7T5Akr4yPmPKLkBKfEPy4e3hP8TLQcs5HfG/kz+mlkI9AsCSobwzxUoRwLZTTFGILP2/95JDL2Hy0D9n4CcXUE7/Py3pnD/tRP0/jPgLQtePBkCnqyYbHtj+P4XTSvIPTA1A/Zswb0wlsz/ovF3vb6j5v8hkuN4+at0/3sNi3QcvCkAlf1Cce7IGQFMjxbQqXNM/YuAq+j+qxL+DmYwLGnX/P3GtpsReVd8/9k+akyCqoz81XX1jXxT3P7VA8ZTWLwJA1oCIhaPdKEA=",
          "dtype": "f8"
         }
        },
        {
         "mode": "lines",
         "name": "TOP3",
         "type": "scatter",
         "x": [
          "2015-02-28T00:00:00.000000000",
          "2015-03-31T00:00:00.000000000",
          "2015-04-30T00:00:00.000000000",
          "2015-05-31T00:00:00.000000000",
          "2015-06-30T00:00:00.000000000",
          "2015-07-31T00:00:00.000000000",
          "2015-08-31T00:00:00.000000000",
          "2015-09-30T00:00:00.000000000",
          "2015-10-31T00:00:00.000000000",
          "2015-11-30T00:00:00.000000000",
          "2015-12-31T00:00:00.000000000",
          "2016-01-31T00:00:00.000000000",
          "2016-02-29T00:00:00.000000000",
          "2016-03-31T00:00:00.000000000",
          "2016-04-30T00:00:00.000000000",
          "2016-05-31T00:00:00.000000000",
          "2016-06-30T00:00:00.000000000",
          "2016-07-31T00:00:00.000000000",
          "2016-08-31T00:00:00.000000000",
          "2016-09-30T00:00:00.000000000",
          "2016-10-31T00:00:00.000000000",
          "2016-11-30T00:00:00.000000000",
          "2016-12-31T00:00:00.000000000",
          "2017-01-31T00:00:00.000000000",
          "2017-02-28T00:00:00.000000000",
          "2017-03-31T00:00:00.000000000",
          "2017-04-30T00:00:00.000000000",
          "2017-05-31T00:00:00.000000000",
          "2017-06-30T00:00:00.000000000",
          "2017-07-31T00:00:00.000000000",
          "2017-08-31T00:00:00.000000000",
          "2017-09-30T00:00:00.000000000",
          "2017-10-31T00:00:00.000000000",
          "2017-11-30T00:00:00.000000000",
          "2017-12-31T00:00:00.000000000",
          "2018-01-31T00:00:00.000000000",
          "2018-02-28T00:00:00.000000000",
          "2018-03-31T00:00:00.000000000",
          "2018-04-30T00:00:00.000000000",
          "2018-05-31T00:00:00.000000000",
          "2018-06-30T00:00:00.000000000",
          "2018-07-31T00:00:00.000000000",
          "2018-08-31T00:00:00.000000000",
          "2018-09-30T00:00:00.000000000",
          "2018-10-31T00:00:00.000000000",
          "2018-11-30T00:00:00.000000000",
          "2018-12-31T00:00:00.000000000",
          "2019-01-31T00:00:00.000000000",
          "2019-02-28T00:00:00.000000000",
          "2019-03-31T00:00:00.000000000",
          "2019-04-30T00:00:00.000000000",
          "2019-05-31T00:00:00.000000000",
          "2019-06-30T00:00:00.000000000",
          "2019-07-31T00:00:00.000000000",
          "2019-08-31T00:00:00.000000000",
          "2019-09-30T00:00:00.000000000",
          "2019-10-31T00:00:00.000000000",
          "2019-11-30T00:00:00.000000000",
          "2019-12-31T00:00:00.000000000"
         ],
         "y": {
          "bdata": "AAAAAAAAAADNO39mnqDmv0gdBXlpJtu/ZQj2W6hc4b+QouI/H54ZwMDLUgXBVsA/wi+sSk/vjz8zmEe92Ivzv+fS9klQXuE/A7Cepe6B8D/nKR7PYaK5v8IEQaK55uy/lRJJNMq+9L8j/NqFwz/eP9dPS7qVDgZAnkBiNhqs2D9HBtbqw+kDwOkbUA0b1AvAT2ImmNDwvL+rf4SanhoAQByONkvPrfc/S9n3kXMeFUCnTbiy5T/yP/k6k/0e9d4/4HdVYqmJ4T8PErXuxrP5P3cXAGSSveY/j0C5KRau5j/8XNutUQeqPxzoi57DUtm/DKmphjfI9T9gfT+N3JjiPzKhuOMg3NA/EzS1ZGe+KUCtKKSZ0sAWQFzessgTUfQ/CTl/WMg5s78ncxnXVLMOwJQmTfZ9WNQ/9Jfexeu87D+vs3kCsx/9Pwmf2/lvFeo/5UJKT0t09D9JjdSzbJISQDe3BSk6o9u/cgm628j1oD9s9n1lYcClPxRpIlk+Zt+/BTvqsA8M+j/CoMPaZ3EeQOPyjTCx0wJAW8FtUuzTvr9B83JfEw25v7Qhp9JKEfw/bSIcuCaW1D81nvdfQw/2v6sRp+VWwdk/QD3NvufD8z9AJOgaZDwGQA==",
          "dtype": "f8"
         }
        },
        {
         "mode": "lines",
         "name": "MSFT",
         "type": "scatter",
         "x": [
          "2015-03-31T23:59:59.999999999",
          "2015-04-30T23:59:59.999999999",
          "2015-05-31T23:59:59.999999999",
          "2015-06-30T23:59:59.999999999",
          "2015-07-31T23:59:59.999999999",
          "2015-08-31T23:59:59.999999999",
          "2015-09-30T23:59:59.999999999",
          "2015-10-31T23:59:59.999999999",
          "2015-11-30T23:59:59.999999999",
          "2015-12-31T23:59:59.999999999",
          "2016-01-31T23:59:59.999999999",
          "2016-02-29T23:59:59.999999999",
          "2016-03-31T23:59:59.999999999",
          "2016-04-30T23:59:59.999999999",
          "2016-05-31T23:59:59.999999999",
          "2016-06-30T23:59:59.999999999",
          "2016-07-31T23:59:59.999999999",
          "2016-08-31T23:59:59.999999999",
          "2016-09-30T23:59:59.999999999",
          "2016-10-31T23:59:59.999999999",
          "2016-11-30T23:59:59.999999999",
          "2016-12-31T23:59:59.999999999",
          "2017-01-31T23:59:59.999999999",
          "2017-02-28T23:59:59.999999999",
          "2017-03-31T23:59:59.999999999",
          "2017-04-30T23:59:59.999999999",
          "2017-05-31T23:59:59.999999999",
          "2017-06-30T23:59:59.999999999",
          "2017-07-31T23:59:59.999999999",
          "2017-08-31T23:59:59.999999999",
          "2017-09-30T23:59:59.999999999",
          "2017-10-31T23:59:59.999999999",
          "2017-11-30T23:59:59.999999999",
          "2017-12-31T23:59:59.999999999",
          "2018-01-31T23:59:59.999999999",
          "2018-02-28T23:59:59.999999999",
          "2018-03-31T23:59:59.999999999",
          "2018-04-30T23:59:59.999999999",
          "2018-05-31T23:59:59.999999999",
          "2018-06-30T23:59:59.999999999",
          "2018-07-31T23:59:59.999999999",
          "2018-08-31T23:59:59.999999999",
          "2018-09-30T23:59:59.999999999",
          "2018-10-31T23:59:59.999999999",
          "2018-11-30T23:59:59.999999999",
          "2018-12-31T23:59:59.999999999",
          "2019-01-31T23:59:59.999999999",
          "2019-02-28T23:59:59.999999999",
          "2019-03-31T23:59:59.999999999",
          "2019-04-30T23:59:59.999999999",
          "2019-05-31T23:59:59.999999999",
          "2019-06-30T23:59:59.999999999",
          "2019-07-31T23:59:59.999999999",
          "2019-08-31T23:59:59.999999999",
          "2019-09-30T23:59:59.999999999",
          "2019-10-31T23:59:59.999999999",
          "2019-11-30T23:59:59.999999999",
          "2019-12-31T23:59:59.999999999"
         ],
         "y": {
          "bdata": "AAAAAAAAAAAYr2I/RcfUPwiETMvOB98/HQqSfi0nCcAvYXNU3L49v3yOXN46vK2/UcDU8Xgr278pBsBIthfrPwtKMUf+/+8/DCxWx8PFCUDtOtBLrGLWPwuPpX4/Nuu/lCeEoolKpD/cm+Ue8ummv6vMuwbrasO/Qqvt10hEyj8q9HTOb0fXP2ZgH7olQu0/yHBgDIsu8D86tqzmjYrpP0QEqs1YDO4/iSWathFY8D9EwNJD2AUWQCdTHB8+xto/KtmtafOn1T8Bgpq78UsTQL/+++8QdgFARCqb1oVwwz93iLTcRtfbP42EBP5a8QFApdwEAwZe4T932Fe7SzjlPyjGzdbaxOs/8qWMxfg3EkDm1sDzfG3uP4rnwXvh2uE/vkJDz52BAMC+6jZhxlicvwtENMxpnvw/5yAZ+VXZ5D8KtYHzWEflP1MgXuEpoBZAHMyF+Gtl9T/c2Vd0Xb/Zv+MYc9SfNsi/1mHpJBH50L9wuGOlmYrWv7BX1jv1l/k/8aQKCpq7EUA1JCJUF5cAQPyHvCKDr84/LhjcWZ4JxD+dJkCiqDzxP1s0WcXdVA1AaLIHw5DrEUA5FiLgMsPzP0UyH2SE+wNA22uvLNiNE0A=",
          "dtype": "f8"
         }
        },
        {
         "mode": "lines",
         "name": "MRK",
         "type": "scatter",
         "x": [
          "2015-03-31T23:59:59.999999999",
          "2015-04-30T23:59:59.999999999",
          "2015-05-31T23:59:59.999999999",
          "2015-06-30T23:59:59.999999999",
          "2015-07-31T23:59:59.999999999",
          "2015-08-31T23:59:59.999999999",
          "2015-09-30T23:59:59.999999999",
          "2015-10-31T23:59:59.999999999",
          "2015-11-30T23:59:59.999999999",
          "2015-12-31T23:59:59.999999999",
          "2016-01-31T23:59:59.999999999",
          "2016-02-29T23:59:59.999999999",
          "2016-03-31T23:59:59.999999999",
          "2016-04-30T23:59:59.999999999",
          "2016-05-31T23:59:59.999999999",
          "2016-06-30T23:59:59.999999999",
          "2016-07-31T23:59:59.999999999",
          "2016-08-31T23:59:59.999999999",
          "2016-09-30T23:59:59.999999999",
          "2016-10-31T23:59:59.999999999",
          "2016-11-30T23:59:59.999999999",
          "2016-12-31T23:59:59.999999999",
          "2017-01-31T23:59:59.999999999",
          "2017-02-28T23:59:59.999999999",
          "2017-03-31T23:59:59.999999999",
          "2017-04-30T23:59:59.999999999",
          "2017-05-31T23:59:59.999999999",
          "2017-06-30T23:59:59.999999999",
          "2017-07-31T23:59:59.999999999",
          "2017-08-31T23:59:59.999999999",
          "2017-09-30T23:59:59.999999999",
          "2017-10-31T23:59:59.999999999",
          "2017-11-30T23:59:59.999999999",
          "2017-12-31T23:59:59.999999999",
          "2018-01-31T23:59:59.999999999",
          "2018-02-28T23:59:59.999999999",
          "2018-03-31T23:59:59.999999999",
          "2018-04-30T23:59:59.999999999",
          "2018-05-31T23:59:59.999999999",
          "2018-06-30T23:59:59.999999999",
          "2018-07-31T23:59:59.999999999",
          "2018-08-31T23:59:59.999999999",
          "2018-09-30T23:59:59.999999999",
          "2018-10-31T23:59:59.999999999",
          "2018-11-30T23:59:59.999999999",
          "2018-12-31T23:59:59.999999999",
          "2019-01-31T23:59:59.999999999",
          "2019-02-28T23:59:59.999999999",
          "2019-03-31T23:59:59.999999999",
          "2019-04-30T23:59:59.999999999",
          "2019-05-31T23:59:59.999999999",
          "2019-06-30T23:59:59.999999999",
          "2019-07-31T23:59:59.999999999",
          "2019-08-31T23:59:59.999999999",
          "2019-09-30T23:59:59.999999999",
          "2019-10-31T23:59:59.999999999",
          "2019-11-30T23:59:59.999999999",
          "2019-12-31T23:59:59.999999999"
         ],
         "y": {
          "bdata": "AAAAAAAAAADSF4+BjhnOP2dmfdO5CghAabIRnzYd1r+WDwU31FrKv4To6pmJ0dK/jxqHb0BdQMAsg1ukecG2P/HyEbBkWNk/5WnC+7Sx7L+OnbF2bPfqvzFs1APo1fG/GPVLtUcQ4D/W1UMELKQNQCSK8rLl4xBA0Yal56xlMECU9krScAsVQLom3+H0MvM/968xjYAR4z/yZfojn7/rv2j6aTWNYL6/VLrrHg2Hoj/Lj7k13+G9P7lLwr/PNiFAwhcd/uAuyT+hcOEdFAcDwNGX1w4zEdI/jywf4tTE1T+STuJ1GE/xv6isbsCQrOu/fy7Y8L6Z4T+HbJTkg8rlv9paCs4NmuW/ivrSbshD8D+/EPmVpe/2P2rmHS7s3cS/64mD+V9I5L8TDkHG/2PpP98FB3IJ8e0/4o/A4emUBEBQBmaS2yLyP/13AO4lRgBARjRx/lyRHkAFjRmk9YAtQMtLxkzRSwBAbK2Lzw4l0D/w8gcWxj0QwIDGSluWX9k/m/Hx5W7h8j/N6xOLqv/RvyOqKJN4zeG/U2lwHicu7D9+q2IL48HfP61ZFXm9eds/hKI7xk6IxD/aNdFgrzGjPzzNFSx3LfE/xwur03EA7j8=",
          "dtype": "f8"
         }
        },
        {
         "mode": "lines",
         "name": "GOOGL",
         "type": "scatter",
         "x": [
          "2015-03-31T23:59:59.999999999",
          "2015-04-30T23:59:59.999999999",
          "2015-05-31T23:59:59.999999999",
          "2015-06-30T23:59:59.999999999",
          "2015-07-31T23:59:59.999999999",
          "2015-08-31T23:59:59.999999999",
          "2015-09-30T23:59:59.999999999",
          "2015-10-31T23:59:59.999999999",
          "2015-11-30T23:59:59.999999999",
          "2015-12-31T23:59:59.999999999",
          "2016-01-31T23:59:59.999999999",
          "2016-02-29T23:59:59.999999999",
          "2016-03-31T23:59:59.999999999",
          "2016-04-30T23:59:59.999999999",
          "2016-05-31T23:59:59.999999999",
          "2016-06-30T23:59:59.999999999",
          "2016-07-31T23:59:59.999999999",
          "2016-08-31T23:59:59.999999999",
          "2016-09-30T23:59:59.999999999",
          "2016-10-31T23:59:59.999999999",
          "2016-11-30T23:59:59.999999999",
          "2016-12-31T23:59:59.999999999",
          "2017-01-31T23:59:59.999999999",
          "2017-02-28T23:59:59.999999999",
          "2017-03-31T23:59:59.999999999",
          "2017-04-30T23:59:59.999999999",
          "2017-05-31T23:59:59.999999999",
          "2017-06-30T23:59:59.999999999",
          "2017-07-31T23:59:59.999999999",
          "2017-08-31T23:59:59.999999999",
          "2017-09-30T23:59:59.999999999",
          "2017-10-31T23:59:59.999999999",
          "2017-11-30T23:59:59.999999999",
          "2017-12-31T23:59:59.999999999",
          "2018-01-31T23:59:59.999999999",
          "2018-02-28T23:59:59.999999999",
          "2018-03-31T23:59:59.999999999",
          "2018-04-30T23:59:59.999999999",
          "2018-05-31T23:59:59.999999999",
          "2018-06-30T23:59:59.999999999",
          "2018-07-31T23:59:59.999999999",
          "2018-08-31T23:59:59.999999999",
          "2018-09-30T23:59:59.999999999",
          "2018-10-31T23:59:59.999999999",
          "2018-11-30T23:59:59.999999999",
          "2018-12-31T23:59:59.999999999",
          "2019-01-31T23:59:59.999999999",
          "2019-02-28T23:59:59.999999999",
          "2019-03-31T23:59:59.999999999",
          "2019-04-30T23:59:59.999999999",
          "2019-05-31T23:59:59.999999999",
          "2019-06-30T23:59:59.999999999",
          "2019-07-31T23:59:59.999999999",
          "2019-08-31T23:59:59.999999999",
          "2019-09-30T23:59:59.999999999",
          "2019-10-31T23:59:59.999999999",
          "2019-11-30T23:59:59.999999999",
          "2019-12-31T23:59:59.999999999"
         ],
         "y": {
          "bdata": "AAAAAAAAAABxXy8+Ho4SwCqK1OylGQbAgtt0u2CSCMC58Vm/0KjkP7KaWgmcuuM/aY/qs96GSsDNe45CU8HiP/T6nhdexvE/a/76q0EvBUBtSd+Nzr6YvyJQguS8dvi/fTLLeuI/oT/6d9Zyuo6mv3voSM2PCbS/3DB4EqDWjb+/R3bqPX7PP7jG+7vp5+U/3zSb8I8N4j/d05Er/3n6P+mVjEDZ+9+/gbyXk11mzb/u+vLHW1gHQHAIELMxDyNASfCapoAy7D/TYJiefFjoPwTxm6w2WxNA1v5yMzbkqj+Ewlzi/MjYv6NvUMYhWAdAFl+JoBWJAkBFitEAGfr1P9REXvSnDuk/4LP6DWGB8D/Yn7J+c7ztP1MblA+f9co/e9byB0TBL8BwlzJDPdj0v2ExHm+mqtw/UWqbmZKR9j8wwHbz0kj1P1KkHJ2Tq+g/kSsSDngM378bEb/ltUjxvykavcnqZ9+/VXBNr5to2L9xSQUkwYK5P/bHbkIUDOc/wfP2kV5c5z9w4dT/RO37P7ATVWmxdNu/6ds1AsMS9L/COThZ4PjfP4y2UeoSX98/oAZ9NOvLpj9KywOrJGcfQDVhf10qbiJAvwx1BOxbFEA=",
          "dtype": "f8"
         }
        },
        {
         "mode": "lines",
         "name": "CVX",
         "type": "scatter",
         "x": [
          "2015-03-31T23:59:59.999999999",
          "2015-04-30T23:59:59.999999999",
          "2015-05-31T23:59:59.999999999",
          "2015-06-30T23:59:59.999999999",
          "2015-07-31T23:59:59.999999999",
          "2015-08-31T23:59:59.999999999",
          "2015-09-30T23:59:59.999999999",
          "2015-10-31T23:59:59.999999999",
          "2015-11-30T23:59:59.999999999",
          "2015-12-31T23:59:59.999999999",
          "2016-01-31T23:59:59.999999999",
          "2016-02-29T23:59:59.999999999",
          "2016-03-31T23:59:59.999999999",
          "2016-04-30T23:59:59.999999999",
          "2016-05-31T23:59:59.999999999",
          "2016-06-30T23:59:59.999999999",
          "2016-07-31T23:59:59.999999999",
          "2016-08-31T23:59:59.999999999",
          "2016-09-30T23:59:59.999999999",
          "2016-10-31T23:59:59.999999999",
          "2016-11-30T23:59:59.999999999",
          "2016-12-31T23:59:59.999999999",
          "2017-01-31T23:59:59.999999999",
          "2017-02-28T23:59:59.999999999",
          "2017-03-31T23:59:59.999999999",
          "2017-04-30T23:59:59.999999999",
          "2017-05-31T23:59:59.999999999",
          "2017-06-30T23:59:59.999999999",
          "2017-07-31T23:59:59.999999999",
          "2017-08-31T23:59:59.999999999",
          "2017-09-30T23:59:59.999999999",
          "2017-10-31T23:59:59.999999999",
          "2017-11-30T23:59:59.999999999",
          "2017-12-31T23:59:59.999999999",
          "2018-01-31T23:59:59.999999999",
          "2018-02-28T23:59:59.999999999",
          "2018-03-31T23:59:59.999999999",
          "2018-04-30T23:59:59.999999999",
          "2018-05-31T23:59:59.999999999",
          "2018-06-30T23:59:59.999999999",
          "2018-07-31T23:59:59.999999999",
          "2018-08-31T23:59:59.999999999",
          "2018-09-30T23:59:59.999999999",
          "2018-10-31T23:59:59.999999999",
          "2018-11-30T23:59:59.999999999",
          "2018-12-31T23:59:59.999999999",
          "2019-01-31T23:59:59.999999999",
          "2019-02-28T23:59:59.999999999",
          "2019-03-31T23:59:59.999999999",
          "2019-04-30T23:59:59.999999999",
          "2019-05-31T23:59:59.999999999",
          "2019-06-30T23:59:59.999999999",
          "2019-07-31T23:59:59.999999999",
          "2019-08-31T23:59:59.999999999",
          "2019-09-30T23:59:59.999999999",
          "2019-10-31T23:59:59.999999999",
          "2019-11-30T23:59:59.999999999",
          "2019-12-31T23:59:59.999999999"
         ],
         "y": {
          "bdata": "AAAAAAAAAADj8WlHjbnZP0dZCA5jVbS/U+4APiT1JMB2QhAYUkoVwK99xVaZMVDA9O0fuqRf9b8+pcuetALgP7wtMqJwHeg/iOrSNKYM178r82ZTe2n5v9UzvMbf0CvAaP24bo552z83XwnDccgAQJ72bI08TeA/Asy/8zog2D+v6kdwiEHHP99RZUE44R3A7TixXnx1tD+YZBVTNisVQIzPTPAE1fM/CwI61XYFIUDG9Py/beJ8PzBU5aNgtt6/yfPw+4GK3L8bj+6bVs3tv1UiLohRNvG/siK8jtXj2b9fLw+QaijwP1cwBjkr6Nc/EWCnxdJ/4D+qglDAC8DgP/4sol13Mc0/e+cjKKyXAUAL6f5z7sPnP1yxjp0MGOa/tnW4SzGo379kpfUltczwPy3BewU9zOM/8SLsKYhv1D8XjRp23oPjP5tevH+ckue/KyTfE6p5zL+IjB6b0MPUvz7EI9c4u7m/8wV4dGkWuL++29sljXbEvz+iBhyLNxlAhsnvHAAJEEDnR8peGTKvPxpVq6FugwDAHCBE9UPSyT9KSKeqo/bhPzlubHQPn/K/Br1TeAcH4L9Mzapb5UbVv/z0VFeB5NK/43NmYsrM9D8=",
          "dtype": "f8"
         }
        }
       ],
       "layout": {
        "legend": {
         "title": {
          "text": "Series"
         }
        },
        "template": {
         "data": {
          "bar": [
           {
            "error_x": {
             "color": "#2a3f5f"
            },
            "error_y": {
             "color": "#2a3f5f"
            },
            "marker": {
             "line": {
              "color": "white",
              "width": 0.5
             },
             "pattern": {
              "fillmode": "overlay",
              "size": 10,
              "solidity": 0.2
             }
            },
            "type": "bar"
           }
          ],
          "barpolar": [
           {
            "marker": {
             "line": {
              "color": "white",
              "width": 0.5
             },
             "pattern": {
              "fillmode": "overlay",
              "size": 10,
              "solidity": 0.2
             }
            },
            "type": "barpolar"
           }
          ],
          "carpet": [
           {
            "aaxis": {
             "endlinecolor": "#2a3f5f",
             "gridcolor": "#C8D4E3",
             "linecolor": "#C8D4E3",
             "minorgridcolor": "#C8D4E3",
             "startlinecolor": "#2a3f5f"
            },
            "baxis": {
             "endlinecolor": "#2a3f5f",
             "gridcolor": "#C8D4E3",
             "linecolor": "#C8D4E3",
             "minorgridcolor": "#C8D4E3",
             "startlinecolor": "#2a3f5f"
            },
            "type": "carpet"
           }
          ],
          "choropleth": [
           {
            "colorbar": {
             "outlinewidth": 0,
             "ticks": ""
            },
            "type": "choropleth"
           }
          ],
          "contour": [
           {
            "colorbar": {
             "outlinewidth": 0,
             "ticks": ""
            },
            "colorscale": [
             [
              0,
              "#0d0887"
             ],
             [
              0.1111111111111111,
              "#46039f"
             ],
             [
              0.2222222222222222,
              "#7201a8"
             ],
             [
              0.3333333333333333,
              "#9c179e"
             ],
             [
              0.4444444444444444,
              "#bd3786"
             ],
             [
              0.5555555555555556,
              "#d8576b"
             ],
             [
              0.6666666666666666,
              "#ed7953"
             ],
             [
              0.7777777777777778,
              "#fb9f3a"
             ],
             [
              0.8888888888888888,
              "#fdca26"
             ],
             [
              1,
              "#f0f921"
             ]
            ],
            "type": "contour"
           }
          ],
          "contourcarpet": [
           {
            "colorbar": {
             "outlinewidth": 0,
             "ticks": ""
            },
            "type": "contourcarpet"
           }
          ],
          "heatmap": [
           {
            "colorbar": {
             "outlinewidth": 0,
             "ticks": ""
            },
            "colorscale": [
             [
              0,
              "#0d0887"
             ],
             [
              0.1111111111111111,
              "#46039f"
             ],
             [
              0.2222222222222222,
              "#7201a8"
             ],
             [
              0.3333333333333333,
              "#9c179e"
             ],
             [
              0.4444444444444444,
              "#bd3786"
             ],
             [
              0.5555555555555556,
              "#d8576b"
             ],
             [
              0.6666666666666666,
              "#ed7953"
             ],
             [
              0.7777777777777778,
              "#fb9f3a"
             ],
             [
              0.8888888888888888,
              "#fdca26"
             ],
             [
              1,
              "#f0f921"
             ]
            ],
            "type": "heatmap"
           }
          ],
          "histogram": [
           {
            "marker": {
             "pattern": {
              "fillmode": "overlay",
              "size": 10,
              "solidity": 0.2
             }
            },
            "type": "histogram"
           }
          ],
          "histogram2d": [
           {
            "colorbar": {
             "outlinewidth": 0,
             "ticks": ""
            },
            "colorscale": [
             [
              0,
              "#0d0887"
             ],
             [
              0.1111111111111111,
              "#46039f"
             ],
             [
              0.2222222222222222,
              "#7201a8"
             ],
             [
              0.3333333333333333,
              "#9c179e"
             ],
             [
              0.4444444444444444,
              "#bd3786"
             ],
             [
              0.5555555555555556,
              "#d8576b"
             ],
             [
              0.6666666666666666,
              "#ed7953"
             ],
             [
              0.7777777777777778,
              "#fb9f3a"
             ],
             [
              0.8888888888888888,
              "#fdca26"
             ],
             [
              1,
              "#f0f921"
             ]
            ],
            "type": "histogram2d"
           }
          ],
          "histogram2dcontour": [
           {
            "colorbar": {
             "outlinewidth": 0,
             "ticks": ""
            },
            "colorscale": [
             [
              0,
              "#0d0887"
             ],
             [
              0.1111111111111111,
              "#46039f"
             ],
             [
              0.2222222222222222,
              "#7201a8"
             ],
             [
              0.3333333333333333,
              "#9c179e"
             ],
             [
              0.4444444444444444,
              "#bd3786"
             ],
             [
              0.5555555555555556,
              "#d8576b"
             ],
             [
              0.6666666666666666,
              "#ed7953"
             ],
             [
              0.7777777777777778,
              "#fb9f3a"
             ],
             [
              0.8888888888888888,
              "#fdca26"
             ],
             [
              1,
              "#f0f921"
             ]
            ],
            "type": "histogram2dcontour"
           }
          ],
          "mesh3d": [
           {
            "colorbar": {
             "outlinewidth": 0,
             "ticks": ""
            },
            "type": "mesh3d"
           }
          ],
          "parcoords": [
           {
            "line": {
             "colorbar": {
              "outlinewidth": 0,
              "ticks": ""
             }
            },
            "type": "parcoords"
           }
          ],
          "pie": [
           {
            "automargin": true,
            "type": "pie"
           }
          ],
          "scatter": [
           {
            "fillpattern": {
             "fillmode": "overlay",
             "size": 10,
             "solidity": 0.2
            },
            "type": "scatter"
           }
          ],
          "scatter3d": [
           {
            "line": {
             "colorbar": {
              "outlinewidth": 0,
              "ticks": ""
             }
            },
            "marker": {
             "colorbar": {
              "outlinewidth": 0,
              "ticks": ""
             }
            },
            "type": "scatter3d"
           }
          ],
          "scattercarpet": [
           {
            "marker": {
             "colorbar": {
              "outlinewidth": 0,
              "ticks": ""
             }
            },
            "type": "scattercarpet"
           }
          ],
          "scattergeo": [
           {
            "marker": {
             "colorbar": {
              "outlinewidth": 0,
              "ticks": ""
             }
            },
            "type": "scattergeo"
           }
          ],
          "scattergl": [
           {
            "marker": {
             "colorbar": {
              "outlinewidth": 0,
              "ticks": ""
             }
            },
            "type": "scattergl"
           }
          ],
          "scattermap": [
           {
            "marker": {
             "colorbar": {
              "outlinewidth": 0,
              "ticks": ""
             }
            },
            "type": "scattermap"
           }
          ],
          "scattermapbox": [
           {
            "marker": {
             "colorbar": {
              "outlinewidth": 0,
              "ticks": ""
             }
            },
            "type": "scattermapbox"
           }
          ],
          "scatterpolar": [
           {
            "marker": {
             "colorbar": {
              "outlinewidth": 0,
              "ticks": ""
             }
            },
            "type": "scatterpolar"
           }
          ],
          "scatterpolargl": [
           {
            "marker": {
             "colorbar": {
              "outlinewidth": 0,
              "ticks": ""
             }
            },
            "type": "scatterpolargl"
           }
          ],
          "scatterternary": [
           {
            "marker": {
             "colorbar": {
              "outlinewidth": 0,
              "ticks": ""
             }
            },
            "type": "scatterternary"
           }
          ],
          "surface": [
           {
            "colorbar": {
             "outlinewidth": 0,
             "ticks": ""
            },
            "colorscale": [
             [
              0,
              "#0d0887"
             ],
             [
              0.1111111111111111,
              "#46039f"
             ],
             [
              0.2222222222222222,
              "#7201a8"
             ],
             [
              0.3333333333333333,
              "#9c179e"
             ],
             [
              0.4444444444444444,
              "#bd3786"
             ],
             [
              0.5555555555555556,
              "#d8576b"
             ],
             [
              0.6666666666666666,
              "#ed7953"
             ],
             [
              0.7777777777777778,
              "#fb9f3a"
             ],
             [
              0.8888888888888888,
              "#fdca26"
             ],
             [
              1,
              "#f0f921"
             ]
            ],
            "type": "surface"
           }
          ],
          "table": [
           {
            "cells": {
             "fill": {
              "color": "#EBF0F8"
             },
             "line": {
              "color": "white"
             }
            },
            "header": {
             "fill": {
              "color": "#C8D4E3"
             },
             "line": {
              "color": "white"
             }
            },
            "type": "table"
           }
          ]
         },
         "layout": {
          "annotationdefaults": {
           "arrowcolor": "#2a3f5f",
           "arrowhead": 0,
           "arrowwidth": 1
          },
          "autotypenumbers": "strict",
          "coloraxis": {
           "colorbar": {
            "outlinewidth": 0,
            "ticks": ""
           }
          },
          "colorscale": {
           "diverging": [
            [
             0,
             "#8e0152"
            ],
            [
             0.1,
             "#c51b7d"
            ],
            [
             0.2,
             "#de77ae"
            ],
            [
             0.3,
             "#f1b6da"
            ],
            [
             0.4,
             "#fde0ef"
            ],
            [
             0.5,
             "#f7f7f7"
            ],
            [
             0.6,
             "#e6f5d0"
            ],
            [
             0.7,
             "#b8e186"
            ],
            [
             0.8,
             "#7fbc41"
            ],
            [
             0.9,
             "#4d9221"
            ],
            [
             1,
             "#276419"
            ]
           ],
           "sequential": [
            [
             0,
             "#0d0887"
            ],
            [
             0.1111111111111111,
             "#46039f"
            ],
            [
             0.2222222222222222,
             "#7201a8"
            ],
            [
             0.3333333333333333,
             "#9c179e"
            ],
            [
             0.4444444444444444,
             "#bd3786"
            ],
            [
             0.5555555555555556,
             "#d8576b"
            ],
            [
             0.6666666666666666,
             "#ed7953"
            ],
            [
             0.7777777777777778,
             "#fb9f3a"
            ],
            [
             0.8888888888888888,
             "#fdca26"
            ],
            [
             1,
             "#f0f921"
            ]
           ],
           "sequentialminus": [
            [
             0,
             "#0d0887"
            ],
            [
             0.1111111111111111,
             "#46039f"
            ],
            [
             0.2222222222222222,
             "#7201a8"
            ],
            [
             0.3333333333333333,
             "#9c179e"
            ],
            [
             0.4444444444444444,
             "#bd3786"
            ],
            [
             0.5555555555555556,
             "#d8576b"
            ],
            [
             0.6666666666666666,
             "#ed7953"
            ],
            [
             0.7777777777777778,
             "#fb9f3a"
            ],
            [
             0.8888888888888888,
             "#fdca26"
            ],
            [
             1,
             "#f0f921"
            ]
           ]
          },
          "colorway": [
           "#636efa",
           "#EF553B",
           "#00cc96",
           "#ab63fa",
           "#FFA15A",
           "#19d3f3",
           "#FF6692",
           "#B6E880",
           "#FF97FF",
           "#FECB52"
          ],
          "font": {
           "color": "#2a3f5f"
          },
          "geo": {
           "bgcolor": "white",
           "lakecolor": "white",
           "landcolor": "white",
           "showlakes": true,
           "showland": true,
           "subunitcolor": "#C8D4E3"
          },
          "hoverlabel": {
           "align": "left"
          },
          "hovermode": "closest",
          "mapbox": {
           "style": "light"
          },
          "paper_bgcolor": "white",
          "plot_bgcolor": "white",
          "polar": {
           "angularaxis": {
            "gridcolor": "#EBF0F8",
            "linecolor": "#EBF0F8",
            "ticks": ""
           },
           "bgcolor": "white",
           "radialaxis": {
            "gridcolor": "#EBF0F8",
            "linecolor": "#EBF0F8",
            "ticks": ""
           }
          },
          "scene": {
           "xaxis": {
            "backgroundcolor": "white",
            "gridcolor": "#DFE8F3",
            "gridwidth": 2,
            "linecolor": "#EBF0F8",
            "showbackground": true,
            "ticks": "",
            "zerolinecolor": "#EBF0F8"
           },
           "yaxis": {
            "backgroundcolor": "white",
            "gridcolor": "#DFE8F3",
            "gridwidth": 2,
            "linecolor": "#EBF0F8",
            "showbackground": true,
            "ticks": "",
            "zerolinecolor": "#EBF0F8"
           },
           "zaxis": {
            "backgroundcolor": "white",
            "gridcolor": "#DFE8F3",
            "gridwidth": 2,
            "linecolor": "#EBF0F8",
            "showbackground": true,
            "ticks": "",
            "zerolinecolor": "#EBF0F8"
           }
          },
          "shapedefaults": {
           "line": {
            "color": "#2a3f5f"
           }
          },
          "ternary": {
           "aaxis": {
            "gridcolor": "#DFE8F3",
            "linecolor": "#A2B1C6",
            "ticks": ""
           },
           "baxis": {
            "gridcolor": "#DFE8F3",
            "linecolor": "#A2B1C6",
            "ticks": ""
           },
           "bgcolor": "white",
           "caxis": {
            "gridcolor": "#DFE8F3",
            "linecolor": "#A2B1C6",
            "ticks": ""
           }
          },
          "title": {
           "x": 0.05
          },
          "xaxis": {
           "automargin": true,
           "gridcolor": "#EBF0F8",
           "linecolor": "#EBF0F8",
           "ticks": "",
           "title": {
            "standoff": 15
           },
           "zerolinecolor": "#EBF0F8",
           "zerolinewidth": 2
          },
          "yaxis": {
           "automargin": true,
           "gridcolor": "#EBF0F8",
           "linecolor": "#EBF0F8",
           "ticks": "",
           "title": {
            "standoff": 15
           },
           "zerolinecolor": "#EBF0F8",
           "zerolinewidth": 2
          }
         }
        },
        "title": {
         "text": "Rolling Sharpe ratio (window=2)"
        },
        "xaxis": {
         "title": {
          "text": "Date"
         }
        },
        "yaxis": {
         "title": {
          "text": "Sharpe ≈ μ/σ"
         }
        }
       }
      }
     },
     "metadata": {},
     "output_type": "display_data"
    },
    {
     "data": {
      "application/vnd.plotly.v1+json": {
       "config": {
        "plotlyServerURL": "https://plot.ly"
       },
       "data": [
        {
         "mode": "lines",
         "name": "CVaR_95",
         "type": "scatter",
         "x": [
          "2015-02-28T23:59:59.999999999",
          "2015-03-31T23:59:59.999999999",
          "2015-04-30T23:59:59.999999999",
          "2015-05-31T23:59:59.999999999",
          "2015-06-30T23:59:59.999999999",
          "2015-07-31T23:59:59.999999999",
          "2015-08-31T23:59:59.999999999",
          "2015-09-30T23:59:59.999999999",
          "2015-10-31T23:59:59.999999999",
          "2015-11-30T23:59:59.999999999",
          "2015-12-31T23:59:59.999999999",
          "2016-01-31T23:59:59.999999999",
          "2016-02-29T23:59:59.999999999",
          "2016-03-31T23:59:59.999999999",
          "2016-04-30T23:59:59.999999999",
          "2016-05-31T23:59:59.999999999",
          "2016-06-30T23:59:59.999999999",
          "2016-07-31T23:59:59.999999999",
          "2016-08-31T23:59:59.999999999",
          "2016-09-30T23:59:59.999999999",
          "2016-10-31T23:59:59.999999999",
          "2016-11-30T23:59:59.999999999",
          "2016-12-31T23:59:59.999999999",
          "2017-01-31T23:59:59.999999999",
          "2017-02-28T23:59:59.999999999",
          "2017-03-31T23:59:59.999999999",
          "2017-04-30T23:59:59.999999999",
          "2017-05-31T23:59:59.999999999",
          "2017-06-30T23:59:59.999999999",
          "2017-07-31T23:59:59.999999999",
          "2017-08-31T23:59:59.999999999",
          "2017-09-30T23:59:59.999999999",
          "2017-10-31T23:59:59.999999999",
          "2017-11-30T23:59:59.999999999",
          "2017-12-31T23:59:59.999999999",
          "2018-01-31T23:59:59.999999999",
          "2018-02-28T23:59:59.999999999",
          "2018-03-31T23:59:59.999999999",
          "2018-04-30T23:59:59.999999999",
          "2018-05-31T23:59:59.999999999",
          "2018-06-30T23:59:59.999999999",
          "2018-07-31T23:59:59.999999999",
          "2018-08-31T23:59:59.999999999",
          "2018-09-30T23:59:59.999999999",
          "2018-10-31T23:59:59.999999999",
          "2018-11-30T23:59:59.999999999",
          "2018-12-31T23:59:59.999999999",
          "2019-01-31T23:59:59.999999999",
          "2019-02-28T23:59:59.999999999",
          "2019-03-31T23:59:59.999999999",
          "2019-04-30T23:59:59.999999999",
          "2019-05-31T23:59:59.999999999",
          "2019-06-30T23:59:59.999999999",
          "2019-07-31T23:59:59.999999999",
          "2019-08-31T23:59:59.999999999",
          "2019-09-30T23:59:59.999999999",
          "2019-10-31T23:59:59.999999999",
          "2019-11-30T23:59:59.999999999",
          "2019-12-31T23:59:59.999999999"
         ],
         "y": {
          "bdata": "AAAAAAAAAACFLwoGqKiJvxMOHljAWJ6/hn1QrbdJrL/7c+6aPYu1v1sLwpX6tLG/fPfCAcRiwL9PfH/7kJzGv73PCGFvLbS/fKDFlVt7pr+YHDX+eyySv1QmHiZN3Y6/WFXc9aI2Zb8AAAAAAAAAAAAAAAAAAAAAAAAAAAAAAAAAAAAAAAAAAAAAAAAAAAAAAAAAAAAAAAAAAAAAAAAAAAAAAAAAAAAAAAAAAAAAAAAAAAAAAAAAALWeewJEjHy/AAAAAAAAAABj4j9MbiMfvwAAAAAAAAAAAAAAAAAAAAAAAAAAAAAAAAAAAAAAAAAAAAAAAAAAAAAAAAAAAAAAAAAAAAAAAAAAAAAAAAAAAAAAAAAAAAAAAFoghWiPkoS/kuqi4xguq7/6UIXxhXPAv0VcF12AxMa/1BI7VXWRyL9w/zDe0w7Cvx98l9Pp16K/AAAAAAAAAAAAAAAAAAAAAAAAAAAAAAAAAAAAAAAAAACUoDd3ZDumv2fQqAsoiq+/AAAAAAAAAAAAAAAAAAAAAAAAAAAAAAAAY1QoyW9ior/6XcHxl6iVvwAAAAAAAAAAer0mS9oVN78AAAAAAAAAAAAAAAAAAAAAAAAAAAAAAAAAAAAAAAAAAA==",
          "dtype": "f8"
         }
        },
        {
         "mode": "lines",
         "name": "CVaR_90",
         "type": "scatter",
         "x": [
          "2015-02-28T23:59:59.999999999",
          "2015-03-31T23:59:59.999999999",
          "2015-04-30T23:59:59.999999999",
          "2015-05-31T23:59:59.999999999",
          "2015-06-30T23:59:59.999999999",
          "2015-07-31T23:59:59.999999999",
          "2015-08-31T23:59:59.999999999",
          "2015-09-30T23:59:59.999999999",
          "2015-10-31T23:59:59.999999999",
          "2015-11-30T23:59:59.999999999",
          "2015-12-31T23:59:59.999999999",
          "2016-01-31T23:59:59.999999999",
          "2016-02-29T23:59:59.999999999",
          "2016-03-31T23:59:59.999999999",
          "2016-04-30T23:59:59.999999999",
          "2016-05-31T23:59:59.999999999",
          "2016-06-30T23:59:59.999999999",
          "2016-07-31T23:59:59.999999999",
          "2016-08-31T23:59:59.999999999",
          "2016-09-30T23:59:59.999999999",
          "2016-10-31T23:59:59.999999999",
          "2016-11-30T23:59:59.999999999",
          "2016-12-31T23:59:59.999999999",
          "2017-01-31T23:59:59.999999999",
          "2017-02-28T23:59:59.999999999",
          "2017-03-31T23:59:59.999999999",
          "2017-04-30T23:59:59.999999999",
          "2017-05-31T23:59:59.999999999",
          "2017-06-30T23:59:59.999999999",
          "2017-07-31T23:59:59.999999999",
          "2017-08-31T23:59:59.999999999",
          "2017-09-30T23:59:59.999999999",
          "2017-10-31T23:59:59.999999999",
          "2017-11-30T23:59:59.999999999",
          "2017-12-31T23:59:59.999999999",
          "2018-01-31T23:59:59.999999999",
          "2018-02-28T23:59:59.999999999",
          "2018-03-31T23:59:59.999999999",
          "2018-04-30T23:59:59.999999999",
          "2018-05-31T23:59:59.999999999",
          "2018-06-30T23:59:59.999999999",
          "2018-07-31T23:59:59.999999999",
          "2018-08-31T23:59:59.999999999",
          "2018-09-30T23:59:59.999999999",
          "2018-10-31T23:59:59.999999999",
          "2018-11-30T23:59:59.999999999",
          "2018-12-31T23:59:59.999999999",
          "2019-01-31T23:59:59.999999999",
          "2019-02-28T23:59:59.999999999",
          "2019-03-31T23:59:59.999999999",
          "2019-04-30T23:59:59.999999999",
          "2019-05-31T23:59:59.999999999",
          "2019-06-30T23:59:59.999999999",
          "2019-07-31T23:59:59.999999999",
          "2019-08-31T23:59:59.999999999",
          "2019-09-30T23:59:59.999999999",
          "2019-10-31T23:59:59.999999999",
          "2019-11-30T23:59:59.999999999",
          "2019-12-31T23:59:59.999999999"
         ],
         "y": {
          "bdata": "AAAAAAAAAACa/AcEqzxzvwAAAAAAAAAAHb+u661sYr+ehkMP3lagv2YMO7StTaW/iEe7XWJOvb8e0N08v/3Ev86zYQ3d+rC/hIvh/GqGrb8U5JffUg+nv0sU0gvb6KW/q5rAE5ziob8AAAAAAAAAAAAAAAAAAAAAAAAAAAAAAAAAAAAAAAAAAAAAAAAAAAAAAAAAAAAAAAAAAAAAAAAAAAAAAAAAAAAAAAAAAAAAAAAAAAAAAAAAAJnxmfSClm2/AAAAAAAAAAAAAAAAAAAAAAAAAAAAAAAAAAAAAAAAAAAAAAAAAAAAAAAAAAAAAAAAAAAAAAAAAAAAAAAAAAAAAAAAAAAAAAAAAAAAAAAAAAAAAAAAAAAAAGI7EcKuKYS/PcBHZZrKrL+lvXmHmsTAvyON2VLW5sa/ZZAdAa9ryb/PRYnIi4HDv4Xu9UNp6Ku/JwsUSr9KkL8AAAAAAAAAAAAAAAAAAAAAAAAAAAAAAABuy7lmc8uqv9PzHuQChLK/AAAAAAAAAAAAAAAAAAAAAAAAAAAAAAAAWPA375a8oL/kL4+tFlGFvwAAAAAAAAAAAAAAAAAAAAAAAAAAAAAAAAAAAAAAAAAAAAAAAAAAAAAAAAAAAAAAAA==",
          "dtype": "f8"
         }
        },
        {
         "mode": "lines",
         "name": "CVaR_80",
         "type": "scatter",
         "x": [
          "2015-02-28T23:59:59.999999999",
          "2015-03-31T23:59:59.999999999",
          "2015-04-30T23:59:59.999999999",
          "2015-05-31T23:59:59.999999999",
          "2015-06-30T23:59:59.999999999",
          "2015-07-31T23:59:59.999999999",
          "2015-08-31T23:59:59.999999999",
          "2015-09-30T23:59:59.999999999",
          "2015-10-31T23:59:59.999999999",
          "2015-11-30T23:59:59.999999999",
          "2015-12-31T23:59:59.999999999",
          "2016-01-31T23:59:59.999999999",
          "2016-02-29T23:59:59.999999999",
          "2016-03-31T23:59:59.999999999",
          "2016-04-30T23:59:59.999999999",
          "2016-05-31T23:59:59.999999999",
          "2016-06-30T23:59:59.999999999",
          "2016-07-31T23:59:59.999999999",
          "2016-08-31T23:59:59.999999999",
          "2016-09-30T23:59:59.999999999",
          "2016-10-31T23:59:59.999999999",
          "2016-11-30T23:59:59.999999999",
          "2016-12-31T23:59:59.999999999",
          "2017-01-31T23:59:59.999999999",
          "2017-02-28T23:59:59.999999999",
          "2017-03-31T23:59:59.999999999",
          "2017-04-30T23:59:59.999999999",
          "2017-05-31T23:59:59.999999999",
          "2017-06-30T23:59:59.999999999",
          "2017-07-31T23:59:59.999999999",
          "2017-08-31T23:59:59.999999999",
          "2017-09-30T23:59:59.999999999",
          "2017-10-31T23:59:59.999999999",
          "2017-11-30T23:59:59.999999999",
          "2017-12-31T23:59:59.999999999",
          "2018-01-31T23:59:59.999999999",
          "2018-02-28T23:59:59.999999999",
          "2018-03-31T23:59:59.999999999",
          "2018-04-30T23:59:59.999999999",
          "2018-05-31T23:59:59.999999999",
          "2018-06-30T23:59:59.999999999",
          "2018-07-31T23:59:59.999999999",
          "2018-08-31T23:59:59.999999999",
          "2018-09-30T23:59:59.999999999",
          "2018-10-31T23:59:59.999999999",
          "2018-11-30T23:59:59.999999999",
          "2018-12-31T23:59:59.999999999",
          "2019-01-31T23:59:59.999999999",
          "2019-02-28T23:59:59.999999999",
          "2019-03-31T23:59:59.999999999",
          "2019-04-30T23:59:59.999999999",
          "2019-05-31T23:59:59.999999999",
          "2019-06-30T23:59:59.999999999",
          "2019-07-31T23:59:59.999999999",
          "2019-08-31T23:59:59.999999999",
          "2019-09-30T23:59:59.999999999",
          "2019-10-31T23:59:59.999999999",
          "2019-11-30T23:59:59.999999999",
          "2019-12-31T23:59:59.999999999"
         ],
         "y": {
          "bdata": "AAAAAAAAAABo8QnZk6t7vwD1S+yt21y/AAAAAAAAAACOfWdQQVCUv3jvr/8InKG/l2hmUOVqvL+4rKpiisrBvyEfOf4Xc6O/IEux1xt2nr+d9EI1OmyVv3fMYyjHdpG/EOpal2JrUL8AAAAAAAAAAAAAAAAAAAAAAAAAAAAAAAAAAAAAAAAAAAAAAAAAAAAAAAAAAAAAAAAAAAAAAAAAAAAAAAAAAAAAAAAAAAAAAAAAAAAAAAAAAAk+7vPXAXG/AAAAAAAAAAAAAAAAAAAAAAAAAAAAAAAAAAAAAAAAAAAAAAAAAAAAAAAAAAAAAAAAAAAAAAAAAAAAAAAAAAAAAAAAAAAAAAAAAAAAAAAAAAAAAAAAAAAAAJzBf9E5AYK/loznyhWrrL9vpxBDtKnAv8K+z4Mbzsa/8WEKmahhyr/xksMnhrnFvxsVLu3qv7O/ACetaz9mob8AAAAAAAAAAAAAAAAAAAAAAAAAAAAAAAD0MNokHJenvyM0YLvPnbC/AAAAAAAAAAAAAAAAAAAAAAAAAAAAAAAA6NSOxb+cnb9JTbKcXlxdvwAAAAAAAAAAAAAAAAAAAAAAAAAAAAAAAAAAAAAAAAAAAAAAAAAAAAAAAAAAAAAAAA==",
          "dtype": "f8"
         }
        },
        {
         "mode": "lines",
         "name": "MVar",
         "type": "scatter",
         "x": [
          "2015-02-28T23:59:59.999999999",
          "2015-03-31T23:59:59.999999999",
          "2015-04-30T23:59:59.999999999",
          "2015-05-31T23:59:59.999999999",
          "2015-06-30T23:59:59.999999999",
          "2015-07-31T23:59:59.999999999",
          "2015-08-31T23:59:59.999999999",
          "2015-09-30T23:59:59.999999999",
          "2015-10-31T23:59:59.999999999",
          "2015-11-30T23:59:59.999999999",
          "2015-12-31T23:59:59.999999999",
          "2016-01-31T23:59:59.999999999",
          "2016-02-29T23:59:59.999999999",
          "2016-03-31T23:59:59.999999999",
          "2016-04-30T23:59:59.999999999",
          "2016-05-31T23:59:59.999999999",
          "2016-06-30T23:59:59.999999999",
          "2016-07-31T23:59:59.999999999",
          "2016-08-31T23:59:59.999999999",
          "2016-09-30T23:59:59.999999999",
          "2016-10-31T23:59:59.999999999",
          "2016-11-30T23:59:59.999999999",
          "2016-12-31T23:59:59.999999999",
          "2017-01-31T23:59:59.999999999",
          "2017-02-28T23:59:59.999999999",
          "2017-03-31T23:59:59.999999999",
          "2017-04-30T23:59:59.999999999",
          "2017-05-31T23:59:59.999999999",
          "2017-06-30T23:59:59.999999999",
          "2017-07-31T23:59:59.999999999",
          "2017-08-31T23:59:59.999999999",
          "2017-09-30T23:59:59.999999999",
          "2017-10-31T23:59:59.999999999",
          "2017-11-30T23:59:59.999999999",
          "2017-12-31T23:59:59.999999999",
          "2018-01-31T23:59:59.999999999",
          "2018-02-28T23:59:59.999999999",
          "2018-03-31T23:59:59.999999999",
          "2018-04-30T23:59:59.999999999",
          "2018-05-31T23:59:59.999999999",
          "2018-06-30T23:59:59.999999999",
          "2018-07-31T23:59:59.999999999",
          "2018-08-31T23:59:59.999999999",
          "2018-09-30T23:59:59.999999999",
          "2018-10-31T23:59:59.999999999",
          "2018-11-30T23:59:59.999999999",
          "2018-12-31T23:59:59.999999999",
          "2019-01-31T23:59:59.999999999",
          "2019-02-28T23:59:59.999999999",
          "2019-03-31T23:59:59.999999999",
          "2019-04-30T23:59:59.999999999",
          "2019-05-31T23:59:59.999999999",
          "2019-06-30T23:59:59.999999999",
          "2019-07-31T23:59:59.999999999",
          "2019-08-31T23:59:59.999999999",
          "2019-09-30T23:59:59.999999999",
          "2019-10-31T23:59:59.999999999",
          "2019-11-30T23:59:59.999999999",
          "2019-12-31T23:59:59.999999999"
         ],
         "y": {
          "bdata": "AAAAAAAAAAAAAAAAAAAAAAAAAAAAAAAAAAAAAAAAAAB2Fy91Hd+YvxPpGWYVVJ+/7wSwBW2ZvL/BjOdonSXDv2E02cdkY6q/6ZBlVdDdqr/xCRGMszmrv74UP2PfV6m/TeDqyYBUp79eI2QdgvuEvwAAAAAAAAAAAAAAAAAAAAAAAAAAAAAAAAAAAAAAAAAAAAAAAAAAAAAAAAAAAAAAAAAAAAAAAAAAAAAAAAAAAAAAAAAAAAAAAD8h5P6RS3G/AAAAAAAAAAAAAAAAAAAAAAAAAAAAAAAAAAAAAAAAAAAAAAAAAAAAAAAAAAAAAAAAAAAAAAAAAAAAAAAAAAAAAAAAAAAAAAAAAAAAAAAAAAAAAAAAAAAAAPO3bXwm8IC/tGaEuu/QqL9tyRHL7Ci/v25XhxAMzcW/AzzgX7RkyL/t+qPpCdbCv75NgfgEaqm/Mmkt4YuAWb8AAAAAAAAAAAAAAAAAAAAAAAAAAAAAAAA4ewx+pfOnvxZzY76nZ7C/AAAAAAAAAAAAAAAAAAAAAAAAAAAAAAAATAfyWLNdoL8ItVArw6aJvwAAAAAAAAAAYO0/of++f78AAAAAAAAAAAAAAAAAAAAAAAAAAAAAAAAAAAAAAAAAAA==",
          "dtype": "f8"
         }
        },
        {
         "mode": "lines",
         "name": "TOP3",
         "type": "scatter",
         "x": [
          "2015-01-31T00:00:00.000000000",
          "2015-02-28T00:00:00.000000000",
          "2015-03-31T00:00:00.000000000",
          "2015-04-30T00:00:00.000000000",
          "2015-05-31T00:00:00.000000000",
          "2015-06-30T00:00:00.000000000",
          "2015-07-31T00:00:00.000000000",
          "2015-08-31T00:00:00.000000000",
          "2015-09-30T00:00:00.000000000",
          "2015-10-31T00:00:00.000000000",
          "2015-11-30T00:00:00.000000000",
          "2015-12-31T00:00:00.000000000",
          "2016-01-31T00:00:00.000000000",
          "2016-02-29T00:00:00.000000000",
          "2016-03-31T00:00:00.000000000",
          "2016-04-30T00:00:00.000000000",
          "2016-05-31T00:00:00.000000000",
          "2016-06-30T00:00:00.000000000",
          "2016-07-31T00:00:00.000000000",
          "2016-08-31T00:00:00.000000000",
          "2016-09-30T00:00:00.000000000",
          "2016-10-31T00:00:00.000000000",
          "2016-11-30T00:00:00.000000000",
          "2016-12-31T00:00:00.000000000",
          "2017-01-31T00:00:00.000000000",
          "2017-02-28T00:00:00.000000000",
          "2017-03-31T00:00:00.000000000",
          "2017-04-30T00:00:00.000000000",
          "2017-05-31T00:00:00.000000000",
          "2017-06-30T00:00:00.000000000",
          "2017-07-31T00:00:00.000000000",
          "2017-08-31T00:00:00.000000000",
          "2017-09-30T00:00:00.000000000",
          "2017-10-31T00:00:00.000000000",
          "2017-11-30T00:00:00.000000000",
          "2017-12-31T00:00:00.000000000",
          "2018-01-31T00:00:00.000000000",
          "2018-02-28T00:00:00.000000000",
          "2018-03-31T00:00:00.000000000",
          "2018-04-30T00:00:00.000000000",
          "2018-05-31T00:00:00.000000000",
          "2018-06-30T00:00:00.000000000",
          "2018-07-31T00:00:00.000000000",
          "2018-08-31T00:00:00.000000000",
          "2018-09-30T00:00:00.000000000",
          "2018-10-31T00:00:00.000000000",
          "2018-11-30T00:00:00.000000000",
          "2018-12-31T00:00:00.000000000",
          "2019-01-31T00:00:00.000000000",
          "2019-02-28T00:00:00.000000000",
          "2019-03-31T00:00:00.000000000",
          "2019-04-30T00:00:00.000000000",
          "2019-05-31T00:00:00.000000000",
          "2019-06-30T00:00:00.000000000",
          "2019-07-31T00:00:00.000000000",
          "2019-08-31T00:00:00.000000000",
          "2019-09-30T00:00:00.000000000",
          "2019-10-31T00:00:00.000000000",
          "2019-11-30T00:00:00.000000000",
          "2019-12-31T00:00:00.000000000"
         ],
         "y": {
          "bdata": "AAAAAAAAAAAAAAAAAAAAAFaumSa1156/OdTSjNtcl79tp6R7Pia0v2o0gkH79L6/smVn5e0ZsL+sdBQGFkG/v83qhexIhcG//mQjcrvmmr+F613b3F9ovy0aQuP2w6G/+ENo4xuuo7+8JEl/timqvwAAAAAAAAAAAAAAAAAAAAAFctFRqaKHv8AxXjV2YqC/e+ewYmctp7+oAwLpHFOiv20g6IOXO5C/GYU8Uve8gb8AAAAAAAAAAAAAAAAAAAAAImFJKF5Vf78AAAAAAAAAAAAAAAAAAAAAAAAAAAAAAAAAAAAAAAAAAOpIn3KJVaa/CnD82VBNoL8AAAAAAAAAAHVbPRf+MG+/AAAAAAAAAAAAAAAAAAAAAAAAAAAAAAAAAAAAAAAAAAC9gon+XZOqv+piDvI097W/AAAAAAAAAAAAAAAAAAAAAAAAAAAAAAAAAAAAAAAAAAAAAAAAAAAAAAAAAAAAAAAA4E5zeKYtr78AAAAAAAAAALVFyCiQXK6/I8GIuPYyqb91f0X0fO+XvwAAAAAAAAAAAAAAAAAAAADX12sTufu1v5E1d5MsGJu/AAAAAAAAAAAUk8ocXDeFv29nvYAX+ou/Zz9iIaGDW78AAAAAAAAAAAAAAAAAAAAA",
          "dtype": "f8"
         }
        },
        {
         "mode": "lines",
         "name": "MSFT",
         "type": "scatter",
         "x": [
          "2015-02-28T23:59:59.999999999",
          "2015-03-31T23:59:59.999999999",
          "2015-04-30T23:59:59.999999999",
          "2015-05-31T23:59:59.999999999",
          "2015-06-30T23:59:59.999999999",
          "2015-07-31T23:59:59.999999999",
          "2015-08-31T23:59:59.999999999",
          "2015-09-30T23:59:59.999999999",
          "2015-10-31T23:59:59.999999999",
          "2015-11-30T23:59:59.999999999",
          "2015-12-31T23:59:59.999999999",
          "2016-01-31T23:59:59.999999999",
          "2016-02-29T23:59:59.999999999",
          "2016-03-31T23:59:59.999999999",
          "2016-04-30T23:59:59.999999999",
          "2016-05-31T23:59:59.999999999",
          "2016-06-30T23:59:59.999999999",
          "2016-07-31T23:59:59.999999999",
          "2016-08-31T23:59:59.999999999",
          "2016-09-30T23:59:59.999999999",
          "2016-10-31T23:59:59.999999999",
          "2016-11-30T23:59:59.999999999",
          "2016-12-31T23:59:59.999999999",
          "2017-01-31T23:59:59.999999999",
          "2017-02-28T23:59:59.999999999",
          "2017-03-31T23:59:59.999999999",
          "2017-04-30T23:59:59.999999999",
          "2017-05-31T23:59:59.999999999",
          "2017-06-30T23:59:59.999999999",
          "2017-07-31T23:59:59.999999999",
          "2017-08-31T23:59:59.999999999",
          "2017-09-30T23:59:59.999999999",
          "2017-10-31T23:59:59.999999999",
          "2017-11-30T23:59:59.999999999",
          "2017-12-31T23:59:59.999999999",
          "2018-01-31T23:59:59.999999999",
          "2018-02-28T23:59:59.999999999",
          "2018-03-31T23:59:59.999999999",
          "2018-04-30T23:59:59.999999999",
          "2018-05-31T23:59:59.999999999",
          "2018-06-30T23:59:59.999999999",
          "2018-07-31T23:59:59.999999999",
          "2018-08-31T23:59:59.999999999",
          "2018-09-30T23:59:59.999999999",
          "2018-10-31T23:59:59.999999999",
          "2018-11-30T23:59:59.999999999",
          "2018-12-31T23:59:59.999999999",
          "2019-01-31T23:59:59.999999999",
          "2019-02-28T23:59:59.999999999",
          "2019-03-31T23:59:59.999999999",
          "2019-04-30T23:59:59.999999999",
          "2019-05-31T23:59:59.999999999",
          "2019-06-30T23:59:59.999999999",
          "2019-07-31T23:59:59.999999999",
          "2019-08-31T23:59:59.999999999",
          "2019-09-30T23:59:59.999999999",
          "2019-10-31T23:59:59.999999999",
          "2019-11-30T23:59:59.999999999",
          "2019-12-31T23:59:59.999999999"
         ],
         "y": {
          "bdata": "AAAAAAAAAAAjU3D8nJ+yvwAAAAAAAAAA1Gsor6G8or8jymsor6G3v7uG8hrKa6S/K6+hvIbyur/dUF5DeQ23vwAAAAAAAAAAAAAAAAAAAAAAAAAAAAAAABbMwTIHy3y/mVNxTsU5tb+tJkGdBHVyvyyetXjW4rm/JW7BuAXjpr8rPs34NOOzvwAAAAAAAAAAAAAAAAAAAAAAAAAAAAAAAAAAAAAAAAAAAAAAAAAAAAAAAAAAAAAAAAAAAAAAAAAAs/Fr2nQ5hb8AAAAAAAAAAAAAAAAAAAAAAAAAAAAAAAAw3d7IW6+KvwAAAAAAAAAAAAAAAAAAAABg+uqNc61uvwAAAAAAAAAAAAAAAAAAAAAAAAAAAAAAAAAAAAAAAAAAH10WKp66ir9ZaYL4jSekv2YlpMQWD5C/AAAAAAAAAADEEC3rDhBjvwAAAAAAAAAAAAAAAAAAAAAAAAAAAAAAACoKYvQC7LC/DebM9mYon7+vmExqn6a8v5Cu8v7KP7a/x89UX3HzlL8AAAAAAAAAAAAAAAAAAAAAzKA9bgIhq78AAAAAAAAAAAAAAAAAAAAAAAAAAAAAAAAAAAAAAAAAAAAAAAAAAAAAAAAAAAAAAAAAAAAAAAAAAA==",
          "dtype": "f8"
         }
        },
        {
         "mode": "lines",
         "name": "MRK",
         "type": "scatter",
         "x": [
          "2015-02-28T23:59:59.999999999",
          "2015-03-31T23:59:59.999999999",
          "2015-04-30T23:59:59.999999999",
          "2015-05-31T23:59:59.999999999",
          "2015-06-30T23:59:59.999999999",
          "2015-07-31T23:59:59.999999999",
          "2015-08-31T23:59:59.999999999",
          "2015-09-30T23:59:59.999999999",
          "2015-10-31T23:59:59.999999999",
          "2015-11-30T23:59:59.999999999",
          "2015-12-31T23:59:59.999999999",
          "2016-01-31T23:59:59.999999999",
          "2016-02-29T23:59:59.999999999",
          "2016-03-31T23:59:59.999999999",
          "2016-04-30T23:59:59.999999999",
          "2016-05-31T23:59:59.999999999",
          "2016-06-30T23:59:59.999999999",
          "2016-07-31T23:59:59.999999999",
          "2016-08-31T23:59:59.999999999",
          "2016-09-30T23:59:59.999999999",
          "2016-10-31T23:59:59.999999999",
          "2016-11-30T23:59:59.999999999",
          "2016-12-31T23:59:59.999999999",
          "2017-01-31T23:59:59.999999999",
          "2017-02-28T23:59:59.999999999",
          "2017-03-31T23:59:59.999999999",
          "2017-04-30T23:59:59.999999999",
          "2017-05-31T23:59:59.999999999",
          "2017-06-30T23:59:59.999999999",
          "2017-07-31T23:59:59.999999999",
          "2017-08-31T23:59:59.999999999",
          "2017-09-30T23:59:59.999999999",
          "2017-10-31T23:59:59.999999999",
          "2017-11-30T23:59:59.999999999",
          "2017-12-31T23:59:59.999999999",
          "2018-01-31T23:59:59.999999999",
          "2018-02-28T23:59:59.999999999",
          "2018-03-31T23:59:59.999999999",
          "2018-04-30T23:59:59.999999999",
          "2018-05-31T23:59:59.999999999",
          "2018-06-30T23:59:59.999999999",
          "2018-07-31T23:59:59.999999999",
          "2018-08-31T23:59:59.999999999",
          "2018-09-30T23:59:59.999999999",
          "2018-10-31T23:59:59.999999999",
          "2018-11-30T23:59:59.999999999",
          "2018-12-31T23:59:59.999999999",
          "2019-01-31T23:59:59.999999999",
          "2019-02-28T23:59:59.999999999",
          "2019-03-31T23:59:59.999999999",
          "2019-04-30T23:59:59.999999999",
          "2019-05-31T23:59:59.999999999",
          "2019-06-30T23:59:59.999999999",
          "2019-07-31T23:59:59.999999999",
          "2019-08-31T23:59:59.999999999",
          "2019-09-30T23:59:59.999999999",
          "2019-10-31T23:59:59.999999999",
          "2019-11-30T23:59:59.999999999",
          "2019-12-31T23:59:59.999999999"
         ],
         "y": {
          "bdata": "AAAAAAAAAADDJfxFM4eSvwAAAAAAAAAAAAAAAAAAAABqIYO3uaqwvzN3CGDZOaC/KZxzhwCWvb9E99RXRC/Iv6p9qbLaMLq/3nakoYGOwL8LEMZWGPTAv49gb9cTecW//9YWy2dxxr/5y2HN8cbAv1Fcv+r2cLm/pVFuq9hxs79Insv9Dpqrv1dSNiiIyKK/AAAAAAAAAAC0QWr5HaF4v4dayWkyl7C/hAwpwGb/mb+nw6sl5fuvv4QMKcBm/4m/AAAAAAAAAACkACkCsxiivwSnR5Jjjau/2xW31HXNh7/SHLL+H7ebv0FNA3fY+Z6/aDjYT1FNn7+B3jCJirGcvxgLcGsU88S/JdENBWSaxL9RnJ19xqrCv7f7mc7bt7m/fI9AUBekxr+aLgEL4ibGv8C7crnqObu/If/lDZOouL+TIUEy9xe0vwAAAAAAAAAAAAAAAAAAAAAAAAAAAAAAAAAAAAAAAAAAAAAAAAAAAAAFgxvf++Giv7Q2cDyerK+/AAAAAAAAAAAAAAAAAAAAAFI9knOqcKu/4qKes0pXqL8AAAAAAAAAAPRPARVQAYW/AAAAAAAAAAAkOE1FKBObvwAAAAAAAAAAAAAAAAAAAAAAAAAAAAAAAA==",
          "dtype": "f8"
         }
        },
        {
         "mode": "lines",
         "name": "GOOGL",
         "type": "scatter",
         "x": [
          "2015-02-28T23:59:59.999999999",
          "2015-03-31T23:59:59.999999999",
          "2015-04-30T23:59:59.999999999",
          "2015-05-31T23:59:59.999999999",
          "2015-06-30T23:59:59.999999999",
          "2015-07-31T23:59:59.999999999",
          "2015-08-31T23:59:59.999999999",
          "2015-09-30T23:59:59.999999999",
          "2015-10-31T23:59:59.999999999",
          "2015-11-30T23:59:59.999999999",
          "2015-12-31T23:59:59.999999999",
          "2016-01-31T23:59:59.999999999",
          "2016-02-29T23:59:59.999999999",
          "2016-03-31T23:59:59.999999999",
          "2016-04-30T23:59:59.999999999",
          "2016-05-31T23:59:59.999999999",
          "2016-06-30T23:59:59.999999999",
          "2016-07-31T23:59:59.999999999",
          "2016-08-31T23:59:59.999999999",
          "2016-09-30T23:59:59.999999999",
          "2016-10-31T23:59:59.999999999",
          "2016-11-30T23:59:59.999999999",
          "2016-12-31T23:59:59.999999999",
          "2017-01-31T23:59:59.999999999",
          "2017-02-28T23:59:59.999999999",
          "2017-03-31T23:59:59.999999999",
          "2017-04-30T23:59:59.999999999",
          "2017-05-31T23:59:59.999999999",
          "2017-06-30T23:59:59.999999999",
          "2017-07-31T23:59:59.999999999",
          "2017-08-31T23:59:59.999999999",
          "2017-09-30T23:59:59.999999999",
          "2017-10-31T23:59:59.999999999",
          "2017-11-30T23:59:59.999999999",
          "2017-12-31T23:59:59.999999999",
          "2018-01-31T23:59:59.999999999",
          "2018-02-28T23:59:59.999999999",
          "2018-03-31T23:59:59.999999999",
          "2018-04-30T23:59:59.999999999",
          "2018-05-31T23:59:59.999999999",
          "2018-06-30T23:59:59.999999999",
          "2018-07-31T23:59:59.999999999",
          "2018-08-31T23:59:59.999999999",
          "2018-09-30T23:59:59.999999999",
          "2018-10-31T23:59:59.999999999",
          "2018-11-30T23:59:59.999999999",
          "2018-12-31T23:59:59.999999999",
          "2019-01-31T23:59:59.999999999",
          "2019-02-28T23:59:59.999999999",
          "2019-03-31T23:59:59.999999999",
          "2019-04-30T23:59:59.999999999",
          "2019-05-31T23:59:59.999999999",
          "2019-06-30T23:59:59.999999999",
          "2019-07-31T23:59:59.999999999",
          "2019-08-31T23:59:59.999999999",
          "2019-09-30T23:59:59.999999999",
          "2019-10-31T23:59:59.999999999",
          "2019-11-30T23:59:59.999999999",
          "2019-12-31T23:59:59.999999999"
         ],
         "y": {
          "bdata": "AAAAAAAAAABSGAQPNx+NvzGI83wfHpm/CmckMFtOn79q5JriPpGkvwAAAAAAAAAA2rMNXkuFjr93hvjj1uWdvwAAAAAAAAAAAAAAAAAAAAAAAAAAAAAAAGFvgslN2ZW/VOHQVZQBtL+ZqACzML6Tv2593w5nGbe/xDZgbWk3o7/yp6QlMnu4vwAAAAAAAAAAXWk2++GPYL8AAAAAAAAAAAAAAAAAAAAAXoUifiV/pb+OpnTboQCWvwAAAAAAAAAAAAAAAAAAAAAAAAAAAAAAAAAAAAAAAAAAAAAAAAAAAAA1hdF/oMatv6H8v51plKW/+poMC/1+oL//ItYgwWOLvwAAAAAAAAAAAAAAAAAAAAAAAAAAAAAAAAAAAAAAAAAAE+8Q7xDvsL8YtI6HKma/v4CruGiitsG/WPl1BM/Msb8HkPU2LfSmvwAAAAAAAAAAAAAAAAAAAABcJaINyJ2Uv1KagHZTWL2/FRCi63Vlub8/JhiVM2nDv4189JqQB7a/DDZUigDdtb8H3RXuYNymvy8praZKRJu/aRj7KRIFur+hSZsYUPe+v39zJdWInIa/+lx8sPYfob+hMF3ipp+BvwAAAAAAAAAAAAAAAAAAAAAAAAAAAAAAAA==",
          "dtype": "f8"
         }
        },
        {
         "mode": "lines",
         "name": "CVX",
         "type": "scatter",
         "x": [
          "2015-02-28T23:59:59.999999999",
          "2015-03-31T23:59:59.999999999",
          "2015-04-30T23:59:59.999999999",
          "2015-05-31T23:59:59.999999999",
          "2015-06-30T23:59:59.999999999",
          "2015-07-31T23:59:59.999999999",
          "2015-08-31T23:59:59.999999999",
          "2015-09-30T23:59:59.999999999",
          "2015-10-31T23:59:59.999999999",
          "2015-11-30T23:59:59.999999999",
          "2015-12-31T23:59:59.999999999",
          "2016-01-31T23:59:59.999999999",
          "2016-02-29T23:59:59.999999999",
          "2016-03-31T23:59:59.999999999",
          "2016-04-30T23:59:59.999999999",
          "2016-05-31T23:59:59.999999999",
          "2016-06-30T23:59:59.999999999",
          "2016-07-31T23:59:59.999999999",
          "2016-08-31T23:59:59.999999999",
          "2016-09-30T23:59:59.999999999",
          "2016-10-31T23:59:59.999999999",
          "2016-11-30T23:59:59.999999999",
          "2016-12-31T23:59:59.999999999",
          "2017-01-31T23:59:59.999999999",
          "2017-02-28T23:59:59.999999999",
          "2017-03-31T23:59:59.999999999",
          "2017-04-30T23:59:59.999999999",
          "2017-05-31T23:59:59.999999999",
          "2017-06-30T23:59:59.999999999",
          "2017-07-31T23:59:59.999999999",
          "2017-08-31T23:59:59.999999999",
          "2017-09-30T23:59:59.999999999",
          "2017-10-31T23:59:59.999999999",
          "2017-11-30T23:59:59.999999999",
          "2017-12-31T23:59:59.999999999",
          "2018-01-31T23:59:59.999999999",
          "2018-02-28T23:59:59.999999999",
          "2018-03-31T23:59:59.999999999",
          "2018-04-30T23:59:59.999999999",
          "2018-05-31T23:59:59.999999999",
          "2018-06-30T23:59:59.999999999",
          "2018-07-31T23:59:59.999999999",
          "2018-08-31T23:59:59.999999999",
          "2018-09-30T23:59:59.999999999",
          "2018-10-31T23:59:59.999999999",
          "2018-11-30T23:59:59.999999999",
          "2018-12-31T23:59:59.999999999",
          "2019-01-31T23:59:59.999999999",
          "2019-02-28T23:59:59.999999999",
          "2019-03-31T23:59:59.999999999",
          "2019-04-30T23:59:59.999999999",
          "2019-05-31T23:59:59.999999999",
          "2019-06-30T23:59:59.999999999",
          "2019-07-31T23:59:59.999999999",
          "2019-08-31T23:59:59.999999999",
          "2019-09-30T23:59:59.999999999",
          "2019-10-31T23:59:59.999999999",
          "2019-11-30T23:59:59.999999999",
          "2019-12-31T23:59:59.999999999"
         ],
         "y": {
          "bdata": "AAAAAAAAAAD4g+DXZVGQvwAAAAAAAAAAP1rLVSuUsr+UQhwLv9DAv6ShrnQtBsq/dSBA4QpU0b/rgV5eUYvSvxgJqyIQQse/6vnD9T3Axr8qnV/GgVHIvzE+KzY5V8y/MJUc1DfVz78wEPGDcgzCv641tCsMeLS/e1jRM1wwt7+UidjXlrisv4hPM9cEx7O/FAG5QzMouL80MWV9YMOyv403DCcBF62/AAAAAAAAAAAAAAAAAAAAAGmyrNZtn6u/pFkEzMaepr/WpO/XzHe2v+7UtRzc7Le/MFFu+MXtvr964nIbfRS9v1tI1Q1qgrK/cbGlS5nstb9fR8oOHNdbv9Q5u/CKfo+/AAAAAAAAAAAAAAAAAAAAAAAAAAAAAAAAEnRbDodtu785qe72Ixm3v/Zy1fuTXl+/grm47bgngb8AAAAAAAAAAL6l9Fr8u1S/q+jKKVAjsL/zSrkLX86gv8EaSL1U7b2/6eEOqwBVrr9Gt1fc6tvBv7Zuos5B2re/aE2wH4G9q79WlHhfp1KavxZeKXfhy6m/f4u9hfF4ub+SK7QqIR6Qv61E9UXL45q/h5Zd5uWisb/jIBltfLWvv9hVZlbn1bS/8i6bsLrUsr+y3SrJW/mnvw==",
          "dtype": "f8"
         }
        }
       ],
       "layout": {
        "legend": {
         "title": {
          "text": "Series"
         }
        },
        "template": {
         "data": {
          "bar": [
           {
            "error_x": {
             "color": "#2a3f5f"
            },
            "error_y": {
             "color": "#2a3f5f"
            },
            "marker": {
             "line": {
              "color": "white",
              "width": 0.5
             },
             "pattern": {
              "fillmode": "overlay",
              "size": 10,
              "solidity": 0.2
             }
            },
            "type": "bar"
           }
          ],
          "barpolar": [
           {
            "marker": {
             "line": {
              "color": "white",
              "width": 0.5
             },
             "pattern": {
              "fillmode": "overlay",
              "size": 10,
              "solidity": 0.2
             }
            },
            "type": "barpolar"
           }
          ],
          "carpet": [
           {
            "aaxis": {
             "endlinecolor": "#2a3f5f",
             "gridcolor": "#C8D4E3",
             "linecolor": "#C8D4E3",
             "minorgridcolor": "#C8D4E3",
             "startlinecolor": "#2a3f5f"
            },
            "baxis": {
             "endlinecolor": "#2a3f5f",
             "gridcolor": "#C8D4E3",
             "linecolor": "#C8D4E3",
             "minorgridcolor": "#C8D4E3",
             "startlinecolor": "#2a3f5f"
            },
            "type": "carpet"
           }
          ],
          "choropleth": [
           {
            "colorbar": {
             "outlinewidth": 0,
             "ticks": ""
            },
            "type": "choropleth"
           }
          ],
          "contour": [
           {
            "colorbar": {
             "outlinewidth": 0,
             "ticks": ""
            },
            "colorscale": [
             [
              0,
              "#0d0887"
             ],
             [
              0.1111111111111111,
              "#46039f"
             ],
             [
              0.2222222222222222,
              "#7201a8"
             ],
             [
              0.3333333333333333,
              "#9c179e"
             ],
             [
              0.4444444444444444,
              "#bd3786"
             ],
             [
              0.5555555555555556,
              "#d8576b"
             ],
             [
              0.6666666666666666,
              "#ed7953"
             ],
             [
              0.7777777777777778,
              "#fb9f3a"
             ],
             [
              0.8888888888888888,
              "#fdca26"
             ],
             [
              1,
              "#f0f921"
             ]
            ],
            "type": "contour"
           }
          ],
          "contourcarpet": [
           {
            "colorbar": {
             "outlinewidth": 0,
             "ticks": ""
            },
            "type": "contourcarpet"
           }
          ],
          "heatmap": [
           {
            "colorbar": {
             "outlinewidth": 0,
             "ticks": ""
            },
            "colorscale": [
             [
              0,
              "#0d0887"
             ],
             [
              0.1111111111111111,
              "#46039f"
             ],
             [
              0.2222222222222222,
              "#7201a8"
             ],
             [
              0.3333333333333333,
              "#9c179e"
             ],
             [
              0.4444444444444444,
              "#bd3786"
             ],
             [
              0.5555555555555556,
              "#d8576b"
             ],
             [
              0.6666666666666666,
              "#ed7953"
             ],
             [
              0.7777777777777778,
              "#fb9f3a"
             ],
             [
              0.8888888888888888,
              "#fdca26"
             ],
             [
              1,
              "#f0f921"
             ]
            ],
            "type": "heatmap"
           }
          ],
          "histogram": [
           {
            "marker": {
             "pattern": {
              "fillmode": "overlay",
              "size": 10,
              "solidity": 0.2
             }
            },
            "type": "histogram"
           }
          ],
          "histogram2d": [
           {
            "colorbar": {
             "outlinewidth": 0,
             "ticks": ""
            },
            "colorscale": [
             [
              0,
              "#0d0887"
             ],
             [
              0.1111111111111111,
              "#46039f"
             ],
             [
              0.2222222222222222,
              "#7201a8"
             ],
             [
              0.3333333333333333,
              "#9c179e"
             ],
             [
              0.4444444444444444,
              "#bd3786"
             ],
             [
              0.5555555555555556,
              "#d8576b"
             ],
             [
              0.6666666666666666,
              "#ed7953"
             ],
             [
              0.7777777777777778,
              "#fb9f3a"
             ],
             [
              0.8888888888888888,
              "#fdca26"
             ],
             [
              1,
              "#f0f921"
             ]
            ],
            "type": "histogram2d"
           }
          ],
          "histogram2dcontour": [
           {
            "colorbar": {
             "outlinewidth": 0,
             "ticks": ""
            },
            "colorscale": [
             [
              0,
              "#0d0887"
             ],
             [
              0.1111111111111111,
              "#46039f"
             ],
             [
              0.2222222222222222,
              "#7201a8"
             ],
             [
              0.3333333333333333,
              "#9c179e"
             ],
             [
              0.4444444444444444,
              "#bd3786"
             ],
             [
              0.5555555555555556,
              "#d8576b"
             ],
             [
              0.6666666666666666,
              "#ed7953"
             ],
             [
              0.7777777777777778,
              "#fb9f3a"
             ],
             [
              0.8888888888888888,
              "#fdca26"
             ],
             [
              1,
              "#f0f921"
             ]
            ],
            "type": "histogram2dcontour"
           }
          ],
          "mesh3d": [
           {
            "colorbar": {
             "outlinewidth": 0,
             "ticks": ""
            },
            "type": "mesh3d"
           }
          ],
          "parcoords": [
           {
            "line": {
             "colorbar": {
              "outlinewidth": 0,
              "ticks": ""
             }
            },
            "type": "parcoords"
           }
          ],
          "pie": [
           {
            "automargin": true,
            "type": "pie"
           }
          ],
          "scatter": [
           {
            "fillpattern": {
             "fillmode": "overlay",
             "size": 10,
             "solidity": 0.2
            },
            "type": "scatter"
           }
          ],
          "scatter3d": [
           {
            "line": {
             "colorbar": {
              "outlinewidth": 0,
              "ticks": ""
             }
            },
            "marker": {
             "colorbar": {
              "outlinewidth": 0,
              "ticks": ""
             }
            },
            "type": "scatter3d"
           }
          ],
          "scattercarpet": [
           {
            "marker": {
             "colorbar": {
              "outlinewidth": 0,
              "ticks": ""
             }
            },
            "type": "scattercarpet"
           }
          ],
          "scattergeo": [
           {
            "marker": {
             "colorbar": {
              "outlinewidth": 0,
              "ticks": ""
             }
            },
            "type": "scattergeo"
           }
          ],
          "scattergl": [
           {
            "marker": {
             "colorbar": {
              "outlinewidth": 0,
              "ticks": ""
             }
            },
            "type": "scattergl"
           }
          ],
          "scattermap": [
           {
            "marker": {
             "colorbar": {
              "outlinewidth": 0,
              "ticks": ""
             }
            },
            "type": "scattermap"
           }
          ],
          "scattermapbox": [
           {
            "marker": {
             "colorbar": {
              "outlinewidth": 0,
              "ticks": ""
             }
            },
            "type": "scattermapbox"
           }
          ],
          "scatterpolar": [
           {
            "marker": {
             "colorbar": {
              "outlinewidth": 0,
              "ticks": ""
             }
            },
            "type": "scatterpolar"
           }
          ],
          "scatterpolargl": [
           {
            "marker": {
             "colorbar": {
              "outlinewidth": 0,
              "ticks": ""
             }
            },
            "type": "scatterpolargl"
           }
          ],
          "scatterternary": [
           {
            "marker": {
             "colorbar": {
              "outlinewidth": 0,
              "ticks": ""
             }
            },
            "type": "scatterternary"
           }
          ],
          "surface": [
           {
            "colorbar": {
             "outlinewidth": 0,
             "ticks": ""
            },
            "colorscale": [
             [
              0,
              "#0d0887"
             ],
             [
              0.1111111111111111,
              "#46039f"
             ],
             [
              0.2222222222222222,
              "#7201a8"
             ],
             [
              0.3333333333333333,
              "#9c179e"
             ],
             [
              0.4444444444444444,
              "#bd3786"
             ],
             [
              0.5555555555555556,
              "#d8576b"
             ],
             [
              0.6666666666666666,
              "#ed7953"
             ],
             [
              0.7777777777777778,
              "#fb9f3a"
             ],
             [
              0.8888888888888888,
              "#fdca26"
             ],
             [
              1,
              "#f0f921"
             ]
            ],
            "type": "surface"
           }
          ],
          "table": [
           {
            "cells": {
             "fill": {
              "color": "#EBF0F8"
             },
             "line": {
              "color": "white"
             }
            },
            "header": {
             "fill": {
              "color": "#C8D4E3"
             },
             "line": {
              "color": "white"
             }
            },
            "type": "table"
           }
          ]
         },
         "layout": {
          "annotationdefaults": {
           "arrowcolor": "#2a3f5f",
           "arrowhead": 0,
           "arrowwidth": 1
          },
          "autotypenumbers": "strict",
          "coloraxis": {
           "colorbar": {
            "outlinewidth": 0,
            "ticks": ""
           }
          },
          "colorscale": {
           "diverging": [
            [
             0,
             "#8e0152"
            ],
            [
             0.1,
             "#c51b7d"
            ],
            [
             0.2,
             "#de77ae"
            ],
            [
             0.3,
             "#f1b6da"
            ],
            [
             0.4,
             "#fde0ef"
            ],
            [
             0.5,
             "#f7f7f7"
            ],
            [
             0.6,
             "#e6f5d0"
            ],
            [
             0.7,
             "#b8e186"
            ],
            [
             0.8,
             "#7fbc41"
            ],
            [
             0.9,
             "#4d9221"
            ],
            [
             1,
             "#276419"
            ]
           ],
           "sequential": [
            [
             0,
             "#0d0887"
            ],
            [
             0.1111111111111111,
             "#46039f"
            ],
            [
             0.2222222222222222,
             "#7201a8"
            ],
            [
             0.3333333333333333,
             "#9c179e"
            ],
            [
             0.4444444444444444,
             "#bd3786"
            ],
            [
             0.5555555555555556,
             "#d8576b"
            ],
            [
             0.6666666666666666,
             "#ed7953"
            ],
            [
             0.7777777777777778,
             "#fb9f3a"
            ],
            [
             0.8888888888888888,
             "#fdca26"
            ],
            [
             1,
             "#f0f921"
            ]
           ],
           "sequentialminus": [
            [
             0,
             "#0d0887"
            ],
            [
             0.1111111111111111,
             "#46039f"
            ],
            [
             0.2222222222222222,
             "#7201a8"
            ],
            [
             0.3333333333333333,
             "#9c179e"
            ],
            [
             0.4444444444444444,
             "#bd3786"
            ],
            [
             0.5555555555555556,
             "#d8576b"
            ],
            [
             0.6666666666666666,
             "#ed7953"
            ],
            [
             0.7777777777777778,
             "#fb9f3a"
            ],
            [
             0.8888888888888888,
             "#fdca26"
            ],
            [
             1,
             "#f0f921"
            ]
           ]
          },
          "colorway": [
           "#636efa",
           "#EF553B",
           "#00cc96",
           "#ab63fa",
           "#FFA15A",
           "#19d3f3",
           "#FF6692",
           "#B6E880",
           "#FF97FF",
           "#FECB52"
          ],
          "font": {
           "color": "#2a3f5f"
          },
          "geo": {
           "bgcolor": "white",
           "lakecolor": "white",
           "landcolor": "white",
           "showlakes": true,
           "showland": true,
           "subunitcolor": "#C8D4E3"
          },
          "hoverlabel": {
           "align": "left"
          },
          "hovermode": "closest",
          "mapbox": {
           "style": "light"
          },
          "paper_bgcolor": "white",
          "plot_bgcolor": "white",
          "polar": {
           "angularaxis": {
            "gridcolor": "#EBF0F8",
            "linecolor": "#EBF0F8",
            "ticks": ""
           },
           "bgcolor": "white",
           "radialaxis": {
            "gridcolor": "#EBF0F8",
            "linecolor": "#EBF0F8",
            "ticks": ""
           }
          },
          "scene": {
           "xaxis": {
            "backgroundcolor": "white",
            "gridcolor": "#DFE8F3",
            "gridwidth": 2,
            "linecolor": "#EBF0F8",
            "showbackground": true,
            "ticks": "",
            "zerolinecolor": "#EBF0F8"
           },
           "yaxis": {
            "backgroundcolor": "white",
            "gridcolor": "#DFE8F3",
            "gridwidth": 2,
            "linecolor": "#EBF0F8",
            "showbackground": true,
            "ticks": "",
            "zerolinecolor": "#EBF0F8"
           },
           "zaxis": {
            "backgroundcolor": "white",
            "gridcolor": "#DFE8F3",
            "gridwidth": 2,
            "linecolor": "#EBF0F8",
            "showbackground": true,
            "ticks": "",
            "zerolinecolor": "#EBF0F8"
           }
          },
          "shapedefaults": {
           "line": {
            "color": "#2a3f5f"
           }
          },
          "ternary": {
           "aaxis": {
            "gridcolor": "#DFE8F3",
            "linecolor": "#A2B1C6",
            "ticks": ""
           },
           "baxis": {
            "gridcolor": "#DFE8F3",
            "linecolor": "#A2B1C6",
            "ticks": ""
           },
           "bgcolor": "white",
           "caxis": {
            "gridcolor": "#DFE8F3",
            "linecolor": "#A2B1C6",
            "ticks": ""
           }
          },
          "title": {
           "x": 0.05
          },
          "xaxis": {
           "automargin": true,
           "gridcolor": "#EBF0F8",
           "linecolor": "#EBF0F8",
           "ticks": "",
           "title": {
            "standoff": 15
           },
           "zerolinecolor": "#EBF0F8",
           "zerolinewidth": 2
          },
          "yaxis": {
           "automargin": true,
           "gridcolor": "#EBF0F8",
           "linecolor": "#EBF0F8",
           "ticks": "",
           "title": {
            "standoff": 15
           },
           "zerolinecolor": "#EBF0F8",
           "zerolinewidth": 2
          }
         }
        },
        "title": {
         "text": "Drawdown curves"
        },
        "xaxis": {
         "title": {
          "text": "Date"
         }
        },
        "yaxis": {
         "title": {
          "text": "Drawdown (%)"
         }
        }
       }
      }
     },
     "metadata": {},
     "output_type": "display_data"
    },
    {
     "data": {
      "application/vnd.plotly.v1+json": {
       "config": {
        "plotlyServerURL": "https://plot.ly"
       },
       "data": [
        {
         "boxmean": "sd",
         "name": "CVaR_95",
         "orientation": "h",
         "type": "box",
         "x": {
          "bdata": "gC8KBqioib9gfnnxUb2Rv6Dhp+fAB5u/gHhJPqtUn7/AMJU8FcKQP4hq0X4fL7C/cOCnZCGPrL8AHQmiW2u+P0DUFMgAZ6M/AL5etDQFnD8AdoUyHlRmPwD9qXHE84k/wO+Unqr+pz9gDTTVtbylP4DLrBl9lLI/sCl54doBvT9gABEmCRvGP0AL/x7tssI/eDNJBL4wwz+gR07GqOi9P4Dj/c7Fx8A/CDUmP3Jewj+AnnsCRIx8vwCF4x4N3JU/AOA/TG4jH79AilX4Zs2TP4DZr3Y5Bqc/wBfdKpCykz9AI5nzq6qcP4BwVanb/Zk/4MHynMk4qT/gExy4BFWsPyC9UiqNmag/gMteOfkzrT9AIIVoj5KEvxC33ZqzQqa/kESRTitltL/wzhTEzf2sv4ChX7F/hZG/gId/KAMdsD+gddAfIRS/P4BTYsThuKs/cH908p54tj8AZ5k6ar+jP4DVQ93y86w/kKA3d2Q7pr9AXWJm2XWTv5Dc3y3XerY/cAR+LCVvwT/gmXBNZQ+1P2BUKMlvYqK/gF16a7RYjz/gik4JpyKqPwDAJkvaFTe/AKveCUPykD9AiY4Z0iOcPwChiJS6x6o/IDRbcsXXpT8=",
          "dtype": "f8"
         }
        },
        {
         "boxmean": "sd",
         "name": "CVaR_90",
         "orientation": "h",
         "type": "box",
         "x": {
          "bdata": "gPwHBKs8c78A7MiOwVuGPwC/ruutbGK/wMHpt61xnr9A0a3xz4KEv7BBTKvfdrO/MNeVrUChrL8Ag2cJM+i9PwB8UzzY/4I/AOwsz4Jxiz8AXmdpskVjPwAwTpw20YA/oBLGuk3JrT8g1210ocmtP+DIvJdsnLE/kAnJnLNIwD9Ia1FBSAfFP1jc9GcYW8I/+Orz+xvQwz+o3VaV4Z7BPxgCuUFJcsA/OL9GPrr4wj8A8pn0gpZtv4DsjV8RUaA/AEA6feOwWj/AvT6INDyWP2AlgspTCKo/wKS/g9Nolj/A1wc/oVebP8B5Ind975g/AANIKp6opD+gylu3DIijP+DgRADvi6A/QED9P1h5pj+AOxHCrimEvzBPuEej/Ke/0AwzYdxHtL9wKcR4xTusv+C2zAPoipi/gL3MU3OFrT+gDsOsNpC9P4BthcWw5qQ/YLIgm/x5sj9AFmIGPjedP8BV4RxdZak/cMu5ZnPLqr9ghlfuk5qVv7AkFr3nZrg/8ARXWOWkwj/wU6+DaO63P1DwN++WvKC/gELHpQKWlz+ACNE1P3euPwBGkV67aIg/AKNlZ4TlmD/gPmDB+OSiP+Aa86V7qa4/gKp8Q03ipz8=",
          "dtype": "f8"
         }
        },
        {
         "boxmean": "sd",
         "name": "CVaR_80",
         "orientation": "h",
         "type": "box",
         "x": {
          "bdata": "gPEJ2ZOre78APCEuRph0PwAVTl24ZYU/gH1nUEFQlL9AkGgGFmqOv/jlhwm3T7S/4Kko+20eoL+w5UywIgi+P4A/DeW/ioE/AO9XwqWhgj8AYuD/aixwP8DjDykUuZA/ANo4/3L+qz/g9unEa9uvP8BjiEIN7rM/6H80nA4twT9wSINJ1LzHP3hzsSeoV8Q/MFIFPGD1wz+AezoMD4XBP5CWs1AD4MA/cKfdFfr1wz8APu7z1wFxv0CYXnL6HKQ/gAPYR7o7oT9AvRxLTGKhP8D9JFLQaaM/YP+8oasOoD8ga3ciNXCiP4BXgFpaD5s/oISctThRpz/Aj4uvwIGoP2DfxvDXC6g/AEh0nxozrT+AwX/ROQGCvzC4OcqmYai/qOU3+T0etL/QSDmS7T6sv5B3G2YhaKG/gG00HoN2pz+QJvEuXou8P6Bkh6iK8qc/gEuviHvEsj8gar+W7sajP0B/wyMCk7A/8DDaJByXp78AT6UxfDeUv/Bv/ttx6LY/AC4FD16ywT8wF4kzOk23P+DUjsW/nJ2/AEV0obyanD9gkHVodtSrP4AfrFE5D4Q/QNqPjY7klz9AEb6F6UmhP2C7Q0oXvqw/gDYbYamdqD8=",
          "dtype": "f8"
         }
        },
        {
         "boxmean": "sd",
         "name": "MVar",
         "orientation": "h",
         "type": "box",
         "x": {
          "bdata": "AMAlPAoRmD8AtHrH03hdPwD3NchdIHY/gBcvdR3fmL+AMdYMd3h6v1gTU3YwbLW/EBLVpNzTpb9QXDDkw4O9PwDozaZRIlC/AODOu3o+SL8AsFEfOM5vPwBsNg2q8XA/oAK9Wqfyoj+gNIJTgQaqPyA48EbAsLQ/cJ9mtcZTwD+AqcgCaArHP1jhwp03lcI/CL4DHhC4xD94K81znzHAP7BfjX4cH74/OBMCNq1OwT8AIeT+kUtxv0DCBENCpZo/ANcCj3Jaij/AiJDyzSScP2B/fsuLeaY/wByG0OfAlj+gNXVe3ZCgP8BcLms60qE/IOckHQ+crD9gL6hhaNqvPxBVeMj9q7A/IGv2gOxGsj8AuG18JvCAvzDf9sXWwKS/aGK+d/u0s7/QQxLdLlWsv4BEjncq/5i/IDDncnx2qz9A4l2J1kW9P4Cz5x0n56k/MC1tsYeetT+AXTLN9gekP6Bc6i4Ynq0/QHsMfqXzp78gacgR6JWSv0DSmTpE57U/oDD6meb8wD8wDudLPmu0P1AH8lizXaC/QHq/3EqQlD8APZg71dSlP4DtP6H/vn+/AO+U1keygT8A/N9jUt2ZP+DC2Zfzm6g/oEFLrej1pT8=",
          "dtype": "f8"
         }
        },
        {
         "boxmean": "sd",
         "name": "TOP3",
         "orientation": "h",
         "type": "box",
         "x": {
          "bdata": "AAAAAAAAAABgrpkmtdeevwDA+3ND2X4/sOZRZxtJrb/gTGggN3anv+AQZmAz5rA/eGlkoYMrsL/AXGwjOEGRv1hH/RU8Z8A/QFzMwYF/mD9QSQ6sYUqgvwDt50I1vG+/wCreCMj3ir9A6bQKMPawP+C2QaQfE6Q/AHLRUamih7+A9LYZNzKVv4CNUFe4EYy/AGNhXsZUhD9AHM0ApCyVPwAbTOHk7X0/ALToL8aXgz/AabNlxOCkPwBhSSheVX+/oGBC4pLorj/A5BVjbAeYPwCACMZ6qw4/ANqBGVfLqT/wSJ9yiVWmv4AZsC+eOok/wLZxtLrwoz8AWz0X/jBvvwAX20/YDoE/AIiY+4IKgz8AYvStb3KIP0AGItL4eKU/wIKJ/l2Tqr/gYQyFSk6ivxAQCSXiGrg/gMJDhNTwhj8AGeQHNDV0P+DTYfW7zLE/wPcxd2p8lD+AaX23RiSOP+BOc3imLa+/0BQ1fxwfsT+wRcgokFyuvwD08lek84U/QJjdqB3Vmz/ANxNtWcSgP6Ch++6tK68/2NdrE7n7tb8AfkyecqOwP0ATGvFUUJw/AJPKHFw3hb8AV2eSZVNrvwBycjij4Ig/AJA1c93epj9AzapLJD2zPw==",
          "dtype": "f8"
         }
        },
        {
         "boxmean": "sd",
         "name": "MSFT",
         "orientation": "h",
         "type": "box",
         "x": {
          "bdata": "IFNw/Jyfsr8AhlhRGh/JP9BrKK+hvKK/sC/UhiKcrb+AjYjzaJKtPwASJGmfbrG/QGlpaWlpkT9YIstUJzzIPwAgHxjZoaA/QNt9sEdKlT8AzMEyB8t8vxB7iJtJkLO/0D6H1ATjtT9w/94XL9i4v5Al338/EbA/0MbHjrGtob+A3RlX75C7P4DCQfT4Low/ADST7Kn1Yz8ASp/0SZ+kPwBLNCPdPXc/gHDR02fynz9gYEXSWK6kP8Dxa9p0OYW/QKxoHOMWnj+g+GogazakP8C5NCE8pJQ/QN3eyFuvir9A//4mvgCsP0DQspcSKJ0/APrqjXOtbr/AjrZAbd29P4Cdu+gFYIg/QF2EAM+qkD8Q8VFrY1e8PwBdFiqeuoq/YKNiAwRNm7+Av16CaD6ZP0Dhyw0xIK0/ABEt6w4QY7/QEongi2SzP0B5Kj55Kq4/wIDXEL2Ykj8oCmL0Auywv+DbaLHGjqM/oLVm7x6Etb/AdzARbtWcP0CZWQtzobI/wCGrVYkCqz+w4Wnxz3q7P9CgPW4CIau/4N+s/jNHtT8AxfMfZqiRPwB+yxBm5Yc/ALAigpBhgT/AMupfKfefP4BhqfLqmqw/AISiCyhgpT8=",
          "dtype": "f8"
         }
        },
        {
         "boxmean": "sd",
         "name": "MRK",
         "orientation": "h",
         "type": "box",
         "x": {
          "bdata": "wCX8RTOHkr/gXAP48n6iP4AZuLRZ5pY/aCGDt7mqsL9gTf6sl0yiP4AeQy39LLa/SLhwJd88tb8gQtNqV1i7P2D3s3SC2J6/AG72gporbb+QWDoUetakv8CYSkwlpoK/wLfZ3mZ7qz9AKiP/bKyiP8B4sdMMopo/wFoKK1JumD+AfzMTVKSSP+BKZVOyCLI/gEFq+R2heL+gM29Z30iuv8ApkDG8lKU/oG8wEM16o7+AToOlvy6rP+A9zYs8BrA/oAApArMYor/gP0shxJqTv2AgcFOJ1KY/IAAAAAAAkL8Af7IFiM9qvwAQV7jahDW/AJQb8KmGZT9E76YrB93BvwDgMFHmgmo/gBKGVI51kj8Ah+p50TKrP5D6WwGpv7W/APIZCqoDcz9Qd04Uyqa0PwA/jFGU/IY/gHn96a00lD9AN/jzG861P8CA2tfQHKU/oBgB81CJoT8A6kIyXE2jP/D+lnz46bM/AIMb3/vhor+gktSdDpCavwAspYU/l7c/wEjhTeallz9QPZJzqnCrvwAhWVtqMno/4Kcnbk72rT8AUAEVUAGFv2DkjPVKe6U/IDhNRSgTm7/Ajp9vPBuePwAqiAMCyXg/IOp1o2Qcpj8=",
          "dtype": "f8"
         }
        },
        {
         "boxmean": "sd",
         "name": "GOOGL",
         "orientation": "h",
         "type": "box",
         "x": {
          "bdata": "QBgEDzcfjb9AkpBa/2qFv4D0b6ZHYHm/ANpiZfhGhL848axoJODLP8CzDV5LhY6/QJ/gqsK3jb+QPWD2gNnDPwAbzRrSoqE/wAhAkaJnlD9gb4LJTdmVvxC5wPLauK2/ALYF2BdZsD9QKEGDRIWyv4AXefJ4qK0/gO7nfu7nrr8ga+BGB/K/PwBpNvvhj2C/QBOdDSZpkj8ABr6uWox9P2CFIn4lf6W/QGa+TSrplT+ghEHpb/ahP8AbDgZT9p4/AAhsiSQlaz9g7fprvDC3PzCUtI3vRrE/MIXRf6DGrb/A2ymti2eRP4AF4aPCOoU/ADqVFJDwkz+gnwfjOiCvPwBiiniAYGk/gAIlj1v/kD/Qgq+nIk2/PxDvEO8Q77C/8AW4SM76rr/AldJLAF2SvxCoMNg3dbQ/gE6FTLsumz/QVJ8Frje2PwDkp/fmtG4/YCWiDcidlL+AiDXmH7C4v4A23fj31pE/4Ny5c+fOrb/ALlb5R8uzPwCgOVH+SEc/oF7e42rQpj+Aq1rJRVGTP6g7YRF7urO/ADFBywMGlr/w5nJbgwHAP0Djvc47M5e/QLXH3HJRmj8AYkvRQIefP8CC7iRuYqI/AEdCY3zMmz8=",
          "dtype": "f8"
         }
        },
        {
         "boxmean": "sd",
         "name": "CVX",
         "orientation": "h",
         "type": "box",
         "x": {
          "bdata": "AITg12VRkL+AGuCNI6etP0Bay1UrlLK/wPbS6to6sL8AzrKy7jO1v1iLmzC/q7W/QLk0VIitmr/4rVVn/XjDPwB7Mn671HM/gBthWg6Ajr8QKV/c8NyjvyCv6q/m8KG/QKG19NlYwj/wRB4GlzGyP4AeZqKbpoe/YCGjo1pqoz8AoG76i/SWv8Ctm/Uz/JK/QPyn7MvSlz9Ah6tUITWSP4BB1T6fpLA/YGyUA+UtrD9wsqzWbZ+rv4BpXza9JoU/0CtlGeJYp7+Aohw/OY95v0BBt/P/5p6/gK+PPJTSgD+g1KaxuNmnP8CIrNeHco2/QFiN4X+Atz9AyXdx3A+Mv4CbtNA4ZJs/gNB5Bomtqj8APBmij/BUPxB0Ww6Hbbu/wMTb6Y5lkz9A9qOKqNm4P4AO2F/MhHq/wDXq5haMkT8ApvRa/LtUvwDxMOYCq6+/AGCcirOCoD8YlczFJkG2v7AGq0EQt7A/MJX1tafYtb+APw2zOZSrP0CMnDUnBKY/ALyPGfHTnj8g9aohyu+Zv2C5pxGWe6q/8CLecfjPtz9ADUQzh+OFv0DOXJeXaqa/AOoBFn2efj8gsclgYz2VvwCQ1hMidYE/gKlvy6SMnT8=",
          "dtype": "f8"
         }
        }
       ],
       "layout": {
        "template": {
         "data": {
          "bar": [
           {
            "error_x": {
             "color": "#2a3f5f"
            },
            "error_y": {
             "color": "#2a3f5f"
            },
            "marker": {
             "line": {
              "color": "white",
              "width": 0.5
             },
             "pattern": {
              "fillmode": "overlay",
              "size": 10,
              "solidity": 0.2
             }
            },
            "type": "bar"
           }
          ],
          "barpolar": [
           {
            "marker": {
             "line": {
              "color": "white",
              "width": 0.5
             },
             "pattern": {
              "fillmode": "overlay",
              "size": 10,
              "solidity": 0.2
             }
            },
            "type": "barpolar"
           }
          ],
          "carpet": [
           {
            "aaxis": {
             "endlinecolor": "#2a3f5f",
             "gridcolor": "#C8D4E3",
             "linecolor": "#C8D4E3",
             "minorgridcolor": "#C8D4E3",
             "startlinecolor": "#2a3f5f"
            },
            "baxis": {
             "endlinecolor": "#2a3f5f",
             "gridcolor": "#C8D4E3",
             "linecolor": "#C8D4E3",
             "minorgridcolor": "#C8D4E3",
             "startlinecolor": "#2a3f5f"
            },
            "type": "carpet"
           }
          ],
          "choropleth": [
           {
            "colorbar": {
             "outlinewidth": 0,
             "ticks": ""
            },
            "type": "choropleth"
           }
          ],
          "contour": [
           {
            "colorbar": {
             "outlinewidth": 0,
             "ticks": ""
            },
            "colorscale": [
             [
              0,
              "#0d0887"
             ],
             [
              0.1111111111111111,
              "#46039f"
             ],
             [
              0.2222222222222222,
              "#7201a8"
             ],
             [
              0.3333333333333333,
              "#9c179e"
             ],
             [
              0.4444444444444444,
              "#bd3786"
             ],
             [
              0.5555555555555556,
              "#d8576b"
             ],
             [
              0.6666666666666666,
              "#ed7953"
             ],
             [
              0.7777777777777778,
              "#fb9f3a"
             ],
             [
              0.8888888888888888,
              "#fdca26"
             ],
             [
              1,
              "#f0f921"
             ]
            ],
            "type": "contour"
           }
          ],
          "contourcarpet": [
           {
            "colorbar": {
             "outlinewidth": 0,
             "ticks": ""
            },
            "type": "contourcarpet"
           }
          ],
          "heatmap": [
           {
            "colorbar": {
             "outlinewidth": 0,
             "ticks": ""
            },
            "colorscale": [
             [
              0,
              "#0d0887"
             ],
             [
              0.1111111111111111,
              "#46039f"
             ],
             [
              0.2222222222222222,
              "#7201a8"
             ],
             [
              0.3333333333333333,
              "#9c179e"
             ],
             [
              0.4444444444444444,
              "#bd3786"
             ],
             [
              0.5555555555555556,
              "#d8576b"
             ],
             [
              0.6666666666666666,
              "#ed7953"
             ],
             [
              0.7777777777777778,
              "#fb9f3a"
             ],
             [
              0.8888888888888888,
              "#fdca26"
             ],
             [
              1,
              "#f0f921"
             ]
            ],
            "type": "heatmap"
           }
          ],
          "histogram": [
           {
            "marker": {
             "pattern": {
              "fillmode": "overlay",
              "size": 10,
              "solidity": 0.2
             }
            },
            "type": "histogram"
           }
          ],
          "histogram2d": [
           {
            "colorbar": {
             "outlinewidth": 0,
             "ticks": ""
            },
            "colorscale": [
             [
              0,
              "#0d0887"
             ],
             [
              0.1111111111111111,
              "#46039f"
             ],
             [
              0.2222222222222222,
              "#7201a8"
             ],
             [
              0.3333333333333333,
              "#9c179e"
             ],
             [
              0.4444444444444444,
              "#bd3786"
             ],
             [
              0.5555555555555556,
              "#d8576b"
             ],
             [
              0.6666666666666666,
              "#ed7953"
             ],
             [
              0.7777777777777778,
              "#fb9f3a"
             ],
             [
              0.8888888888888888,
              "#fdca26"
             ],
             [
              1,
              "#f0f921"
             ]
            ],
            "type": "histogram2d"
           }
          ],
          "histogram2dcontour": [
           {
            "colorbar": {
             "outlinewidth": 0,
             "ticks": ""
            },
            "colorscale": [
             [
              0,
              "#0d0887"
             ],
             [
              0.1111111111111111,
              "#46039f"
             ],
             [
              0.2222222222222222,
              "#7201a8"
             ],
             [
              0.3333333333333333,
              "#9c179e"
             ],
             [
              0.4444444444444444,
              "#bd3786"
             ],
             [
              0.5555555555555556,
              "#d8576b"
             ],
             [
              0.6666666666666666,
              "#ed7953"
             ],
             [
              0.7777777777777778,
              "#fb9f3a"
             ],
             [
              0.8888888888888888,
              "#fdca26"
             ],
             [
              1,
              "#f0f921"
             ]
            ],
            "type": "histogram2dcontour"
           }
          ],
          "mesh3d": [
           {
            "colorbar": {
             "outlinewidth": 0,
             "ticks": ""
            },
            "type": "mesh3d"
           }
          ],
          "parcoords": [
           {
            "line": {
             "colorbar": {
              "outlinewidth": 0,
              "ticks": ""
             }
            },
            "type": "parcoords"
           }
          ],
          "pie": [
           {
            "automargin": true,
            "type": "pie"
           }
          ],
          "scatter": [
           {
            "fillpattern": {
             "fillmode": "overlay",
             "size": 10,
             "solidity": 0.2
            },
            "type": "scatter"
           }
          ],
          "scatter3d": [
           {
            "line": {
             "colorbar": {
              "outlinewidth": 0,
              "ticks": ""
             }
            },
            "marker": {
             "colorbar": {
              "outlinewidth": 0,
              "ticks": ""
             }
            },
            "type": "scatter3d"
           }
          ],
          "scattercarpet": [
           {
            "marker": {
             "colorbar": {
              "outlinewidth": 0,
              "ticks": ""
             }
            },
            "type": "scattercarpet"
           }
          ],
          "scattergeo": [
           {
            "marker": {
             "colorbar": {
              "outlinewidth": 0,
              "ticks": ""
             }
            },
            "type": "scattergeo"
           }
          ],
          "scattergl": [
           {
            "marker": {
             "colorbar": {
              "outlinewidth": 0,
              "ticks": ""
             }
            },
            "type": "scattergl"
           }
          ],
          "scattermap": [
           {
            "marker": {
             "colorbar": {
              "outlinewidth": 0,
              "ticks": ""
             }
            },
            "type": "scattermap"
           }
          ],
          "scattermapbox": [
           {
            "marker": {
             "colorbar": {
              "outlinewidth": 0,
              "ticks": ""
             }
            },
            "type": "scattermapbox"
           }
          ],
          "scatterpolar": [
           {
            "marker": {
             "colorbar": {
              "outlinewidth": 0,
              "ticks": ""
             }
            },
            "type": "scatterpolar"
           }
          ],
          "scatterpolargl": [
           {
            "marker": {
             "colorbar": {
              "outlinewidth": 0,
              "ticks": ""
             }
            },
            "type": "scatterpolargl"
           }
          ],
          "scatterternary": [
           {
            "marker": {
             "colorbar": {
              "outlinewidth": 0,
              "ticks": ""
             }
            },
            "type": "scatterternary"
           }
          ],
          "surface": [
           {
            "colorbar": {
             "outlinewidth": 0,
             "ticks": ""
            },
            "colorscale": [
             [
              0,
              "#0d0887"
             ],
             [
              0.1111111111111111,
              "#46039f"
             ],
             [
              0.2222222222222222,
              "#7201a8"
             ],
             [
              0.3333333333333333,
              "#9c179e"
             ],
             [
              0.4444444444444444,
              "#bd3786"
             ],
             [
              0.5555555555555556,
              "#d8576b"
             ],
             [
              0.6666666666666666,
              "#ed7953"
             ],
             [
              0.7777777777777778,
              "#fb9f3a"
             ],
             [
              0.8888888888888888,
              "#fdca26"
             ],
             [
              1,
              "#f0f921"
             ]
            ],
            "type": "surface"
           }
          ],
          "table": [
           {
            "cells": {
             "fill": {
              "color": "#EBF0F8"
             },
             "line": {
              "color": "white"
             }
            },
            "header": {
             "fill": {
              "color": "#C8D4E3"
             },
             "line": {
              "color": "white"
             }
            },
            "type": "table"
           }
          ]
         },
         "layout": {
          "annotationdefaults": {
           "arrowcolor": "#2a3f5f",
           "arrowhead": 0,
           "arrowwidth": 1
          },
          "autotypenumbers": "strict",
          "coloraxis": {
           "colorbar": {
            "outlinewidth": 0,
            "ticks": ""
           }
          },
          "colorscale": {
           "diverging": [
            [
             0,
             "#8e0152"
            ],
            [
             0.1,
             "#c51b7d"
            ],
            [
             0.2,
             "#de77ae"
            ],
            [
             0.3,
             "#f1b6da"
            ],
            [
             0.4,
             "#fde0ef"
            ],
            [
             0.5,
             "#f7f7f7"
            ],
            [
             0.6,
             "#e6f5d0"
            ],
            [
             0.7,
             "#b8e186"
            ],
            [
             0.8,
             "#7fbc41"
            ],
            [
             0.9,
             "#4d9221"
            ],
            [
             1,
             "#276419"
            ]
           ],
           "sequential": [
            [
             0,
             "#0d0887"
            ],
            [
             0.1111111111111111,
             "#46039f"
            ],
            [
             0.2222222222222222,
             "#7201a8"
            ],
            [
             0.3333333333333333,
             "#9c179e"
            ],
            [
             0.4444444444444444,
             "#bd3786"
            ],
            [
             0.5555555555555556,
             "#d8576b"
            ],
            [
             0.6666666666666666,
             "#ed7953"
            ],
            [
             0.7777777777777778,
             "#fb9f3a"
            ],
            [
             0.8888888888888888,
             "#fdca26"
            ],
            [
             1,
             "#f0f921"
            ]
           ],
           "sequentialminus": [
            [
             0,
             "#0d0887"
            ],
            [
             0.1111111111111111,
             "#46039f"
            ],
            [
             0.2222222222222222,
             "#7201a8"
            ],
            [
             0.3333333333333333,
             "#9c179e"
            ],
            [
             0.4444444444444444,
             "#bd3786"
            ],
            [
             0.5555555555555556,
             "#d8576b"
            ],
            [
             0.6666666666666666,
             "#ed7953"
            ],
            [
             0.7777777777777778,
             "#fb9f3a"
            ],
            [
             0.8888888888888888,
             "#fdca26"
            ],
            [
             1,
             "#f0f921"
            ]
           ]
          },
          "colorway": [
           "#636efa",
           "#EF553B",
           "#00cc96",
           "#ab63fa",
           "#FFA15A",
           "#19d3f3",
           "#FF6692",
           "#B6E880",
           "#FF97FF",
           "#FECB52"
          ],
          "font": {
           "color": "#2a3f5f"
          },
          "geo": {
           "bgcolor": "white",
           "lakecolor": "white",
           "landcolor": "white",
           "showlakes": true,
           "showland": true,
           "subunitcolor": "#C8D4E3"
          },
          "hoverlabel": {
           "align": "left"
          },
          "hovermode": "closest",
          "mapbox": {
           "style": "light"
          },
          "paper_bgcolor": "white",
          "plot_bgcolor": "white",
          "polar": {
           "angularaxis": {
            "gridcolor": "#EBF0F8",
            "linecolor": "#EBF0F8",
            "ticks": ""
           },
           "bgcolor": "white",
           "radialaxis": {
            "gridcolor": "#EBF0F8",
            "linecolor": "#EBF0F8",
            "ticks": ""
           }
          },
          "scene": {
           "xaxis": {
            "backgroundcolor": "white",
            "gridcolor": "#DFE8F3",
            "gridwidth": 2,
            "linecolor": "#EBF0F8",
            "showbackground": true,
            "ticks": "",
            "zerolinecolor": "#EBF0F8"
           },
           "yaxis": {
            "backgroundcolor": "white",
            "gridcolor": "#DFE8F3",
            "gridwidth": 2,
            "linecolor": "#EBF0F8",
            "showbackground": true,
            "ticks": "",
            "zerolinecolor": "#EBF0F8"
           },
           "zaxis": {
            "backgroundcolor": "white",
            "gridcolor": "#DFE8F3",
            "gridwidth": 2,
            "linecolor": "#EBF0F8",
            "showbackground": true,
            "ticks": "",
            "zerolinecolor": "#EBF0F8"
           }
          },
          "shapedefaults": {
           "line": {
            "color": "#2a3f5f"
           }
          },
          "ternary": {
           "aaxis": {
            "gridcolor": "#DFE8F3",
            "linecolor": "#A2B1C6",
            "ticks": ""
           },
           "baxis": {
            "gridcolor": "#DFE8F3",
            "linecolor": "#A2B1C6",
            "ticks": ""
           },
           "bgcolor": "white",
           "caxis": {
            "gridcolor": "#DFE8F3",
            "linecolor": "#A2B1C6",
            "ticks": ""
           }
          },
          "title": {
           "x": 0.05
          },
          "xaxis": {
           "automargin": true,
           "gridcolor": "#EBF0F8",
           "linecolor": "#EBF0F8",
           "ticks": "",
           "title": {
            "standoff": 15
           },
           "zerolinecolor": "#EBF0F8",
           "zerolinewidth": 2
          },
          "yaxis": {
           "automargin": true,
           "gridcolor": "#EBF0F8",
           "linecolor": "#EBF0F8",
           "ticks": "",
           "title": {
            "standoff": 15
           },
           "zerolinecolor": "#EBF0F8",
           "zerolinewidth": 2
          }
         }
        },
        "title": {
         "text": "Distribution of period returns"
        },
        "xaxis": {
         "title": {
          "text": "Return"
         }
        }
       }
      }
     },
     "metadata": {},
     "output_type": "display_data"
    }
   ],
   "source": [
    "# print last weights for both strategies\n",
    "print(\"\\n===== LAST CVaR WEIGHTS (|w| ≥ {:.4f}) =====\".format(SHOW_ABS_GT))\n",
    "print(w_cvar_80.iloc[-1][w_cvar_80.iloc[-1].abs() >= SHOW_ABS_GT].round(6).to_string())\n",
    "\n",
    "print(\"\\n===== LAST MVar WEIGHTS (|w| ≥ {:.4f}) =====\".format(SHOW_ABS_GT))\n",
    "print(w_mv.iloc[-1][w_mv.iloc[-1].abs() >= SHOW_ABS_GT].round(6).to_string())\n",
    "\n",
    "# ── equity curves ──────────────────────────────────────────────────── #\n",
    "series_equity = {\n",
    "    \"CVaR_95\": equity_cvar_95,\n",
    "    \"CVaR_90\": equity_cvar_90,\n",
    "    \"CVaR_80\": equity_cvar_80,\n",
    "    \"MVar\": equity_mv,\n",
    "    \"TOP3\": top3_eq,\n",
    "} | baselines\n",
    "line_chart(series_equity, f\"Equity curve — re‑balance = {FREQ}\", \"Portfolio value ($)\")\n",
    "\n",
    "# ── KPI charts (rolling CVaR, σ, Sharpe, drawdowns, boxplot) ───────── #\n",
    "returns = {k: pct_ret(v) for k, v in series_equity.items()}\n",
    "\n",
    "\n",
    "# 1. Rolling CVaR\n",
    "# rolling_cvar_series = {k: rolling_cvar(r, BETA, window) for k, r in returns.items()}\n",
    "# line_chart(\n",
    "#     rolling_cvar_series,\n",
    "#     f\"Rolling {int(BETA*100)}% CVaR (window={window})\",\n",
    "#     \"CVaR (mean loss)\",\n",
    "# )\n",
    "\n",
    "# 2. Rolling volatility σ\n",
    "rolling_vol = {k: r.rolling(window).std() for k, r in returns.items()}\n",
    "line_chart(rolling_vol, f\"Rolling volatility σ (window={window})\", \"Std‑dev of returns\")\n",
    "\n",
    "# 3. Rolling Sharpe\n",
    "rolling_sharpe = {\n",
    "    k: r.rolling(window).mean() / r.rolling(window).std() for k, r in returns.items()\n",
    "}\n",
    "line_chart(rolling_sharpe, f\"Rolling Sharpe ratio (window={window})\", \"Sharpe ≈ μ/σ\")\n",
    "\n",
    "# 4. Drawdowns\n",
    "drawdowns = {k: drawdown_curve(eq) for k, eq in series_equity.items()}\n",
    "line_chart(drawdowns, \"Drawdown curves\", \"Drawdown (%)\")\n",
    "\n",
    "# 5. Box‑plot of period returns\n",
    "boxplot(returns, \"Distribution of period returns\")\n",
    "\n",
    "\n",
    "# if __name__ == \"__main__\":\n",
    "#     _run_cli()"
   ]
  },
  {
   "cell_type": "code",
   "execution_count": 15,
   "id": "ed7045b0",
   "metadata": {},
   "outputs": [],
   "source": [
    "\n",
    "# baselines: Dict[str, pd.Series] = {}\n",
    "# for tkr in BASELINES:\n",
    "#     if tkr not in prices.columns:\n",
    "#         raise KeyError(f\"Ticker '{tkr}' not found.\")\n",
    "#     px = prices[tkr].sort_index().reindex(equity_cvar_80.index, method=\"ffill\")\n",
    "#     baselines[tkr] = INITIAL_CASH * px / px.iloc[0]\n",
    "#     baselines[tkr].name = tkr\n",
    "\n",
    "# # ── summary table ──────────────────────────────────────────────────── #\n",
    "# rows = [\"CVaR\", \"MVar\", \"TOP3\"] + list(baselines.keys())\n",
    "# finals = [equity_cvar_80.iloc[-1], equity_mv.iloc[-1], top3_eq.iloc[-1]] + [\n",
    "#     s.iloc[-1] for s in baselines.values()\n",
    "# ]\n",
    "# cumret = [(v / INITIAL_CASH - 1) * 100 for v in finals]\n",
    "# summary = pd.DataFrame({\"final_$\": finals, \"cum_%\": cumret}, index=rows).round(2)\n",
    "\n",
    "# print(\"\\n===== SUMMARY =====\")\n",
    "# print(summary.to_string())\n",
    "\n",
    "# # print last weights for both strategies\n",
    "# print(\"\\n===== LAST CVaR WEIGHTS (|w| ≥ {:.4f}) =====\".format(SHOW_ABS_GT))\n",
    "# print(w_cvar_80.iloc[-1][w_cvar_80.iloc[-1].abs() >= SHOW_ABS_GT].round(6).to_string())\n",
    "\n",
    "# print(\"\\n===== LAST MVar WEIGHTS (|w| ≥ {:.4f}) =====\".format(SHOW_ABS_GT))\n",
    "# print(w_mv.iloc[-1][w_mv.iloc[-1].abs() >= SHOW_ABS_GT].round(6).to_string())\n",
    "\n",
    "# # ── equity curves ──────────────────────────────────────────────────── #\n",
    "# series_equity = {\n",
    "#     \"CVaR_80\": equity_cvar_80,\n",
    "#     \"CVaR_95\": equity_cvar_95,\n",
    "#     \"MVar\": equity_mv,\n",
    "#     \"TOP3\": top3_eq,\n",
    "# } | baselines\n",
    "# line_chart(series_equity, f\"Equity curve — re‑balance = {FREQ}\", \"Portfolio value ($)\")\n",
    "\n",
    "# # ── KPI charts (rolling CVaR, σ, Sharpe, drawdowns, boxplot) ───────── #\n",
    "# returns = {k: pct_ret(v) for k, v in series_equity.items()}\n",
    "# window = 12  # approx. 30 periods ≈ one trading month\n",
    "\n",
    "# # 1. Rolling CVaR\n",
    "# # rolling_cvar_series = {k: rolling_cvar(r, BETA, window) for k, r in returns.items()}\n",
    "# # line_chart(\n",
    "# #     rolling_cvar_series,\n",
    "# #     f\"Rolling {int(BETA*100)}% CVaR (window={window})\",\n",
    "# #     \"CVaR (mean loss)\",\n",
    "# # )\n",
    "\n",
    "# # 2. Rolling volatility σ\n",
    "# rolling_vol = {k: r.rolling(window).std() for k, r in returns.items()}\n",
    "# line_chart(rolling_vol, f\"Rolling volatility σ (window={window})\", \"Std‑dev of returns\")\n",
    "\n",
    "# # 3. Rolling Sharpe\n",
    "# rolling_sharpe = {\n",
    "#     k: r.rolling(window).mean() / r.rolling(window).std() for k, r in returns.items()\n",
    "# }\n",
    "# line_chart(rolling_sharpe, f\"Rolling Sharpe ratio (window={window})\", \"Sharpe ≈ μ/σ\")\n",
    "\n",
    "# # 4. Drawdowns\n",
    "# drawdowns = {k: drawdown_curve(eq) for k, eq in series_equity.items()}\n",
    "# line_chart(drawdowns, \"Drawdown curves\", \"Drawdown (%)\")\n",
    "\n",
    "# # 5. Box‑plot of period returns\n",
    "# boxplot(returns, \"Distribution of period returns\")\n",
    "\n",
    "\n",
    "# # if __name__ == \"__main__\":\n",
    "# #     _run_cli()"
   ]
  },
  {
   "cell_type": "code",
   "execution_count": null,
   "id": "8d88bc63",
   "metadata": {},
   "outputs": [],
   "source": []
  },
  {
   "cell_type": "code",
   "execution_count": null,
   "id": "22998275",
   "metadata": {},
   "outputs": [],
   "source": []
  },
  {
   "cell_type": "code",
   "execution_count": null,
   "id": "dc905706",
   "metadata": {},
   "outputs": [],
   "source": []
  },
  {
   "cell_type": "code",
   "execution_count": null,
   "id": "0d5783b8",
   "metadata": {},
   "outputs": [],
   "source": []
  }
 ],
 "metadata": {
  "kernelspec": {
   "display_name": "venv",
   "language": "python",
   "name": "python3"
  },
  "language_info": {
   "codemirror_mode": {
    "name": "ipython",
    "version": 3
   },
   "file_extension": ".py",
   "mimetype": "text/x-python",
   "name": "python",
   "nbconvert_exporter": "python",
   "pygments_lexer": "ipython3",
   "version": "3.11.4"
  }
 },
 "nbformat": 4,
 "nbformat_minor": 5
}
