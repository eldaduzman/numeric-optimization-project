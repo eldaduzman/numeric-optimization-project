{
 "cells": [
  {
   "cell_type": "code",
   "execution_count": 17,
   "id": "047386c6",
   "metadata": {},
   "outputs": [],
   "source": [
    "from pathlib import Path\n",
    "from typing import Tuple, Dict, Callable\n",
    "import cProfile\n",
    "import numpy as np\n",
    "import pandas as pd\n",
    "import plotly.graph_objects as go\n",
    "\n",
    "import plotly.express as pexp\n",
    "from main import load_prices, log_returns, optimise_cvar, optimize_mean_variance, simulate_top_n"
   ]
  },
  {
   "cell_type": "code",
   "execution_count": 18,
   "id": "350714dd",
   "metadata": {},
   "outputs": [],
   "source": [
    "DATA_PATH = Path(\"stocks_clean_aligned_v2.csv\")\n",
    "# BETA = 0.8\n",
    "TARGET_RETURN = 1e-5\n",
    "SHORT_CAP = 0\n",
    "FREQ = \"M\"  # monthly\n",
    "INITIAL_CASH = 1000.0\n",
    "SHOW_ABS_GT = 1e-10\n",
    "BASELINES = [\"MSFT\", \"MRK\", \"GOOGL\", \"CVX\"]\n",
    "window = 5"
   ]
  },
  {
   "cell_type": "code",
   "execution_count": 19,
   "id": "2504bdf8",
   "metadata": {},
   "outputs": [],
   "source": [
    "\n",
    "def walk_forward(\n",
    "    prices: pd.DataFrame,\n",
    "    optimiser: Callable[..., dict],\n",
    "    init_cash: float = 100.0,\n",
    "    freq: str = \"M\",\n",
    "    label: str = \"strategy\",\n",
    ") -> Tuple[pd.Series, pd.DataFrame]:\n",
    "    \"\"\"Generic walk‑forward wrapper for any single‑period optimiser.\"\"\"\n",
    "    periods = pd.period_range(prices.index.min(), prices.index.max(), freq=freq)\n",
    "\n",
    "    eq_curve, w_log = [], []\n",
    "    equity = init_cash\n",
    "\n",
    "    for i in range(len(periods) - 1):\n",
    "        # optimise with all info ≤ period end\n",
    "        R = log_returns(prices.loc[: periods[i].end_time])\n",
    "        if R.empty:\n",
    "            continue\n",
    "\n",
    "        res = optimiser(R)\n",
    "        w = res[\"weights\"]\n",
    "\n",
    "        # hold during next period\n",
    "        hold_px = prices.loc[periods[i].end_time : periods[i + 1].end_time]\n",
    "        if len(hold_px) < 2:\n",
    "            continue\n",
    "        ret = np.dot((hold_px.iloc[-1] / hold_px.iloc[0] - 1), w.fillna(0.0))\n",
    "        equity *= 1 + ret\n",
    "\n",
    "        eq_curve.append((periods[i + 1].end_time, equity))\n",
    "        w_log.append((periods[i + 1].end_time, w))\n",
    "\n",
    "    equity_ser = pd.Series(\n",
    "        [v for _, v in eq_curve],\n",
    "        index=pd.DatetimeIndex([d for d, _ in eq_curve], name=\"date\"),\n",
    "        name=label,\n",
    "    )\n",
    "    weights_df = (\n",
    "        pd.concat([w.rename(d) for d, w in w_log], axis=1)\n",
    "        .T.sort_index()\n",
    "        .rename_axis(\"date\")\n",
    "    )\n",
    "    return equity_ser, weights_df\n",
    "\n",
    "\n",
    "def pct_ret(series: pd.Series) -> pd.Series:\n",
    "    return series.pct_change().dropna()\n",
    "\n",
    "\n",
    "def rolling_cvar(ret: pd.Series, beta: float, window: int) -> pd.Series:\n",
    "    def cvar(x):\n",
    "        losses = x[x < 0]\n",
    "        if losses.empty:\n",
    "            return 0.0\n",
    "        var = np.quantile(losses, 1 - beta)\n",
    "        return losses[losses <= var].mean()\n",
    "\n",
    "    return ret.rolling(window).apply(cvar, raw=False)\n",
    "\n",
    "\n",
    "def drawdown_curve(equity: pd.Series) -> pd.Series:\n",
    "    cummax = equity.cummax()\n",
    "    return (equity - cummax) / cummax\n",
    "\n",
    "\n",
    "\n",
    "def line_chart(series_dict: Dict[str, pd.Series], title: str, y_title: str):\n",
    "    fig = go.Figure()\n",
    "    for name, s in series_dict.items():\n",
    "        s.fillna(0, inplace=True)\n",
    "        fig.add_trace(go.Scatter(x=s.index, y=s.values, mode=\"lines\", name=name))\n",
    "    fig.update_layout(\n",
    "        title=title,\n",
    "        xaxis_title=\"Date\",\n",
    "        yaxis_title=y_title,\n",
    "        legend_title=\"Series\",\n",
    "        template=\"plotly_white\",\n",
    "    )\n",
    "    fig.show()\n",
    "\n",
    "\n",
    "def boxplot(returns: Dict[str, pd.Series], title: str):\n",
    "    fig = go.Figure()\n",
    "    for name, r in returns.items():\n",
    "        fig.add_trace(\n",
    "            go.Box(\n",
    "                x=r.values,\n",
    "                name=name,\n",
    "                boxmean=\"sd\",\n",
    "                orientation=\"h\",\n",
    "            )\n",
    "        )\n",
    "    fig.update_layout(title=title, template=\"plotly_white\", xaxis_title=\"Return\")\n",
    "    fig.show()\n",
    "\n",
    "\n"
   ]
  },
  {
   "cell_type": "code",
   "execution_count": 20,
   "id": "f32cbd90",
   "metadata": {},
   "outputs": [],
   "source": [
    "prices = load_prices(DATA_PATH)\n"
   ]
  },
  {
   "cell_type": "code",
   "execution_count": null,
   "id": "0ecf3729",
   "metadata": {},
   "outputs": [],
   "source": []
  },
  {
   "cell_type": "code",
   "execution_count": null,
   "id": "fb5b94e9",
   "metadata": {},
   "outputs": [],
   "source": [
    "# equity_cvar_90, w_cvar_90 = walk_forward(\n",
    "#     prices,\n",
    "#     lambda R: optimise_cvar(R, 0.9, TARGET_RETURN, SHORT_CAP),\n",
    "#     INITIAL_CASH,\n",
    "#     FREQ,\n",
    "#     label=\"CVaR 90\",\n",
    "# )\n",
    "\n"
   ]
  },
  {
   "cell_type": "code",
   "execution_count": null,
   "id": "f691d027",
   "metadata": {},
   "outputs": [],
   "source": [
    "\n",
    "\n",
    "with cProfile.Profile() as pr:\n",
    "    equity_cvar_90, w_cvar_90 = walk_forward(\n",
    "        prices,\n",
    "        lambda R: optimise_cvar(R, 0.9, TARGET_RETURN, SHORT_CAP),\n",
    "        INITIAL_CASH,\n",
    "        FREQ,\n",
    "        label=\"CVaR 90\",\n",
    "    )\n",
    "\n",
    "pr.dump_stats(\"walk_forward_profile_cvar_90.prof\")\n"
   ]
  },
  {
   "cell_type": "code",
   "execution_count": 23,
   "id": "b3213af4",
   "metadata": {},
   "outputs": [],
   "source": [
    "\n",
    "\n",
    "\n",
    "with cProfile.Profile() as pr:\n",
    "    equity_cvar_95, w_cvar_95 = walk_forward(\n",
    "        prices,\n",
    "        lambda R: optimise_cvar(R, 0.95, TARGET_RETURN, SHORT_CAP),\n",
    "        INITIAL_CASH,\n",
    "        FREQ,\n",
    "        label=\"CVaR 95\",\n",
    "    )\n",
    "\n",
    "pr.dump_stats(\"walk_forward_profile_cvar_95.prof\")"
   ]
  },
  {
   "cell_type": "code",
   "execution_count": null,
   "id": "4d4d03fb",
   "metadata": {},
   "outputs": [],
   "source": [
    "\n",
    "\n",
    "with cProfile.Profile() as pr:\n",
    "    equity_cvar_80, w_cvar_80 = walk_forward(\n",
    "        prices,\n",
    "        lambda R: optimise_cvar(R, 0.8, TARGET_RETURN, SHORT_CAP),\n",
    "        INITIAL_CASH,\n",
    "        FREQ,\n",
    "        label=\"CVaR 80\",\n",
    "    )\n",
    "\n",
    "pr.dump_stats(\"walk_forward_profile_cvar_80.prof\")"
   ]
  },
  {
   "cell_type": "code",
   "execution_count": null,
   "id": "020d7fc0",
   "metadata": {},
   "outputs": [],
   "source": [
    "\n",
    "\n",
    "with cProfile.Profile() as pr:\n",
    "    equity_cvar_99, w_cvar_99 = walk_forward(\n",
    "        prices,\n",
    "        lambda R: optimise_cvar(R, 0.99, TARGET_RETURN, SHORT_CAP),\n",
    "        INITIAL_CASH,\n",
    "        FREQ,\n",
    "        label=\"CVaR 99\",\n",
    "    )\n",
    "\n",
    "pr.dump_stats(\"walk_forward_profile_cvar_99.prof\")"
   ]
  },
  {
   "cell_type": "code",
   "execution_count": 25,
   "id": "19f12b29",
   "metadata": {},
   "outputs": [],
   "source": [
    "\n",
    "\n",
    "\n",
    "with cProfile.Profile() as pr:\n",
    "    equity_mv, w_mv = walk_forward(\n",
    "        prices,\n",
    "        lambda R: optimize_mean_variance(R, TARGET_RETURN, SHORT_CAP),\n",
    "        INITIAL_CASH,\n",
    "        FREQ,\n",
    "        label=\"MVar\",\n",
    "    )\n",
    "\n",
    "pr.dump_stats(\"walk_forward_profile_mvar.prof\")\n",
    "\n"
   ]
  },
  {
   "cell_type": "code",
   "execution_count": 26,
   "id": "f59cd93a",
   "metadata": {},
   "outputs": [
    {
     "name": "stderr",
     "output_type": "stream",
     "text": [
      "C:\\Users\\uzman\\AppData\\Local\\Temp\\ipykernel_44224\\3533111393.py:1: FutureWarning: 'M' is deprecated and will be removed in a future version, please use 'ME' instead.\n",
      "  top3_eq = simulate_top_n(prices.resample(FREQ).last(), 3, INITIAL_CASH)\n"
     ]
    }
   ],
   "source": [
    "top3_eq = simulate_top_n(prices.resample(FREQ).last(), 3, INITIAL_CASH)"
   ]
  },
  {
   "cell_type": "code",
   "execution_count": 27,
   "id": "94ec14b2",
   "metadata": {},
   "outputs": [],
   "source": [
    "baselines: Dict[str, pd.Series] = {}\n",
    "for tkr in BASELINES:\n",
    "    if tkr not in prices.columns:\n",
    "        raise KeyError(f\"Ticker '{tkr}' not found.\")\n",
    "    px = prices[tkr].sort_index().reindex(equity_cvar_80.index, method=\"ffill\")\n",
    "    baselines[tkr] = INITIAL_CASH * px / px.iloc[0]\n",
    "    baselines[tkr].name = tkr"
   ]
  },
  {
   "cell_type": "code",
   "execution_count": null,
   "id": "05db80d6",
   "metadata": {},
   "outputs": [],
   "source": [
    "rows = [\"CVaR_80\", \"CVaR_95\", \"CVaR_90\",\"CVaR_99\", \"MVar\", \"TOP3\"] + list(baselines.keys())\n",
    "finals = [\n",
    "    equity_cvar_80.iloc[-1],\n",
    "    equity_cvar_95.iloc[-1],\n",
    "    equity_cvar_90.iloc[-1],\n",
    "    w_cvar_99.iloc[-1],\n",
    "    equity_mv.iloc[-1],\n",
    "    top3_eq.iloc[-1],\n",
    "] + [s.iloc[-1] for s in baselines.values()]\n",
    "cumret = [(v / INITIAL_CASH - 1) * 100 for v in finals]\n",
    "summary = (\n",
    "    pd.DataFrame({\"final_$\": finals, \"cum_%\": cumret}, index=rows)\n",
    "    .round(2)\n",
    "    .sort_values(by=\"cum_%\")\n",
    "    .reset_index()\n",
    ")"
   ]
  },
  {
   "cell_type": "code",
   "execution_count": 29,
   "id": "dcb49646",
   "metadata": {},
   "outputs": [
    {
     "data": {
      "text/html": [
       "<div>\n",
       "<style scoped>\n",
       "    .dataframe tbody tr th:only-of-type {\n",
       "        vertical-align: middle;\n",
       "    }\n",
       "\n",
       "    .dataframe tbody tr th {\n",
       "        vertical-align: top;\n",
       "    }\n",
       "\n",
       "    .dataframe thead th {\n",
       "        text-align: right;\n",
       "    }\n",
       "</style>\n",
       "<table border=\"1\" class=\"dataframe\">\n",
       "  <thead>\n",
       "    <tr style=\"text-align: right;\">\n",
       "      <th></th>\n",
       "      <th>index</th>\n",
       "      <th>final_$</th>\n",
       "      <th>cum_%</th>\n",
       "    </tr>\n",
       "  </thead>\n",
       "  <tbody>\n",
       "    <tr>\n",
       "      <th>0</th>\n",
       "      <td>CVX</td>\n",
       "      <td>1129.64</td>\n",
       "      <td>12.96</td>\n",
       "    </tr>\n",
       "    <tr>\n",
       "      <th>1</th>\n",
       "      <td>MRK</td>\n",
       "      <td>1553.57</td>\n",
       "      <td>55.36</td>\n",
       "    </tr>\n",
       "    <tr>\n",
       "      <th>2</th>\n",
       "      <td>TOP3</td>\n",
       "      <td>1802.77</td>\n",
       "      <td>80.28</td>\n",
       "    </tr>\n",
       "    <tr>\n",
       "      <th>3</th>\n",
       "      <td>GOOGL</td>\n",
       "      <td>2380.73</td>\n",
       "      <td>138.07</td>\n",
       "    </tr>\n",
       "    <tr>\n",
       "      <th>4</th>\n",
       "      <td>MSFT</td>\n",
       "      <td>3596.35</td>\n",
       "      <td>259.64</td>\n",
       "    </tr>\n",
       "    <tr>\n",
       "      <th>5</th>\n",
       "      <td>CVaR_95</td>\n",
       "      <td>7536.64</td>\n",
       "      <td>653.66</td>\n",
       "    </tr>\n",
       "    <tr>\n",
       "      <th>6</th>\n",
       "      <td>CVaR_90</td>\n",
       "      <td>7571.41</td>\n",
       "      <td>657.14</td>\n",
       "    </tr>\n",
       "    <tr>\n",
       "      <th>7</th>\n",
       "      <td>MVar</td>\n",
       "      <td>7818.84</td>\n",
       "      <td>681.88</td>\n",
       "    </tr>\n",
       "    <tr>\n",
       "      <th>8</th>\n",
       "      <td>CVaR_80</td>\n",
       "      <td>9069.32</td>\n",
       "      <td>806.93</td>\n",
       "    </tr>\n",
       "  </tbody>\n",
       "</table>\n",
       "</div>"
      ],
      "text/plain": [
       "     index  final_$   cum_%\n",
       "0      CVX  1129.64   12.96\n",
       "1      MRK  1553.57   55.36\n",
       "2     TOP3  1802.77   80.28\n",
       "3    GOOGL  2380.73  138.07\n",
       "4     MSFT  3596.35  259.64\n",
       "5  CVaR_95  7536.64  653.66\n",
       "6  CVaR_90  7571.41  657.14\n",
       "7     MVar  7818.84  681.88\n",
       "8  CVaR_80  9069.32  806.93"
      ]
     },
     "execution_count": 29,
     "metadata": {},
     "output_type": "execute_result"
    }
   ],
   "source": [
    "summary"
   ]
  },
  {
   "cell_type": "code",
   "execution_count": 30,
   "id": "48eab200",
   "metadata": {},
   "outputs": [
    {
     "data": {
      "application/vnd.plotly.v1+json": {
       "config": {
        "plotlyServerURL": "https://plot.ly"
       },
       "data": [
        {
         "hovertemplate": "index=%{x}<br>cum_%=%{marker.color}<br>cum_%_str=%{text}<extra></extra>",
         "legendgroup": "",
         "marker": {
          "color": {
           "bdata": "7FG4HoXrKUCuR+F6FK5LQFK4HoXrEVRACtejcD1CYUAK16NwPTpwQOF6FK5HbYRAhetRuB6JhEDXo3A9Ck+FQD0K16NwN4lA",
           "dtype": "f8"
          },
          "coloraxis": "coloraxis",
          "pattern": {
           "shape": ""
          }
         },
         "name": "",
         "orientation": "v",
         "showlegend": false,
         "text": [
          "13.0%",
          "55.4%",
          "80.3%",
          "138.1%",
          "259.6%",
          "653.7%",
          "657.1%",
          "681.9%",
          "806.9%"
         ],
         "textfont": {
          "size": 12
         },
         "textposition": "inside",
         "type": "bar",
         "x": [
          "CVX",
          "MRK",
          "TOP3",
          "GOOGL",
          "MSFT",
          "CVaR_95",
          "CVaR_90",
          "MVar",
          "CVaR_80"
         ],
         "xaxis": "x",
         "y": {
          "bdata": "7FG4HoXrKUCuR+F6FK5LQFK4HoXrEVRACtejcD1CYUAK16NwPTpwQOF6FK5HbYRAhetRuB6JhEDXo3A9Ck+FQD0K16NwN4lA",
          "dtype": "f8"
         },
         "yaxis": "y"
        }
       ],
       "layout": {
        "barmode": "relative",
        "coloraxis": {
         "colorbar": {
          "title": {
           "text": "cum_%"
          }
         },
         "colorscale": [
          [
           0,
           "rgb(247,251,255)"
          ],
          [
           0.125,
           "rgb(222,235,247)"
          ],
          [
           0.25,
           "rgb(198,219,239)"
          ],
          [
           0.375,
           "rgb(158,202,225)"
          ],
          [
           0.5,
           "rgb(107,174,214)"
          ],
          [
           0.625,
           "rgb(66,146,198)"
          ],
          [
           0.75,
           "rgb(33,113,181)"
          ],
          [
           0.875,
           "rgb(8,81,156)"
          ],
          [
           1,
           "rgb(8,48,107)"
          ]
         ]
        },
        "font": {
         "size": 15
        },
        "legend": {
         "tracegroupgap": 0
        },
        "plot_bgcolor": "white",
        "template": {
         "data": {
          "bar": [
           {
            "error_x": {
             "color": "#2a3f5f"
            },
            "error_y": {
             "color": "#2a3f5f"
            },
            "marker": {
             "line": {
              "color": "#E5ECF6",
              "width": 0.5
             },
             "pattern": {
              "fillmode": "overlay",
              "size": 10,
              "solidity": 0.2
             }
            },
            "type": "bar"
           }
          ],
          "barpolar": [
           {
            "marker": {
             "line": {
              "color": "#E5ECF6",
              "width": 0.5
             },
             "pattern": {
              "fillmode": "overlay",
              "size": 10,
              "solidity": 0.2
             }
            },
            "type": "barpolar"
           }
          ],
          "carpet": [
           {
            "aaxis": {
             "endlinecolor": "#2a3f5f",
             "gridcolor": "white",
             "linecolor": "white",
             "minorgridcolor": "white",
             "startlinecolor": "#2a3f5f"
            },
            "baxis": {
             "endlinecolor": "#2a3f5f",
             "gridcolor": "white",
             "linecolor": "white",
             "minorgridcolor": "white",
             "startlinecolor": "#2a3f5f"
            },
            "type": "carpet"
           }
          ],
          "choropleth": [
           {
            "colorbar": {
             "outlinewidth": 0,
             "ticks": ""
            },
            "type": "choropleth"
           }
          ],
          "contour": [
           {
            "colorbar": {
             "outlinewidth": 0,
             "ticks": ""
            },
            "colorscale": [
             [
              0,
              "#0d0887"
             ],
             [
              0.1111111111111111,
              "#46039f"
             ],
             [
              0.2222222222222222,
              "#7201a8"
             ],
             [
              0.3333333333333333,
              "#9c179e"
             ],
             [
              0.4444444444444444,
              "#bd3786"
             ],
             [
              0.5555555555555556,
              "#d8576b"
             ],
             [
              0.6666666666666666,
              "#ed7953"
             ],
             [
              0.7777777777777778,
              "#fb9f3a"
             ],
             [
              0.8888888888888888,
              "#fdca26"
             ],
             [
              1,
              "#f0f921"
             ]
            ],
            "type": "contour"
           }
          ],
          "contourcarpet": [
           {
            "colorbar": {
             "outlinewidth": 0,
             "ticks": ""
            },
            "type": "contourcarpet"
           }
          ],
          "heatmap": [
           {
            "colorbar": {
             "outlinewidth": 0,
             "ticks": ""
            },
            "colorscale": [
             [
              0,
              "#0d0887"
             ],
             [
              0.1111111111111111,
              "#46039f"
             ],
             [
              0.2222222222222222,
              "#7201a8"
             ],
             [
              0.3333333333333333,
              "#9c179e"
             ],
             [
              0.4444444444444444,
              "#bd3786"
             ],
             [
              0.5555555555555556,
              "#d8576b"
             ],
             [
              0.6666666666666666,
              "#ed7953"
             ],
             [
              0.7777777777777778,
              "#fb9f3a"
             ],
             [
              0.8888888888888888,
              "#fdca26"
             ],
             [
              1,
              "#f0f921"
             ]
            ],
            "type": "heatmap"
           }
          ],
          "histogram": [
           {
            "marker": {
             "pattern": {
              "fillmode": "overlay",
              "size": 10,
              "solidity": 0.2
             }
            },
            "type": "histogram"
           }
          ],
          "histogram2d": [
           {
            "colorbar": {
             "outlinewidth": 0,
             "ticks": ""
            },
            "colorscale": [
             [
              0,
              "#0d0887"
             ],
             [
              0.1111111111111111,
              "#46039f"
             ],
             [
              0.2222222222222222,
              "#7201a8"
             ],
             [
              0.3333333333333333,
              "#9c179e"
             ],
             [
              0.4444444444444444,
              "#bd3786"
             ],
             [
              0.5555555555555556,
              "#d8576b"
             ],
             [
              0.6666666666666666,
              "#ed7953"
             ],
             [
              0.7777777777777778,
              "#fb9f3a"
             ],
             [
              0.8888888888888888,
              "#fdca26"
             ],
             [
              1,
              "#f0f921"
             ]
            ],
            "type": "histogram2d"
           }
          ],
          "histogram2dcontour": [
           {
            "colorbar": {
             "outlinewidth": 0,
             "ticks": ""
            },
            "colorscale": [
             [
              0,
              "#0d0887"
             ],
             [
              0.1111111111111111,
              "#46039f"
             ],
             [
              0.2222222222222222,
              "#7201a8"
             ],
             [
              0.3333333333333333,
              "#9c179e"
             ],
             [
              0.4444444444444444,
              "#bd3786"
             ],
             [
              0.5555555555555556,
              "#d8576b"
             ],
             [
              0.6666666666666666,
              "#ed7953"
             ],
             [
              0.7777777777777778,
              "#fb9f3a"
             ],
             [
              0.8888888888888888,
              "#fdca26"
             ],
             [
              1,
              "#f0f921"
             ]
            ],
            "type": "histogram2dcontour"
           }
          ],
          "mesh3d": [
           {
            "colorbar": {
             "outlinewidth": 0,
             "ticks": ""
            },
            "type": "mesh3d"
           }
          ],
          "parcoords": [
           {
            "line": {
             "colorbar": {
              "outlinewidth": 0,
              "ticks": ""
             }
            },
            "type": "parcoords"
           }
          ],
          "pie": [
           {
            "automargin": true,
            "type": "pie"
           }
          ],
          "scatter": [
           {
            "fillpattern": {
             "fillmode": "overlay",
             "size": 10,
             "solidity": 0.2
            },
            "type": "scatter"
           }
          ],
          "scatter3d": [
           {
            "line": {
             "colorbar": {
              "outlinewidth": 0,
              "ticks": ""
             }
            },
            "marker": {
             "colorbar": {
              "outlinewidth": 0,
              "ticks": ""
             }
            },
            "type": "scatter3d"
           }
          ],
          "scattercarpet": [
           {
            "marker": {
             "colorbar": {
              "outlinewidth": 0,
              "ticks": ""
             }
            },
            "type": "scattercarpet"
           }
          ],
          "scattergeo": [
           {
            "marker": {
             "colorbar": {
              "outlinewidth": 0,
              "ticks": ""
             }
            },
            "type": "scattergeo"
           }
          ],
          "scattergl": [
           {
            "marker": {
             "colorbar": {
              "outlinewidth": 0,
              "ticks": ""
             }
            },
            "type": "scattergl"
           }
          ],
          "scattermap": [
           {
            "marker": {
             "colorbar": {
              "outlinewidth": 0,
              "ticks": ""
             }
            },
            "type": "scattermap"
           }
          ],
          "scattermapbox": [
           {
            "marker": {
             "colorbar": {
              "outlinewidth": 0,
              "ticks": ""
             }
            },
            "type": "scattermapbox"
           }
          ],
          "scatterpolar": [
           {
            "marker": {
             "colorbar": {
              "outlinewidth": 0,
              "ticks": ""
             }
            },
            "type": "scatterpolar"
           }
          ],
          "scatterpolargl": [
           {
            "marker": {
             "colorbar": {
              "outlinewidth": 0,
              "ticks": ""
             }
            },
            "type": "scatterpolargl"
           }
          ],
          "scatterternary": [
           {
            "marker": {
             "colorbar": {
              "outlinewidth": 0,
              "ticks": ""
             }
            },
            "type": "scatterternary"
           }
          ],
          "surface": [
           {
            "colorbar": {
             "outlinewidth": 0,
             "ticks": ""
            },
            "colorscale": [
             [
              0,
              "#0d0887"
             ],
             [
              0.1111111111111111,
              "#46039f"
             ],
             [
              0.2222222222222222,
              "#7201a8"
             ],
             [
              0.3333333333333333,
              "#9c179e"
             ],
             [
              0.4444444444444444,
              "#bd3786"
             ],
             [
              0.5555555555555556,
              "#d8576b"
             ],
             [
              0.6666666666666666,
              "#ed7953"
             ],
             [
              0.7777777777777778,
              "#fb9f3a"
             ],
             [
              0.8888888888888888,
              "#fdca26"
             ],
             [
              1,
              "#f0f921"
             ]
            ],
            "type": "surface"
           }
          ],
          "table": [
           {
            "cells": {
             "fill": {
              "color": "#EBF0F8"
             },
             "line": {
              "color": "white"
             }
            },
            "header": {
             "fill": {
              "color": "#C8D4E3"
             },
             "line": {
              "color": "white"
             }
            },
            "type": "table"
           }
          ]
         },
         "layout": {
          "annotationdefaults": {
           "arrowcolor": "#2a3f5f",
           "arrowhead": 0,
           "arrowwidth": 1
          },
          "autotypenumbers": "strict",
          "coloraxis": {
           "colorbar": {
            "outlinewidth": 0,
            "ticks": ""
           }
          },
          "colorscale": {
           "diverging": [
            [
             0,
             "#8e0152"
            ],
            [
             0.1,
             "#c51b7d"
            ],
            [
             0.2,
             "#de77ae"
            ],
            [
             0.3,
             "#f1b6da"
            ],
            [
             0.4,
             "#fde0ef"
            ],
            [
             0.5,
             "#f7f7f7"
            ],
            [
             0.6,
             "#e6f5d0"
            ],
            [
             0.7,
             "#b8e186"
            ],
            [
             0.8,
             "#7fbc41"
            ],
            [
             0.9,
             "#4d9221"
            ],
            [
             1,
             "#276419"
            ]
           ],
           "sequential": [
            [
             0,
             "#0d0887"
            ],
            [
             0.1111111111111111,
             "#46039f"
            ],
            [
             0.2222222222222222,
             "#7201a8"
            ],
            [
             0.3333333333333333,
             "#9c179e"
            ],
            [
             0.4444444444444444,
             "#bd3786"
            ],
            [
             0.5555555555555556,
             "#d8576b"
            ],
            [
             0.6666666666666666,
             "#ed7953"
            ],
            [
             0.7777777777777778,
             "#fb9f3a"
            ],
            [
             0.8888888888888888,
             "#fdca26"
            ],
            [
             1,
             "#f0f921"
            ]
           ],
           "sequentialminus": [
            [
             0,
             "#0d0887"
            ],
            [
             0.1111111111111111,
             "#46039f"
            ],
            [
             0.2222222222222222,
             "#7201a8"
            ],
            [
             0.3333333333333333,
             "#9c179e"
            ],
            [
             0.4444444444444444,
             "#bd3786"
            ],
            [
             0.5555555555555556,
             "#d8576b"
            ],
            [
             0.6666666666666666,
             "#ed7953"
            ],
            [
             0.7777777777777778,
             "#fb9f3a"
            ],
            [
             0.8888888888888888,
             "#fdca26"
            ],
            [
             1,
             "#f0f921"
            ]
           ]
          },
          "colorway": [
           "#636efa",
           "#EF553B",
           "#00cc96",
           "#ab63fa",
           "#FFA15A",
           "#19d3f3",
           "#FF6692",
           "#B6E880",
           "#FF97FF",
           "#FECB52"
          ],
          "font": {
           "color": "#2a3f5f"
          },
          "geo": {
           "bgcolor": "white",
           "lakecolor": "white",
           "landcolor": "#E5ECF6",
           "showlakes": true,
           "showland": true,
           "subunitcolor": "white"
          },
          "hoverlabel": {
           "align": "left"
          },
          "hovermode": "closest",
          "mapbox": {
           "style": "light"
          },
          "paper_bgcolor": "white",
          "plot_bgcolor": "#E5ECF6",
          "polar": {
           "angularaxis": {
            "gridcolor": "white",
            "linecolor": "white",
            "ticks": ""
           },
           "bgcolor": "#E5ECF6",
           "radialaxis": {
            "gridcolor": "white",
            "linecolor": "white",
            "ticks": ""
           }
          },
          "scene": {
           "xaxis": {
            "backgroundcolor": "#E5ECF6",
            "gridcolor": "white",
            "gridwidth": 2,
            "linecolor": "white",
            "showbackground": true,
            "ticks": "",
            "zerolinecolor": "white"
           },
           "yaxis": {
            "backgroundcolor": "#E5ECF6",
            "gridcolor": "white",
            "gridwidth": 2,
            "linecolor": "white",
            "showbackground": true,
            "ticks": "",
            "zerolinecolor": "white"
           },
           "zaxis": {
            "backgroundcolor": "#E5ECF6",
            "gridcolor": "white",
            "gridwidth": 2,
            "linecolor": "white",
            "showbackground": true,
            "ticks": "",
            "zerolinecolor": "white"
           }
          },
          "shapedefaults": {
           "line": {
            "color": "#2a3f5f"
           }
          },
          "ternary": {
           "aaxis": {
            "gridcolor": "white",
            "linecolor": "white",
            "ticks": ""
           },
           "baxis": {
            "gridcolor": "white",
            "linecolor": "white",
            "ticks": ""
           },
           "bgcolor": "#E5ECF6",
           "caxis": {
            "gridcolor": "white",
            "linecolor": "white",
            "ticks": ""
           }
          },
          "title": {
           "x": 0.05
          },
          "xaxis": {
           "automargin": true,
           "gridcolor": "white",
           "linecolor": "white",
           "ticks": "",
           "title": {
            "standoff": 15
           },
           "zerolinecolor": "white",
           "zerolinewidth": 2
          },
          "yaxis": {
           "automargin": true,
           "gridcolor": "white",
           "linecolor": "white",
           "ticks": "",
           "title": {
            "standoff": 15
           },
           "zerolinecolor": "white",
           "zerolinewidth": 2
          }
         }
        },
        "title": {
         "text": "Cumulative Percentage by Strategy",
         "x": 0.5
        },
        "xaxis": {
         "anchor": "y",
         "domain": [
          0,
          1
         ],
         "showgrid": false,
         "title": {
          "text": "Strategy"
         }
        },
        "yaxis": {
         "anchor": "x",
         "domain": [
          0,
          1
         ],
         "gridcolor": "lightgray",
         "showgrid": true,
         "ticksuffix": "%",
         "title": {
          "text": "Cumulative %"
         }
        }
       }
      }
     },
     "metadata": {},
     "output_type": "display_data"
    }
   ],
   "source": [
    "\n",
    "df = summary.sort_values(by=\"cum_%\").copy()\n",
    "df[\"cum_%_str\"] = df[\"cum_%\"].map(lambda x: f\"{x:.1f}%\")\n",
    "\n",
    "fig = pexp.bar(\n",
    "    df,\n",
    "    x=\"index\",\n",
    "    y=\"cum_%\",\n",
    "    text=\"cum_%_str\",\n",
    "    color=\"cum_%\",  # Color intensity by percentage\n",
    "    color_continuous_scale=\"Blues\",  # Choose your color theme\n",
    "    title=\"Cumulative Percentage by Strategy\"\n",
    ")\n",
    "\n",
    "# Customize layout\n",
    "fig.update_layout(\n",
    "    xaxis_title=\"Strategy\",\n",
    "    yaxis_title=\"Cumulative %\",\n",
    "    title_x=0.5,\n",
    "    plot_bgcolor=\"white\",\n",
    "    font=dict(size=15),\n",
    "    xaxis=dict(showgrid=False),\n",
    "    yaxis=dict(ticksuffix=\"%\", showgrid=True, gridcolor=\"lightgray\"),\n",
    ")\n",
    "\n",
    "# Set text position and size\n",
    "fig.update_traces(\n",
    "    textposition=\"inside\",\n",
    "    textfont_size=12\n",
    ")\n",
    "\n",
    "fig.show()\n"
   ]
  },
  {
   "cell_type": "code",
   "execution_count": null,
   "id": "dd7022c9",
   "metadata": {},
   "outputs": [
    {
     "name": "stdout",
     "output_type": "stream",
     "text": [
      "\n",
      "===== LAST CVaR WEIGHTS (|w| ≥ 0.0000) =====\n",
      "company\n",
      "CVX      0.016653\n",
      "GOOGL    0.165433\n",
      "JNJ      0.201692\n",
      "MRK      0.190432\n",
      "PFE      0.072406\n",
      "XOM      0.353385\n",
      "\n",
      "===== LAST MVar WEIGHTS (|w| ≥ 0.0000) =====\n",
      "company\n",
      "COP      0.017186\n",
      "GOOGL    0.198778\n",
      "JNJ      0.166940\n",
      "MRK      0.155129\n",
      "PFE      0.143891\n",
      "XOM      0.318076\n"
     ]
    },
    {
     "data": {
      "application/vnd.plotly.v1+json": {
       "config": {
        "plotlyServerURL": "https://plot.ly"
       },
       "data": [
        {
         "mode": "lines",
         "name": "CVaR_95",
         "type": "scatter",
         "x": [
          "2015-02-28T23:59:59.999999999",
          "2015-03-31T23:59:59.999999999",
          "2015-04-30T23:59:59.999999999",
          "2015-05-31T23:59:59.999999999",
          "2015-06-30T23:59:59.999999999",
          "2015-07-31T23:59:59.999999999",
          "2015-08-31T23:59:59.999999999",
          "2015-09-30T23:59:59.999999999",
          "2015-10-31T23:59:59.999999999",
          "2015-11-30T23:59:59.999999999",
          "2015-12-31T23:59:59.999999999",
          "2016-01-31T23:59:59.999999999",
          "2016-02-29T23:59:59.999999999",
          "2016-03-31T23:59:59.999999999",
          "2016-04-30T23:59:59.999999999",
          "2016-05-31T23:59:59.999999999",
          "2016-06-30T23:59:59.999999999",
          "2016-07-31T23:59:59.999999999",
          "2016-08-31T23:59:59.999999999",
          "2016-09-30T23:59:59.999999999",
          "2016-10-31T23:59:59.999999999",
          "2016-11-30T23:59:59.999999999",
          "2016-12-31T23:59:59.999999999",
          "2017-01-31T23:59:59.999999999",
          "2017-02-28T23:59:59.999999999",
          "2017-03-31T23:59:59.999999999",
          "2017-04-30T23:59:59.999999999",
          "2017-05-31T23:59:59.999999999",
          "2017-06-30T23:59:59.999999999",
          "2017-07-31T23:59:59.999999999",
          "2017-08-31T23:59:59.999999999",
          "2017-09-30T23:59:59.999999999",
          "2017-10-31T23:59:59.999999999",
          "2017-11-30T23:59:59.999999999",
          "2017-12-31T23:59:59.999999999",
          "2018-01-31T23:59:59.999999999",
          "2018-02-28T23:59:59.999999999",
          "2018-03-31T23:59:59.999999999",
          "2018-04-30T23:59:59.999999999",
          "2018-05-31T23:59:59.999999999",
          "2018-06-30T23:59:59.999999999",
          "2018-07-31T23:59:59.999999999",
          "2018-08-31T23:59:59.999999999",
          "2018-09-30T23:59:59.999999999",
          "2018-10-31T23:59:59.999999999",
          "2018-11-30T23:59:59.999999999",
          "2018-12-31T23:59:59.999999999",
          "2019-01-31T23:59:59.999999999",
          "2019-02-28T23:59:59.999999999",
          "2019-03-31T23:59:59.999999999",
          "2019-04-30T23:59:59.999999999",
          "2019-05-31T23:59:59.999999999",
          "2019-06-30T23:59:59.999999999",
          "2019-07-31T23:59:59.999999999",
          "2019-08-31T23:59:59.999999999",
          "2019-09-30T23:59:59.999999999",
          "2019-10-31T23:59:59.999999999",
          "2019-11-30T23:59:59.999999999",
          "2019-12-31T23:59:59.999999999"
         ],
         "y": {
          "bdata": "kLbJIM/Lj0CikLXl02WPQIazkxKV2o5AeZza1RUKjkDEydPSyx6NQC1EV/LLmI1AGzWWgcy5i0AzvfQe4y2KQPkPZUk+So1ARUUYFGRmjkDv7C9hWDuPQNeuM0cjUY9A7pYCF7u2j0CFLW1bm5mQQPa874YGTpFAjRcIjYyPkkDAMiXn8amUQAWO/s2EO5hAOfG2I8PFm0CzNq1+se+fQKCidXBv1aFA1Y8ZwfIrpECy0Z4rAxGnQETcKi/b56ZAogkciQhlp0D5v+BqUmSnQN/GBiIg2KdAlA4FyZ/qqEAE0c+KUmWpQIOrhWJTG6pA8suwBffEqkB5OwQrjRasQFLaFORypK1AT+hXFwwRr0DzHlJMVWuwQIeH6SkcQbBAHz+at2MYr0D47kYLMp6sQO64oaJb/6pApuOuVBmJqkCzWabFrDSsQLeNYHVFoa9AyxREQ9mrsECPl73WeCKyQIEXAPKH1bJAMV9SqC7ms0BsKR+5+wizQHJdHjxgrLJAmRNDWSZQtED0BprYbhS3QChi6ER/+rhAIyABZeMUuECmXwdbP3O4QP275DPBsrlAZnX18m+wuUBq7MCTRR26QAiek1b81LpA1ig1tkQ8vEBUvQe6o3C9QA==",
          "dtype": "f8"
         }
        },
        {
         "mode": "lines",
         "name": "CVaR_90",
         "type": "scatter",
         "x": [
          "2015-02-28T23:59:59.999999999",
          "2015-03-31T23:59:59.999999999",
          "2015-04-30T23:59:59.999999999",
          "2015-05-31T23:59:59.999999999",
          "2015-06-30T23:59:59.999999999",
          "2015-07-31T23:59:59.999999999",
          "2015-08-31T23:59:59.999999999",
          "2015-09-30T23:59:59.999999999",
          "2015-10-31T23:59:59.999999999",
          "2015-11-30T23:59:59.999999999",
          "2015-12-31T23:59:59.999999999",
          "2016-01-31T23:59:59.999999999",
          "2016-02-29T23:59:59.999999999",
          "2016-03-31T23:59:59.999999999",
          "2016-04-30T23:59:59.999999999",
          "2016-05-31T23:59:59.999999999",
          "2016-06-30T23:59:59.999999999",
          "2016-07-31T23:59:59.999999999",
          "2016-08-31T23:59:59.999999999",
          "2016-09-30T23:59:59.999999999",
          "2016-10-31T23:59:59.999999999",
          "2016-11-30T23:59:59.999999999",
          "2016-12-31T23:59:59.999999999",
          "2017-01-31T23:59:59.999999999",
          "2017-02-28T23:59:59.999999999",
          "2017-03-31T23:59:59.999999999",
          "2017-04-30T23:59:59.999999999",
          "2017-05-31T23:59:59.999999999",
          "2017-06-30T23:59:59.999999999",
          "2017-07-31T23:59:59.999999999",
          "2017-08-31T23:59:59.999999999",
          "2017-09-30T23:59:59.999999999",
          "2017-10-31T23:59:59.999999999",
          "2017-11-30T23:59:59.999999999",
          "2017-12-31T23:59:59.999999999",
          "2018-01-31T23:59:59.999999999",
          "2018-02-28T23:59:59.999999999",
          "2018-03-31T23:59:59.999999999",
          "2018-04-30T23:59:59.999999999",
          "2018-05-31T23:59:59.999999999",
          "2018-06-30T23:59:59.999999999",
          "2018-07-31T23:59:59.999999999",
          "2018-08-31T23:59:59.999999999",
          "2018-09-30T23:59:59.999999999",
          "2018-10-31T23:59:59.999999999",
          "2018-11-30T23:59:59.999999999",
          "2018-12-31T23:59:59.999999999",
          "2019-01-31T23:59:59.999999999",
          "2019-02-28T23:59:59.999999999",
          "2019-03-31T23:59:59.999999999",
          "2019-04-30T23:59:59.999999999",
          "2019-05-31T23:59:59.999999999",
          "2019-06-30T23:59:59.999999999",
          "2019-07-31T23:59:59.999999999",
          "2019-08-31T23:59:59.999999999",
          "2019-09-30T23:59:59.999999999",
          "2019-10-31T23:59:59.999999999",
          "2019-11-30T23:59:59.999999999",
          "2019-12-31T23:59:59.999999999"
         ],
         "y": {
          "bdata": "InO9IM/Lj0DinqOKlKWPQEr/SdwG/o9A4/g1UZvrj0ADjCcaqfiOQMyEoAVBqY5AgS5JZHRUjECaRArk6b6KQNQ22rvM3o1AIZyfTb0ljkA3fYluKI2OQPUfQMmOn45AWkBQwO7fjkBx/6+v4FWQQE2NEMcsSZFAd8GvrJh5kkBmlNMUStOUQNCkxYsjP5hAaak6Dka5m0BxtOrK7AGgQHexN9QMNqJANr9Y/hCNpEC5Zwaa1pinQDKZixoFg6dAV6jrSdZCqEAJhAN/9EyoQKqoNYEJ1KhA6ugcXTUXqkDlFazBYKmqQEVqhSWgX6tABeKi0kQKrECNYu6K5yutQOT7kAXJSK5AsG9OM1ZDr0CTf27aUVGwQGhglIgxKLBAgagCv9TMrkB/5FzNLlysQDqrlK7Uy6pAXAQMKGsnqkB7BEnbd6mrQIPb9ao/265A7EVBptsOsEBitR72jTexQBieL4JOtbFAyhf2UyqWskCTI3VzJ52xQJItf7YFPrFANUCVkcTiskDsLqWY/KK1QH3GiabHqLdA+fSFdsritkBDuH3KvGm3QEritNFizrhAhSgsuhIauUALmx5+T7a5QIVn+PY3qbpAqB21ifVBvECpeWtyaZO9QA==",
          "dtype": "f8"
         }
        },
        {
         "mode": "lines",
         "name": "CVaR_80",
         "type": "scatter",
         "x": [
          "2015-02-28T23:59:59.999999999",
          "2015-03-31T23:59:59.999999999",
          "2015-04-30T23:59:59.999999999",
          "2015-05-31T23:59:59.999999999",
          "2015-06-30T23:59:59.999999999",
          "2015-07-31T23:59:59.999999999",
          "2015-08-31T23:59:59.999999999",
          "2015-09-30T23:59:59.999999999",
          "2015-10-31T23:59:59.999999999",
          "2015-11-30T23:59:59.999999999",
          "2015-12-31T23:59:59.999999999",
          "2016-01-31T23:59:59.999999999",
          "2016-02-29T23:59:59.999999999",
          "2016-03-31T23:59:59.999999999",
          "2016-04-30T23:59:59.999999999",
          "2016-05-31T23:59:59.999999999",
          "2016-06-30T23:59:59.999999999",
          "2016-07-31T23:59:59.999999999",
          "2016-08-31T23:59:59.999999999",
          "2016-09-30T23:59:59.999999999",
          "2016-10-31T23:59:59.999999999",
          "2016-11-30T23:59:59.999999999",
          "2016-12-31T23:59:59.999999999",
          "2017-01-31T23:59:59.999999999",
          "2017-02-28T23:59:59.999999999",
          "2017-03-31T23:59:59.999999999",
          "2017-04-30T23:59:59.999999999",
          "2017-05-31T23:59:59.999999999",
          "2017-06-30T23:59:59.999999999",
          "2017-07-31T23:59:59.999999999",
          "2017-08-31T23:59:59.999999999",
          "2017-09-30T23:59:59.999999999",
          "2017-10-31T23:59:59.999999999",
          "2017-11-30T23:59:59.999999999",
          "2017-12-31T23:59:59.999999999",
          "2018-01-31T23:59:59.999999999",
          "2018-02-28T23:59:59.999999999",
          "2018-03-31T23:59:59.999999999",
          "2018-04-30T23:59:59.999999999",
          "2018-05-31T23:59:59.999999999",
          "2018-06-30T23:59:59.999999999",
          "2018-07-31T23:59:59.999999999",
          "2018-08-31T23:59:59.999999999",
          "2018-09-30T23:59:59.999999999",
          "2018-10-31T23:59:59.999999999",
          "2018-11-30T23:59:59.999999999",
          "2018-12-31T23:59:59.999999999",
          "2019-01-31T23:59:59.999999999",
          "2019-02-28T23:59:59.999999999",
          "2019-03-31T23:59:59.999999999",
          "2019-04-30T23:59:59.999999999",
          "2019-05-31T23:59:59.999999999",
          "2019-06-30T23:59:59.999999999",
          "2019-07-31T23:59:59.999999999",
          "2019-08-31T23:59:59.999999999",
          "2019-09-30T23:59:59.999999999",
          "2019-10-31T23:59:59.999999999",
          "2019-11-30T23:59:59.999999999",
          "2019-12-31T23:59:59.999999999"
         ],
         "y": {
          "bdata": "UjHrvKeLj0CYsszJGVWPQCKW7FtufY9AdlvjAqjRj0BdLiZSETCPQGNzb35/uY5AssF3UnBJjEBihcxudmWLQD+q0zE5nI5AqGd2EFjfjkAiMRRlPiePQP8Oux+8Ro9Aq3RZNX7Jj0DBzz07NcOQQPLn1vo1zpFAGXO9nhIxk0AoIiiJWMSVQCq8ie28zZlASiIZL47nnUDat/Z9oEihQAXinU09pqNASlriZGg9pkA6iGnhQrWpQJo3ClTvmalAiBNLnmWbqkArAHIUqYCrQACwHmu2b6xAAVnzKryDrUCMSkKLsnCuQIEm7aFUia9AQ35FVFYvsEBHEiL9B+ywQLQ6UzNiu7FAh7HdzpOQskDw+e2Lnp+zQOwjbGV0c7NAGGAAO1WGskAba1xYphGxQNQ41zCWILBAWDzKEHMor0B9GKBE/UqwQNqvK64PHLJA8zFujeb0skBEFa5pq1i0QAQtmYvdIbVAd2jBAx6AtkC33xuluHa1QLy0DE89CrVAeysBNznstkBycQooihe6QFZjx5SGd7xAA8LGesiku0DNQuVVd2q8QCESrEjf9b1AiB2O+v5AvkA3p6ZjtfW+QFzhXAirAMBAsfWjXKXmwEDbugZuqbbBQA==",
          "dtype": "f8"
         }
        },
        {
         "mode": "lines",
         "name": "MVar",
         "type": "scatter",
         "x": [
          "2015-02-28T23:59:59.999999999",
          "2015-03-31T23:59:59.999999999",
          "2015-04-30T23:59:59.999999999",
          "2015-05-31T23:59:59.999999999",
          "2015-06-30T23:59:59.999999999",
          "2015-07-31T23:59:59.999999999",
          "2015-08-31T23:59:59.999999999",
          "2015-09-30T23:59:59.999999999",
          "2015-10-31T23:59:59.999999999",
          "2015-11-30T23:59:59.999999999",
          "2015-12-31T23:59:59.999999999",
          "2016-01-31T23:59:59.999999999",
          "2016-02-29T23:59:59.999999999",
          "2016-03-31T23:59:59.999999999",
          "2016-04-30T23:59:59.999999999",
          "2016-05-31T23:59:59.999999999",
          "2016-06-30T23:59:59.999999999",
          "2016-07-31T23:59:59.999999999",
          "2016-08-31T23:59:59.999999999",
          "2016-09-30T23:59:59.999999999",
          "2016-10-31T23:59:59.999999999",
          "2016-11-30T23:59:59.999999999",
          "2016-12-31T23:59:59.999999999",
          "2017-01-31T23:59:59.999999999",
          "2017-02-28T23:59:59.999999999",
          "2017-03-31T23:59:59.999999999",
          "2017-04-30T23:59:59.999999999",
          "2017-05-31T23:59:59.999999999",
          "2017-06-30T23:59:59.999999999",
          "2017-07-31T23:59:59.999999999",
          "2017-08-31T23:59:59.999999999",
          "2017-09-30T23:59:59.999999999",
          "2017-10-31T23:59:59.999999999",
          "2017-11-30T23:59:59.999999999",
          "2017-12-31T23:59:59.999999999",
          "2018-01-31T23:59:59.999999999",
          "2018-02-28T23:59:59.999999999",
          "2018-03-31T23:59:59.999999999",
          "2018-04-30T23:59:59.999999999",
          "2018-05-31T23:59:59.999999999",
          "2018-06-30T23:59:59.999999999",
          "2018-07-31T23:59:59.999999999",
          "2018-08-31T23:59:59.999999999",
          "2018-09-30T23:59:59.999999999",
          "2018-10-31T23:59:59.999999999",
          "2018-11-30T23:59:59.999999999",
          "2018-12-31T23:59:59.999999999",
          "2019-01-31T23:59:59.999999999",
          "2019-02-28T23:59:59.999999999",
          "2019-03-31T23:59:59.999999999",
          "2019-04-30T23:59:59.999999999",
          "2019-05-31T23:59:59.999999999",
          "2019-06-30T23:59:59.999999999",
          "2019-07-31T23:59:59.999999999",
          "2019-08-31T23:59:59.999999999",
          "2019-09-30T23:59:59.999999999",
          "2019-10-31T23:59:59.999999999",
          "2019-11-30T23:59:59.999999999",
          "2019-12-31T23:59:59.999999999"
         ],
         "y": {
          "bdata": "ypC/8YFzj0D0AWZ8XhiQQJALKurHH5BAWlceOxQ2kEA3hOEGj6KPQPY44684bo9ANr9ZluXMjEB8VsFRk5KLQB8LoRxfwI5AYL1rh564jkAdhdDqzLKOQOsYMvZP0Y5A0ht2vvLxjkDydCVgjwuQQGAQPdhZ3JBAqPTVBDU5kkC3WiMISYyUQPAVvM8pP5hA7rSkwE/Em0BIFDj0dCGgQMrFq3nkK6JAf0Nhlj5PpECsKyqsQA6nQMKiQ6JU9aZA2RyWzEOOp0DLH7p63NunQHw+QAm7g6hACkHb5TWXqUCaCXmzxyiqQKL4rLh0AatAq+5/xhfyq0AAVcip2YGtQAFCPqXMV69AvIzKEyyxsECJffkKQeKxQCdkO69jvLFAIChotFkEsUAf5W+L/mmvQLpi96b4rK1AGNYSxYXzrEDVcEV8EIGuQHFrBtoA/7BAwMz4vSDbsUBf2LEiKV2zQIc8otkZH7RAZk29XBNJtUCXChjuKUq0QLMFp83j67NAdTdMpzygtUC75o+p/n64QIcBRZktc7pAtcTV/LyauUAnMI1PXh66QC7riaF4O7tA5iuCUnAFu0C4udkMNkG7QKio9aJx8btAQQjh2UVJvUAXvFoW2Iq+QA==",
          "dtype": "f8"
         }
        },
        {
         "mode": "lines",
         "name": "TOP3",
         "type": "scatter",
         "x": [
          "2015-01-31T00:00:00.000000000",
          "2015-02-28T00:00:00.000000000",
          "2015-03-31T00:00:00.000000000",
          "2015-04-30T00:00:00.000000000",
          "2015-05-31T00:00:00.000000000",
          "2015-06-30T00:00:00.000000000",
          "2015-07-31T00:00:00.000000000",
          "2015-08-31T00:00:00.000000000",
          "2015-09-30T00:00:00.000000000",
          "2015-10-31T00:00:00.000000000",
          "2015-11-30T00:00:00.000000000",
          "2015-12-31T00:00:00.000000000",
          "2016-01-31T00:00:00.000000000",
          "2016-02-29T00:00:00.000000000",
          "2016-03-31T00:00:00.000000000",
          "2016-04-30T00:00:00.000000000",
          "2016-05-31T00:00:00.000000000",
          "2016-06-30T00:00:00.000000000",
          "2016-07-31T00:00:00.000000000",
          "2016-08-31T00:00:00.000000000",
          "2016-09-30T00:00:00.000000000",
          "2016-10-31T00:00:00.000000000",
          "2016-11-30T00:00:00.000000000",
          "2016-12-31T00:00:00.000000000",
          "2017-01-31T00:00:00.000000000",
          "2017-02-28T00:00:00.000000000",
          "2017-03-31T00:00:00.000000000",
          "2017-04-30T00:00:00.000000000",
          "2017-05-31T00:00:00.000000000",
          "2017-06-30T00:00:00.000000000",
          "2017-07-31T00:00:00.000000000",
          "2017-08-31T00:00:00.000000000",
          "2017-09-30T00:00:00.000000000",
          "2017-10-31T00:00:00.000000000",
          "2017-11-30T00:00:00.000000000",
          "2017-12-31T00:00:00.000000000",
          "2018-01-31T00:00:00.000000000",
          "2018-02-28T00:00:00.000000000",
          "2018-03-31T00:00:00.000000000",
          "2018-04-30T00:00:00.000000000",
          "2018-05-31T00:00:00.000000000",
          "2018-06-30T00:00:00.000000000",
          "2018-07-31T00:00:00.000000000",
          "2018-08-31T00:00:00.000000000",
          "2018-09-30T00:00:00.000000000",
          "2018-10-31T00:00:00.000000000",
          "2018-11-30T00:00:00.000000000",
          "2018-12-31T00:00:00.000000000",
          "2019-01-31T00:00:00.000000000",
          "2019-02-28T00:00:00.000000000",
          "2019-03-31T00:00:00.000000000",
          "2019-04-30T00:00:00.000000000",
          "2019-05-31T00:00:00.000000000",
          "2019-06-30T00:00:00.000000000",
          "2019-07-31T00:00:00.000000000",
          "2019-08-31T00:00:00.000000000",
          "2019-09-30T00:00:00.000000000",
          "2019-10-31T00:00:00.000000000",
          "2019-11-30T00:00:00.000000000",
          "2019-12-31T00:00:00.000000000"
         ],
         "y": {
          "bdata": "AAAAAABAj0AAAAAAAECPQF5vwsgKT45A5tDDjHqJjkCQJmjfVMqMQBrbQFSYeItA1iC/tdVIjUDCAMIPTm+LQC1OQbL1+IpAe0uUZ9VtjkBIxlFiMiiPQCcXYQ5qKo5A2sI+jH8MjkAiKXs8NKeNQARCDL0rno9AsU+j4sNtkEAwPQJFOj2QQF6YGuxZzo9ABu37PcFej0CqM9+Neq6PQKsMwhEYK5BAVIUAk1ZJkECLZFi8OXGQQB1yktXdHJFA2Xm1mVr7kECmvvKsywGSQARoE973bZJAMVB+hT5ukkAMl3Nr8luTQFTspgrDg5JA6+yGdSa+kkDUgZnaBHmTQF+6v80JZpNAcMWqoWaPk0ADcezo9L2TQIMaIi5J+pNA0b4bjcXQlEBZR/TBLbyTQIar1puLB5NAnqIKRkDSlEDcWW9D9Q2VQMvTt7iMKJVA1OoF6imhlkAqi/yZDxWXQEbnTT8HbJdA1K3MMub+lUB5ndvMf3eXQE96aTtBE5ZA40QAFdRPlkByE9ysE+uWQMLziUg2q5dAQHVj/RgcmUA8I+Q8GvSWQMZdTJQDcphAKsq9nAwfmUCKKOxEbdyYQKYfFX4yx5hA96Ke2D8UmUC+m343CTOaQN70usYUK5xA",
          "dtype": "f8"
         }
        },
        {
         "mode": "lines",
         "name": "MSFT",
         "type": "scatter",
         "x": [
          "2015-02-28T23:59:59.999999999",
          "2015-03-31T23:59:59.999999999",
          "2015-04-30T23:59:59.999999999",
          "2015-05-31T23:59:59.999999999",
          "2015-06-30T23:59:59.999999999",
          "2015-07-31T23:59:59.999999999",
          "2015-08-31T23:59:59.999999999",
          "2015-09-30T23:59:59.999999999",
          "2015-10-31T23:59:59.999999999",
          "2015-11-30T23:59:59.999999999",
          "2015-12-31T23:59:59.999999999",
          "2016-01-31T23:59:59.999999999",
          "2016-02-29T23:59:59.999999999",
          "2016-03-31T23:59:59.999999999",
          "2016-04-30T23:59:59.999999999",
          "2016-05-31T23:59:59.999999999",
          "2016-06-30T23:59:59.999999999",
          "2016-07-31T23:59:59.999999999",
          "2016-08-31T23:59:59.999999999",
          "2016-09-30T23:59:59.999999999",
          "2016-10-31T23:59:59.999999999",
          "2016-11-30T23:59:59.999999999",
          "2016-12-31T23:59:59.999999999",
          "2017-01-31T23:59:59.999999999",
          "2017-02-28T23:59:59.999999999",
          "2017-03-31T23:59:59.999999999",
          "2017-04-30T23:59:59.999999999",
          "2017-05-31T23:59:59.999999999",
          "2017-06-30T23:59:59.999999999",
          "2017-07-31T23:59:59.999999999",
          "2017-08-31T23:59:59.999999999",
          "2017-09-30T23:59:59.999999999",
          "2017-10-31T23:59:59.999999999",
          "2017-11-30T23:59:59.999999999",
          "2017-12-31T23:59:59.999999999",
          "2018-01-31T23:59:59.999999999",
          "2018-02-28T23:59:59.999999999",
          "2018-03-31T23:59:59.999999999",
          "2018-04-30T23:59:59.999999999",
          "2018-05-31T23:59:59.999999999",
          "2018-06-30T23:59:59.999999999",
          "2018-07-31T23:59:59.999999999",
          "2018-08-31T23:59:59.999999999",
          "2018-09-30T23:59:59.999999999",
          "2018-10-31T23:59:59.999999999",
          "2018-11-30T23:59:59.999999999",
          "2018-12-31T23:59:59.999999999",
          "2019-01-31T23:59:59.999999999",
          "2019-02-28T23:59:59.999999999",
          "2019-03-31T23:59:59.999999999",
          "2019-04-30T23:59:59.999999999",
          "2019-05-31T23:59:59.999999999",
          "2019-06-30T23:59:59.999999999",
          "2019-07-31T23:59:59.999999999",
          "2019-08-31T23:59:59.999999999",
          "2019-09-30T23:59:59.999999999",
          "2019-10-31T23:59:59.999999999",
          "2019-11-30T23:59:59.999999999",
          "2019-12-31T23:59:59.999999999"
         ],
         "y": {
          "bdata": "AAAAAABAj0DaSS8WBPqMQIV9WrLxVJFAZuoxiZKykEDqzApnu3aPQFtNcyn6o5BAMbgNdcsDj0Da5LDqzIqPQKHT9wvTwZJACwI9i89dk0ArN2+v48STQGCYDkZQoZNAJBTH7kYhkkDKYdWZFa6TQMzUYxIlxZFA+7Rk46nikkDJkFAcuzuSQAHRhH1aMpRAmA5GUIF5lEAC2AykRoaUQCe9WBDoWZVA38rN2+t4lUAlgM1AaiSWQMi/y55gCZdAKI7djULMlkBuQ93ywHeXQGe7tgbtZJhA6cWCQM/imEC4qPafzI+YQBT98e+y55lA2AykRoakmkAEehaf+4qaQH4rN2+vo51ANZeiP/79nUDmt3Lz9nqeQHxTKsto7aBA8LInWNq0oEAHiCbs00KgQD/IWk1zqaBAHLsbhRicoUA8ukoAm5GhQD5cVPtP5qJAhEdXCWADpECtcLZra2CkQIAyv5WbB6NA0YR9WrLBo0Dl5u11nBiiQHuCpU0Om6JASZSUL7H1o0C0+NxXPwOlQMYdwqOrRKdAsBlIjQwJpkC+jhOR692nQGiMO4RHR6hAuKj2n8yPqEDqlge+KcWoQNTIkFAci6lA2RMsbXL4qkB6sSDQsxisQA==",
          "dtype": "f8"
         }
        },
        {
         "mode": "lines",
         "name": "MRK",
         "type": "scatter",
         "x": [
          "2015-02-28T23:59:59.999999999",
          "2015-03-31T23:59:59.999999999",
          "2015-04-30T23:59:59.999999999",
          "2015-05-31T23:59:59.999999999",
          "2015-06-30T23:59:59.999999999",
          "2015-07-31T23:59:59.999999999",
          "2015-08-31T23:59:59.999999999",
          "2015-09-30T23:59:59.999999999",
          "2015-10-31T23:59:59.999999999",
          "2015-11-30T23:59:59.999999999",
          "2015-12-31T23:59:59.999999999",
          "2016-01-31T23:59:59.999999999",
          "2016-02-29T23:59:59.999999999",
          "2016-03-31T23:59:59.999999999",
          "2016-04-30T23:59:59.999999999",
          "2016-05-31T23:59:59.999999999",
          "2016-06-30T23:59:59.999999999",
          "2016-07-31T23:59:59.999999999",
          "2016-08-31T23:59:59.999999999",
          "2016-09-30T23:59:59.999999999",
          "2016-10-31T23:59:59.999999999",
          "2016-11-30T23:59:59.999999999",
          "2016-12-31T23:59:59.999999999",
          "2017-01-31T23:59:59.999999999",
          "2017-02-28T23:59:59.999999999",
          "2017-03-31T23:59:59.999999999",
          "2017-04-30T23:59:59.999999999",
          "2017-05-31T23:59:59.999999999",
          "2017-06-30T23:59:59.999999999",
          "2017-07-31T23:59:59.999999999",
          "2017-08-31T23:59:59.999999999",
          "2017-09-30T23:59:59.999999999",
          "2017-10-31T23:59:59.999999999",
          "2017-11-30T23:59:59.999999999",
          "2017-12-31T23:59:59.999999999",
          "2018-01-31T23:59:59.999999999",
          "2018-02-28T23:59:59.999999999",
          "2018-03-31T23:59:59.999999999",
          "2018-04-30T23:59:59.999999999",
          "2018-05-31T23:59:59.999999999",
          "2018-06-30T23:59:59.999999999",
          "2018-07-31T23:59:59.999999999",
          "2018-08-31T23:59:59.999999999",
          "2018-09-30T23:59:59.999999999",
          "2018-10-31T23:59:59.999999999",
          "2018-11-30T23:59:59.999999999",
          "2018-12-31T23:59:59.999999999",
          "2019-01-31T23:59:59.999999999",
          "2019-02-28T23:59:59.999999999",
          "2019-03-31T23:59:59.999999999",
          "2019-04-30T23:59:59.999999999",
          "2019-05-31T23:59:59.999999999",
          "2019-06-30T23:59:59.999999999",
          "2019-07-31T23:59:59.999999999",
          "2019-08-31T23:59:59.999999999",
          "2019-09-30T23:59:59.999999999",
          "2019-10-31T23:59:59.999999999",
          "2019-11-30T23:59:59.999999999",
          "2019-12-31T23:59:59.999999999"
         ],
         "y": {
          "bdata": "AAAAAABAj0AZPm2/P6+OQB1piq0Ey49AErbpFIRAkECnpT5jSmOOQOJ3U75TeY9A6j0bkV6/jED3TSLm1VyKQBbre1+5LY1AJk50FLdMjECavs7+6jKMQDT4Ys8dDYtAiCcHfg7OikAtcN8kYj6MQHBkX5AWRo1APS97FwAJjkB2SIZ4csCOQCv0VtTDT49A6I6G8zfCkEBc/+Dda6iQQFp54zBdWI9A7vfnCUxVkEAcsICzbWyPQGtDt/7Bi5BA4E35TuWUkUAArtEe0PWQQJKm2EqwopBAriNNsZVgkUAf74daExuRQCcR82q+DJFA9fowhk8LkUCIrEGsxhaRQCt5kQJ8aI1AhPJ0M9mAjUA9L3sXAAmOQGbljcN0oY9Az0ak14fxjECKW9ZJ7RONQBywgLNtbI9AhiZE/7fGj0BM7hYKnjOQQOBN+U7llJFAZYgnB35OkkB3PhEcAu+SQJdMuwq9pZNAY/i0/f4slUDm3/FVEWWUQEauTOSh3ZNAtwg3GEiylUBayxESjTKWQHpe9i4AApVANHMooWUklUDBnLUcIWGWQK0OoHleJpZAY3N6z0YUl0Do/9ZoD3iWQCk7TdosIZdAF2ZBMQFFl0B29leXQkaYQA==",
          "dtype": "f8"
         }
        },
        {
         "mode": "lines",
         "name": "GOOGL",
         "type": "scatter",
         "x": [
          "2015-02-28T23:59:59.999999999",
          "2015-03-31T23:59:59.999999999",
          "2015-04-30T23:59:59.999999999",
          "2015-05-31T23:59:59.999999999",
          "2015-06-30T23:59:59.999999999",
          "2015-07-31T23:59:59.999999999",
          "2015-08-31T23:59:59.999999999",
          "2015-09-30T23:59:59.999999999",
          "2015-10-31T23:59:59.999999999",
          "2015-11-30T23:59:59.999999999",
          "2015-12-31T23:59:59.999999999",
          "2016-01-31T23:59:59.999999999",
          "2016-02-29T23:59:59.999999999",
          "2016-03-31T23:59:59.999999999",
          "2016-04-30T23:59:59.999999999",
          "2016-05-31T23:59:59.999999999",
          "2016-06-30T23:59:59.999999999",
          "2016-07-31T23:59:59.999999999",
          "2016-08-31T23:59:59.999999999",
          "2016-09-30T23:59:59.999999999",
          "2016-10-31T23:59:59.999999999",
          "2016-11-30T23:59:59.999999999",
          "2016-12-31T23:59:59.999999999",
          "2017-01-31T23:59:59.999999999",
          "2017-02-28T23:59:59.999999999",
          "2017-03-31T23:59:59.999999999",
          "2017-04-30T23:59:59.999999999",
          "2017-05-31T23:59:59.999999999",
          "2017-06-30T23:59:59.999999999",
          "2017-07-31T23:59:59.999999999",
          "2017-08-31T23:59:59.999999999",
          "2017-09-30T23:59:59.999999999",
          "2017-10-31T23:59:59.999999999",
          "2017-11-30T23:59:59.999999999",
          "2017-12-31T23:59:59.999999999",
          "2018-01-31T23:59:59.999999999",
          "2018-02-28T23:59:59.999999999",
          "2018-03-31T23:59:59.999999999",
          "2018-04-30T23:59:59.999999999",
          "2018-05-31T23:59:59.999999999",
          "2018-06-30T23:59:59.999999999",
          "2018-07-31T23:59:59.999999999",
          "2018-08-31T23:59:59.999999999",
          "2018-09-30T23:59:59.999999999",
          "2018-10-31T23:59:59.999999999",
          "2018-11-30T23:59:59.999999999",
          "2018-12-31T23:59:59.999999999",
          "2019-01-31T23:59:59.999999999",
          "2019-02-28T23:59:59.999999999",
          "2019-03-31T23:59:59.999999999",
          "2019-04-30T23:59:59.999999999",
          "2019-05-31T23:59:59.999999999",
          "2019-06-30T23:59:59.999999999",
          "2019-07-31T23:59:59.999999999",
          "2019-08-31T23:59:59.999999999",
          "2019-09-30T23:59:59.999999999",
          "2019-10-31T23:59:59.999999999",
          "2019-11-30T23:59:59.999999999",
          "2019-12-31T23:59:59.999999999"
         ],
         "y": {
          "bdata": "AAAAAABAj0ABWO0QPs6OQGjR/6nEe45Am+OX12tLjkDPS2uJov6NQHzFfntvQ5JAMFhDTML9kUBKYmgp7bqRQMXRqyDNepRAqm+ZMmQvlUDdKOsIdpuVQMTNRwdwJZVAE0Skry7rk0Bdq8k40DCVQC1OyYxZqJNAqxxpgdrLlEB6aNQKfYqTQMPIiqe7+pVAKesIdlvvlUDceWktUVSWQCg94OCNfZZAKpjYxNGLlUBD83vG1wGWQI5drCJ/x5ZAWkgJItJ3l0AmjKx4uouXQPAYBsHDrZlAU9vOS2tpm0Bw7btbUNGZQLxZnkSmQZpACMfZc1OHmkAhd1+zkQubQFF+JNt4sJxAhDkoPjnHnEC3R1xSg0GdQD872XGhaqBAzkcHcEWpnkAEZBldVc6cQOyzkx0XSpxAzp1C9NSMnkAAqsR7cFyfQH53CyqaCqFACyY2cfQaoUClsIfxysKgQOinZ9H/SZ5AZ89NHRbRnkBRfHJOygWdQBqzkBJERJ9A56FRK/RJn0BMFU4eb1egQKUGw3VapqBA6E96wMG7nkCcjw7gihKeQD44zp6b6qBA8iDO832IoED+9zfNRfWgQMrj7RLweqFA4z04zp4bokBV4eTxdpmiQA==",
          "dtype": "f8"
         }
        },
        {
         "mode": "lines",
         "name": "CVX",
         "type": "scatter",
         "x": [
          "2015-02-28T23:59:59.999999999",
          "2015-03-31T23:59:59.999999999",
          "2015-04-30T23:59:59.999999999",
          "2015-05-31T23:59:59.999999999",
          "2015-06-30T23:59:59.999999999",
          "2015-07-31T23:59:59.999999999",
          "2015-08-31T23:59:59.999999999",
          "2015-09-30T23:59:59.999999999",
          "2015-10-31T23:59:59.999999999",
          "2015-11-30T23:59:59.999999999",
          "2015-12-31T23:59:59.999999999",
          "2016-01-31T23:59:59.999999999",
          "2016-02-29T23:59:59.999999999",
          "2016-03-31T23:59:59.999999999",
          "2016-04-30T23:59:59.999999999",
          "2016-05-31T23:59:59.999999999",
          "2016-06-30T23:59:59.999999999",
          "2016-07-31T23:59:59.999999999",
          "2016-08-31T23:59:59.999999999",
          "2016-09-30T23:59:59.999999999",
          "2016-10-31T23:59:59.999999999",
          "2016-11-30T23:59:59.999999999",
          "2016-12-31T23:59:59.999999999",
          "2017-01-31T23:59:59.999999999",
          "2017-02-28T23:59:59.999999999",
          "2017-03-31T23:59:59.999999999",
          "2017-04-30T23:59:59.999999999",
          "2017-05-31T23:59:59.999999999",
          "2017-06-30T23:59:59.999999999",
          "2017-07-31T23:59:59.999999999",
          "2017-08-31T23:59:59.999999999",
          "2017-09-30T23:59:59.999999999",
          "2017-10-31T23:59:59.999999999",
          "2017-11-30T23:59:59.999999999",
          "2017-12-31T23:59:59.999999999",
          "2018-01-31T23:59:59.999999999",
          "2018-02-28T23:59:59.999999999",
          "2018-03-31T23:59:59.999999999",
          "2018-04-30T23:59:59.999999999",
          "2018-05-31T23:59:59.999999999",
          "2018-06-30T23:59:59.999999999",
          "2018-07-31T23:59:59.999999999",
          "2018-08-31T23:59:59.999999999",
          "2018-09-30T23:59:59.999999999",
          "2018-10-31T23:59:59.999999999",
          "2018-11-30T23:59:59.999999999",
          "2018-12-31T23:59:59.999999999",
          "2019-01-31T23:59:59.999999999",
          "2019-02-28T23:59:59.999999999",
          "2019-03-31T23:59:59.999999999",
          "2019-04-30T23:59:59.999999999",
          "2019-05-31T23:59:59.999999999",
          "2019-06-30T23:59:59.999999999",
          "2019-07-31T23:59:59.999999999",
          "2019-08-31T23:59:59.999999999",
          "2019-09-30T23:59:59.999999999",
          "2019-10-31T23:59:59.999999999",
          "2019-11-30T23:59:59.999999999",
          "2019-12-31T23:59:59.999999999"
         ],
         "y": {
          "bdata": "//////8/j0D4dVkUhMCOQPXVob46RJBA+pu11AgsjkCsbj2AWEKMQLqyrqwr64lA2pf2pX25h0AGay+2QhuHQKeETuoln4pA4CYB3CTAikCm63sfKFqKQFHZeH9wVIlAfBPfxDdxiECM2JARG/KLQGNWdMyK7o1AtRdboQ2WjUDZeH9wRLWOQKFQKBQKBY5AxR9fo452jUDZ8toFCSaOQLfPpKFEr45AfSYNJfpWkEDjQBTHMj2RQIEojmUaT5BAIshRBDl6kEDA8h1YvnOPQEiqtvN/QY9Aw5LVrQdQjkDH16ijxY+OQHp6DPo5/I9ASUOJvn2Gj0B57YIEszWRQJinCvNU+ZBAgTTXOpFtkUBTTnDKCVaSQHX3SpkJXJJACSN5tnlkkEAFZEor97OQQML5AuMJU5JAiQHQ26o0kkAX7Y5NiISSQPVDtH6IfpJAQuSi3bFZkUBCakdI7eiRQKAlaAlaWpBAp98ySrFrkUDTLMfvOt6PQNQI7G/WypBALYSdhbCDkUCeYdUzrAqSQJF/LfKvlZFALbumZdeskECGVc+w6jmSQKC3VUkMCJJAB5bvwPI9kUA/OKKy8V6RQNxPQKa0ApFAXEYpdtMnkUA/e/Rnj6aRQA==",
          "dtype": "f8"
         }
        }
       ],
       "layout": {
        "legend": {
         "title": {
          "text": "Series"
         }
        },
        "template": {
         "data": {
          "bar": [
           {
            "error_x": {
             "color": "#2a3f5f"
            },
            "error_y": {
             "color": "#2a3f5f"
            },
            "marker": {
             "line": {
              "color": "white",
              "width": 0.5
             },
             "pattern": {
              "fillmode": "overlay",
              "size": 10,
              "solidity": 0.2
             }
            },
            "type": "bar"
           }
          ],
          "barpolar": [
           {
            "marker": {
             "line": {
              "color": "white",
              "width": 0.5
             },
             "pattern": {
              "fillmode": "overlay",
              "size": 10,
              "solidity": 0.2
             }
            },
            "type": "barpolar"
           }
          ],
          "carpet": [
           {
            "aaxis": {
             "endlinecolor": "#2a3f5f",
             "gridcolor": "#C8D4E3",
             "linecolor": "#C8D4E3",
             "minorgridcolor": "#C8D4E3",
             "startlinecolor": "#2a3f5f"
            },
            "baxis": {
             "endlinecolor": "#2a3f5f",
             "gridcolor": "#C8D4E3",
             "linecolor": "#C8D4E3",
             "minorgridcolor": "#C8D4E3",
             "startlinecolor": "#2a3f5f"
            },
            "type": "carpet"
           }
          ],
          "choropleth": [
           {
            "colorbar": {
             "outlinewidth": 0,
             "ticks": ""
            },
            "type": "choropleth"
           }
          ],
          "contour": [
           {
            "colorbar": {
             "outlinewidth": 0,
             "ticks": ""
            },
            "colorscale": [
             [
              0,
              "#0d0887"
             ],
             [
              0.1111111111111111,
              "#46039f"
             ],
             [
              0.2222222222222222,
              "#7201a8"
             ],
             [
              0.3333333333333333,
              "#9c179e"
             ],
             [
              0.4444444444444444,
              "#bd3786"
             ],
             [
              0.5555555555555556,
              "#d8576b"
             ],
             [
              0.6666666666666666,
              "#ed7953"
             ],
             [
              0.7777777777777778,
              "#fb9f3a"
             ],
             [
              0.8888888888888888,
              "#fdca26"
             ],
             [
              1,
              "#f0f921"
             ]
            ],
            "type": "contour"
           }
          ],
          "contourcarpet": [
           {
            "colorbar": {
             "outlinewidth": 0,
             "ticks": ""
            },
            "type": "contourcarpet"
           }
          ],
          "heatmap": [
           {
            "colorbar": {
             "outlinewidth": 0,
             "ticks": ""
            },
            "colorscale": [
             [
              0,
              "#0d0887"
             ],
             [
              0.1111111111111111,
              "#46039f"
             ],
             [
              0.2222222222222222,
              "#7201a8"
             ],
             [
              0.3333333333333333,
              "#9c179e"
             ],
             [
              0.4444444444444444,
              "#bd3786"
             ],
             [
              0.5555555555555556,
              "#d8576b"
             ],
             [
              0.6666666666666666,
              "#ed7953"
             ],
             [
              0.7777777777777778,
              "#fb9f3a"
             ],
             [
              0.8888888888888888,
              "#fdca26"
             ],
             [
              1,
              "#f0f921"
             ]
            ],
            "type": "heatmap"
           }
          ],
          "histogram": [
           {
            "marker": {
             "pattern": {
              "fillmode": "overlay",
              "size": 10,
              "solidity": 0.2
             }
            },
            "type": "histogram"
           }
          ],
          "histogram2d": [
           {
            "colorbar": {
             "outlinewidth": 0,
             "ticks": ""
            },
            "colorscale": [
             [
              0,
              "#0d0887"
             ],
             [
              0.1111111111111111,
              "#46039f"
             ],
             [
              0.2222222222222222,
              "#7201a8"
             ],
             [
              0.3333333333333333,
              "#9c179e"
             ],
             [
              0.4444444444444444,
              "#bd3786"
             ],
             [
              0.5555555555555556,
              "#d8576b"
             ],
             [
              0.6666666666666666,
              "#ed7953"
             ],
             [
              0.7777777777777778,
              "#fb9f3a"
             ],
             [
              0.8888888888888888,
              "#fdca26"
             ],
             [
              1,
              "#f0f921"
             ]
            ],
            "type": "histogram2d"
           }
          ],
          "histogram2dcontour": [
           {
            "colorbar": {
             "outlinewidth": 0,
             "ticks": ""
            },
            "colorscale": [
             [
              0,
              "#0d0887"
             ],
             [
              0.1111111111111111,
              "#46039f"
             ],
             [
              0.2222222222222222,
              "#7201a8"
             ],
             [
              0.3333333333333333,
              "#9c179e"
             ],
             [
              0.4444444444444444,
              "#bd3786"
             ],
             [
              0.5555555555555556,
              "#d8576b"
             ],
             [
              0.6666666666666666,
              "#ed7953"
             ],
             [
              0.7777777777777778,
              "#fb9f3a"
             ],
             [
              0.8888888888888888,
              "#fdca26"
             ],
             [
              1,
              "#f0f921"
             ]
            ],
            "type": "histogram2dcontour"
           }
          ],
          "mesh3d": [
           {
            "colorbar": {
             "outlinewidth": 0,
             "ticks": ""
            },
            "type": "mesh3d"
           }
          ],
          "parcoords": [
           {
            "line": {
             "colorbar": {
              "outlinewidth": 0,
              "ticks": ""
             }
            },
            "type": "parcoords"
           }
          ],
          "pie": [
           {
            "automargin": true,
            "type": "pie"
           }
          ],
          "scatter": [
           {
            "fillpattern": {
             "fillmode": "overlay",
             "size": 10,
             "solidity": 0.2
            },
            "type": "scatter"
           }
          ],
          "scatter3d": [
           {
            "line": {
             "colorbar": {
              "outlinewidth": 0,
              "ticks": ""
             }
            },
            "marker": {
             "colorbar": {
              "outlinewidth": 0,
              "ticks": ""
             }
            },
            "type": "scatter3d"
           }
          ],
          "scattercarpet": [
           {
            "marker": {
             "colorbar": {
              "outlinewidth": 0,
              "ticks": ""
             }
            },
            "type": "scattercarpet"
           }
          ],
          "scattergeo": [
           {
            "marker": {
             "colorbar": {
              "outlinewidth": 0,
              "ticks": ""
             }
            },
            "type": "scattergeo"
           }
          ],
          "scattergl": [
           {
            "marker": {
             "colorbar": {
              "outlinewidth": 0,
              "ticks": ""
             }
            },
            "type": "scattergl"
           }
          ],
          "scattermap": [
           {
            "marker": {
             "colorbar": {
              "outlinewidth": 0,
              "ticks": ""
             }
            },
            "type": "scattermap"
           }
          ],
          "scattermapbox": [
           {
            "marker": {
             "colorbar": {
              "outlinewidth": 0,
              "ticks": ""
             }
            },
            "type": "scattermapbox"
           }
          ],
          "scatterpolar": [
           {
            "marker": {
             "colorbar": {
              "outlinewidth": 0,
              "ticks": ""
             }
            },
            "type": "scatterpolar"
           }
          ],
          "scatterpolargl": [
           {
            "marker": {
             "colorbar": {
              "outlinewidth": 0,
              "ticks": ""
             }
            },
            "type": "scatterpolargl"
           }
          ],
          "scatterternary": [
           {
            "marker": {
             "colorbar": {
              "outlinewidth": 0,
              "ticks": ""
             }
            },
            "type": "scatterternary"
           }
          ],
          "surface": [
           {
            "colorbar": {
             "outlinewidth": 0,
             "ticks": ""
            },
            "colorscale": [
             [
              0,
              "#0d0887"
             ],
             [
              0.1111111111111111,
              "#46039f"
             ],
             [
              0.2222222222222222,
              "#7201a8"
             ],
             [
              0.3333333333333333,
              "#9c179e"
             ],
             [
              0.4444444444444444,
              "#bd3786"
             ],
             [
              0.5555555555555556,
              "#d8576b"
             ],
             [
              0.6666666666666666,
              "#ed7953"
             ],
             [
              0.7777777777777778,
              "#fb9f3a"
             ],
             [
              0.8888888888888888,
              "#fdca26"
             ],
             [
              1,
              "#f0f921"
             ]
            ],
            "type": "surface"
           }
          ],
          "table": [
           {
            "cells": {
             "fill": {
              "color": "#EBF0F8"
             },
             "line": {
              "color": "white"
             }
            },
            "header": {
             "fill": {
              "color": "#C8D4E3"
             },
             "line": {
              "color": "white"
             }
            },
            "type": "table"
           }
          ]
         },
         "layout": {
          "annotationdefaults": {
           "arrowcolor": "#2a3f5f",
           "arrowhead": 0,
           "arrowwidth": 1
          },
          "autotypenumbers": "strict",
          "coloraxis": {
           "colorbar": {
            "outlinewidth": 0,
            "ticks": ""
           }
          },
          "colorscale": {
           "diverging": [
            [
             0,
             "#8e0152"
            ],
            [
             0.1,
             "#c51b7d"
            ],
            [
             0.2,
             "#de77ae"
            ],
            [
             0.3,
             "#f1b6da"
            ],
            [
             0.4,
             "#fde0ef"
            ],
            [
             0.5,
             "#f7f7f7"
            ],
            [
             0.6,
             "#e6f5d0"
            ],
            [
             0.7,
             "#b8e186"
            ],
            [
             0.8,
             "#7fbc41"
            ],
            [
             0.9,
             "#4d9221"
            ],
            [
             1,
             "#276419"
            ]
           ],
           "sequential": [
            [
             0,
             "#0d0887"
            ],
            [
             0.1111111111111111,
             "#46039f"
            ],
            [
             0.2222222222222222,
             "#7201a8"
            ],
            [
             0.3333333333333333,
             "#9c179e"
            ],
            [
             0.4444444444444444,
             "#bd3786"
            ],
            [
             0.5555555555555556,
             "#d8576b"
            ],
            [
             0.6666666666666666,
             "#ed7953"
            ],
            [
             0.7777777777777778,
             "#fb9f3a"
            ],
            [
             0.8888888888888888,
             "#fdca26"
            ],
            [
             1,
             "#f0f921"
            ]
           ],
           "sequentialminus": [
            [
             0,
             "#0d0887"
            ],
            [
             0.1111111111111111,
             "#46039f"
            ],
            [
             0.2222222222222222,
             "#7201a8"
            ],
            [
             0.3333333333333333,
             "#9c179e"
            ],
            [
             0.4444444444444444,
             "#bd3786"
            ],
            [
             0.5555555555555556,
             "#d8576b"
            ],
            [
             0.6666666666666666,
             "#ed7953"
            ],
            [
             0.7777777777777778,
             "#fb9f3a"
            ],
            [
             0.8888888888888888,
             "#fdca26"
            ],
            [
             1,
             "#f0f921"
            ]
           ]
          },
          "colorway": [
           "#636efa",
           "#EF553B",
           "#00cc96",
           "#ab63fa",
           "#FFA15A",
           "#19d3f3",
           "#FF6692",
           "#B6E880",
           "#FF97FF",
           "#FECB52"
          ],
          "font": {
           "color": "#2a3f5f"
          },
          "geo": {
           "bgcolor": "white",
           "lakecolor": "white",
           "landcolor": "white",
           "showlakes": true,
           "showland": true,
           "subunitcolor": "#C8D4E3"
          },
          "hoverlabel": {
           "align": "left"
          },
          "hovermode": "closest",
          "mapbox": {
           "style": "light"
          },
          "paper_bgcolor": "white",
          "plot_bgcolor": "white",
          "polar": {
           "angularaxis": {
            "gridcolor": "#EBF0F8",
            "linecolor": "#EBF0F8",
            "ticks": ""
           },
           "bgcolor": "white",
           "radialaxis": {
            "gridcolor": "#EBF0F8",
            "linecolor": "#EBF0F8",
            "ticks": ""
           }
          },
          "scene": {
           "xaxis": {
            "backgroundcolor": "white",
            "gridcolor": "#DFE8F3",
            "gridwidth": 2,
            "linecolor": "#EBF0F8",
            "showbackground": true,
            "ticks": "",
            "zerolinecolor": "#EBF0F8"
           },
           "yaxis": {
            "backgroundcolor": "white",
            "gridcolor": "#DFE8F3",
            "gridwidth": 2,
            "linecolor": "#EBF0F8",
            "showbackground": true,
            "ticks": "",
            "zerolinecolor": "#EBF0F8"
           },
           "zaxis": {
            "backgroundcolor": "white",
            "gridcolor": "#DFE8F3",
            "gridwidth": 2,
            "linecolor": "#EBF0F8",
            "showbackground": true,
            "ticks": "",
            "zerolinecolor": "#EBF0F8"
           }
          },
          "shapedefaults": {
           "line": {
            "color": "#2a3f5f"
           }
          },
          "ternary": {
           "aaxis": {
            "gridcolor": "#DFE8F3",
            "linecolor": "#A2B1C6",
            "ticks": ""
           },
           "baxis": {
            "gridcolor": "#DFE8F3",
            "linecolor": "#A2B1C6",
            "ticks": ""
           },
           "bgcolor": "white",
           "caxis": {
            "gridcolor": "#DFE8F3",
            "linecolor": "#A2B1C6",
            "ticks": ""
           }
          },
          "title": {
           "x": 0.05
          },
          "xaxis": {
           "automargin": true,
           "gridcolor": "#EBF0F8",
           "linecolor": "#EBF0F8",
           "ticks": "",
           "title": {
            "standoff": 15
           },
           "zerolinecolor": "#EBF0F8",
           "zerolinewidth": 2
          },
          "yaxis": {
           "automargin": true,
           "gridcolor": "#EBF0F8",
           "linecolor": "#EBF0F8",
           "ticks": "",
           "title": {
            "standoff": 15
           },
           "zerolinecolor": "#EBF0F8",
           "zerolinewidth": 2
          }
         }
        },
        "title": {
         "text": "Equity curve — re‑balance = M"
        },
        "xaxis": {
         "title": {
          "text": "Date"
         }
        },
        "yaxis": {
         "title": {
          "text": "Portfolio value ($)"
         }
        }
       }
      }
     },
     "metadata": {},
     "output_type": "display_data"
    },
    {
     "data": {
      "application/vnd.plotly.v1+json": {
       "config": {
        "plotlyServerURL": "https://plot.ly"
       },
       "data": [
        {
         "mode": "lines",
         "name": "CVaR_95",
         "type": "scatter",
         "x": [
          "2015-03-31T23:59:59.999999999",
          "2015-04-30T23:59:59.999999999",
          "2015-05-31T23:59:59.999999999",
          "2015-06-30T23:59:59.999999999",
          "2015-07-31T23:59:59.999999999",
          "2015-08-31T23:59:59.999999999",
          "2015-09-30T23:59:59.999999999",
          "2015-10-31T23:59:59.999999999",
          "2015-11-30T23:59:59.999999999",
          "2015-12-31T23:59:59.999999999",
          "2016-01-31T23:59:59.999999999",
          "2016-02-29T23:59:59.999999999",
          "2016-03-31T23:59:59.999999999",
          "2016-04-30T23:59:59.999999999",
          "2016-05-31T23:59:59.999999999",
          "2016-06-30T23:59:59.999999999",
          "2016-07-31T23:59:59.999999999",
          "2016-08-31T23:59:59.999999999",
          "2016-09-30T23:59:59.999999999",
          "2016-10-31T23:59:59.999999999",
          "2016-11-30T23:59:59.999999999",
          "2016-12-31T23:59:59.999999999",
          "2017-01-31T23:59:59.999999999",
          "2017-02-28T23:59:59.999999999",
          "2017-03-31T23:59:59.999999999",
          "2017-04-30T23:59:59.999999999",
          "2017-05-31T23:59:59.999999999",
          "2017-06-30T23:59:59.999999999",
          "2017-07-31T23:59:59.999999999",
          "2017-08-31T23:59:59.999999999",
          "2017-09-30T23:59:59.999999999",
          "2017-10-31T23:59:59.999999999",
          "2017-11-30T23:59:59.999999999",
          "2017-12-31T23:59:59.999999999",
          "2018-01-31T23:59:59.999999999",
          "2018-02-28T23:59:59.999999999",
          "2018-03-31T23:59:59.999999999",
          "2018-04-30T23:59:59.999999999",
          "2018-05-31T23:59:59.999999999",
          "2018-06-30T23:59:59.999999999",
          "2018-07-31T23:59:59.999999999",
          "2018-08-31T23:59:59.999999999",
          "2018-09-30T23:59:59.999999999",
          "2018-10-31T23:59:59.999999999",
          "2018-11-30T23:59:59.999999999",
          "2018-12-31T23:59:59.999999999",
          "2019-01-31T23:59:59.999999999",
          "2019-02-28T23:59:59.999999999",
          "2019-03-31T23:59:59.999999999",
          "2019-04-30T23:59:59.999999999",
          "2019-05-31T23:59:59.999999999",
          "2019-06-30T23:59:59.999999999",
          "2019-07-31T23:59:59.999999999",
          "2019-08-31T23:59:59.999999999",
          "2019-09-30T23:59:59.999999999",
          "2019-10-31T23:59:59.999999999",
          "2019-11-30T23:59:59.999999999",
          "2019-12-31T23:59:59.999999999"
         ],
         "y": {
          "bdata": "AAAAAAAAAAAAAAAAAAAAAAAAAAAAAAAAAAAAAAAAAABfP7pQaOmSPwh2NoXyPJ0/ldYhU1kDoD+Hhd3MKyezP3K5emxiIrM/ztN4nE46sz8yAqVTei+wP0atzSMAn6c/2SQp6gtwkj8SKIm/XVaTPzUnIaeYuZw/JEYcC/dPoz8ZvcpR99CrP0qov19bGas/e2WEIsbpoz/bVAvirFyZP3val/tlg5U/ri64jz62iz9IbsQCe5ywP4XsXNZ7pLE/rrIBO4TPsj/ai4Jiqo+vPxlBQpPg5ZQ/Lwsly3RnkD9tNErppbmQP/phrNdimIU/n6dEfJyxij+XVopRXz2QP7tivJUOyYs/O8sjfD37iT+M6bkr5d+cP9x/agRBXac/bxD8KYsCrj+bCuf03y2rP1AE7iJpS50/TcSCBwosrD8bV5swwI21P28VZltu97E/KvD6NOY/qj+5IyPlzZigPw++dntd6aA/12J61s05qT+ARd5JNLurPxG/4GOCvKs/kKB6qzkRsz97hRT3y5KzP6bm4LgPAbM/IgU+Jm1IsT8mkxJxkbewP43WRayJbKc/492hC1cgoD/N+7/EVXuTP6Zzmtd7Kpc/s9oceFtclT8=",
          "dtype": "f8"
         }
        },
        {
         "mode": "lines",
         "name": "CVaR_90",
         "type": "scatter",
         "x": [
          "2015-03-31T23:59:59.999999999",
          "2015-04-30T23:59:59.999999999",
          "2015-05-31T23:59:59.999999999",
          "2015-06-30T23:59:59.999999999",
          "2015-07-31T23:59:59.999999999",
          "2015-08-31T23:59:59.999999999",
          "2015-09-30T23:59:59.999999999",
          "2015-10-31T23:59:59.999999999",
          "2015-11-30T23:59:59.999999999",
          "2015-12-31T23:59:59.999999999",
          "2016-01-31T23:59:59.999999999",
          "2016-02-29T23:59:59.999999999",
          "2016-03-31T23:59:59.999999999",
          "2016-04-30T23:59:59.999999999",
          "2016-05-31T23:59:59.999999999",
          "2016-06-30T23:59:59.999999999",
          "2016-07-31T23:59:59.999999999",
          "2016-08-31T23:59:59.999999999",
          "2016-09-30T23:59:59.999999999",
          "2016-10-31T23:59:59.999999999",
          "2016-11-30T23:59:59.999999999",
          "2016-12-31T23:59:59.999999999",
          "2017-01-31T23:59:59.999999999",
          "2017-02-28T23:59:59.999999999",
          "2017-03-31T23:59:59.999999999",
          "2017-04-30T23:59:59.999999999",
          "2017-05-31T23:59:59.999999999",
          "2017-06-30T23:59:59.999999999",
          "2017-07-31T23:59:59.999999999",
          "2017-08-31T23:59:59.999999999",
          "2017-09-30T23:59:59.999999999",
          "2017-10-31T23:59:59.999999999",
          "2017-11-30T23:59:59.999999999",
          "2017-12-31T23:59:59.999999999",
          "2018-01-31T23:59:59.999999999",
          "2018-02-28T23:59:59.999999999",
          "2018-03-31T23:59:59.999999999",
          "2018-04-30T23:59:59.999999999",
          "2018-05-31T23:59:59.999999999",
          "2018-06-30T23:59:59.999999999",
          "2018-07-31T23:59:59.999999999",
          "2018-08-31T23:59:59.999999999",
          "2018-09-30T23:59:59.999999999",
          "2018-10-31T23:59:59.999999999",
          "2018-11-30T23:59:59.999999999",
          "2018-12-31T23:59:59.999999999",
          "2019-01-31T23:59:59.999999999",
          "2019-02-28T23:59:59.999999999",
          "2019-03-31T23:59:59.999999999",
          "2019-04-30T23:59:59.999999999",
          "2019-05-31T23:59:59.999999999",
          "2019-06-30T23:59:59.999999999",
          "2019-07-31T23:59:59.999999999",
          "2019-08-31T23:59:59.999999999",
          "2019-09-30T23:59:59.999999999",
          "2019-10-31T23:59:59.999999999",
          "2019-11-30T23:59:59.999999999",
          "2019-12-31T23:59:59.999999999"
         ],
         "y": {
          "bdata": "AAAAAAAAAAAAAAAAAAAAAAAAAAAAAAAAAAAAAAAAAACpZiOiVUiOP/RS4ztmWqE/2CTVVDLAnz9z5bthx2KzP0Uy33kYSLM/CLQtDO9Usz/jzVjsRfGvP3x/+6bM7ag//UmB1uwwlz8ya4AuzW6cPzm4xHsXBKA/ETuPM8i4pT+guEKlbZqoPwClsSHa5ac/YtY9JdtXoz9Llbm486mNP0mQfada24w/X6IWMKqWhD/hFQAPdeawP6MDNT0mxbE/QaZGV4Frsj9JPqGdU9uvP+lQmC6Y1ZY/Nx/R2pBRkj84mBkKHgGSP+7qpM2UPok/m+/9JzdMiT+gCqBkADCBPz37tdWufHw/zf1nQfZjfz9RG6jHT6KWP6ZSSiLR6qM/Q2Xupuuiqj/7XVJIUI+oP22hcxHWvZs//YBDfJjrqj9JEMHIDNe0P8o5+mNpUbE/iCtDnM0Pqj9Cm+sCKkOhP/72YxQ3haE/nNbPUKdVqD91WoL4vjaqP+JwPl/Lyq0/cy5gTM7XtD8mTFZAVaW1P3UjYcI0KLQ/4MuVo4rksT9jEAaB5FuxP6mJc8ERjqg/0WyylLf2oD+u3wX0LJmSP7+VB260xpU/CeUZH3sqkz8=",
          "dtype": "f8"
         }
        },
        {
         "mode": "lines",
         "name": "CVaR_80",
         "type": "scatter",
         "x": [
          "2015-03-31T23:59:59.999999999",
          "2015-04-30T23:59:59.999999999",
          "2015-05-31T23:59:59.999999999",
          "2015-06-30T23:59:59.999999999",
          "2015-07-31T23:59:59.999999999",
          "2015-08-31T23:59:59.999999999",
          "2015-09-30T23:59:59.999999999",
          "2015-10-31T23:59:59.999999999",
          "2015-11-30T23:59:59.999999999",
          "2015-12-31T23:59:59.999999999",
          "2016-01-31T23:59:59.999999999",
          "2016-02-29T23:59:59.999999999",
          "2016-03-31T23:59:59.999999999",
          "2016-04-30T23:59:59.999999999",
          "2016-05-31T23:59:59.999999999",
          "2016-06-30T23:59:59.999999999",
          "2016-07-31T23:59:59.999999999",
          "2016-08-31T23:59:59.999999999",
          "2016-09-30T23:59:59.999999999",
          "2016-10-31T23:59:59.999999999",
          "2016-11-30T23:59:59.999999999",
          "2016-12-31T23:59:59.999999999",
          "2017-01-31T23:59:59.999999999",
          "2017-02-28T23:59:59.999999999",
          "2017-03-31T23:59:59.999999999",
          "2017-04-30T23:59:59.999999999",
          "2017-05-31T23:59:59.999999999",
          "2017-06-30T23:59:59.999999999",
          "2017-07-31T23:59:59.999999999",
          "2017-08-31T23:59:59.999999999",
          "2017-09-30T23:59:59.999999999",
          "2017-10-31T23:59:59.999999999",
          "2017-11-30T23:59:59.999999999",
          "2017-12-31T23:59:59.999999999",
          "2018-01-31T23:59:59.999999999",
          "2018-02-28T23:59:59.999999999",
          "2018-03-31T23:59:59.999999999",
          "2018-04-30T23:59:59.999999999",
          "2018-05-31T23:59:59.999999999",
          "2018-06-30T23:59:59.999999999",
          "2018-07-31T23:59:59.999999999",
          "2018-08-31T23:59:59.999999999",
          "2018-09-30T23:59:59.999999999",
          "2018-10-31T23:59:59.999999999",
          "2018-11-30T23:59:59.999999999",
          "2018-12-31T23:59:59.999999999",
          "2019-01-31T23:59:59.999999999",
          "2019-02-28T23:59:59.999999999",
          "2019-03-31T23:59:59.999999999",
          "2019-04-30T23:59:59.999999999",
          "2019-05-31T23:59:59.999999999",
          "2019-06-30T23:59:59.999999999",
          "2019-07-31T23:59:59.999999999",
          "2019-08-31T23:59:59.999999999",
          "2019-09-30T23:59:59.999999999",
          "2019-10-31T23:59:59.999999999",
          "2019-11-30T23:59:59.999999999",
          "2019-12-31T23:59:59.999999999"
         ],
         "y": {
          "bdata": "AAAAAAAAAAAAAAAAAAAAAAAAAAAAAAAAAAAAAAAAAABIu/+h7UqKPxF/Xv+pSKI/S0TLb9bnoD8D4mJkF8WyP9Fji2AOs7I/R4yIsW+Wsj9NhTjzHMGsP9xS/SUUy6g/9HBCrqMvlT+jOvFDF8ubP5Xq4tJRGqA/8H5MBqfzpT9lNaOmJYKsP2IYZKa556o/7y4NuUG1pD8+6+TfUCCVP7jXveIhu5U/+IOzyFy1iT8AR+3U/VGxP+CE823M+LE/7Ac1Q4CgsT+mb63Bph+vP3iCLZZSppI/iunvqc/Eaj/5MykMB2RkPwqBnKKBUHI/Y6nnPg5sfT8XmpUdObuCP+7qQAVQ34I/Lgvd/Gfwhj9RqvIgCwabPxUkYGKTSKc/S0332AwPrj9h48KX2y2rP4ZGsuwZdZo/uukorhtHqD+o/JWfQDG0P9YfTn4OTrE/wna1UIJVqz/AgTs4IMSeP2qhV7koJJ0/q4hv/INjqD+fPlH7mPyqP4K1KnhmKa0/Iwz+4q+ksz8M5neZ3km0P+1mgo7yALM/ov2kA6aasD+xMs7A6S+wPy8doeqLLac/4UWtlPo0nz9M9HIE37OQP+LgEunNb5Q/7OOrrsgSkz8=",
          "dtype": "f8"
         }
        },
        {
         "mode": "lines",
         "name": "MVar",
         "type": "scatter",
         "x": [
          "2015-03-31T23:59:59.999999999",
          "2015-04-30T23:59:59.999999999",
          "2015-05-31T23:59:59.999999999",
          "2015-06-30T23:59:59.999999999",
          "2015-07-31T23:59:59.999999999",
          "2015-08-31T23:59:59.999999999",
          "2015-09-30T23:59:59.999999999",
          "2015-10-31T23:59:59.999999999",
          "2015-11-30T23:59:59.999999999",
          "2015-12-31T23:59:59.999999999",
          "2016-01-31T23:59:59.999999999",
          "2016-02-29T23:59:59.999999999",
          "2016-03-31T23:59:59.999999999",
          "2016-04-30T23:59:59.999999999",
          "2016-05-31T23:59:59.999999999",
          "2016-06-30T23:59:59.999999999",
          "2016-07-31T23:59:59.999999999",
          "2016-08-31T23:59:59.999999999",
          "2016-09-30T23:59:59.999999999",
          "2016-10-31T23:59:59.999999999",
          "2016-11-30T23:59:59.999999999",
          "2016-12-31T23:59:59.999999999",
          "2017-01-31T23:59:59.999999999",
          "2017-02-28T23:59:59.999999999",
          "2017-03-31T23:59:59.999999999",
          "2017-04-30T23:59:59.999999999",
          "2017-05-31T23:59:59.999999999",
          "2017-06-30T23:59:59.999999999",
          "2017-07-31T23:59:59.999999999",
          "2017-08-31T23:59:59.999999999",
          "2017-09-30T23:59:59.999999999",
          "2017-10-31T23:59:59.999999999",
          "2017-11-30T23:59:59.999999999",
          "2017-12-31T23:59:59.999999999",
          "2018-01-31T23:59:59.999999999",
          "2018-02-28T23:59:59.999999999",
          "2018-03-31T23:59:59.999999999",
          "2018-04-30T23:59:59.999999999",
          "2018-05-31T23:59:59.999999999",
          "2018-06-30T23:59:59.999999999",
          "2018-07-31T23:59:59.999999999",
          "2018-08-31T23:59:59.999999999",
          "2018-09-30T23:59:59.999999999",
          "2018-10-31T23:59:59.999999999",
          "2018-11-30T23:59:59.999999999",
          "2018-12-31T23:59:59.999999999",
          "2019-01-31T23:59:59.999999999",
          "2019-02-28T23:59:59.999999999",
          "2019-03-31T23:59:59.999999999",
          "2019-04-30T23:59:59.999999999",
          "2019-05-31T23:59:59.999999999",
          "2019-06-30T23:59:59.999999999",
          "2019-07-31T23:59:59.999999999",
          "2019-08-31T23:59:59.999999999",
          "2019-09-30T23:59:59.999999999",
          "2019-10-31T23:59:59.999999999",
          "2019-11-30T23:59:59.999999999",
          "2019-12-31T23:59:59.999999999"
         ],
         "y": {
          "bdata": "AAAAAAAAAAAAAAAAAAAAAAAAAAAAAAAAAAAAAAAAAAAXg1COjNuRP8WmOmwtwaI/gZjVWnvioT9dfUMRuiezP+/3t2neBbM/DSt2f0MFsz+eslkrMUyuP9C+AEaAEao/x3L7C/5qkD/F0bUqB+OXPwscmtvCvKA/WvYowp/rpz9mQorm4xKuP4O0FZlRT6o/m+KqRgJtoz8tUGsICnyXPzIblI8SEJo/8BaRkROHkT9i7LNy0YawP6uWN2CegrA/ZqoNce9qsD/M6zWSXCusP7Rh6ewqapI/Vh/PxEUUhz8K3VqV6amHP665UGD0roA/7J5XyDgDij/7zakPiEGRP0hqZ2pYo48/7MrSxVfJjD/3NO+v8LagP7mANX1HI6o/zVr1BnqqsD8xvXVdKZ+tP20p1p5NUZs/RocWapOSqT+iHj/5wnG0P6E+G1yeUrE/EKk8LpJ/qj8JxProImafPyJdpnRa754/tix3DPV2qT+ZLJdP1tKrP4NnquPw+6s/lbL1vsvusj/KenS6t2OzP7XzcIX2QrI/CqwJtDtdsD8nBCMjNMGvP9KtjPOOP6Y/imw9aIjcnD/1ul/RrEGTP3qmquf22Zc/CKx8rbPnlz8=",
          "dtype": "f8"
         }
        },
        {
         "mode": "lines",
         "name": "TOP3",
         "type": "scatter",
         "x": [
          "2015-02-28T00:00:00.000000000",
          "2015-03-31T00:00:00.000000000",
          "2015-04-30T00:00:00.000000000",
          "2015-05-31T00:00:00.000000000",
          "2015-06-30T00:00:00.000000000",
          "2015-07-31T00:00:00.000000000",
          "2015-08-31T00:00:00.000000000",
          "2015-09-30T00:00:00.000000000",
          "2015-10-31T00:00:00.000000000",
          "2015-11-30T00:00:00.000000000",
          "2015-12-31T00:00:00.000000000",
          "2016-01-31T00:00:00.000000000",
          "2016-02-29T00:00:00.000000000",
          "2016-03-31T00:00:00.000000000",
          "2016-04-30T00:00:00.000000000",
          "2016-05-31T00:00:00.000000000",
          "2016-06-30T00:00:00.000000000",
          "2016-07-31T00:00:00.000000000",
          "2016-08-31T00:00:00.000000000",
          "2016-09-30T00:00:00.000000000",
          "2016-10-31T00:00:00.000000000",
          "2016-11-30T00:00:00.000000000",
          "2016-12-31T00:00:00.000000000",
          "2017-01-31T00:00:00.000000000",
          "2017-02-28T00:00:00.000000000",
          "2017-03-31T00:00:00.000000000",
          "2017-04-30T00:00:00.000000000",
          "2017-05-31T00:00:00.000000000",
          "2017-06-30T00:00:00.000000000",
          "2017-07-31T00:00:00.000000000",
          "2017-08-31T00:00:00.000000000",
          "2017-09-30T00:00:00.000000000",
          "2017-10-31T00:00:00.000000000",
          "2017-11-30T00:00:00.000000000",
          "2017-12-31T00:00:00.000000000",
          "2018-01-31T00:00:00.000000000",
          "2018-02-28T00:00:00.000000000",
          "2018-03-31T00:00:00.000000000",
          "2018-04-30T00:00:00.000000000",
          "2018-05-31T00:00:00.000000000",
          "2018-06-30T00:00:00.000000000",
          "2018-07-31T00:00:00.000000000",
          "2018-08-31T00:00:00.000000000",
          "2018-09-30T00:00:00.000000000",
          "2018-10-31T00:00:00.000000000",
          "2018-11-30T00:00:00.000000000",
          "2018-12-31T00:00:00.000000000",
          "2019-01-31T00:00:00.000000000",
          "2019-02-28T00:00:00.000000000",
          "2019-03-31T00:00:00.000000000",
          "2019-04-30T00:00:00.000000000",
          "2019-05-31T00:00:00.000000000",
          "2019-06-30T00:00:00.000000000",
          "2019-07-31T00:00:00.000000000",
          "2019-08-31T00:00:00.000000000",
          "2019-09-30T00:00:00.000000000",
          "2019-10-31T00:00:00.000000000",
          "2019-11-30T00:00:00.000000000",
          "2019-12-31T00:00:00.000000000"
         ],
         "y": {
          "bdata": "AAAAAAAAAAAAAAAAAAAAAAAAAAAAAAAAAAAAAAAAAAAVOq/TG9+cP5XXBp7rk6k/pK1v7b4crD86yhegaiurPyWQ3KL8ubQ/vVCX357nsj8Lo697hveyP3dwp5y5WrA/n61O1kQ5sD/Yr2DlVYijP6ns7sZznqQ/B+LMXd84oj/Q+aT8VbujP1cEdgrvxqM/k1s6B9T+mD8E8b0xMvKRPxlidC7rr5E/yeUSo8O3iT/kD+ase4aMP/kJbVM2bJI/rMPXm2ljnD+5J+uR/R6bP7Y7sJZ63Jw/5v6yz9mnnj9MDrdOJWilP9a9yAcps6E/2c51aV/foj/B5TeQMwyjPzVB14JG1J4/hP36hJMfkD9QsTaJ7SCQPyq8B4/JZpE/cSk+2ruAoT8FPsmHaZCjP09XNuFYTa4/Lh9l94VNrj8yLpEXag+tP35rBYBn0qo/XH9o9O1CpD8hdag/wJ2aPxrMRYzp5qc/N1Papk4Yqz9tt6OiK1SsP/dE2rdE5as/Y4qCw0mgrD+11sMP4d2nPwr06i1IDKc//vI/tF+5rD/3GFUNK3qvP5fLgHIEfK8/Sudxy27krz+48u/n1ZasP1K78VPpsp4/A/S+Tv4Ilz8V4U6xcE2iPw==",
          "dtype": "f8"
         }
        },
        {
         "mode": "lines",
         "name": "MSFT",
         "type": "scatter",
         "x": [
          "2015-03-31T23:59:59.999999999",
          "2015-04-30T23:59:59.999999999",
          "2015-05-31T23:59:59.999999999",
          "2015-06-30T23:59:59.999999999",
          "2015-07-31T23:59:59.999999999",
          "2015-08-31T23:59:59.999999999",
          "2015-09-30T23:59:59.999999999",
          "2015-10-31T23:59:59.999999999",
          "2015-11-30T23:59:59.999999999",
          "2015-12-31T23:59:59.999999999",
          "2016-01-31T23:59:59.999999999",
          "2016-02-29T23:59:59.999999999",
          "2016-03-31T23:59:59.999999999",
          "2016-04-30T23:59:59.999999999",
          "2016-05-31T23:59:59.999999999",
          "2016-06-30T23:59:59.999999999",
          "2016-07-31T23:59:59.999999999",
          "2016-08-31T23:59:59.999999999",
          "2016-09-30T23:59:59.999999999",
          "2016-10-31T23:59:59.999999999",
          "2016-11-30T23:59:59.999999999",
          "2016-12-31T23:59:59.999999999",
          "2017-01-31T23:59:59.999999999",
          "2017-02-28T23:59:59.999999999",
          "2017-03-31T23:59:59.999999999",
          "2017-04-30T23:59:59.999999999",
          "2017-05-31T23:59:59.999999999",
          "2017-06-30T23:59:59.999999999",
          "2017-07-31T23:59:59.999999999",
          "2017-08-31T23:59:59.999999999",
          "2017-09-30T23:59:59.999999999",
          "2017-10-31T23:59:59.999999999",
          "2017-11-30T23:59:59.999999999",
          "2017-12-31T23:59:59.999999999",
          "2018-01-31T23:59:59.999999999",
          "2018-02-28T23:59:59.999999999",
          "2018-03-31T23:59:59.999999999",
          "2018-04-30T23:59:59.999999999",
          "2018-05-31T23:59:59.999999999",
          "2018-06-30T23:59:59.999999999",
          "2018-07-31T23:59:59.999999999",
          "2018-08-31T23:59:59.999999999",
          "2018-09-30T23:59:59.999999999",
          "2018-10-31T23:59:59.999999999",
          "2018-11-30T23:59:59.999999999",
          "2018-12-31T23:59:59.999999999",
          "2019-01-31T23:59:59.999999999",
          "2019-02-28T23:59:59.999999999",
          "2019-03-31T23:59:59.999999999",
          "2019-04-30T23:59:59.999999999",
          "2019-05-31T23:59:59.999999999",
          "2019-06-30T23:59:59.999999999",
          "2019-07-31T23:59:59.999999999",
          "2019-08-31T23:59:59.999999999",
          "2019-09-30T23:59:59.999999999",
          "2019-10-31T23:59:59.999999999",
          "2019-11-30T23:59:59.999999999",
          "2019-12-31T23:59:59.999999999"
         ],
         "y": {
          "bdata": "AAAAAAAAAAAAAAAAAAAAAAAAAAAAAAAAAAAAAAAAAADVETZQuLa8Py7NNVJ6erw/uBuycPJWqz/hDsGi/7y6PzmxwKEZ2rc/MzjnPczrtz+FQ1TSLDS0P+pVKMv4ALk/g3kGbuVerj+WRwMcjfayPxEgLwr/xrQ/k+JOfOYGtT/tyDPfpU22P10M2dZQjbQ/sng324xirD9No70WWSWrP9grZCDwbaY/Ao/yly/UkD8KOcDePRCTP+58M19rSpc/p6F3nvpwlT/xtA8Bd2qVP3BB4sn2T5U/dCmYbBZBmD+r3GC0k/mZP8pYSZXJ8pk/i6YAMC6Lmz/7l0pqOLiqPzAuhPspLKg/lutVlWZoqD/Djw54VdytP9Jp11DzBK8/Qc+aHm6Lqz8YBG0YZXWrPwUH/WaJbKw/CSjBgDEEoT/mMleUi22lP+SWRZXoAaA/HgiVvYmMoD8+g/pCHJysP/znrDOHVKw/OtXolMpqsD9bGoIMSFytP/vYzuewn7E/3jrFxwhtrz/iWQ/5aaKyP3WyXjQB4K4//kbTBdzarz+3L05vHguwP443mzhVQrA/zhd5i06zqD/PvpM+wX6fP+CBSpjv15M/h0IObgeHlD8=",
          "dtype": "f8"
         }
        },
        {
         "mode": "lines",
         "name": "MRK",
         "type": "scatter",
         "x": [
          "2015-03-31T23:59:59.999999999",
          "2015-04-30T23:59:59.999999999",
          "2015-05-31T23:59:59.999999999",
          "2015-06-30T23:59:59.999999999",
          "2015-07-31T23:59:59.999999999",
          "2015-08-31T23:59:59.999999999",
          "2015-09-30T23:59:59.999999999",
          "2015-10-31T23:59:59.999999999",
          "2015-11-30T23:59:59.999999999",
          "2015-12-31T23:59:59.999999999",
          "2016-01-31T23:59:59.999999999",
          "2016-02-29T23:59:59.999999999",
          "2016-03-31T23:59:59.999999999",
          "2016-04-30T23:59:59.999999999",
          "2016-05-31T23:59:59.999999999",
          "2016-06-30T23:59:59.999999999",
          "2016-07-31T23:59:59.999999999",
          "2016-08-31T23:59:59.999999999",
          "2016-09-30T23:59:59.999999999",
          "2016-10-31T23:59:59.999999999",
          "2016-11-30T23:59:59.999999999",
          "2016-12-31T23:59:59.999999999",
          "2017-01-31T23:59:59.999999999",
          "2017-02-28T23:59:59.999999999",
          "2017-03-31T23:59:59.999999999",
          "2017-04-30T23:59:59.999999999",
          "2017-05-31T23:59:59.999999999",
          "2017-06-30T23:59:59.999999999",
          "2017-07-31T23:59:59.999999999",
          "2017-08-31T23:59:59.999999999",
          "2017-09-30T23:59:59.999999999",
          "2017-10-31T23:59:59.999999999",
          "2017-11-30T23:59:59.999999999",
          "2017-12-31T23:59:59.999999999",
          "2018-01-31T23:59:59.999999999",
          "2018-02-28T23:59:59.999999999",
          "2018-03-31T23:59:59.999999999",
          "2018-04-30T23:59:59.999999999",
          "2018-05-31T23:59:59.999999999",
          "2018-06-30T23:59:59.999999999",
          "2018-07-31T23:59:59.999999999",
          "2018-08-31T23:59:59.999999999",
          "2018-09-30T23:59:59.999999999",
          "2018-10-31T23:59:59.999999999",
          "2018-11-30T23:59:59.999999999",
          "2018-12-31T23:59:59.999999999",
          "2019-01-31T23:59:59.999999999",
          "2019-02-28T23:59:59.999999999",
          "2019-03-31T23:59:59.999999999",
          "2019-04-30T23:59:59.999999999",
          "2019-05-31T23:59:59.999999999",
          "2019-06-30T23:59:59.999999999",
          "2019-07-31T23:59:59.999999999",
          "2019-08-31T23:59:59.999999999",
          "2019-09-30T23:59:59.999999999",
          "2019-10-31T23:59:59.999999999",
          "2019-11-30T23:59:59.999999999",
          "2019-12-31T23:59:59.999999999"
         ],
         "y": {
          "bdata": "AAAAAAAAAAAAAAAAAAAAAAAAAAAAAAAAAAAAAAAAAABuLtUgZVqmP0/+SFuBd64/jj8SLxl4rj9LmAWB+wa2PwoV7nriKLU/MRmrNRIutD99v2wQZUOyP9ZU7sVVP64/JLLz9Dy/oj8k5es8sFCjP2f966IFaKM/7NYTeUSIlz8WpZ2iNKGMP66lmWM0ZJU/2ACefqRXnD+jhlid4zeoP5n3LjAZRak/sxeutf2xqz9kSs7idwmpP2wijDaS4Kw/FzEuEHFSqT9iatiOMTSpPzUvtv06C6c/j1HjCGAopj/dne+/Ux2fP2I27J0FHpo/Ba5pyhhtlz9waTpDSTWvP77ZhHJWDrA/89oveXTAsD8diYR1meyyPyeVcaCMYLQ/MIACwfkXqj9yWk8QHiCwP82bMfZWHrA/qK4DB49crj8V7TcPdSGkP5O18JUBc6E/OiR4T9FpnT8Pvot39zeZP8AMRKOO0Jg/OHhVHURapT+E7N2d5oKoPxdcgYeEE64/7CjxcOj7rT9YcYLCATeuP+hTXiWBV6w/Uc+6vJE6rD/EoQs52zOlP0RR26pDqKY/LVidOfsuoj/UoFW+CFCiP8LkBAjdqZw/DxR4v3cVnj8=",
          "dtype": "f8"
         }
        },
        {
         "mode": "lines",
         "name": "GOOGL",
         "type": "scatter",
         "x": [
          "2015-03-31T23:59:59.999999999",
          "2015-04-30T23:59:59.999999999",
          "2015-05-31T23:59:59.999999999",
          "2015-06-30T23:59:59.999999999",
          "2015-07-31T23:59:59.999999999",
          "2015-08-31T23:59:59.999999999",
          "2015-09-30T23:59:59.999999999",
          "2015-10-31T23:59:59.999999999",
          "2015-11-30T23:59:59.999999999",
          "2015-12-31T23:59:59.999999999",
          "2016-01-31T23:59:59.999999999",
          "2016-02-29T23:59:59.999999999",
          "2016-03-31T23:59:59.999999999",
          "2016-04-30T23:59:59.999999999",
          "2016-05-31T23:59:59.999999999",
          "2016-06-30T23:59:59.999999999",
          "2016-07-31T23:59:59.999999999",
          "2016-08-31T23:59:59.999999999",
          "2016-09-30T23:59:59.999999999",
          "2016-10-31T23:59:59.999999999",
          "2016-11-30T23:59:59.999999999",
          "2016-12-31T23:59:59.999999999",
          "2017-01-31T23:59:59.999999999",
          "2017-02-28T23:59:59.999999999",
          "2017-03-31T23:59:59.999999999",
          "2017-04-30T23:59:59.999999999",
          "2017-05-31T23:59:59.999999999",
          "2017-06-30T23:59:59.999999999",
          "2017-07-31T23:59:59.999999999",
          "2017-08-31T23:59:59.999999999",
          "2017-09-30T23:59:59.999999999",
          "2017-10-31T23:59:59.999999999",
          "2017-11-30T23:59:59.999999999",
          "2017-12-31T23:59:59.999999999",
          "2018-01-31T23:59:59.999999999",
          "2018-02-28T23:59:59.999999999",
          "2018-03-31T23:59:59.999999999",
          "2018-04-30T23:59:59.999999999",
          "2018-05-31T23:59:59.999999999",
          "2018-06-30T23:59:59.999999999",
          "2018-07-31T23:59:59.999999999",
          "2018-08-31T23:59:59.999999999",
          "2018-09-30T23:59:59.999999999",
          "2018-10-31T23:59:59.999999999",
          "2018-11-30T23:59:59.999999999",
          "2018-12-31T23:59:59.999999999",
          "2019-01-31T23:59:59.999999999",
          "2019-02-28T23:59:59.999999999",
          "2019-03-31T23:59:59.999999999",
          "2019-04-30T23:59:59.999999999",
          "2019-05-31T23:59:59.999999999",
          "2019-06-30T23:59:59.999999999",
          "2019-07-31T23:59:59.999999999",
          "2019-08-31T23:59:59.999999999",
          "2019-09-30T23:59:59.999999999",
          "2019-10-31T23:59:59.999999999",
          "2019-11-30T23:59:59.999999999",
          "2019-12-31T23:59:59.999999999"
         ],
         "y": {
          "bdata": "AAAAAAAAAAAAAAAAAAAAAAAAAAAAAAAAAAAAAAAAAABaU/SiHRy6P+g952yWIbo/2iQEOFBAuj8Y+PKgSY28P7wmwGMmA7s/OuokIWzpsT9xln5NTjmyP/qzOoUwq7Q/IkBFYtyIqD8HQw15j7+sP3Cov8Q6WbA/+P+VDX6EsT86VQgIA+i1Pwo6y1f3KrU/dFcHm1ytsT8IkQmdpDOxP3G8ENW11q8/uppg3bIZmj9AJNVFUleeP7O0nGxu4p8/874uIZsEoD+QI2jIL8egP26G6UnpbqE/rHyDLxbArT9H7on1Ks2tPzWYIV64ha0/n4zAD3YDpz+DDhuY2velPyxUQg7VD5c/+/qoqvcVlz/YL56M/9yoP7+VuNl46LE/Tj3s18OBsz9ez+axgKezP/nTlmYuz7U/UXUga72Erz9+aXDD5yywP6F5Zg9nqqc/Y9QpVQT/pz85tYRJ7yaxP30mIfrH87A/I4ghhz7epz8kcqEo7jexPwlQcy5GTbE/8Ieib3QBqj8/eahZ+wKqP1EF+7nUqq0/mjLT/k2cpz/OjK/b2E+zP1+QpTVTVLM/sNIvrJJtsz8kijoHD8WuP6URiMJ/Z6s/ISzSUchlmD8=",
          "dtype": "f8"
         }
        },
        {
         "mode": "lines",
         "name": "CVX",
         "type": "scatter",
         "x": [
          "2015-03-31T23:59:59.999999999",
          "2015-04-30T23:59:59.999999999",
          "2015-05-31T23:59:59.999999999",
          "2015-06-30T23:59:59.999999999",
          "2015-07-31T23:59:59.999999999",
          "2015-08-31T23:59:59.999999999",
          "2015-09-30T23:59:59.999999999",
          "2015-10-31T23:59:59.999999999",
          "2015-11-30T23:59:59.999999999",
          "2015-12-31T23:59:59.999999999",
          "2016-01-31T23:59:59.999999999",
          "2016-02-29T23:59:59.999999999",
          "2016-03-31T23:59:59.999999999",
          "2016-04-30T23:59:59.999999999",
          "2016-05-31T23:59:59.999999999",
          "2016-06-30T23:59:59.999999999",
          "2016-07-31T23:59:59.999999999",
          "2016-08-31T23:59:59.999999999",
          "2016-09-30T23:59:59.999999999",
          "2016-10-31T23:59:59.999999999",
          "2016-11-30T23:59:59.999999999",
          "2016-12-31T23:59:59.999999999",
          "2017-01-31T23:59:59.999999999",
          "2017-02-28T23:59:59.999999999",
          "2017-03-31T23:59:59.999999999",
          "2017-04-30T23:59:59.999999999",
          "2017-05-31T23:59:59.999999999",
          "2017-06-30T23:59:59.999999999",
          "2017-07-31T23:59:59.999999999",
          "2017-08-31T23:59:59.999999999",
          "2017-09-30T23:59:59.999999999",
          "2017-10-31T23:59:59.999999999",
          "2017-11-30T23:59:59.999999999",
          "2017-12-31T23:59:59.999999999",
          "2018-01-31T23:59:59.999999999",
          "2018-02-28T23:59:59.999999999",
          "2018-03-31T23:59:59.999999999",
          "2018-04-30T23:59:59.999999999",
          "2018-05-31T23:59:59.999999999",
          "2018-06-30T23:59:59.999999999",
          "2018-07-31T23:59:59.999999999",
          "2018-08-31T23:59:59.999999999",
          "2018-09-30T23:59:59.999999999",
          "2018-10-31T23:59:59.999999999",
          "2018-11-30T23:59:59.999999999",
          "2018-12-31T23:59:59.999999999",
          "2019-01-31T23:59:59.999999999",
          "2019-02-28T23:59:59.999999999",
          "2019-03-31T23:59:59.999999999",
          "2019-04-30T23:59:59.999999999",
          "2019-05-31T23:59:59.999999999",
          "2019-06-30T23:59:59.999999999",
          "2019-07-31T23:59:59.999999999",
          "2019-08-31T23:59:59.999999999",
          "2019-09-30T23:59:59.999999999",
          "2019-10-31T23:59:59.999999999",
          "2019-11-30T23:59:59.999999999",
          "2019-12-31T23:59:59.999999999"
         ],
         "y": {
          "bdata": "AAAAAAAAAAAAAAAAAAAAAAAAAAAAAAAAAAAAAAAAAACMSc9KAb+tP7rcsxMy8a4/ShSW9AFumD+BgIcak365P9vaDs1L0rg/e9eGw8yMtj8yiF79YfyzP8IGBiPAULQ/Qp19OKtVsz/ka2zOiGW0P6zd0HvbSrQ/bOHXF/YRsj9vZn7xlzyxP3y/ShxJKKU/5nJYjJDHmz/eitLusFibPzCsohQ7QKI/R3Eo5m/3oD9nrYVnjOqnPyrc62XGCKg/lNLMz4E7rD+YEEgkC6qmP4Slq0pQhZs/hd2tMJURmT+/MAULlFCiP3/xOJo40J0/BDsj0qg2qT/Ad0pWzkCnP+sPL4fO06Y/EERhu/Ippz9Vlrbf4XqlP4Ja8nMDHK8/frxX5e2erz/HTSEqSn+zP9a3kqt+rrI/x9oetvLGsj/xfEqMqGClP3JYtUnxZa0/NknzI9NRoj8Ex+baSXiqP2G3oYdwQrA/60eKqoU1sj+OU6jp3mSzP+I+v0yvwrM/hOpebO1Drz9WVcPYYsatP4XoSXlfkac/qGloYcBXrT/t1Ssq9OSsP9KewzLS960/4g4ZEp6krT+jUrPUcuaqPx1RWXUzQJY/kJn15F0anT8=",
          "dtype": "f8"
         }
        }
       ],
       "layout": {
        "legend": {
         "title": {
          "text": "Series"
         }
        },
        "template": {
         "data": {
          "bar": [
           {
            "error_x": {
             "color": "#2a3f5f"
            },
            "error_y": {
             "color": "#2a3f5f"
            },
            "marker": {
             "line": {
              "color": "white",
              "width": 0.5
             },
             "pattern": {
              "fillmode": "overlay",
              "size": 10,
              "solidity": 0.2
             }
            },
            "type": "bar"
           }
          ],
          "barpolar": [
           {
            "marker": {
             "line": {
              "color": "white",
              "width": 0.5
             },
             "pattern": {
              "fillmode": "overlay",
              "size": 10,
              "solidity": 0.2
             }
            },
            "type": "barpolar"
           }
          ],
          "carpet": [
           {
            "aaxis": {
             "endlinecolor": "#2a3f5f",
             "gridcolor": "#C8D4E3",
             "linecolor": "#C8D4E3",
             "minorgridcolor": "#C8D4E3",
             "startlinecolor": "#2a3f5f"
            },
            "baxis": {
             "endlinecolor": "#2a3f5f",
             "gridcolor": "#C8D4E3",
             "linecolor": "#C8D4E3",
             "minorgridcolor": "#C8D4E3",
             "startlinecolor": "#2a3f5f"
            },
            "type": "carpet"
           }
          ],
          "choropleth": [
           {
            "colorbar": {
             "outlinewidth": 0,
             "ticks": ""
            },
            "type": "choropleth"
           }
          ],
          "contour": [
           {
            "colorbar": {
             "outlinewidth": 0,
             "ticks": ""
            },
            "colorscale": [
             [
              0,
              "#0d0887"
             ],
             [
              0.1111111111111111,
              "#46039f"
             ],
             [
              0.2222222222222222,
              "#7201a8"
             ],
             [
              0.3333333333333333,
              "#9c179e"
             ],
             [
              0.4444444444444444,
              "#bd3786"
             ],
             [
              0.5555555555555556,
              "#d8576b"
             ],
             [
              0.6666666666666666,
              "#ed7953"
             ],
             [
              0.7777777777777778,
              "#fb9f3a"
             ],
             [
              0.8888888888888888,
              "#fdca26"
             ],
             [
              1,
              "#f0f921"
             ]
            ],
            "type": "contour"
           }
          ],
          "contourcarpet": [
           {
            "colorbar": {
             "outlinewidth": 0,
             "ticks": ""
            },
            "type": "contourcarpet"
           }
          ],
          "heatmap": [
           {
            "colorbar": {
             "outlinewidth": 0,
             "ticks": ""
            },
            "colorscale": [
             [
              0,
              "#0d0887"
             ],
             [
              0.1111111111111111,
              "#46039f"
             ],
             [
              0.2222222222222222,
              "#7201a8"
             ],
             [
              0.3333333333333333,
              "#9c179e"
             ],
             [
              0.4444444444444444,
              "#bd3786"
             ],
             [
              0.5555555555555556,
              "#d8576b"
             ],
             [
              0.6666666666666666,
              "#ed7953"
             ],
             [
              0.7777777777777778,
              "#fb9f3a"
             ],
             [
              0.8888888888888888,
              "#fdca26"
             ],
             [
              1,
              "#f0f921"
             ]
            ],
            "type": "heatmap"
           }
          ],
          "histogram": [
           {
            "marker": {
             "pattern": {
              "fillmode": "overlay",
              "size": 10,
              "solidity": 0.2
             }
            },
            "type": "histogram"
           }
          ],
          "histogram2d": [
           {
            "colorbar": {
             "outlinewidth": 0,
             "ticks": ""
            },
            "colorscale": [
             [
              0,
              "#0d0887"
             ],
             [
              0.1111111111111111,
              "#46039f"
             ],
             [
              0.2222222222222222,
              "#7201a8"
             ],
             [
              0.3333333333333333,
              "#9c179e"
             ],
             [
              0.4444444444444444,
              "#bd3786"
             ],
             [
              0.5555555555555556,
              "#d8576b"
             ],
             [
              0.6666666666666666,
              "#ed7953"
             ],
             [
              0.7777777777777778,
              "#fb9f3a"
             ],
             [
              0.8888888888888888,
              "#fdca26"
             ],
             [
              1,
              "#f0f921"
             ]
            ],
            "type": "histogram2d"
           }
          ],
          "histogram2dcontour": [
           {
            "colorbar": {
             "outlinewidth": 0,
             "ticks": ""
            },
            "colorscale": [
             [
              0,
              "#0d0887"
             ],
             [
              0.1111111111111111,
              "#46039f"
             ],
             [
              0.2222222222222222,
              "#7201a8"
             ],
             [
              0.3333333333333333,
              "#9c179e"
             ],
             [
              0.4444444444444444,
              "#bd3786"
             ],
             [
              0.5555555555555556,
              "#d8576b"
             ],
             [
              0.6666666666666666,
              "#ed7953"
             ],
             [
              0.7777777777777778,
              "#fb9f3a"
             ],
             [
              0.8888888888888888,
              "#fdca26"
             ],
             [
              1,
              "#f0f921"
             ]
            ],
            "type": "histogram2dcontour"
           }
          ],
          "mesh3d": [
           {
            "colorbar": {
             "outlinewidth": 0,
             "ticks": ""
            },
            "type": "mesh3d"
           }
          ],
          "parcoords": [
           {
            "line": {
             "colorbar": {
              "outlinewidth": 0,
              "ticks": ""
             }
            },
            "type": "parcoords"
           }
          ],
          "pie": [
           {
            "automargin": true,
            "type": "pie"
           }
          ],
          "scatter": [
           {
            "fillpattern": {
             "fillmode": "overlay",
             "size": 10,
             "solidity": 0.2
            },
            "type": "scatter"
           }
          ],
          "scatter3d": [
           {
            "line": {
             "colorbar": {
              "outlinewidth": 0,
              "ticks": ""
             }
            },
            "marker": {
             "colorbar": {
              "outlinewidth": 0,
              "ticks": ""
             }
            },
            "type": "scatter3d"
           }
          ],
          "scattercarpet": [
           {
            "marker": {
             "colorbar": {
              "outlinewidth": 0,
              "ticks": ""
             }
            },
            "type": "scattercarpet"
           }
          ],
          "scattergeo": [
           {
            "marker": {
             "colorbar": {
              "outlinewidth": 0,
              "ticks": ""
             }
            },
            "type": "scattergeo"
           }
          ],
          "scattergl": [
           {
            "marker": {
             "colorbar": {
              "outlinewidth": 0,
              "ticks": ""
             }
            },
            "type": "scattergl"
           }
          ],
          "scattermap": [
           {
            "marker": {
             "colorbar": {
              "outlinewidth": 0,
              "ticks": ""
             }
            },
            "type": "scattermap"
           }
          ],
          "scattermapbox": [
           {
            "marker": {
             "colorbar": {
              "outlinewidth": 0,
              "ticks": ""
             }
            },
            "type": "scattermapbox"
           }
          ],
          "scatterpolar": [
           {
            "marker": {
             "colorbar": {
              "outlinewidth": 0,
              "ticks": ""
             }
            },
            "type": "scatterpolar"
           }
          ],
          "scatterpolargl": [
           {
            "marker": {
             "colorbar": {
              "outlinewidth": 0,
              "ticks": ""
             }
            },
            "type": "scatterpolargl"
           }
          ],
          "scatterternary": [
           {
            "marker": {
             "colorbar": {
              "outlinewidth": 0,
              "ticks": ""
             }
            },
            "type": "scatterternary"
           }
          ],
          "surface": [
           {
            "colorbar": {
             "outlinewidth": 0,
             "ticks": ""
            },
            "colorscale": [
             [
              0,
              "#0d0887"
             ],
             [
              0.1111111111111111,
              "#46039f"
             ],
             [
              0.2222222222222222,
              "#7201a8"
             ],
             [
              0.3333333333333333,
              "#9c179e"
             ],
             [
              0.4444444444444444,
              "#bd3786"
             ],
             [
              0.5555555555555556,
              "#d8576b"
             ],
             [
              0.6666666666666666,
              "#ed7953"
             ],
             [
              0.7777777777777778,
              "#fb9f3a"
             ],
             [
              0.8888888888888888,
              "#fdca26"
             ],
             [
              1,
              "#f0f921"
             ]
            ],
            "type": "surface"
           }
          ],
          "table": [
           {
            "cells": {
             "fill": {
              "color": "#EBF0F8"
             },
             "line": {
              "color": "white"
             }
            },
            "header": {
             "fill": {
              "color": "#C8D4E3"
             },
             "line": {
              "color": "white"
             }
            },
            "type": "table"
           }
          ]
         },
         "layout": {
          "annotationdefaults": {
           "arrowcolor": "#2a3f5f",
           "arrowhead": 0,
           "arrowwidth": 1
          },
          "autotypenumbers": "strict",
          "coloraxis": {
           "colorbar": {
            "outlinewidth": 0,
            "ticks": ""
           }
          },
          "colorscale": {
           "diverging": [
            [
             0,
             "#8e0152"
            ],
            [
             0.1,
             "#c51b7d"
            ],
            [
             0.2,
             "#de77ae"
            ],
            [
             0.3,
             "#f1b6da"
            ],
            [
             0.4,
             "#fde0ef"
            ],
            [
             0.5,
             "#f7f7f7"
            ],
            [
             0.6,
             "#e6f5d0"
            ],
            [
             0.7,
             "#b8e186"
            ],
            [
             0.8,
             "#7fbc41"
            ],
            [
             0.9,
             "#4d9221"
            ],
            [
             1,
             "#276419"
            ]
           ],
           "sequential": [
            [
             0,
             "#0d0887"
            ],
            [
             0.1111111111111111,
             "#46039f"
            ],
            [
             0.2222222222222222,
             "#7201a8"
            ],
            [
             0.3333333333333333,
             "#9c179e"
            ],
            [
             0.4444444444444444,
             "#bd3786"
            ],
            [
             0.5555555555555556,
             "#d8576b"
            ],
            [
             0.6666666666666666,
             "#ed7953"
            ],
            [
             0.7777777777777778,
             "#fb9f3a"
            ],
            [
             0.8888888888888888,
             "#fdca26"
            ],
            [
             1,
             "#f0f921"
            ]
           ],
           "sequentialminus": [
            [
             0,
             "#0d0887"
            ],
            [
             0.1111111111111111,
             "#46039f"
            ],
            [
             0.2222222222222222,
             "#7201a8"
            ],
            [
             0.3333333333333333,
             "#9c179e"
            ],
            [
             0.4444444444444444,
             "#bd3786"
            ],
            [
             0.5555555555555556,
             "#d8576b"
            ],
            [
             0.6666666666666666,
             "#ed7953"
            ],
            [
             0.7777777777777778,
             "#fb9f3a"
            ],
            [
             0.8888888888888888,
             "#fdca26"
            ],
            [
             1,
             "#f0f921"
            ]
           ]
          },
          "colorway": [
           "#636efa",
           "#EF553B",
           "#00cc96",
           "#ab63fa",
           "#FFA15A",
           "#19d3f3",
           "#FF6692",
           "#B6E880",
           "#FF97FF",
           "#FECB52"
          ],
          "font": {
           "color": "#2a3f5f"
          },
          "geo": {
           "bgcolor": "white",
           "lakecolor": "white",
           "landcolor": "white",
           "showlakes": true,
           "showland": true,
           "subunitcolor": "#C8D4E3"
          },
          "hoverlabel": {
           "align": "left"
          },
          "hovermode": "closest",
          "mapbox": {
           "style": "light"
          },
          "paper_bgcolor": "white",
          "plot_bgcolor": "white",
          "polar": {
           "angularaxis": {
            "gridcolor": "#EBF0F8",
            "linecolor": "#EBF0F8",
            "ticks": ""
           },
           "bgcolor": "white",
           "radialaxis": {
            "gridcolor": "#EBF0F8",
            "linecolor": "#EBF0F8",
            "ticks": ""
           }
          },
          "scene": {
           "xaxis": {
            "backgroundcolor": "white",
            "gridcolor": "#DFE8F3",
            "gridwidth": 2,
            "linecolor": "#EBF0F8",
            "showbackground": true,
            "ticks": "",
            "zerolinecolor": "#EBF0F8"
           },
           "yaxis": {
            "backgroundcolor": "white",
            "gridcolor": "#DFE8F3",
            "gridwidth": 2,
            "linecolor": "#EBF0F8",
            "showbackground": true,
            "ticks": "",
            "zerolinecolor": "#EBF0F8"
           },
           "zaxis": {
            "backgroundcolor": "white",
            "gridcolor": "#DFE8F3",
            "gridwidth": 2,
            "linecolor": "#EBF0F8",
            "showbackground": true,
            "ticks": "",
            "zerolinecolor": "#EBF0F8"
           }
          },
          "shapedefaults": {
           "line": {
            "color": "#2a3f5f"
           }
          },
          "ternary": {
           "aaxis": {
            "gridcolor": "#DFE8F3",
            "linecolor": "#A2B1C6",
            "ticks": ""
           },
           "baxis": {
            "gridcolor": "#DFE8F3",
            "linecolor": "#A2B1C6",
            "ticks": ""
           },
           "bgcolor": "white",
           "caxis": {
            "gridcolor": "#DFE8F3",
            "linecolor": "#A2B1C6",
            "ticks": ""
           }
          },
          "title": {
           "x": 0.05
          },
          "xaxis": {
           "automargin": true,
           "gridcolor": "#EBF0F8",
           "linecolor": "#EBF0F8",
           "ticks": "",
           "title": {
            "standoff": 15
           },
           "zerolinecolor": "#EBF0F8",
           "zerolinewidth": 2
          },
          "yaxis": {
           "automargin": true,
           "gridcolor": "#EBF0F8",
           "linecolor": "#EBF0F8",
           "ticks": "",
           "title": {
            "standoff": 15
           },
           "zerolinecolor": "#EBF0F8",
           "zerolinewidth": 2
          }
         }
        },
        "title": {
         "text": "Rolling volatility σ (window=5)"
        },
        "xaxis": {
         "title": {
          "text": "Date"
         }
        },
        "yaxis": {
         "title": {
          "text": "Std‑dev of returns"
         }
        }
       }
      }
     },
     "metadata": {},
     "output_type": "display_data"
    },
    {
     "data": {
      "application/vnd.plotly.v1+json": {
       "config": {
        "plotlyServerURL": "https://plot.ly"
       },
       "data": [
        {
         "mode": "lines",
         "name": "CVaR_95",
         "type": "scatter",
         "x": [
          "2015-03-31T23:59:59.999999999",
          "2015-04-30T23:59:59.999999999",
          "2015-05-31T23:59:59.999999999",
          "2015-06-30T23:59:59.999999999",
          "2015-07-31T23:59:59.999999999",
          "2015-08-31T23:59:59.999999999",
          "2015-09-30T23:59:59.999999999",
          "2015-10-31T23:59:59.999999999",
          "2015-11-30T23:59:59.999999999",
          "2015-12-31T23:59:59.999999999",
          "2016-01-31T23:59:59.999999999",
          "2016-02-29T23:59:59.999999999",
          "2016-03-31T23:59:59.999999999",
          "2016-04-30T23:59:59.999999999",
          "2016-05-31T23:59:59.999999999",
          "2016-06-30T23:59:59.999999999",
          "2016-07-31T23:59:59.999999999",
          "2016-08-31T23:59:59.999999999",
          "2016-09-30T23:59:59.999999999",
          "2016-10-31T23:59:59.999999999",
          "2016-11-30T23:59:59.999999999",
          "2016-12-31T23:59:59.999999999",
          "2017-01-31T23:59:59.999999999",
          "2017-02-28T23:59:59.999999999",
          "2017-03-31T23:59:59.999999999",
          "2017-04-30T23:59:59.999999999",
          "2017-05-31T23:59:59.999999999",
          "2017-06-30T23:59:59.999999999",
          "2017-07-31T23:59:59.999999999",
          "2017-08-31T23:59:59.999999999",
          "2017-09-30T23:59:59.999999999",
          "2017-10-31T23:59:59.999999999",
          "2017-11-30T23:59:59.999999999",
          "2017-12-31T23:59:59.999999999",
          "2018-01-31T23:59:59.999999999",
          "2018-02-28T23:59:59.999999999",
          "2018-03-31T23:59:59.999999999",
          "2018-04-30T23:59:59.999999999",
          "2018-05-31T23:59:59.999999999",
          "2018-06-30T23:59:59.999999999",
          "2018-07-31T23:59:59.999999999",
          "2018-08-31T23:59:59.999999999",
          "2018-09-30T23:59:59.999999999",
          "2018-10-31T23:59:59.999999999",
          "2018-11-30T23:59:59.999999999",
          "2018-12-31T23:59:59.999999999",
          "2019-01-31T23:59:59.999999999",
          "2019-02-28T23:59:59.999999999",
          "2019-03-31T23:59:59.999999999",
          "2019-04-30T23:59:59.999999999",
          "2019-05-31T23:59:59.999999999",
          "2019-06-30T23:59:59.999999999",
          "2019-07-31T23:59:59.999999999",
          "2019-08-31T23:59:59.999999999",
          "2019-09-30T23:59:59.999999999",
          "2019-10-31T23:59:59.999999999",
          "2019-11-30T23:59:59.999999999",
          "2019-12-31T23:59:59.999999999"
         ],
         "y": {
          "bdata": "AAAAAAAAAAAAAAAAAAAAAAAAAAAAAAAAAAAAAAAAAAB/yaxbiGzovz3u9IPwKOu/WmOpOxdV8L/ul63l5Lajv69JPAd7hsI/1nnj1hUvxj/MeTb/D4faP0bAXdo/rOs/9LxK+Nip9j8fjqaCu2H2Py5c6eGbOfQ/ZUganT5s+D+zs9Nb02H6P9O+lwUkigBATaOXCePtCkAUCXsctpIWQBnu6dzqSRtASi/CPmFSJEBjjsTFnlr6PxS9P0zd1/I/VbNDEe0o6T/Qi/UQO2PiPzyzh8huo+g/ssrQhr3t9D/b95jLTdT1P3LxDgqkxgRAItv+zR57BEBupRmI5OABQP+SBL3uSwhAIe2oyn2lDUDEdiKLzKf2P+pnbXX3+90//A1j84qNuL/S0NreEwLgvxNNJWdoJfe/62oXmGUo379Nuh1LttCyPyoPAI9jDN4/ekMLa9tL8z8ah/ivAAICQLw0vfftXAFAaW3epaMm6T/9n4ZYXnjcP99MlN4Tedw/JeBbynu+4j/1ME22fWnkPyorT9Tfq+U/GJmlGA0V6z8+MBAvQ2XoP8tJ42eOb98/zecyrV700j8rZkT2s4HyP128PVUFzPQ/9PquZ7VE9T8=",
          "dtype": "f8"
         }
        },
        {
         "mode": "lines",
         "name": "CVaR_90",
         "type": "scatter",
         "x": [
          "2015-03-31T23:59:59.999999999",
          "2015-04-30T23:59:59.999999999",
          "2015-05-31T23:59:59.999999999",
          "2015-06-30T23:59:59.999999999",
          "2015-07-31T23:59:59.999999999",
          "2015-08-31T23:59:59.999999999",
          "2015-09-30T23:59:59.999999999",
          "2015-10-31T23:59:59.999999999",
          "2015-11-30T23:59:59.999999999",
          "2015-12-31T23:59:59.999999999",
          "2016-01-31T23:59:59.999999999",
          "2016-02-29T23:59:59.999999999",
          "2016-03-31T23:59:59.999999999",
          "2016-04-30T23:59:59.999999999",
          "2016-05-31T23:59:59.999999999",
          "2016-06-30T23:59:59.999999999",
          "2016-07-31T23:59:59.999999999",
          "2016-08-31T23:59:59.999999999",
          "2016-09-30T23:59:59.999999999",
          "2016-10-31T23:59:59.999999999",
          "2016-11-30T23:59:59.999999999",
          "2016-12-31T23:59:59.999999999",
          "2017-01-31T23:59:59.999999999",
          "2017-02-28T23:59:59.999999999",
          "2017-03-31T23:59:59.999999999",
          "2017-04-30T23:59:59.999999999",
          "2017-05-31T23:59:59.999999999",
          "2017-06-30T23:59:59.999999999",
          "2017-07-31T23:59:59.999999999",
          "2017-08-31T23:59:59.999999999",
          "2017-09-30T23:59:59.999999999",
          "2017-10-31T23:59:59.999999999",
          "2017-11-30T23:59:59.999999999",
          "2017-12-31T23:59:59.999999999",
          "2018-01-31T23:59:59.999999999",
          "2018-02-28T23:59:59.999999999",
          "2018-03-31T23:59:59.999999999",
          "2018-04-30T23:59:59.999999999",
          "2018-05-31T23:59:59.999999999",
          "2018-06-30T23:59:59.999999999",
          "2018-07-31T23:59:59.999999999",
          "2018-08-31T23:59:59.999999999",
          "2018-09-30T23:59:59.999999999",
          "2018-10-31T23:59:59.999999999",
          "2018-11-30T23:59:59.999999999",
          "2018-12-31T23:59:59.999999999",
          "2019-01-31T23:59:59.999999999",
          "2019-02-28T23:59:59.999999999",
          "2019-03-31T23:59:59.999999999",
          "2019-04-30T23:59:59.999999999",
          "2019-05-31T23:59:59.999999999",
          "2019-06-30T23:59:59.999999999",
          "2019-07-31T23:59:59.999999999",
          "2019-08-31T23:59:59.999999999",
          "2019-09-30T23:59:59.999999999",
          "2019-10-31T23:59:59.999999999",
          "2019-11-30T23:59:59.999999999",
          "2019-12-31T23:59:59.999999999"
         ],
         "y": {
          "bdata": "AAAAAAAAAAAAAAAAAAAAAAAAAAAAAAAAAAAAAAAAAABnbZQR2/fev7L/nbTFOeS/e6YCCKnz8b8Wrr1fy4zCv3d1J0NxkaW/6NjAlZ56lD8j2viRpqHRPx+creu5ueM/F9rnU3XV6T+26om74ivwP/ags05eBfQ/4z9gRh0u+D/Zljma2r3/P7+w+l/FQgNA5dXOiDnjC0BSR387NxYkQDcKC3s/ryRAeVF4ASFaLEB4/3mdz2n7P59md42fZ/Q/e4tw7ytF6z8PTkxSmI3kPw+MrZn4Zu0/i1DN+MLi9j/KxvtrR1j2P9hT+Fi/4gJAVqDjhX5CBUCPv0jP6N4MQPbNqHl/nhJAqR5/JBWxEkAmKdn/6fj0P0YqZZlj+dI/EoRqDARhzb/UCm1eiqLjvwj83UITZvm/k6wWOfP04b+kK1WKf6CiP1qpsbwNhNk/WVvrE0l78D8mkL/nnN39P48oQdMhrPw/+YkwJI2w4j/Bx0CvITjTP4MxiUelANY/Nto/e70R4T8jZakd7sHjP6W6yFpF0OY/qxXuL9a97T92rxcujUbrP/3p6/Crt+Q/M8d96aWg4D+VrnX1aW37P8/7W4Zv+Pw/UoZSWdm3/j8=",
          "dtype": "f8"
         }
        },
        {
         "mode": "lines",
         "name": "CVaR_80",
         "type": "scatter",
         "x": [
          "2015-03-31T23:59:59.999999999",
          "2015-04-30T23:59:59.999999999",
          "2015-05-31T23:59:59.999999999",
          "2015-06-30T23:59:59.999999999",
          "2015-07-31T23:59:59.999999999",
          "2015-08-31T23:59:59.999999999",
          "2015-09-30T23:59:59.999999999",
          "2015-10-31T23:59:59.999999999",
          "2015-11-30T23:59:59.999999999",
          "2015-12-31T23:59:59.999999999",
          "2016-01-31T23:59:59.999999999",
          "2016-02-29T23:59:59.999999999",
          "2016-03-31T23:59:59.999999999",
          "2016-04-30T23:59:59.999999999",
          "2016-05-31T23:59:59.999999999",
          "2016-06-30T23:59:59.999999999",
          "2016-07-31T23:59:59.999999999",
          "2016-08-31T23:59:59.999999999",
          "2016-09-30T23:59:59.999999999",
          "2016-10-31T23:59:59.999999999",
          "2016-11-30T23:59:59.999999999",
          "2016-12-31T23:59:59.999999999",
          "2017-01-31T23:59:59.999999999",
          "2017-02-28T23:59:59.999999999",
          "2017-03-31T23:59:59.999999999",
          "2017-04-30T23:59:59.999999999",
          "2017-05-31T23:59:59.999999999",
          "2017-06-30T23:59:59.999999999",
          "2017-07-31T23:59:59.999999999",
          "2017-08-31T23:59:59.999999999",
          "2017-09-30T23:59:59.999999999",
          "2017-10-31T23:59:59.999999999",
          "2017-11-30T23:59:59.999999999",
          "2017-12-31T23:59:59.999999999",
          "2018-01-31T23:59:59.999999999",
          "2018-02-28T23:59:59.999999999",
          "2018-03-31T23:59:59.999999999",
          "2018-04-30T23:59:59.999999999",
          "2018-05-31T23:59:59.999999999",
          "2018-06-30T23:59:59.999999999",
          "2018-07-31T23:59:59.999999999",
          "2018-08-31T23:59:59.999999999",
          "2018-09-30T23:59:59.999999999",
          "2018-10-31T23:59:59.999999999",
          "2018-11-30T23:59:59.999999999",
          "2018-12-31T23:59:59.999999999",
          "2019-01-31T23:59:59.999999999",
          "2019-02-28T23:59:59.999999999",
          "2019-03-31T23:59:59.999999999",
          "2019-04-30T23:59:59.999999999",
          "2019-05-31T23:59:59.999999999",
          "2019-06-30T23:59:59.999999999",
          "2019-07-31T23:59:59.999999999",
          "2019-08-31T23:59:59.999999999",
          "2019-09-30T23:59:59.999999999",
          "2019-10-31T23:59:59.999999999",
          "2019-11-30T23:59:59.999999999",
          "2019-12-31T23:59:59.999999999"
         ],
         "y": {
          "bdata": "AAAAAAAAAAAAAAAAAAAAAAAAAAAAAAAAAAAAAAAAAACPOdGw7OPZv2S/kK2gqeG/sqSMvuUt6r+CJcvMP7Gzvx+u+HFHMUI/49BKhboHsT/IzAic0nzYP0NQK/HlhOQ/59dl6Wem7D8vuEUX2D7xP5AMqOzS4PU/ZdSGk/jE+T+MIpuL6I/9P2UtEF8D1gJAWIlphwguDEAJD+CGIOkdQPDN37VY/RxAcQsnLneQJ0Ab+twqbEP7PyCLcchE9fQ/dirN5ESS8D87Loz/RzzrP9QOffrdtvg//m/1UdCQJUAZAciAGskrQKoMgWEypB1AM7xnwdq9E0B/n9Py6F8QQJtFHJ9gmxFAvUZI6S75D0BTPI290d72PyX2LZO53do/htMmlncJu78t7GX2GA3gv7z9zOdTw/u/cLu3YT/i5r/YUyTHxhCbv8/BL7d/w9U/Z37A2Cku7T//EeLdf9QAQN3vvk8C1QJAHUxUmwHV5z8OHn0tMezaP2Au/sOkjNw/k0G/FNfn4j/o70FfMG3kPwhTdvBlSec/lrShmUhb7z9UD5JBzpvsP3zsOAJozOU/8otJXEMq4j9VBD6UgUT9PwaMk7Itcfw/038WRIxl/T8=",
          "dtype": "f8"
         }
        },
        {
         "mode": "lines",
         "name": "MVar",
         "type": "scatter",
         "x": [
          "2015-03-31T23:59:59.999999999",
          "2015-04-30T23:59:59.999999999",
          "2015-05-31T23:59:59.999999999",
          "2015-06-30T23:59:59.999999999",
          "2015-07-31T23:59:59.999999999",
          "2015-08-31T23:59:59.999999999",
          "2015-09-30T23:59:59.999999999",
          "2015-10-31T23:59:59.999999999",
          "2015-11-30T23:59:59.999999999",
          "2015-12-31T23:59:59.999999999",
          "2016-01-31T23:59:59.999999999",
          "2016-02-29T23:59:59.999999999",
          "2016-03-31T23:59:59.999999999",
          "2016-04-30T23:59:59.999999999",
          "2016-05-31T23:59:59.999999999",
          "2016-06-30T23:59:59.999999999",
          "2016-07-31T23:59:59.999999999",
          "2016-08-31T23:59:59.999999999",
          "2016-09-30T23:59:59.999999999",
          "2016-10-31T23:59:59.999999999",
          "2016-11-30T23:59:59.999999999",
          "2016-12-31T23:59:59.999999999",
          "2017-01-31T23:59:59.999999999",
          "2017-02-28T23:59:59.999999999",
          "2017-03-31T23:59:59.999999999",
          "2017-04-30T23:59:59.999999999",
          "2017-05-31T23:59:59.999999999",
          "2017-06-30T23:59:59.999999999",
          "2017-07-31T23:59:59.999999999",
          "2017-08-31T23:59:59.999999999",
          "2017-09-30T23:59:59.999999999",
          "2017-10-31T23:59:59.999999999",
          "2017-11-30T23:59:59.999999999",
          "2017-12-31T23:59:59.999999999",
          "2018-01-31T23:59:59.999999999",
          "2018-02-28T23:59:59.999999999",
          "2018-03-31T23:59:59.999999999",
          "2018-04-30T23:59:59.999999999",
          "2018-05-31T23:59:59.999999999",
          "2018-06-30T23:59:59.999999999",
          "2018-07-31T23:59:59.999999999",
          "2018-08-31T23:59:59.999999999",
          "2018-09-30T23:59:59.999999999",
          "2018-10-31T23:59:59.999999999",
          "2018-11-30T23:59:59.999999999",
          "2018-12-31T23:59:59.999999999",
          "2019-01-31T23:59:59.999999999",
          "2019-02-28T23:59:59.999999999",
          "2019-03-31T23:59:59.999999999",
          "2019-04-30T23:59:59.999999999",
          "2019-05-31T23:59:59.999999999",
          "2019-06-30T23:59:59.999999999",
          "2019-07-31T23:59:59.999999999",
          "2019-08-31T23:59:59.999999999",
          "2019-09-30T23:59:59.999999999",
          "2019-10-31T23:59:59.999999999",
          "2019-11-30T23:59:59.999999999",
          "2019-12-31T23:59:59.999999999"
         ],
         "y": {
          "bdata": "AAAAAAAAAAAAAAAAAAAAAAAAAAAAAAAAAAAAAAAAAAAPZ4R/Cf1Bv9p8b4hSvOK/WlvNDJfJ67+Vm2Pbg5W8v6VKFr2qc6m/XKBGbWORob98FB4XAi/QP7sMbwEgkd4/YkvGzflI4T9Ty9r0txjqP0GzdkuDS/E/kdKUcoeS9D9wpzNgu/H5P15pThMwMgJAUCFfk6VTDUABVAf1KtoZQNxMs+LZ+xZAOdMpPosKIEDWJ8QLuJ76PxZS7S/05/M/+VlCP/ax7D+Mr+GaVvXmPwgak07U3vI/ZR9yOJnPAkDIcsQgMDkDQMd3dIBUkw9AwY70DPrTB0D4IB3977IDQDiKq+6X7glAcP03sux4EEBEXZ9ckCX4P1cHnhDBy+I/PM6YoXbioD95kIAcwkbYv1lkBw9yp/i/+z6nCVJn4r951Ha6At6cP/6nhrrWQto/yYBQZBg68T/yknc6etoBQFrSZh8XWAJAAdZYT+nV5z9X36GfJnDbP7NbG4Jjits/p7Nc27dG4j9A9hH0j7LjP8aRU+BPPuY/uq0kanem7D/EVLpthxnpPxITQ02SRd4/yE+KPHm+zD+rgrU8wT7uPzZ1TQ6/DfA/x4xhSGAN8D8=",
          "dtype": "f8"
         }
        },
        {
         "mode": "lines",
         "name": "TOP3",
         "type": "scatter",
         "x": [
          "2015-02-28T00:00:00.000000000",
          "2015-03-31T00:00:00.000000000",
          "2015-04-30T00:00:00.000000000",
          "2015-05-31T00:00:00.000000000",
          "2015-06-30T00:00:00.000000000",
          "2015-07-31T00:00:00.000000000",
          "2015-08-31T00:00:00.000000000",
          "2015-09-30T00:00:00.000000000",
          "2015-10-31T00:00:00.000000000",
          "2015-11-30T00:00:00.000000000",
          "2015-12-31T00:00:00.000000000",
          "2016-01-31T00:00:00.000000000",
          "2016-02-29T00:00:00.000000000",
          "2016-03-31T00:00:00.000000000",
          "2016-04-30T00:00:00.000000000",
          "2016-05-31T00:00:00.000000000",
          "2016-06-30T00:00:00.000000000",
          "2016-07-31T00:00:00.000000000",
          "2016-08-31T00:00:00.000000000",
          "2016-09-30T00:00:00.000000000",
          "2016-10-31T00:00:00.000000000",
          "2016-11-30T00:00:00.000000000",
          "2016-12-31T00:00:00.000000000",
          "2017-01-31T00:00:00.000000000",
          "2017-02-28T00:00:00.000000000",
          "2017-03-31T00:00:00.000000000",
          "2017-04-30T00:00:00.000000000",
          "2017-05-31T00:00:00.000000000",
          "2017-06-30T00:00:00.000000000",
          "2017-07-31T00:00:00.000000000",
          "2017-08-31T00:00:00.000000000",
          "2017-09-30T00:00:00.000000000",
          "2017-10-31T00:00:00.000000000",
          "2017-11-30T00:00:00.000000000",
          "2017-12-31T00:00:00.000000000",
          "2018-01-31T00:00:00.000000000",
          "2018-02-28T00:00:00.000000000",
          "2018-03-31T00:00:00.000000000",
          "2018-04-30T00:00:00.000000000",
          "2018-05-31T00:00:00.000000000",
          "2018-06-30T00:00:00.000000000",
          "2018-07-31T00:00:00.000000000",
          "2018-08-31T00:00:00.000000000",
          "2018-09-30T00:00:00.000000000",
          "2018-10-31T00:00:00.000000000",
          "2018-11-30T00:00:00.000000000",
          "2018-12-31T00:00:00.000000000",
          "2019-01-31T00:00:00.000000000",
          "2019-02-28T00:00:00.000000000",
          "2019-03-31T00:00:00.000000000",
          "2019-04-30T00:00:00.000000000",
          "2019-05-31T00:00:00.000000000",
          "2019-06-30T00:00:00.000000000",
          "2019-07-31T00:00:00.000000000",
          "2019-08-31T00:00:00.000000000",
          "2019-09-30T00:00:00.000000000",
          "2019-10-31T00:00:00.000000000",
          "2019-11-30T00:00:00.000000000",
          "2019-12-31T00:00:00.000000000"
         ],
         "y": {
          "bdata": "AAAAAAAAAAAAAAAAAAAAAAAAAAAAAAAAAAAAAAAAAAAknK0pN4Psv44uuIJkis6/zgs3c9GY1b9SvU4ROTrcv8i4MvCbmsU/Dxc2f7Hu1z8ctXnoVM+7P/KlC25L8dM/j6j+wtLY1D9rYwAjb7rLP8biK1/h/dE/TLaBQZem2z8Mo1jua/LTP73fUAAbudM/lnDzvqPDmj9vLxM7emjGv6aoP4sFy6Q/tujCjXs24T8+Jlyn0kb0P5zK2JelJOk/kXHVtbl66T/jxLLrGpPuP1uFJdxxkuo/DCoDdcUR6z94iuS3lMDbPzlIu/cgjM8/uD2rfEsr1D8SlvAqTqfSP7oEnB8psLQ/+BZvE1J06j9B2534YkrqP7VC3qyXfuk/PQpLHZ9ZvT9ETDewn2fAv+UVcZCuHco/7K567BbMyT9OeU13YGu0P20EsE3imeE/f1GYT7Eo8D+xw+8YkaTtPwnkIy5pe8o/kq2ZwAqq2j8dorO9/TOxv/9q3KmhMrq/UPm3I7c7rL+XCSN0D3vVP/NZ5G+WidQ/ActOdjXVxD+smBSAOs7UPzdzo6EN5tQ/hcIaNtmLxz+m83+edmSZv3Hlsnx+cuM/AH8E3X8i5D/y2Jcp0CzlPw==",
          "dtype": "f8"
         }
        },
        {
         "mode": "lines",
         "name": "MSFT",
         "type": "scatter",
         "x": [
          "2015-03-31T23:59:59.999999999",
          "2015-04-30T23:59:59.999999999",
          "2015-05-31T23:59:59.999999999",
          "2015-06-30T23:59:59.999999999",
          "2015-07-31T23:59:59.999999999",
          "2015-08-31T23:59:59.999999999",
          "2015-09-30T23:59:59.999999999",
          "2015-10-31T23:59:59.999999999",
          "2015-11-30T23:59:59.999999999",
          "2015-12-31T23:59:59.999999999",
          "2016-01-31T23:59:59.999999999",
          "2016-02-29T23:59:59.999999999",
          "2016-03-31T23:59:59.999999999",
          "2016-04-30T23:59:59.999999999",
          "2016-05-31T23:59:59.999999999",
          "2016-06-30T23:59:59.999999999",
          "2016-07-31T23:59:59.999999999",
          "2016-08-31T23:59:59.999999999",
          "2016-09-30T23:59:59.999999999",
          "2016-10-31T23:59:59.999999999",
          "2016-11-30T23:59:59.999999999",
          "2016-12-31T23:59:59.999999999",
          "2017-01-31T23:59:59.999999999",
          "2017-02-28T23:59:59.999999999",
          "2017-03-31T23:59:59.999999999",
          "2017-04-30T23:59:59.999999999",
          "2017-05-31T23:59:59.999999999",
          "2017-06-30T23:59:59.999999999",
          "2017-07-31T23:59:59.999999999",
          "2017-08-31T23:59:59.999999999",
          "2017-09-30T23:59:59.999999999",
          "2017-10-31T23:59:59.999999999",
          "2017-11-30T23:59:59.999999999",
          "2017-12-31T23:59:59.999999999",
          "2018-01-31T23:59:59.999999999",
          "2018-02-28T23:59:59.999999999",
          "2018-03-31T23:59:59.999999999",
          "2018-04-30T23:59:59.999999999",
          "2018-05-31T23:59:59.999999999",
          "2018-06-30T23:59:59.999999999",
          "2018-07-31T23:59:59.999999999",
          "2018-08-31T23:59:59.999999999",
          "2018-09-30T23:59:59.999999999",
          "2018-10-31T23:59:59.999999999",
          "2018-11-30T23:59:59.999999999",
          "2018-12-31T23:59:59.999999999",
          "2019-01-31T23:59:59.999999999",
          "2019-02-28T23:59:59.999999999",
          "2019-03-31T23:59:59.999999999",
          "2019-04-30T23:59:59.999999999",
          "2019-05-31T23:59:59.999999999",
          "2019-06-30T23:59:59.999999999",
          "2019-07-31T23:59:59.999999999",
          "2019-08-31T23:59:59.999999999",
          "2019-09-30T23:59:59.999999999",
          "2019-10-31T23:59:59.999999999",
          "2019-11-30T23:59:59.999999999",
          "2019-12-31T23:59:59.999999999"
         ],
         "y": {
          "bdata": "AAAAAAAAAAAAAAAAAAAAAAAAAAAAAAAAAAAAAAAAAACuMZ4nO9LDPzIYbPJSDsU/wVx05HoJ1b/HyEPw1+7QPwFrRa7KY98//B1D4Ts82j9WMWJlrHvkP0MIrnPF29Q/vYM+Lw/gxz/lWGgex6XJv+hdafekVrS/235sGYSewr/GSSUsbkXSP8OMqkIsyMA/wUjKGmaP4T9AYR4Af0vfP1OAqL2lz+g/hOSNhBUt8j/ggtZShp/0P67QcjCNKO4/RF68SxRu7T/DaucQmefzP7YioqjLTfI/5TygAIa74T8H0me8aXzwP6qPsZFGY/A/WmyKOdiX5D+kFRgM5nLmP6AW4xWqMew/As+nE8PD5j8ZNOUgv6HrP+vjgdLYnek/Lar/vaWY1z8yqSKnn7baPzcYsdeqleE/sODaSctszj/xoaVE057jPxM89zAu5PU/kOvnwEaI9D9DzxnviFXTP5j7TuZT5tw/KpP1NzbXu78aUxblnEzNv1HQ7UexYqC/52WHfCh91j8jxk3+Mh/fP6ISHy14FOY/q2uuQOQN6z+AxQYMBzDlP0hGNSk0xOA/0zI+pdnq0T/mIHsFsZLvP3cEq2hwjvQ/z8wM34PI9z8=",
          "dtype": "f8"
         }
        },
        {
         "mode": "lines",
         "name": "MRK",
         "type": "scatter",
         "x": [
          "2015-03-31T23:59:59.999999999",
          "2015-04-30T23:59:59.999999999",
          "2015-05-31T23:59:59.999999999",
          "2015-06-30T23:59:59.999999999",
          "2015-07-31T23:59:59.999999999",
          "2015-08-31T23:59:59.999999999",
          "2015-09-30T23:59:59.999999999",
          "2015-10-31T23:59:59.999999999",
          "2015-11-30T23:59:59.999999999",
          "2015-12-31T23:59:59.999999999",
          "2016-01-31T23:59:59.999999999",
          "2016-02-29T23:59:59.999999999",
          "2016-03-31T23:59:59.999999999",
          "2016-04-30T23:59:59.999999999",
          "2016-05-31T23:59:59.999999999",
          "2016-06-30T23:59:59.999999999",
          "2016-07-31T23:59:59.999999999",
          "2016-08-31T23:59:59.999999999",
          "2016-09-30T23:59:59.999999999",
          "2016-10-31T23:59:59.999999999",
          "2016-11-30T23:59:59.999999999",
          "2016-12-31T23:59:59.999999999",
          "2017-01-31T23:59:59.999999999",
          "2017-02-28T23:59:59.999999999",
          "2017-03-31T23:59:59.999999999",
          "2017-04-30T23:59:59.999999999",
          "2017-05-31T23:59:59.999999999",
          "2017-06-30T23:59:59.999999999",
          "2017-07-31T23:59:59.999999999",
          "2017-08-31T23:59:59.999999999",
          "2017-09-30T23:59:59.999999999",
          "2017-10-31T23:59:59.999999999",
          "2017-11-30T23:59:59.999999999",
          "2017-12-31T23:59:59.999999999",
          "2018-01-31T23:59:59.999999999",
          "2018-02-28T23:59:59.999999999",
          "2018-03-31T23:59:59.999999999",
          "2018-04-30T23:59:59.999999999",
          "2018-05-31T23:59:59.999999999",
          "2018-06-30T23:59:59.999999999",
          "2018-07-31T23:59:59.999999999",
          "2018-08-31T23:59:59.999999999",
          "2018-09-30T23:59:59.999999999",
          "2018-10-31T23:59:59.999999999",
          "2018-11-30T23:59:59.999999999",
          "2018-12-31T23:59:59.999999999",
          "2019-01-31T23:59:59.999999999",
          "2019-02-28T23:59:59.999999999",
          "2019-03-31T23:59:59.999999999",
          "2019-04-30T23:59:59.999999999",
          "2019-05-31T23:59:59.999999999",
          "2019-06-30T23:59:59.999999999",
          "2019-07-31T23:59:59.999999999",
          "2019-08-31T23:59:59.999999999",
          "2019-09-30T23:59:59.999999999",
          "2019-10-31T23:59:59.999999999",
          "2019-11-30T23:59:59.999999999",
          "2019-12-31T23:59:59.999999999"
         ],
         "y": {
          "bdata": "AAAAAAAAAAAAAAAAAAAAAAAAAAAAAAAAAAAAAAAAAABJPTFBn96pP9WhnSjJvMi/cyxDG6n94r9DPXDDRmnLv0yH17dMs8G/R7Xiq7xSz7/b8/ggdiHCv8phRA7GN7Q/oJNmCQPYxL8T64SfyPXIP+wNl1M/aNY//qZMrIg68j8v4fAx5RsCQDHKljAqzvo/AwF7s5Kj7j9ZoXSdv5/JPy0I42jUBdE/3kAXvPHEoT9gKeANQa+gv6vyn8g+hss/yCb+W/ra1T8cN80vDhS4P7uADSLcFd4/xcZ1n8ftxT8lf/FmFkPIv/gW9UsA+Kg/3Apsos9Szz/1dKA3aGXgvweierIZBdy/xmuORJaw1r+znnuo7KjFv/wo8UVOJNi/xSm0axHTl7+n+fP/gw/NP8qN37KoTso/Epe7LRcJuz+V6SziK2XwP0ONCo7BWfY/jBYCPulY9T+8tHfHllb8P3WXx/ekOwJACm+0XMSl5z8ty2GqTT3XP0fc2m5djt8/Di2PSfZ13D9zRDPzgDpwvxcx2pQiecM/OKKrr0Fi3T+sIZpRoN69P6COvSZJ48g/Q1GtFshK2T8YnbP+X6zgP/fjrU/PndI/fy9Qp8CC5D8=",
          "dtype": "f8"
         }
        },
        {
         "mode": "lines",
         "name": "GOOGL",
         "type": "scatter",
         "x": [
          "2015-03-31T23:59:59.999999999",
          "2015-04-30T23:59:59.999999999",
          "2015-05-31T23:59:59.999999999",
          "2015-06-30T23:59:59.999999999",
          "2015-07-31T23:59:59.999999999",
          "2015-08-31T23:59:59.999999999",
          "2015-09-30T23:59:59.999999999",
          "2015-10-31T23:59:59.999999999",
          "2015-11-30T23:59:59.999999999",
          "2015-12-31T23:59:59.999999999",
          "2016-01-31T23:59:59.999999999",
          "2016-02-29T23:59:59.999999999",
          "2016-03-31T23:59:59.999999999",
          "2016-04-30T23:59:59.999999999",
          "2016-05-31T23:59:59.999999999",
          "2016-06-30T23:59:59.999999999",
          "2016-07-31T23:59:59.999999999",
          "2016-08-31T23:59:59.999999999",
          "2016-09-30T23:59:59.999999999",
          "2016-10-31T23:59:59.999999999",
          "2016-11-30T23:59:59.999999999",
          "2016-12-31T23:59:59.999999999",
          "2017-01-31T23:59:59.999999999",
          "2017-02-28T23:59:59.999999999",
          "2017-03-31T23:59:59.999999999",
          "2017-04-30T23:59:59.999999999",
          "2017-05-31T23:59:59.999999999",
          "2017-06-30T23:59:59.999999999",
          "2017-07-31T23:59:59.999999999",
          "2017-08-31T23:59:59.999999999",
          "2017-09-30T23:59:59.999999999",
          "2017-10-31T23:59:59.999999999",
          "2017-11-30T23:59:59.999999999",
          "2017-12-31T23:59:59.999999999",
          "2018-01-31T23:59:59.999999999",
          "2018-02-28T23:59:59.999999999",
          "2018-03-31T23:59:59.999999999",
          "2018-04-30T23:59:59.999999999",
          "2018-05-31T23:59:59.999999999",
          "2018-06-30T23:59:59.999999999",
          "2018-07-31T23:59:59.999999999",
          "2018-08-31T23:59:59.999999999",
          "2018-09-30T23:59:59.999999999",
          "2018-10-31T23:59:59.999999999",
          "2018-11-30T23:59:59.999999999",
          "2018-12-31T23:59:59.999999999",
          "2019-01-31T23:59:59.999999999",
          "2019-02-28T23:59:59.999999999",
          "2019-03-31T23:59:59.999999999",
          "2019-04-30T23:59:59.999999999",
          "2019-05-31T23:59:59.999999999",
          "2019-06-30T23:59:59.999999999",
          "2019-07-31T23:59:59.999999999",
          "2019-08-31T23:59:59.999999999",
          "2019-09-30T23:59:59.999999999",
          "2019-10-31T23:59:59.999999999",
          "2019-11-30T23:59:59.999999999",
          "2019-12-31T23:59:59.999999999"
         ],
         "y": {
          "bdata": "AAAAAAAAAAAAAAAAAAAAAAAAAAAAAAAAAAAAAAAAAAC5NOlbzjbWP6zvab86HNY/Y7op4diA1T/n1OGCtyPjPw9f7Z+Q6+Y/jMIWSL934D/Z9XS89DbfP1akPTOYntQ//rht4mbAxD9jxYxhuPrOv/L0Fee1Ari/7vWkq/nNyb9OX9C0KwjRP4kZezfjtb0/qyTmRUej2T9LDRDmqa/QP+w6X/so0NU/KhCUKiTBlD95G5z7ICXRP95vP2GYWtU/A8lPDDqo0z//fJHLOKPxP7uYQDx0TvU/zUrvqtRm3T8AACsRj3DaP9X9JRJTQdw/57XbT2b9zz9nQEcVWoTNP5CrI8gkd+8/sUF02+VR7z/VbNR25kntPw5OiJ1H/9g/MIo1VemTpD+en/7TwYGOv/0X1Ri1TsE/0Aqt6F62v79qT8Na3kHXPwtU7bIVy+g/XX3qQ74m6D+doO/rofVYP5894VGmo5q/qwX9WhAX5b82jP55nnfOv1SyN/7cbMa/W6te4bqc1D9HgeNnmfjUP4nBYM64csw/YykIWBsew7+RWrIe6IHOP+ngrJIzw64/0bopiF/qsz/2qUZxRkLdP22aQ8iPSuc/+/DFj6QG6j8=",
          "dtype": "f8"
         }
        },
        {
         "mode": "lines",
         "name": "CVX",
         "type": "scatter",
         "x": [
          "2015-03-31T23:59:59.999999999",
          "2015-04-30T23:59:59.999999999",
          "2015-05-31T23:59:59.999999999",
          "2015-06-30T23:59:59.999999999",
          "2015-07-31T23:59:59.999999999",
          "2015-08-31T23:59:59.999999999",
          "2015-09-30T23:59:59.999999999",
          "2015-10-31T23:59:59.999999999",
          "2015-11-30T23:59:59.999999999",
          "2015-12-31T23:59:59.999999999",
          "2016-01-31T23:59:59.999999999",
          "2016-02-29T23:59:59.999999999",
          "2016-03-31T23:59:59.999999999",
          "2016-04-30T23:59:59.999999999",
          "2016-05-31T23:59:59.999999999",
          "2016-06-30T23:59:59.999999999",
          "2016-07-31T23:59:59.999999999",
          "2016-08-31T23:59:59.999999999",
          "2016-09-30T23:59:59.999999999",
          "2016-10-31T23:59:59.999999999",
          "2016-11-30T23:59:59.999999999",
          "2016-12-31T23:59:59.999999999",
          "2017-01-31T23:59:59.999999999",
          "2017-02-28T23:59:59.999999999",
          "2017-03-31T23:59:59.999999999",
          "2017-04-30T23:59:59.999999999",
          "2017-05-31T23:59:59.999999999",
          "2017-06-30T23:59:59.999999999",
          "2017-07-31T23:59:59.999999999",
          "2017-08-31T23:59:59.999999999",
          "2017-09-30T23:59:59.999999999",
          "2017-10-31T23:59:59.999999999",
          "2017-11-30T23:59:59.999999999",
          "2017-12-31T23:59:59.999999999",
          "2018-01-31T23:59:59.999999999",
          "2018-02-28T23:59:59.999999999",
          "2018-03-31T23:59:59.999999999",
          "2018-04-30T23:59:59.999999999",
          "2018-05-31T23:59:59.999999999",
          "2018-06-30T23:59:59.999999999",
          "2018-07-31T23:59:59.999999999",
          "2018-08-31T23:59:59.999999999",
          "2018-09-30T23:59:59.999999999",
          "2018-10-31T23:59:59.999999999",
          "2018-11-30T23:59:59.999999999",
          "2018-12-31T23:59:59.999999999",
          "2019-01-31T23:59:59.999999999",
          "2019-02-28T23:59:59.999999999",
          "2019-03-31T23:59:59.999999999",
          "2019-04-30T23:59:59.999999999",
          "2019-05-31T23:59:59.999999999",
          "2019-06-30T23:59:59.999999999",
          "2019-07-31T23:59:59.999999999",
          "2019-08-31T23:59:59.999999999",
          "2019-09-30T23:59:59.999999999",
          "2019-10-31T23:59:59.999999999",
          "2019-11-30T23:59:59.999999999",
          "2019-12-31T23:59:59.999999999"
         ],
         "y": {
          "bdata": "AAAAAAAAAAAAAAAAAAAAAAAAAAAAAAAAAAAAAAAAAADQqTquTHrjv0LHrq1/AOq/aIQKACIZBsBBskdwYPDKv/c9htDcTbO/yasKrns8sj963ML/MFPJP/m9EHS4A8Y/rn+FypUmxD+MCIaWxTDUP40pW8SR1dQ/BMs+EGmn4j8/4uEagcHkP4OimbQMf9E/QVQgANhhsD8kMpPIxjfSP1fPmkNgYNc/gGHYmDiI6z8TH0GUM1zdP29M46cvsNk/hZCYKYifvD+nqJwA/GDHv9+PJ6ZW6+2/FtqXkiWY4L+ZKYOPKnvDv15IWXCtI5w/2HRptyCG2j9pCy11qLPgP+DgubiLrOM/VcSZ3l0r5D+S6/ZzkiPoP/02B6biJsG/6XhiuqW+mr9sRcSeIe3EPyWV7VaKo4Q/99VzCLpFqz9+bz5YGDnjP2oiK2FW5MM/DoTzyb3qvL9pw2njauzYvyGm8EwBKsW/mGq/TQCU2L9F/mlaNDOsvw6YCfXI0pq/TlIUlMtp1j90+TmL7LWsPwGjxNYGw8s/XUg9V7nk0z9He/sPzgzAP879LX1g18C/3VDEGA8rlL9uTh3d2aK4P8Az+9ijcOG/A/wsxSq3wb8=",
          "dtype": "f8"
         }
        }
       ],
       "layout": {
        "legend": {
         "title": {
          "text": "Series"
         }
        },
        "template": {
         "data": {
          "bar": [
           {
            "error_x": {
             "color": "#2a3f5f"
            },
            "error_y": {
             "color": "#2a3f5f"
            },
            "marker": {
             "line": {
              "color": "white",
              "width": 0.5
             },
             "pattern": {
              "fillmode": "overlay",
              "size": 10,
              "solidity": 0.2
             }
            },
            "type": "bar"
           }
          ],
          "barpolar": [
           {
            "marker": {
             "line": {
              "color": "white",
              "width": 0.5
             },
             "pattern": {
              "fillmode": "overlay",
              "size": 10,
              "solidity": 0.2
             }
            },
            "type": "barpolar"
           }
          ],
          "carpet": [
           {
            "aaxis": {
             "endlinecolor": "#2a3f5f",
             "gridcolor": "#C8D4E3",
             "linecolor": "#C8D4E3",
             "minorgridcolor": "#C8D4E3",
             "startlinecolor": "#2a3f5f"
            },
            "baxis": {
             "endlinecolor": "#2a3f5f",
             "gridcolor": "#C8D4E3",
             "linecolor": "#C8D4E3",
             "minorgridcolor": "#C8D4E3",
             "startlinecolor": "#2a3f5f"
            },
            "type": "carpet"
           }
          ],
          "choropleth": [
           {
            "colorbar": {
             "outlinewidth": 0,
             "ticks": ""
            },
            "type": "choropleth"
           }
          ],
          "contour": [
           {
            "colorbar": {
             "outlinewidth": 0,
             "ticks": ""
            },
            "colorscale": [
             [
              0,
              "#0d0887"
             ],
             [
              0.1111111111111111,
              "#46039f"
             ],
             [
              0.2222222222222222,
              "#7201a8"
             ],
             [
              0.3333333333333333,
              "#9c179e"
             ],
             [
              0.4444444444444444,
              "#bd3786"
             ],
             [
              0.5555555555555556,
              "#d8576b"
             ],
             [
              0.6666666666666666,
              "#ed7953"
             ],
             [
              0.7777777777777778,
              "#fb9f3a"
             ],
             [
              0.8888888888888888,
              "#fdca26"
             ],
             [
              1,
              "#f0f921"
             ]
            ],
            "type": "contour"
           }
          ],
          "contourcarpet": [
           {
            "colorbar": {
             "outlinewidth": 0,
             "ticks": ""
            },
            "type": "contourcarpet"
           }
          ],
          "heatmap": [
           {
            "colorbar": {
             "outlinewidth": 0,
             "ticks": ""
            },
            "colorscale": [
             [
              0,
              "#0d0887"
             ],
             [
              0.1111111111111111,
              "#46039f"
             ],
             [
              0.2222222222222222,
              "#7201a8"
             ],
             [
              0.3333333333333333,
              "#9c179e"
             ],
             [
              0.4444444444444444,
              "#bd3786"
             ],
             [
              0.5555555555555556,
              "#d8576b"
             ],
             [
              0.6666666666666666,
              "#ed7953"
             ],
             [
              0.7777777777777778,
              "#fb9f3a"
             ],
             [
              0.8888888888888888,
              "#fdca26"
             ],
             [
              1,
              "#f0f921"
             ]
            ],
            "type": "heatmap"
           }
          ],
          "histogram": [
           {
            "marker": {
             "pattern": {
              "fillmode": "overlay",
              "size": 10,
              "solidity": 0.2
             }
            },
            "type": "histogram"
           }
          ],
          "histogram2d": [
           {
            "colorbar": {
             "outlinewidth": 0,
             "ticks": ""
            },
            "colorscale": [
             [
              0,
              "#0d0887"
             ],
             [
              0.1111111111111111,
              "#46039f"
             ],
             [
              0.2222222222222222,
              "#7201a8"
             ],
             [
              0.3333333333333333,
              "#9c179e"
             ],
             [
              0.4444444444444444,
              "#bd3786"
             ],
             [
              0.5555555555555556,
              "#d8576b"
             ],
             [
              0.6666666666666666,
              "#ed7953"
             ],
             [
              0.7777777777777778,
              "#fb9f3a"
             ],
             [
              0.8888888888888888,
              "#fdca26"
             ],
             [
              1,
              "#f0f921"
             ]
            ],
            "type": "histogram2d"
           }
          ],
          "histogram2dcontour": [
           {
            "colorbar": {
             "outlinewidth": 0,
             "ticks": ""
            },
            "colorscale": [
             [
              0,
              "#0d0887"
             ],
             [
              0.1111111111111111,
              "#46039f"
             ],
             [
              0.2222222222222222,
              "#7201a8"
             ],
             [
              0.3333333333333333,
              "#9c179e"
             ],
             [
              0.4444444444444444,
              "#bd3786"
             ],
             [
              0.5555555555555556,
              "#d8576b"
             ],
             [
              0.6666666666666666,
              "#ed7953"
             ],
             [
              0.7777777777777778,
              "#fb9f3a"
             ],
             [
              0.8888888888888888,
              "#fdca26"
             ],
             [
              1,
              "#f0f921"
             ]
            ],
            "type": "histogram2dcontour"
           }
          ],
          "mesh3d": [
           {
            "colorbar": {
             "outlinewidth": 0,
             "ticks": ""
            },
            "type": "mesh3d"
           }
          ],
          "parcoords": [
           {
            "line": {
             "colorbar": {
              "outlinewidth": 0,
              "ticks": ""
             }
            },
            "type": "parcoords"
           }
          ],
          "pie": [
           {
            "automargin": true,
            "type": "pie"
           }
          ],
          "scatter": [
           {
            "fillpattern": {
             "fillmode": "overlay",
             "size": 10,
             "solidity": 0.2
            },
            "type": "scatter"
           }
          ],
          "scatter3d": [
           {
            "line": {
             "colorbar": {
              "outlinewidth": 0,
              "ticks": ""
             }
            },
            "marker": {
             "colorbar": {
              "outlinewidth": 0,
              "ticks": ""
             }
            },
            "type": "scatter3d"
           }
          ],
          "scattercarpet": [
           {
            "marker": {
             "colorbar": {
              "outlinewidth": 0,
              "ticks": ""
             }
            },
            "type": "scattercarpet"
           }
          ],
          "scattergeo": [
           {
            "marker": {
             "colorbar": {
              "outlinewidth": 0,
              "ticks": ""
             }
            },
            "type": "scattergeo"
           }
          ],
          "scattergl": [
           {
            "marker": {
             "colorbar": {
              "outlinewidth": 0,
              "ticks": ""
             }
            },
            "type": "scattergl"
           }
          ],
          "scattermap": [
           {
            "marker": {
             "colorbar": {
              "outlinewidth": 0,
              "ticks": ""
             }
            },
            "type": "scattermap"
           }
          ],
          "scattermapbox": [
           {
            "marker": {
             "colorbar": {
              "outlinewidth": 0,
              "ticks": ""
             }
            },
            "type": "scattermapbox"
           }
          ],
          "scatterpolar": [
           {
            "marker": {
             "colorbar": {
              "outlinewidth": 0,
              "ticks": ""
             }
            },
            "type": "scatterpolar"
           }
          ],
          "scatterpolargl": [
           {
            "marker": {
             "colorbar": {
              "outlinewidth": 0,
              "ticks": ""
             }
            },
            "type": "scatterpolargl"
           }
          ],
          "scatterternary": [
           {
            "marker": {
             "colorbar": {
              "outlinewidth": 0,
              "ticks": ""
             }
            },
            "type": "scatterternary"
           }
          ],
          "surface": [
           {
            "colorbar": {
             "outlinewidth": 0,
             "ticks": ""
            },
            "colorscale": [
             [
              0,
              "#0d0887"
             ],
             [
              0.1111111111111111,
              "#46039f"
             ],
             [
              0.2222222222222222,
              "#7201a8"
             ],
             [
              0.3333333333333333,
              "#9c179e"
             ],
             [
              0.4444444444444444,
              "#bd3786"
             ],
             [
              0.5555555555555556,
              "#d8576b"
             ],
             [
              0.6666666666666666,
              "#ed7953"
             ],
             [
              0.7777777777777778,
              "#fb9f3a"
             ],
             [
              0.8888888888888888,
              "#fdca26"
             ],
             [
              1,
              "#f0f921"
             ]
            ],
            "type": "surface"
           }
          ],
          "table": [
           {
            "cells": {
             "fill": {
              "color": "#EBF0F8"
             },
             "line": {
              "color": "white"
             }
            },
            "header": {
             "fill": {
              "color": "#C8D4E3"
             },
             "line": {
              "color": "white"
             }
            },
            "type": "table"
           }
          ]
         },
         "layout": {
          "annotationdefaults": {
           "arrowcolor": "#2a3f5f",
           "arrowhead": 0,
           "arrowwidth": 1
          },
          "autotypenumbers": "strict",
          "coloraxis": {
           "colorbar": {
            "outlinewidth": 0,
            "ticks": ""
           }
          },
          "colorscale": {
           "diverging": [
            [
             0,
             "#8e0152"
            ],
            [
             0.1,
             "#c51b7d"
            ],
            [
             0.2,
             "#de77ae"
            ],
            [
             0.3,
             "#f1b6da"
            ],
            [
             0.4,
             "#fde0ef"
            ],
            [
             0.5,
             "#f7f7f7"
            ],
            [
             0.6,
             "#e6f5d0"
            ],
            [
             0.7,
             "#b8e186"
            ],
            [
             0.8,
             "#7fbc41"
            ],
            [
             0.9,
             "#4d9221"
            ],
            [
             1,
             "#276419"
            ]
           ],
           "sequential": [
            [
             0,
             "#0d0887"
            ],
            [
             0.1111111111111111,
             "#46039f"
            ],
            [
             0.2222222222222222,
             "#7201a8"
            ],
            [
             0.3333333333333333,
             "#9c179e"
            ],
            [
             0.4444444444444444,
             "#bd3786"
            ],
            [
             0.5555555555555556,
             "#d8576b"
            ],
            [
             0.6666666666666666,
             "#ed7953"
            ],
            [
             0.7777777777777778,
             "#fb9f3a"
            ],
            [
             0.8888888888888888,
             "#fdca26"
            ],
            [
             1,
             "#f0f921"
            ]
           ],
           "sequentialminus": [
            [
             0,
             "#0d0887"
            ],
            [
             0.1111111111111111,
             "#46039f"
            ],
            [
             0.2222222222222222,
             "#7201a8"
            ],
            [
             0.3333333333333333,
             "#9c179e"
            ],
            [
             0.4444444444444444,
             "#bd3786"
            ],
            [
             0.5555555555555556,
             "#d8576b"
            ],
            [
             0.6666666666666666,
             "#ed7953"
            ],
            [
             0.7777777777777778,
             "#fb9f3a"
            ],
            [
             0.8888888888888888,
             "#fdca26"
            ],
            [
             1,
             "#f0f921"
            ]
           ]
          },
          "colorway": [
           "#636efa",
           "#EF553B",
           "#00cc96",
           "#ab63fa",
           "#FFA15A",
           "#19d3f3",
           "#FF6692",
           "#B6E880",
           "#FF97FF",
           "#FECB52"
          ],
          "font": {
           "color": "#2a3f5f"
          },
          "geo": {
           "bgcolor": "white",
           "lakecolor": "white",
           "landcolor": "white",
           "showlakes": true,
           "showland": true,
           "subunitcolor": "#C8D4E3"
          },
          "hoverlabel": {
           "align": "left"
          },
          "hovermode": "closest",
          "mapbox": {
           "style": "light"
          },
          "paper_bgcolor": "white",
          "plot_bgcolor": "white",
          "polar": {
           "angularaxis": {
            "gridcolor": "#EBF0F8",
            "linecolor": "#EBF0F8",
            "ticks": ""
           },
           "bgcolor": "white",
           "radialaxis": {
            "gridcolor": "#EBF0F8",
            "linecolor": "#EBF0F8",
            "ticks": ""
           }
          },
          "scene": {
           "xaxis": {
            "backgroundcolor": "white",
            "gridcolor": "#DFE8F3",
            "gridwidth": 2,
            "linecolor": "#EBF0F8",
            "showbackground": true,
            "ticks": "",
            "zerolinecolor": "#EBF0F8"
           },
           "yaxis": {
            "backgroundcolor": "white",
            "gridcolor": "#DFE8F3",
            "gridwidth": 2,
            "linecolor": "#EBF0F8",
            "showbackground": true,
            "ticks": "",
            "zerolinecolor": "#EBF0F8"
           },
           "zaxis": {
            "backgroundcolor": "white",
            "gridcolor": "#DFE8F3",
            "gridwidth": 2,
            "linecolor": "#EBF0F8",
            "showbackground": true,
            "ticks": "",
            "zerolinecolor": "#EBF0F8"
           }
          },
          "shapedefaults": {
           "line": {
            "color": "#2a3f5f"
           }
          },
          "ternary": {
           "aaxis": {
            "gridcolor": "#DFE8F3",
            "linecolor": "#A2B1C6",
            "ticks": ""
           },
           "baxis": {
            "gridcolor": "#DFE8F3",
            "linecolor": "#A2B1C6",
            "ticks": ""
           },
           "bgcolor": "white",
           "caxis": {
            "gridcolor": "#DFE8F3",
            "linecolor": "#A2B1C6",
            "ticks": ""
           }
          },
          "title": {
           "x": 0.05
          },
          "xaxis": {
           "automargin": true,
           "gridcolor": "#EBF0F8",
           "linecolor": "#EBF0F8",
           "ticks": "",
           "title": {
            "standoff": 15
           },
           "zerolinecolor": "#EBF0F8",
           "zerolinewidth": 2
          },
          "yaxis": {
           "automargin": true,
           "gridcolor": "#EBF0F8",
           "linecolor": "#EBF0F8",
           "ticks": "",
           "title": {
            "standoff": 15
           },
           "zerolinecolor": "#EBF0F8",
           "zerolinewidth": 2
          }
         }
        },
        "title": {
         "text": "Rolling Sharpe ratio (window=5)"
        },
        "xaxis": {
         "title": {
          "text": "Date"
         }
        },
        "yaxis": {
         "title": {
          "text": "Sharpe ≈ μ/σ"
         }
        }
       }
      }
     },
     "metadata": {},
     "output_type": "display_data"
    },
    {
     "data": {
      "application/vnd.plotly.v1+json": {
       "config": {
        "plotlyServerURL": "https://plot.ly"
       },
       "data": [
        {
         "mode": "lines",
         "name": "CVaR_95",
         "type": "scatter",
         "x": [
          "2015-02-28T23:59:59.999999999",
          "2015-03-31T23:59:59.999999999",
          "2015-04-30T23:59:59.999999999",
          "2015-05-31T23:59:59.999999999",
          "2015-06-30T23:59:59.999999999",
          "2015-07-31T23:59:59.999999999",
          "2015-08-31T23:59:59.999999999",
          "2015-09-30T23:59:59.999999999",
          "2015-10-31T23:59:59.999999999",
          "2015-11-30T23:59:59.999999999",
          "2015-12-31T23:59:59.999999999",
          "2016-01-31T23:59:59.999999999",
          "2016-02-29T23:59:59.999999999",
          "2016-03-31T23:59:59.999999999",
          "2016-04-30T23:59:59.999999999",
          "2016-05-31T23:59:59.999999999",
          "2016-06-30T23:59:59.999999999",
          "2016-07-31T23:59:59.999999999",
          "2016-08-31T23:59:59.999999999",
          "2016-09-30T23:59:59.999999999",
          "2016-10-31T23:59:59.999999999",
          "2016-11-30T23:59:59.999999999",
          "2016-12-31T23:59:59.999999999",
          "2017-01-31T23:59:59.999999999",
          "2017-02-28T23:59:59.999999999",
          "2017-03-31T23:59:59.999999999",
          "2017-04-30T23:59:59.999999999",
          "2017-05-31T23:59:59.999999999",
          "2017-06-30T23:59:59.999999999",
          "2017-07-31T23:59:59.999999999",
          "2017-08-31T23:59:59.999999999",
          "2017-09-30T23:59:59.999999999",
          "2017-10-31T23:59:59.999999999",
          "2017-11-30T23:59:59.999999999",
          "2017-12-31T23:59:59.999999999",
          "2018-01-31T23:59:59.999999999",
          "2018-02-28T23:59:59.999999999",
          "2018-03-31T23:59:59.999999999",
          "2018-04-30T23:59:59.999999999",
          "2018-05-31T23:59:59.999999999",
          "2018-06-30T23:59:59.999999999",
          "2018-07-31T23:59:59.999999999",
          "2018-08-31T23:59:59.999999999",
          "2018-09-30T23:59:59.999999999",
          "2018-10-31T23:59:59.999999999",
          "2018-11-30T23:59:59.999999999",
          "2018-12-31T23:59:59.999999999",
          "2019-01-31T23:59:59.999999999",
          "2019-02-28T23:59:59.999999999",
          "2019-03-31T23:59:59.999999999",
          "2019-04-30T23:59:59.999999999",
          "2019-05-31T23:59:59.999999999",
          "2019-06-30T23:59:59.999999999",
          "2019-07-31T23:59:59.999999999",
          "2019-08-31T23:59:59.999999999",
          "2019-09-30T23:59:59.999999999",
          "2019-10-31T23:59:59.999999999",
          "2019-11-30T23:59:59.999999999",
          "2019-12-31T23:59:59.999999999"
         ],
         "y": {
          "bdata": "AAAAAAAAAACFLwoGqKiJvxMOHljAWJ6/hn1QrbdJrL/7c+6aPYu1v1sLwpX6tLG/fPfCAcRiwL9PfH/7kJzGv73PCGFvLbS/fKDFlVt7pr+YHDX+eyySv1QmHiZN3Y6/WFXc9aI2Zb8AAAAAAAAAAAAAAAAAAAAAAAAAAAAAAAAAAAAAAAAAAAAAAAAAAAAAAAAAAAAAAAAAAAAAAAAAAAAAAAAAAAAAAAAAAAAAAAAAAAAAAAAAALWeewJEjHy/AAAAAAAAAABj4j9MbiMfvwAAAAAAAAAAAAAAAAAAAAAAAAAAAAAAAAAAAAAAAAAAAAAAAAAAAAAAAAAAAAAAAAAAAAAAAAAAAAAAAAAAAAAAAAAAAAAAAFoghWiPkoS/kuqi4xguq7/6UIXxhXPAv0VcF12AxMa/1BI7VXWRyL9w/zDe0w7Cvx98l9Pp16K/AAAAAAAAAAAAAAAAAAAAAAAAAAAAAAAAAAAAAAAAAACUoDd3ZDumv2fQqAsoiq+/AAAAAAAAAAAAAAAAAAAAAAAAAAAAAAAAY1QoyW9ior/6XcHxl6iVvwAAAAAAAAAAer0mS9oVN78AAAAAAAAAAAAAAAAAAAAAAAAAAAAAAAAAAAAAAAAAAA==",
          "dtype": "f8"
         }
        },
        {
         "mode": "lines",
         "name": "CVaR_90",
         "type": "scatter",
         "x": [
          "2015-02-28T23:59:59.999999999",
          "2015-03-31T23:59:59.999999999",
          "2015-04-30T23:59:59.999999999",
          "2015-05-31T23:59:59.999999999",
          "2015-06-30T23:59:59.999999999",
          "2015-07-31T23:59:59.999999999",
          "2015-08-31T23:59:59.999999999",
          "2015-09-30T23:59:59.999999999",
          "2015-10-31T23:59:59.999999999",
          "2015-11-30T23:59:59.999999999",
          "2015-12-31T23:59:59.999999999",
          "2016-01-31T23:59:59.999999999",
          "2016-02-29T23:59:59.999999999",
          "2016-03-31T23:59:59.999999999",
          "2016-04-30T23:59:59.999999999",
          "2016-05-31T23:59:59.999999999",
          "2016-06-30T23:59:59.999999999",
          "2016-07-31T23:59:59.999999999",
          "2016-08-31T23:59:59.999999999",
          "2016-09-30T23:59:59.999999999",
          "2016-10-31T23:59:59.999999999",
          "2016-11-30T23:59:59.999999999",
          "2016-12-31T23:59:59.999999999",
          "2017-01-31T23:59:59.999999999",
          "2017-02-28T23:59:59.999999999",
          "2017-03-31T23:59:59.999999999",
          "2017-04-30T23:59:59.999999999",
          "2017-05-31T23:59:59.999999999",
          "2017-06-30T23:59:59.999999999",
          "2017-07-31T23:59:59.999999999",
          "2017-08-31T23:59:59.999999999",
          "2017-09-30T23:59:59.999999999",
          "2017-10-31T23:59:59.999999999",
          "2017-11-30T23:59:59.999999999",
          "2017-12-31T23:59:59.999999999",
          "2018-01-31T23:59:59.999999999",
          "2018-02-28T23:59:59.999999999",
          "2018-03-31T23:59:59.999999999",
          "2018-04-30T23:59:59.999999999",
          "2018-05-31T23:59:59.999999999",
          "2018-06-30T23:59:59.999999999",
          "2018-07-31T23:59:59.999999999",
          "2018-08-31T23:59:59.999999999",
          "2018-09-30T23:59:59.999999999",
          "2018-10-31T23:59:59.999999999",
          "2018-11-30T23:59:59.999999999",
          "2018-12-31T23:59:59.999999999",
          "2019-01-31T23:59:59.999999999",
          "2019-02-28T23:59:59.999999999",
          "2019-03-31T23:59:59.999999999",
          "2019-04-30T23:59:59.999999999",
          "2019-05-31T23:59:59.999999999",
          "2019-06-30T23:59:59.999999999",
          "2019-07-31T23:59:59.999999999",
          "2019-08-31T23:59:59.999999999",
          "2019-09-30T23:59:59.999999999",
          "2019-10-31T23:59:59.999999999",
          "2019-11-30T23:59:59.999999999",
          "2019-12-31T23:59:59.999999999"
         ],
         "y": {
          "bdata": "AAAAAAAAAACa/AcEqzxzvwAAAAAAAAAAHb+u661sYr+ehkMP3lagv2YMO7StTaW/iEe7XWJOvb8e0N08v/3Ev86zYQ3d+rC/hIvh/GqGrb8U5JffUg+nv0sU0gvb6KW/q5rAE5ziob8AAAAAAAAAAAAAAAAAAAAAAAAAAAAAAAAAAAAAAAAAAAAAAAAAAAAAAAAAAAAAAAAAAAAAAAAAAAAAAAAAAAAAAAAAAAAAAAAAAAAAAAAAAJnxmfSClm2/AAAAAAAAAAAAAAAAAAAAAAAAAAAAAAAAAAAAAAAAAAAAAAAAAAAAAAAAAAAAAAAAAAAAAAAAAAAAAAAAAAAAAAAAAAAAAAAAAAAAAAAAAAAAAAAAAAAAAGI7EcKuKYS/PcBHZZrKrL+lvXmHmsTAvyON2VLW5sa/ZZAdAa9ryb/PRYnIi4HDv4Xu9UNp6Ku/JwsUSr9KkL8AAAAAAAAAAAAAAAAAAAAAAAAAAAAAAABuy7lmc8uqv9PzHuQChLK/AAAAAAAAAAAAAAAAAAAAAAAAAAAAAAAAWPA375a8oL/kL4+tFlGFvwAAAAAAAAAAAAAAAAAAAAAAAAAAAAAAAAAAAAAAAAAAAAAAAAAAAAAAAAAAAAAAAA==",
          "dtype": "f8"
         }
        },
        {
         "mode": "lines",
         "name": "CVaR_80",
         "type": "scatter",
         "x": [
          "2015-02-28T23:59:59.999999999",
          "2015-03-31T23:59:59.999999999",
          "2015-04-30T23:59:59.999999999",
          "2015-05-31T23:59:59.999999999",
          "2015-06-30T23:59:59.999999999",
          "2015-07-31T23:59:59.999999999",
          "2015-08-31T23:59:59.999999999",
          "2015-09-30T23:59:59.999999999",
          "2015-10-31T23:59:59.999999999",
          "2015-11-30T23:59:59.999999999",
          "2015-12-31T23:59:59.999999999",
          "2016-01-31T23:59:59.999999999",
          "2016-02-29T23:59:59.999999999",
          "2016-03-31T23:59:59.999999999",
          "2016-04-30T23:59:59.999999999",
          "2016-05-31T23:59:59.999999999",
          "2016-06-30T23:59:59.999999999",
          "2016-07-31T23:59:59.999999999",
          "2016-08-31T23:59:59.999999999",
          "2016-09-30T23:59:59.999999999",
          "2016-10-31T23:59:59.999999999",
          "2016-11-30T23:59:59.999999999",
          "2016-12-31T23:59:59.999999999",
          "2017-01-31T23:59:59.999999999",
          "2017-02-28T23:59:59.999999999",
          "2017-03-31T23:59:59.999999999",
          "2017-04-30T23:59:59.999999999",
          "2017-05-31T23:59:59.999999999",
          "2017-06-30T23:59:59.999999999",
          "2017-07-31T23:59:59.999999999",
          "2017-08-31T23:59:59.999999999",
          "2017-09-30T23:59:59.999999999",
          "2017-10-31T23:59:59.999999999",
          "2017-11-30T23:59:59.999999999",
          "2017-12-31T23:59:59.999999999",
          "2018-01-31T23:59:59.999999999",
          "2018-02-28T23:59:59.999999999",
          "2018-03-31T23:59:59.999999999",
          "2018-04-30T23:59:59.999999999",
          "2018-05-31T23:59:59.999999999",
          "2018-06-30T23:59:59.999999999",
          "2018-07-31T23:59:59.999999999",
          "2018-08-31T23:59:59.999999999",
          "2018-09-30T23:59:59.999999999",
          "2018-10-31T23:59:59.999999999",
          "2018-11-30T23:59:59.999999999",
          "2018-12-31T23:59:59.999999999",
          "2019-01-31T23:59:59.999999999",
          "2019-02-28T23:59:59.999999999",
          "2019-03-31T23:59:59.999999999",
          "2019-04-30T23:59:59.999999999",
          "2019-05-31T23:59:59.999999999",
          "2019-06-30T23:59:59.999999999",
          "2019-07-31T23:59:59.999999999",
          "2019-08-31T23:59:59.999999999",
          "2019-09-30T23:59:59.999999999",
          "2019-10-31T23:59:59.999999999",
          "2019-11-30T23:59:59.999999999",
          "2019-12-31T23:59:59.999999999"
         ],
         "y": {
          "bdata": "AAAAAAAAAABo8QnZk6t7vwD1S+yt21y/AAAAAAAAAACOfWdQQVCUv3jvr/8InKG/l2hmUOVqvL+4rKpiisrBvyEfOf4Xc6O/IEux1xt2nr+d9EI1OmyVv3fMYyjHdpG/EOpal2JrUL8AAAAAAAAAAAAAAAAAAAAAAAAAAAAAAAAAAAAAAAAAAAAAAAAAAAAAAAAAAAAAAAAAAAAAAAAAAAAAAAAAAAAAAAAAAAAAAAAAAAAAAAAAAAk+7vPXAXG/AAAAAAAAAAAAAAAAAAAAAAAAAAAAAAAAAAAAAAAAAAAAAAAAAAAAAAAAAAAAAAAAAAAAAAAAAAAAAAAAAAAAAAAAAAAAAAAAAAAAAAAAAAAAAAAAAAAAAJzBf9E5AYK/loznyhWrrL9vpxBDtKnAv8K+z4Mbzsa/8WEKmahhyr/xksMnhrnFvxsVLu3qv7O/ACetaz9mob8AAAAAAAAAAAAAAAAAAAAAAAAAAAAAAAD0MNokHJenvyM0YLvPnbC/AAAAAAAAAAAAAAAAAAAAAAAAAAAAAAAA6NSOxb+cnb9JTbKcXlxdvwAAAAAAAAAAAAAAAAAAAAAAAAAAAAAAAAAAAAAAAAAAAAAAAAAAAAAAAAAAAAAAAA==",
          "dtype": "f8"
         }
        },
        {
         "mode": "lines",
         "name": "MVar",
         "type": "scatter",
         "x": [
          "2015-02-28T23:59:59.999999999",
          "2015-03-31T23:59:59.999999999",
          "2015-04-30T23:59:59.999999999",
          "2015-05-31T23:59:59.999999999",
          "2015-06-30T23:59:59.999999999",
          "2015-07-31T23:59:59.999999999",
          "2015-08-31T23:59:59.999999999",
          "2015-09-30T23:59:59.999999999",
          "2015-10-31T23:59:59.999999999",
          "2015-11-30T23:59:59.999999999",
          "2015-12-31T23:59:59.999999999",
          "2016-01-31T23:59:59.999999999",
          "2016-02-29T23:59:59.999999999",
          "2016-03-31T23:59:59.999999999",
          "2016-04-30T23:59:59.999999999",
          "2016-05-31T23:59:59.999999999",
          "2016-06-30T23:59:59.999999999",
          "2016-07-31T23:59:59.999999999",
          "2016-08-31T23:59:59.999999999",
          "2016-09-30T23:59:59.999999999",
          "2016-10-31T23:59:59.999999999",
          "2016-11-30T23:59:59.999999999",
          "2016-12-31T23:59:59.999999999",
          "2017-01-31T23:59:59.999999999",
          "2017-02-28T23:59:59.999999999",
          "2017-03-31T23:59:59.999999999",
          "2017-04-30T23:59:59.999999999",
          "2017-05-31T23:59:59.999999999",
          "2017-06-30T23:59:59.999999999",
          "2017-07-31T23:59:59.999999999",
          "2017-08-31T23:59:59.999999999",
          "2017-09-30T23:59:59.999999999",
          "2017-10-31T23:59:59.999999999",
          "2017-11-30T23:59:59.999999999",
          "2017-12-31T23:59:59.999999999",
          "2018-01-31T23:59:59.999999999",
          "2018-02-28T23:59:59.999999999",
          "2018-03-31T23:59:59.999999999",
          "2018-04-30T23:59:59.999999999",
          "2018-05-31T23:59:59.999999999",
          "2018-06-30T23:59:59.999999999",
          "2018-07-31T23:59:59.999999999",
          "2018-08-31T23:59:59.999999999",
          "2018-09-30T23:59:59.999999999",
          "2018-10-31T23:59:59.999999999",
          "2018-11-30T23:59:59.999999999",
          "2018-12-31T23:59:59.999999999",
          "2019-01-31T23:59:59.999999999",
          "2019-02-28T23:59:59.999999999",
          "2019-03-31T23:59:59.999999999",
          "2019-04-30T23:59:59.999999999",
          "2019-05-31T23:59:59.999999999",
          "2019-06-30T23:59:59.999999999",
          "2019-07-31T23:59:59.999999999",
          "2019-08-31T23:59:59.999999999",
          "2019-09-30T23:59:59.999999999",
          "2019-10-31T23:59:59.999999999",
          "2019-11-30T23:59:59.999999999",
          "2019-12-31T23:59:59.999999999"
         ],
         "y": {
          "bdata": "AAAAAAAAAAAAAAAAAAAAAAAAAAAAAAAAAAAAAAAAAAB2Fy91Hd+YvxPpGWYVVJ+/7wSwBW2ZvL/BjOdonSXDv2E02cdkY6q/6ZBlVdDdqr/xCRGMszmrv74UP2PfV6m/TeDqyYBUp79eI2QdgvuEvwAAAAAAAAAAAAAAAAAAAAAAAAAAAAAAAAAAAAAAAAAAAAAAAAAAAAAAAAAAAAAAAAAAAAAAAAAAAAAAAAAAAAAAAAAAAAAAAD8h5P6RS3G/AAAAAAAAAAAAAAAAAAAAAAAAAAAAAAAAAAAAAAAAAAAAAAAAAAAAAAAAAAAAAAAAAAAAAAAAAAAAAAAAAAAAAAAAAAAAAAAAAAAAAAAAAAAAAAAAAAAAAPO3bXwm8IC/tGaEuu/QqL9tyRHL7Ci/v25XhxAMzcW/AzzgX7RkyL/t+qPpCdbCv75NgfgEaqm/Mmkt4YuAWb8AAAAAAAAAAAAAAAAAAAAAAAAAAAAAAAA4ewx+pfOnvxZzY76nZ7C/AAAAAAAAAAAAAAAAAAAAAAAAAAAAAAAATAfyWLNdoL8ItVArw6aJvwAAAAAAAAAAYO0/of++f78AAAAAAAAAAAAAAAAAAAAAAAAAAAAAAAAAAAAAAAAAAA==",
          "dtype": "f8"
         }
        },
        {
         "mode": "lines",
         "name": "TOP3",
         "type": "scatter",
         "x": [
          "2015-01-31T00:00:00.000000000",
          "2015-02-28T00:00:00.000000000",
          "2015-03-31T00:00:00.000000000",
          "2015-04-30T00:00:00.000000000",
          "2015-05-31T00:00:00.000000000",
          "2015-06-30T00:00:00.000000000",
          "2015-07-31T00:00:00.000000000",
          "2015-08-31T00:00:00.000000000",
          "2015-09-30T00:00:00.000000000",
          "2015-10-31T00:00:00.000000000",
          "2015-11-30T00:00:00.000000000",
          "2015-12-31T00:00:00.000000000",
          "2016-01-31T00:00:00.000000000",
          "2016-02-29T00:00:00.000000000",
          "2016-03-31T00:00:00.000000000",
          "2016-04-30T00:00:00.000000000",
          "2016-05-31T00:00:00.000000000",
          "2016-06-30T00:00:00.000000000",
          "2016-07-31T00:00:00.000000000",
          "2016-08-31T00:00:00.000000000",
          "2016-09-30T00:00:00.000000000",
          "2016-10-31T00:00:00.000000000",
          "2016-11-30T00:00:00.000000000",
          "2016-12-31T00:00:00.000000000",
          "2017-01-31T00:00:00.000000000",
          "2017-02-28T00:00:00.000000000",
          "2017-03-31T00:00:00.000000000",
          "2017-04-30T00:00:00.000000000",
          "2017-05-31T00:00:00.000000000",
          "2017-06-30T00:00:00.000000000",
          "2017-07-31T00:00:00.000000000",
          "2017-08-31T00:00:00.000000000",
          "2017-09-30T00:00:00.000000000",
          "2017-10-31T00:00:00.000000000",
          "2017-11-30T00:00:00.000000000",
          "2017-12-31T00:00:00.000000000",
          "2018-01-31T00:00:00.000000000",
          "2018-02-28T00:00:00.000000000",
          "2018-03-31T00:00:00.000000000",
          "2018-04-30T00:00:00.000000000",
          "2018-05-31T00:00:00.000000000",
          "2018-06-30T00:00:00.000000000",
          "2018-07-31T00:00:00.000000000",
          "2018-08-31T00:00:00.000000000",
          "2018-09-30T00:00:00.000000000",
          "2018-10-31T00:00:00.000000000",
          "2018-11-30T00:00:00.000000000",
          "2018-12-31T00:00:00.000000000",
          "2019-01-31T00:00:00.000000000",
          "2019-02-28T00:00:00.000000000",
          "2019-03-31T00:00:00.000000000",
          "2019-04-30T00:00:00.000000000",
          "2019-05-31T00:00:00.000000000",
          "2019-06-30T00:00:00.000000000",
          "2019-07-31T00:00:00.000000000",
          "2019-08-31T00:00:00.000000000",
          "2019-09-30T00:00:00.000000000",
          "2019-10-31T00:00:00.000000000",
          "2019-11-30T00:00:00.000000000",
          "2019-12-31T00:00:00.000000000"
         ],
         "y": {
          "bdata": "AAAAAAAAAAAAAAAAAAAAAFaumSa1156/OdTSjNtcl79tp6R7Pia0v2o0gkH79L6/smVn5e0ZsL+sdBQGFkG/v83qhexIhcG//mQjcrvmmr+F613b3F9ovy0aQuP2w6G/+ENo4xuuo7+8JEl/timqvwAAAAAAAAAAAAAAAAAAAAAFctFRqaKHv8AxXjV2YqC/e+ewYmctp7+oAwLpHFOiv20g6IOXO5C/GYU8Uve8gb8AAAAAAAAAAAAAAAAAAAAAImFJKF5Vf78AAAAAAAAAAAAAAAAAAAAAAAAAAAAAAAAAAAAAAAAAAOpIn3KJVaa/CnD82VBNoL8AAAAAAAAAAHVbPRf+MG+/AAAAAAAAAAAAAAAAAAAAAAAAAAAAAAAAAAAAAAAAAAC9gon+XZOqv+piDvI097W/AAAAAAAAAAAAAAAAAAAAAAAAAAAAAAAAAAAAAAAAAAAAAAAAAAAAAAAAAAAAAAAA4E5zeKYtr78AAAAAAAAAALVFyCiQXK6/I8GIuPYyqb91f0X0fO+XvwAAAAAAAAAAAAAAAAAAAADX12sTufu1v5E1d5MsGJu/AAAAAAAAAAAUk8ocXDeFv29nvYAX+ou/Zz9iIaGDW78AAAAAAAAAAAAAAAAAAAAA",
          "dtype": "f8"
         }
        },
        {
         "mode": "lines",
         "name": "MSFT",
         "type": "scatter",
         "x": [
          "2015-02-28T23:59:59.999999999",
          "2015-03-31T23:59:59.999999999",
          "2015-04-30T23:59:59.999999999",
          "2015-05-31T23:59:59.999999999",
          "2015-06-30T23:59:59.999999999",
          "2015-07-31T23:59:59.999999999",
          "2015-08-31T23:59:59.999999999",
          "2015-09-30T23:59:59.999999999",
          "2015-10-31T23:59:59.999999999",
          "2015-11-30T23:59:59.999999999",
          "2015-12-31T23:59:59.999999999",
          "2016-01-31T23:59:59.999999999",
          "2016-02-29T23:59:59.999999999",
          "2016-03-31T23:59:59.999999999",
          "2016-04-30T23:59:59.999999999",
          "2016-05-31T23:59:59.999999999",
          "2016-06-30T23:59:59.999999999",
          "2016-07-31T23:59:59.999999999",
          "2016-08-31T23:59:59.999999999",
          "2016-09-30T23:59:59.999999999",
          "2016-10-31T23:59:59.999999999",
          "2016-11-30T23:59:59.999999999",
          "2016-12-31T23:59:59.999999999",
          "2017-01-31T23:59:59.999999999",
          "2017-02-28T23:59:59.999999999",
          "2017-03-31T23:59:59.999999999",
          "2017-04-30T23:59:59.999999999",
          "2017-05-31T23:59:59.999999999",
          "2017-06-30T23:59:59.999999999",
          "2017-07-31T23:59:59.999999999",
          "2017-08-31T23:59:59.999999999",
          "2017-09-30T23:59:59.999999999",
          "2017-10-31T23:59:59.999999999",
          "2017-11-30T23:59:59.999999999",
          "2017-12-31T23:59:59.999999999",
          "2018-01-31T23:59:59.999999999",
          "2018-02-28T23:59:59.999999999",
          "2018-03-31T23:59:59.999999999",
          "2018-04-30T23:59:59.999999999",
          "2018-05-31T23:59:59.999999999",
          "2018-06-30T23:59:59.999999999",
          "2018-07-31T23:59:59.999999999",
          "2018-08-31T23:59:59.999999999",
          "2018-09-30T23:59:59.999999999",
          "2018-10-31T23:59:59.999999999",
          "2018-11-30T23:59:59.999999999",
          "2018-12-31T23:59:59.999999999",
          "2019-01-31T23:59:59.999999999",
          "2019-02-28T23:59:59.999999999",
          "2019-03-31T23:59:59.999999999",
          "2019-04-30T23:59:59.999999999",
          "2019-05-31T23:59:59.999999999",
          "2019-06-30T23:59:59.999999999",
          "2019-07-31T23:59:59.999999999",
          "2019-08-31T23:59:59.999999999",
          "2019-09-30T23:59:59.999999999",
          "2019-10-31T23:59:59.999999999",
          "2019-11-30T23:59:59.999999999",
          "2019-12-31T23:59:59.999999999"
         ],
         "y": {
          "bdata": "AAAAAAAAAAAjU3D8nJ+yvwAAAAAAAAAA1Gsor6G8or8jymsor6G3v7uG8hrKa6S/K6+hvIbyur/dUF5DeQ23vwAAAAAAAAAAAAAAAAAAAAAAAAAAAAAAABbMwTIHy3y/mVNxTsU5tb+tJkGdBHVyvyyetXjW4rm/JW7BuAXjpr8rPs34NOOzvwAAAAAAAAAAAAAAAAAAAAAAAAAAAAAAAAAAAAAAAAAAAAAAAAAAAAAAAAAAAAAAAAAAAAAAAAAAs/Fr2nQ5hb8AAAAAAAAAAAAAAAAAAAAAAAAAAAAAAAAw3d7IW6+KvwAAAAAAAAAAAAAAAAAAAABg+uqNc61uvwAAAAAAAAAAAAAAAAAAAAAAAAAAAAAAAAAAAAAAAAAAH10WKp66ir9ZaYL4jSekv2YlpMQWD5C/AAAAAAAAAADEEC3rDhBjvwAAAAAAAAAAAAAAAAAAAAAAAAAAAAAAACoKYvQC7LC/DebM9mYon7+vmExqn6a8v5Cu8v7KP7a/x89UX3HzlL8AAAAAAAAAAAAAAAAAAAAAzKA9bgIhq78AAAAAAAAAAAAAAAAAAAAAAAAAAAAAAAAAAAAAAAAAAAAAAAAAAAAAAAAAAAAAAAAAAAAAAAAAAA==",
          "dtype": "f8"
         }
        },
        {
         "mode": "lines",
         "name": "MRK",
         "type": "scatter",
         "x": [
          "2015-02-28T23:59:59.999999999",
          "2015-03-31T23:59:59.999999999",
          "2015-04-30T23:59:59.999999999",
          "2015-05-31T23:59:59.999999999",
          "2015-06-30T23:59:59.999999999",
          "2015-07-31T23:59:59.999999999",
          "2015-08-31T23:59:59.999999999",
          "2015-09-30T23:59:59.999999999",
          "2015-10-31T23:59:59.999999999",
          "2015-11-30T23:59:59.999999999",
          "2015-12-31T23:59:59.999999999",
          "2016-01-31T23:59:59.999999999",
          "2016-02-29T23:59:59.999999999",
          "2016-03-31T23:59:59.999999999",
          "2016-04-30T23:59:59.999999999",
          "2016-05-31T23:59:59.999999999",
          "2016-06-30T23:59:59.999999999",
          "2016-07-31T23:59:59.999999999",
          "2016-08-31T23:59:59.999999999",
          "2016-09-30T23:59:59.999999999",
          "2016-10-31T23:59:59.999999999",
          "2016-11-30T23:59:59.999999999",
          "2016-12-31T23:59:59.999999999",
          "2017-01-31T23:59:59.999999999",
          "2017-02-28T23:59:59.999999999",
          "2017-03-31T23:59:59.999999999",
          "2017-04-30T23:59:59.999999999",
          "2017-05-31T23:59:59.999999999",
          "2017-06-30T23:59:59.999999999",
          "2017-07-31T23:59:59.999999999",
          "2017-08-31T23:59:59.999999999",
          "2017-09-30T23:59:59.999999999",
          "2017-10-31T23:59:59.999999999",
          "2017-11-30T23:59:59.999999999",
          "2017-12-31T23:59:59.999999999",
          "2018-01-31T23:59:59.999999999",
          "2018-02-28T23:59:59.999999999",
          "2018-03-31T23:59:59.999999999",
          "2018-04-30T23:59:59.999999999",
          "2018-05-31T23:59:59.999999999",
          "2018-06-30T23:59:59.999999999",
          "2018-07-31T23:59:59.999999999",
          "2018-08-31T23:59:59.999999999",
          "2018-09-30T23:59:59.999999999",
          "2018-10-31T23:59:59.999999999",
          "2018-11-30T23:59:59.999999999",
          "2018-12-31T23:59:59.999999999",
          "2019-01-31T23:59:59.999999999",
          "2019-02-28T23:59:59.999999999",
          "2019-03-31T23:59:59.999999999",
          "2019-04-30T23:59:59.999999999",
          "2019-05-31T23:59:59.999999999",
          "2019-06-30T23:59:59.999999999",
          "2019-07-31T23:59:59.999999999",
          "2019-08-31T23:59:59.999999999",
          "2019-09-30T23:59:59.999999999",
          "2019-10-31T23:59:59.999999999",
          "2019-11-30T23:59:59.999999999",
          "2019-12-31T23:59:59.999999999"
         ],
         "y": {
          "bdata": "AAAAAAAAAADDJfxFM4eSvwAAAAAAAAAAAAAAAAAAAABqIYO3uaqwvzN3CGDZOaC/KZxzhwCWvb9E99RXRC/Iv6p9qbLaMLq/3nakoYGOwL8LEMZWGPTAv49gb9cTecW//9YWy2dxxr/5y2HN8cbAv1Fcv+r2cLm/pVFuq9hxs79Insv9Dpqrv1dSNiiIyKK/AAAAAAAAAAC0QWr5HaF4v4dayWkyl7C/hAwpwGb/mb+nw6sl5fuvv4QMKcBm/4m/AAAAAAAAAACkACkCsxiivwSnR5Jjjau/2xW31HXNh7/SHLL+H7ebv0FNA3fY+Z6/aDjYT1FNn7+B3jCJirGcvxgLcGsU88S/JdENBWSaxL9RnJ19xqrCv7f7mc7bt7m/fI9AUBekxr+aLgEL4ibGv8C7crnqObu/If/lDZOouL+TIUEy9xe0vwAAAAAAAAAAAAAAAAAAAAAAAAAAAAAAAAAAAAAAAAAAAAAAAAAAAAAFgxvf++Giv7Q2cDyerK+/AAAAAAAAAAAAAAAAAAAAAFI9knOqcKu/4qKes0pXqL8AAAAAAAAAAPRPARVQAYW/AAAAAAAAAAAkOE1FKBObvwAAAAAAAAAAAAAAAAAAAAAAAAAAAAAAAA==",
          "dtype": "f8"
         }
        },
        {
         "mode": "lines",
         "name": "GOOGL",
         "type": "scatter",
         "x": [
          "2015-02-28T23:59:59.999999999",
          "2015-03-31T23:59:59.999999999",
          "2015-04-30T23:59:59.999999999",
          "2015-05-31T23:59:59.999999999",
          "2015-06-30T23:59:59.999999999",
          "2015-07-31T23:59:59.999999999",
          "2015-08-31T23:59:59.999999999",
          "2015-09-30T23:59:59.999999999",
          "2015-10-31T23:59:59.999999999",
          "2015-11-30T23:59:59.999999999",
          "2015-12-31T23:59:59.999999999",
          "2016-01-31T23:59:59.999999999",
          "2016-02-29T23:59:59.999999999",
          "2016-03-31T23:59:59.999999999",
          "2016-04-30T23:59:59.999999999",
          "2016-05-31T23:59:59.999999999",
          "2016-06-30T23:59:59.999999999",
          "2016-07-31T23:59:59.999999999",
          "2016-08-31T23:59:59.999999999",
          "2016-09-30T23:59:59.999999999",
          "2016-10-31T23:59:59.999999999",
          "2016-11-30T23:59:59.999999999",
          "2016-12-31T23:59:59.999999999",
          "2017-01-31T23:59:59.999999999",
          "2017-02-28T23:59:59.999999999",
          "2017-03-31T23:59:59.999999999",
          "2017-04-30T23:59:59.999999999",
          "2017-05-31T23:59:59.999999999",
          "2017-06-30T23:59:59.999999999",
          "2017-07-31T23:59:59.999999999",
          "2017-08-31T23:59:59.999999999",
          "2017-09-30T23:59:59.999999999",
          "2017-10-31T23:59:59.999999999",
          "2017-11-30T23:59:59.999999999",
          "2017-12-31T23:59:59.999999999",
          "2018-01-31T23:59:59.999999999",
          "2018-02-28T23:59:59.999999999",
          "2018-03-31T23:59:59.999999999",
          "2018-04-30T23:59:59.999999999",
          "2018-05-31T23:59:59.999999999",
          "2018-06-30T23:59:59.999999999",
          "2018-07-31T23:59:59.999999999",
          "2018-08-31T23:59:59.999999999",
          "2018-09-30T23:59:59.999999999",
          "2018-10-31T23:59:59.999999999",
          "2018-11-30T23:59:59.999999999",
          "2018-12-31T23:59:59.999999999",
          "2019-01-31T23:59:59.999999999",
          "2019-02-28T23:59:59.999999999",
          "2019-03-31T23:59:59.999999999",
          "2019-04-30T23:59:59.999999999",
          "2019-05-31T23:59:59.999999999",
          "2019-06-30T23:59:59.999999999",
          "2019-07-31T23:59:59.999999999",
          "2019-08-31T23:59:59.999999999",
          "2019-09-30T23:59:59.999999999",
          "2019-10-31T23:59:59.999999999",
          "2019-11-30T23:59:59.999999999",
          "2019-12-31T23:59:59.999999999"
         ],
         "y": {
          "bdata": "AAAAAAAAAABSGAQPNx+NvzGI83wfHpm/CmckMFtOn79q5JriPpGkvwAAAAAAAAAA2rMNXkuFjr93hvjj1uWdvwAAAAAAAAAAAAAAAAAAAAAAAAAAAAAAAGFvgslN2ZW/VOHQVZQBtL+ZqACzML6Tv2593w5nGbe/xDZgbWk3o7/yp6QlMnu4vwAAAAAAAAAAXWk2++GPYL8AAAAAAAAAAAAAAAAAAAAAXoUifiV/pb+OpnTboQCWvwAAAAAAAAAAAAAAAAAAAAAAAAAAAAAAAAAAAAAAAAAAAAAAAAAAAAA1hdF/oMatv6H8v51plKW/+poMC/1+oL//ItYgwWOLvwAAAAAAAAAAAAAAAAAAAAAAAAAAAAAAAAAAAAAAAAAAE+8Q7xDvsL8YtI6HKma/v4CruGiitsG/WPl1BM/Msb8HkPU2LfSmvwAAAAAAAAAAAAAAAAAAAABcJaINyJ2Uv1KagHZTWL2/FRCi63Vlub8/JhiVM2nDv4189JqQB7a/DDZUigDdtb8H3RXuYNymvy8praZKRJu/aRj7KRIFur+hSZsYUPe+v39zJdWInIa/+lx8sPYfob+hMF3ipp+BvwAAAAAAAAAAAAAAAAAAAAAAAAAAAAAAAA==",
          "dtype": "f8"
         }
        },
        {
         "mode": "lines",
         "name": "CVX",
         "type": "scatter",
         "x": [
          "2015-02-28T23:59:59.999999999",
          "2015-03-31T23:59:59.999999999",
          "2015-04-30T23:59:59.999999999",
          "2015-05-31T23:59:59.999999999",
          "2015-06-30T23:59:59.999999999",
          "2015-07-31T23:59:59.999999999",
          "2015-08-31T23:59:59.999999999",
          "2015-09-30T23:59:59.999999999",
          "2015-10-31T23:59:59.999999999",
          "2015-11-30T23:59:59.999999999",
          "2015-12-31T23:59:59.999999999",
          "2016-01-31T23:59:59.999999999",
          "2016-02-29T23:59:59.999999999",
          "2016-03-31T23:59:59.999999999",
          "2016-04-30T23:59:59.999999999",
          "2016-05-31T23:59:59.999999999",
          "2016-06-30T23:59:59.999999999",
          "2016-07-31T23:59:59.999999999",
          "2016-08-31T23:59:59.999999999",
          "2016-09-30T23:59:59.999999999",
          "2016-10-31T23:59:59.999999999",
          "2016-11-30T23:59:59.999999999",
          "2016-12-31T23:59:59.999999999",
          "2017-01-31T23:59:59.999999999",
          "2017-02-28T23:59:59.999999999",
          "2017-03-31T23:59:59.999999999",
          "2017-04-30T23:59:59.999999999",
          "2017-05-31T23:59:59.999999999",
          "2017-06-30T23:59:59.999999999",
          "2017-07-31T23:59:59.999999999",
          "2017-08-31T23:59:59.999999999",
          "2017-09-30T23:59:59.999999999",
          "2017-10-31T23:59:59.999999999",
          "2017-11-30T23:59:59.999999999",
          "2017-12-31T23:59:59.999999999",
          "2018-01-31T23:59:59.999999999",
          "2018-02-28T23:59:59.999999999",
          "2018-03-31T23:59:59.999999999",
          "2018-04-30T23:59:59.999999999",
          "2018-05-31T23:59:59.999999999",
          "2018-06-30T23:59:59.999999999",
          "2018-07-31T23:59:59.999999999",
          "2018-08-31T23:59:59.999999999",
          "2018-09-30T23:59:59.999999999",
          "2018-10-31T23:59:59.999999999",
          "2018-11-30T23:59:59.999999999",
          "2018-12-31T23:59:59.999999999",
          "2019-01-31T23:59:59.999999999",
          "2019-02-28T23:59:59.999999999",
          "2019-03-31T23:59:59.999999999",
          "2019-04-30T23:59:59.999999999",
          "2019-05-31T23:59:59.999999999",
          "2019-06-30T23:59:59.999999999",
          "2019-07-31T23:59:59.999999999",
          "2019-08-31T23:59:59.999999999",
          "2019-09-30T23:59:59.999999999",
          "2019-10-31T23:59:59.999999999",
          "2019-11-30T23:59:59.999999999",
          "2019-12-31T23:59:59.999999999"
         ],
         "y": {
          "bdata": "AAAAAAAAAAD4g+DXZVGQvwAAAAAAAAAAP1rLVSuUsr+UQhwLv9DAv6ShrnQtBsq/dSBA4QpU0b/rgV5eUYvSvxgJqyIQQse/6vnD9T3Axr8qnV/GgVHIvzE+KzY5V8y/MJUc1DfVz78wEPGDcgzCv641tCsMeLS/e1jRM1wwt7+UidjXlrisv4hPM9cEx7O/FAG5QzMouL80MWV9YMOyv403DCcBF62/AAAAAAAAAAAAAAAAAAAAAGmyrNZtn6u/pFkEzMaepr/WpO/XzHe2v+7UtRzc7Le/MFFu+MXtvr964nIbfRS9v1tI1Q1qgrK/cbGlS5nstb9fR8oOHNdbv9Q5u/CKfo+/AAAAAAAAAAAAAAAAAAAAAAAAAAAAAAAAEnRbDodtu785qe72Ixm3v/Zy1fuTXl+/grm47bgngb8AAAAAAAAAAL6l9Fr8u1S/q+jKKVAjsL/zSrkLX86gv8EaSL1U7b2/6eEOqwBVrr9Gt1fc6tvBv7Zuos5B2re/aE2wH4G9q79WlHhfp1KavxZeKXfhy6m/f4u9hfF4ub+SK7QqIR6Qv61E9UXL45q/h5Zd5uWisb/jIBltfLWvv9hVZlbn1bS/8i6bsLrUsr+y3SrJW/mnvw==",
          "dtype": "f8"
         }
        }
       ],
       "layout": {
        "legend": {
         "title": {
          "text": "Series"
         }
        },
        "template": {
         "data": {
          "bar": [
           {
            "error_x": {
             "color": "#2a3f5f"
            },
            "error_y": {
             "color": "#2a3f5f"
            },
            "marker": {
             "line": {
              "color": "white",
              "width": 0.5
             },
             "pattern": {
              "fillmode": "overlay",
              "size": 10,
              "solidity": 0.2
             }
            },
            "type": "bar"
           }
          ],
          "barpolar": [
           {
            "marker": {
             "line": {
              "color": "white",
              "width": 0.5
             },
             "pattern": {
              "fillmode": "overlay",
              "size": 10,
              "solidity": 0.2
             }
            },
            "type": "barpolar"
           }
          ],
          "carpet": [
           {
            "aaxis": {
             "endlinecolor": "#2a3f5f",
             "gridcolor": "#C8D4E3",
             "linecolor": "#C8D4E3",
             "minorgridcolor": "#C8D4E3",
             "startlinecolor": "#2a3f5f"
            },
            "baxis": {
             "endlinecolor": "#2a3f5f",
             "gridcolor": "#C8D4E3",
             "linecolor": "#C8D4E3",
             "minorgridcolor": "#C8D4E3",
             "startlinecolor": "#2a3f5f"
            },
            "type": "carpet"
           }
          ],
          "choropleth": [
           {
            "colorbar": {
             "outlinewidth": 0,
             "ticks": ""
            },
            "type": "choropleth"
           }
          ],
          "contour": [
           {
            "colorbar": {
             "outlinewidth": 0,
             "ticks": ""
            },
            "colorscale": [
             [
              0,
              "#0d0887"
             ],
             [
              0.1111111111111111,
              "#46039f"
             ],
             [
              0.2222222222222222,
              "#7201a8"
             ],
             [
              0.3333333333333333,
              "#9c179e"
             ],
             [
              0.4444444444444444,
              "#bd3786"
             ],
             [
              0.5555555555555556,
              "#d8576b"
             ],
             [
              0.6666666666666666,
              "#ed7953"
             ],
             [
              0.7777777777777778,
              "#fb9f3a"
             ],
             [
              0.8888888888888888,
              "#fdca26"
             ],
             [
              1,
              "#f0f921"
             ]
            ],
            "type": "contour"
           }
          ],
          "contourcarpet": [
           {
            "colorbar": {
             "outlinewidth": 0,
             "ticks": ""
            },
            "type": "contourcarpet"
           }
          ],
          "heatmap": [
           {
            "colorbar": {
             "outlinewidth": 0,
             "ticks": ""
            },
            "colorscale": [
             [
              0,
              "#0d0887"
             ],
             [
              0.1111111111111111,
              "#46039f"
             ],
             [
              0.2222222222222222,
              "#7201a8"
             ],
             [
              0.3333333333333333,
              "#9c179e"
             ],
             [
              0.4444444444444444,
              "#bd3786"
             ],
             [
              0.5555555555555556,
              "#d8576b"
             ],
             [
              0.6666666666666666,
              "#ed7953"
             ],
             [
              0.7777777777777778,
              "#fb9f3a"
             ],
             [
              0.8888888888888888,
              "#fdca26"
             ],
             [
              1,
              "#f0f921"
             ]
            ],
            "type": "heatmap"
           }
          ],
          "histogram": [
           {
            "marker": {
             "pattern": {
              "fillmode": "overlay",
              "size": 10,
              "solidity": 0.2
             }
            },
            "type": "histogram"
           }
          ],
          "histogram2d": [
           {
            "colorbar": {
             "outlinewidth": 0,
             "ticks": ""
            },
            "colorscale": [
             [
              0,
              "#0d0887"
             ],
             [
              0.1111111111111111,
              "#46039f"
             ],
             [
              0.2222222222222222,
              "#7201a8"
             ],
             [
              0.3333333333333333,
              "#9c179e"
             ],
             [
              0.4444444444444444,
              "#bd3786"
             ],
             [
              0.5555555555555556,
              "#d8576b"
             ],
             [
              0.6666666666666666,
              "#ed7953"
             ],
             [
              0.7777777777777778,
              "#fb9f3a"
             ],
             [
              0.8888888888888888,
              "#fdca26"
             ],
             [
              1,
              "#f0f921"
             ]
            ],
            "type": "histogram2d"
           }
          ],
          "histogram2dcontour": [
           {
            "colorbar": {
             "outlinewidth": 0,
             "ticks": ""
            },
            "colorscale": [
             [
              0,
              "#0d0887"
             ],
             [
              0.1111111111111111,
              "#46039f"
             ],
             [
              0.2222222222222222,
              "#7201a8"
             ],
             [
              0.3333333333333333,
              "#9c179e"
             ],
             [
              0.4444444444444444,
              "#bd3786"
             ],
             [
              0.5555555555555556,
              "#d8576b"
             ],
             [
              0.6666666666666666,
              "#ed7953"
             ],
             [
              0.7777777777777778,
              "#fb9f3a"
             ],
             [
              0.8888888888888888,
              "#fdca26"
             ],
             [
              1,
              "#f0f921"
             ]
            ],
            "type": "histogram2dcontour"
           }
          ],
          "mesh3d": [
           {
            "colorbar": {
             "outlinewidth": 0,
             "ticks": ""
            },
            "type": "mesh3d"
           }
          ],
          "parcoords": [
           {
            "line": {
             "colorbar": {
              "outlinewidth": 0,
              "ticks": ""
             }
            },
            "type": "parcoords"
           }
          ],
          "pie": [
           {
            "automargin": true,
            "type": "pie"
           }
          ],
          "scatter": [
           {
            "fillpattern": {
             "fillmode": "overlay",
             "size": 10,
             "solidity": 0.2
            },
            "type": "scatter"
           }
          ],
          "scatter3d": [
           {
            "line": {
             "colorbar": {
              "outlinewidth": 0,
              "ticks": ""
             }
            },
            "marker": {
             "colorbar": {
              "outlinewidth": 0,
              "ticks": ""
             }
            },
            "type": "scatter3d"
           }
          ],
          "scattercarpet": [
           {
            "marker": {
             "colorbar": {
              "outlinewidth": 0,
              "ticks": ""
             }
            },
            "type": "scattercarpet"
           }
          ],
          "scattergeo": [
           {
            "marker": {
             "colorbar": {
              "outlinewidth": 0,
              "ticks": ""
             }
            },
            "type": "scattergeo"
           }
          ],
          "scattergl": [
           {
            "marker": {
             "colorbar": {
              "outlinewidth": 0,
              "ticks": ""
             }
            },
            "type": "scattergl"
           }
          ],
          "scattermap": [
           {
            "marker": {
             "colorbar": {
              "outlinewidth": 0,
              "ticks": ""
             }
            },
            "type": "scattermap"
           }
          ],
          "scattermapbox": [
           {
            "marker": {
             "colorbar": {
              "outlinewidth": 0,
              "ticks": ""
             }
            },
            "type": "scattermapbox"
           }
          ],
          "scatterpolar": [
           {
            "marker": {
             "colorbar": {
              "outlinewidth": 0,
              "ticks": ""
             }
            },
            "type": "scatterpolar"
           }
          ],
          "scatterpolargl": [
           {
            "marker": {
             "colorbar": {
              "outlinewidth": 0,
              "ticks": ""
             }
            },
            "type": "scatterpolargl"
           }
          ],
          "scatterternary": [
           {
            "marker": {
             "colorbar": {
              "outlinewidth": 0,
              "ticks": ""
             }
            },
            "type": "scatterternary"
           }
          ],
          "surface": [
           {
            "colorbar": {
             "outlinewidth": 0,
             "ticks": ""
            },
            "colorscale": [
             [
              0,
              "#0d0887"
             ],
             [
              0.1111111111111111,
              "#46039f"
             ],
             [
              0.2222222222222222,
              "#7201a8"
             ],
             [
              0.3333333333333333,
              "#9c179e"
             ],
             [
              0.4444444444444444,
              "#bd3786"
             ],
             [
              0.5555555555555556,
              "#d8576b"
             ],
             [
              0.6666666666666666,
              "#ed7953"
             ],
             [
              0.7777777777777778,
              "#fb9f3a"
             ],
             [
              0.8888888888888888,
              "#fdca26"
             ],
             [
              1,
              "#f0f921"
             ]
            ],
            "type": "surface"
           }
          ],
          "table": [
           {
            "cells": {
             "fill": {
              "color": "#EBF0F8"
             },
             "line": {
              "color": "white"
             }
            },
            "header": {
             "fill": {
              "color": "#C8D4E3"
             },
             "line": {
              "color": "white"
             }
            },
            "type": "table"
           }
          ]
         },
         "layout": {
          "annotationdefaults": {
           "arrowcolor": "#2a3f5f",
           "arrowhead": 0,
           "arrowwidth": 1
          },
          "autotypenumbers": "strict",
          "coloraxis": {
           "colorbar": {
            "outlinewidth": 0,
            "ticks": ""
           }
          },
          "colorscale": {
           "diverging": [
            [
             0,
             "#8e0152"
            ],
            [
             0.1,
             "#c51b7d"
            ],
            [
             0.2,
             "#de77ae"
            ],
            [
             0.3,
             "#f1b6da"
            ],
            [
             0.4,
             "#fde0ef"
            ],
            [
             0.5,
             "#f7f7f7"
            ],
            [
             0.6,
             "#e6f5d0"
            ],
            [
             0.7,
             "#b8e186"
            ],
            [
             0.8,
             "#7fbc41"
            ],
            [
             0.9,
             "#4d9221"
            ],
            [
             1,
             "#276419"
            ]
           ],
           "sequential": [
            [
             0,
             "#0d0887"
            ],
            [
             0.1111111111111111,
             "#46039f"
            ],
            [
             0.2222222222222222,
             "#7201a8"
            ],
            [
             0.3333333333333333,
             "#9c179e"
            ],
            [
             0.4444444444444444,
             "#bd3786"
            ],
            [
             0.5555555555555556,
             "#d8576b"
            ],
            [
             0.6666666666666666,
             "#ed7953"
            ],
            [
             0.7777777777777778,
             "#fb9f3a"
            ],
            [
             0.8888888888888888,
             "#fdca26"
            ],
            [
             1,
             "#f0f921"
            ]
           ],
           "sequentialminus": [
            [
             0,
             "#0d0887"
            ],
            [
             0.1111111111111111,
             "#46039f"
            ],
            [
             0.2222222222222222,
             "#7201a8"
            ],
            [
             0.3333333333333333,
             "#9c179e"
            ],
            [
             0.4444444444444444,
             "#bd3786"
            ],
            [
             0.5555555555555556,
             "#d8576b"
            ],
            [
             0.6666666666666666,
             "#ed7953"
            ],
            [
             0.7777777777777778,
             "#fb9f3a"
            ],
            [
             0.8888888888888888,
             "#fdca26"
            ],
            [
             1,
             "#f0f921"
            ]
           ]
          },
          "colorway": [
           "#636efa",
           "#EF553B",
           "#00cc96",
           "#ab63fa",
           "#FFA15A",
           "#19d3f3",
           "#FF6692",
           "#B6E880",
           "#FF97FF",
           "#FECB52"
          ],
          "font": {
           "color": "#2a3f5f"
          },
          "geo": {
           "bgcolor": "white",
           "lakecolor": "white",
           "landcolor": "white",
           "showlakes": true,
           "showland": true,
           "subunitcolor": "#C8D4E3"
          },
          "hoverlabel": {
           "align": "left"
          },
          "hovermode": "closest",
          "mapbox": {
           "style": "light"
          },
          "paper_bgcolor": "white",
          "plot_bgcolor": "white",
          "polar": {
           "angularaxis": {
            "gridcolor": "#EBF0F8",
            "linecolor": "#EBF0F8",
            "ticks": ""
           },
           "bgcolor": "white",
           "radialaxis": {
            "gridcolor": "#EBF0F8",
            "linecolor": "#EBF0F8",
            "ticks": ""
           }
          },
          "scene": {
           "xaxis": {
            "backgroundcolor": "white",
            "gridcolor": "#DFE8F3",
            "gridwidth": 2,
            "linecolor": "#EBF0F8",
            "showbackground": true,
            "ticks": "",
            "zerolinecolor": "#EBF0F8"
           },
           "yaxis": {
            "backgroundcolor": "white",
            "gridcolor": "#DFE8F3",
            "gridwidth": 2,
            "linecolor": "#EBF0F8",
            "showbackground": true,
            "ticks": "",
            "zerolinecolor": "#EBF0F8"
           },
           "zaxis": {
            "backgroundcolor": "white",
            "gridcolor": "#DFE8F3",
            "gridwidth": 2,
            "linecolor": "#EBF0F8",
            "showbackground": true,
            "ticks": "",
            "zerolinecolor": "#EBF0F8"
           }
          },
          "shapedefaults": {
           "line": {
            "color": "#2a3f5f"
           }
          },
          "ternary": {
           "aaxis": {
            "gridcolor": "#DFE8F3",
            "linecolor": "#A2B1C6",
            "ticks": ""
           },
           "baxis": {
            "gridcolor": "#DFE8F3",
            "linecolor": "#A2B1C6",
            "ticks": ""
           },
           "bgcolor": "white",
           "caxis": {
            "gridcolor": "#DFE8F3",
            "linecolor": "#A2B1C6",
            "ticks": ""
           }
          },
          "title": {
           "x": 0.05
          },
          "xaxis": {
           "automargin": true,
           "gridcolor": "#EBF0F8",
           "linecolor": "#EBF0F8",
           "ticks": "",
           "title": {
            "standoff": 15
           },
           "zerolinecolor": "#EBF0F8",
           "zerolinewidth": 2
          },
          "yaxis": {
           "automargin": true,
           "gridcolor": "#EBF0F8",
           "linecolor": "#EBF0F8",
           "ticks": "",
           "title": {
            "standoff": 15
           },
           "zerolinecolor": "#EBF0F8",
           "zerolinewidth": 2
          }
         }
        },
        "title": {
         "text": "Drawdown curves"
        },
        "xaxis": {
         "title": {
          "text": "Date"
         }
        },
        "yaxis": {
         "title": {
          "text": "Drawdown (%)"
         }
        }
       }
      }
     },
     "metadata": {},
     "output_type": "display_data"
    },
    {
     "data": {
      "application/vnd.plotly.v1+json": {
       "config": {
        "plotlyServerURL": "https://plot.ly"
       },
       "data": [
        {
         "boxmean": "sd",
         "name": "CVaR_95",
         "orientation": "h",
         "type": "box",
         "x": {
          "bdata": "gC8KBqioib9gfnnxUb2Rv6Dhp+fAB5u/gHhJPqtUn7/AMJU8FcKQP4hq0X4fL7C/cOCnZCGPrL8AHQmiW2u+P0DUFMgAZ6M/AL5etDQFnD8AdoUyHlRmPwD9qXHE84k/wO+Unqr+pz9gDTTVtbylP4DLrBl9lLI/sCl54doBvT9gABEmCRvGP0AL/x7tssI/eDNJBL4wwz+gR07GqOi9P4Dj/c7Fx8A/CDUmP3Jewj+AnnsCRIx8vwCF4x4N3JU/AOA/TG4jH79AilX4Zs2TP4DZr3Y5Bqc/wBfdKpCykz9AI5nzq6qcP4BwVanb/Zk/4MHynMk4qT/gExy4BFWsPyC9UiqNmag/gMteOfkzrT9AIIVoj5KEvxC33ZqzQqa/kESRTitltL/wzhTEzf2sv4ChX7F/hZG/gId/KAMdsD+gddAfIRS/P4BTYsThuKs/cH908p54tj8AZ5k6ar+jP4DVQ93y86w/kKA3d2Q7pr9AXWJm2XWTv5Dc3y3XerY/cAR+LCVvwT/gmXBNZQ+1P2BUKMlvYqK/gF16a7RYjz/gik4JpyKqPwDAJkvaFTe/AKveCUPykD9AiY4Z0iOcPwChiJS6x6o/IDRbcsXXpT8=",
          "dtype": "f8"
         }
        },
        {
         "boxmean": "sd",
         "name": "CVaR_90",
         "orientation": "h",
         "type": "box",
         "x": {
          "bdata": "gPwHBKs8c78A7MiOwVuGPwC/ruutbGK/wMHpt61xnr9A0a3xz4KEv7BBTKvfdrO/MNeVrUChrL8Ag2cJM+i9PwB8UzzY/4I/AOwsz4Jxiz8AXmdpskVjPwAwTpw20YA/oBLGuk3JrT8g1210ocmtP+DIvJdsnLE/kAnJnLNIwD9Ia1FBSAfFP1jc9GcYW8I/+Orz+xvQwz+o3VaV4Z7BPxgCuUFJcsA/OL9GPrr4wj8A8pn0gpZtv4DsjV8RUaA/AEA6feOwWj/AvT6INDyWP2AlgspTCKo/wKS/g9Nolj/A1wc/oVebP8B5Ind975g/AANIKp6opD+gylu3DIijP+DgRADvi6A/QED9P1h5pj+AOxHCrimEvzBPuEej/Ke/0AwzYdxHtL9wKcR4xTusv+C2zAPoipi/gL3MU3OFrT+gDsOsNpC9P4BthcWw5qQ/YLIgm/x5sj9AFmIGPjedP8BV4RxdZak/cMu5ZnPLqr9ghlfuk5qVv7AkFr3nZrg/8ARXWOWkwj/wU6+DaO63P1DwN++WvKC/gELHpQKWlz+ACNE1P3euPwBGkV67aIg/AKNlZ4TlmD/gPmDB+OSiP+Aa86V7qa4/gKp8Q03ipz8=",
          "dtype": "f8"
         }
        },
        {
         "boxmean": "sd",
         "name": "CVaR_80",
         "orientation": "h",
         "type": "box",
         "x": {
          "bdata": "gPEJ2ZOre78APCEuRph0PwAVTl24ZYU/gH1nUEFQlL9AkGgGFmqOv/jlhwm3T7S/4Kko+20eoL+w5UywIgi+P4A/DeW/ioE/AO9XwqWhgj8AYuD/aixwP8DjDykUuZA/ANo4/3L+qz/g9unEa9uvP8BjiEIN7rM/6H80nA4twT9wSINJ1LzHP3hzsSeoV8Q/MFIFPGD1wz+AezoMD4XBP5CWs1AD4MA/cKfdFfr1wz8APu7z1wFxv0CYXnL6HKQ/gAPYR7o7oT9AvRxLTGKhP8D9JFLQaaM/YP+8oasOoD8ga3ciNXCiP4BXgFpaD5s/oISctThRpz/Aj4uvwIGoP2DfxvDXC6g/AEh0nxozrT+AwX/ROQGCvzC4OcqmYai/qOU3+T0etL/QSDmS7T6sv5B3G2YhaKG/gG00HoN2pz+QJvEuXou8P6Bkh6iK8qc/gEuviHvEsj8gar+W7sajP0B/wyMCk7A/8DDaJByXp78AT6UxfDeUv/Bv/ttx6LY/AC4FD16ywT8wF4kzOk23P+DUjsW/nJ2/AEV0obyanD9gkHVodtSrP4AfrFE5D4Q/QNqPjY7klz9AEb6F6UmhP2C7Q0oXvqw/gDYbYamdqD8=",
          "dtype": "f8"
         }
        },
        {
         "boxmean": "sd",
         "name": "MVar",
         "orientation": "h",
         "type": "box",
         "x": {
          "bdata": "AMAlPAoRmD8AtHrH03hdPwD3NchdIHY/gBcvdR3fmL+AMdYMd3h6v1gTU3YwbLW/EBLVpNzTpb9QXDDkw4O9PwDozaZRIlC/AODOu3o+SL8AsFEfOM5vPwBsNg2q8XA/oAK9Wqfyoj+gNIJTgQaqPyA48EbAsLQ/cJ9mtcZTwD+AqcgCaArHP1jhwp03lcI/CL4DHhC4xD94K81znzHAP7BfjX4cH74/OBMCNq1OwT8AIeT+kUtxv0DCBENCpZo/ANcCj3Jaij/AiJDyzSScP2B/fsuLeaY/wByG0OfAlj+gNXVe3ZCgP8BcLms60qE/IOckHQ+crD9gL6hhaNqvPxBVeMj9q7A/IGv2gOxGsj8AuG18JvCAvzDf9sXWwKS/aGK+d/u0s7/QQxLdLlWsv4BEjncq/5i/IDDncnx2qz9A4l2J1kW9P4Cz5x0n56k/MC1tsYeetT+AXTLN9gekP6Bc6i4Ynq0/QHsMfqXzp78gacgR6JWSv0DSmTpE57U/oDD6meb8wD8wDudLPmu0P1AH8lizXaC/QHq/3EqQlD8APZg71dSlP4DtP6H/vn+/AO+U1keygT8A/N9jUt2ZP+DC2Zfzm6g/oEFLrej1pT8=",
          "dtype": "f8"
         }
        },
        {
         "boxmean": "sd",
         "name": "TOP3",
         "orientation": "h",
         "type": "box",
         "x": {
          "bdata": "AAAAAAAAAABgrpkmtdeevwDA+3ND2X4/sOZRZxtJrb/gTGggN3anv+AQZmAz5rA/eGlkoYMrsL/AXGwjOEGRv1hH/RU8Z8A/QFzMwYF/mD9QSQ6sYUqgvwDt50I1vG+/wCreCMj3ir9A6bQKMPawP+C2QaQfE6Q/AHLRUamih7+A9LYZNzKVv4CNUFe4EYy/AGNhXsZUhD9AHM0ApCyVPwAbTOHk7X0/ALToL8aXgz/AabNlxOCkPwBhSSheVX+/oGBC4pLorj/A5BVjbAeYPwCACMZ6qw4/ANqBGVfLqT/wSJ9yiVWmv4AZsC+eOok/wLZxtLrwoz8AWz0X/jBvvwAX20/YDoE/AIiY+4IKgz8AYvStb3KIP0AGItL4eKU/wIKJ/l2Tqr/gYQyFSk6ivxAQCSXiGrg/gMJDhNTwhj8AGeQHNDV0P+DTYfW7zLE/wPcxd2p8lD+AaX23RiSOP+BOc3imLa+/0BQ1fxwfsT+wRcgokFyuvwD08lek84U/QJjdqB3Vmz/ANxNtWcSgP6Ch++6tK68/2NdrE7n7tb8AfkyecqOwP0ATGvFUUJw/AJPKHFw3hb8AV2eSZVNrvwBycjij4Ig/AJA1c93epj9AzapLJD2zPw==",
          "dtype": "f8"
         }
        },
        {
         "boxmean": "sd",
         "name": "MSFT",
         "orientation": "h",
         "type": "box",
         "x": {
          "bdata": "IFNw/Jyfsr8AhlhRGh/JP9BrKK+hvKK/sC/UhiKcrb+AjYjzaJKtPwASJGmfbrG/QGlpaWlpkT9YIstUJzzIPwAgHxjZoaA/QNt9sEdKlT8AzMEyB8t8vxB7iJtJkLO/0D6H1ATjtT9w/94XL9i4v5Al338/EbA/0MbHjrGtob+A3RlX75C7P4DCQfT4Low/ADST7Kn1Yz8ASp/0SZ+kPwBLNCPdPXc/gHDR02fynz9gYEXSWK6kP8Dxa9p0OYW/QKxoHOMWnj+g+GogazakP8C5NCE8pJQ/QN3eyFuvir9A//4mvgCsP0DQspcSKJ0/APrqjXOtbr/AjrZAbd29P4Cdu+gFYIg/QF2EAM+qkD8Q8VFrY1e8PwBdFiqeuoq/YKNiAwRNm7+Av16CaD6ZP0Dhyw0xIK0/ABEt6w4QY7/QEongi2SzP0B5Kj55Kq4/wIDXEL2Ykj8oCmL0Auywv+DbaLHGjqM/oLVm7x6Etb/AdzARbtWcP0CZWQtzobI/wCGrVYkCqz+w4Wnxz3q7P9CgPW4CIau/4N+s/jNHtT8AxfMfZqiRPwB+yxBm5Yc/ALAigpBhgT/AMupfKfefP4BhqfLqmqw/AISiCyhgpT8=",
          "dtype": "f8"
         }
        },
        {
         "boxmean": "sd",
         "name": "MRK",
         "orientation": "h",
         "type": "box",
         "x": {
          "bdata": "wCX8RTOHkr/gXAP48n6iP4AZuLRZ5pY/aCGDt7mqsL9gTf6sl0yiP4AeQy39LLa/SLhwJd88tb8gQtNqV1i7P2D3s3SC2J6/AG72gporbb+QWDoUetakv8CYSkwlpoK/wLfZ3mZ7qz9AKiP/bKyiP8B4sdMMopo/wFoKK1JumD+AfzMTVKSSP+BKZVOyCLI/gEFq+R2heL+gM29Z30iuv8ApkDG8lKU/oG8wEM16o7+AToOlvy6rP+A9zYs8BrA/oAApArMYor/gP0shxJqTv2AgcFOJ1KY/IAAAAAAAkL8Af7IFiM9qvwAQV7jahDW/AJQb8KmGZT9E76YrB93BvwDgMFHmgmo/gBKGVI51kj8Ah+p50TKrP5D6WwGpv7W/APIZCqoDcz9Qd04Uyqa0PwA/jFGU/IY/gHn96a00lD9AN/jzG861P8CA2tfQHKU/oBgB81CJoT8A6kIyXE2jP/D+lnz46bM/AIMb3/vhor+gktSdDpCavwAspYU/l7c/wEjhTeallz9QPZJzqnCrvwAhWVtqMno/4Kcnbk72rT8AUAEVUAGFv2DkjPVKe6U/IDhNRSgTm7/Ajp9vPBuePwAqiAMCyXg/IOp1o2Qcpj8=",
          "dtype": "f8"
         }
        },
        {
         "boxmean": "sd",
         "name": "GOOGL",
         "orientation": "h",
         "type": "box",
         "x": {
          "bdata": "QBgEDzcfjb9AkpBa/2qFv4D0b6ZHYHm/ANpiZfhGhL848axoJODLP8CzDV5LhY6/QJ/gqsK3jb+QPWD2gNnDPwAbzRrSoqE/wAhAkaJnlD9gb4LJTdmVvxC5wPLauK2/ALYF2BdZsD9QKEGDRIWyv4AXefJ4qK0/gO7nfu7nrr8ga+BGB/K/PwBpNvvhj2C/QBOdDSZpkj8ABr6uWox9P2CFIn4lf6W/QGa+TSrplT+ghEHpb/ahP8AbDgZT9p4/AAhsiSQlaz9g7fprvDC3PzCUtI3vRrE/MIXRf6DGrb/A2ymti2eRP4AF4aPCOoU/ADqVFJDwkz+gnwfjOiCvPwBiiniAYGk/gAIlj1v/kD/Qgq+nIk2/PxDvEO8Q77C/8AW4SM76rr/AldJLAF2SvxCoMNg3dbQ/gE6FTLsumz/QVJ8Frje2PwDkp/fmtG4/YCWiDcidlL+AiDXmH7C4v4A23fj31pE/4Ny5c+fOrb/ALlb5R8uzPwCgOVH+SEc/oF7e42rQpj+Aq1rJRVGTP6g7YRF7urO/ADFBywMGlr/w5nJbgwHAP0Djvc47M5e/QLXH3HJRmj8AYkvRQIefP8CC7iRuYqI/AEdCY3zMmz8=",
          "dtype": "f8"
         }
        },
        {
         "boxmean": "sd",
         "name": "CVX",
         "orientation": "h",
         "type": "box",
         "x": {
          "bdata": "AITg12VRkL+AGuCNI6etP0Bay1UrlLK/wPbS6to6sL8AzrKy7jO1v1iLmzC/q7W/QLk0VIitmr/4rVVn/XjDPwB7Mn671HM/gBthWg6Ajr8QKV/c8NyjvyCv6q/m8KG/QKG19NlYwj/wRB4GlzGyP4AeZqKbpoe/YCGjo1pqoz8AoG76i/SWv8Ctm/Uz/JK/QPyn7MvSlz9Ah6tUITWSP4BB1T6fpLA/YGyUA+UtrD9wsqzWbZ+rv4BpXza9JoU/0CtlGeJYp7+Aohw/OY95v0BBt/P/5p6/gK+PPJTSgD+g1KaxuNmnP8CIrNeHco2/QFiN4X+Atz9AyXdx3A+Mv4CbtNA4ZJs/gNB5Bomtqj8APBmij/BUPxB0Ww6Hbbu/wMTb6Y5lkz9A9qOKqNm4P4AO2F/MhHq/wDXq5haMkT8ApvRa/LtUvwDxMOYCq6+/AGCcirOCoD8YlczFJkG2v7AGq0EQt7A/MJX1tafYtb+APw2zOZSrP0CMnDUnBKY/ALyPGfHTnj8g9aohyu+Zv2C5pxGWe6q/8CLecfjPtz9ADUQzh+OFv0DOXJeXaqa/AOoBFn2efj8gsclgYz2VvwCQ1hMidYE/gKlvy6SMnT8=",
          "dtype": "f8"
         }
        }
       ],
       "layout": {
        "template": {
         "data": {
          "bar": [
           {
            "error_x": {
             "color": "#2a3f5f"
            },
            "error_y": {
             "color": "#2a3f5f"
            },
            "marker": {
             "line": {
              "color": "white",
              "width": 0.5
             },
             "pattern": {
              "fillmode": "overlay",
              "size": 10,
              "solidity": 0.2
             }
            },
            "type": "bar"
           }
          ],
          "barpolar": [
           {
            "marker": {
             "line": {
              "color": "white",
              "width": 0.5
             },
             "pattern": {
              "fillmode": "overlay",
              "size": 10,
              "solidity": 0.2
             }
            },
            "type": "barpolar"
           }
          ],
          "carpet": [
           {
            "aaxis": {
             "endlinecolor": "#2a3f5f",
             "gridcolor": "#C8D4E3",
             "linecolor": "#C8D4E3",
             "minorgridcolor": "#C8D4E3",
             "startlinecolor": "#2a3f5f"
            },
            "baxis": {
             "endlinecolor": "#2a3f5f",
             "gridcolor": "#C8D4E3",
             "linecolor": "#C8D4E3",
             "minorgridcolor": "#C8D4E3",
             "startlinecolor": "#2a3f5f"
            },
            "type": "carpet"
           }
          ],
          "choropleth": [
           {
            "colorbar": {
             "outlinewidth": 0,
             "ticks": ""
            },
            "type": "choropleth"
           }
          ],
          "contour": [
           {
            "colorbar": {
             "outlinewidth": 0,
             "ticks": ""
            },
            "colorscale": [
             [
              0,
              "#0d0887"
             ],
             [
              0.1111111111111111,
              "#46039f"
             ],
             [
              0.2222222222222222,
              "#7201a8"
             ],
             [
              0.3333333333333333,
              "#9c179e"
             ],
             [
              0.4444444444444444,
              "#bd3786"
             ],
             [
              0.5555555555555556,
              "#d8576b"
             ],
             [
              0.6666666666666666,
              "#ed7953"
             ],
             [
              0.7777777777777778,
              "#fb9f3a"
             ],
             [
              0.8888888888888888,
              "#fdca26"
             ],
             [
              1,
              "#f0f921"
             ]
            ],
            "type": "contour"
           }
          ],
          "contourcarpet": [
           {
            "colorbar": {
             "outlinewidth": 0,
             "ticks": ""
            },
            "type": "contourcarpet"
           }
          ],
          "heatmap": [
           {
            "colorbar": {
             "outlinewidth": 0,
             "ticks": ""
            },
            "colorscale": [
             [
              0,
              "#0d0887"
             ],
             [
              0.1111111111111111,
              "#46039f"
             ],
             [
              0.2222222222222222,
              "#7201a8"
             ],
             [
              0.3333333333333333,
              "#9c179e"
             ],
             [
              0.4444444444444444,
              "#bd3786"
             ],
             [
              0.5555555555555556,
              "#d8576b"
             ],
             [
              0.6666666666666666,
              "#ed7953"
             ],
             [
              0.7777777777777778,
              "#fb9f3a"
             ],
             [
              0.8888888888888888,
              "#fdca26"
             ],
             [
              1,
              "#f0f921"
             ]
            ],
            "type": "heatmap"
           }
          ],
          "histogram": [
           {
            "marker": {
             "pattern": {
              "fillmode": "overlay",
              "size": 10,
              "solidity": 0.2
             }
            },
            "type": "histogram"
           }
          ],
          "histogram2d": [
           {
            "colorbar": {
             "outlinewidth": 0,
             "ticks": ""
            },
            "colorscale": [
             [
              0,
              "#0d0887"
             ],
             [
              0.1111111111111111,
              "#46039f"
             ],
             [
              0.2222222222222222,
              "#7201a8"
             ],
             [
              0.3333333333333333,
              "#9c179e"
             ],
             [
              0.4444444444444444,
              "#bd3786"
             ],
             [
              0.5555555555555556,
              "#d8576b"
             ],
             [
              0.6666666666666666,
              "#ed7953"
             ],
             [
              0.7777777777777778,
              "#fb9f3a"
             ],
             [
              0.8888888888888888,
              "#fdca26"
             ],
             [
              1,
              "#f0f921"
             ]
            ],
            "type": "histogram2d"
           }
          ],
          "histogram2dcontour": [
           {
            "colorbar": {
             "outlinewidth": 0,
             "ticks": ""
            },
            "colorscale": [
             [
              0,
              "#0d0887"
             ],
             [
              0.1111111111111111,
              "#46039f"
             ],
             [
              0.2222222222222222,
              "#7201a8"
             ],
             [
              0.3333333333333333,
              "#9c179e"
             ],
             [
              0.4444444444444444,
              "#bd3786"
             ],
             [
              0.5555555555555556,
              "#d8576b"
             ],
             [
              0.6666666666666666,
              "#ed7953"
             ],
             [
              0.7777777777777778,
              "#fb9f3a"
             ],
             [
              0.8888888888888888,
              "#fdca26"
             ],
             [
              1,
              "#f0f921"
             ]
            ],
            "type": "histogram2dcontour"
           }
          ],
          "mesh3d": [
           {
            "colorbar": {
             "outlinewidth": 0,
             "ticks": ""
            },
            "type": "mesh3d"
           }
          ],
          "parcoords": [
           {
            "line": {
             "colorbar": {
              "outlinewidth": 0,
              "ticks": ""
             }
            },
            "type": "parcoords"
           }
          ],
          "pie": [
           {
            "automargin": true,
            "type": "pie"
           }
          ],
          "scatter": [
           {
            "fillpattern": {
             "fillmode": "overlay",
             "size": 10,
             "solidity": 0.2
            },
            "type": "scatter"
           }
          ],
          "scatter3d": [
           {
            "line": {
             "colorbar": {
              "outlinewidth": 0,
              "ticks": ""
             }
            },
            "marker": {
             "colorbar": {
              "outlinewidth": 0,
              "ticks": ""
             }
            },
            "type": "scatter3d"
           }
          ],
          "scattercarpet": [
           {
            "marker": {
             "colorbar": {
              "outlinewidth": 0,
              "ticks": ""
             }
            },
            "type": "scattercarpet"
           }
          ],
          "scattergeo": [
           {
            "marker": {
             "colorbar": {
              "outlinewidth": 0,
              "ticks": ""
             }
            },
            "type": "scattergeo"
           }
          ],
          "scattergl": [
           {
            "marker": {
             "colorbar": {
              "outlinewidth": 0,
              "ticks": ""
             }
            },
            "type": "scattergl"
           }
          ],
          "scattermap": [
           {
            "marker": {
             "colorbar": {
              "outlinewidth": 0,
              "ticks": ""
             }
            },
            "type": "scattermap"
           }
          ],
          "scattermapbox": [
           {
            "marker": {
             "colorbar": {
              "outlinewidth": 0,
              "ticks": ""
             }
            },
            "type": "scattermapbox"
           }
          ],
          "scatterpolar": [
           {
            "marker": {
             "colorbar": {
              "outlinewidth": 0,
              "ticks": ""
             }
            },
            "type": "scatterpolar"
           }
          ],
          "scatterpolargl": [
           {
            "marker": {
             "colorbar": {
              "outlinewidth": 0,
              "ticks": ""
             }
            },
            "type": "scatterpolargl"
           }
          ],
          "scatterternary": [
           {
            "marker": {
             "colorbar": {
              "outlinewidth": 0,
              "ticks": ""
             }
            },
            "type": "scatterternary"
           }
          ],
          "surface": [
           {
            "colorbar": {
             "outlinewidth": 0,
             "ticks": ""
            },
            "colorscale": [
             [
              0,
              "#0d0887"
             ],
             [
              0.1111111111111111,
              "#46039f"
             ],
             [
              0.2222222222222222,
              "#7201a8"
             ],
             [
              0.3333333333333333,
              "#9c179e"
             ],
             [
              0.4444444444444444,
              "#bd3786"
             ],
             [
              0.5555555555555556,
              "#d8576b"
             ],
             [
              0.6666666666666666,
              "#ed7953"
             ],
             [
              0.7777777777777778,
              "#fb9f3a"
             ],
             [
              0.8888888888888888,
              "#fdca26"
             ],
             [
              1,
              "#f0f921"
             ]
            ],
            "type": "surface"
           }
          ],
          "table": [
           {
            "cells": {
             "fill": {
              "color": "#EBF0F8"
             },
             "line": {
              "color": "white"
             }
            },
            "header": {
             "fill": {
              "color": "#C8D4E3"
             },
             "line": {
              "color": "white"
             }
            },
            "type": "table"
           }
          ]
         },
         "layout": {
          "annotationdefaults": {
           "arrowcolor": "#2a3f5f",
           "arrowhead": 0,
           "arrowwidth": 1
          },
          "autotypenumbers": "strict",
          "coloraxis": {
           "colorbar": {
            "outlinewidth": 0,
            "ticks": ""
           }
          },
          "colorscale": {
           "diverging": [
            [
             0,
             "#8e0152"
            ],
            [
             0.1,
             "#c51b7d"
            ],
            [
             0.2,
             "#de77ae"
            ],
            [
             0.3,
             "#f1b6da"
            ],
            [
             0.4,
             "#fde0ef"
            ],
            [
             0.5,
             "#f7f7f7"
            ],
            [
             0.6,
             "#e6f5d0"
            ],
            [
             0.7,
             "#b8e186"
            ],
            [
             0.8,
             "#7fbc41"
            ],
            [
             0.9,
             "#4d9221"
            ],
            [
             1,
             "#276419"
            ]
           ],
           "sequential": [
            [
             0,
             "#0d0887"
            ],
            [
             0.1111111111111111,
             "#46039f"
            ],
            [
             0.2222222222222222,
             "#7201a8"
            ],
            [
             0.3333333333333333,
             "#9c179e"
            ],
            [
             0.4444444444444444,
             "#bd3786"
            ],
            [
             0.5555555555555556,
             "#d8576b"
            ],
            [
             0.6666666666666666,
             "#ed7953"
            ],
            [
             0.7777777777777778,
             "#fb9f3a"
            ],
            [
             0.8888888888888888,
             "#fdca26"
            ],
            [
             1,
             "#f0f921"
            ]
           ],
           "sequentialminus": [
            [
             0,
             "#0d0887"
            ],
            [
             0.1111111111111111,
             "#46039f"
            ],
            [
             0.2222222222222222,
             "#7201a8"
            ],
            [
             0.3333333333333333,
             "#9c179e"
            ],
            [
             0.4444444444444444,
             "#bd3786"
            ],
            [
             0.5555555555555556,
             "#d8576b"
            ],
            [
             0.6666666666666666,
             "#ed7953"
            ],
            [
             0.7777777777777778,
             "#fb9f3a"
            ],
            [
             0.8888888888888888,
             "#fdca26"
            ],
            [
             1,
             "#f0f921"
            ]
           ]
          },
          "colorway": [
           "#636efa",
           "#EF553B",
           "#00cc96",
           "#ab63fa",
           "#FFA15A",
           "#19d3f3",
           "#FF6692",
           "#B6E880",
           "#FF97FF",
           "#FECB52"
          ],
          "font": {
           "color": "#2a3f5f"
          },
          "geo": {
           "bgcolor": "white",
           "lakecolor": "white",
           "landcolor": "white",
           "showlakes": true,
           "showland": true,
           "subunitcolor": "#C8D4E3"
          },
          "hoverlabel": {
           "align": "left"
          },
          "hovermode": "closest",
          "mapbox": {
           "style": "light"
          },
          "paper_bgcolor": "white",
          "plot_bgcolor": "white",
          "polar": {
           "angularaxis": {
            "gridcolor": "#EBF0F8",
            "linecolor": "#EBF0F8",
            "ticks": ""
           },
           "bgcolor": "white",
           "radialaxis": {
            "gridcolor": "#EBF0F8",
            "linecolor": "#EBF0F8",
            "ticks": ""
           }
          },
          "scene": {
           "xaxis": {
            "backgroundcolor": "white",
            "gridcolor": "#DFE8F3",
            "gridwidth": 2,
            "linecolor": "#EBF0F8",
            "showbackground": true,
            "ticks": "",
            "zerolinecolor": "#EBF0F8"
           },
           "yaxis": {
            "backgroundcolor": "white",
            "gridcolor": "#DFE8F3",
            "gridwidth": 2,
            "linecolor": "#EBF0F8",
            "showbackground": true,
            "ticks": "",
            "zerolinecolor": "#EBF0F8"
           },
           "zaxis": {
            "backgroundcolor": "white",
            "gridcolor": "#DFE8F3",
            "gridwidth": 2,
            "linecolor": "#EBF0F8",
            "showbackground": true,
            "ticks": "",
            "zerolinecolor": "#EBF0F8"
           }
          },
          "shapedefaults": {
           "line": {
            "color": "#2a3f5f"
           }
          },
          "ternary": {
           "aaxis": {
            "gridcolor": "#DFE8F3",
            "linecolor": "#A2B1C6",
            "ticks": ""
           },
           "baxis": {
            "gridcolor": "#DFE8F3",
            "linecolor": "#A2B1C6",
            "ticks": ""
           },
           "bgcolor": "white",
           "caxis": {
            "gridcolor": "#DFE8F3",
            "linecolor": "#A2B1C6",
            "ticks": ""
           }
          },
          "title": {
           "x": 0.05
          },
          "xaxis": {
           "automargin": true,
           "gridcolor": "#EBF0F8",
           "linecolor": "#EBF0F8",
           "ticks": "",
           "title": {
            "standoff": 15
           },
           "zerolinecolor": "#EBF0F8",
           "zerolinewidth": 2
          },
          "yaxis": {
           "automargin": true,
           "gridcolor": "#EBF0F8",
           "linecolor": "#EBF0F8",
           "ticks": "",
           "title": {
            "standoff": 15
           },
           "zerolinecolor": "#EBF0F8",
           "zerolinewidth": 2
          }
         }
        },
        "title": {
         "text": "Distribution of period returns"
        },
        "xaxis": {
         "title": {
          "text": "Return"
         }
        }
       }
      }
     },
     "metadata": {},
     "output_type": "display_data"
    }
   ],
   "source": [
    "# print last weights for both strategies\n",
    "print(\"\\n===== LAST CVaR WEIGHTS (|w| ≥ {:.4f}) =====\".format(SHOW_ABS_GT))\n",
    "print(w_cvar_80.iloc[-1][w_cvar_80.iloc[-1].abs() >= SHOW_ABS_GT].round(6).to_string())\n",
    "\n",
    "print(\"\\n===== LAST MVar WEIGHTS (|w| ≥ {:.4f}) =====\".format(SHOW_ABS_GT))\n",
    "print(w_mv.iloc[-1][w_mv.iloc[-1].abs() >= SHOW_ABS_GT].round(6).to_string())\n",
    "\n",
    "# ── equity curves ──────────────────────────────────────────────────── #\n",
    "series_equity = {\n",
    "    \"CVaR_95\": equity_cvar_95,\n",
    "    \"CVaR_90\": equity_cvar_90,\n",
    "    \"CVaR_80\": equity_cvar_80,\n",
    "    \"CVaR_99\": equity_cvar_99,\n",
    "    \"MVar\": equity_mv,\n",
    "    \"TOP3\": top3_eq,\n",
    "} | baselines\n",
    "line_chart(series_equity, f\"Equity curve — re-balance = {FREQ}\", \"Portfolio value ($)\")\n",
    "\n",
    "# ── KPI charts (rolling CVaR, σ, Sharpe, drawdowns, boxplot) ───────── #\n",
    "returns = {k: pct_ret(v) for k, v in series_equity.items()}\n",
    "\n",
    "\n",
    "# 1. Rolling CVaR\n",
    "# rolling_cvar_series = {k: rolling_cvar(r, BETA, window) for k, r in returns.items()}\n",
    "# line_chart(\n",
    "#     rolling_cvar_series,\n",
    "#     f\"Rolling {int(BETA*100)}% CVaR (window={window})\",\n",
    "#     \"CVaR (mean loss)\",\n",
    "# )\n",
    "\n",
    "# 2. Rolling volatility σ\n",
    "rolling_vol = {k: r.rolling(window).std() for k, r in returns.items()}\n",
    "line_chart(rolling_vol, f\"Rolling volatility σ (window={window})\", \"Std‑dev of returns\")\n",
    "\n",
    "# 3. Rolling Sharpe\n",
    "rolling_sharpe = {\n",
    "    k: r.rolling(window).mean() / r.rolling(window).std() for k, r in returns.items()\n",
    "}\n",
    "line_chart(rolling_sharpe, f\"Rolling Sharpe ratio (window={window})\", \"Sharpe ≈ μ/σ\")\n",
    "\n",
    "# 4. Drawdowns\n",
    "drawdowns = {k: drawdown_curve(eq) for k, eq in series_equity.items()}\n",
    "line_chart(drawdowns, \"Drawdown curves\", \"Drawdown (%)\")\n",
    "\n",
    "# 5. Box‑plot of period returns\n",
    "boxplot(returns, \"Distribution of period returns\")\n",
    "\n",
    "\n",
    "# if __name__ == \"__main__\":\n",
    "#     _run_cli()"
   ]
  },
  {
   "cell_type": "code",
   "execution_count": 32,
   "id": "8d88bc63",
   "metadata": {},
   "outputs": [],
   "source": [
    "from walk_forward_explain import walk_forward_explain\n"
   ]
  },
  {
   "cell_type": "code",
   "execution_count": 33,
   "id": "22998275",
   "metadata": {},
   "outputs": [],
   "source": [
    "equity_cvar_90, w_cvar_90, rc_cvar_90 = walk_forward_explain(\n",
    "    prices,\n",
    "    lambda R: optimise_cvar(R, 0.90, TARGET_RETURN, SHORT_CAP),\n",
    "    INITIAL_CASH,\n",
    "    FREQ,\n",
    "    label=\"CVaR 90\",\n",
    "    rf=1,\n",
    "    as_pct=True\n",
    ")\n",
    "equity_cvar_80, w_cvar_80, rc_cvar_80 = walk_forward_explain(\n",
    "    prices,\n",
    "    lambda R: optimise_cvar(R, 0.80, TARGET_RETURN, SHORT_CAP),\n",
    "    INITIAL_CASH,\n",
    "    FREQ,\n",
    "    label=\"CVaR 80\",\n",
    "    rf=1,\n",
    "    as_pct=False,\n",
    ")\n",
    "\n",
    "\n"
   ]
  },
  {
   "cell_type": "code",
   "execution_count": 34,
   "id": "82ea6ace",
   "metadata": {},
   "outputs": [],
   "source": [
    "equity_mv, w_mv, rc_mv = walk_forward_explain(\n",
    "    prices,\n",
    "    lambda R: optimize_mean_variance(R, TARGET_RETURN, SHORT_CAP),\n",
    "    INITIAL_CASH,\n",
    "    FREQ,\n",
    "    label=\"Mean-Variance\",\n",
    "    rf=1,\n",
    "    as_pct=False,\n",
    ")"
   ]
  },
  {
   "cell_type": "code",
   "execution_count": 35,
   "id": "dc905706",
   "metadata": {},
   "outputs": [],
   "source": [
    "# from explainability import plot_risk_contributions\n",
    "\n",
    "# fig = plot_risk_contributions(\n",
    "#     {\n",
    "#         \"CVaR 90\": rc_cvar_90.mean(),\n",
    "#         \"CVaR 80\": rc_cvar_80.mean(),\n",
    "#         \"Mean-Var\": rc_mv.mean(),\n",
    "#         # add more strategies here e.g. {\"CVaR 95\": rc_cvar_95.mean()}\n",
    "#     },\n",
    "#     chart=\"pie\",                            # or \"pie\"\n",
    "#     title=\"Average risk attribution (2010-2015 back-test)\",\n",
    "# )\n",
    "# # fig.write_html(\"risk_attribution.html\")     # drop into PowerPoint via Web Viewer\n",
    "# fig.show()"
   ]
  },
  {
   "cell_type": "code",
   "execution_count": 36,
   "id": "0d5783b8",
   "metadata": {},
   "outputs": [
    {
     "data": {
      "application/vnd.plotly.v1+json": {
       "config": {
        "plotlyServerURL": "https://plot.ly"
       },
       "data": [
        {
         "hovertemplate": "asset=GOOGL<br>date=%{x}<br>Sharpe contribution=%{text}<extra></extra>",
         "legendgroup": "GOOGL",
         "marker": {
          "color": "#636efa",
          "pattern": {
           "shape": ""
          }
         },
         "name": "GOOGL",
         "orientation": "v",
         "showlegend": true,
         "text": {
          "bdata": "FK5H4XoU+j/hehSuR+HqP7gehetRuOY/rkfhehSu5z+F61G4HoUjQHE9CtejcCJA",
          "dtype": "f8"
         },
         "textposition": "auto",
         "type": "bar",
         "x": [
          "2015-01-31T23:59:59.999999999",
          "2015-03-31T23:59:59.999999999",
          "2015-04-30T23:59:59.999999999",
          "2015-07-31T23:59:59.999999999",
          "2015-08-31T23:59:59.999999999",
          "2015-09-30T23:59:59.999999999"
         ],
         "xaxis": "x",
         "y": {
          "bdata": "FK5H4XoU+j/hehSuR+HqP7gehetRuOY/rkfhehSu5z+F61G4HoUjQHE9CtejcCJA",
          "dtype": "f8"
         },
         "yaxis": "y"
        },
        {
         "hovertemplate": "asset=MRK<br>date=%{x}<br>Sharpe contribution=%{text}<extra></extra>",
         "legendgroup": "MRK",
         "marker": {
          "color": "#EF553B",
          "pattern": {
           "shape": ""
          }
         },
         "name": "MRK",
         "orientation": "v",
         "showlegend": true,
         "text": {
          "bdata": "AAAAAAAA/D97FK5H4XrkPz0K16NwPeo/PQrXo3A96j+uR+F6FK7nPzMzMzMzM+M/16NwPQrX4z+amZmZmZnpP5qZmZmZmek/hetRuB6F6z9xPQrXo3DtPzMzMzMzM+s/w/UoXI/C5T9xPQrXo3DlP1K4HoXrUeg/w/UoXI/C5T/Xo3A9CtfjPw==",
          "dtype": "f8"
         },
         "textposition": "auto",
         "type": "bar",
         "x": [
          "2015-02-28T23:59:59.999999999",
          "2017-05-31T23:59:59.999999999",
          "2017-09-30T23:59:59.999999999",
          "2017-10-31T23:59:59.999999999",
          "2017-11-30T23:59:59.999999999",
          "2017-12-31T23:59:59.999999999",
          "2018-02-28T23:59:59.999999999",
          "2018-03-31T23:59:59.999999999",
          "2018-04-30T23:59:59.999999999",
          "2018-05-31T23:59:59.999999999",
          "2018-06-30T23:59:59.999999999",
          "2018-07-31T23:59:59.999999999",
          "2018-08-31T23:59:59.999999999",
          "2018-09-30T23:59:59.999999999",
          "2018-10-31T23:59:59.999999999",
          "2018-11-30T23:59:59.999999999",
          "2019-02-28T23:59:59.999999999"
         ],
         "xaxis": "x",
         "y": {
          "bdata": "AAAAAAAA/D97FK5H4XrkPz0K16NwPeo/PQrXo3A96j+uR+F6FK7nPzMzMzMzM+M/16NwPQrX4z+amZmZmZnpP5qZmZmZmek/hetRuB6F6z9xPQrXo3DtPzMzMzMzM+s/w/UoXI/C5T9xPQrXo3DlP1K4HoXrUeg/w/UoXI/C5T/Xo3A9CtfjPw==",
          "dtype": "f8"
         },
         "yaxis": "y"
        },
        {
         "hovertemplate": "asset=COP<br>date=%{x}<br>Sharpe contribution=%{text}<extra></extra>",
         "legendgroup": "COP",
         "marker": {
          "color": "#00cc96",
          "pattern": {
           "shape": ""
          }
         },
         "name": "COP",
         "orientation": "v",
         "showlegend": true,
         "text": {
          "bdata": "AAAAAAAA6D8=",
          "dtype": "f8"
         },
         "textposition": "auto",
         "type": "bar",
         "x": [
          "2015-05-31T23:59:59.999999999"
         ],
         "xaxis": "x",
         "y": {
          "bdata": "AAAAAAAA6D8=",
          "dtype": "f8"
         },
         "yaxis": "y"
        },
        {
         "hovertemplate": "asset=MSFT<br>date=%{x}<br>Sharpe contribution=%{text}<extra></extra>",
         "legendgroup": "MSFT",
         "marker": {
          "color": "#ab63fa",
          "pattern": {
           "shape": ""
          }
         },
         "name": "MSFT",
         "orientation": "v",
         "showlegend": true,
         "text": {
          "bdata": "16NwPQrXB0A=",
          "dtype": "f8"
         },
         "textposition": "auto",
         "type": "bar",
         "x": [
          "2015-06-30T23:59:59.999999999"
         ],
         "xaxis": "x",
         "y": {
          "bdata": "16NwPQrXB0A=",
          "dtype": "f8"
         },
         "yaxis": "y"
        },
        {
         "hovertemplate": "asset=XOM<br>date=%{x}<br>Sharpe contribution=%{text}<extra></extra>",
         "legendgroup": "XOM",
         "marker": {
          "color": "#FFA15A",
          "pattern": {
           "shape": ""
          }
         },
         "name": "XOM",
         "orientation": "v",
         "showlegend": true,
         "text": {
          "bdata": "9ihcj8L16D9mZmZmZmbmP8P1KFyPwuU/PQrXo3A98j8UrkfhehTyPxSuR+F6FO4/hetRuB6F4z/NzMzMzMzkP65H4XoUruc/CtejcD0K5z+uR+F6FK7nP65H4XoUru8/UrgehetR8D/Xo3A9CtfrPzMzMzMzM+M/ZmZmZmZm5j9cj8L1KFznP1K4HoXrUeg/uB6F61G45j+F61G4HoXrP3sUrkfheuw/mpmZmZmZ6T9I4XoUrkfpPw==",
          "dtype": "f8"
         },
         "textposition": "auto",
         "type": "bar",
         "x": [
          "2015-10-31T23:59:59.999999999",
          "2015-11-30T23:59:59.999999999",
          "2015-12-31T23:59:59.999999999",
          "2016-01-31T23:59:59.999999999",
          "2016-02-29T23:59:59.999999999",
          "2016-03-31T23:59:59.999999999",
          "2016-04-30T23:59:59.999999999",
          "2016-05-31T23:59:59.999999999",
          "2017-06-30T23:59:59.999999999",
          "2017-07-31T23:59:59.999999999",
          "2017-08-31T23:59:59.999999999",
          "2018-01-31T23:59:59.999999999",
          "2018-12-31T23:59:59.999999999",
          "2019-01-31T23:59:59.999999999",
          "2019-03-31T23:59:59.999999999",
          "2019-04-30T23:59:59.999999999",
          "2019-05-31T23:59:59.999999999",
          "2019-06-30T23:59:59.999999999",
          "2019-07-31T23:59:59.999999999",
          "2019-08-31T23:59:59.999999999",
          "2019-09-30T23:59:59.999999999",
          "2019-10-31T23:59:59.999999999",
          "2019-11-30T23:59:59.999999999"
         ],
         "xaxis": "x",
         "y": {
          "bdata": "9ihcj8L16D9mZmZmZmbmP8P1KFyPwuU/PQrXo3A98j8UrkfhehTyPxSuR+F6FO4/hetRuB6F4z/NzMzMzMzkP65H4XoUruc/CtejcD0K5z+uR+F6FK7nP65H4XoUru8/UrgehetR8D/Xo3A9CtfrPzMzMzMzM+M/ZmZmZmZm5j9cj8L1KFznP1K4HoXrUeg/uB6F61G45j+F61G4HoXrP3sUrkfheuw/mpmZmZmZ6T9I4XoUrkfpPw==",
          "dtype": "f8"
         },
         "yaxis": "y"
        },
        {
         "hovertemplate": "asset=JNJ<br>date=%{x}<br>Sharpe contribution=%{text}<extra></extra>",
         "legendgroup": "JNJ",
         "marker": {
          "color": "#19d3f3",
          "pattern": {
           "shape": ""
          }
         },
         "name": "JNJ",
         "orientation": "v",
         "showlegend": true,
         "text": {
          "bdata": "j8L1KFyP4j9xPQrXo3D1PwrXo3A9Cvc/KVyPwvUo9D+F61G4HoXzPz0K16NwPfY/SOF6FK5H9T/2KFyPwvX0P2ZmZmZmZvY/uB6F61G48j+F61G4HoXjPw==",
          "dtype": "f8"
         },
         "textposition": "auto",
         "type": "bar",
         "x": [
          "2016-06-30T23:59:59.999999999",
          "2016-07-31T23:59:59.999999999",
          "2016-08-31T23:59:59.999999999",
          "2016-09-30T23:59:59.999999999",
          "2016-10-31T23:59:59.999999999",
          "2016-11-30T23:59:59.999999999",
          "2016-12-31T23:59:59.999999999",
          "2017-01-31T23:59:59.999999999",
          "2017-02-28T23:59:59.999999999",
          "2017-03-31T23:59:59.999999999",
          "2017-04-30T23:59:59.999999999"
         ],
         "xaxis": "x",
         "y": {
          "bdata": "j8L1KFyP4j9xPQrXo3D1PwrXo3A9Cvc/KVyPwvUo9D+F61G4HoXzPz0K16NwPfY/SOF6FK5H9T/2KFyPwvX0P2ZmZmZmZvY/uB6F61G48j+F61G4HoXjPw==",
          "dtype": "f8"
         },
         "yaxis": "y"
        }
       ],
       "layout": {
        "barmode": "relative",
        "height": 400,
        "legend": {
         "title": {
          "text": "asset"
         },
         "tracegroupgap": 0
        },
        "showlegend": true,
        "template": {
         "data": {
          "bar": [
           {
            "error_x": {
             "color": "#2a3f5f"
            },
            "error_y": {
             "color": "#2a3f5f"
            },
            "marker": {
             "line": {
              "color": "#E5ECF6",
              "width": 0.5
             },
             "pattern": {
              "fillmode": "overlay",
              "size": 10,
              "solidity": 0.2
             }
            },
            "type": "bar"
           }
          ],
          "barpolar": [
           {
            "marker": {
             "line": {
              "color": "#E5ECF6",
              "width": 0.5
             },
             "pattern": {
              "fillmode": "overlay",
              "size": 10,
              "solidity": 0.2
             }
            },
            "type": "barpolar"
           }
          ],
          "carpet": [
           {
            "aaxis": {
             "endlinecolor": "#2a3f5f",
             "gridcolor": "white",
             "linecolor": "white",
             "minorgridcolor": "white",
             "startlinecolor": "#2a3f5f"
            },
            "baxis": {
             "endlinecolor": "#2a3f5f",
             "gridcolor": "white",
             "linecolor": "white",
             "minorgridcolor": "white",
             "startlinecolor": "#2a3f5f"
            },
            "type": "carpet"
           }
          ],
          "choropleth": [
           {
            "colorbar": {
             "outlinewidth": 0,
             "ticks": ""
            },
            "type": "choropleth"
           }
          ],
          "contour": [
           {
            "colorbar": {
             "outlinewidth": 0,
             "ticks": ""
            },
            "colorscale": [
             [
              0,
              "#0d0887"
             ],
             [
              0.1111111111111111,
              "#46039f"
             ],
             [
              0.2222222222222222,
              "#7201a8"
             ],
             [
              0.3333333333333333,
              "#9c179e"
             ],
             [
              0.4444444444444444,
              "#bd3786"
             ],
             [
              0.5555555555555556,
              "#d8576b"
             ],
             [
              0.6666666666666666,
              "#ed7953"
             ],
             [
              0.7777777777777778,
              "#fb9f3a"
             ],
             [
              0.8888888888888888,
              "#fdca26"
             ],
             [
              1,
              "#f0f921"
             ]
            ],
            "type": "contour"
           }
          ],
          "contourcarpet": [
           {
            "colorbar": {
             "outlinewidth": 0,
             "ticks": ""
            },
            "type": "contourcarpet"
           }
          ],
          "heatmap": [
           {
            "colorbar": {
             "outlinewidth": 0,
             "ticks": ""
            },
            "colorscale": [
             [
              0,
              "#0d0887"
             ],
             [
              0.1111111111111111,
              "#46039f"
             ],
             [
              0.2222222222222222,
              "#7201a8"
             ],
             [
              0.3333333333333333,
              "#9c179e"
             ],
             [
              0.4444444444444444,
              "#bd3786"
             ],
             [
              0.5555555555555556,
              "#d8576b"
             ],
             [
              0.6666666666666666,
              "#ed7953"
             ],
             [
              0.7777777777777778,
              "#fb9f3a"
             ],
             [
              0.8888888888888888,
              "#fdca26"
             ],
             [
              1,
              "#f0f921"
             ]
            ],
            "type": "heatmap"
           }
          ],
          "histogram": [
           {
            "marker": {
             "pattern": {
              "fillmode": "overlay",
              "size": 10,
              "solidity": 0.2
             }
            },
            "type": "histogram"
           }
          ],
          "histogram2d": [
           {
            "colorbar": {
             "outlinewidth": 0,
             "ticks": ""
            },
            "colorscale": [
             [
              0,
              "#0d0887"
             ],
             [
              0.1111111111111111,
              "#46039f"
             ],
             [
              0.2222222222222222,
              "#7201a8"
             ],
             [
              0.3333333333333333,
              "#9c179e"
             ],
             [
              0.4444444444444444,
              "#bd3786"
             ],
             [
              0.5555555555555556,
              "#d8576b"
             ],
             [
              0.6666666666666666,
              "#ed7953"
             ],
             [
              0.7777777777777778,
              "#fb9f3a"
             ],
             [
              0.8888888888888888,
              "#fdca26"
             ],
             [
              1,
              "#f0f921"
             ]
            ],
            "type": "histogram2d"
           }
          ],
          "histogram2dcontour": [
           {
            "colorbar": {
             "outlinewidth": 0,
             "ticks": ""
            },
            "colorscale": [
             [
              0,
              "#0d0887"
             ],
             [
              0.1111111111111111,
              "#46039f"
             ],
             [
              0.2222222222222222,
              "#7201a8"
             ],
             [
              0.3333333333333333,
              "#9c179e"
             ],
             [
              0.4444444444444444,
              "#bd3786"
             ],
             [
              0.5555555555555556,
              "#d8576b"
             ],
             [
              0.6666666666666666,
              "#ed7953"
             ],
             [
              0.7777777777777778,
              "#fb9f3a"
             ],
             [
              0.8888888888888888,
              "#fdca26"
             ],
             [
              1,
              "#f0f921"
             ]
            ],
            "type": "histogram2dcontour"
           }
          ],
          "mesh3d": [
           {
            "colorbar": {
             "outlinewidth": 0,
             "ticks": ""
            },
            "type": "mesh3d"
           }
          ],
          "parcoords": [
           {
            "line": {
             "colorbar": {
              "outlinewidth": 0,
              "ticks": ""
             }
            },
            "type": "parcoords"
           }
          ],
          "pie": [
           {
            "automargin": true,
            "type": "pie"
           }
          ],
          "scatter": [
           {
            "fillpattern": {
             "fillmode": "overlay",
             "size": 10,
             "solidity": 0.2
            },
            "type": "scatter"
           }
          ],
          "scatter3d": [
           {
            "line": {
             "colorbar": {
              "outlinewidth": 0,
              "ticks": ""
             }
            },
            "marker": {
             "colorbar": {
              "outlinewidth": 0,
              "ticks": ""
             }
            },
            "type": "scatter3d"
           }
          ],
          "scattercarpet": [
           {
            "marker": {
             "colorbar": {
              "outlinewidth": 0,
              "ticks": ""
             }
            },
            "type": "scattercarpet"
           }
          ],
          "scattergeo": [
           {
            "marker": {
             "colorbar": {
              "outlinewidth": 0,
              "ticks": ""
             }
            },
            "type": "scattergeo"
           }
          ],
          "scattergl": [
           {
            "marker": {
             "colorbar": {
              "outlinewidth": 0,
              "ticks": ""
             }
            },
            "type": "scattergl"
           }
          ],
          "scattermap": [
           {
            "marker": {
             "colorbar": {
              "outlinewidth": 0,
              "ticks": ""
             }
            },
            "type": "scattermap"
           }
          ],
          "scattermapbox": [
           {
            "marker": {
             "colorbar": {
              "outlinewidth": 0,
              "ticks": ""
             }
            },
            "type": "scattermapbox"
           }
          ],
          "scatterpolar": [
           {
            "marker": {
             "colorbar": {
              "outlinewidth": 0,
              "ticks": ""
             }
            },
            "type": "scatterpolar"
           }
          ],
          "scatterpolargl": [
           {
            "marker": {
             "colorbar": {
              "outlinewidth": 0,
              "ticks": ""
             }
            },
            "type": "scatterpolargl"
           }
          ],
          "scatterternary": [
           {
            "marker": {
             "colorbar": {
              "outlinewidth": 0,
              "ticks": ""
             }
            },
            "type": "scatterternary"
           }
          ],
          "surface": [
           {
            "colorbar": {
             "outlinewidth": 0,
             "ticks": ""
            },
            "colorscale": [
             [
              0,
              "#0d0887"
             ],
             [
              0.1111111111111111,
              "#46039f"
             ],
             [
              0.2222222222222222,
              "#7201a8"
             ],
             [
              0.3333333333333333,
              "#9c179e"
             ],
             [
              0.4444444444444444,
              "#bd3786"
             ],
             [
              0.5555555555555556,
              "#d8576b"
             ],
             [
              0.6666666666666666,
              "#ed7953"
             ],
             [
              0.7777777777777778,
              "#fb9f3a"
             ],
             [
              0.8888888888888888,
              "#fdca26"
             ],
             [
              1,
              "#f0f921"
             ]
            ],
            "type": "surface"
           }
          ],
          "table": [
           {
            "cells": {
             "fill": {
              "color": "#EBF0F8"
             },
             "line": {
              "color": "white"
             }
            },
            "header": {
             "fill": {
              "color": "#C8D4E3"
             },
             "line": {
              "color": "white"
             }
            },
            "type": "table"
           }
          ]
         },
         "layout": {
          "annotationdefaults": {
           "arrowcolor": "#2a3f5f",
           "arrowhead": 0,
           "arrowwidth": 1
          },
          "autotypenumbers": "strict",
          "coloraxis": {
           "colorbar": {
            "outlinewidth": 0,
            "ticks": ""
           }
          },
          "colorscale": {
           "diverging": [
            [
             0,
             "#8e0152"
            ],
            [
             0.1,
             "#c51b7d"
            ],
            [
             0.2,
             "#de77ae"
            ],
            [
             0.3,
             "#f1b6da"
            ],
            [
             0.4,
             "#fde0ef"
            ],
            [
             0.5,
             "#f7f7f7"
            ],
            [
             0.6,
             "#e6f5d0"
            ],
            [
             0.7,
             "#b8e186"
            ],
            [
             0.8,
             "#7fbc41"
            ],
            [
             0.9,
             "#4d9221"
            ],
            [
             1,
             "#276419"
            ]
           ],
           "sequential": [
            [
             0,
             "#0d0887"
            ],
            [
             0.1111111111111111,
             "#46039f"
            ],
            [
             0.2222222222222222,
             "#7201a8"
            ],
            [
             0.3333333333333333,
             "#9c179e"
            ],
            [
             0.4444444444444444,
             "#bd3786"
            ],
            [
             0.5555555555555556,
             "#d8576b"
            ],
            [
             0.6666666666666666,
             "#ed7953"
            ],
            [
             0.7777777777777778,
             "#fb9f3a"
            ],
            [
             0.8888888888888888,
             "#fdca26"
            ],
            [
             1,
             "#f0f921"
            ]
           ],
           "sequentialminus": [
            [
             0,
             "#0d0887"
            ],
            [
             0.1111111111111111,
             "#46039f"
            ],
            [
             0.2222222222222222,
             "#7201a8"
            ],
            [
             0.3333333333333333,
             "#9c179e"
            ],
            [
             0.4444444444444444,
             "#bd3786"
            ],
            [
             0.5555555555555556,
             "#d8576b"
            ],
            [
             0.6666666666666666,
             "#ed7953"
            ],
            [
             0.7777777777777778,
             "#fb9f3a"
            ],
            [
             0.8888888888888888,
             "#fdca26"
            ],
            [
             1,
             "#f0f921"
            ]
           ]
          },
          "colorway": [
           "#636efa",
           "#EF553B",
           "#00cc96",
           "#ab63fa",
           "#FFA15A",
           "#19d3f3",
           "#FF6692",
           "#B6E880",
           "#FF97FF",
           "#FECB52"
          ],
          "font": {
           "color": "#2a3f5f"
          },
          "geo": {
           "bgcolor": "white",
           "lakecolor": "white",
           "landcolor": "#E5ECF6",
           "showlakes": true,
           "showland": true,
           "subunitcolor": "white"
          },
          "hoverlabel": {
           "align": "left"
          },
          "hovermode": "closest",
          "mapbox": {
           "style": "light"
          },
          "paper_bgcolor": "white",
          "plot_bgcolor": "#E5ECF6",
          "polar": {
           "angularaxis": {
            "gridcolor": "white",
            "linecolor": "white",
            "ticks": ""
           },
           "bgcolor": "#E5ECF6",
           "radialaxis": {
            "gridcolor": "white",
            "linecolor": "white",
            "ticks": ""
           }
          },
          "scene": {
           "xaxis": {
            "backgroundcolor": "#E5ECF6",
            "gridcolor": "white",
            "gridwidth": 2,
            "linecolor": "white",
            "showbackground": true,
            "ticks": "",
            "zerolinecolor": "white"
           },
           "yaxis": {
            "backgroundcolor": "#E5ECF6",
            "gridcolor": "white",
            "gridwidth": 2,
            "linecolor": "white",
            "showbackground": true,
            "ticks": "",
            "zerolinecolor": "white"
           },
           "zaxis": {
            "backgroundcolor": "#E5ECF6",
            "gridcolor": "white",
            "gridwidth": 2,
            "linecolor": "white",
            "showbackground": true,
            "ticks": "",
            "zerolinecolor": "white"
           }
          },
          "shapedefaults": {
           "line": {
            "color": "#2a3f5f"
           }
          },
          "ternary": {
           "aaxis": {
            "gridcolor": "white",
            "linecolor": "white",
            "ticks": ""
           },
           "baxis": {
            "gridcolor": "white",
            "linecolor": "white",
            "ticks": ""
           },
           "bgcolor": "#E5ECF6",
           "caxis": {
            "gridcolor": "white",
            "linecolor": "white",
            "ticks": ""
           }
          },
          "title": {
           "x": 0.05
          },
          "xaxis": {
           "automargin": true,
           "gridcolor": "white",
           "linecolor": "white",
           "ticks": "",
           "title": {
            "standoff": 15
           },
           "zerolinecolor": "white",
           "zerolinewidth": 2
          },
          "yaxis": {
           "automargin": true,
           "gridcolor": "white",
           "linecolor": "white",
           "ticks": "",
           "title": {
            "standoff": 15
           },
           "zerolinecolor": "white",
           "zerolinewidth": 2
          }
         }
        },
        "title": {
         "text": "Who dominates portfolio risk each month?"
        },
        "xaxis": {
         "anchor": "y",
         "domain": [
          0,
          1
         ],
         "title": {
          "text": "Rebalance date"
         }
        },
        "yaxis": {
         "anchor": "x",
         "domain": [
          0,
          1
         ],
         "range": [
          0,
          11.223999999999998
         ],
         "title": {
          "text": "Sharpe contribution"
         }
        }
       }
      }
     },
     "metadata": {},
     "output_type": "display_data"
    }
   ],
   "source": [
    "\n",
    "top_per_period = pd.DataFrame({\n",
    "    \"date\":   rc_cvar_80.index,\n",
    "    \"asset\":  rc_cvar_80.idxmax(axis=1),    # ticker with largest share\n",
    "    \"share\":  rc_cvar_80.max(axis=1),       # that share in %\n",
    "})\n",
    "top_per_period[\"share\"] = top_per_period[\"share\"].round(2)  # nice labels\n",
    "\n",
    "# 2)  Plot – one bar per period, coloured by the winning asset\n",
    "fig_top = pexp.bar(\n",
    "    top_per_period,\n",
    "    x=\"date\",\n",
    "    y=\"share\",\n",
    "    color=\"asset\",\n",
    "    text=\"share\",\n",
    "    title=\"Who dominates portfolio risk each month?\",\n",
    "    labels={\"share\": \"Sharpe contribution\"},\n",
    "    height=400,\n",
    ")\n",
    "# fig_top.update_traces(texttemplate=\"%{text:.2f}%\", textposition=\"inside\")\n",
    "fig_top.update_layout(\n",
    "    yaxis=dict(range=[0, top_per_period[\"share\"].max() * 1.15]),\n",
    "    xaxis_title=\"Rebalance date\",\n",
    "    showlegend=True,\n",
    ")\n",
    "fig_top.show()                 # or .write_html(\"top_contributor.html\")\n"
   ]
  },
  {
   "cell_type": "code",
   "execution_count": 37,
   "id": "00083822",
   "metadata": {},
   "outputs": [
    {
     "data": {
      "application/vnd.plotly.v1+json": {
       "config": {
        "plotlyServerURL": "https://plot.ly"
       },
       "data": [
        {
         "hovertemplate": "asset=MRK<br>date=%{x}<br>Sharpe contribution=%{text}<extra></extra>",
         "legendgroup": "MRK",
         "marker": {
          "color": "#636efa",
          "pattern": {
           "shape": ""
          }
         },
         "name": "MRK",
         "orientation": "v",
         "showlegend": true,
         "text": {
          "bdata": "CtejcD0K5z8AAAAAAAAAAAAAAAAAAAAA",
          "dtype": "f8"
         },
         "textposition": "auto",
         "type": "bar",
         "x": [
          "2015-01-31T23:59:59.999999999",
          "2015-04-30T23:59:59.999999999",
          "2015-05-31T23:59:59.999999999"
         ],
         "xaxis": "x",
         "y": {
          "bdata": "CtejcD0K5z8AAAAAAAAAAAAAAAAAAAAA",
          "dtype": "f8"
         },
         "yaxis": "y"
        },
        {
         "hovertemplate": "asset=JNJ<br>date=%{x}<br>Sharpe contribution=%{text}<extra></extra>",
         "legendgroup": "JNJ",
         "marker": {
          "color": "#EF553B",
          "pattern": {
           "shape": ""
          }
         },
         "name": "JNJ",
         "orientation": "v",
         "showlegend": true,
         "text": {
          "bdata": "exSuR+F6hD8AAAAAAAAAAIXrUbgehds/XI/C9Shc7z/Xo3A9CtfrPwAAAAAAAAAAAAAAAAAAAAAAAAAAAAAAAAAAAAAAAAAAAAAAAAAAAAA=",
          "dtype": "f8"
         },
         "textposition": "auto",
         "type": "bar",
         "x": [
          "2015-02-28T23:59:59.999999999",
          "2015-03-31T23:59:59.999999999",
          "2015-12-31T23:59:59.999999999",
          "2016-01-31T23:59:59.999999999",
          "2016-02-29T23:59:59.999999999",
          "2016-03-31T23:59:59.999999999",
          "2016-04-30T23:59:59.999999999",
          "2016-05-31T23:59:59.999999999",
          "2016-06-30T23:59:59.999999999",
          "2016-07-31T23:59:59.999999999"
         ],
         "xaxis": "x",
         "y": {
          "bdata": "exSuR+F6hD8AAAAAAAAAAIXrUbgehds/XI/C9Shc7z/Xo3A9CtfrPwAAAAAAAAAAAAAAAAAAAAAAAAAAAAAAAAAAAAAAAAAAAAAAAAAAAAA=",
          "dtype": "f8"
         },
         "yaxis": "y"
        },
        {
         "hovertemplate": "asset=MSFT<br>date=%{x}<br>Sharpe contribution=%{text}<extra></extra>",
         "legendgroup": "MSFT",
         "marker": {
          "color": "#00cc96",
          "pattern": {
           "shape": ""
          }
         },
         "name": "MSFT",
         "orientation": "v",
         "showlegend": true,
         "text": {
          "bdata": "ZmZmZmZmAkA=",
          "dtype": "f8"
         },
         "textposition": "auto",
         "type": "bar",
         "x": [
          "2015-06-30T23:59:59.999999999"
         ],
         "xaxis": "x",
         "y": {
          "bdata": "ZmZmZmZmAkA=",
          "dtype": "f8"
         },
         "yaxis": "y"
        },
        {
         "hovertemplate": "asset=PFE<br>date=%{x}<br>Sharpe contribution=%{text}<extra></extra>",
         "legendgroup": "PFE",
         "marker": {
          "color": "#ab63fa",
          "pattern": {
           "shape": ""
          }
         },
         "name": "PFE",
         "orientation": "v",
         "showlegend": true,
         "text": {
          "bdata": "AAAAAAAAAAA=",
          "dtype": "f8"
         },
         "textposition": "auto",
         "type": "bar",
         "x": [
          "2015-07-31T23:59:59.999999999"
         ],
         "xaxis": "x",
         "y": {
          "bdata": "AAAAAAAAAAA=",
          "dtype": "f8"
         },
         "yaxis": "y"
        },
        {
         "hovertemplate": "asset=GOOGL<br>date=%{x}<br>Sharpe contribution=%{text}<extra></extra>",
         "legendgroup": "GOOGL",
         "marker": {
          "color": "#FFA15A",
          "pattern": {
           "shape": ""
          }
         },
         "name": "GOOGL",
         "orientation": "v",
         "showlegend": true,
         "text": {
          "bdata": "CtejcD0KIEBSuB6F61EgQAAAAAAAAAAAexSuR+F6tD8AAAAAAAAAAAAAAAAAAAAAAAAAAAAAAAAAAAAAAAAAAAAAAAAAAAAAAAAAAAAAAAAAAAAAAAAAAAAAAAAAAAAAAAAAAAAAAAB7FK5H4XqEPwAAAAAAAAAAAAAAAAAAAAAAAAAAAAAAAAAAAAAAAAAAexSuR+F6hD8AAAAAAAAAAHsUrkfheoQ/exSuR+F6hD97FK5H4XqEPwAAAAAAAAAAAAAAAAAAAAAAAAAAAAAAAAAAAAAAAAAAAAAAAAAAAAAAAAAAAAAAAAAAAAAAAAAAAAAAAAAAAAAAAAAAAAAAAAAAAAAAAAAAAAAAAAAAAAAAAAAAAAAAAAAAAAAAAAAAAAAAAAAAAAAAAAAAAAAAAAAAAAAAAAAAAAAAAAAAAAAAAAAAAAAAAAAAAAAAAAAAAAAAAAAAAAAAAAAAAAAAAA==",
          "dtype": "f8"
         },
         "textposition": "auto",
         "type": "bar",
         "x": [
          "2015-08-31T23:59:59.999999999",
          "2015-09-30T23:59:59.999999999",
          "2015-10-31T23:59:59.999999999",
          "2015-11-30T23:59:59.999999999",
          "2016-08-31T23:59:59.999999999",
          "2016-09-30T23:59:59.999999999",
          "2016-10-31T23:59:59.999999999",
          "2016-11-30T23:59:59.999999999",
          "2016-12-31T23:59:59.999999999",
          "2017-01-31T23:59:59.999999999",
          "2017-02-28T23:59:59.999999999",
          "2017-03-31T23:59:59.999999999",
          "2017-04-30T23:59:59.999999999",
          "2017-05-31T23:59:59.999999999",
          "2017-06-30T23:59:59.999999999",
          "2017-07-31T23:59:59.999999999",
          "2017-08-31T23:59:59.999999999",
          "2017-09-30T23:59:59.999999999",
          "2017-10-31T23:59:59.999999999",
          "2017-11-30T23:59:59.999999999",
          "2017-12-31T23:59:59.999999999",
          "2018-01-31T23:59:59.999999999",
          "2018-02-28T23:59:59.999999999",
          "2018-03-31T23:59:59.999999999",
          "2018-04-30T23:59:59.999999999",
          "2018-05-31T23:59:59.999999999",
          "2018-06-30T23:59:59.999999999",
          "2018-07-31T23:59:59.999999999",
          "2018-08-31T23:59:59.999999999",
          "2018-09-30T23:59:59.999999999",
          "2018-10-31T23:59:59.999999999",
          "2018-11-30T23:59:59.999999999",
          "2018-12-31T23:59:59.999999999",
          "2019-01-31T23:59:59.999999999",
          "2019-02-28T23:59:59.999999999",
          "2019-03-31T23:59:59.999999999",
          "2019-04-30T23:59:59.999999999",
          "2019-05-31T23:59:59.999999999",
          "2019-06-30T23:59:59.999999999",
          "2019-07-31T23:59:59.999999999",
          "2019-08-31T23:59:59.999999999",
          "2019-09-30T23:59:59.999999999",
          "2019-10-31T23:59:59.999999999",
          "2019-11-30T23:59:59.999999999"
         ],
         "xaxis": "x",
         "y": {
          "bdata": "CtejcD0KIEBSuB6F61EgQAAAAAAAAAAAexSuR+F6tD8AAAAAAAAAAAAAAAAAAAAAAAAAAAAAAAAAAAAAAAAAAAAAAAAAAAAAAAAAAAAAAAAAAAAAAAAAAAAAAAAAAAAAAAAAAAAAAAB7FK5H4XqEPwAAAAAAAAAAAAAAAAAAAAAAAAAAAAAAAAAAAAAAAAAAexSuR+F6hD8AAAAAAAAAAHsUrkfheoQ/exSuR+F6hD97FK5H4XqEPwAAAAAAAAAAAAAAAAAAAAAAAAAAAAAAAAAAAAAAAAAAAAAAAAAAAAAAAAAAAAAAAAAAAAAAAAAAAAAAAAAAAAAAAAAAAAAAAAAAAAAAAAAAAAAAAAAAAAAAAAAAAAAAAAAAAAAAAAAAAAAAAAAAAAAAAAAAAAAAAAAAAAAAAAAAAAAAAAAAAAAAAAAAAAAAAAAAAAAAAAAAAAAAAAAAAAAAAAAAAAAAAA==",
          "dtype": "f8"
         },
         "yaxis": "y"
        }
       ],
       "layout": {
        "barmode": "relative",
        "height": 400,
        "legend": {
         "title": {
          "text": "asset"
         },
         "tracegroupgap": 0
        },
        "showlegend": true,
        "template": {
         "data": {
          "bar": [
           {
            "error_x": {
             "color": "#2a3f5f"
            },
            "error_y": {
             "color": "#2a3f5f"
            },
            "marker": {
             "line": {
              "color": "#E5ECF6",
              "width": 0.5
             },
             "pattern": {
              "fillmode": "overlay",
              "size": 10,
              "solidity": 0.2
             }
            },
            "type": "bar"
           }
          ],
          "barpolar": [
           {
            "marker": {
             "line": {
              "color": "#E5ECF6",
              "width": 0.5
             },
             "pattern": {
              "fillmode": "overlay",
              "size": 10,
              "solidity": 0.2
             }
            },
            "type": "barpolar"
           }
          ],
          "carpet": [
           {
            "aaxis": {
             "endlinecolor": "#2a3f5f",
             "gridcolor": "white",
             "linecolor": "white",
             "minorgridcolor": "white",
             "startlinecolor": "#2a3f5f"
            },
            "baxis": {
             "endlinecolor": "#2a3f5f",
             "gridcolor": "white",
             "linecolor": "white",
             "minorgridcolor": "white",
             "startlinecolor": "#2a3f5f"
            },
            "type": "carpet"
           }
          ],
          "choropleth": [
           {
            "colorbar": {
             "outlinewidth": 0,
             "ticks": ""
            },
            "type": "choropleth"
           }
          ],
          "contour": [
           {
            "colorbar": {
             "outlinewidth": 0,
             "ticks": ""
            },
            "colorscale": [
             [
              0,
              "#0d0887"
             ],
             [
              0.1111111111111111,
              "#46039f"
             ],
             [
              0.2222222222222222,
              "#7201a8"
             ],
             [
              0.3333333333333333,
              "#9c179e"
             ],
             [
              0.4444444444444444,
              "#bd3786"
             ],
             [
              0.5555555555555556,
              "#d8576b"
             ],
             [
              0.6666666666666666,
              "#ed7953"
             ],
             [
              0.7777777777777778,
              "#fb9f3a"
             ],
             [
              0.8888888888888888,
              "#fdca26"
             ],
             [
              1,
              "#f0f921"
             ]
            ],
            "type": "contour"
           }
          ],
          "contourcarpet": [
           {
            "colorbar": {
             "outlinewidth": 0,
             "ticks": ""
            },
            "type": "contourcarpet"
           }
          ],
          "heatmap": [
           {
            "colorbar": {
             "outlinewidth": 0,
             "ticks": ""
            },
            "colorscale": [
             [
              0,
              "#0d0887"
             ],
             [
              0.1111111111111111,
              "#46039f"
             ],
             [
              0.2222222222222222,
              "#7201a8"
             ],
             [
              0.3333333333333333,
              "#9c179e"
             ],
             [
              0.4444444444444444,
              "#bd3786"
             ],
             [
              0.5555555555555556,
              "#d8576b"
             ],
             [
              0.6666666666666666,
              "#ed7953"
             ],
             [
              0.7777777777777778,
              "#fb9f3a"
             ],
             [
              0.8888888888888888,
              "#fdca26"
             ],
             [
              1,
              "#f0f921"
             ]
            ],
            "type": "heatmap"
           }
          ],
          "histogram": [
           {
            "marker": {
             "pattern": {
              "fillmode": "overlay",
              "size": 10,
              "solidity": 0.2
             }
            },
            "type": "histogram"
           }
          ],
          "histogram2d": [
           {
            "colorbar": {
             "outlinewidth": 0,
             "ticks": ""
            },
            "colorscale": [
             [
              0,
              "#0d0887"
             ],
             [
              0.1111111111111111,
              "#46039f"
             ],
             [
              0.2222222222222222,
              "#7201a8"
             ],
             [
              0.3333333333333333,
              "#9c179e"
             ],
             [
              0.4444444444444444,
              "#bd3786"
             ],
             [
              0.5555555555555556,
              "#d8576b"
             ],
             [
              0.6666666666666666,
              "#ed7953"
             ],
             [
              0.7777777777777778,
              "#fb9f3a"
             ],
             [
              0.8888888888888888,
              "#fdca26"
             ],
             [
              1,
              "#f0f921"
             ]
            ],
            "type": "histogram2d"
           }
          ],
          "histogram2dcontour": [
           {
            "colorbar": {
             "outlinewidth": 0,
             "ticks": ""
            },
            "colorscale": [
             [
              0,
              "#0d0887"
             ],
             [
              0.1111111111111111,
              "#46039f"
             ],
             [
              0.2222222222222222,
              "#7201a8"
             ],
             [
              0.3333333333333333,
              "#9c179e"
             ],
             [
              0.4444444444444444,
              "#bd3786"
             ],
             [
              0.5555555555555556,
              "#d8576b"
             ],
             [
              0.6666666666666666,
              "#ed7953"
             ],
             [
              0.7777777777777778,
              "#fb9f3a"
             ],
             [
              0.8888888888888888,
              "#fdca26"
             ],
             [
              1,
              "#f0f921"
             ]
            ],
            "type": "histogram2dcontour"
           }
          ],
          "mesh3d": [
           {
            "colorbar": {
             "outlinewidth": 0,
             "ticks": ""
            },
            "type": "mesh3d"
           }
          ],
          "parcoords": [
           {
            "line": {
             "colorbar": {
              "outlinewidth": 0,
              "ticks": ""
             }
            },
            "type": "parcoords"
           }
          ],
          "pie": [
           {
            "automargin": true,
            "type": "pie"
           }
          ],
          "scatter": [
           {
            "fillpattern": {
             "fillmode": "overlay",
             "size": 10,
             "solidity": 0.2
            },
            "type": "scatter"
           }
          ],
          "scatter3d": [
           {
            "line": {
             "colorbar": {
              "outlinewidth": 0,
              "ticks": ""
             }
            },
            "marker": {
             "colorbar": {
              "outlinewidth": 0,
              "ticks": ""
             }
            },
            "type": "scatter3d"
           }
          ],
          "scattercarpet": [
           {
            "marker": {
             "colorbar": {
              "outlinewidth": 0,
              "ticks": ""
             }
            },
            "type": "scattercarpet"
           }
          ],
          "scattergeo": [
           {
            "marker": {
             "colorbar": {
              "outlinewidth": 0,
              "ticks": ""
             }
            },
            "type": "scattergeo"
           }
          ],
          "scattergl": [
           {
            "marker": {
             "colorbar": {
              "outlinewidth": 0,
              "ticks": ""
             }
            },
            "type": "scattergl"
           }
          ],
          "scattermap": [
           {
            "marker": {
             "colorbar": {
              "outlinewidth": 0,
              "ticks": ""
             }
            },
            "type": "scattermap"
           }
          ],
          "scattermapbox": [
           {
            "marker": {
             "colorbar": {
              "outlinewidth": 0,
              "ticks": ""
             }
            },
            "type": "scattermapbox"
           }
          ],
          "scatterpolar": [
           {
            "marker": {
             "colorbar": {
              "outlinewidth": 0,
              "ticks": ""
             }
            },
            "type": "scatterpolar"
           }
          ],
          "scatterpolargl": [
           {
            "marker": {
             "colorbar": {
              "outlinewidth": 0,
              "ticks": ""
             }
            },
            "type": "scatterpolargl"
           }
          ],
          "scatterternary": [
           {
            "marker": {
             "colorbar": {
              "outlinewidth": 0,
              "ticks": ""
             }
            },
            "type": "scatterternary"
           }
          ],
          "surface": [
           {
            "colorbar": {
             "outlinewidth": 0,
             "ticks": ""
            },
            "colorscale": [
             [
              0,
              "#0d0887"
             ],
             [
              0.1111111111111111,
              "#46039f"
             ],
             [
              0.2222222222222222,
              "#7201a8"
             ],
             [
              0.3333333333333333,
              "#9c179e"
             ],
             [
              0.4444444444444444,
              "#bd3786"
             ],
             [
              0.5555555555555556,
              "#d8576b"
             ],
             [
              0.6666666666666666,
              "#ed7953"
             ],
             [
              0.7777777777777778,
              "#fb9f3a"
             ],
             [
              0.8888888888888888,
              "#fdca26"
             ],
             [
              1,
              "#f0f921"
             ]
            ],
            "type": "surface"
           }
          ],
          "table": [
           {
            "cells": {
             "fill": {
              "color": "#EBF0F8"
             },
             "line": {
              "color": "white"
             }
            },
            "header": {
             "fill": {
              "color": "#C8D4E3"
             },
             "line": {
              "color": "white"
             }
            },
            "type": "table"
           }
          ]
         },
         "layout": {
          "annotationdefaults": {
           "arrowcolor": "#2a3f5f",
           "arrowhead": 0,
           "arrowwidth": 1
          },
          "autotypenumbers": "strict",
          "coloraxis": {
           "colorbar": {
            "outlinewidth": 0,
            "ticks": ""
           }
          },
          "colorscale": {
           "diverging": [
            [
             0,
             "#8e0152"
            ],
            [
             0.1,
             "#c51b7d"
            ],
            [
             0.2,
             "#de77ae"
            ],
            [
             0.3,
             "#f1b6da"
            ],
            [
             0.4,
             "#fde0ef"
            ],
            [
             0.5,
             "#f7f7f7"
            ],
            [
             0.6,
             "#e6f5d0"
            ],
            [
             0.7,
             "#b8e186"
            ],
            [
             0.8,
             "#7fbc41"
            ],
            [
             0.9,
             "#4d9221"
            ],
            [
             1,
             "#276419"
            ]
           ],
           "sequential": [
            [
             0,
             "#0d0887"
            ],
            [
             0.1111111111111111,
             "#46039f"
            ],
            [
             0.2222222222222222,
             "#7201a8"
            ],
            [
             0.3333333333333333,
             "#9c179e"
            ],
            [
             0.4444444444444444,
             "#bd3786"
            ],
            [
             0.5555555555555556,
             "#d8576b"
            ],
            [
             0.6666666666666666,
             "#ed7953"
            ],
            [
             0.7777777777777778,
             "#fb9f3a"
            ],
            [
             0.8888888888888888,
             "#fdca26"
            ],
            [
             1,
             "#f0f921"
            ]
           ],
           "sequentialminus": [
            [
             0,
             "#0d0887"
            ],
            [
             0.1111111111111111,
             "#46039f"
            ],
            [
             0.2222222222222222,
             "#7201a8"
            ],
            [
             0.3333333333333333,
             "#9c179e"
            ],
            [
             0.4444444444444444,
             "#bd3786"
            ],
            [
             0.5555555555555556,
             "#d8576b"
            ],
            [
             0.6666666666666666,
             "#ed7953"
            ],
            [
             0.7777777777777778,
             "#fb9f3a"
            ],
            [
             0.8888888888888888,
             "#fdca26"
            ],
            [
             1,
             "#f0f921"
            ]
           ]
          },
          "colorway": [
           "#636efa",
           "#EF553B",
           "#00cc96",
           "#ab63fa",
           "#FFA15A",
           "#19d3f3",
           "#FF6692",
           "#B6E880",
           "#FF97FF",
           "#FECB52"
          ],
          "font": {
           "color": "#2a3f5f"
          },
          "geo": {
           "bgcolor": "white",
           "lakecolor": "white",
           "landcolor": "#E5ECF6",
           "showlakes": true,
           "showland": true,
           "subunitcolor": "white"
          },
          "hoverlabel": {
           "align": "left"
          },
          "hovermode": "closest",
          "mapbox": {
           "style": "light"
          },
          "paper_bgcolor": "white",
          "plot_bgcolor": "#E5ECF6",
          "polar": {
           "angularaxis": {
            "gridcolor": "white",
            "linecolor": "white",
            "ticks": ""
           },
           "bgcolor": "#E5ECF6",
           "radialaxis": {
            "gridcolor": "white",
            "linecolor": "white",
            "ticks": ""
           }
          },
          "scene": {
           "xaxis": {
            "backgroundcolor": "#E5ECF6",
            "gridcolor": "white",
            "gridwidth": 2,
            "linecolor": "white",
            "showbackground": true,
            "ticks": "",
            "zerolinecolor": "white"
           },
           "yaxis": {
            "backgroundcolor": "#E5ECF6",
            "gridcolor": "white",
            "gridwidth": 2,
            "linecolor": "white",
            "showbackground": true,
            "ticks": "",
            "zerolinecolor": "white"
           },
           "zaxis": {
            "backgroundcolor": "#E5ECF6",
            "gridcolor": "white",
            "gridwidth": 2,
            "linecolor": "white",
            "showbackground": true,
            "ticks": "",
            "zerolinecolor": "white"
           }
          },
          "shapedefaults": {
           "line": {
            "color": "#2a3f5f"
           }
          },
          "ternary": {
           "aaxis": {
            "gridcolor": "white",
            "linecolor": "white",
            "ticks": ""
           },
           "baxis": {
            "gridcolor": "white",
            "linecolor": "white",
            "ticks": ""
           },
           "bgcolor": "#E5ECF6",
           "caxis": {
            "gridcolor": "white",
            "linecolor": "white",
            "ticks": ""
           }
          },
          "title": {
           "x": 0.05
          },
          "xaxis": {
           "automargin": true,
           "gridcolor": "white",
           "linecolor": "white",
           "ticks": "",
           "title": {
            "standoff": 15
           },
           "zerolinecolor": "white",
           "zerolinewidth": 2
          },
          "yaxis": {
           "automargin": true,
           "gridcolor": "white",
           "linecolor": "white",
           "ticks": "",
           "title": {
            "standoff": 15
           },
           "zerolinecolor": "white",
           "zerolinewidth": 2
          }
         }
        },
        "title": {
         "text": "Who dominates portfolio risk each month?"
        },
        "xaxis": {
         "anchor": "y",
         "domain": [
          0,
          1
         ],
         "title": {
          "text": "Rebalance date"
         }
        },
        "yaxis": {
         "anchor": "x",
         "domain": [
          0,
          1
         ],
         "range": [
          0,
          9.383999999999999
         ],
         "title": {
          "text": "Sharpe contribution"
         }
        }
       }
      }
     },
     "metadata": {},
     "output_type": "display_data"
    }
   ],
   "source": [
    "\n",
    "top_per_period = pd.DataFrame({\n",
    "    \"date\":   rc_mv.index,\n",
    "    \"asset\":  rc_mv.idxmax(axis=1),    # ticker with largest share\n",
    "    \"share\":  rc_mv.max(axis=1),       # that share in %\n",
    "})\n",
    "top_per_period[\"share\"] = top_per_period[\"share\"].round(2)  # nice labels\n",
    "\n",
    "# 2)  Plot – one bar per period, coloured by the winning asset\n",
    "fig_top = pexp.bar(\n",
    "    top_per_period,\n",
    "    x=\"date\",\n",
    "    y=\"share\",\n",
    "    color=\"asset\",\n",
    "    text=\"share\",\n",
    "    title=\"Who dominates portfolio risk each month?\",\n",
    "    labels={\"share\": \"Sharpe contribution\"},\n",
    "    height=400,\n",
    ")\n",
    "# fig_top.update_traces(texttemplate=\"%{text:.2f}%\", textposition=\"inside\")\n",
    "fig_top.update_layout(\n",
    "    yaxis=dict(range=[0, top_per_period[\"share\"].max() * 1.15]),\n",
    "    xaxis_title=\"Rebalance date\",\n",
    "    showlegend=True,\n",
    ")\n",
    "\n",
    "fig_top.show()                 # or .write_html(\"top_contributor.html\")\n"
   ]
  },
  {
   "cell_type": "code",
   "execution_count": 74,
   "id": "e37695d1",
   "metadata": {},
   "outputs": [
    {
     "data": {
      "application/vnd.plotly.v1+json": {
       "config": {
        "plotlyServerURL": "https://plot.ly"
       },
       "data": [
        {
         "hoverinfo": "text",
         "hovertext": [
          "GOOGL<br>Δ-Sharpe: +0.7386",
          "PFE<br>Δ-Sharpe: -0.5633",
          "COP<br>Δ-Sharpe: -0.1556",
          "MRK<br>Δ-Sharpe: -0.0333",
          "JNJ<br>Δ-Sharpe: +0.0317",
          "AAPL<br>Δ-Sharpe: -0.0181",
          "XOM<br>Δ-Sharpe: +0.0000",
          "MSFT<br>Δ-Sharpe: +0.0000",
          "CVX<br>Δ-Sharpe: +0.0000"
         ],
         "marker": {
          "color": [
           "rgba(34,161,57,0.8)",
           "rgba(218,39,39,0.8)",
           "rgba(218,39,39,0.8)",
           "rgba(218,39,39,0.8)",
           "rgba(34,161,57,0.8)",
           "rgba(218,39,39,0.8)",
           "rgba(34,161,57,0.8)",
           "rgba(34,161,57,0.8)",
           "rgba(34,161,57,0.8)"
          ]
         },
         "orientation": "h",
         "text": [
          "+0.7386",
          "-0.5633",
          "-0.1556",
          "-0.0333",
          "+0.0317",
          "-0.0181",
          "+0.0000",
          "+0.0000",
          "+0.0000"
         ],
         "textposition": "outside",
         "type": "bar",
         "x": {
          "bdata": "/ogrXtSi5z+Y3Nm9fQbiv+6Ehbzt6sO/ls1KjKURob/30y+xuDigP/HN+3KMgZK/FoIrYKsz5D0j8O5JUrW4Pbk+mMQWjK89",
          "dtype": "f8"
         },
         "y": [
          "GOOGL",
          "PFE",
          "COP",
          "MRK",
          "JNJ",
          "AAPL",
          "XOM",
          "MSFT",
          "CVX"
         ]
        }
       ],
       "layout": {
        "bargap": 0.25,
        "height": 400,
        "template": {
         "data": {
          "bar": [
           {
            "error_x": {
             "color": "#2a3f5f"
            },
            "error_y": {
             "color": "#2a3f5f"
            },
            "marker": {
             "line": {
              "color": "white",
              "width": 0.5
             },
             "pattern": {
              "fillmode": "overlay",
              "size": 10,
              "solidity": 0.2
             }
            },
            "type": "bar"
           }
          ],
          "barpolar": [
           {
            "marker": {
             "line": {
              "color": "white",
              "width": 0.5
             },
             "pattern": {
              "fillmode": "overlay",
              "size": 10,
              "solidity": 0.2
             }
            },
            "type": "barpolar"
           }
          ],
          "carpet": [
           {
            "aaxis": {
             "endlinecolor": "#2a3f5f",
             "gridcolor": "#C8D4E3",
             "linecolor": "#C8D4E3",
             "minorgridcolor": "#C8D4E3",
             "startlinecolor": "#2a3f5f"
            },
            "baxis": {
             "endlinecolor": "#2a3f5f",
             "gridcolor": "#C8D4E3",
             "linecolor": "#C8D4E3",
             "minorgridcolor": "#C8D4E3",
             "startlinecolor": "#2a3f5f"
            },
            "type": "carpet"
           }
          ],
          "choropleth": [
           {
            "colorbar": {
             "outlinewidth": 0,
             "ticks": ""
            },
            "type": "choropleth"
           }
          ],
          "contour": [
           {
            "colorbar": {
             "outlinewidth": 0,
             "ticks": ""
            },
            "colorscale": [
             [
              0,
              "#0d0887"
             ],
             [
              0.1111111111111111,
              "#46039f"
             ],
             [
              0.2222222222222222,
              "#7201a8"
             ],
             [
              0.3333333333333333,
              "#9c179e"
             ],
             [
              0.4444444444444444,
              "#bd3786"
             ],
             [
              0.5555555555555556,
              "#d8576b"
             ],
             [
              0.6666666666666666,
              "#ed7953"
             ],
             [
              0.7777777777777778,
              "#fb9f3a"
             ],
             [
              0.8888888888888888,
              "#fdca26"
             ],
             [
              1,
              "#f0f921"
             ]
            ],
            "type": "contour"
           }
          ],
          "contourcarpet": [
           {
            "colorbar": {
             "outlinewidth": 0,
             "ticks": ""
            },
            "type": "contourcarpet"
           }
          ],
          "heatmap": [
           {
            "colorbar": {
             "outlinewidth": 0,
             "ticks": ""
            },
            "colorscale": [
             [
              0,
              "#0d0887"
             ],
             [
              0.1111111111111111,
              "#46039f"
             ],
             [
              0.2222222222222222,
              "#7201a8"
             ],
             [
              0.3333333333333333,
              "#9c179e"
             ],
             [
              0.4444444444444444,
              "#bd3786"
             ],
             [
              0.5555555555555556,
              "#d8576b"
             ],
             [
              0.6666666666666666,
              "#ed7953"
             ],
             [
              0.7777777777777778,
              "#fb9f3a"
             ],
             [
              0.8888888888888888,
              "#fdca26"
             ],
             [
              1,
              "#f0f921"
             ]
            ],
            "type": "heatmap"
           }
          ],
          "histogram": [
           {
            "marker": {
             "pattern": {
              "fillmode": "overlay",
              "size": 10,
              "solidity": 0.2
             }
            },
            "type": "histogram"
           }
          ],
          "histogram2d": [
           {
            "colorbar": {
             "outlinewidth": 0,
             "ticks": ""
            },
            "colorscale": [
             [
              0,
              "#0d0887"
             ],
             [
              0.1111111111111111,
              "#46039f"
             ],
             [
              0.2222222222222222,
              "#7201a8"
             ],
             [
              0.3333333333333333,
              "#9c179e"
             ],
             [
              0.4444444444444444,
              "#bd3786"
             ],
             [
              0.5555555555555556,
              "#d8576b"
             ],
             [
              0.6666666666666666,
              "#ed7953"
             ],
             [
              0.7777777777777778,
              "#fb9f3a"
             ],
             [
              0.8888888888888888,
              "#fdca26"
             ],
             [
              1,
              "#f0f921"
             ]
            ],
            "type": "histogram2d"
           }
          ],
          "histogram2dcontour": [
           {
            "colorbar": {
             "outlinewidth": 0,
             "ticks": ""
            },
            "colorscale": [
             [
              0,
              "#0d0887"
             ],
             [
              0.1111111111111111,
              "#46039f"
             ],
             [
              0.2222222222222222,
              "#7201a8"
             ],
             [
              0.3333333333333333,
              "#9c179e"
             ],
             [
              0.4444444444444444,
              "#bd3786"
             ],
             [
              0.5555555555555556,
              "#d8576b"
             ],
             [
              0.6666666666666666,
              "#ed7953"
             ],
             [
              0.7777777777777778,
              "#fb9f3a"
             ],
             [
              0.8888888888888888,
              "#fdca26"
             ],
             [
              1,
              "#f0f921"
             ]
            ],
            "type": "histogram2dcontour"
           }
          ],
          "mesh3d": [
           {
            "colorbar": {
             "outlinewidth": 0,
             "ticks": ""
            },
            "type": "mesh3d"
           }
          ],
          "parcoords": [
           {
            "line": {
             "colorbar": {
              "outlinewidth": 0,
              "ticks": ""
             }
            },
            "type": "parcoords"
           }
          ],
          "pie": [
           {
            "automargin": true,
            "type": "pie"
           }
          ],
          "scatter": [
           {
            "fillpattern": {
             "fillmode": "overlay",
             "size": 10,
             "solidity": 0.2
            },
            "type": "scatter"
           }
          ],
          "scatter3d": [
           {
            "line": {
             "colorbar": {
              "outlinewidth": 0,
              "ticks": ""
             }
            },
            "marker": {
             "colorbar": {
              "outlinewidth": 0,
              "ticks": ""
             }
            },
            "type": "scatter3d"
           }
          ],
          "scattercarpet": [
           {
            "marker": {
             "colorbar": {
              "outlinewidth": 0,
              "ticks": ""
             }
            },
            "type": "scattercarpet"
           }
          ],
          "scattergeo": [
           {
            "marker": {
             "colorbar": {
              "outlinewidth": 0,
              "ticks": ""
             }
            },
            "type": "scattergeo"
           }
          ],
          "scattergl": [
           {
            "marker": {
             "colorbar": {
              "outlinewidth": 0,
              "ticks": ""
             }
            },
            "type": "scattergl"
           }
          ],
          "scattermap": [
           {
            "marker": {
             "colorbar": {
              "outlinewidth": 0,
              "ticks": ""
             }
            },
            "type": "scattermap"
           }
          ],
          "scattermapbox": [
           {
            "marker": {
             "colorbar": {
              "outlinewidth": 0,
              "ticks": ""
             }
            },
            "type": "scattermapbox"
           }
          ],
          "scatterpolar": [
           {
            "marker": {
             "colorbar": {
              "outlinewidth": 0,
              "ticks": ""
             }
            },
            "type": "scatterpolar"
           }
          ],
          "scatterpolargl": [
           {
            "marker": {
             "colorbar": {
              "outlinewidth": 0,
              "ticks": ""
             }
            },
            "type": "scatterpolargl"
           }
          ],
          "scatterternary": [
           {
            "marker": {
             "colorbar": {
              "outlinewidth": 0,
              "ticks": ""
             }
            },
            "type": "scatterternary"
           }
          ],
          "surface": [
           {
            "colorbar": {
             "outlinewidth": 0,
             "ticks": ""
            },
            "colorscale": [
             [
              0,
              "#0d0887"
             ],
             [
              0.1111111111111111,
              "#46039f"
             ],
             [
              0.2222222222222222,
              "#7201a8"
             ],
             [
              0.3333333333333333,
              "#9c179e"
             ],
             [
              0.4444444444444444,
              "#bd3786"
             ],
             [
              0.5555555555555556,
              "#d8576b"
             ],
             [
              0.6666666666666666,
              "#ed7953"
             ],
             [
              0.7777777777777778,
              "#fb9f3a"
             ],
             [
              0.8888888888888888,
              "#fdca26"
             ],
             [
              1,
              "#f0f921"
             ]
            ],
            "type": "surface"
           }
          ],
          "table": [
           {
            "cells": {
             "fill": {
              "color": "#EBF0F8"
             },
             "line": {
              "color": "white"
             }
            },
            "header": {
             "fill": {
              "color": "#C8D4E3"
             },
             "line": {
              "color": "white"
             }
            },
            "type": "table"
           }
          ]
         },
         "layout": {
          "annotationdefaults": {
           "arrowcolor": "#2a3f5f",
           "arrowhead": 0,
           "arrowwidth": 1
          },
          "autotypenumbers": "strict",
          "coloraxis": {
           "colorbar": {
            "outlinewidth": 0,
            "ticks": ""
           }
          },
          "colorscale": {
           "diverging": [
            [
             0,
             "#8e0152"
            ],
            [
             0.1,
             "#c51b7d"
            ],
            [
             0.2,
             "#de77ae"
            ],
            [
             0.3,
             "#f1b6da"
            ],
            [
             0.4,
             "#fde0ef"
            ],
            [
             0.5,
             "#f7f7f7"
            ],
            [
             0.6,
             "#e6f5d0"
            ],
            [
             0.7,
             "#b8e186"
            ],
            [
             0.8,
             "#7fbc41"
            ],
            [
             0.9,
             "#4d9221"
            ],
            [
             1,
             "#276419"
            ]
           ],
           "sequential": [
            [
             0,
             "#0d0887"
            ],
            [
             0.1111111111111111,
             "#46039f"
            ],
            [
             0.2222222222222222,
             "#7201a8"
            ],
            [
             0.3333333333333333,
             "#9c179e"
            ],
            [
             0.4444444444444444,
             "#bd3786"
            ],
            [
             0.5555555555555556,
             "#d8576b"
            ],
            [
             0.6666666666666666,
             "#ed7953"
            ],
            [
             0.7777777777777778,
             "#fb9f3a"
            ],
            [
             0.8888888888888888,
             "#fdca26"
            ],
            [
             1,
             "#f0f921"
            ]
           ],
           "sequentialminus": [
            [
             0,
             "#0d0887"
            ],
            [
             0.1111111111111111,
             "#46039f"
            ],
            [
             0.2222222222222222,
             "#7201a8"
            ],
            [
             0.3333333333333333,
             "#9c179e"
            ],
            [
             0.4444444444444444,
             "#bd3786"
            ],
            [
             0.5555555555555556,
             "#d8576b"
            ],
            [
             0.6666666666666666,
             "#ed7953"
            ],
            [
             0.7777777777777778,
             "#fb9f3a"
            ],
            [
             0.8888888888888888,
             "#fdca26"
            ],
            [
             1,
             "#f0f921"
            ]
           ]
          },
          "colorway": [
           "#636efa",
           "#EF553B",
           "#00cc96",
           "#ab63fa",
           "#FFA15A",
           "#19d3f3",
           "#FF6692",
           "#B6E880",
           "#FF97FF",
           "#FECB52"
          ],
          "font": {
           "color": "#2a3f5f"
          },
          "geo": {
           "bgcolor": "white",
           "lakecolor": "white",
           "landcolor": "white",
           "showlakes": true,
           "showland": true,
           "subunitcolor": "#C8D4E3"
          },
          "hoverlabel": {
           "align": "left"
          },
          "hovermode": "closest",
          "mapbox": {
           "style": "light"
          },
          "paper_bgcolor": "white",
          "plot_bgcolor": "white",
          "polar": {
           "angularaxis": {
            "gridcolor": "#EBF0F8",
            "linecolor": "#EBF0F8",
            "ticks": ""
           },
           "bgcolor": "white",
           "radialaxis": {
            "gridcolor": "#EBF0F8",
            "linecolor": "#EBF0F8",
            "ticks": ""
           }
          },
          "scene": {
           "xaxis": {
            "backgroundcolor": "white",
            "gridcolor": "#DFE8F3",
            "gridwidth": 2,
            "linecolor": "#EBF0F8",
            "showbackground": true,
            "ticks": "",
            "zerolinecolor": "#EBF0F8"
           },
           "yaxis": {
            "backgroundcolor": "white",
            "gridcolor": "#DFE8F3",
            "gridwidth": 2,
            "linecolor": "#EBF0F8",
            "showbackground": true,
            "ticks": "",
            "zerolinecolor": "#EBF0F8"
           },
           "zaxis": {
            "backgroundcolor": "white",
            "gridcolor": "#DFE8F3",
            "gridwidth": 2,
            "linecolor": "#EBF0F8",
            "showbackground": true,
            "ticks": "",
            "zerolinecolor": "#EBF0F8"
           }
          },
          "shapedefaults": {
           "line": {
            "color": "#2a3f5f"
           }
          },
          "ternary": {
           "aaxis": {
            "gridcolor": "#DFE8F3",
            "linecolor": "#A2B1C6",
            "ticks": ""
           },
           "baxis": {
            "gridcolor": "#DFE8F3",
            "linecolor": "#A2B1C6",
            "ticks": ""
           },
           "bgcolor": "white",
           "caxis": {
            "gridcolor": "#DFE8F3",
            "linecolor": "#A2B1C6",
            "ticks": ""
           }
          },
          "title": {
           "x": 0.05
          },
          "xaxis": {
           "automargin": true,
           "gridcolor": "#EBF0F8",
           "linecolor": "#EBF0F8",
           "ticks": "",
           "title": {
            "standoff": 15
           },
           "zerolinecolor": "#EBF0F8",
           "zerolinewidth": 2
          },
          "yaxis": {
           "automargin": true,
           "gridcolor": "#EBF0F8",
           "linecolor": "#EBF0F8",
           "ticks": "",
           "title": {
            "standoff": 15
           },
           "zerolinecolor": "#EBF0F8",
           "zerolinewidth": 2
          }
         }
        },
        "title": {
         "text": "Marginal Sharpe Contributions<br><span style='font-size:0.8em'>(sum = +6.2156e-15)</span>",
         "y": 0.95
        },
        "xaxis": {
         "title": {
          "text": "Δ Sharpe"
         }
        },
        "yaxis": {
         "autorange": "reversed",
         "title": {
          "text": "Asset"
         }
        }
       }
      }
     },
     "metadata": {},
     "output_type": "display_data"
    }
   ],
   "source": [
    "import pandas as pd\n",
    "import numpy as np\n",
    "import plotly.graph_objects as go\n",
    "from plotly.subplots import make_subplots\n",
    "\n",
    "# ── 1.  pick the single-period contribution vector ────────────────────────────\n",
    "# rc_cvar_80.iloc[30] is assumed to be a Pandas Series: index = asset names,\n",
    "# values = marginal Sharpe contributions\n",
    "sharpe_contrib = rc_cvar_80.iloc[6]\n",
    "\n",
    "# ── 2.  reorder for visual impact  (largest |Δ| on top) ───────────────────────\n",
    "sharpe_contrib = sharpe_contrib.reindex(\n",
    "    sharpe_contrib.abs().sort_values(ascending=False).index\n",
    ")\n",
    "\n",
    "# ── 3.  build bar colours & hover text ────────────────────────────────────────\n",
    "colors = np.where(sharpe_contrib >= 0, \"rgba(34,161,57,0.8)\",  # greenish\n",
    "                                   \"rgba(218,39,39,0.8)\")      # reddish\n",
    "hover = (sharpe_contrib.index + \"<br>Δ-Sharpe: \" +\n",
    "         sharpe_contrib.map(\"{:+.4f}\".format))\n",
    "\n",
    "# ── 4.  create the figure ─────────────────────────────────────────────────────\n",
    "fig = go.Figure(go.Bar(\n",
    "    x=sharpe_contrib.values,\n",
    "    y=sharpe_contrib.index,\n",
    "    orientation=\"h\",\n",
    "    marker_color=colors,\n",
    "    text=sharpe_contrib.map(\"{:+.4f}\".format),\n",
    "    textposition=\"outside\",\n",
    "    hovertext=hover,\n",
    "    hoverinfo=\"text\",\n",
    "))\n",
    "\n",
    "fig.update_layout(\n",
    "    title=dict(\n",
    "        text=\"Marginal Sharpe Contributions<br>\"\n",
    "             f\"<span style='font-size:0.8em'>(sum = {sharpe_contrib.sum():+.4e})</span>\",\n",
    "        y=0.95\n",
    "    ),\n",
    "    xaxis_title=\"Δ Sharpe\",\n",
    "    yaxis_title=\"Asset\",\n",
    "    yaxis=dict(autorange=\"reversed\"),  # largest at top\n",
    "    bargap=0.25,\n",
    "    template=\"plotly_white\",\n",
    "    height=max(400, 20 * len(sharpe_contrib))  # auto-stretch for many assets\n",
    ")\n",
    "\n",
    "fig.show()\n"
   ]
  },
  {
   "cell_type": "code",
   "execution_count": 71,
   "id": "703fe01f",
   "metadata": {},
   "outputs": [
    {
     "data": {
      "text/plain": [
       "company\n",
       "AAPL     9.475766e-03\n",
       "COP      3.037150e-02\n",
       "CVX      2.723999e-14\n",
       "GOOGL    1.874350e-01\n",
       "JNJ      6.936272e-02\n",
       "MRK      1.919284e-01\n",
       "MSFT     2.839389e-14\n",
       "PFE      1.820390e-01\n",
       "XOM      3.293877e-01\n",
       "Name: 2017-08-31 23:59:59.999999999, dtype: float64"
      ]
     },
     "execution_count": 71,
     "metadata": {},
     "output_type": "execute_result"
    }
   ],
   "source": [
    "ka = rc_cvar_80.iloc[30]\n",
    "# k = ka['weights']\n",
    "k = ka[ka>1e-10]\n",
    "# k , k.sum(), \n",
    "# p = k\n",
    "pexp.pie(k,names=k.index, values=k.values)\n",
    "w_cvar_80.iloc[30]"
   ]
  },
  {
   "cell_type": "code",
   "execution_count": 38,
   "id": "fb37c815",
   "metadata": {},
   "outputs": [],
   "source": [
    "# rc_mv.abs()"
   ]
  },
  {
   "cell_type": "code",
   "execution_count": 39,
   "id": "1152bfb6",
   "metadata": {},
   "outputs": [],
   "source": [
    "# rc_mv.max(axis=1)"
   ]
  },
  {
   "cell_type": "code",
   "execution_count": null,
   "id": "f96035eb",
   "metadata": {},
   "outputs": [],
   "source": []
  },
  {
   "cell_type": "code",
   "execution_count": 40,
   "id": "8e30f81a",
   "metadata": {},
   "outputs": [],
   "source": [
    "import pandas as pd"
   ]
  },
  {
   "cell_type": "code",
   "execution_count": 41,
   "id": "98a1c740",
   "metadata": {},
   "outputs": [],
   "source": [
    "periods = pd.period_range(prices.index.min(), prices.index.max(), freq=FREQ)\n",
    "p = 2\n",
    "R = log_returns(prices.loc[: periods[p].end_time])"
   ]
  },
  {
   "cell_type": "code",
   "execution_count": 42,
   "id": "29ff24b1",
   "metadata": {},
   "outputs": [
    {
     "data": {
      "text/plain": [
       "(company\n",
       " COP      0.045597\n",
       " GOOGL    0.097989\n",
       " JNJ      0.548025\n",
       " MRK      0.138019\n",
       " PFE      0.170370\n",
       " Name: weight, dtype: float64,\n",
       " np.float64(0.9999999999900633))"
      ]
     },
     "execution_count": 42,
     "metadata": {},
     "output_type": "execute_result"
    }
   ],
   "source": [
    "\n",
    "\n",
    "ka = optimise_cvar(R, 0.80, TARGET_RETURN, SHORT_CAP)\n",
    "k = ka['weights']\n",
    "k = k[k>1e-3]\n",
    "\n",
    "k , k.sum()"
   ]
  },
  {
   "cell_type": "code",
   "execution_count": 43,
   "id": "6a52b190",
   "metadata": {},
   "outputs": [
    {
     "data": {
      "text/plain": [
       "{'weights': company\n",
       " AAPL     4.771334e-12\n",
       " COP      4.559669e-02\n",
       " CVX      9.777097e-13\n",
       " GOOGL    9.798934e-02\n",
       " JNJ      5.480251e-01\n",
       " MRK      1.380186e-01\n",
       " MSFT     3.092940e-13\n",
       " PFE      1.703703e-01\n",
       " XOM      3.878290e-12\n",
       " Name: weight, dtype: float64,\n",
       " 'expected_return': 0.00020522627493911922,\n",
       " 'VaR': array(0.0129318),\n",
       " 'CVaR': np.float64(0.030449983354779463),\n",
       " 'status': 'optimal'}"
      ]
     },
     "execution_count": 43,
     "metadata": {},
     "output_type": "execute_result"
    }
   ],
   "source": [
    "ka"
   ]
  },
  {
   "cell_type": "code",
   "execution_count": null,
   "id": "db094107",
   "metadata": {},
   "outputs": [],
   "source": []
  },
  {
   "cell_type": "code",
   "execution_count": null,
   "id": "6d24ea38",
   "metadata": {},
   "outputs": [],
   "source": []
  }
 ],
 "metadata": {
  "kernelspec": {
   "display_name": "venv",
   "language": "python",
   "name": "python3"
  },
  "language_info": {
   "codemirror_mode": {
    "name": "ipython",
    "version": 3
   },
   "file_extension": ".py",
   "mimetype": "text/x-python",
   "name": "python",
   "nbconvert_exporter": "python",
   "pygments_lexer": "ipython3",
   "version": "3.11.4"
  }
 },
 "nbformat": 4,
 "nbformat_minor": 5
}
